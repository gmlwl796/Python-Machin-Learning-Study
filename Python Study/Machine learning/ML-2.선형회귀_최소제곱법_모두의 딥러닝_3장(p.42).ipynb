{
 "cells": [
  {
   "cell_type": "markdown",
   "metadata": {},
   "source": [
    "# <font color = blue>회귀분석에 대한 이해</font>"
   ]
  },
  {
   "cell_type": "markdown",
   "metadata": {},
   "source": [
    "### 회귀분석(regression analysis)"
   ]
  },
  {
   "cell_type": "markdown",
   "metadata": {},
   "source": [
    "* 피처(입력/예측/독립)변수의 변화에 따라 타깃(출력/반응/종속)변수가 어떻게 변하는지를 설명하는 관계식을 찾는 방법\n",
    "* 이 관계식을 도출해 임의의 피처값을 투입하여, 미래 타깃값을 예측하기 위한 목적으로 사용함\n",
    "* 보통 <font color = 'red'>타깃변수는 연속척도를 기준으로 하므로 수치를 예측</font>하는 분석임"
   ]
  },
  {
   "cell_type": "markdown",
   "metadata": {},
   "source": [
    "<img src = './../../images/all_linear.png'>"
   ]
  },
  {
   "cell_type": "markdown",
   "metadata": {},
   "source": [
    "### 선형회귀(linear regression)"
   ]
  },
  {
   "cell_type": "markdown",
   "metadata": {},
   "source": [
    "* 피처변수들의 회귀계수(coefficient)들을 선형적으로 결합(단순한 더하기로 연결)해 타깃변수 예측이 가능한 분석\n",
    "* 회귀예측식에 1차항(x), 2차항(x^2), 3차항(x^3) 또는 로그(log(x)) 등은 상관이 없으며, \n",
    "<br>각 <font color = 'red'>독립변수들 마다의 회귀계수들이 하나씩 존재하고, 이를 더하기로 연결해 하나의 예측식 구성이 가능한지</font>가 관건임\n",
    "* 대표적인 방법: 최소제곱법/자승법(method of least squeres, Least Squared Method)"
   ]
  },
  {
   "cell_type": "markdown",
   "metadata": {},
   "source": [
    "<img src = './../../images/linear.png'>\n",
    "\n",
    "\n",
    "- 독립변수B가 제곱이던 세제곱이던 개별 변수별로 따로 존재 (단독으로 존재)\n",
    "- 또한 더하기로 이루어져있어서 일차식으로 표현 가능"
   ]
  },
  {
   "cell_type": "markdown",
   "metadata": {},
   "source": [
    "### 비선형회귀(non-linear regression)"
   ]
  },
  {
   "cell_type": "markdown",
   "metadata": {},
   "source": [
    "* 타깃변수 예측을 위한 피처변수들의 회귀계수(coefficient)들을 선형적으로 결합(단순한 더하기로 연결)하기 어려운 분석\n",
    "* 회귀예측식을 구성하는 개별 피처들의 <font color = 'red'>회귀계수가 여러 개로 분리되어 있어 하나의 회귀계수로 나타내기가 어려움</font> \n",
    "* 대표적인 방법: 스플라인(spline)회귀, 일반화가법모형(Generalized Additive Models), 의사결정나무(Decision Trees)"
   ]
  },
  {
   "cell_type": "markdown",
   "metadata": {},
   "source": [
    "<img src = './../../images/nonlinear.png'>\n",
    "\n",
    "- 비선형회귀의 식을 보면 독립변수가 분자분모로 찢어져있고 B가 단순한 더하기가 아닌 분자 분모에 있어서 비선형임. 1차식으로 변경하기 힘들다."
   ]
  },
  {
   "cell_type": "markdown",
   "metadata": {},
   "source": [
    "### 일반화선형회귀(generalized-linear regression)"
   ]
  },
  {
   "cell_type": "markdown",
   "metadata": {},
   "source": [
    "* 회귀분석이나 분산분석은 종속변수가 정규분포로 구성되어 있는 연속형 변수이므로 수치를 예측하는 분석임 \n",
    "* 일반화 선형 모형은 <font color = 'red'>종속변수가 정규분포 형태가 아닌 범주형 종속변수인 경우</font>를 포함하는 선형모형의 확장임\n",
    "\n",
    "* 종속변수가 범주형 변수인 경우 정규분포가 아니므로 연속선상의 수치예측이 아닌 범주 중의 하나일 확률을 예측하게 됨\n",
    "    - 이항변수(0 또는 1, 합격/불합격, 사망/생존 등)인 경우\n",
    "    - 다항변수(poor/good/excellent 또는 음성/양성/악성 등)인 경우\n",
    "    - 대표적인 방법: 로지스틱회귀(Logistic regression)\n",
    "<img src = './../../images/logit.png'>\n",
    "* 종속변수가 빈도/횟수 등의 count 변수인 경우 \n",
    "    - 한 주간 교통사고 발생 건수, 하루에 마시는 물이 몇잔인지 등\n",
    "    - 이들 값은 매우 제한적이며 음수가 되지 않고 평균과 분산이 밀접하게 관련되어 있고 정규분포하지 않음\n",
    "    - 대표적 방법: 포아송회귀(Poisson regression)\n",
    "    \n",
    "<br>\n",
    "\n",
    "- 식만 보면 독립변수 x가 분모하고 분자로 찢어져있어서 하나의 식으로 만들기 어려운데 이아이는 변형이 가능. x를 한곳에다 둘 수 있어 ->선형회귀\n",
    "- 또한 종속변수가 임의의 값을 예측하는 것이 아닌 주로 0과 1로 구성하기 때문에 가능"
   ]
  },
  {
   "cell_type": "markdown",
   "metadata": {},
   "source": [
    "# <font color = blue>회귀(수치)예측선 도출을 위한 최소제곱법에 대한 이해</font>"
   ]
  },
  {
   "cell_type": "markdown",
   "metadata": {},
   "source": [
    "### 최소제곱법/자승법: method of least squeres, Least Squared Method\n",
    "* 실제 값과 직선추세선상의 예측 값과의 오차자승의 합(SS : sum of squares of the errors)이 최소가 되도록 <br>1차 함수인 y = ax + b의 기울기 a와 절편 b의 값을 결정하는 방법\n",
    "* 다중선형회귀 분석에서도 선형회귀의 계수들은 실제값과 모델 예측값의 차이, <br>즉 오차제곱합(error sum of squares)을 최소로 하는 회귀계수들의 선형적인 결합(단순한 더하기)으로 연결함"
   ]
  },
  {
   "cell_type": "markdown",
   "metadata": {},
   "source": [
    "* (일반 선형회귀 표현) y = ax + b ==> 기울기 a(slope), 절편 b(intercept)\n",
    "* (인공신경망 퍼셉트론 표현) y = wx + b ==> 가중치 w(weight), 편향 b(bias)"
   ]
  },
  {
   "cell_type": "markdown",
   "metadata": {},
   "source": [
    "<img src = './../../images/lsm.png'>"
   ]
  },
  {
   "cell_type": "markdown",
   "metadata": {},
   "source": [
    "### 최소제곱법에 의한 회귀예측선은 1차 함수임\n",
    "* 최소제곱법은 일종의 1차함수인 y = ax + b를 이용한 직선 예측선을 그리는 작업으로 기울기(a)와 절편(b)에 따라 회귀예측선의 모양은 달라짐\n",
    "<img src = './../../images/slope_intercept.png'>"
   ]
  },
  {
   "cell_type": "markdown",
   "metadata": {},
   "source": [
    "### 최소제곱법에 의한 회귀예측의 비용함수(Cost Function) \n",
    "* 최소제곱법 이용 회귀예측식의 예측오차를 줄이기 위한 방법을 정의한 함수로 비용(cost)/손실(loss)/목적(objective)/오차(error) 함수라고 함\n",
    "* 이 손실함수의 값을 최소화 하기 위해 회귀예측함수 y = ax + b의 파라미터인 기울기(a)와 절편(b)를 미분을 통해 조정하는 것임 \n",
    "* 수치예측(regression)에서 가장 대표적인 비용함수는 평균제곱오차와 평균제곱근오차를 많이 사용함\n",
    "<img src = './../../images/regression_costfunction.png'>\n",
    "\n",
    "<br>\n",
    "\n",
    "* 활성화함수는 함수에서 파란 선인 y = ax + b 를 의미\n",
    "* 활성화함수가 가장 최적화된지 확인하는 것이 비용함수 = 손실함수 = 목적함수 = 오차함수\n"
   ]
  },
  {
   "cell_type": "markdown",
   "metadata": {},
   "source": [
    "# <font color = blue>간단 회귀분석 예</font>"
   ]
  },
  {
   "cell_type": "markdown",
   "metadata": {},
   "source": [
    "### 데이터 준비: 피처 x변수와 타깃 y변수\n",
    "* 공부시간(x: 피처/입력/예측/독립변수)에 따른 시험성적(y: 타깃/출력/반응/종속변수)간 관계\n",
    "<img src = './../../images/linear_study_test.png' align = 'left'>"
   ]
  },
  {
   "cell_type": "code",
   "execution_count": 1,
   "metadata": {},
   "outputs": [
    {
     "name": "stdout",
     "output_type": "stream",
     "text": [
      "x데이터: [2, 4, 6, 8]\n",
      "y데이터: [81, 93, 91, 97]\n"
     ]
    }
   ],
   "source": [
    "# 데이터 준비\n",
    "x = [2, 4, 6, 8] # 공부시간 \n",
    "y = [81, 93, 91, 97] # 시험성적\n",
    "\n",
    "print(f'x데이터: {x}')\n",
    "print(f'y데이터: {y}')"
   ]
  },
  {
   "cell_type": "markdown",
   "metadata": {},
   "source": [
    "### 피처(입력/예측/독립)변수와 타깃(출력/반응/종속)변수간 관계 그래프"
   ]
  },
  {
   "cell_type": "code",
   "execution_count": 2,
   "metadata": {
    "collapsed": true
   },
   "outputs": [],
   "source": [
    "# 시각화 작업을 위한 모듈 로딩작업\n",
    "%matplotlib inline\n",
    "import matplotlib.pyplot as plt\n",
    "import seaborn as sns\n",
    "from matplotlib import font_manager, rc"
   ]
  },
  {
   "cell_type": "code",
   "execution_count": 3,
   "metadata": {},
   "outputs": [
    {
     "data": {
      "text/plain": [
       "'Malgun Gothic'"
      ]
     },
     "execution_count": 3,
     "metadata": {},
     "output_type": "execute_result"
    }
   ],
   "source": [
    "# 사용을 원하는 한글폰트에 대한 공식이름 확인\n",
    "font_manager.FontProperties(fname=\"c:/Windows/Fonts/malgun.ttf\").get_name()"
   ]
  },
  {
   "cell_type": "code",
   "execution_count": 5,
   "metadata": {},
   "outputs": [
    {
     "ename": "FileNotFoundError",
     "evalue": "[Errno 2] No such file or directory: 'c:/Windows/Fonts/nanumgothic.ttf'",
     "output_type": "error",
     "traceback": [
      "\u001b[0;31m---------------------------------------------------------------------------\u001b[0m",
      "\u001b[0;31mFileNotFoundError\u001b[0m                         Traceback (most recent call last)",
      "\u001b[0;32m<ipython-input-5-a3b9e7d7a208>\u001b[0m in \u001b[0;36m<module>\u001b[0;34m()\u001b[0m\n\u001b[1;32m      1\u001b[0m \u001b[1;31m# 사용을 원하는 한글폰트에 대한 공식이름 확인\u001b[0m\u001b[1;33m\u001b[0m\u001b[1;33m\u001b[0m\u001b[0m\n\u001b[0;32m----> 2\u001b[0;31m \u001b[0mfont_manager\u001b[0m\u001b[1;33m.\u001b[0m\u001b[0mFontProperties\u001b[0m\u001b[1;33m(\u001b[0m\u001b[0mfname\u001b[0m\u001b[1;33m=\u001b[0m\u001b[1;34m\"c:/Windows/Fonts/nanumgothic.ttf\"\u001b[0m\u001b[1;33m)\u001b[0m\u001b[1;33m.\u001b[0m\u001b[0mget_name\u001b[0m\u001b[1;33m(\u001b[0m\u001b[1;33m)\u001b[0m\u001b[1;33m\u001b[0m\u001b[0m\n\u001b[0m",
      "\u001b[0;32mC:\\anaconda\\lib\\site-packages\\matplotlib\\font_manager.py\u001b[0m in \u001b[0;36mget_name\u001b[0;34m(self)\u001b[0m\n\u001b[1;32m    749\u001b[0m         \u001b[0mproperties\u001b[0m\u001b[1;33m.\u001b[0m\u001b[1;33m\u001b[0m\u001b[0m\n\u001b[1;32m    750\u001b[0m         \"\"\"\n\u001b[0;32m--> 751\u001b[0;31m         \u001b[1;32mreturn\u001b[0m \u001b[0mget_font\u001b[0m\u001b[1;33m(\u001b[0m\u001b[0mfindfont\u001b[0m\u001b[1;33m(\u001b[0m\u001b[0mself\u001b[0m\u001b[1;33m)\u001b[0m\u001b[1;33m)\u001b[0m\u001b[1;33m.\u001b[0m\u001b[0mfamily_name\u001b[0m\u001b[1;33m\u001b[0m\u001b[0m\n\u001b[0m\u001b[1;32m    752\u001b[0m \u001b[1;33m\u001b[0m\u001b[0m\n\u001b[1;32m    753\u001b[0m     \u001b[1;32mdef\u001b[0m \u001b[0mget_style\u001b[0m\u001b[1;33m(\u001b[0m\u001b[0mself\u001b[0m\u001b[1;33m)\u001b[0m\u001b[1;33m:\u001b[0m\u001b[1;33m\u001b[0m\u001b[0m\n",
      "\u001b[0;31mFileNotFoundError\u001b[0m: [Errno 2] No such file or directory: 'c:/Windows/Fonts/nanumgothic.ttf'"
     ]
    }
   ],
   "source": [
    "# 사용을 원하는 한글폰트에 대한 공식이름 확인\n",
    "font_manager.FontProperties(fname=\"c:/Windows/Fonts/nanumgothic.ttf\").get_name()"
   ]
  },
  {
   "cell_type": "code",
   "execution_count": 7,
   "metadata": {
    "collapsed": true
   },
   "outputs": [],
   "source": [
    "# 해당 한글폰트를 파이선 그래프에서 사용가능하도록 설정\n",
    "font_name = font_manager.FontProperties(fname=\"c:/Windows/Fonts/malgun.ttf\").get_name()\n",
    "rc('font', family=font_name)"
   ]
  },
  {
   "cell_type": "code",
   "execution_count": 8,
   "metadata": {
    "scrolled": true
   },
   "outputs": [
    {
     "data": {
      "text/plain": [
       "<matplotlib.text.Text at 0x6665464a20>"
      ]
     },
     "execution_count": 8,
     "metadata": {},
     "output_type": "execute_result"
    },
    {
     "data": {
      "image/png": "[encoded data removed]",
      "text/plain": [
       "<matplotlib.figure.Figure at 0x66653e1978>"
      ]
     },
     "metadata": {},
     "output_type": "display_data"
    }
   ],
   "source": [
    "# 피처(입력/예측/독립)변수와 타깃(출력/반응/종속)변수간 관계 그래프\n",
    "plt.plot(x, y, 'bo')\n",
    "plt.xlabel('공부시간', size = 12)\n",
    "plt.ylabel('성적', size = 12)\n",
    "plt.title('공부시간에 따른 시험성적', size = 16, )"
   ]
  },
  {
   "cell_type": "markdown",
   "metadata": {},
   "source": [
    "### 회귀예측식 도출"
   ]
  },
  {
   "cell_type": "code",
   "execution_count": 9,
   "metadata": {},
   "outputs": [
    {
     "name": "stdout",
     "output_type": "stream",
     "text": [
      "기울기(slope), 가중치(weight): 2.3\n",
      "절편(intercept), 편향(bias): 79.0\n",
      "회귀예측식: y = 2.3*x + 79.0\n"
     ]
    }
   ],
   "source": [
    "import numpy as np\n",
    "from scipy import stats\n",
    "\n",
    "# 회귀식도출\n",
    "slope, intercept, r_value, p_value, std_err = stats.linregress(x, y)\n",
    "\n",
    "print(f'기울기(slope), 가중치(weight): {slope}')\n",
    "print(f'절편(intercept), 편향(bias): {intercept}')\n",
    "print(f'회귀예측식: y = {slope}*x + {intercept}')"
   ]
  },
  {
   "cell_type": "markdown",
   "metadata": {},
   "source": [
    "### 회귀예측선 그리기"
   ]
  },
  {
   "cell_type": "code",
   "execution_count": 10,
   "metadata": {},
   "outputs": [
    {
     "data": {
      "text/plain": [
       "[<matplotlib.lines.Line2D at 0x66655f60f0>]"
      ]
     },
     "execution_count": 10,
     "metadata": {},
     "output_type": "execute_result"
    },
    {
     "data": {
      "image/png": "[encoded data removed]",
      "text/plain": [
       "<matplotlib.figure.Figure at 0x66629dad68>"
      ]
     },
     "metadata": {},
     "output_type": "display_data"
    }
   ],
   "source": [
    "x_min = np.min(x) # np(numpy)를 통해 배열로 만든 것임\n",
    "x_max = np.max(x)\n",
    "\n",
    "x1 = np.linspace(x_min,x_max, 1000)  # x축의 구간을 정할 때 촘촘하게 만들어 줌\n",
    "y1 = slope * x1 + intercept        \n",
    "\n",
    "plt.plot(x, y, 'bo')\n",
    "plt.xlabel('공부시간', size = 12)\n",
    "plt.ylabel('성적', size = 12)\n",
    "plt.title('공부시간에 따른 시험성적', size = 16)\n",
    "\n",
    "plt.plot(x1,y1,'r--')           # 셀을 나누면 다른 그림이 그려짐. 같은 셀에 쓰면 layer가 겹쳐서 나옴"
   ]
  },
  {
   "cell_type": "markdown",
   "metadata": {},
   "source": [
    "# <font color = blue>최소제곱법을 이용한 회귀예측선 직접계산하기</font>"
   ]
  },
  {
   "cell_type": "markdown",
   "metadata": {},
   "source": [
    "## (1) 기울기(slope), 경사(gradient), 가중치(weight) 구하기"
   ]
  },
  {
   "cell_type": "markdown",
   "metadata": {},
   "source": [
    "<img src = './../../images/slope.png'>"
   ]
  },
  {
   "cell_type": "markdown",
   "metadata": {},
   "source": [
    "### 평균구하기"
   ]
  },
  {
   "cell_type": "code",
   "execution_count": 11,
   "metadata": {},
   "outputs": [
    {
     "name": "stdout",
     "output_type": "stream",
     "text": [
      "피처(x)변수 공부시간: [2, 4, 6, 8]\n",
      "타깃(y)변수 시험성적: [81, 93, 91, 97]\n"
     ]
    }
   ],
   "source": [
    "# x, y 변수내용\n",
    "print(f'피처(x)변수 공부시간: {x}')\n",
    "print(f'타깃(y)변수 시험성적: {y}')"
   ]
  },
  {
   "cell_type": "code",
   "execution_count": 16,
   "metadata": {},
   "outputs": [
    {
     "name": "stdout",
     "output_type": "stream",
     "text": [
      "x의 평균: 5.00\n",
      "y의 평균: 90.50\n"
     ]
    }
   ],
   "source": [
    "# 산술평균: 직접인덱싱 이용\n",
    "x_mean = (x[0] + x[1] + x[2] + x[3]) / len(x)\n",
    "y_mean = (y[0] + y[1] + y[2] + y[3]) / len(y)\n",
    "\n",
    "print('x의 평균: %0.2f' % x_mean)\n",
    "print('y의 평균: %0.2f' % y_mean)"
   ]
  },
  {
   "cell_type": "code",
   "execution_count": 17,
   "metadata": {},
   "outputs": [
    {
     "name": "stdout",
     "output_type": "stream",
     "text": [
      "x의 평균: 5.00\n",
      "y의 평균: 90.50\n"
     ]
    }
   ],
   "source": [
    "# 산술평균: 내장함수 이용\n",
    "x_mean2 = sum(x) / len(x)\n",
    "y_mean2 = sum(y) / len(y)\n",
    "\n",
    "print('x의 평균: {:0.2f}'.format(x_mean2))\n",
    "print('y의 평균: {:0.2f}'.format(y_mean2))"
   ]
  },
  {
   "cell_type": "code",
   "execution_count": 18,
   "metadata": {},
   "outputs": [
    {
     "name": "stdout",
     "output_type": "stream",
     "text": [
      "x의 평균: 5.00\n",
      "y의 평균: 90.50\n"
     ]
    }
   ],
   "source": [
    "# 산술평균: 라이브러리 메서드 이용\n",
    "import numpy as np\n",
    "x_mean3 = np.mean(x)\n",
    "y_mean3 = np.mean(y)\n",
    "\n",
    "print(f'x의 평균: {x_mean3:0.2f}')\n",
    "print(f'y의 평균: {y_mean3:0.2f}')"
   ]
  },
  {
   "cell_type": "markdown",
   "metadata": {},
   "source": [
    "### 편차구하기\n",
    "* 편차(deviation): 관측치가 평균으로부터 떨어져 있는 정도, 즉 평균과의 차이\n",
    "* 잔차(redidual): 평균이 아니라 회귀식 등으로 추정된 값과 실제 값과의 차이, 즉 추정된 값이 설명할 수 없어서 아직도 남아 있는 편차\n",
    "* 오차(error): 예측하기 위해서 추정된 값과 실제값의 차이, 즉 예측값이 정확하지 못한 정도"
   ]
  },
  {
   "cell_type": "code",
   "execution_count": 19,
   "metadata": {},
   "outputs": [
    {
     "name": "stdout",
     "output_type": "stream",
     "text": [
      "x의 편차: [-3.0, -1.0, 1.0, 3.0]\n",
      "y의 편차: [-9.5, 2.5, 0.5, 6.5]\n"
     ]
    }
   ],
   "source": [
    "# 편차: 직접인덱싱 수식 이용\n",
    "x_dev = [(x[0] - x_mean), (x[1] - x_mean), (x[2] - x_mean), (x[3] - x_mean)]\n",
    "y_dev = [(y[0] - y_mean), (y[1] - y_mean), (y[2] - y_mean), (y[3] - y_mean)]\n",
    "\n",
    "print('x의 편차: %s' % x_dev)\n",
    "print('y의 편차: %s' % y_dev)"
   ]
  },
  {
   "cell_type": "code",
   "execution_count": 20,
   "metadata": {},
   "outputs": [
    {
     "name": "stdout",
     "output_type": "stream",
     "text": [
      "x의 편차: [-3.0, -1.0, 1.0, 3.0]\n",
      "y의 편차: [-9.5, 2.5, 0.5, 6.5]\n"
     ]
    }
   ],
   "source": [
    "# 편차: for 일반반복문 이용\n",
    "x_dev2 = []\n",
    "y_dev2 = []\n",
    "\n",
    "for i in x:\n",
    "    x_dev2.append(i - x_mean)\n",
    "    \n",
    "for j in y:\n",
    "    y_dev2.append(j - y_mean)\n",
    "    \n",
    "print('x의 편차: {}'.format(x_dev2))\n",
    "print('y의 편차: {}'.format(y_dev2))"
   ]
  },
  {
   "cell_type": "code",
   "execution_count": 21,
   "metadata": {},
   "outputs": [
    {
     "name": "stdout",
     "output_type": "stream",
     "text": [
      "x의 편차: [-3.0, -1.0, 1.0, 3.0]\n",
      "y의 편차: [-9.5, 2.5, 0.5, 6.5]\n"
     ]
    }
   ],
   "source": [
    "# 편차: for 축약반복문 이용\n",
    "x_dev3 = [i - x_mean for i in x]  # [for문 축약형] => 겉에 []로 씌어져있는것! for문의 값을 [] 리스트 안에 자동으로 넣어줌.\n",
    "y_dev3 = [j - y_mean for j in y]\n",
    "\n",
    "print(f'x의 편차: {x_dev3}')\n",
    "print(f'y의 편차: {y_dev3}')"
   ]
  },
  {
   "cell_type": "markdown",
   "metadata": {},
   "source": [
    "### 분산구하기"
   ]
  },
  {
   "cell_type": "code",
   "execution_count": 22,
   "metadata": {},
   "outputs": [
    {
     "name": "stdout",
     "output_type": "stream",
     "text": [
      "x의 분산: 5.000\n",
      "y의 분산: 34.750\n"
     ]
    }
   ],
   "source": [
    "# 분산: 직접인덱싱 수식 이용\n",
    "x_tmp = (x[0] - x_mean)**2 + (x[1] - x_mean)**2 + (x[2] - x_mean)**2 + (x[3] - x_mean)**2\n",
    "y_tmp = (y[0] - y_mean)**2 + (y[1] - y_mean)**2 + (y[2] - y_mean)**2 + (y[3] - y_mean)**2\n",
    "\n",
    "x_var = x_tmp / len(x)\n",
    "y_var = y_tmp / len(y)\n",
    "\n",
    "print('x의 분산: %0.3f' % x_var)\n",
    "print('y의 분산: %0.3f' % y_var)"
   ]
  },
  {
   "cell_type": "code",
   "execution_count": 23,
   "metadata": {},
   "outputs": [
    {
     "name": "stdout",
     "output_type": "stream",
     "text": [
      "x의 분산: 5.000\n",
      "y의 분산: 34.750\n"
     ]
    }
   ],
   "source": [
    "# 분산: for 일반반복문 이용\n",
    "x_temp = []\n",
    "y_temp = []\n",
    "\n",
    "for i in x:\n",
    "    x_temp.append((i - x_mean)**2)\n",
    "x_var2 = sum(x_temp) / len(x)\n",
    "\n",
    "for j in y:\n",
    "    y_temp.append((j - y_mean)**2)\n",
    "y_var2 = sum(y_temp) / len(y)\n",
    "\n",
    "print('x의 분산: {:0.3f}'.format(x_var2))\n",
    "print('y의 분산: {:0.3f}'.format(y_var2))"
   ]
  },
  {
   "cell_type": "code",
   "execution_count": 24,
   "metadata": {},
   "outputs": [
    {
     "name": "stdout",
     "output_type": "stream",
     "text": [
      "x의 분산: 5.000\n",
      "y의 분산: 34.750\n"
     ]
    }
   ],
   "source": [
    "# 분산: for 축약반복문 이용\n",
    "x_tempo = [(i - x_mean)**2 for i in x]\n",
    "x_var3 = sum(x_tempo) / len(x)\n",
    "\n",
    "x_tempo = [(i - y_mean)**2 for j in y]\n",
    "y_var3 = sum(y_temp) / len(y)\n",
    "\n",
    "print(f'x의 분산: {x_var3:0.3f}')\n",
    "print(f'y의 분산: {y_var3:0.3f}')"
   ]
  },
  {
   "cell_type": "code",
   "execution_count": 25,
   "metadata": {},
   "outputs": [
    {
     "name": "stdout",
     "output_type": "stream",
     "text": [
      "x의 분산: 5.000\n",
      "y의 분산: 34.750\n"
     ]
    }
   ],
   "source": [
    "# 분산: numpy 함수 이용\n",
    "print(f'x의 분산: {np.var(x):0.3f}')\n",
    "print(f'y의 분산: {np.var(y):0.3f}')"
   ]
  },
  {
   "cell_type": "markdown",
   "metadata": {},
   "source": [
    "### 공분산구하기"
   ]
  },
  {
   "cell_type": "code",
   "execution_count": 28,
   "metadata": {},
   "outputs": [
    {
     "name": "stdout",
     "output_type": "stream",
     "text": [
      "x와 y의 공분산: 11.500\n"
     ]
    }
   ],
   "source": [
    "# 공분산: 직접인덱싱 수식 이용\n",
    "xy_tmp = (x[0] - x_mean)*(y[0] - y_mean) + (x[1] - x_mean)*(y[1] - y_mean) + (x[2] - x_mean)*(y[2] - y_mean) + (x[3] - x_mean)*(y[3] - y_mean)\n",
    "xy_cov = xy_tmp / len(x)\n",
    "print('x와 y의 공분산: %0.3f' % xy_cov)"
   ]
  },
  {
   "cell_type": "code",
   "execution_count": 29,
   "metadata": {},
   "outputs": [
    {
     "name": "stdout",
     "output_type": "stream",
     "text": [
      "x와 y의 공분산: 11.500\n"
     ]
    }
   ],
   "source": [
    "# 공분산: for 일반반복문 이용\n",
    "xy_temp = []\n",
    "\n",
    "for i, j in zip(x, y):\n",
    "    xy_temp.append((i - x_mean)*(j - y_mean))\n",
    "xy_var = sum(xy_temp) / len(x)\n",
    "\n",
    "print('x와 y의 공분산: {:0.3f}'.format(xy_var))"
   ]
  },
  {
   "cell_type": "code",
   "execution_count": 30,
   "metadata": {},
   "outputs": [
    {
     "name": "stdout",
     "output_type": "stream",
     "text": [
      "x와 y의 공분산: 11.500\n"
     ]
    }
   ],
   "source": [
    "# 공분산: for 축약반복문 이용\n",
    "xy_tempo = [(i - x_mean)*(j - y_mean) for i, j in zip(x, y)]\n",
    "xy_var = sum(xy_tempo) / len(x)\n",
    "\n",
    "print(f'x와 y의 공분산: {xy_var:0.3f}')"
   ]
  },
  {
   "cell_type": "markdown",
   "metadata": {},
   "source": [
    "### 기울기 구하기"
   ]
  },
  {
   "cell_type": "code",
   "execution_count": 31,
   "metadata": {
    "scrolled": true
   },
   "outputs": [
    {
     "name": "stdout",
     "output_type": "stream",
     "text": [
      "회귀식 기울기: 2.3\n"
     ]
    }
   ],
   "source": [
    "a = xy_cov / x_var\n",
    "print(f'회귀식 기울기: {a}')"
   ]
  },
  {
   "cell_type": "markdown",
   "metadata": {},
   "source": [
    "## (2) 절편(intercept), 편향(bias) 구하기\n",
    "\n",
    "* b = mean(y) - (mean(x) * a)\n",
    "\n",
    "* b = y의 평균 - (x의 평균 * 기울기 a)"
   ]
  },
  {
   "cell_type": "code",
   "execution_count": 32,
   "metadata": {},
   "outputs": [
    {
     "name": "stdout",
     "output_type": "stream",
     "text": [
      "회귀식 y절편: 79.000\n"
     ]
    }
   ],
   "source": [
    "b = y_mean - (a * x_mean)\n",
    "print(f'회귀식 y절편: {b:0.3f}')"
   ]
  },
  {
   "cell_type": "markdown",
   "metadata": {},
   "source": [
    "## (3) 회귀예측식 도출"
   ]
  },
  {
   "cell_type": "code",
   "execution_count": 33,
   "metadata": {},
   "outputs": [
    {
     "name": "stdout",
     "output_type": "stream",
     "text": [
      "회귀예측식: y = 2.3x + 79.0\n"
     ]
    }
   ],
   "source": [
    "print(f'회귀예측식: y = {a}x + {b}')"
   ]
  },
  {
   "cell_type": "markdown",
   "metadata": {},
   "source": [
    "# <font color = blue>회귀예측식 성능</font>"
   ]
  },
  {
   "cell_type": "markdown",
   "metadata": {},
   "source": [
    "### 피처(입력/예측/독립)변수 투입에 따른 타깃(출력/반응/종속)변수 예측치"
   ]
  },
  {
   "cell_type": "code",
   "execution_count": 34,
   "metadata": {},
   "outputs": [
    {
     "name": "stdout",
     "output_type": "stream",
     "text": [
      "x입력에 따른 y값 예측치: [83.6, 88.2, 92.8, 97.4]\n",
      "투입 x값: [2, 4, 6, 8]\n",
      "실제 y값: [81, 93, 91, 97]\n",
      "예측 y값: [83.6, 88.2, 92.8, 97.4]\n",
      "예측 오차: [-2.6  4.8 -1.8 -0.4]\n"
     ]
    }
   ],
   "source": [
    "# x입력에 따른 y예측값\n",
    "y_pred = [(a * i) + b for i in x]\n",
    "print('x입력에 따른 y값 예측치: %s' % y_pred)\n",
    "\n",
    "y_err = np.array(y) - np.array(y_pred)\n",
    "print('투입 x값: %s' % x)\n",
    "print('실제 y값: %s' % y)\n",
    "print('예측 y값: %s' % y_pred)\n",
    "print('예측 오차: %s' % y_err)"
   ]
  },
  {
   "cell_type": "code",
   "execution_count": 35,
   "metadata": {},
   "outputs": [
    {
     "data": {
      "text/html": [
       "<div>\n",
       "<table border=\"1\" class=\"dataframe\">\n",
       "  <thead>\n",
       "    <tr style=\"text-align: right;\">\n",
       "      <th></th>\n",
       "      <th>x값</th>\n",
       "      <th>실제 y값</th>\n",
       "      <th>예측 y값</th>\n",
       "      <th>오차</th>\n",
       "    </tr>\n",
       "  </thead>\n",
       "  <tbody>\n",
       "    <tr>\n",
       "      <th>0</th>\n",
       "      <td>2</td>\n",
       "      <td>81</td>\n",
       "      <td>83.6</td>\n",
       "      <td>-2.6</td>\n",
       "    </tr>\n",
       "    <tr>\n",
       "      <th>1</th>\n",
       "      <td>4</td>\n",
       "      <td>93</td>\n",
       "      <td>88.2</td>\n",
       "      <td>4.8</td>\n",
       "    </tr>\n",
       "    <tr>\n",
       "      <th>2</th>\n",
       "      <td>6</td>\n",
       "      <td>91</td>\n",
       "      <td>92.8</td>\n",
       "      <td>-1.8</td>\n",
       "    </tr>\n",
       "    <tr>\n",
       "      <th>3</th>\n",
       "      <td>8</td>\n",
       "      <td>97</td>\n",
       "      <td>97.4</td>\n",
       "      <td>-0.4</td>\n",
       "    </tr>\n",
       "  </tbody>\n",
       "</table>\n",
       "</div>"
      ],
      "text/plain": [
       "   x값  실제 y값  예측 y값   오차\n",
       "0   2     81   83.6 -2.6\n",
       "1   4     93   88.2  4.8\n",
       "2   6     91   92.8 -1.8\n",
       "3   8     97   97.4 -0.4"
      ]
     },
     "execution_count": 35,
     "metadata": {},
     "output_type": "execute_result"
    }
   ],
   "source": [
    "# 회귀예측식 테이블\n",
    "import pandas as pd\n",
    "\n",
    "result = pd.DataFrame({'x값': x, \n",
    "                       '실제 y값': y, \n",
    "                       '예측 y값': y_pred, \n",
    "                       '오차': y_err})\n",
    "\n",
    "result"
   ]
  },
  {
   "cell_type": "markdown",
   "metadata": {},
   "source": [
    "오차를 알아보는 이유는, 다른 예측 y값(절편)과의 차이를 알아본 후 더 좋은 값을 찾아내기 위함\n",
    "<br>\n",
    "경사하강 = 기울기를 어떻게 해야 오차가 줄어드는지, 어떠한 조합일 떄 오차가 가장 줄어드는지 . 오차가 0에 가까울수록 오차가 적은 것"
   ]
  },
  {
   "cell_type": "markdown",
   "metadata": {},
   "source": [
    "### 회귀식 성능평가"
   ]
  },
  {
   "cell_type": "code",
   "execution_count": 36,
   "metadata": {
    "scrolled": true
   },
   "outputs": [
    {
     "name": "stdout",
     "output_type": "stream",
     "text": [
      "회귀예측식 평균제곱오차(MSE): 8.300\n",
      "회귀예측식 평균제곱근오차(RMSE): 2.881\n",
      "\n",
      "회귀예측식 평균제곱오차(MSE): 8.300\n",
      "회귀예측식 평균제곱근오차(RMSE): 2.881\n"
     ]
    }
   ],
   "source": [
    "# 성능평가: 직접수식 이용\n",
    "mse_tmp = [i**2 for i in y_err]\n",
    "mse = sum(mse_tmp) / len(x)\n",
    "rmse = (sum(mse_tmp) / len(x))**0.5\n",
    "\n",
    "print('회귀예측식 평균제곱오차(MSE): %0.3f' % mse)\n",
    "print('회귀예측식 평균제곱근오차(RMSE): %0.3f' % rmse)\n",
    "print()\n",
    "\n",
    "# 절대평균오차(mse): 라이브러리 이용\n",
    "from sklearn.metrics import mean_squared_error\n",
    "\n",
    "mse = mean_squared_error(y, y_pred)\n",
    "rmse = mean_squared_error(y, y_pred)**0.5\n",
    "print('회귀예측식 평균제곱오차(MSE): %0.3f' % mse)\n",
    "print('회귀예측식 평균제곱근오차(RMSE): %0.3f' % rmse)"
   ]
  },
  {
   "cell_type": "markdown",
   "metadata": {},
   "source": [
    "# <font color = blue>회귀예측 사용자정의함수</font> "
   ]
  },
  {
   "cell_type": "code",
   "execution_count": 37,
   "metadata": {
    "collapsed": true
   },
   "outputs": [],
   "source": [
    "def predict(x_new):\n",
    "    y_pred = a * x_new + b\n",
    "    result = print(f'회귀예측식: y = {a}x + {b} \\n새로운 공부시간 x값: {x_new} \\n예측된 시험성적 y값: {y_pred}')\n",
    "    return result"
   ]
  },
  {
   "cell_type": "code",
   "execution_count": 38,
   "metadata": {},
   "outputs": [
    {
     "name": "stdout",
     "output_type": "stream",
     "text": [
      "회귀예측식: y = 2.3x + 79.0 \n",
      "새로운 공부시간 x값: 8 \n",
      "예측된 시험성적 y값: 97.4\n"
     ]
    }
   ],
   "source": [
    "predict(8)"
   ]
  },
  {
   "cell_type": "markdown",
   "metadata": {},
   "source": [
    "feature가 3~8시간 사이로만 되어있어서 <br>\n",
    "predict() 괄호 안에 3보다 작거나 8보다 큰 경우를 넣으면 안됨 <br>\n",
    "알고리즘이 한번도 학습한 적이 없음\n",
    "\n",
    "외사법 : feature값이 넘어가는 것을 넣는 경우"
   ]
  },
  {
   "cell_type": "markdown",
   "metadata": {},
   "source": [
    "# <font color = blue>회귀예측식 기울기와 절편에 따른 오차의 변화</font> "
   ]
  },
  {
   "cell_type": "markdown",
   "metadata": {},
   "source": [
    "## (1) 기울기(slope, coefficient, gradient, weight) 변화에 따른 오차의 변동"
   ]
  },
  {
   "cell_type": "markdown",
   "metadata": {},
   "source": [
    "### 회귀예측식의 기울기(a)를 다양하게 설정"
   ]
  },
  {
   "cell_type": "code",
   "execution_count": 42,
   "metadata": {},
   "outputs": [
    {
     "data": {
      "text/plain": [
       "array([ 1.3       ,  1.52222222,  1.74444444,  1.96666667,  2.18888889,\n",
       "        2.41111111,  2.63333333,  2.85555556,  3.07777778,  3.3       ])"
      ]
     },
     "execution_count": 42,
     "metadata": {},
     "output_type": "execute_result"
    }
   ],
   "source": [
    "# 회귀예측식의 기울기를 기존 a값을 이용해 일정범위내에서 임의로 생성\n",
    "# 2.3이 기울기니까, 1.3 ~ 3.3까지 범위로 두고 10개로 나눔\n",
    "slope = np.linspace(a - 1, a + 1, 10)\n",
    "slope"
   ]
  },
  {
   "cell_type": "code",
   "execution_count": 40,
   "metadata": {},
   "outputs": [
    {
     "data": {
      "text/plain": [
       "79.0"
      ]
     },
     "execution_count": 40,
     "metadata": {},
     "output_type": "execute_result"
    }
   ],
   "source": [
    "# 회귀예측식의 절편은 기존 b값을 그대로 사용\n",
    "intercept  = b\n",
    "intercept"
   ]
  },
  {
   "cell_type": "markdown",
   "metadata": {},
   "source": [
    "### 기울기 변화에 따른 예측오차 결과도출"
   ]
  },
  {
   "cell_type": "code",
   "execution_count": 43,
   "metadata": {
    "collapsed": true
   },
   "outputs": [],
   "source": [
    "# 기울기 변화에 따른 실제y값과 추정된 y값간의 오차저장을 위한 변수설정\n",
    "mse_out = []\n",
    "rmse_out = []"
   ]
  },
  {
   "cell_type": "code",
   "execution_count": 44,
   "metadata": {
    "scrolled": true
   },
   "outputs": [
    {
     "name": "stdout",
     "output_type": "stream",
     "text": [
      "기울기(slope): 1.30, 절편(intercept): 79.00, ==> MSE: 38.30, RMSE: 6.19\n",
      "기울기(slope): 1.52, 절편(intercept): 79.00, ==> MSE: 26.45, RMSE: 5.14\n",
      "기울기(slope): 1.74, 절편(intercept): 79.00, ==> MSE: 17.56, RMSE: 4.19\n",
      "기울기(slope): 1.97, 절편(intercept): 79.00, ==> MSE: 11.63, RMSE: 3.41\n",
      "기울기(slope): 2.19, 절편(intercept): 79.00, ==> MSE:  8.67, RMSE: 2.94\n",
      "기울기(slope): 2.41, 절편(intercept): 79.00, ==> MSE:  8.67, RMSE: 2.94\n",
      "기울기(slope): 2.63, 절편(intercept): 79.00, ==> MSE: 11.63, RMSE: 3.41\n",
      "기울기(slope): 2.86, 절편(intercept): 79.00, ==> MSE: 17.56, RMSE: 4.19\n",
      "기울기(slope): 3.08, 절편(intercept): 79.00, ==> MSE: 26.45, RMSE: 5.14\n",
      "기울기(slope): 3.30, 절편(intercept): 79.00, ==> MSE: 38.30, RMSE: 6.19\n"
     ]
    }
   ],
   "source": [
    "# for문을 이용한 기울기 변화에 따른 실제y값과 추정된 y값간의 오차계산\n",
    "for s in slope:\n",
    "    # y값 예측치 계산\n",
    "    y_pred = [(s * i) + b for i in x]\n",
    "    \n",
    "    # y값 예측오차 계산\n",
    "    y_err = np.array(y) - np.array(y_pred)\n",
    "\n",
    "    # 성능평가\n",
    "    mse_tmp = [i**2 for i in y_err]\n",
    "    mse = sum(mse_tmp) / len(x)\n",
    "    rmse = (sum(mse_tmp) / len(x))**0.5\n",
    "    \n",
    "    # 오차값 저장\n",
    "    mse_out.append(mse)\n",
    "    rmse_out.append(rmse)    \n",
    "    \n",
    "    # 오차값 출력\n",
    "    print(f'기울기(slope): {s:4.2f}, 절편(intercept): {intercept:5.2f}, ==> MSE: {mse:5.2f}, RMSE: {rmse:4.2f}')"
   ]
  },
  {
   "cell_type": "markdown",
   "metadata": {},
   "source": [
    "신경망은 임의로 값을 넣는 것. 무작위로 할당해서 오차가 작이지는 것을 찾는 것이다\n",
    "<br>\n",
    "기울기와 절편값이 중요한 것이 아니라, y의 값이 어느정도 정확한지가 중요함"
   ]
  },
  {
   "cell_type": "markdown",
   "metadata": {},
   "source": [
    "### 기울기 변화에 따른 오차변화 그래프"
   ]
  },
  {
   "cell_type": "code",
   "execution_count": 45,
   "metadata": {},
   "outputs": [
    {
     "data": {
      "text/plain": [
       "<matplotlib.legend.Legend at 0x6666af9c50>"
      ]
     },
     "execution_count": 45,
     "metadata": {},
     "output_type": "execute_result"
    },
    {
     "data": {
      "image/png": "[encoded data removed]",
      "text/plain": [
       "<matplotlib.figure.Figure at 0x6666a3aeb8>"
      ]
     },
     "metadata": {},
     "output_type": "display_data"
    }
   ],
   "source": [
    "plt.plot(slope, mse_out, label = '평균제곱오차(mse)')\n",
    "plt.plot(slope, rmse_out, label = '평균제곱근오차(rmse)')\n",
    "plt.xlabel('기울기(slope)', size = 12)\n",
    "plt.ylabel('오차(error)', size = 12)\n",
    "plt.title('기울기(slope)에 따른 오차(error)의 변화', size = 16)\n",
    "plt.legend()"
   ]
  },
  {
   "cell_type": "markdown",
   "metadata": {},
   "source": [
    "* 기울기가 2.3 일 때 가장 오차가 작게 나타남\n",
    "* 기울기가 2.3 보다 커지는 경우에 오차도 점점 더 커지게 됨\n",
    "* 기울기가 2.3 보다 작아지는 경우에도 오차도 점점 더 커지게 됨\n",
    "* 기울기의 값을 적절히 조절하면서 오차의 변화를 살펴보고, 가장 오차가 최소화되는 기울기를 경사하강법으로 구함"
   ]
  },
  {
   "cell_type": "markdown",
   "metadata": {},
   "source": [
    "## (2) 절편(intercept, constant, bias) 변화에 따른 오차의 변동"
   ]
  },
  {
   "cell_type": "markdown",
   "metadata": {},
   "source": [
    "### 회귀예측식의 절편(b)을 다양하게 설정"
   ]
  },
  {
   "cell_type": "code",
   "execution_count": 46,
   "metadata": {},
   "outputs": [
    {
     "data": {
      "text/plain": [
       "2.3"
      ]
     },
     "execution_count": 46,
     "metadata": {},
     "output_type": "execute_result"
    }
   ],
   "source": [
    "# 회귀예측식의 기울기는 기존 a값을 그대로 사용\n",
    "coef = a\n",
    "coef"
   ]
  },
  {
   "cell_type": "code",
   "execution_count": 51,
   "metadata": {},
   "outputs": [
    {
     "data": {
      "text/plain": [
       "array([ 69.        ,  71.22222222,  73.44444444,  75.66666667,\n",
       "        77.88888889,  80.11111111,  82.33333333,  84.55555556,\n",
       "        86.77777778,  89.        ])"
      ]
     },
     "execution_count": 51,
     "metadata": {},
     "output_type": "execute_result"
    }
   ],
   "source": [
    "# 회귀예측식의 절편을 기존 b값을 이용해 일정범위내에서 임의로 생성 -> 절편을 1씩 움직이는 것은 의미가 없을 것 같아서 10씩 더해주고 빼줌\n",
    "constant = np.linspace(b - 10, b + 10, 10)\n",
    "constant"
   ]
  },
  {
   "cell_type": "markdown",
   "metadata": {},
   "source": [
    "### 절편 변화에 따른 예측오차 결과도출"
   ]
  },
  {
   "cell_type": "code",
   "execution_count": 52,
   "metadata": {
    "collapsed": true
   },
   "outputs": [],
   "source": [
    "# 절편 변화에 따른 실제y값과 추정된 y값간의 오차저장을 위한 변수설정\n",
    "mse_result = []\n",
    "rmse_result = []"
   ]
  },
  {
   "cell_type": "code",
   "execution_count": 53,
   "metadata": {
    "scrolled": true
   },
   "outputs": [
    {
     "name": "stdout",
     "output_type": "stream",
     "text": [
      "기울기(coef): 2.30, 절편(constant): 69.00, ==> MSE: 108.30, RMSE: 10.41\n",
      "기울기(coef): 2.30, 절편(constant): 71.22, ==> MSE:  68.79, RMSE:  8.29\n",
      "기울기(coef): 2.30, 절편(constant): 73.44, ==> MSE:  39.16, RMSE:  6.26\n",
      "기울기(coef): 2.30, 절편(constant): 75.67, ==> MSE:  19.41, RMSE:  4.41\n",
      "기울기(coef): 2.30, 절편(constant): 77.89, ==> MSE:   9.53, RMSE:  3.09\n",
      "기울기(coef): 2.30, 절편(constant): 80.11, ==> MSE:   9.53, RMSE:  3.09\n",
      "기울기(coef): 2.30, 절편(constant): 82.33, ==> MSE:  19.41, RMSE:  4.41\n",
      "기울기(coef): 2.30, 절편(constant): 84.56, ==> MSE:  39.16, RMSE:  6.26\n",
      "기울기(coef): 2.30, 절편(constant): 86.78, ==> MSE:  68.79, RMSE:  8.29\n",
      "기울기(coef): 2.30, 절편(constant): 89.00, ==> MSE: 108.30, RMSE: 10.41\n"
     ]
    }
   ],
   "source": [
    "# for문을 이용한 절편 변화에 따른 실제y값과 추정된 y값간의 오차계산\n",
    "for j in constant:\n",
    "    # y값 예측치 계산\n",
    "    y_pred = [(coef * i) + j for i in x]\n",
    "    \n",
    "    # y값 예측오차 계산\n",
    "    y_err = np.array(y) - np.array(y_pred)\n",
    "\n",
    "    # 성능평가\n",
    "    mse_tmp = [i**2 for i in y_err]\n",
    "    mse = sum(mse_tmp) / len(x)\n",
    "    rmse = (sum(mse_tmp) / len(x))**0.5\n",
    "    \n",
    "    # 오차값 저장\n",
    "    mse_result.append(mse)\n",
    "    rmse_result.append(rmse)    \n",
    "    \n",
    "    # 오차값 출력\n",
    "    print(f'기울기(coef): {coef:4.2f}, 절편(constant): {j:5.2f}, ==> MSE: {mse:6.2f}, RMSE: {rmse:5.2f}')"
   ]
  },
  {
   "cell_type": "markdown",
   "metadata": {},
   "source": [
    "### 절편 변화에 따른 오차변화 그래프"
   ]
  },
  {
   "cell_type": "code",
   "execution_count": 50,
   "metadata": {},
   "outputs": [
    {
     "data": {
      "text/plain": [
       "<matplotlib.legend.Legend at 0x6666bc2780>"
      ]
     },
     "execution_count": 50,
     "metadata": {},
     "output_type": "execute_result"
    },
    {
     "data": {
      "image/png": "[encoded data removed]",
      "text/plain": [
       "<matplotlib.figure.Figure at 0x6666aa3f98>"
      ]
     },
     "metadata": {},
     "output_type": "display_data"
    }
   ],
   "source": [
    "plt.plot(constant, mse_result, label = '평균제곱오차(mse)')\n",
    "plt.plot(constant, rmse_result, label = '평균제곱근오차(rmse)')\n",
    "plt.xlabel('절편(constant)', size = 12)\n",
    "plt.ylabel('오차(error)', size = 12)\n",
    "plt.title('절편(constant)에 따른 오차(error)의 변화', size = 16)\n",
    "plt.legend()"
   ]
  },
  {
   "cell_type": "markdown",
   "metadata": {},
   "source": [
    "* 절편이 79.0 일 때 가장 오차가 작게 나타남\n",
    "* 기울기가 79.0 보다 커지는 경우에 오차도 점점 더 커지게 됨\n",
    "* 기울기가 79.0 보다 작아지는 경우에도 오차도 점점 더 커지게 됨\n",
    "* 절편의 값을 적절히 조절하면서 오차의 변화를 살펴보고, 가장 오차가 최소화되는 절편을 경사하강법으로 구함"
   ]
  },
  {
   "cell_type": "markdown",
   "metadata": {},
   "source": [
    "# End of Source"
   ]
  }
 ],
 "metadata": {
  "kernelspec": {
   "display_name": "Python 3",
   "language": "python",
   "name": "python3"
  },
  "language_info": {
   "codemirror_mode": {
    "name": "ipython",
    "version": 3
   },
   "file_extension": ".py",
   "mimetype": "text/x-python",
   "name": "python",
   "nbconvert_exporter": "python",
   "pygments_lexer": "ipython3",
   "version": "3.7.7"
  }
 },
 "nbformat": 4,
 "nbformat_minor": 2
}
