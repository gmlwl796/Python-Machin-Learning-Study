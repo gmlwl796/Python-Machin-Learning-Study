{
 "cells": [
  {
   "cell_type": "markdown",
   "metadata": {},
   "source": [
    "# <font color = 'color'>블록 딥러닝: 4장_핸드라이팅 도형이미지 분류예측</font>"
   ]
  },
  {
   "cell_type": "markdown",
   "metadata": {},
   "source": [
    "# <font color = 'blue'>문제 정의</font>"
   ]
  },
  {
   "cell_type": "markdown",
   "metadata": {},
   "source": [
    "### 직접 손으로 그린 도형이미지 데이터셋(Handwriting Shape Dataset)\n",
    "* 분류(classification) 문제\n",
    "* 손으로 드로잉해 만든 도형이미지 색상농도 특성을 통해 도형이미지를 분류예측하는 문제상황\n",
    "* 총 60개: 훈련용(45개), 테스트용(15개)\n",
    "\n",
    "<img src = './../../images/handwriting_shape.png'>"
   ]
  },
  {
   "cell_type": "markdown",
   "metadata": {},
   "source": [
    "1. 피처(입력/예측/독립)변수\n",
    "    * 드로잉 도형이미지 픽셀특성(가로24 X 세로24 픽셀별 색상농도) <pre>\n",
    "1. 타깃(출력/반응/종속)변수\n",
    "    * 3개의 도형이미지 범주(0: circle, 1: rectangle, 2: triangle)"
   ]
  },
  {
   "cell_type": "markdown",
   "metadata": {},
   "source": [
    "# <font color = 'blue'>데이터 준비</font>"
   ]
  },
  {
   "cell_type": "markdown",
   "metadata": {},
   "source": [
    "### 시각화 모듈로딩 및 한글폰트 작업"
   ]
  },
  {
   "cell_type": "code",
   "execution_count": 1,
   "metadata": {},
   "outputs": [],
   "source": [
    "# 시각화 작업을 위한 모듈 로딩작업\n",
    "%matplotlib inline\n",
    "import matplotlib.pyplot as plt\n",
    "import seaborn as sns\n",
    "from matplotlib import font_manager"
   ]
  },
  {
   "cell_type": "code",
   "execution_count": 2,
   "metadata": {},
   "outputs": [
    {
     "name": "stdout",
     "output_type": "stream",
     "text": [
      "Malgun Gothic\n"
     ]
    }
   ],
   "source": [
    "# 사용을 원하는 한글폰트에 대한 공식이름 확인\n",
    "font_name = font_manager.FontProperties(fname = \"./fonts/malgun.ttf\").get_name()\n",
    "print(font_name)\n",
    "\n",
    "# 해당 한글폰트를 파이선 그래프에서 사용가능하도록 설정\n",
    "plt.rcParams[\"font.family\"] = font_name\n",
    "plt.rcParams['axes.unicode_minus'] = False"
   ]
  },
  {
   "cell_type": "markdown",
   "metadata": {},
   "source": [
    "### 기본 라이브러리 로딩"
   ]
  },
  {
   "cell_type": "code",
   "execution_count": 3,
   "metadata": {},
   "outputs": [],
   "source": [
    "# 기본 라이브러리 로딩\n",
    "import numpy as np\n",
    "import pandas as pd\n",
    "import os\n",
    "\n",
    "# 워닝메시지 출력관련 모듈로딩\n",
    "import warnings\n",
    "\n",
    "warnings.filterwarnings(action = 'ignore') \n",
    "# - 출력되는 경고메시지를 무시하고 숨김\n",
    "\n",
    "# warnings.filterwarnings(action = 'default')\n",
    "# - 다시 경고메시지가 나타나도록 함"
   ]
  },
  {
   "cell_type": "markdown",
   "metadata": {},
   "source": [
    "### 이미지 파일 소싱"
   ]
  },
  {
   "cell_type": "code",
   "execution_count": 4,
   "metadata": {},
   "outputs": [],
   "source": [
    "# 웹브라우저 라이브러리 이용해 해당 데이터셋 위치 확인\n",
    "# import webbrowser\n",
    "# webbrowser.open('https://tykimos.github.io/Keras/warehouse/2017-3-8_CNN_Getting_Started_handwriting_shape.zip')\n",
    "\n",
    "# - 다운받은 zip파일의 압축을 풀어 주피터노트북 작업경로내 ./datapic/handwriting_shape 라는 폴더에 저장해 놓음"
   ]
  },
  {
   "cell_type": "markdown",
   "metadata": {},
   "source": [
    "### 이미지 파일 저장폴더 확인"
   ]
  },
  {
   "cell_type": "code",
   "execution_count": 5,
   "metadata": {},
   "outputs": [
    {
     "data": {
      "text/plain": [
       "'C:\\\\my\\\\OneDrive\\\\mcpy\\\\modu'"
      ]
     },
     "execution_count": 5,
     "metadata": {},
     "output_type": "execute_result"
    }
   ],
   "source": [
    "# 현재 작업경로 확인\n",
    "import os\n",
    "os.getcwd()"
   ]
  },
  {
   "cell_type": "code",
   "execution_count": null,
   "metadata": {
    "scrolled": true
   },
   "outputs": [],
   "source": [
    "# 현재 작업경로내 파일&폴더 목록 확인\n",
    "os.listdir()"
   ]
  },
  {
   "cell_type": "code",
   "execution_count": 7,
   "metadata": {
    "scrolled": true
   },
   "outputs": [
    {
     "name": "stdout",
     "output_type": "stream",
     "text": [
      "datapic\n",
      "dataset\n",
      "deep_class\n",
      "deep_code\n",
      "fonts\n",
      "graph\n",
      "images\n",
      "kagglecatsanddogs_3367a\n",
      "keras-dataset-reuters-newswire-topics\n",
      "logs\n",
      "mnistasjpg\n",
      "model\n",
      "Untitled Folder\n",
      "두견\n",
      "찌르레기\n"
     ]
    },
    {
     "data": {
      "text/plain": [
       "['datapic',\n",
       " 'dataset',\n",
       " 'deep_class',\n",
       " 'deep_code',\n",
       " 'fonts',\n",
       " 'graph',\n",
       " 'images',\n",
       " 'kagglecatsanddogs_3367a',\n",
       " 'keras-dataset-reuters-newswire-topics',\n",
       " 'logs',\n",
       " 'mnistasjpg',\n",
       " 'model',\n",
       " 'Untitled Folder',\n",
       " '두견',\n",
       " '찌르레기']"
      ]
     },
     "execution_count": 7,
     "metadata": {},
     "output_type": "execute_result"
    }
   ],
   "source": [
    "# 현재 작업경로내 폴더목록만 확인\n",
    "import glob\n",
    "for i in glob.glob('*'):\n",
    "    if os.path.isdir(i):\n",
    "        print(i)\n",
    "\n",
    "# 축약형으로 구현\n",
    "[i for i in glob.glob('*') if os.path.isdir(i)]"
   ]
  },
  {
   "cell_type": "code",
   "execution_count": 8,
   "metadata": {
    "scrolled": true
   },
   "outputs": [
    {
     "name": "stdout",
     "output_type": "stream",
     "text": [
      "006958-master.zip\n",
      "00_Q리스트.ipynb\n",
      "01_선형회귀_최소제곱법_모두의 딥러닝_3장(p.42).ipynb\n",
      "01_환경설정.ipynb\n",
      "02_기초딥.ipynb\n",
      "02_선형회귀_경사하강법_모두의 딥러닝_4장(p.63).ipynb\n",
      "03_로지스틱회귀_모두의 딥러닝_5장(p.79).ipynb\n",
      "04_단층다층퍼셉트론_오차역전파_심층신경망_모두의 딥러닝_6장-9장.ipynb\n",
      "05_이진분류_피마당뇨병 데이터셋_모두의 딥러닝_10장(p.122)_11장(p.130).ipynb\n",
      "05_이진분류_피마당뇨병 데이터셋_텐서보드.ipynb\n",
      "06_다중분류_아이리스 데이터셋_모두의 딥러닝_12장(p.146).ipynb\n",
      "07_데이터분할 과적합방지_소나신호 광물탐지 데이터셋_모두의 딥러닝_13장(p.155).ipynb\n",
      "07_데이터분할 과적합방지_와인품질 데이터셋_모두의 딥러닝_13장(p-Copy1.155).ipynb\n",
      "07_데이터분할 과적합방지_와인품질 데이터셋_모두의 딥러닝_13장(p.155).ipynb\n",
      "08_베스트모델만들기_와인품질 데이터셋_모두의 딥러닝_14장(p.174).ipynb\n",
      "09_수치예측_도요타 중고차 가격예측_모두의 딥러닝_15장(p-Copy1.196).ipynb\n",
      "09_수치예측_보스턴 주택가격 데이터셋_모두의 딥러닝_15장(p.196).ipynb\n",
      "10_이미지 분류예측_CNN컨볼루션신경망이용_MNIST 손글씨 숫자이미지_모두의 딥러닝_16장(p-Copy1.220).ipynb\n",
      "10_이미지 분류예측_CNN컨볼루션신경망이용_MNIST 손글씨 숫자이미지_모두의 딥러닝_16장(p.220).ipynb\n",
      "10_이미지 분류예측_DNN심층신경망이용_MNIST 손글씨 숫자이미지_모두의 딥러닝_16장(p-Copy1.204).ipynb\n",
      "10_이미지 분류예측_DNN심층신경망이용_MNIST 손글씨 숫자이미지_모두의 딥러닝_16장(p.204).ipynb\n",
      "11_텍스트 분류예측_DNN심층신경망이용_로이터 뉴스 주제분류_모두의 딥러닝_17장(p.234).ipynb\n",
      "11_텍스트 분류예측_RNN순환신경망이용_로이터 뉴스 주제분류_모두의 딥러닝_17장(p.234).ipynb\n",
      "12_핸드라이팅 도형이미지 분류예측_CNN컨볼루션신경망이용__블록 딥러닝_4장(p-Copy1.125).ipynb\n",
      "12_핸드라이팅 도형이미지 분류예측_CNN컨볼루션신경망이용__블록 딥러닝_4장(p.125).ipynb\n",
      "12_핸드라이팅 도형이미지 분류예측_CNN컨볼루션신경망이용__블록 딥러닝_4장(p.125).pdf\n",
      "12_핸드라이팅 도형이미지 분류예측_CNN컨볼루션신경망이용_혼동표.ipynb\n",
      "2017-3-8_CNN_Getting_Started_handwriting_shape.zip\n",
      "b-lab.pem\n",
      "b-lab.ppk\n",
      "jupyternotebok20160815-160810063255.pdf\n",
      "kagglecatsanddogs_3367a.zip\n",
      "keras-dataset-reuters-newswire-topics.zip\n",
      "mnist-in-csv.zip\n",
      "mnistasjpg.zip\n",
      "MNISTwithKeras.zip\n",
      "modu.zip\n",
      "notebook.tex\n",
      "output_27_1.png\n",
      "output_31_1.png\n",
      "output_77_1.png\n",
      "output_87_1.png\n",
      "pima_md4_rb.h5\n",
      "untitled\n",
      "Untitled.ipynb\n",
      "Untitled1.ipynb\n",
      "Untitled2.ipynb\n",
      "모두딥러닝 그림.pptx\n",
      "모두딥러닝 그림_20181129.pptx\n",
      "모두딥러닝 그림_20181203.pptx\n",
      "모두딥러닝 그림_20181209.pptx\n",
      "모두딥러닝 그림_20181219.pptx\n",
      "모두딥러닝 그림_20181221.pptx\n",
      "보스턴.ipynb\n",
      "보스톤_드롭아웃.ipynb\n",
      "실습용 AWS 서버 접속방법_v0.50_20181218.pptx\n"
     ]
    },
    {
     "data": {
      "text/plain": [
       "['006958-master.zip',\n",
       " '00_Q리스트.ipynb',\n",
       " '01_선형회귀_최소제곱법_모두의 딥러닝_3장(p.42).ipynb',\n",
       " '01_환경설정.ipynb',\n",
       " '02_기초딥.ipynb',\n",
       " '02_선형회귀_경사하강법_모두의 딥러닝_4장(p.63).ipynb',\n",
       " '03_로지스틱회귀_모두의 딥러닝_5장(p.79).ipynb',\n",
       " '04_단층다층퍼셉트론_오차역전파_심층신경망_모두의 딥러닝_6장-9장.ipynb',\n",
       " '05_이진분류_피마당뇨병 데이터셋_모두의 딥러닝_10장(p.122)_11장(p.130).ipynb',\n",
       " '05_이진분류_피마당뇨병 데이터셋_텐서보드.ipynb',\n",
       " '06_다중분류_아이리스 데이터셋_모두의 딥러닝_12장(p.146).ipynb',\n",
       " '07_데이터분할 과적합방지_소나신호 광물탐지 데이터셋_모두의 딥러닝_13장(p.155).ipynb',\n",
       " '07_데이터분할 과적합방지_와인품질 데이터셋_모두의 딥러닝_13장(p-Copy1.155).ipynb',\n",
       " '07_데이터분할 과적합방지_와인품질 데이터셋_모두의 딥러닝_13장(p.155).ipynb',\n",
       " '08_베스트모델만들기_와인품질 데이터셋_모두의 딥러닝_14장(p.174).ipynb',\n",
       " '09_수치예측_도요타 중고차 가격예측_모두의 딥러닝_15장(p-Copy1.196).ipynb',\n",
       " '09_수치예측_보스턴 주택가격 데이터셋_모두의 딥러닝_15장(p.196).ipynb',\n",
       " '10_이미지 분류예측_CNN컨볼루션신경망이용_MNIST 손글씨 숫자이미지_모두의 딥러닝_16장(p-Copy1.220).ipynb',\n",
       " '10_이미지 분류예측_CNN컨볼루션신경망이용_MNIST 손글씨 숫자이미지_모두의 딥러닝_16장(p.220).ipynb',\n",
       " '10_이미지 분류예측_DNN심층신경망이용_MNIST 손글씨 숫자이미지_모두의 딥러닝_16장(p-Copy1.204).ipynb',\n",
       " '10_이미지 분류예측_DNN심층신경망이용_MNIST 손글씨 숫자이미지_모두의 딥러닝_16장(p.204).ipynb',\n",
       " '11_텍스트 분류예측_DNN심층신경망이용_로이터 뉴스 주제분류_모두의 딥러닝_17장(p.234).ipynb',\n",
       " '11_텍스트 분류예측_RNN순환신경망이용_로이터 뉴스 주제분류_모두의 딥러닝_17장(p.234).ipynb',\n",
       " '12_핸드라이팅 도형이미지 분류예측_CNN컨볼루션신경망이용__블록 딥러닝_4장(p-Copy1.125).ipynb',\n",
       " '12_핸드라이팅 도형이미지 분류예측_CNN컨볼루션신경망이용__블록 딥러닝_4장(p.125).ipynb',\n",
       " '12_핸드라이팅 도형이미지 분류예측_CNN컨볼루션신경망이용__블록 딥러닝_4장(p.125).pdf',\n",
       " '12_핸드라이팅 도형이미지 분류예측_CNN컨볼루션신경망이용_혼동표.ipynb',\n",
       " '2017-3-8_CNN_Getting_Started_handwriting_shape.zip',\n",
       " 'b-lab.pem',\n",
       " 'b-lab.ppk',\n",
       " 'jupyternotebok20160815-160810063255.pdf',\n",
       " 'kagglecatsanddogs_3367a.zip',\n",
       " 'keras-dataset-reuters-newswire-topics.zip',\n",
       " 'mnist-in-csv.zip',\n",
       " 'mnistasjpg.zip',\n",
       " 'MNISTwithKeras.zip',\n",
       " 'modu.zip',\n",
       " 'notebook.tex',\n",
       " 'output_27_1.png',\n",
       " 'output_31_1.png',\n",
       " 'output_77_1.png',\n",
       " 'output_87_1.png',\n",
       " 'pima_md4_rb.h5',\n",
       " 'untitled',\n",
       " 'Untitled.ipynb',\n",
       " 'Untitled1.ipynb',\n",
       " 'Untitled2.ipynb',\n",
       " '모두딥러닝 그림.pptx',\n",
       " '모두딥러닝 그림_20181129.pptx',\n",
       " '모두딥러닝 그림_20181203.pptx',\n",
       " '모두딥러닝 그림_20181209.pptx',\n",
       " '모두딥러닝 그림_20181219.pptx',\n",
       " '모두딥러닝 그림_20181221.pptx',\n",
       " '보스턴.ipynb',\n",
       " '보스톤_드롭아웃.ipynb',\n",
       " '실습용 AWS 서버 접속방법_v0.50_20181218.pptx']"
      ]
     },
     "execution_count": 8,
     "metadata": {},
     "output_type": "execute_result"
    }
   ],
   "source": [
    "# 현재 작업경로내 파일목록만 확인\n",
    "for i in glob.glob('*'):\n",
    "    if os.path.isfile(i):\n",
    "        print(i)\n",
    "        \n",
    "# 축약형으로 구현\n",
    "[i for i in glob.glob('*') if os.path.isfile(i)]"
   ]
  },
  {
   "cell_type": "code",
   "execution_count": 9,
   "metadata": {},
   "outputs": [
    {
     "data": {
      "text/plain": [
       "['test', 'train']"
      ]
     },
     "execution_count": 9,
     "metadata": {},
     "output_type": "execute_result"
    }
   ],
   "source": [
    "# 현재 작업경로내 분석대상 이미지파일 저장폴더 확인\n",
    "os.listdir(path = './datapic/handwriting_shape')"
   ]
  },
  {
   "cell_type": "code",
   "execution_count": 10,
   "metadata": {
    "scrolled": true
   },
   "outputs": [
    {
     "name": "stdout",
     "output_type": "stream",
     "text": [
      "Folder: ./datapic/handwriting_shape\n",
      "Folder: ./datapic/handwriting_shape\\test\n",
      "Folder: ./datapic/handwriting_shape\\test\\circle\n",
      "\tcircle016.png\n",
      "\tcircle017.png\n",
      "\tcircle018.png\n",
      "\tcircle019.png\n",
      "\tcircle020.png\n",
      "Folder: ./datapic/handwriting_shape\\test\\rectangle\n",
      "\trectangle016.png\n",
      "\trectangle017.png\n",
      "\trectangle018.png\n",
      "\trectangle019.png\n",
      "\trectangle020.png\n",
      "Folder: ./datapic/handwriting_shape\\test\\triangle\n",
      "\ttriangle016.png\n",
      "\ttriangle017.png\n",
      "\ttriangle018.png\n",
      "\ttriangle019.png\n",
      "\ttriangle020.png\n",
      "Folder: ./datapic/handwriting_shape\\train\n",
      "Folder: ./datapic/handwriting_shape\\train\\circle\n",
      "\tcircle001.png\n",
      "\tcircle002.png\n",
      "\tcircle003.png\n",
      "\tcircle004.png\n",
      "\tcircle005.png\n",
      "\tcircle006.png\n",
      "\tcircle007.png\n",
      "\tcircle008.png\n",
      "\tcircle009.png\n",
      "\tcircle010.png\n",
      "\tcircle011.png\n",
      "\tcircle012.png\n",
      "\tcircle013.png\n",
      "\tcircle014.png\n",
      "\tcircle015.png\n",
      "Folder: ./datapic/handwriting_shape\\train\\rectangle\n",
      "\trectangle001.png\n",
      "\trectangle002.png\n",
      "\trectangle003.png\n",
      "\trectangle004.png\n",
      "\trectangle005.png\n",
      "\trectangle006.png\n",
      "\trectangle007.png\n",
      "\trectangle008.png\n",
      "\trectangle009.png\n",
      "\trectangle010.png\n",
      "\trectangle011.png\n",
      "\trectangle012.png\n",
      "\trectangle013.png\n",
      "\trectangle014.png\n",
      "\trectangle015.png\n",
      "Folder: ./datapic/handwriting_shape\\train\\triangle\n",
      "\ttriangle001.png\n",
      "\ttriangle002.png\n",
      "\ttriangle003.png\n",
      "\ttriangle004.png\n",
      "\ttriangle005.png\n",
      "\ttriangle006.png\n",
      "\ttriangle007.png\n",
      "\ttriangle008.png\n",
      "\ttriangle009.png\n",
      "\ttriangle010.png\n",
      "\ttriangle011.png\n",
      "\ttriangle012.png\n",
      "\ttriangle013.png\n",
      "\ttriangle014.png\n",
      "\ttriangle015.png\n"
     ]
    }
   ],
   "source": [
    "import os\n",
    " \n",
    "rootDir = './datapic/handwriting_shape'\n",
    "for dirName, subdirList, fileList in os.walk(rootDir):\n",
    "    print('Folder: %s' % dirName)\n",
    "    for fname in fileList:\n",
    "        print('\\t%s' % fname)\n"
   ]
  },
  {
   "cell_type": "markdown",
   "metadata": {},
   "source": [
    "### 이미지 파일 데이터셋 만들기"
   ]
  },
  {
   "cell_type": "code",
   "execution_count": 11,
   "metadata": {},
   "outputs": [],
   "source": [
    "# 무작위 시드넘버 설정으로 샘플 재현성 확보\n",
    "myseed = 10\n",
    "\n",
    "import numpy as np\n",
    "np.random.seed(myseed)"
   ]
  },
  {
   "cell_type": "code",
   "execution_count": 12,
   "metadata": {},
   "outputs": [
    {
     "name": "stderr",
     "output_type": "stream",
     "text": [
      "Using TensorFlow backend.\n"
     ]
    }
   ],
   "source": [
    "# 이미지파일 데이터셋 제네레이션 모듈 준비\n",
    "from keras.preprocessing.image import ImageDataGenerator\n",
    "# 이미지파일은 데이터 셋으로 변환해주는 모듈 ImageDataGenerator\n",
    "\n",
    "# 이미지파일 데이터셋 제네레이션 모듈 인스턴스 객체화\n",
    "imgen = ImageDataGenerator(rescale = 1./255) # 픽셀 농도를 미리 스케일링 함\n",
    "\n",
    "# - 하드디스크에 저장된 물리적인 이미지파일을 분석용 수치데이터셋으로 \n",
    "#   변환/생성(제네레이션) 하는 기능을 별도의 객체로 만들어 냄\n",
    "\n",
    "# - rescale = 1./255 옵션사용으로 딥러닝 연산에 적합한 스케일링 미리 실시해 로딩하는 것도 좋음\n",
    "#             사용하지 않으면, 원본이미지의 픽셀별 색상농도 0~255 수치가 그대로 로딩되며, \n",
    "#             별도로 스케일링 전처리를 해주면 됨"
   ]
  },
  {
   "cell_type": "code",
   "execution_count": 13,
   "metadata": {},
   "outputs": [
    {
     "name": "stdout",
     "output_type": "stream",
     "text": [
      "Found 45 images belonging to 3 classes.\n",
      "Found 15 images belonging to 3 classes.\n"
     ]
    }
   ],
   "source": [
    "# 이미지파일 데이터셋 생성객체 이용\n",
    "\n",
    "# 훈련데이터셋 생성하기(제네레이션)\n",
    "trainset = imgen.flow_from_directory(\n",
    "    directory = './datapic/handwriting_shape/train', \n",
    "    color_mode = 'grayscale', # 흑백으로 읽겠다. (컬러모드도 존재)\n",
    "    target_size = (24, 24),  # 이미지를 통일된 규격으로 맞춰줌 -> 동일한 조건으로 훈련시키기 위함\n",
    "    batch_size = 3, \n",
    "    class_mode = 'categorical')\n",
    "\n",
    "testset = imgen.flow_from_directory(\n",
    "    directory = './datapic/handwriting_shape/test', \n",
    "    color_mode = 'grayscale',\n",
    "    target_size = (24, 24), \n",
    "    batch_size = 3, \n",
    "    class_mode = 'categorical')\n",
    "\n",
    "# - directory: 해당 디렉토리 내에 분류예측대상 이미지파일을 레이블별로 폴더를 만들어서 저장해 놓아야 함\n",
    "# - color_mode: 흑백이미지(grayscale), 컬러이미지(rgb)\n",
    "# - target_size: 저장되어 있는 이미지 파일 로딩시 통일된 픽셀규격(가로, 세로)으로 로딩해줌\n",
    "# - batch_size: 이미지파일을 메모리로 로딩시 몇 개씩 나누어서 처리할 것인지 설정\n",
    "#               batsh_size = 3이므로 훈련용 이미지 45개 / 3배치 = 15개 epochs로 로딩됨\n",
    "#               batsh_size = 3이므로 테스트용 이미지 15갸 / 3배치 = 5개 epochs로 로딩됨\n",
    "# - class_mode: 분류예측용 레이블 숫자 생성\n",
    "#               binary:이항분류, categorical:다항분류, sparse:1차원 정수 "
   ]
  },
  {
   "cell_type": "markdown",
   "metadata": {},
   "source": [
    "# <font color = 'blue'>데이터 기본탐색</font>"
   ]
  },
  {
   "cell_type": "markdown",
   "metadata": {},
   "source": [
    "### 훈련용 이미지파일 데이터셋"
   ]
  },
  {
   "cell_type": "markdown",
   "metadata": {},
   "source": [
    "#### 이미지파일 로딩환경"
   ]
  },
  {
   "cell_type": "code",
   "execution_count": 14,
   "metadata": {
    "scrolled": true
   },
   "outputs": [
    {
     "name": "stdout",
     "output_type": "stream",
     "text": [
      "이미지파일 로딩 경로: ./datapic/handwriting_shape/train\n",
      "이미지파일 로딩 갯수: 45\n",
      "이미지파일 로딩 갯수: 45\n",
      "이미지파일 로딩 배치(batch) 크기: 3\n",
      "이미지파일 로딩 에포크(epochs) 크기: 15\n"
     ]
    }
   ],
   "source": [
    "print('이미지파일 로딩 경로:', trainset.directory)\n",
    "print('이미지파일 로딩 갯수:', trainset.n)\n",
    "print('이미지파일 로딩 갯수:', trainset.samples)\n",
    "print('이미지파일 로딩 배치(batch) 크기:', trainset.batch_size)\n",
    "print('이미지파일 로딩 에포크(epochs) 크기:', len(trainset))"
   ]
  },
  {
   "cell_type": "code",
   "execution_count": 15,
   "metadata": {
    "scrolled": true
   },
   "outputs": [
    {
     "data": {
      "text/plain": [
       "['circle\\\\circle001.png',\n",
       " 'circle\\\\circle002.png',\n",
       " 'circle\\\\circle003.png',\n",
       " 'circle\\\\circle004.png',\n",
       " 'circle\\\\circle005.png',\n",
       " 'circle\\\\circle006.png',\n",
       " 'circle\\\\circle007.png',\n",
       " 'circle\\\\circle008.png',\n",
       " 'circle\\\\circle009.png',\n",
       " 'circle\\\\circle010.png',\n",
       " 'circle\\\\circle011.png',\n",
       " 'circle\\\\circle012.png',\n",
       " 'circle\\\\circle013.png',\n",
       " 'circle\\\\circle014.png',\n",
       " 'circle\\\\circle015.png',\n",
       " 'rectangle\\\\rectangle001.png',\n",
       " 'rectangle\\\\rectangle002.png',\n",
       " 'rectangle\\\\rectangle003.png',\n",
       " 'rectangle\\\\rectangle004.png',\n",
       " 'rectangle\\\\rectangle005.png',\n",
       " 'rectangle\\\\rectangle006.png',\n",
       " 'rectangle\\\\rectangle007.png',\n",
       " 'rectangle\\\\rectangle008.png',\n",
       " 'rectangle\\\\rectangle009.png',\n",
       " 'rectangle\\\\rectangle010.png',\n",
       " 'rectangle\\\\rectangle011.png',\n",
       " 'rectangle\\\\rectangle012.png',\n",
       " 'rectangle\\\\rectangle013.png',\n",
       " 'rectangle\\\\rectangle014.png',\n",
       " 'rectangle\\\\rectangle015.png',\n",
       " 'triangle\\\\triangle001.png',\n",
       " 'triangle\\\\triangle002.png',\n",
       " 'triangle\\\\triangle003.png',\n",
       " 'triangle\\\\triangle004.png',\n",
       " 'triangle\\\\triangle005.png',\n",
       " 'triangle\\\\triangle006.png',\n",
       " 'triangle\\\\triangle007.png',\n",
       " 'triangle\\\\triangle008.png',\n",
       " 'triangle\\\\triangle009.png',\n",
       " 'triangle\\\\triangle010.png',\n",
       " 'triangle\\\\triangle011.png',\n",
       " 'triangle\\\\triangle012.png',\n",
       " 'triangle\\\\triangle013.png',\n",
       " 'triangle\\\\triangle014.png',\n",
       " 'triangle\\\\triangle015.png']"
      ]
     },
     "execution_count": 15,
     "metadata": {},
     "output_type": "execute_result"
    }
   ],
   "source": [
    "# 이미지파일 로딩경로와 파일명\n",
    "trainset.filenames"
   ]
  },
  {
   "cell_type": "markdown",
   "metadata": {},
   "source": [
    "#### 이미지파일 특성규격"
   ]
  },
  {
   "cell_type": "code",
   "execution_count": 16,
   "metadata": {},
   "outputs": [
    {
     "name": "stdout",
     "output_type": "stream",
     "text": [
      "이미지파일 색상채널 유형: grayscale\n",
      "이미지파일 데이터 저장특성: channels_last\n",
      "이미지파일 로딩규격: (24, 24)\n",
      "이미지파일 특성규격: (24, 24, 1)\n",
      "이미지파일 데이터 타입: float32\n",
      "이미지파일 픽셀과 픽셀사이, 점과 점사이 연결방법: nearest\n"
     ]
    }
   ],
   "source": [
    "print('이미지파일 색상채널 유형:', trainset.color_mode)\n",
    "# - color_mode 옵션사용시 흑백:gryscale, 컬러:rgb\n",
    "\n",
    "print('이미지파일 데이터 저장특성:', trainset.data_format)\n",
    "# - channels_last: (가로픽셀수, 세로픽셀수, 색상채널)\n",
    "# - channel_first: (색상채녈, 가로픽셀수, 세로픽셀수)\n",
    "\n",
    "print('이미지파일 로딩규격:', trainset.target_size)\n",
    "\n",
    "print('이미지파일 특성규격:', trainset.image_shape)\n",
    "# - 가로픽셀수, 세로픽셀수, 색상유형\n",
    "\n",
    "print('이미지파일 데이터 타입:', trainset.dtype)\n",
    "# - 이미지마다의 각 픽셀별 색상농도수치가 실수형32비트로 로딩됨\n",
    "# - 앞에서 imgen = ImageDataGenerator(rescale = 1./255)로 리스케일을 해줘서 1./ 때문에 Float형태가 됨\n",
    "\n",
    "print('이미지파일 픽셀과 픽셀사이, 점과 점사이 연결방법:', trainset.interpolation)\n",
    "# - nearest: 부드럽게 처리, none: 일반 직선모양"
   ]
  },
  {
   "cell_type": "markdown",
   "metadata": {},
   "source": [
    "#### 이미지파일 클래스 레이블"
   ]
  },
  {
   "cell_type": "code",
   "execution_count": 17,
   "metadata": {},
   "outputs": [
    {
     "name": "stdout",
     "output_type": "stream",
     "text": [
      "이미지파일 클래스 유형: categorical\n",
      "이미지파일 클래스 유형개수: 3\n",
      "\n",
      "이미지파일 클래스별 레이블과 번호:\n",
      " {'circle': 0, 'rectangle': 1, 'triangle': 2}\n",
      "\n",
      "이미지파일 마다 부여된 클래스 번호:\n",
      " [0 0 0 0 0 0 0 0 0 0 0 0 0 0 0 1 1 1 1 1 1 1 1 1 1 1 1 1 1 1 2 2 2 2 2 2 2\n",
      " 2 2 2 2 2 2 2 2]\n"
     ]
    }
   ],
   "source": [
    "print('이미지파일 클래스 유형:', trainset.class_mode)\n",
    "# - binary:이항분류, categorical:다항분류, sparse:1차원 정수\n",
    "\n",
    "print('이미지파일 클래스 유형개수:', trainset.num_classes)\n",
    "\n",
    "print('\\n이미지파일 클래스별 레이블과 번호:\\n', trainset.class_indices)\n",
    "# - 하드디스크에 저장되어 있는 폴더명&순서를 그대로 가져와서 사용함\n",
    "\n",
    "print('\\n이미지파일 마다 부여된 클래스 번호:\\n', trainset.classes)"
   ]
  },
  {
   "cell_type": "markdown",
   "metadata": {},
   "source": [
    "### 테스트용 이미지파일 데이터셋"
   ]
  },
  {
   "cell_type": "markdown",
   "metadata": {},
   "source": [
    "#### 이미지파일 로딩환경"
   ]
  },
  {
   "cell_type": "code",
   "execution_count": 18,
   "metadata": {
    "scrolled": true
   },
   "outputs": [
    {
     "name": "stdout",
     "output_type": "stream",
     "text": [
      "이미지파일 로딩 경로: ./datapic/handwriting_shape/test\n",
      "이미지파일 로딩 갯수: 15\n",
      "이미지파일 로딩 갯수: 15\n",
      "이미지파일 로딩 배치(batch) 크기: 3\n",
      "이미지파일 로딩 에포크(epochs) 크기: 5\n"
     ]
    }
   ],
   "source": [
    "print('이미지파일 로딩 경로:', testset.directory)\n",
    "print('이미지파일 로딩 갯수:', testset.n)\n",
    "print('이미지파일 로딩 갯수:', testset.samples)\n",
    "print('이미지파일 로딩 배치(batch) 크기:', testset.batch_size)\n",
    "print('이미지파일 로딩 에포크(epochs) 크기:', len(testset))"
   ]
  },
  {
   "cell_type": "code",
   "execution_count": 19,
   "metadata": {
    "scrolled": true
   },
   "outputs": [
    {
     "data": {
      "text/plain": [
       "['circle\\\\circle016.png',\n",
       " 'circle\\\\circle017.png',\n",
       " 'circle\\\\circle018.png',\n",
       " 'circle\\\\circle019.png',\n",
       " 'circle\\\\circle020.png',\n",
       " 'rectangle\\\\rectangle016.png',\n",
       " 'rectangle\\\\rectangle017.png',\n",
       " 'rectangle\\\\rectangle018.png',\n",
       " 'rectangle\\\\rectangle019.png',\n",
       " 'rectangle\\\\rectangle020.png',\n",
       " 'triangle\\\\triangle016.png',\n",
       " 'triangle\\\\triangle017.png',\n",
       " 'triangle\\\\triangle018.png',\n",
       " 'triangle\\\\triangle019.png',\n",
       " 'triangle\\\\triangle020.png']"
      ]
     },
     "execution_count": 19,
     "metadata": {},
     "output_type": "execute_result"
    }
   ],
   "source": [
    "# 이미지파일 로딩경로와 파일명\n",
    "testset.filenames"
   ]
  },
  {
   "cell_type": "markdown",
   "metadata": {},
   "source": [
    "#### 이미지파일 특성규격"
   ]
  },
  {
   "cell_type": "code",
   "execution_count": 20,
   "metadata": {},
   "outputs": [
    {
     "name": "stdout",
     "output_type": "stream",
     "text": [
      "이미지파일 색상채널 유형: grayscale\n",
      "이미지파일 데이터 저장특성: channels_last\n",
      "이미지파일 로딩규격: (24, 24)\n",
      "이미지파일 특성규격: (24, 24, 1)\n",
      "이미지파일 데이터 타입: float32\n",
      "이미지파일 픽셀과 픽셀사이, 점과 점사이 연결방법: nearest\n"
     ]
    }
   ],
   "source": [
    "print('이미지파일 색상채널 유형:', testset.color_mode)\n",
    "# - color_mode 옵션사용시 흑백:gryscale, 컬러:rgb\n",
    "\n",
    "print('이미지파일 데이터 저장특성:', testset.data_format)\n",
    "# - channels_last: (가로픽셀수, 세로픽셀수, 색상채널)\n",
    "# - channel_first: (색상채녈, 가로픽셀수, 세로픽셀수)\n",
    "\n",
    "print('이미지파일 로딩규격:', testset.target_size)\n",
    "\n",
    "print('이미지파일 특성규격:', testset.image_shape)\n",
    "# - 가로픽셀수, 세로픽셀수, 색상유형\n",
    "\n",
    "print('이미지파일 데이터 타입:', testset.dtype)\n",
    "# - 이미지마다의 각 픽셀별 색상농도수치가 실수형32비트로 로딩됨\n",
    "# - 앞에서 imgen = ImageDataGenerator(rescale = 1./255)로 리스케일을 해줘서 1./ 때문에 Float형태가 됨\n",
    "\n",
    "print('이미지파일 픽셀과 픽셀사이, 점과 점사이 연결방법:', testset.interpolation)\n",
    "# - nearest: 부드럽게 처리, none: 일반 직선모양"
   ]
  },
  {
   "cell_type": "markdown",
   "metadata": {},
   "source": [
    "#### 이미지파일 클래스 레이블"
   ]
  },
  {
   "cell_type": "code",
   "execution_count": 21,
   "metadata": {},
   "outputs": [
    {
     "name": "stdout",
     "output_type": "stream",
     "text": [
      "이미지파일 클래스 유형: categorical\n",
      "이미지파일 클래스 유형개수: 3\n",
      "\n",
      "이미지파일 클레스별 레이블과 번호:\n",
      " {'circle': 0, 'rectangle': 1, 'triangle': 2}\n",
      "\n",
      "이미지파일 마다 부여된 클래스 번호:\n",
      " [0 0 0 0 0 1 1 1 1 1 2 2 2 2 2]\n"
     ]
    }
   ],
   "source": [
    "print('이미지파일 클래스 유형:', testset.class_mode)\n",
    "# - binary:이항분류, categorical:다항분류, sparse:1차원 정수\n",
    "\n",
    "print('이미지파일 클래스 유형개수:', testset.num_classes)\n",
    "\n",
    "print('\\n이미지파일 클레스별 레이블과 번호:\\n', testset.class_indices)\n",
    "# - 하드디스크에 저장되어 있는 폴더명&순서를 그대로 가져와서 사용함\n",
    "\n",
    "print('\\n이미지파일 마다 부여된 클래스 번호:\\n', testset.classes)"
   ]
  },
  {
   "cell_type": "markdown",
   "metadata": {},
   "source": [
    "# <font color = 'blue'>데이터 내용탐색</font>"
   ]
  },
  {
   "cell_type": "markdown",
   "metadata": {},
   "source": [
    "### 로딩한 이미지파일 기본탐색"
   ]
  },
  {
   "cell_type": "code",
   "execution_count": 22,
   "metadata": {},
   "outputs": [
    {
     "name": "stdout",
     "output_type": "stream",
     "text": [
      "훈련용 이미지데이터셋 객체유형:, <class 'keras_preprocessing.image.DirectoryIterator'>\n",
      "훈련용 이미지데이터셋 객체길이: 15개 에포크\n",
      "1개 에포크당 훈련용 이미지파일: 3개씩 미니배치로 로딩됨\n",
      "분석대상 훈련용 이미지데이터셋: 45개 이미지의 가로세로 픽셀별 색상농도특성\n"
     ]
    }
   ],
   "source": [
    "print(f'훈련용 이미지데이터셋 객체유형:, {type(trainset)}')\n",
    "print(f'훈련용 이미지데이터셋 객체길이: {len(trainset)}개 에포크')\n",
    "print(f'1개 에포크당 훈련용 이미지파일: {trainset.batch_size}개씩 미니배치로 로딩됨')\n",
    "print(f'분석대상 훈련용 이미지데이터셋: {trainset.n}개 이미지의 가로세로 픽셀별 색상농도특성')"
   ]
  },
  {
   "cell_type": "code",
   "execution_count": 23,
   "metadata": {},
   "outputs": [
    {
     "name": "stdout",
     "output_type": "stream",
     "text": [
      "0번 에포크 객체유형: <class 'tuple'>\n",
      "0번 에포크 객체길이: 2\n"
     ]
    }
   ],
   "source": [
    "print(f'0번 에포크 객체유형: {type(trainset[0])}')\n",
    "print(f'0번 에포크 객체길이: {len(trainset[0])}')"
   ]
  },
  {
   "cell_type": "code",
   "execution_count": 24,
   "metadata": {},
   "outputs": [
    {
     "name": "stdout",
     "output_type": "stream",
     "text": [
      "0번 에포크 내용:\n",
      " (array([[[[1.],\n",
      "         [1.],\n",
      "         [1.],\n",
      "         ...,\n",
      "         [1.],\n",
      "         [1.],\n",
      "         [1.]],\n",
      "\n",
      "        [[1.],\n",
      "         [1.],\n",
      "         [1.],\n",
      "         ...,\n",
      "         [1.],\n",
      "         [1.],\n",
      "         [1.]],\n",
      "\n",
      "        [[1.],\n",
      "         [1.],\n",
      "         [1.],\n",
      "         ...,\n",
      "         [1.],\n",
      "         [1.],\n",
      "         [1.]],\n",
      "\n",
      "        ...,\n",
      "\n",
      "        [[1.],\n",
      "         [1.],\n",
      "         [1.],\n",
      "         ...,\n",
      "         [1.],\n",
      "         [1.],\n",
      "         [1.]],\n",
      "\n",
      "        [[1.],\n",
      "         [1.],\n",
      "         [1.],\n",
      "         ...,\n",
      "         [1.],\n",
      "         [1.],\n",
      "         [1.]],\n",
      "\n",
      "        [[1.],\n",
      "         [1.],\n",
      "         [1.],\n",
      "         ...,\n",
      "         [1.],\n",
      "         [1.],\n",
      "         [1.]]],\n",
      "\n",
      "\n",
      "       [[[1.],\n",
      "         [1.],\n",
      "         [1.],\n",
      "         ...,\n",
      "         [1.],\n",
      "         [1.],\n",
      "         [1.]],\n",
      "\n",
      "        [[1.],\n",
      "         [1.],\n",
      "         [1.],\n",
      "         ...,\n",
      "         [1.],\n",
      "         [1.],\n",
      "         [1.]],\n",
      "\n",
      "        [[1.],\n",
      "         [1.],\n",
      "         [1.],\n",
      "         ...,\n",
      "         [1.],\n",
      "         [1.],\n",
      "         [1.]],\n",
      "\n",
      "        ...,\n",
      "\n",
      "        [[1.],\n",
      "         [1.],\n",
      "         [1.],\n",
      "         ...,\n",
      "         [1.],\n",
      "         [1.],\n",
      "         [1.]],\n",
      "\n",
      "        [[1.],\n",
      "         [1.],\n",
      "         [1.],\n",
      "         ...,\n",
      "         [1.],\n",
      "         [1.],\n",
      "         [1.]],\n",
      "\n",
      "        [[1.],\n",
      "         [1.],\n",
      "         [1.],\n",
      "         ...,\n",
      "         [1.],\n",
      "         [1.],\n",
      "         [1.]]],\n",
      "\n",
      "\n",
      "       [[[1.],\n",
      "         [1.],\n",
      "         [1.],\n",
      "         ...,\n",
      "         [1.],\n",
      "         [1.],\n",
      "         [1.]],\n",
      "\n",
      "        [[1.],\n",
      "         [1.],\n",
      "         [1.],\n",
      "         ...,\n",
      "         [1.],\n",
      "         [1.],\n",
      "         [1.]],\n",
      "\n",
      "        [[1.],\n",
      "         [1.],\n",
      "         [1.],\n",
      "         ...,\n",
      "         [1.],\n",
      "         [1.],\n",
      "         [1.]],\n",
      "\n",
      "        ...,\n",
      "\n",
      "        [[1.],\n",
      "         [1.],\n",
      "         [1.],\n",
      "         ...,\n",
      "         [1.],\n",
      "         [1.],\n",
      "         [1.]],\n",
      "\n",
      "        [[1.],\n",
      "         [1.],\n",
      "         [1.],\n",
      "         ...,\n",
      "         [1.],\n",
      "         [1.],\n",
      "         [1.]],\n",
      "\n",
      "        [[1.],\n",
      "         [1.],\n",
      "         [1.],\n",
      "         ...,\n",
      "         [1.],\n",
      "         [1.],\n",
      "         [1.]]]], dtype=float32), array([[0., 0., 1.],\n",
      "       [1., 0., 0.],\n",
      "       [0., 1., 0.]], dtype=float32))\n"
     ]
    }
   ],
   "source": [
    "print('0번 에포크 내용:\\n', trainset[0])\n",
    "\n",
    "# - 첫번째 요소: 0번째 에포크에 미니배치로 로딩된 3개 이미지의 가로세로 픽셀별 색상농도 데이터\n",
    "# - 두번째 요소: 0번째 에포크에 미니배치로 로딩된 3개 이미지의 클래스 레이블 숫자인덱스\n",
    "#                rectangle, rectangle, circle로 나타남"
   ]
  },
  {
   "cell_type": "code",
   "execution_count": 25,
   "metadata": {},
   "outputs": [
    {
     "name": "stdout",
     "output_type": "stream",
     "text": [
      "0번 에포크의 0번 요소 객체유형: <class 'numpy.ndarray'>\n",
      "0번 에포크의 0번 요소 객체길이: 3\n"
     ]
    }
   ],
   "source": [
    "print(f'0번 에포크의 0번 요소 객체유형: {type(trainset[0][0])}')\n",
    "print(f'0번 에포크의 0번 요소 객체길이: {len(trainset[0][0])}')"
   ]
  },
  {
   "cell_type": "code",
   "execution_count": 26,
   "metadata": {
    "scrolled": true
   },
   "outputs": [
    {
     "name": "stdout",
     "output_type": "stream",
     "text": [
      "0번 에포크의 0번 요소 내용:\n",
      " [[[[1.]\n",
      "   [1.]\n",
      "   [1.]\n",
      "   ...\n",
      "   [1.]\n",
      "   [1.]\n",
      "   [1.]]\n",
      "\n",
      "  [[1.]\n",
      "   [1.]\n",
      "   [1.]\n",
      "   ...\n",
      "   [1.]\n",
      "   [1.]\n",
      "   [1.]]\n",
      "\n",
      "  [[1.]\n",
      "   [1.]\n",
      "   [1.]\n",
      "   ...\n",
      "   [1.]\n",
      "   [1.]\n",
      "   [1.]]\n",
      "\n",
      "  ...\n",
      "\n",
      "  [[1.]\n",
      "   [1.]\n",
      "   [1.]\n",
      "   ...\n",
      "   [1.]\n",
      "   [1.]\n",
      "   [1.]]\n",
      "\n",
      "  [[1.]\n",
      "   [1.]\n",
      "   [1.]\n",
      "   ...\n",
      "   [1.]\n",
      "   [1.]\n",
      "   [1.]]\n",
      "\n",
      "  [[1.]\n",
      "   [1.]\n",
      "   [1.]\n",
      "   ...\n",
      "   [1.]\n",
      "   [1.]\n",
      "   [1.]]]\n",
      "\n",
      "\n",
      " [[[1.]\n",
      "   [1.]\n",
      "   [1.]\n",
      "   ...\n",
      "   [1.]\n",
      "   [1.]\n",
      "   [1.]]\n",
      "\n",
      "  [[1.]\n",
      "   [1.]\n",
      "   [1.]\n",
      "   ...\n",
      "   [1.]\n",
      "   [1.]\n",
      "   [1.]]\n",
      "\n",
      "  [[1.]\n",
      "   [1.]\n",
      "   [1.]\n",
      "   ...\n",
      "   [1.]\n",
      "   [1.]\n",
      "   [1.]]\n",
      "\n",
      "  ...\n",
      "\n",
      "  [[1.]\n",
      "   [1.]\n",
      "   [1.]\n",
      "   ...\n",
      "   [1.]\n",
      "   [1.]\n",
      "   [1.]]\n",
      "\n",
      "  [[1.]\n",
      "   [1.]\n",
      "   [1.]\n",
      "   ...\n",
      "   [1.]\n",
      "   [1.]\n",
      "   [1.]]\n",
      "\n",
      "  [[1.]\n",
      "   [1.]\n",
      "   [1.]\n",
      "   ...\n",
      "   [1.]\n",
      "   [1.]\n",
      "   [1.]]]\n",
      "\n",
      "\n",
      " [[[1.]\n",
      "   [1.]\n",
      "   [1.]\n",
      "   ...\n",
      "   [1.]\n",
      "   [1.]\n",
      "   [1.]]\n",
      "\n",
      "  [[1.]\n",
      "   [1.]\n",
      "   [1.]\n",
      "   ...\n",
      "   [1.]\n",
      "   [1.]\n",
      "   [1.]]\n",
      "\n",
      "  [[1.]\n",
      "   [1.]\n",
      "   [1.]\n",
      "   ...\n",
      "   [1.]\n",
      "   [1.]\n",
      "   [1.]]\n",
      "\n",
      "  ...\n",
      "\n",
      "  [[1.]\n",
      "   [1.]\n",
      "   [1.]\n",
      "   ...\n",
      "   [1.]\n",
      "   [1.]\n",
      "   [1.]]\n",
      "\n",
      "  [[1.]\n",
      "   [1.]\n",
      "   [1.]\n",
      "   ...\n",
      "   [1.]\n",
      "   [1.]\n",
      "   [1.]]\n",
      "\n",
      "  [[1.]\n",
      "   [1.]\n",
      "   [1.]\n",
      "   ...\n",
      "   [1.]\n",
      "   [1.]\n",
      "   [1.]]]]\n"
     ]
    }
   ],
   "source": [
    "print('0번 에포크의 0번 요소 내용:\\n', trainset[0][0])\n",
    "# - 0번째 에포크에 미니배치로 로딩된 3개 이미지의 가로세로 픽셀별 색상농도 데이터"
   ]
  },
  {
   "cell_type": "code",
   "execution_count": 27,
   "metadata": {},
   "outputs": [
    {
     "name": "stdout",
     "output_type": "stream",
     "text": [
      "0번 에포크의 1번 요소 객체유형: <class 'numpy.ndarray'>\n",
      "0번 에포크의 1번 요소 객체길이: 3\n"
     ]
    }
   ],
   "source": [
    "print(f'0번 에포크의 1번 요소 객체유형: {type(trainset[0][1])}')\n",
    "print(f'0번 에포크의 1번 요소 객체길이: {len(trainset[0][1])}')"
   ]
  },
  {
   "cell_type": "code",
   "execution_count": 28,
   "metadata": {
    "scrolled": true
   },
   "outputs": [
    {
     "name": "stdout",
     "output_type": "stream",
     "text": [
      "0번째 에포크의 1번 요소 내용:\n",
      " [[0. 0. 1.]\n",
      " [1. 0. 0.]\n",
      " [0. 1. 0.]]\n"
     ]
    }
   ],
   "source": [
    "print('0번째 에포크의 1번 요소 내용:\\n', trainset[0][1])\n",
    "# - 0번째 에포크에 미니배치로 로딩된 3개 이미지의 \n",
    "#   클래스 레이블 숫자인덱스는 rectangle, rectangle, circle로 나타남"
   ]
  },
  {
   "cell_type": "markdown",
   "metadata": {},
   "source": [
    "차례로  <br> \n",
    "삼각형 <br>\n",
    "원 <br>\n",
    "사각형"
   ]
  },
  {
   "cell_type": "code",
   "execution_count": 29,
   "metadata": {},
   "outputs": [
    {
     "name": "stdout",
     "output_type": "stream",
     "text": [
      "0번 에포크 0번 요소에 있는 3개 이미지 중 0번 이미지 객체유형: <class 'numpy.ndarray'>\n",
      "0번 에포크 0번 요소에 있는 3개 이미지 중 0번 이미지 객체길이: 24\n"
     ]
    }
   ],
   "source": [
    "print(f'0번 에포크 0번 요소에 있는 3개 이미지 중 0번 이미지 객체유형: {type(trainset[0][0][0])}')\n",
    "print(f'0번 에포크 0번 요소에 있는 3개 이미지 중 0번 이미지 객체길이: {len(trainset[0][0][0])}')"
   ]
  },
  {
   "cell_type": "code",
   "execution_count": 30,
   "metadata": {
    "scrolled": true
   },
   "outputs": [
    {
     "name": "stdout",
     "output_type": "stream",
     "text": [
      "0번 에포크 0번 요소에 있는 3개 이미지 중 0번 이미지 내용: [[[1.        ]\n",
      "  [1.        ]\n",
      "  [1.        ]\n",
      "  [1.        ]\n",
      "  [1.        ]\n",
      "  [1.        ]\n",
      "  [1.        ]\n",
      "  [1.        ]\n",
      "  [1.        ]\n",
      "  [1.        ]\n",
      "  [1.        ]\n",
      "  [1.        ]\n",
      "  [1.        ]\n",
      "  [1.        ]\n",
      "  [1.        ]\n",
      "  [1.        ]\n",
      "  [1.        ]\n",
      "  [1.        ]\n",
      "  [1.        ]\n",
      "  [1.        ]\n",
      "  [1.        ]\n",
      "  [1.        ]\n",
      "  [1.        ]\n",
      "  [1.        ]]\n",
      "\n",
      " [[1.        ]\n",
      "  [1.        ]\n",
      "  [1.        ]\n",
      "  [1.        ]\n",
      "  [1.        ]\n",
      "  [1.        ]\n",
      "  [1.        ]\n",
      "  [1.        ]\n",
      "  [1.        ]\n",
      "  [1.        ]\n",
      "  [1.        ]\n",
      "  [1.        ]\n",
      "  [1.        ]\n",
      "  [1.        ]\n",
      "  [1.        ]\n",
      "  [1.        ]\n",
      "  [1.        ]\n",
      "  [1.        ]\n",
      "  [1.        ]\n",
      "  [1.        ]\n",
      "  [1.        ]\n",
      "  [1.        ]\n",
      "  [1.        ]\n",
      "  [1.        ]]\n",
      "\n",
      " [[1.        ]\n",
      "  [1.        ]\n",
      "  [1.        ]\n",
      "  [1.        ]\n",
      "  [1.        ]\n",
      "  [1.        ]\n",
      "  [1.        ]\n",
      "  [1.        ]\n",
      "  [1.        ]\n",
      "  [1.        ]\n",
      "  [1.        ]\n",
      "  [1.        ]\n",
      "  [1.        ]\n",
      "  [1.        ]\n",
      "  [1.        ]\n",
      "  [1.        ]\n",
      "  [1.        ]\n",
      "  [1.        ]\n",
      "  [1.        ]\n",
      "  [1.        ]\n",
      "  [1.        ]\n",
      "  [1.        ]\n",
      "  [1.        ]\n",
      "  [1.        ]]\n",
      "\n",
      " [[1.        ]\n",
      "  [1.        ]\n",
      "  [1.        ]\n",
      "  [1.        ]\n",
      "  [1.        ]\n",
      "  [1.        ]\n",
      "  [1.        ]\n",
      "  [1.        ]\n",
      "  [1.        ]\n",
      "  [1.        ]\n",
      "  [0.882353  ]\n",
      "  [0.9176471 ]\n",
      "  [1.        ]\n",
      "  [1.        ]\n",
      "  [1.        ]\n",
      "  [1.        ]\n",
      "  [1.        ]\n",
      "  [1.        ]\n",
      "  [1.        ]\n",
      "  [1.        ]\n",
      "  [1.        ]\n",
      "  [1.        ]\n",
      "  [1.        ]\n",
      "  [1.        ]]\n",
      "\n",
      " [[1.        ]\n",
      "  [1.        ]\n",
      "  [1.        ]\n",
      "  [1.        ]\n",
      "  [1.        ]\n",
      "  [1.        ]\n",
      "  [1.        ]\n",
      "  [1.        ]\n",
      "  [1.        ]\n",
      "  [1.        ]\n",
      "  [0.37647063]\n",
      "  [0.        ]\n",
      "  [0.6666667 ]\n",
      "  [1.        ]\n",
      "  [1.        ]\n",
      "  [1.        ]\n",
      "  [1.        ]\n",
      "  [1.        ]\n",
      "  [1.        ]\n",
      "  [1.        ]\n",
      "  [1.        ]\n",
      "  [1.        ]\n",
      "  [1.        ]\n",
      "  [1.        ]]\n",
      "\n",
      " [[1.        ]\n",
      "  [1.        ]\n",
      "  [1.        ]\n",
      "  [1.        ]\n",
      "  [1.        ]\n",
      "  [1.        ]\n",
      "  [1.        ]\n",
      "  [1.        ]\n",
      "  [1.        ]\n",
      "  [0.68235296]\n",
      "  [0.        ]\n",
      "  [0.        ]\n",
      "  [0.8313726 ]\n",
      "  [1.        ]\n",
      "  [1.        ]\n",
      "  [1.        ]\n",
      "  [1.        ]\n",
      "  [1.        ]\n",
      "  [1.        ]\n",
      "  [1.        ]\n",
      "  [1.        ]\n",
      "  [1.        ]\n",
      "  [1.        ]\n",
      "  [1.        ]]\n",
      "\n",
      " [[1.        ]\n",
      "  [1.        ]\n",
      "  [1.        ]\n",
      "  [1.        ]\n",
      "  [1.        ]\n",
      "  [1.        ]\n",
      "  [1.        ]\n",
      "  [1.        ]\n",
      "  [1.        ]\n",
      "  [0.49411768]\n",
      "  [0.        ]\n",
      "  [0.        ]\n",
      "  [0.29411766]\n",
      "  [0.9725491 ]\n",
      "  [1.        ]\n",
      "  [1.        ]\n",
      "  [1.        ]\n",
      "  [1.        ]\n",
      "  [1.        ]\n",
      "  [1.        ]\n",
      "  [1.        ]\n",
      "  [1.        ]\n",
      "  [1.        ]\n",
      "  [1.        ]]\n",
      "\n",
      " [[1.        ]\n",
      "  [1.        ]\n",
      "  [1.        ]\n",
      "  [1.        ]\n",
      "  [1.        ]\n",
      "  [1.        ]\n",
      "  [1.        ]\n",
      "  [1.        ]\n",
      "  [0.86666673]\n",
      "  [0.00392157]\n",
      "  [0.        ]\n",
      "  [0.07058824]\n",
      "  [0.        ]\n",
      "  [0.28627452]\n",
      "  [0.95294124]\n",
      "  [1.        ]\n",
      "  [1.        ]\n",
      "  [1.        ]\n",
      "  [1.        ]\n",
      "  [1.        ]\n",
      "  [1.        ]\n",
      "  [1.        ]\n",
      "  [1.        ]\n",
      "  [1.        ]]\n",
      "\n",
      " [[1.        ]\n",
      "  [1.        ]\n",
      "  [1.        ]\n",
      "  [1.        ]\n",
      "  [1.        ]\n",
      "  [1.        ]\n",
      "  [1.        ]\n",
      "  [1.        ]\n",
      "  [0.29803923]\n",
      "  [0.        ]\n",
      "  [0.427451  ]\n",
      "  [0.854902  ]\n",
      "  [0.09803922]\n",
      "  [0.        ]\n",
      "  [0.24313727]\n",
      "  [0.9607844 ]\n",
      "  [1.        ]\n",
      "  [1.        ]\n",
      "  [1.        ]\n",
      "  [1.        ]\n",
      "  [1.        ]\n",
      "  [1.        ]\n",
      "  [1.        ]\n",
      "  [1.        ]]\n",
      "\n",
      " [[1.        ]\n",
      "  [1.        ]\n",
      "  [1.        ]\n",
      "  [1.        ]\n",
      "  [1.        ]\n",
      "  [1.        ]\n",
      "  [1.        ]\n",
      "  [0.62352943]\n",
      "  [0.        ]\n",
      "  [0.07058824]\n",
      "  [0.92549026]\n",
      "  [1.        ]\n",
      "  [0.882353  ]\n",
      "  [0.13333334]\n",
      "  [0.        ]\n",
      "  [0.37647063]\n",
      "  [1.        ]\n",
      "  [1.        ]\n",
      "  [1.        ]\n",
      "  [1.        ]\n",
      "  [1.        ]\n",
      "  [1.        ]\n",
      "  [1.        ]\n",
      "  [1.        ]]\n",
      "\n",
      " [[1.        ]\n",
      "  [1.        ]\n",
      "  [1.        ]\n",
      "  [1.        ]\n",
      "  [1.        ]\n",
      "  [1.        ]\n",
      "  [0.8470589 ]\n",
      "  [0.01176471]\n",
      "  [0.        ]\n",
      "  [0.69803923]\n",
      "  [1.        ]\n",
      "  [1.        ]\n",
      "  [1.        ]\n",
      "  [0.86274517]\n",
      "  [0.03529412]\n",
      "  [0.        ]\n",
      "  [0.63529414]\n",
      "  [1.        ]\n",
      "  [1.        ]\n",
      "  [1.        ]\n",
      "  [1.        ]\n",
      "  [1.        ]\n",
      "  [1.        ]\n",
      "  [1.        ]]\n",
      "\n",
      " [[1.        ]\n",
      "  [1.        ]\n",
      "  [1.        ]\n",
      "  [1.        ]\n",
      "  [1.        ]\n",
      "  [0.9843138 ]\n",
      "  [0.21960786]\n",
      "  [0.        ]\n",
      "  [0.427451  ]\n",
      "  [1.        ]\n",
      "  [1.        ]\n",
      "  [1.        ]\n",
      "  [1.        ]\n",
      "  [1.        ]\n",
      "  [0.68235296]\n",
      "  [0.        ]\n",
      "  [0.01960784]\n",
      "  [0.8470589 ]\n",
      "  [1.        ]\n",
      "  [1.        ]\n",
      "  [1.        ]\n",
      "  [1.        ]\n",
      "  [1.        ]\n",
      "  [1.        ]]\n",
      "\n",
      " [[1.        ]\n",
      "  [1.        ]\n",
      "  [1.        ]\n",
      "  [1.        ]\n",
      "  [1.        ]\n",
      "  [0.5529412 ]\n",
      "  [0.        ]\n",
      "  [0.1254902 ]\n",
      "  [0.9568628 ]\n",
      "  [1.        ]\n",
      "  [1.        ]\n",
      "  [1.        ]\n",
      "  [1.        ]\n",
      "  [1.        ]\n",
      "  [1.        ]\n",
      "  [0.41176474]\n",
      "  [0.        ]\n",
      "  [0.16470589]\n",
      "  [0.9490197 ]\n",
      "  [1.        ]\n",
      "  [1.        ]\n",
      "  [1.        ]\n",
      "  [1.        ]\n",
      "  [1.        ]]\n",
      "\n",
      " [[1.        ]\n",
      "  [1.        ]\n",
      "  [1.        ]\n",
      "  [1.        ]\n",
      "  [0.7725491 ]\n",
      "  [0.00392157]\n",
      "  [0.        ]\n",
      "  [0.7607844 ]\n",
      "  [1.        ]\n",
      "  [1.        ]\n",
      "  [1.        ]\n",
      "  [1.        ]\n",
      "  [1.        ]\n",
      "  [1.        ]\n",
      "  [1.        ]\n",
      "  [0.96470594]\n",
      "  [0.19607845]\n",
      "  [0.        ]\n",
      "  [0.37254903]\n",
      "  [1.        ]\n",
      "  [1.        ]\n",
      "  [1.        ]\n",
      "  [1.        ]\n",
      "  [1.        ]]\n",
      "\n",
      " [[1.        ]\n",
      "  [1.        ]\n",
      "  [1.        ]\n",
      "  [0.909804  ]\n",
      "  [0.06666667]\n",
      "  [0.        ]\n",
      "  [0.5058824 ]\n",
      "  [1.        ]\n",
      "  [1.        ]\n",
      "  [1.        ]\n",
      "  [1.        ]\n",
      "  [1.        ]\n",
      "  [1.        ]\n",
      "  [1.        ]\n",
      "  [1.        ]\n",
      "  [1.        ]\n",
      "  [0.8745099 ]\n",
      "  [0.03529412]\n",
      "  [0.        ]\n",
      "  [0.6627451 ]\n",
      "  [1.        ]\n",
      "  [1.        ]\n",
      "  [1.        ]\n",
      "  [1.        ]]\n",
      "\n",
      " [[1.        ]\n",
      "  [1.        ]\n",
      "  [1.        ]\n",
      "  [0.40784317]\n",
      "  [0.        ]\n",
      "  [0.3137255 ]\n",
      "  [0.9921569 ]\n",
      "  [1.        ]\n",
      "  [1.        ]\n",
      "  [1.        ]\n",
      "  [1.        ]\n",
      "  [1.        ]\n",
      "  [1.        ]\n",
      "  [1.        ]\n",
      "  [1.        ]\n",
      "  [1.        ]\n",
      "  [1.        ]\n",
      "  [0.65882355]\n",
      "  [0.        ]\n",
      "  [0.03921569]\n",
      "  [0.8941177 ]\n",
      "  [1.        ]\n",
      "  [1.        ]\n",
      "  [1.        ]]\n",
      "\n",
      " [[1.        ]\n",
      "  [1.        ]\n",
      "  [0.8745099 ]\n",
      "  [0.00392157]\n",
      "  [0.00392157]\n",
      "  [0.882353  ]\n",
      "  [1.        ]\n",
      "  [1.        ]\n",
      "  [1.        ]\n",
      "  [1.        ]\n",
      "  [1.        ]\n",
      "  [1.        ]\n",
      "  [1.        ]\n",
      "  [1.        ]\n",
      "  [1.        ]\n",
      "  [1.        ]\n",
      "  [1.        ]\n",
      "  [1.        ]\n",
      "  [0.34901962]\n",
      "  [0.        ]\n",
      "  [0.28627452]\n",
      "  [0.9921569 ]\n",
      "  [1.        ]\n",
      "  [1.        ]]\n",
      "\n",
      " [[1.        ]\n",
      "  [1.        ]\n",
      "  [0.2901961 ]\n",
      "  [0.        ]\n",
      "  [0.25490198]\n",
      "  [0.7568628 ]\n",
      "  [0.7294118 ]\n",
      "  [0.67058825]\n",
      "  [0.5529412 ]\n",
      "  [0.41960788]\n",
      "  [0.31764707]\n",
      "  [0.24313727]\n",
      "  [0.21568629]\n",
      "  [0.1764706 ]\n",
      "  [0.13725491]\n",
      "  [0.12156864]\n",
      "  [0.12156864]\n",
      "  [0.12156864]\n",
      "  [0.07843138]\n",
      "  [0.        ]\n",
      "  [0.        ]\n",
      "  [0.6156863 ]\n",
      "  [1.        ]\n",
      "  [1.        ]]\n",
      "\n",
      " [[1.        ]\n",
      "  [0.86274517]\n",
      "  [0.        ]\n",
      "  [0.        ]\n",
      "  [0.        ]\n",
      "  [0.        ]\n",
      "  [0.        ]\n",
      "  [0.        ]\n",
      "  [0.        ]\n",
      "  [0.        ]\n",
      "  [0.        ]\n",
      "  [0.        ]\n",
      "  [0.        ]\n",
      "  [0.        ]\n",
      "  [0.        ]\n",
      "  [0.        ]\n",
      "  [0.        ]\n",
      "  [0.        ]\n",
      "  [0.        ]\n",
      "  [0.        ]\n",
      "  [0.        ]\n",
      "  [0.5294118 ]\n",
      "  [1.        ]\n",
      "  [1.        ]]\n",
      "\n",
      " [[1.        ]\n",
      "  [0.9843138 ]\n",
      "  [0.5019608 ]\n",
      "  [0.29803923]\n",
      "  [0.29411766]\n",
      "  [0.29803923]\n",
      "  [0.3254902 ]\n",
      "  [0.38823533]\n",
      "  [0.5019608 ]\n",
      "  [0.6313726 ]\n",
      "  [0.73333335]\n",
      "  [0.8000001 ]\n",
      "  [0.8235295 ]\n",
      "  [0.854902  ]\n",
      "  [0.882353  ]\n",
      "  [0.8941177 ]\n",
      "  [0.8941177 ]\n",
      "  [0.8941177 ]\n",
      "  [0.8941177 ]\n",
      "  [0.86274517]\n",
      "  [0.8078432 ]\n",
      "  [0.9921569 ]\n",
      "  [1.        ]\n",
      "  [1.        ]]\n",
      "\n",
      " [[1.        ]\n",
      "  [1.        ]\n",
      "  [1.        ]\n",
      "  [1.        ]\n",
      "  [1.        ]\n",
      "  [1.        ]\n",
      "  [1.        ]\n",
      "  [1.        ]\n",
      "  [1.        ]\n",
      "  [1.        ]\n",
      "  [1.        ]\n",
      "  [1.        ]\n",
      "  [1.        ]\n",
      "  [1.        ]\n",
      "  [1.        ]\n",
      "  [1.        ]\n",
      "  [1.        ]\n",
      "  [1.        ]\n",
      "  [1.        ]\n",
      "  [1.        ]\n",
      "  [1.        ]\n",
      "  [1.        ]\n",
      "  [1.        ]\n",
      "  [1.        ]]\n",
      "\n",
      " [[1.        ]\n",
      "  [1.        ]\n",
      "  [1.        ]\n",
      "  [1.        ]\n",
      "  [1.        ]\n",
      "  [1.        ]\n",
      "  [1.        ]\n",
      "  [1.        ]\n",
      "  [1.        ]\n",
      "  [1.        ]\n",
      "  [1.        ]\n",
      "  [1.        ]\n",
      "  [1.        ]\n",
      "  [1.        ]\n",
      "  [1.        ]\n",
      "  [1.        ]\n",
      "  [1.        ]\n",
      "  [1.        ]\n",
      "  [1.        ]\n",
      "  [1.        ]\n",
      "  [1.        ]\n",
      "  [1.        ]\n",
      "  [1.        ]\n",
      "  [1.        ]]\n",
      "\n",
      " [[1.        ]\n",
      "  [1.        ]\n",
      "  [1.        ]\n",
      "  [1.        ]\n",
      "  [1.        ]\n",
      "  [1.        ]\n",
      "  [1.        ]\n",
      "  [1.        ]\n",
      "  [1.        ]\n",
      "  [1.        ]\n",
      "  [1.        ]\n",
      "  [1.        ]\n",
      "  [1.        ]\n",
      "  [1.        ]\n",
      "  [1.        ]\n",
      "  [1.        ]\n",
      "  [1.        ]\n",
      "  [1.        ]\n",
      "  [1.        ]\n",
      "  [1.        ]\n",
      "  [1.        ]\n",
      "  [1.        ]\n",
      "  [1.        ]\n",
      "  [1.        ]]\n",
      "\n",
      " [[1.        ]\n",
      "  [1.        ]\n",
      "  [1.        ]\n",
      "  [1.        ]\n",
      "  [1.        ]\n",
      "  [1.        ]\n",
      "  [1.        ]\n",
      "  [1.        ]\n",
      "  [1.        ]\n",
      "  [1.        ]\n",
      "  [1.        ]\n",
      "  [1.        ]\n",
      "  [1.        ]\n",
      "  [1.        ]\n",
      "  [1.        ]\n",
      "  [1.        ]\n",
      "  [1.        ]\n",
      "  [1.        ]\n",
      "  [1.        ]\n",
      "  [1.        ]\n",
      "  [1.        ]\n",
      "  [1.        ]\n",
      "  [1.        ]\n",
      "  [1.        ]]]\n"
     ]
    }
   ],
   "source": [
    "print(f'0번 에포크 0번 요소에 있는 3개 이미지 중 0번 이미지 내용: {trainset[0][0][0]}')\n",
    "# - 0번째 에포크에 미니배치로 로딩된 3개 이미지 중 첫번째 이미지의 가로세로 픽셀별 색상농도 데이터"
   ]
  },
  {
   "cell_type": "code",
   "execution_count": 31,
   "metadata": {
    "scrolled": true
   },
   "outputs": [
    {
     "name": "stdout",
     "output_type": "stream",
     "text": [
      "0번 에포크 0번 요소에 있는 3개 이미지 중 0번 이미지 내용: 24X24 규격\n"
     ]
    },
    {
     "data": {
      "text/plain": [
       "array([[1.        , 1.        , 1.        , 1.        , 1.        ,\n",
       "        1.        , 1.        , 1.        , 1.        , 1.        ,\n",
       "        1.        , 1.        , 1.        , 1.        , 1.        ,\n",
       "        1.        , 1.        , 1.        , 1.        , 1.        ,\n",
       "        1.        , 1.        , 1.        , 1.        ],\n",
       "       [1.        , 1.        , 1.        , 1.        , 1.        ,\n",
       "        1.        , 1.        , 1.        , 1.        , 1.        ,\n",
       "        1.        , 1.        , 1.        , 1.        , 1.        ,\n",
       "        1.        , 1.        , 1.        , 1.        , 1.        ,\n",
       "        1.        , 1.        , 1.        , 1.        ],\n",
       "       [1.        , 1.        , 1.        , 1.        , 1.        ,\n",
       "        1.        , 1.        , 1.        , 1.        , 1.        ,\n",
       "        1.        , 1.        , 1.        , 1.        , 1.        ,\n",
       "        1.        , 1.        , 1.        , 1.        , 1.        ,\n",
       "        1.        , 1.        , 1.        , 1.        ],\n",
       "       [1.        , 1.        , 1.        , 1.        , 1.        ,\n",
       "        1.        , 1.        , 1.        , 1.        , 1.        ,\n",
       "        0.882353  , 0.9176471 , 1.        , 1.        , 1.        ,\n",
       "        1.        , 1.        , 1.        , 1.        , 1.        ,\n",
       "        1.        , 1.        , 1.        , 1.        ],\n",
       "       [1.        , 1.        , 1.        , 1.        , 1.        ,\n",
       "        1.        , 1.        , 1.        , 1.        , 1.        ,\n",
       "        0.37647063, 0.        , 0.6666667 , 1.        , 1.        ,\n",
       "        1.        , 1.        , 1.        , 1.        , 1.        ,\n",
       "        1.        , 1.        , 1.        , 1.        ],\n",
       "       [1.        , 1.        , 1.        , 1.        , 1.        ,\n",
       "        1.        , 1.        , 1.        , 1.        , 0.68235296,\n",
       "        0.        , 0.        , 0.8313726 , 1.        , 1.        ,\n",
       "        1.        , 1.        , 1.        , 1.        , 1.        ,\n",
       "        1.        , 1.        , 1.        , 1.        ],\n",
       "       [1.        , 1.        , 1.        , 1.        , 1.        ,\n",
       "        1.        , 1.        , 1.        , 1.        , 0.49411768,\n",
       "        0.        , 0.        , 0.29411766, 0.9725491 , 1.        ,\n",
       "        1.        , 1.        , 1.        , 1.        , 1.        ,\n",
       "        1.        , 1.        , 1.        , 1.        ],\n",
       "       [1.        , 1.        , 1.        , 1.        , 1.        ,\n",
       "        1.        , 1.        , 1.        , 0.86666673, 0.00392157,\n",
       "        0.        , 0.07058824, 0.        , 0.28627452, 0.95294124,\n",
       "        1.        , 1.        , 1.        , 1.        , 1.        ,\n",
       "        1.        , 1.        , 1.        , 1.        ],\n",
       "       [1.        , 1.        , 1.        , 1.        , 1.        ,\n",
       "        1.        , 1.        , 1.        , 0.29803923, 0.        ,\n",
       "        0.427451  , 0.854902  , 0.09803922, 0.        , 0.24313727,\n",
       "        0.9607844 , 1.        , 1.        , 1.        , 1.        ,\n",
       "        1.        , 1.        , 1.        , 1.        ],\n",
       "       [1.        , 1.        , 1.        , 1.        , 1.        ,\n",
       "        1.        , 1.        , 0.62352943, 0.        , 0.07058824,\n",
       "        0.92549026, 1.        , 0.882353  , 0.13333334, 0.        ,\n",
       "        0.37647063, 1.        , 1.        , 1.        , 1.        ,\n",
       "        1.        , 1.        , 1.        , 1.        ],\n",
       "       [1.        , 1.        , 1.        , 1.        , 1.        ,\n",
       "        1.        , 0.8470589 , 0.01176471, 0.        , 0.69803923,\n",
       "        1.        , 1.        , 1.        , 0.86274517, 0.03529412,\n",
       "        0.        , 0.63529414, 1.        , 1.        , 1.        ,\n",
       "        1.        , 1.        , 1.        , 1.        ],\n",
       "       [1.        , 1.        , 1.        , 1.        , 1.        ,\n",
       "        0.9843138 , 0.21960786, 0.        , 0.427451  , 1.        ,\n",
       "        1.        , 1.        , 1.        , 1.        , 0.68235296,\n",
       "        0.        , 0.01960784, 0.8470589 , 1.        , 1.        ,\n",
       "        1.        , 1.        , 1.        , 1.        ],\n",
       "       [1.        , 1.        , 1.        , 1.        , 1.        ,\n",
       "        0.5529412 , 0.        , 0.1254902 , 0.9568628 , 1.        ,\n",
       "        1.        , 1.        , 1.        , 1.        , 1.        ,\n",
       "        0.41176474, 0.        , 0.16470589, 0.9490197 , 1.        ,\n",
       "        1.        , 1.        , 1.        , 1.        ],\n",
       "       [1.        , 1.        , 1.        , 1.        , 0.7725491 ,\n",
       "        0.00392157, 0.        , 0.7607844 , 1.        , 1.        ,\n",
       "        1.        , 1.        , 1.        , 1.        , 1.        ,\n",
       "        0.96470594, 0.19607845, 0.        , 0.37254903, 1.        ,\n",
       "        1.        , 1.        , 1.        , 1.        ],\n",
       "       [1.        , 1.        , 1.        , 0.909804  , 0.06666667,\n",
       "        0.        , 0.5058824 , 1.        , 1.        , 1.        ,\n",
       "        1.        , 1.        , 1.        , 1.        , 1.        ,\n",
       "        1.        , 0.8745099 , 0.03529412, 0.        , 0.6627451 ,\n",
       "        1.        , 1.        , 1.        , 1.        ],\n",
       "       [1.        , 1.        , 1.        , 0.40784317, 0.        ,\n",
       "        0.3137255 , 0.9921569 , 1.        , 1.        , 1.        ,\n",
       "        1.        , 1.        , 1.        , 1.        , 1.        ,\n",
       "        1.        , 1.        , 0.65882355, 0.        , 0.03921569,\n",
       "        0.8941177 , 1.        , 1.        , 1.        ],\n",
       "       [1.        , 1.        , 0.8745099 , 0.00392157, 0.00392157,\n",
       "        0.882353  , 1.        , 1.        , 1.        , 1.        ,\n",
       "        1.        , 1.        , 1.        , 1.        , 1.        ,\n",
       "        1.        , 1.        , 1.        , 0.34901962, 0.        ,\n",
       "        0.28627452, 0.9921569 , 1.        , 1.        ],\n",
       "       [1.        , 1.        , 0.2901961 , 0.        , 0.25490198,\n",
       "        0.7568628 , 0.7294118 , 0.67058825, 0.5529412 , 0.41960788,\n",
       "        0.31764707, 0.24313727, 0.21568629, 0.1764706 , 0.13725491,\n",
       "        0.12156864, 0.12156864, 0.12156864, 0.07843138, 0.        ,\n",
       "        0.        , 0.6156863 , 1.        , 1.        ],\n",
       "       [1.        , 0.86274517, 0.        , 0.        , 0.        ,\n",
       "        0.        , 0.        , 0.        , 0.        , 0.        ,\n",
       "        0.        , 0.        , 0.        , 0.        , 0.        ,\n",
       "        0.        , 0.        , 0.        , 0.        , 0.        ,\n",
       "        0.        , 0.5294118 , 1.        , 1.        ],\n",
       "       [1.        , 0.9843138 , 0.5019608 , 0.29803923, 0.29411766,\n",
       "        0.29803923, 0.3254902 , 0.38823533, 0.5019608 , 0.6313726 ,\n",
       "        0.73333335, 0.8000001 , 0.8235295 , 0.854902  , 0.882353  ,\n",
       "        0.8941177 , 0.8941177 , 0.8941177 , 0.8941177 , 0.86274517,\n",
       "        0.8078432 , 0.9921569 , 1.        , 1.        ],\n",
       "       [1.        , 1.        , 1.        , 1.        , 1.        ,\n",
       "        1.        , 1.        , 1.        , 1.        , 1.        ,\n",
       "        1.        , 1.        , 1.        , 1.        , 1.        ,\n",
       "        1.        , 1.        , 1.        , 1.        , 1.        ,\n",
       "        1.        , 1.        , 1.        , 1.        ],\n",
       "       [1.        , 1.        , 1.        , 1.        , 1.        ,\n",
       "        1.        , 1.        , 1.        , 1.        , 1.        ,\n",
       "        1.        , 1.        , 1.        , 1.        , 1.        ,\n",
       "        1.        , 1.        , 1.        , 1.        , 1.        ,\n",
       "        1.        , 1.        , 1.        , 1.        ],\n",
       "       [1.        , 1.        , 1.        , 1.        , 1.        ,\n",
       "        1.        , 1.        , 1.        , 1.        , 1.        ,\n",
       "        1.        , 1.        , 1.        , 1.        , 1.        ,\n",
       "        1.        , 1.        , 1.        , 1.        , 1.        ,\n",
       "        1.        , 1.        , 1.        , 1.        ],\n",
       "       [1.        , 1.        , 1.        , 1.        , 1.        ,\n",
       "        1.        , 1.        , 1.        , 1.        , 1.        ,\n",
       "        1.        , 1.        , 1.        , 1.        , 1.        ,\n",
       "        1.        , 1.        , 1.        , 1.        , 1.        ,\n",
       "        1.        , 1.        , 1.        , 1.        ]], dtype=float32)"
      ]
     },
     "execution_count": 31,
     "metadata": {},
     "output_type": "execute_result"
    }
   ],
   "source": [
    "print('0번 에포크 0번 요소에 있는 3개 이미지 중 0번 이미지 내용: 24X24 규격') \n",
    "trainset[0][0][0].reshape(24, 24)\n",
    "\n",
    "# - 0번째 에포크에 미니배치로 로딩된 3개 이미지 중 \n",
    "#   첫번째 이미지의 가로세로 픽셀별 색상농도 데이터\n",
    "# - 이미지로딩시 설정한 24X24 규격으로 재구조화해 출력함"
   ]
  },
  {
   "cell_type": "code",
   "execution_count": 32,
   "metadata": {},
   "outputs": [
    {
     "name": "stdout",
     "output_type": "stream",
     "text": [
      "   1    1    1    1    1    1    1    1    1    1    1    1    1    1    1    1    1    1    1    1    1    1    1    1 \n",
      "   1    1    1    1    1    1    1    1    1    1    1    1    1    1    1    1    1    1    1    1    1    1    1    1 \n",
      "   1    1    1    1    1    1    1    1    1    1    1    1    1    1    1    1    1    1    1    1    1    1    1    1 \n",
      "   1    1    1    1    1    1    1    1    1    1    0    0    1    1    1    1    1    1    1    1    1    1    1    1 \n",
      "   1    1    1    1    1    1    1    1    1    1    0    0    0    1    1    1    1    1    1    1    1    1    1    1 \n",
      "   1    1    1    1    1    1    1    1    1    0    0    0    0    1    1    1    1    1    1    1    1    1    1    1 \n",
      "   1    1    1    1    1    1    1    1    1    0    0    0    0    0    1    1    1    1    1    1    1    1    1    1 \n",
      "   1    1    1    1    1    1    1    1    0    0    0    0    0    0    0    1    1    1    1    1    1    1    1    1 \n",
      "   1    1    1    1    1    1    1    1    0    0    0    0    0    0    0    0    1    1    1    1    1    1    1    1 \n",
      "   1    1    1    1    1    1    1    0    0    0    0    1    0    0    0    0    1    1    1    1    1    1    1    1 \n",
      "   1    1    1    1    1    1    0    0    0    0    1    1    1    0    0    0    0    1    1    1    1    1    1    1 \n",
      "   1    1    1    1    1    0    0    0    0    1    1    1    1    1    0    0    0    0    1    1    1    1    1    1 \n",
      "   1    1    1    1    1    0    0    0    0    1    1    1    1    1    1    0    0    0    0    1    1    1    1    1 \n",
      "   1    1    1    1    0    0    0    0    1    1    1    1    1    1    1    0    0    0    0    1    1    1    1    1 \n",
      "   1    1    1    0    0    0    0    1    1    1    1    1    1    1    1    1    0    0    0    0    1    1    1    1 \n",
      "   1    1    1    0    0    0    0    1    1    1    1    1    1    1    1    1    1    0    0    0    0    1    1    1 \n",
      "   1    1    0    0    0    0    1    1    1    1    1    1    1    1    1    1    1    1    0    0    0    0    1    1 \n",
      "   1    1    0    0    0    0    0    0    0    0    0    0    0    0    0    0    0    0    0    0    0    0    1    1 \n",
      "   1    0    0    0    0    0    0    0    0    0    0    0    0    0    0    0    0    0    0    0    0    0    1    1 \n",
      "   1    0    0    0    0    0    0    0    0    0    0    0    0    0    0    0    0    0    0    0    0    0    1    1 \n",
      "   1    1    1    1    1    1    1    1    1    1    1    1    1    1    1    1    1    1    1    1    1    1    1    1 \n",
      "   1    1    1    1    1    1    1    1    1    1    1    1    1    1    1    1    1    1    1    1    1    1    1    1 \n",
      "   1    1    1    1    1    1    1    1    1    1    1    1    1    1    1    1    1    1    1    1    1    1    1    1 \n",
      "   1    1    1    1    1    1    1    1    1    1    1    1    1    1    1    1    1    1    1    1    1    1    1    1 \n"
     ]
    }
   ],
   "source": [
    "# 이미지데이터를 가로28 X 세로28 = 768픽셀 구조형식으로 출력하기\n",
    "\n",
    "for x in trainset[0][0][0].reshape(24, 24).astype(int): # 전체내용 중 1개 행씩 로딩,출력자리수 때문에 정수로 만듬\n",
    "    for i in x:      # 1개 행에 속한 세부 열 요소를 하나씩 로딩\n",
    "        print('{:4} '.format(i), end = '') # 해당 픽셀의 밝기정도 수치를 출력\n",
    "    print() # 1개 행 출력을 마치면 출력위치를 다음 행으로 이동"
   ]
  },
  {
   "cell_type": "code",
   "execution_count": 33,
   "metadata": {},
   "outputs": [
    {
     "data": {
      "text/plain": [
       "Text(0.5, 1.0, '숫자이미지의 픽셀분포 히스토그램')"
      ]
     },
     "execution_count": 33,
     "metadata": {},
     "output_type": "execute_result"
    },
    {
     "data": {
      "image/png": "[encoded data removed]",
      "text/plain": [
       "<Figure size 1080x360 with 3 Axes>"
      ]
     },
     "metadata": {
      "needs_background": "light"
     },
     "output_type": "display_data"
    }
   ],
   "source": [
    "# 이미지데이터 재구조화\n",
    "img = trainset[0][0][0].reshape(24, 24)\n",
    "# - 가로24 X 세로24 = 총 576개 픽셀로 구성된 이미지파일을\n",
    "#   각 픽셀별 밝기정도를 나타내는 수치로 인식함\n",
    "\n",
    "# 이미지 데이터 픽셀정보 분포파악\n",
    "fig = plt.figure(figsize = (15, 5))\n",
    "\n",
    "plt.subplot(1, 3, 1)\n",
    "plt.imshow(trainset[0][0][0].reshape(24, 24))\n",
    "plt.title(f'Shape: {trainset[0][1][0]}')\n",
    "\n",
    "plt.subplot(1, 3, 2)\n",
    "plt.imshow(trainset[0][0][0].reshape(24, 24), cmap = 'gray', interpolation = 'none')\n",
    "plt.title(f'Shape: {trainset[0][1][0]}')\n",
    "\n",
    "plt.subplot(1, 3, 3)\n",
    "plt.hist(trainset[0][0][0].reshape(576))\n",
    "plt.title(\"숫자이미지의 픽셀분포 히스토그램\")"
   ]
  },
  {
   "cell_type": "code",
   "execution_count": 34,
   "metadata": {},
   "outputs": [
    {
     "data": {
      "image/png": "[encoded data removed]",
      "text/plain": [
       "<Figure size 432x288 with 3 Axes>"
      ]
     },
     "metadata": {},
     "output_type": "display_data"
    }
   ],
   "source": [
    "# 훈련셋 중 여러 개 숫자이미지 그래픽출력\n",
    "fig = plt.figure()\n",
    "\n",
    "for i in range(3):\n",
    "    plt.subplot(1, 3, i + 1)\n",
    "    plt.tight_layout()\n",
    "    plt.imshow(trainset[0][0][i].reshape(24, 24), cmap='gray', interpolation = 'none')\n",
    "    plt.title(f'Shape: {trainset[0][1][i]}')\n",
    "    plt.xticks([])\n",
    "    plt.yticks([])"
   ]
  },
  {
   "cell_type": "markdown",
   "metadata": {},
   "source": [
    "# <font color = 'blue'>딥러닝 모델링</font>"
   ]
  },
  {
   "cell_type": "markdown",
   "metadata": {},
   "source": [
    "### 딥러닝 라이브러리 로딩"
   ]
  },
  {
   "cell_type": "code",
   "execution_count": 35,
   "metadata": {},
   "outputs": [],
   "source": [
    "# 딥러닝 관련 라이브러리\n",
    "import tensorflow as tf\n",
    "# - 딥러닝 학습알고리즘\n",
    "\n",
    "from keras.models import Sequential\n",
    "# - 딥러닝 학습계층을 순차적으로 쌓아올릴 수 있도록 해줌\n",
    "\n",
    "from keras.layers import Dense, Dropout, Flatten, Conv2D, MaxPooling2D\n",
    "# - Dense: 딥러닝 학습계층별 노드/유닛을 밀집시켜 학습방법을 설정할 수 있도록 해줌\n",
    "# - Dropout: 은닉층에 배치된 노두 중 일부를 임의로 비활성화 시킴\n",
    "# - Flatten: 컨볼루션층이나 맥스풀링의 2차원(가로X세로) 배열을 1차원으로 바꾸어 주는 기능\n",
    "# - Conv2D: 분석대상 이미지의 세부영역별 특징을 마스크 필터를 적용해 추출하는 기능\n",
    "# - MaxPooling2D: 분석대상 이미지의 세부영역별 대표특징값을 추출하는 기능"
   ]
  },
  {
   "cell_type": "markdown",
   "metadata": {},
   "source": [
    "#### 더깊은 딥러닝\n",
    "* 이미지데이터를 구성하는 픽셀 하나하나를 일일이 비교분석 하는 것이 아니라 \n",
    "<br>컨볼루션신경망과 맥스풀링을 통해 이미지데이터의 세부영역별 주요/대표 특징값 추출해 딥러닝 작업의 예측력을 높일 수 있음\n",
    "<img src = './../../images/cnn_max.png'>"
   ]
  },
  {
   "cell_type": "markdown",
   "metadata": {},
   "source": [
    "#### 컨볼루션신경망(CNN: Convolution Neural Net)\n",
    "* 임의의 가중치 수치와 행렬차원을 가진 마스크 필터를 만들고, \n",
    "<br>이를 분석대상 이미지 데이터의 영역별로 적용(가중치를 곱해서 합함)하면 세부영역별 이미지의 주요특징을 파악할 수 있음\n",
    "<img src = './../../images/cnn.png'>"
   ]
  },
  {
   "cell_type": "markdown",
   "metadata": {},
   "source": [
    "* 가중치와 행렬차원이 다른 여러 개의 마스크 필터를 만들어 분석대상 이미지 데이터 영역별로 적용하게 되면, \n",
    "<br>세부 영역별 이미지 특징을 다양한 가중치로 파악한 컨볼루션(합성곱) 계층이 만들어지는 것임\n",
    "* 입력된 이미지 데이터를 전체적으로 한 번에 비교하는 것이 아니라 \n",
    "<br>컨볼루션(합성곱) 계층을 통해서 세부영역별로 주요특징을 비교함으로 이미지에 대한 인식률을 높일 수 있음 \n",
    "<img src = './../../images/cnnlayer.png'>"
   ]
  },
  {
   "cell_type": "markdown",
   "metadata": {},
   "source": [
    "#### 맥스풀링(Max Pooling; sub-sampling)\n",
    "* 분석대상 이미지를 세부영역으로 분할한 다음 각 영역의 대표특징값(max)만 추출해주는 기법 \n",
    "* 이미지의 사소한 변화나 불필요한 정보를 간추려 이미지를 구별하는 주요 특징을 보다 명확하게 찾아주는 효과가 있음\n",
    "<img src = './../../images/maxpooling.png'>"
   ]
  },
  {
   "cell_type": "markdown",
   "metadata": {},
   "source": [
    "#### 드롭아웃(Dropout)\n",
    "* 은닉층에 배치된 노두 중 일부를 임의로 비활성화 시킴\n",
    "* 과적합을 방지하기 위해서 학습 시에 지정된 비율만큼 임의의 입력 뉴런(1차원)을 신경망 연산에서 제외킴\n",
    "<img src = './../../images/dropout.png'>"
   ]
  },
  {
   "cell_type": "markdown",
   "metadata": {},
   "source": [
    "#### 플래튼(Flatten)\n",
    "* 2차원의 특징맵을 Dense계층으로 전달하기 위해서 1차원 형식으로 바꿔줌\n",
    "* 컨볼루션층이나 맥스풀링의 2차원(가로X세로) 배열을 1차원으로 바꾸어 주는 기능"
   ]
  },
  {
   "cell_type": "markdown",
   "metadata": {},
   "source": [
    "### 딥러닝 학습계층 설정"
   ]
  },
  {
   "cell_type": "code",
   "execution_count": 36,
   "metadata": {},
   "outputs": [
    {
     "name": "stdout",
     "output_type": "stream",
     "text": [
      "_________________________________________________________________\n",
      "Layer (type)                 Output Shape              Param #   \n",
      "=================================================================\n",
      "conv2d_1 (Conv2D)            (None, 22, 22, 32)        320       \n",
      "_________________________________________________________________\n",
      "conv2d_2 (Conv2D)            (None, 20, 20, 64)        18496     \n",
      "_________________________________________________________________\n",
      "max_pooling2d_1 (MaxPooling2 (None, 10, 10, 64)        0         \n",
      "_________________________________________________________________\n",
      "flatten_1 (Flatten)          (None, 6400)              0         \n",
      "_________________________________________________________________\n",
      "dense_1 (Dense)              (None, 128)               819328    \n",
      "_________________________________________________________________\n",
      "dense_2 (Dense)              (None, 3)                 387       \n",
      "=================================================================\n",
      "Total params: 838,531\n",
      "Trainable params: 838,531\n",
      "Non-trainable params: 0\n",
      "_________________________________________________________________\n"
     ]
    }
   ],
   "source": [
    "# 입력층-컨볼루션층-컨볼루션층-맥스풀링층--플래튼-은닉층-출력층\n",
    "md = Sequential()\n",
    "\n",
    "# 컨볼루션층: 입력이미지크기\n",
    "md.add(Conv2D(32, kernel_size = (3, 3), input_shape = (24, 24, 1), activation = 'relu'))\n",
    "md.add(Conv2D(64, kernel_size = (3, 3), activation = 'relu'))\n",
    "\n",
    "md.add(MaxPooling2D(pool_size = (2, 2)))\n",
    "\n",
    "md.add(Flatten())\n",
    "\n",
    "md.add(Dense(128, activation = 'relu'))\n",
    "md.add(Dense(3, activation = 'softmax')) # circle이냐 triangle이냐 rectangle이냐를 구하는 거니까 '3'을 써줌\n",
    "\n",
    "md.summary()"
   ]
  },
  {
   "cell_type": "markdown",
   "metadata": {},
   "source": [
    "### 벡터이미지 형태로 신경망모델 설계내용 확인"
   ]
  },
  {
   "cell_type": "code",
   "execution_count": 37,
   "metadata": {},
   "outputs": [],
   "source": [
    "# 의사결정나무 그림을 출력해주는 GraphViz라는 프로그램이 \n",
    "# - Jupyter Notebook과 연동해서 작동되도록 아래사항 실시\n",
    "\n",
    "# 관련 프로그램 다운/설치\n",
    "# - http://www.graphviz.org/에 접속 Download 메뉴에서\n",
    "#   윈도우용 graphviz-2.38.msi 설치버전 다운로드후 PC에 직접설치\n",
    "\n",
    "# 설치된 프로그램 경로설정\n",
    "# - 제어판 > 시스템 > (왼쪽상단) 고급시스템설정 > \n",
    "#   (아래쪽) 환경변수 > (아래쪽) 시스템변수 목록중 \"Path\" 클릭 >\n",
    "#   변수값 영역에 들어 있는 일련의 경로설정내역 제일오른쪽에 아래 경로 추가\n",
    "# ==> ;C:\\Program Files (x86)\\Graphviz2.38\\bin\n",
    "\n",
    "# (주의) \n",
    "# - 경로시작시 이전 경로설정내역과 별도로 연결하기 위해 세미콜론기호( ; )로 시작해야 함\n",
    "# - 경로끝에 \\bin을 붙여주어야 함\n",
    "\n",
    "# 파이선에서 관련 패키지 설치\n",
    "# - 아나콘다 프롬프트창이나 노트북파워셀 창에서 \n",
    "#   pip install graphviz pydotplus 구문실행\n",
    "# - 또는 conda install -c conda-forge graphviz pydotplus 구문실행"
   ]
  },
  {
   "cell_type": "code",
   "execution_count": 38,
   "metadata": {
    "scrolled": true
   },
   "outputs": [
    {
     "data": {
      "image/svg+xml": [
       "<svg height=\"543pt\" viewBox=\"0.00 0.00 392.00 543.00\" width=\"392pt\" xmlns=\"http://www.w3.org/2000/svg\" xmlns:xlink=\"http://www.w3.org/1999/xlink\">\n",
       "<g class=\"graph\" id=\"graph0\" transform=\"scale(1 1) rotate(0) translate(4 539)\">\n",
       "<title>G</title>\n",
       "<polygon fill=\"white\" points=\"-4,4 -4,-539 388,-539 388,4 -4,4\" stroke=\"none\"/>\n",
       "<!-- 2447624512680 -->\n",
       "<g class=\"node\" id=\"node1\"><title>2447624512680</title>\n",
       "<polygon fill=\"none\" points=\"41,-415.5 41,-461.5 343,-461.5 343,-415.5 41,-415.5\" stroke=\"black\"/>\n",
       "<text font-family=\"Times New Roman,serif\" font-size=\"14.00\" text-anchor=\"middle\" x=\"104.5\" y=\"-434.8\">conv2d_1: Conv2D</text>\n",
       "<polyline fill=\"none\" points=\"168,-415.5 168,-461.5 \" stroke=\"black\"/>\n",
       "<text font-family=\"Times New Roman,serif\" font-size=\"14.00\" text-anchor=\"middle\" x=\"196\" y=\"-446.3\">input:</text>\n",
       "<polyline fill=\"none\" points=\"168,-438.5 224,-438.5 \" stroke=\"black\"/>\n",
       "<text font-family=\"Times New Roman,serif\" font-size=\"14.00\" text-anchor=\"middle\" x=\"196\" y=\"-423.3\">output:</text>\n",
       "<polyline fill=\"none\" points=\"224,-415.5 224,-461.5 \" stroke=\"black\"/>\n",
       "<text font-family=\"Times New Roman,serif\" font-size=\"14.00\" text-anchor=\"middle\" x=\"283.5\" y=\"-446.3\">(None, 24, 24, 1)</text>\n",
       "<polyline fill=\"none\" points=\"224,-438.5 343,-438.5 \" stroke=\"black\"/>\n",
       "<text font-family=\"Times New Roman,serif\" font-size=\"14.00\" text-anchor=\"middle\" x=\"283.5\" y=\"-423.3\">(None, 22, 22, 32)</text>\n",
       "</g>\n",
       "<!-- 2447623930768 -->\n",
       "<g class=\"node\" id=\"node2\"><title>2447623930768</title>\n",
       "<polygon fill=\"none\" points=\"41,-332.5 41,-378.5 343,-378.5 343,-332.5 41,-332.5\" stroke=\"black\"/>\n",
       "<text font-family=\"Times New Roman,serif\" font-size=\"14.00\" text-anchor=\"middle\" x=\"104.5\" y=\"-351.8\">conv2d_2: Conv2D</text>\n",
       "<polyline fill=\"none\" points=\"168,-332.5 168,-378.5 \" stroke=\"black\"/>\n",
       "<text font-family=\"Times New Roman,serif\" font-size=\"14.00\" text-anchor=\"middle\" x=\"196\" y=\"-363.3\">input:</text>\n",
       "<polyline fill=\"none\" points=\"168,-355.5 224,-355.5 \" stroke=\"black\"/>\n",
       "<text font-family=\"Times New Roman,serif\" font-size=\"14.00\" text-anchor=\"middle\" x=\"196\" y=\"-340.3\">output:</text>\n",
       "<polyline fill=\"none\" points=\"224,-332.5 224,-378.5 \" stroke=\"black\"/>\n",
       "<text font-family=\"Times New Roman,serif\" font-size=\"14.00\" text-anchor=\"middle\" x=\"283.5\" y=\"-363.3\">(None, 22, 22, 32)</text>\n",
       "<polyline fill=\"none\" points=\"224,-355.5 343,-355.5 \" stroke=\"black\"/>\n",
       "<text font-family=\"Times New Roman,serif\" font-size=\"14.00\" text-anchor=\"middle\" x=\"283.5\" y=\"-340.3\">(None, 20, 20, 64)</text>\n",
       "</g>\n",
       "<!-- 2447624512680&#45;&gt;2447623930768 -->\n",
       "<g class=\"edge\" id=\"edge2\"><title>2447624512680-&gt;2447623930768</title>\n",
       "<path d=\"M192,-415.366C192,-407.152 192,-397.658 192,-388.725\" fill=\"none\" stroke=\"black\"/>\n",
       "<polygon fill=\"black\" points=\"195.5,-388.607 192,-378.607 188.5,-388.607 195.5,-388.607\" stroke=\"black\"/>\n",
       "</g>\n",
       "<!-- 2447624792496 -->\n",
       "<g class=\"node\" id=\"node3\"><title>2447624792496</title>\n",
       "<polygon fill=\"none\" points=\"0,-249.5 0,-295.5 384,-295.5 384,-249.5 0,-249.5\" stroke=\"black\"/>\n",
       "<text font-family=\"Times New Roman,serif\" font-size=\"14.00\" text-anchor=\"middle\" x=\"104.5\" y=\"-268.8\">max_pooling2d_1: MaxPooling2D</text>\n",
       "<polyline fill=\"none\" points=\"209,-249.5 209,-295.5 \" stroke=\"black\"/>\n",
       "<text font-family=\"Times New Roman,serif\" font-size=\"14.00\" text-anchor=\"middle\" x=\"237\" y=\"-280.3\">input:</text>\n",
       "<polyline fill=\"none\" points=\"209,-272.5 265,-272.5 \" stroke=\"black\"/>\n",
       "<text font-family=\"Times New Roman,serif\" font-size=\"14.00\" text-anchor=\"middle\" x=\"237\" y=\"-257.3\">output:</text>\n",
       "<polyline fill=\"none\" points=\"265,-249.5 265,-295.5 \" stroke=\"black\"/>\n",
       "<text font-family=\"Times New Roman,serif\" font-size=\"14.00\" text-anchor=\"middle\" x=\"324.5\" y=\"-280.3\">(None, 20, 20, 64)</text>\n",
       "<polyline fill=\"none\" points=\"265,-272.5 384,-272.5 \" stroke=\"black\"/>\n",
       "<text font-family=\"Times New Roman,serif\" font-size=\"14.00\" text-anchor=\"middle\" x=\"324.5\" y=\"-257.3\">(None, 10, 10, 64)</text>\n",
       "</g>\n",
       "<!-- 2447623930768&#45;&gt;2447624792496 -->\n",
       "<g class=\"edge\" id=\"edge3\"><title>2447623930768-&gt;2447624792496</title>\n",
       "<path d=\"M192,-332.366C192,-324.152 192,-314.658 192,-305.725\" fill=\"none\" stroke=\"black\"/>\n",
       "<polygon fill=\"black\" points=\"195.5,-305.607 192,-295.607 188.5,-305.607 195.5,-305.607\" stroke=\"black\"/>\n",
       "</g>\n",
       "<!-- 2447624659688 -->\n",
       "<g class=\"node\" id=\"node4\"><title>2447624659688</title>\n",
       "<polygon fill=\"none\" points=\"50,-166.5 50,-212.5 334,-212.5 334,-166.5 50,-166.5\" stroke=\"black\"/>\n",
       "<text font-family=\"Times New Roman,serif\" font-size=\"14.00\" text-anchor=\"middle\" x=\"104.5\" y=\"-185.8\">flatten_1: Flatten</text>\n",
       "<polyline fill=\"none\" points=\"159,-166.5 159,-212.5 \" stroke=\"black\"/>\n",
       "<text font-family=\"Times New Roman,serif\" font-size=\"14.00\" text-anchor=\"middle\" x=\"187\" y=\"-197.3\">input:</text>\n",
       "<polyline fill=\"none\" points=\"159,-189.5 215,-189.5 \" stroke=\"black\"/>\n",
       "<text font-family=\"Times New Roman,serif\" font-size=\"14.00\" text-anchor=\"middle\" x=\"187\" y=\"-174.3\">output:</text>\n",
       "<polyline fill=\"none\" points=\"215,-166.5 215,-212.5 \" stroke=\"black\"/>\n",
       "<text font-family=\"Times New Roman,serif\" font-size=\"14.00\" text-anchor=\"middle\" x=\"274.5\" y=\"-197.3\">(None, 10, 10, 64)</text>\n",
       "<polyline fill=\"none\" points=\"215,-189.5 334,-189.5 \" stroke=\"black\"/>\n",
       "<text font-family=\"Times New Roman,serif\" font-size=\"14.00\" text-anchor=\"middle\" x=\"274.5\" y=\"-174.3\">(None, 6400)</text>\n",
       "</g>\n",
       "<!-- 2447624792496&#45;&gt;2447624659688 -->\n",
       "<g class=\"edge\" id=\"edge4\"><title>2447624792496-&gt;2447624659688</title>\n",
       "<path d=\"M192,-249.366C192,-241.152 192,-231.658 192,-222.725\" fill=\"none\" stroke=\"black\"/>\n",
       "<polygon fill=\"black\" points=\"195.5,-222.607 192,-212.607 188.5,-222.607 195.5,-222.607\" stroke=\"black\"/>\n",
       "</g>\n",
       "<!-- 2447624659296 -->\n",
       "<g class=\"node\" id=\"node5\"><title>2447624659296</title>\n",
       "<polygon fill=\"none\" points=\"67,-83.5 67,-129.5 317,-129.5 317,-83.5 67,-83.5\" stroke=\"black\"/>\n",
       "<text font-family=\"Times New Roman,serif\" font-size=\"14.00\" text-anchor=\"middle\" x=\"119\" y=\"-102.8\">dense_1: Dense</text>\n",
       "<polyline fill=\"none\" points=\"171,-83.5 171,-129.5 \" stroke=\"black\"/>\n",
       "<text font-family=\"Times New Roman,serif\" font-size=\"14.00\" text-anchor=\"middle\" x=\"199\" y=\"-114.3\">input:</text>\n",
       "<polyline fill=\"none\" points=\"171,-106.5 227,-106.5 \" stroke=\"black\"/>\n",
       "<text font-family=\"Times New Roman,serif\" font-size=\"14.00\" text-anchor=\"middle\" x=\"199\" y=\"-91.3\">output:</text>\n",
       "<polyline fill=\"none\" points=\"227,-83.5 227,-129.5 \" stroke=\"black\"/>\n",
       "<text font-family=\"Times New Roman,serif\" font-size=\"14.00\" text-anchor=\"middle\" x=\"272\" y=\"-114.3\">(None, 6400)</text>\n",
       "<polyline fill=\"none\" points=\"227,-106.5 317,-106.5 \" stroke=\"black\"/>\n",
       "<text font-family=\"Times New Roman,serif\" font-size=\"14.00\" text-anchor=\"middle\" x=\"272\" y=\"-91.3\">(None, 128)</text>\n",
       "</g>\n",
       "<!-- 2447624659688&#45;&gt;2447624659296 -->\n",
       "<g class=\"edge\" id=\"edge5\"><title>2447624659688-&gt;2447624659296</title>\n",
       "<path d=\"M192,-166.366C192,-158.152 192,-148.658 192,-139.725\" fill=\"none\" stroke=\"black\"/>\n",
       "<polygon fill=\"black\" points=\"195.5,-139.607 192,-129.607 188.5,-139.607 195.5,-139.607\" stroke=\"black\"/>\n",
       "</g>\n",
       "<!-- 2447624955776 -->\n",
       "<g class=\"node\" id=\"node6\"><title>2447624955776</title>\n",
       "<polygon fill=\"none\" points=\"70.5,-0.5 70.5,-46.5 313.5,-46.5 313.5,-0.5 70.5,-0.5\" stroke=\"black\"/>\n",
       "<text font-family=\"Times New Roman,serif\" font-size=\"14.00\" text-anchor=\"middle\" x=\"122.5\" y=\"-19.8\">dense_2: Dense</text>\n",
       "<polyline fill=\"none\" points=\"174.5,-0.5 174.5,-46.5 \" stroke=\"black\"/>\n",
       "<text font-family=\"Times New Roman,serif\" font-size=\"14.00\" text-anchor=\"middle\" x=\"202.5\" y=\"-31.3\">input:</text>\n",
       "<polyline fill=\"none\" points=\"174.5,-23.5 230.5,-23.5 \" stroke=\"black\"/>\n",
       "<text font-family=\"Times New Roman,serif\" font-size=\"14.00\" text-anchor=\"middle\" x=\"202.5\" y=\"-8.3\">output:</text>\n",
       "<polyline fill=\"none\" points=\"230.5,-0.5 230.5,-46.5 \" stroke=\"black\"/>\n",
       "<text font-family=\"Times New Roman,serif\" font-size=\"14.00\" text-anchor=\"middle\" x=\"272\" y=\"-31.3\">(None, 128)</text>\n",
       "<polyline fill=\"none\" points=\"230.5,-23.5 313.5,-23.5 \" stroke=\"black\"/>\n",
       "<text font-family=\"Times New Roman,serif\" font-size=\"14.00\" text-anchor=\"middle\" x=\"272\" y=\"-8.3\">(None, 3)</text>\n",
       "</g>\n",
       "<!-- 2447624659296&#45;&gt;2447624955776 -->\n",
       "<g class=\"edge\" id=\"edge6\"><title>2447624659296-&gt;2447624955776</title>\n",
       "<path d=\"M192,-83.3664C192,-75.1516 192,-65.6579 192,-56.7252\" fill=\"none\" stroke=\"black\"/>\n",
       "<polygon fill=\"black\" points=\"195.5,-56.6068 192,-46.6068 188.5,-56.6069 195.5,-56.6068\" stroke=\"black\"/>\n",
       "</g>\n",
       "<!-- 2447624515200 -->\n",
       "<g class=\"node\" id=\"node7\"><title>2447624515200</title>\n",
       "<polygon fill=\"none\" points=\"140,-498.5 140,-534.5 244,-534.5 244,-498.5 140,-498.5\" stroke=\"black\"/>\n",
       "<text font-family=\"Times New Roman,serif\" font-size=\"14.00\" text-anchor=\"middle\" x=\"192\" y=\"-512.8\">2447624515200</text>\n",
       "</g>\n",
       "<!-- 2447624515200&#45;&gt;2447624512680 -->\n",
       "<g class=\"edge\" id=\"edge1\"><title>2447624515200-&gt;2447624512680</title>\n",
       "<path d=\"M192,-498.254C192,-490.363 192,-480.749 192,-471.602\" fill=\"none\" stroke=\"black\"/>\n",
       "<polygon fill=\"black\" points=\"195.5,-471.591 192,-461.591 188.5,-471.591 195.5,-471.591\" stroke=\"black\"/>\n",
       "</g>\n",
       "</g>\n",
       "</svg>"
      ],
      "text/plain": [
       "<IPython.core.display.SVG object>"
      ]
     },
     "execution_count": 38,
     "metadata": {},
     "output_type": "execute_result"
    }
   ],
   "source": [
    "# 벡터이미지 형태로 신경망모델 설계내용 확인\n",
    "from IPython.display import SVG\n",
    "from keras.utils.vis_utils import model_to_dot\n",
    "\n",
    "SVG(model_to_dot(md, show_shapes = True).create(prog = 'dot', format = 'svg'))"
   ]
  },
  {
   "cell_type": "markdown",
   "metadata": {},
   "source": [
    "### 딥러닝 학습방법 설정"
   ]
  },
  {
   "cell_type": "code",
   "execution_count": 39,
   "metadata": {},
   "outputs": [],
   "source": [
    "# 준비된 학습계층의 학습방법 설정\n",
    "md.compile(loss = 'categorical_crossentropy', \n",
    "            optimizer = 'adam', metrics = ['accuracy'])\n",
    "# - loss: 학습시 오차를 어떻방법으로 계산할지 설정\n",
    "# - optimizser: 발생하는 오차를 어떤방법으로 줄여나갈지 설정\n",
    "#   binary_crossentropy: 이항분류(binary-class classification)에 적합함\n",
    "#   categorical_crossentropy: 다항분류(multi-class classification)에 적합함\n",
    "# - metrics: 모형의 성능을 평가하는 기준으로 어떤 것을 사용할지 설정"
   ]
  },
  {
   "cell_type": "markdown",
   "metadata": {},
   "source": [
    "### 학습모델 파일저장 옵션 설정"
   ]
  },
  {
   "cell_type": "code",
   "execution_count": 40,
   "metadata": {},
   "outputs": [],
   "source": [
    "# 딥러닝 학습모델 저장폴더명 설정\n",
    "import os\n",
    "\n",
    "md_dir = './model/'\n",
    "if not os.path.exists(md_dir):\n",
    "    os.mkdir(md_dir)\n",
    "    \n",
    "# 딥러닝 학습모델별 저장파일명 변경설정\n",
    "md_path = './model/vloss{val_loss:.3f}_vacc{val_acc:.3f}_ep{epoch:d}.hdf5'\n",
    "# - loss: 전체데이터 중 훈련셋(training) 학습오차\n",
    "# - acc: 전체데이터 중 훈련셋(training) 정확도\n",
    "# - val_loss: 전체데이터 중 검증셋(validation) 오차\n",
    "# - val_acc: 전체데이터 중 검증셋(validation) 정확도\n",
    "\n",
    "# ep{epoch:d} 단위배치(batch) 작업인 엑폭번호를 정수형으로 파일명 시작부분에 기록\n",
    "# vloss{val_loss:.3f} 각 학습모델의 검증데이터 오차정도를 소수3자리까지 파일에 기록\n",
    "# vacc{val_acc:.3f} 각 학습모델의 검증데이터 정확정도를 소수3째자리까지 파일에 기록"
   ]
  },
  {
   "cell_type": "markdown",
   "metadata": {},
   "source": [
    "### 학습모델 체크포인트 옵션 설정"
   ]
  },
  {
   "cell_type": "code",
   "execution_count": 41,
   "metadata": {},
   "outputs": [],
   "source": [
    "# 학습모델 체크포인트 모듈 로딩\n",
    "from keras.callbacks import ModelCheckpoint"
   ]
  },
  {
   "cell_type": "code",
   "execution_count": 42,
   "metadata": {},
   "outputs": [],
   "source": [
    "# 체크포인트(checkpoint) 변경설정\n",
    "cp = ModelCheckpoint(filepath = md_path, \n",
    "                     monitor = 'val_loss', \n",
    "                     verbose = 1, \n",
    "                     save_best_only = True)\n",
    "# - filepath: 각 학습모델별 성능평가 파일저장 경로\n",
    "# - monitor 옵션: 각 학습모델별 성능평가 기준\n",
    "#   * 전체데이터 중 훈련셋(training) 학습오차: loss\n",
    "#   * 전체데이터 중 훈련셋(training) 정확도: acc\n",
    "#   * 전체데이터 중 검증셋(validation) 오차: val_loss\n",
    "#   * 전체데이터 중 검증셋(validation) 정확도: val_acc\n",
    "#   * 전체데이터 중 시험셋(테스트; test)은 별도로 분할해 놓아야 함\n",
    "# - verbose: 모델별 학습진행사항 출력\n",
    "# - save_best_only: 각 학습모델별 성능평가 파일저장시\n",
    "#                   이전 모델보다 성능이 좋아졌을 때만 저장하도록 함"
   ]
  },
  {
   "cell_type": "markdown",
   "metadata": {},
   "source": [
    "### 학습모델 과적합 방지 옵션 설정"
   ]
  },
  {
   "cell_type": "code",
   "execution_count": 43,
   "metadata": {},
   "outputs": [],
   "source": [
    "# 과적합 방지용 종료 메서드 로딩\n",
    "from keras.callbacks import EarlyStopping"
   ]
  },
  {
   "cell_type": "code",
   "execution_count": 44,
   "metadata": {},
   "outputs": [],
   "source": [
    "# 조기종료 옵션설정\n",
    "es = EarlyStopping(monitor = 'val_loss', patience = 10)\n",
    "# - monitor: 검증셋 대상 모니터할 값 설정\n",
    "# - patience: 검증셋 오차가 좋아지지 않아도 몇 번까지 기다릴지 설정"
   ]
  },
  {
   "cell_type": "markdown",
   "metadata": {},
   "source": [
    "### 딥러닝 모델에 데이터 피팅"
   ]
  },
  {
   "cell_type": "code",
   "execution_count": 45,
   "metadata": {
    "scrolled": true
   },
   "outputs": [
    {
     "name": "stdout",
     "output_type": "stream",
     "text": [
      "Epoch 1/50\n",
      "15/15 [==============================] - 1s 47ms/step - loss: 1.0484 - acc: 0.4889 - val_loss: 0.6392 - val_acc: 0.9333\n",
      "\n",
      "Epoch 00001: val_loss improved from inf to 0.63923, saving model to ./model/vloss0.639_vacc0.933_ep1.hdf5\n",
      "Epoch 2/50\n",
      "15/15 [==============================] - 0s 23ms/step - loss: 0.3475 - acc: 0.9333 - val_loss: 0.1599 - val_acc: 1.0000\n",
      "\n",
      "Epoch 00002: val_loss improved from 0.63923 to 0.15989, saving model to ./model/vloss0.160_vacc1.000_ep2.hdf5\n",
      "Epoch 3/50\n",
      "15/15 [==============================] - 0s 21ms/step - loss: 0.0311 - acc: 1.0000 - val_loss: 0.1118 - val_acc: 0.9333\n",
      "\n",
      "Epoch 00003: val_loss improved from 0.15989 to 0.11185, saving model to ./model/vloss0.112_vacc0.933_ep3.hdf5\n",
      "Epoch 4/50\n",
      "15/15 [==============================] - 0s 29ms/step - loss: 0.0062 - acc: 1.0000 - val_loss: 0.0732 - val_acc: 1.0000\n",
      "\n",
      "Epoch 00004: val_loss improved from 0.11185 to 0.07316, saving model to ./model/vloss0.073_vacc1.000_ep4.hdf5\n",
      "Epoch 5/50\n",
      "15/15 [==============================] - 0s 28ms/step - loss: 0.0023 - acc: 1.0000 - val_loss: 0.0608 - val_acc: 1.0000\n",
      "\n",
      "Epoch 00005: val_loss improved from 0.07316 to 0.06081, saving model to ./model/vloss0.061_vacc1.000_ep5.hdf5\n",
      "Epoch 6/50\n",
      "15/15 [==============================] - 0s 27ms/step - loss: 0.0012 - acc: 1.0000 - val_loss: 0.0732 - val_acc: 1.0000\n",
      "\n",
      "Epoch 00006: val_loss did not improve from 0.06081\n",
      "Epoch 7/50\n",
      "15/15 [==============================] - 0s 28ms/step - loss: 8.8325e-04 - acc: 1.0000 - val_loss: 0.0675 - val_acc: 1.0000\n",
      "\n",
      "Epoch 00007: val_loss did not improve from 0.06081\n",
      "Epoch 8/50\n",
      "15/15 [==============================] - 0s 27ms/step - loss: 6.6673e-04 - acc: 1.0000 - val_loss: 0.0577 - val_acc: 1.0000\n",
      "\n",
      "Epoch 00008: val_loss improved from 0.06081 to 0.05769, saving model to ./model/vloss0.058_vacc1.000_ep8.hdf5\n",
      "Epoch 9/50\n",
      "15/15 [==============================] - 0s 23ms/step - loss: 5.2926e-04 - acc: 1.0000 - val_loss: 0.0593 - val_acc: 1.0000\n",
      "\n",
      "Epoch 00009: val_loss did not improve from 0.05769\n",
      "Epoch 10/50\n",
      "15/15 [==============================] - 0s 22ms/step - loss: 4.1638e-04 - acc: 1.0000 - val_loss: 0.0541 - val_acc: 1.0000\n",
      "\n",
      "Epoch 00010: val_loss improved from 0.05769 to 0.05407, saving model to ./model/vloss0.054_vacc1.000_ep10.hdf5\n",
      "Epoch 11/50\n",
      "15/15 [==============================] - 0s 24ms/step - loss: 3.3662e-04 - acc: 1.0000 - val_loss: 0.0523 - val_acc: 1.0000\n",
      "\n",
      "Epoch 00011: val_loss improved from 0.05407 to 0.05231, saving model to ./model/vloss0.052_vacc1.000_ep11.hdf5\n",
      "Epoch 12/50\n",
      "15/15 [==============================] - 0s 27ms/step - loss: 2.7960e-04 - acc: 1.0000 - val_loss: 0.0526 - val_acc: 1.0000\n",
      "\n",
      "Epoch 00012: val_loss did not improve from 0.05231\n",
      "Epoch 13/50\n",
      "15/15 [==============================] - 0s 29ms/step - loss: 2.3680e-04 - acc: 1.0000 - val_loss: 0.0522 - val_acc: 1.0000\n",
      "\n",
      "Epoch 00013: val_loss improved from 0.05231 to 0.05217, saving model to ./model/vloss0.052_vacc1.000_ep13.hdf5\n",
      "Epoch 14/50\n",
      "15/15 [==============================] - 0s 25ms/step - loss: 2.0182e-04 - acc: 1.0000 - val_loss: 0.0495 - val_acc: 1.0000\n",
      "\n",
      "Epoch 00014: val_loss improved from 0.05217 to 0.04951, saving model to ./model/vloss0.050_vacc1.000_ep14.hdf5\n",
      "Epoch 15/50\n",
      "15/15 [==============================] - 0s 23ms/step - loss: 1.7865e-04 - acc: 1.0000 - val_loss: 0.0462 - val_acc: 1.0000\n",
      "\n",
      "Epoch 00015: val_loss improved from 0.04951 to 0.04621, saving model to ./model/vloss0.046_vacc1.000_ep15.hdf5\n",
      "Epoch 16/50\n",
      "15/15 [==============================] - 0s 24ms/step - loss: 1.4846e-04 - acc: 1.0000 - val_loss: 0.0467 - val_acc: 1.0000\n",
      "\n",
      "Epoch 00016: val_loss did not improve from 0.04621\n",
      "Epoch 17/50\n",
      "15/15 [==============================] - 0s 23ms/step - loss: 1.2725e-04 - acc: 1.0000 - val_loss: 0.0462 - val_acc: 1.0000\n",
      "\n",
      "Epoch 00017: val_loss did not improve from 0.04621\n",
      "Epoch 18/50\n",
      "15/15 [==============================] - 0s 23ms/step - loss: 1.1413e-04 - acc: 1.0000 - val_loss: 0.0432 - val_acc: 1.0000\n",
      "\n",
      "Epoch 00018: val_loss improved from 0.04621 to 0.04320, saving model to ./model/vloss0.043_vacc1.000_ep18.hdf5\n",
      "Epoch 19/50\n",
      "15/15 [==============================] - 0s 26ms/step - loss: 9.7571e-05 - acc: 1.0000 - val_loss: 0.0440 - val_acc: 1.0000\n",
      "\n",
      "Epoch 00019: val_loss did not improve from 0.04320\n",
      "Epoch 20/50\n",
      "15/15 [==============================] - 0s 23ms/step - loss: 8.5664e-05 - acc: 1.0000 - val_loss: 0.0423 - val_acc: 1.0000\n",
      "\n",
      "Epoch 00020: val_loss improved from 0.04320 to 0.04232, saving model to ./model/vloss0.042_vacc1.000_ep20.hdf5\n",
      "Epoch 21/50\n",
      "15/15 [==============================] - 0s 25ms/step - loss: 7.6087e-05 - acc: 1.0000 - val_loss: 0.0416 - val_acc: 1.0000\n",
      "\n",
      "Epoch 00021: val_loss improved from 0.04232 to 0.04162, saving model to ./model/vloss0.042_vacc1.000_ep21.hdf5\n",
      "Epoch 22/50\n",
      "15/15 [==============================] - 0s 27ms/step - loss: 6.9621e-05 - acc: 1.0000 - val_loss: 0.0384 - val_acc: 1.0000\n",
      "\n",
      "Epoch 00022: val_loss improved from 0.04162 to 0.03837, saving model to ./model/vloss0.038_vacc1.000_ep22.hdf5\n",
      "Epoch 23/50\n",
      "15/15 [==============================] - 0s 26ms/step - loss: 5.9608e-05 - acc: 1.0000 - val_loss: 0.0388 - val_acc: 1.0000\n",
      "\n",
      "Epoch 00023: val_loss did not improve from 0.03837\n",
      "Epoch 24/50\n",
      "15/15 [==============================] - 0s 26ms/step - loss: 5.2006e-05 - acc: 1.0000 - val_loss: 0.0377 - val_acc: 1.0000\n",
      "\n",
      "Epoch 00024: val_loss improved from 0.03837 to 0.03772, saving model to ./model/vloss0.038_vacc1.000_ep24.hdf5\n",
      "Epoch 25/50\n",
      "15/15 [==============================] - 0s 25ms/step - loss: 4.6374e-05 - acc: 1.0000 - val_loss: 0.0365 - val_acc: 1.0000\n",
      "\n",
      "Epoch 00025: val_loss improved from 0.03772 to 0.03647, saving model to ./model/vloss0.036_vacc1.000_ep25.hdf5\n",
      "Epoch 26/50\n",
      "15/15 [==============================] - 0s 24ms/step - loss: 4.0137e-05 - acc: 1.0000 - val_loss: 0.0355 - val_acc: 1.0000\n",
      "\n",
      "Epoch 00026: val_loss improved from 0.03647 to 0.03553, saving model to ./model/vloss0.036_vacc1.000_ep26.hdf5\n",
      "Epoch 27/50\n",
      "15/15 [==============================] - 0s 26ms/step - loss: 3.4246e-05 - acc: 1.0000 - val_loss: 0.0326 - val_acc: 1.0000\n",
      "\n",
      "Epoch 00027: val_loss improved from 0.03553 to 0.03261, saving model to ./model/vloss0.033_vacc1.000_ep27.hdf5\n",
      "Epoch 28/50\n",
      "15/15 [==============================] - 0s 25ms/step - loss: 2.7866e-05 - acc: 1.0000 - val_loss: 0.0302 - val_acc: 1.0000\n",
      "\n",
      "Epoch 00028: val_loss improved from 0.03261 to 0.03018, saving model to ./model/vloss0.030_vacc1.000_ep28.hdf5\n",
      "Epoch 29/50\n",
      "15/15 [==============================] - 0s 27ms/step - loss: 2.1626e-05 - acc: 1.0000 - val_loss: 0.0308 - val_acc: 1.0000\n",
      "\n",
      "Epoch 00029: val_loss did not improve from 0.03018\n",
      "Epoch 30/50\n",
      "15/15 [==============================] - 0s 26ms/step - loss: 1.5998e-05 - acc: 1.0000 - val_loss: 0.0268 - val_acc: 1.0000\n",
      "\n",
      "Epoch 00030: val_loss improved from 0.03018 to 0.02682, saving model to ./model/vloss0.027_vacc1.000_ep30.hdf5\n",
      "Epoch 31/50\n",
      "15/15 [==============================] - 0s 23ms/step - loss: 1.1897e-05 - acc: 1.0000 - val_loss: 0.0254 - val_acc: 1.0000\n",
      "\n",
      "Epoch 00031: val_loss improved from 0.02682 to 0.02540, saving model to ./model/vloss0.025_vacc1.000_ep31.hdf5\n",
      "Epoch 32/50\n",
      "15/15 [==============================] - 0s 27ms/step - loss: 9.0865e-06 - acc: 1.0000 - val_loss: 0.0235 - val_acc: 1.0000\n",
      "\n",
      "Epoch 00032: val_loss improved from 0.02540 to 0.02351, saving model to ./model/vloss0.024_vacc1.000_ep32.hdf5\n",
      "Epoch 33/50\n",
      "15/15 [==============================] - 0s 24ms/step - loss: 7.4785e-06 - acc: 1.0000 - val_loss: 0.0213 - val_acc: 1.0000\n",
      "\n",
      "Epoch 00033: val_loss improved from 0.02351 to 0.02125, saving model to ./model/vloss0.021_vacc1.000_ep33.hdf5\n",
      "Epoch 34/50\n",
      "15/15 [==============================] - 0s 24ms/step - loss: 6.2268e-06 - acc: 1.0000 - val_loss: 0.0217 - val_acc: 1.0000\n",
      "\n",
      "Epoch 00034: val_loss did not improve from 0.02125\n",
      "Epoch 35/50\n",
      "15/15 [==============================] - 0s 24ms/step - loss: 4.5856e-06 - acc: 1.0000 - val_loss: 0.0189 - val_acc: 1.0000\n",
      "\n",
      "Epoch 00035: val_loss improved from 0.02125 to 0.01887, saving model to ./model/vloss0.019_vacc1.000_ep35.hdf5\n",
      "Epoch 36/50\n",
      "15/15 [==============================] - 0s 24ms/step - loss: 4.0783e-06 - acc: 1.0000 - val_loss: 0.0181 - val_acc: 1.0000\n",
      "\n",
      "Epoch 00036: val_loss improved from 0.01887 to 0.01809, saving model to ./model/vloss0.018_vacc1.000_ep36.hdf5\n",
      "Epoch 37/50\n"
     ]
    },
    {
     "name": "stdout",
     "output_type": "stream",
     "text": [
      "15/15 [==============================] - 0s 23ms/step - loss: 3.4770e-06 - acc: 1.0000 - val_loss: 0.0180 - val_acc: 1.0000\n",
      "\n",
      "Epoch 00037: val_loss improved from 0.01809 to 0.01796, saving model to ./model/vloss0.018_vacc1.000_ep37.hdf5\n",
      "Epoch 38/50\n",
      "15/15 [==============================] - 0s 24ms/step - loss: 2.8610e-06 - acc: 1.0000 - val_loss: 0.0166 - val_acc: 1.0000\n",
      "\n",
      "Epoch 00038: val_loss improved from 0.01796 to 0.01664, saving model to ./model/vloss0.017_vacc1.000_ep38.hdf5\n",
      "Epoch 39/50\n",
      "15/15 [==============================] - 0s 26ms/step - loss: 2.4756e-06 - acc: 1.0000 - val_loss: 0.0161 - val_acc: 1.0000\n",
      "\n",
      "Epoch 00039: val_loss improved from 0.01664 to 0.01609, saving model to ./model/vloss0.016_vacc1.000_ep39.hdf5\n",
      "Epoch 40/50\n",
      "15/15 [==============================] - 0s 29ms/step - loss: 2.2332e-06 - acc: 1.0000 - val_loss: 0.0151 - val_acc: 1.0000\n",
      "\n",
      "Epoch 00040: val_loss improved from 0.01609 to 0.01514, saving model to ./model/vloss0.015_vacc1.000_ep40.hdf5\n",
      "Epoch 41/50\n",
      "15/15 [==============================] - 0s 25ms/step - loss: 1.8703e-06 - acc: 1.0000 - val_loss: 0.0149 - val_acc: 1.0000\n",
      "\n",
      "Epoch 00041: val_loss improved from 0.01514 to 0.01494, saving model to ./model/vloss0.015_vacc1.000_ep41.hdf5\n",
      "Epoch 42/50\n",
      "15/15 [==============================] - 0s 25ms/step - loss: 1.7020e-06 - acc: 1.0000 - val_loss: 0.0144 - val_acc: 1.0000\n",
      "\n",
      "Epoch 00042: val_loss improved from 0.01494 to 0.01440, saving model to ./model/vloss0.014_vacc1.000_ep42.hdf5\n",
      "Epoch 43/50\n",
      "15/15 [==============================] - 0s 24ms/step - loss: 1.5034e-06 - acc: 1.0000 - val_loss: 0.0138 - val_acc: 1.0000\n",
      "\n",
      "Epoch 00043: val_loss improved from 0.01440 to 0.01379, saving model to ./model/vloss0.014_vacc1.000_ep43.hdf5\n",
      "Epoch 44/50\n",
      "15/15 [==============================] - 0s 24ms/step - loss: 1.3775e-06 - acc: 1.0000 - val_loss: 0.0136 - val_acc: 1.0000\n",
      "\n",
      "Epoch 00044: val_loss improved from 0.01379 to 0.01362, saving model to ./model/vloss0.014_vacc1.000_ep44.hdf5\n",
      "Epoch 45/50\n",
      "15/15 [==============================] - 0s 25ms/step - loss: 1.2040e-06 - acc: 1.0000 - val_loss: 0.0132 - val_acc: 1.0000\n",
      "\n",
      "Epoch 00045: val_loss improved from 0.01362 to 0.01325, saving model to ./model/vloss0.013_vacc1.000_ep45.hdf5\n",
      "Epoch 46/50\n",
      "15/15 [==============================] - 0s 25ms/step - loss: 1.0954e-06 - acc: 1.0000 - val_loss: 0.0128 - val_acc: 1.0000\n",
      "\n",
      "Epoch 00046: val_loss improved from 0.01325 to 0.01284, saving model to ./model/vloss0.013_vacc1.000_ep46.hdf5\n",
      "Epoch 47/50\n",
      "15/15 [==============================] - 0s 24ms/step - loss: 9.7752e-07 - acc: 1.0000 - val_loss: 0.0126 - val_acc: 1.0000\n",
      "\n",
      "Epoch 00047: val_loss improved from 0.01284 to 0.01257, saving model to ./model/vloss0.013_vacc1.000_ep47.hdf5\n",
      "Epoch 48/50\n",
      "15/15 [==============================] - 0s 25ms/step - loss: 8.9142e-07 - acc: 1.0000 - val_loss: 0.0122 - val_acc: 1.0000\n",
      "\n",
      "Epoch 00048: val_loss improved from 0.01257 to 0.01223, saving model to ./model/vloss0.012_vacc1.000_ep48.hdf5\n",
      "Epoch 49/50\n",
      "15/15 [==============================] - 0s 24ms/step - loss: 8.2387e-07 - acc: 1.0000 - val_loss: 0.0120 - val_acc: 1.0000\n",
      "\n",
      "Epoch 00049: val_loss improved from 0.01223 to 0.01200, saving model to ./model/vloss0.012_vacc1.000_ep49.hdf5\n",
      "Epoch 50/50\n",
      "15/15 [==============================] - 0s 23ms/step - loss: 7.4440e-07 - acc: 1.0000 - val_loss: 0.0118 - val_acc: 1.0000\n",
      "\n",
      "Epoch 00050: val_loss improved from 0.01200 to 0.01178, saving model to ./model/vloss0.012_vacc1.000_ep50.hdf5\n"
     ]
    }
   ],
   "source": [
    "# 딥러닝 모델 최적화 훈련진행\n",
    "md_hist = md.fit_generator(\n",
    "    trainset,  \n",
    "    epochs = 50, \n",
    "    steps_per_epoch = 15, \n",
    "    validation_data = testset,\n",
    "    validation_steps = 5,\n",
    "    verbose = 1, \n",
    "    callbacks = [cp, es])"
   ]
  },
  {
   "cell_type": "markdown",
   "metadata": {},
   "source": [
    "# <font color = 'blue'>딥러닝 모델 성능평가</font>"
   ]
  },
  {
   "cell_type": "markdown",
   "metadata": {},
   "source": [
    "### 딥러닝 학습모델 성능평가 히스토리"
   ]
  },
  {
   "cell_type": "code",
   "execution_count": 46,
   "metadata": {},
   "outputs": [],
   "source": [
    "# 딥러닝 학습실시에 따른 성능평가 히스토리 확보\n",
    "\n",
    "md_train_loss = md_hist.history['loss'] # 훈련셋 오차\n",
    "md_train_acc = md_hist.history['acc'] # 훈련셋 정확도\n",
    "md_valid_loss = md_hist.history['val_loss'] # 검증셋 오차\n",
    "md_valid_acc = md_hist.history['val_acc'] # 검증셋 정확도"
   ]
  },
  {
   "cell_type": "code",
   "execution_count": 47,
   "metadata": {},
   "outputs": [
    {
     "name": "stdout",
     "output_type": "stream",
     "text": [
      "<class 'list'> 50\n",
      "<class 'list'> 50\n",
      "<class 'list'> 50\n",
      "<class 'list'> 50\n"
     ]
    }
   ],
   "source": [
    "# 딥러닝 학습실시에 따른 성능평가 히스토리 객체형식과 규모\n",
    "print(type(md_train_loss), len(md_train_loss))\n",
    "print(type(md_train_acc), len(md_train_acc))\n",
    "print(type(md_valid_loss), len(md_valid_loss))\n",
    "print(type(md_valid_acc), len(md_valid_acc))"
   ]
  },
  {
   "cell_type": "code",
   "execution_count": 48,
   "metadata": {},
   "outputs": [
    {
     "name": "stdout",
     "output_type": "stream",
     "text": [
      "훈련셋   오차추이: [1.048, 0.348, 0.031, 0.006, 0.002, 0.001, 0.001, 0.001, 0.001, 0.0, 0.0, 0.0, 0.0, 0.0, 0.0, 0.0, 0.0, 0.0, 0.0, 0.0, 0.0, 0.0, 0.0, 0.0, 0.0, 0.0, 0.0, 0.0, 0.0, 0.0, 0.0, 0.0, 0.0, 0.0, 0.0, 0.0, 0.0, 0.0, 0.0, 0.0, 0.0, 0.0, 0.0, 0.0, 0.0, 0.0, 0.0, 0.0, 0.0, 0.0]\n",
      "테스트셋 오차추이: [0.639, 0.16, 0.112, 0.073, 0.061, 0.073, 0.067, 0.058, 0.059, 0.054, 0.052, 0.053, 0.052, 0.05, 0.046, 0.047, 0.046, 0.043, 0.044, 0.042, 0.042, 0.038, 0.039, 0.038, 0.036, 0.036, 0.033, 0.03, 0.031, 0.027, 0.025, 0.024, 0.021, 0.022, 0.019, 0.018, 0.018, 0.017, 0.016, 0.015, 0.015, 0.014, 0.014, 0.014, 0.013, 0.013, 0.013, 0.012, 0.012, 0.012]\n",
      "\n",
      "훈련셋   정확도추이: [0.489, 0.933, 1.0, 1.0, 1.0, 1.0, 1.0, 1.0, 1.0, 1.0, 1.0, 1.0, 1.0, 1.0, 1.0, 1.0, 1.0, 1.0, 1.0, 1.0, 1.0, 1.0, 1.0, 1.0, 1.0, 1.0, 1.0, 1.0, 1.0, 1.0, 1.0, 1.0, 1.0, 1.0, 1.0, 1.0, 1.0, 1.0, 1.0, 1.0, 1.0, 1.0, 1.0, 1.0, 1.0, 1.0, 1.0, 1.0, 1.0, 1.0]\n",
      "테스트셋 정확도추이: [0.933, 1.0, 0.933, 1.0, 1.0, 1.0, 1.0, 1.0, 1.0, 1.0, 1.0, 1.0, 1.0, 1.0, 1.0, 1.0, 1.0, 1.0, 1.0, 1.0, 1.0, 1.0, 1.0, 1.0, 1.0, 1.0, 1.0, 1.0, 1.0, 1.0, 1.0, 1.0, 1.0, 1.0, 1.0, 1.0, 1.0, 1.0, 1.0, 1.0, 1.0, 1.0, 1.0, 1.0, 1.0, 1.0, 1.0, 1.0, 1.0, 1.0]\n"
     ]
    }
   ],
   "source": [
    "print('훈련셋   오차추이:', [round(i, 3) for i in md_train_loss])\n",
    "print('테스트셋 오차추이:', [round(i, 3) for i in md_valid_loss])\n",
    "\n",
    "print()\n",
    "\n",
    "print('훈련셋   정확도추이:', [round(i, 3) for i in md_train_acc])\n",
    "print('테스트셋 정확도추이:', [round(i, 3) for i in md_valid_acc])"
   ]
  },
  {
   "cell_type": "markdown",
   "metadata": {},
   "source": [
    "### 딥러닝 학습모델 성능평가 그래프"
   ]
  },
  {
   "cell_type": "markdown",
   "metadata": {},
   "source": [
    "#### md모델 훈련셋과 검증셋 성능비교"
   ]
  },
  {
   "cell_type": "code",
   "execution_count": 49,
   "metadata": {},
   "outputs": [
    {
     "data": {
      "text/plain": [
       "array([ 0,  1,  2,  3,  4,  5,  6,  7,  8,  9, 10, 11, 12, 13, 14, 15, 16,\n",
       "       17, 18, 19, 20, 21, 22, 23, 24, 25, 26, 27, 28, 29, 30, 31, 32, 33,\n",
       "       34, 35, 36, 37, 38, 39, 40, 41, 42, 43, 44, 45, 46, 47, 48, 49])"
      ]
     },
     "execution_count": 49,
     "metadata": {},
     "output_type": "execute_result"
    }
   ],
   "source": [
    "# x축 설정\n",
    "# - epochs에 의해서 딥러닝 학습모델이 수십~수백개 만들어저 진행됨에 따라\n",
    "#   학습오차, 학습정확도, 검증오차, 검증정확도가 모두 수십~수백개 값이 생성됨\n",
    "# - 그런데, callbacks = [cp, es] 파라미터 설정으로 \n",
    "#   개선된 베스트모델&과적합방지 학습모델에 대해서만 제한적으로  \n",
    "#   학습오차, 학습정확도, 검증오차, 검증정확도가 기록됨  \n",
    "#   [cp] 학습모델별 성능평가파일 생성시 \n",
    "#        이전파일보다 성능이 개선된 베스트모델을 저장옵션\n",
    "#   [es] 딥러닝 과적합방지용 조기종료 옵션 \n",
    "md_x_len = np.arange(len(md_train_loss))\n",
    "md_x_len"
   ]
  },
  {
   "cell_type": "code",
   "execution_count": 50,
   "metadata": {},
   "outputs": [
    {
     "data": {
      "text/plain": [
       "<matplotlib.legend.Legend at 0x239e4374b00>"
      ]
     },
     "execution_count": 50,
     "metadata": {},
     "output_type": "execute_result"
    },
    {
     "data": {
      "image/png": "[encoded data removed]",
      "text/plain": [
       "<Figure size 432x288 with 1 Axes>"
      ]
     },
     "metadata": {
      "needs_background": "light"
     },
     "output_type": "display_data"
    }
   ],
   "source": [
    "# 딥러닝학습 훈련셋과 검증셋 오차 추이\n",
    "plt.plot(md_x_len, md_valid_loss, 'mo--', label = '검증셋 오차')\n",
    "plt.plot(md_x_len, md_train_loss, 'co--', label = '훈련셋 오차')\n",
    "\n",
    "plt.title('딥러닝학습 훈련셋과 검증셋 오차 추이')\n",
    "plt.xlabel('epoch', size = 12)\n",
    "plt.ylabel('오차(loss)', size = 12)\n",
    "plt.legend()\n",
    "\n",
    "# 마커설정 옵션 'co--', 'mo--'\n",
    "# --> color = 'cyan', marker = 'o', linestyle = '--' 로 풀어서 코딩가능\n",
    "# --> color = 'magenta', marker = 'o', linestyle = '--' 로 풀어서 코딩가능"
   ]
  },
  {
   "cell_type": "code",
   "execution_count": 51,
   "metadata": {},
   "outputs": [
    {
     "data": {
      "text/plain": [
       "<matplotlib.legend.Legend at 0x239e43d09b0>"
      ]
     },
     "execution_count": 51,
     "metadata": {},
     "output_type": "execute_result"
    },
    {
     "data": {
      "image/png": "[encoded data removed]",
      "text/plain": [
       "<Figure size 432x288 with 1 Axes>"
      ]
     },
     "metadata": {
      "needs_background": "light"
     },
     "output_type": "display_data"
    }
   ],
   "source": [
    "# 딥러닝학습 훈련셋과 검증셋 정확도 추이\n",
    "plt.plot(md_x_len, md_train_acc, 'co--', label = '훈련셋 정확도')\n",
    "plt.plot(md_x_len, md_valid_acc, 'mo--', label = '검증셋 정확도')\n",
    "\n",
    "plt.title('딥러닝학습 훈련셋과 검증셋 정확도 추이')\n",
    "plt.xlabel('epoch', size = 12)\n",
    "plt.ylabel('정확도(accuracy)', size = 12)\n",
    "plt.legend()"
   ]
  },
  {
   "cell_type": "code",
   "execution_count": 52,
   "metadata": {},
   "outputs": [
    {
     "data": {
      "text/plain": [
       "<matplotlib.legend.Legend at 0x239e444aef0>"
      ]
     },
     "execution_count": 52,
     "metadata": {},
     "output_type": "execute_result"
    },
    {
     "data": {
      "image/png": "[encoded data removed]",
      "text/plain": [
       "<Figure size 432x288 with 1 Axes>"
      ]
     },
     "metadata": {
      "needs_background": "light"
     },
     "output_type": "display_data"
    }
   ],
   "source": [
    "# 훈련셋 정확도와 검증셋 오차 추이\n",
    "plt.plot(md_x_len, md_train_acc, color = 'blue', marker = 'o', \n",
    "         linestyle = '--', label = '훈련셋 정확도')\n",
    "plt.plot(md_x_len, md_valid_loss, color = 'red', marker = 'o', \n",
    "         linestyle = '--', label = '검증셋 오차')\n",
    "plt.title('딥러닝학습 훈련셋 정확도와 검증셋 오차 추이')\n",
    "plt.xlabel('epoch', size = 12)\n",
    "plt.ylabel('red: 오차 ----- blue: 정확도', size = 12)\n",
    "plt.legend()\n",
    "\n",
    "# 마커설정 옵션: color = 'red', marker = 'o', linestyle = '--'\n",
    "# --> 'ro--'로 축약해서 설정가능함"
   ]
  },
  {
   "cell_type": "markdown",
   "metadata": {},
   "source": [
    "### 모델 성능평가"
   ]
  },
  {
   "cell_type": "markdown",
   "metadata": {},
   "source": [
    "#### md모델 훈련셋(train) 성능평가"
   ]
  },
  {
   "cell_type": "code",
   "execution_count": 53,
   "metadata": {},
   "outputs": [
    {
     "data": {
      "text/plain": [
       "[7.390984507082976e-07, 1.0]"
      ]
     },
     "execution_count": 53,
     "metadata": {},
     "output_type": "execute_result"
    }
   ],
   "source": [
    "# 훈련셋을 활용한 딥러닝모델의 성능평가 결과\n",
    "md_train_perf = md.evaluate_generator(trainset, steps = 15)\n",
    "md_train_perf"
   ]
  },
  {
   "cell_type": "code",
   "execution_count": 54,
   "metadata": {},
   "outputs": [
    {
     "name": "stdout",
     "output_type": "stream",
     "text": [
      "훈련셋 모델성능 종합: [0.0, 1.0]\n",
      "훈련셋 모델성능 오차(loss):       0.000\n",
      "훈련셋 모델성능 정확도(accuracy): 1.000\n"
     ]
    }
   ],
   "source": [
    "print('훈련셋 모델성능 종합:', [round(i, 3) for i in md_train_perf])\n",
    "print(f'훈련셋 모델성능 오차(loss): {md_train_perf[0]:11.3f}')\n",
    "print(f'훈련셋 모델성능 정확도(accuracy): {md_train_perf[1]:0.3f}')"
   ]
  },
  {
   "cell_type": "markdown",
   "metadata": {},
   "source": [
    "#### md모델 테스트셋(test) 성능평가"
   ]
  },
  {
   "cell_type": "code",
   "execution_count": 55,
   "metadata": {},
   "outputs": [
    {
     "data": {
      "text/plain": [
       "[0.005507189275797941, 1.0]"
      ]
     },
     "execution_count": 55,
     "metadata": {},
     "output_type": "execute_result"
    }
   ],
   "source": [
    "# 테스트셋을 활용한 딥러닝모델의 성능평가 결과\n",
    "md_test_perf = md.evaluate_generator(testset, steps = 5)\n",
    "md_test_perf"
   ]
  },
  {
   "cell_type": "code",
   "execution_count": 56,
   "metadata": {},
   "outputs": [
    {
     "name": "stdout",
     "output_type": "stream",
     "text": [
      "테스트셋 모델성능 종합: [0.006, 1.0]\n",
      "테스트셋 모델성능 오차(loss):       0.006\n",
      "테스트셋 모델성능 정확도(accuracy): 1.000\n"
     ]
    }
   ],
   "source": [
    "print('테스트셋 모델성능 종합:', [round(i, 3) for i in md_test_perf])\n",
    "print(f'테스트셋 모델성능 오차(loss): {md_test_perf[0]:11.3f}')\n",
    "print(f'테스트셋 모델성능 정확도(accuracy): {md_test_perf[1]:0.3f}')"
   ]
  },
  {
   "cell_type": "markdown",
   "metadata": {},
   "source": [
    "#### 훈련셋과 테스트셋 성능평가 비교"
   ]
  },
  {
   "cell_type": "code",
   "execution_count": 57,
   "metadata": {},
   "outputs": [
    {
     "name": "stdout",
     "output_type": "stream",
     "text": [
      "[오차      (loss)] 훈련셋: 0.000, 테스트셋: 0.006, 차이:  0.006\n",
      "[정확도(accuracy)] 훈련셋: 1.000, 테스트셋: 1.000, 차이: 0.000\n"
     ]
    }
   ],
   "source": [
    "# 오차(loss) 비교\n",
    "md_diff_loss = md_test_perf[0] - md_train_perf[0] \n",
    "\n",
    "# 정확도(accuracy) 비교\n",
    "md_diff_acc = md_test_perf[1] - md_train_perf[1] \n",
    "\n",
    "print(f'[오차      (loss)] 훈련셋: {md_train_perf[0]:0.3f}, 테스트셋: {md_test_perf[0]:0.3f}, 차이: {md_diff_loss:6.3f}')\n",
    "print(f'[정확도(accuracy)] 훈련셋: {md_train_perf[1]:0.3f}, 테스트셋: {md_test_perf[1]:0.3f}, 차이: {md_diff_acc:0.3f}')"
   ]
  },
  {
   "cell_type": "markdown",
   "metadata": {},
   "source": [
    "# <font color = 'blue'>새로운 데이터 준비</font>\n",
    "* 한 사람이 핸드라이팅으로 작성한 이미지 대신에\n",
    "<br>여러 사람이 핸드라이팅으로 드로잉한 이미지에 대한 분석"
   ]
  },
  {
   "cell_type": "markdown",
   "metadata": {},
   "source": [
    "### 이미지 파일 소싱"
   ]
  },
  {
   "cell_type": "code",
   "execution_count": 58,
   "metadata": {},
   "outputs": [],
   "source": [
    "# 웹브라우저 라이브러리 이용해 해당 데이터셋 위치 확인\n",
    "# import webbrowser\n",
    "# webbrowser.open('https://https://github.com/tykimos/tykimos.github.io/blob/master/warehouse/2017-3-8-CNN_Data_Augmentation_hard_handwriting_shape.zip')\n",
    "\n",
    "# - 다운받은 zip파일의 압축을 풀어 주피터노트북 작업경로내 ./datapic/hard_handwriting_shape 라는 폴더에 저장해 놓음"
   ]
  },
  {
   "cell_type": "markdown",
   "metadata": {},
   "source": [
    "### 이미지 파일 저장폴더 확인"
   ]
  },
  {
   "cell_type": "code",
   "execution_count": 59,
   "metadata": {},
   "outputs": [
    {
     "data": {
      "text/plain": [
       "['test', 'train']"
      ]
     },
     "execution_count": 59,
     "metadata": {},
     "output_type": "execute_result"
    }
   ],
   "source": [
    "# 현재 작업경로내 분석대상 이미지파일 저장폴더 확인\n",
    "os.listdir(path = './datapic/hard_handwriting_shape')"
   ]
  },
  {
   "cell_type": "code",
   "execution_count": 60,
   "metadata": {
    "scrolled": true
   },
   "outputs": [
    {
     "name": "stdout",
     "output_type": "stream",
     "text": [
      "Folder: ./datapic/hard_handwriting_shape\n",
      "Folder: ./datapic/hard_handwriting_shape\\test\n",
      "Folder: ./datapic/hard_handwriting_shape\\test\\circle\n",
      "\tcircle021.png\n",
      "\tcircle022.png\n",
      "\tcircle023.png\n",
      "\tcircle024.png\n",
      "\tcircle025.png\n",
      "Folder: ./datapic/hard_handwriting_shape\\test\\rectangle\n",
      "\trectangle021.png\n",
      "\trectangle022.png\n",
      "\trectangle023.png\n",
      "\trectangle024.png\n",
      "\trectangle025.png\n",
      "Folder: ./datapic/hard_handwriting_shape\\test\\triangle\n",
      "\ttriangle021.png\n",
      "\ttriangle022.png\n",
      "\ttriangle023.png\n",
      "\ttriangle024.png\n",
      "\ttriangle025.png\n",
      "Folder: ./datapic/hard_handwriting_shape\\train\n",
      "Folder: ./datapic/hard_handwriting_shape\\train\\circle\n",
      "\tcircle001.png\n",
      "\tcircle002.png\n",
      "\tcircle003.png\n",
      "\tcircle004.png\n",
      "\tcircle005.png\n",
      "\tcircle006.png\n",
      "\tcircle007.png\n",
      "\tcircle008.png\n",
      "\tcircle009.png\n",
      "\tcircle010.png\n",
      "\tcircle011.png\n",
      "\tcircle012.png\n",
      "\tcircle013.png\n",
      "\tcircle014.png\n",
      "\tcircle015.png\n",
      "Folder: ./datapic/hard_handwriting_shape\\train\\rectangle\n",
      "\trectangle001.png\n",
      "\trectangle002.png\n",
      "\trectangle003.png\n",
      "\trectangle004.png\n",
      "\trectangle005.png\n",
      "\trectangle006.png\n",
      "\trectangle007.png\n",
      "\trectangle008.png\n",
      "\trectangle009.png\n",
      "\trectangle010.png\n",
      "\trectangle011.png\n",
      "\trectangle012.png\n",
      "\trectangle013.png\n",
      "\trectangle014.png\n",
      "\trectangle015.png\n",
      "Folder: ./datapic/hard_handwriting_shape\\train\\triangle\n",
      "\ttriangle001.png\n",
      "\ttriangle002.png\n",
      "\ttriangle003.png\n",
      "\ttriangle004.png\n",
      "\ttriangle005.png\n",
      "\ttriangle006.png\n",
      "\ttriangle007.png\n",
      "\ttriangle008.png\n",
      "\ttriangle009.png\n",
      "\ttriangle010.png\n",
      "\ttriangle011.png\n",
      "\ttriangle012.png\n",
      "\ttriangle013.png\n",
      "\ttriangle014.png\n",
      "\ttriangle015.png\n"
     ]
    }
   ],
   "source": [
    "import os\n",
    " \n",
    "rootDir = './datapic/hard_handwriting_shape'\n",
    "for dirName, subdirList, fileList in os.walk(rootDir):\n",
    "    print('Folder: %s' % dirName)\n",
    "    for fname in fileList:\n",
    "        print('\\t%s' % fname)\n"
   ]
  },
  {
   "cell_type": "markdown",
   "metadata": {},
   "source": [
    "### 이미지 파일 데이터셋 만들기"
   ]
  },
  {
   "cell_type": "code",
   "execution_count": 61,
   "metadata": {},
   "outputs": [],
   "source": [
    "# 무작위 시드넘버 설정으로 샘플 재현성 확보\n",
    "myseed = 10\n",
    "\n",
    "import numpy as np\n",
    "np.random.seed(myseed)"
   ]
  },
  {
   "cell_type": "code",
   "execution_count": 62,
   "metadata": {},
   "outputs": [],
   "source": [
    "# 이미지파일 데이터셋 제네레이션 모듈 준비\n",
    "from keras.preprocessing.image import ImageDataGenerator\n",
    "\n",
    "# 이미지파일 데이터셋 제네레이션 모듈 인스턴스 객체화\n",
    "imgen = ImageDataGenerator(rescale = 1./255)\n",
    "\n",
    "# - 하드디스크에 저장된 물리적인 이미지파일을 분석용 수치데이터셋으로 \n",
    "#   변환/생성(제네레이션) 하는 기능을 별도의 객체로 만들어 냄\n",
    "\n",
    "# - rescale = 1./255 옵션사용으로 딥러닝 연산에 적합한 스케일링 미리 실시해 로딩하는 것도 좋음\n",
    "#             사용하지 않으면, 원본이미지의 픽셀별 색상농도 0~255 수치가 그대로 로딩되며, \n",
    "#             별도로 스케일링 전처리를 해주면 됨"
   ]
  },
  {
   "cell_type": "code",
   "execution_count": 63,
   "metadata": {},
   "outputs": [
    {
     "name": "stdout",
     "output_type": "stream",
     "text": [
      "Found 45 images belonging to 3 classes.\n",
      "Found 15 images belonging to 3 classes.\n"
     ]
    }
   ],
   "source": [
    "# 이미지파일 데이터셋 생성객체 이용\n",
    "\n",
    "# 훈련데이터셋 생성하기(제네레이션)\n",
    "trainset = imgen.flow_from_directory(\n",
    "    directory = './datapic/hard_handwriting_shape/train', \n",
    "    color_mode = 'grayscale',\n",
    "    target_size = (24, 24), \n",
    "    batch_size = 3, \n",
    "    class_mode = 'categorical')\n",
    "\n",
    "testset = imgen.flow_from_directory(\n",
    "    directory = './datapic/hard_handwriting_shape/test', \n",
    "    color_mode = 'grayscale',\n",
    "    target_size = (24, 24), \n",
    "    batch_size = 3, \n",
    "    class_mode = 'categorical')\n",
    "\n",
    "# - directory: 해당 디렉토리 내에 분류예측대상 이미지파일을 레이블별로 폴더를 만들어서 저장해 놓아야 함\n",
    "# - color_mode: 흑백이미지(grayscale), 컬러이미지(rgb)\n",
    "# - target_size: 저장되어 있는 이미지 파일 로딩시 통일된 픽셀규격(가로, 세로)으로 로딩해줌\n",
    "# - batch_size: 이미지파일을 메모리로 로딩시 몇 개씩 나누어서 처리할 것인지 설정\n",
    "#               batsh_size = 3이므로 훈련용 이미지 45개 / 3배치 = 15개 epochs로 로딩됨\n",
    "#               batsh_size = 3이므로 테스트용 이미지 15갸 / 3배치 = 5개 epochs로 로딩됨\n",
    "# - class_mode: 분류예측용 레이블 숫자 생성\n",
    "#               binary:이항분류, categorical:다항분류, sparse:1차원 정수 "
   ]
  },
  {
   "cell_type": "markdown",
   "metadata": {},
   "source": [
    "# <font color = 'blue'>데이터 기본탐색</font>"
   ]
  },
  {
   "cell_type": "markdown",
   "metadata": {},
   "source": [
    "### 훈련용 이미지파일 데이터셋"
   ]
  },
  {
   "cell_type": "markdown",
   "metadata": {},
   "source": [
    "#### 이미지파일 로딩환경"
   ]
  },
  {
   "cell_type": "code",
   "execution_count": 64,
   "metadata": {
    "scrolled": true
   },
   "outputs": [
    {
     "name": "stdout",
     "output_type": "stream",
     "text": [
      "이미지파일 로딩 경로: ./datapic/hard_handwriting_shape/train\n",
      "이미지파일 로딩 갯수: 45\n",
      "이미지파일 로딩 갯수: 45\n",
      "이미지파일 로딩 배치(batch) 크기: 3\n",
      "이미지파일 로딩 에포크(epochs) 크기: 15\n"
     ]
    }
   ],
   "source": [
    "print('이미지파일 로딩 경로:', trainset.directory)\n",
    "print('이미지파일 로딩 갯수:', trainset.n)\n",
    "print('이미지파일 로딩 갯수:', trainset.samples)\n",
    "print('이미지파일 로딩 배치(batch) 크기:', trainset.batch_size)\n",
    "print('이미지파일 로딩 에포크(epochs) 크기:', len(trainset))"
   ]
  },
  {
   "cell_type": "code",
   "execution_count": 65,
   "metadata": {
    "scrolled": true
   },
   "outputs": [
    {
     "data": {
      "text/plain": [
       "['circle\\\\circle001.png',\n",
       " 'circle\\\\circle002.png',\n",
       " 'circle\\\\circle003.png',\n",
       " 'circle\\\\circle004.png',\n",
       " 'circle\\\\circle005.png',\n",
       " 'circle\\\\circle006.png',\n",
       " 'circle\\\\circle007.png',\n",
       " 'circle\\\\circle008.png',\n",
       " 'circle\\\\circle009.png',\n",
       " 'circle\\\\circle010.png',\n",
       " 'circle\\\\circle011.png',\n",
       " 'circle\\\\circle012.png',\n",
       " 'circle\\\\circle013.png',\n",
       " 'circle\\\\circle014.png',\n",
       " 'circle\\\\circle015.png',\n",
       " 'rectangle\\\\rectangle001.png',\n",
       " 'rectangle\\\\rectangle002.png',\n",
       " 'rectangle\\\\rectangle003.png',\n",
       " 'rectangle\\\\rectangle004.png',\n",
       " 'rectangle\\\\rectangle005.png',\n",
       " 'rectangle\\\\rectangle006.png',\n",
       " 'rectangle\\\\rectangle007.png',\n",
       " 'rectangle\\\\rectangle008.png',\n",
       " 'rectangle\\\\rectangle009.png',\n",
       " 'rectangle\\\\rectangle010.png',\n",
       " 'rectangle\\\\rectangle011.png',\n",
       " 'rectangle\\\\rectangle012.png',\n",
       " 'rectangle\\\\rectangle013.png',\n",
       " 'rectangle\\\\rectangle014.png',\n",
       " 'rectangle\\\\rectangle015.png',\n",
       " 'triangle\\\\triangle001.png',\n",
       " 'triangle\\\\triangle002.png',\n",
       " 'triangle\\\\triangle003.png',\n",
       " 'triangle\\\\triangle004.png',\n",
       " 'triangle\\\\triangle005.png',\n",
       " 'triangle\\\\triangle006.png',\n",
       " 'triangle\\\\triangle007.png',\n",
       " 'triangle\\\\triangle008.png',\n",
       " 'triangle\\\\triangle009.png',\n",
       " 'triangle\\\\triangle010.png',\n",
       " 'triangle\\\\triangle011.png',\n",
       " 'triangle\\\\triangle012.png',\n",
       " 'triangle\\\\triangle013.png',\n",
       " 'triangle\\\\triangle014.png',\n",
       " 'triangle\\\\triangle015.png']"
      ]
     },
     "execution_count": 65,
     "metadata": {},
     "output_type": "execute_result"
    }
   ],
   "source": [
    "# 이미지파일 로딩경로와 파일명\n",
    "trainset.filenames"
   ]
  },
  {
   "cell_type": "markdown",
   "metadata": {},
   "source": [
    "#### 이미지파일 특성규격"
   ]
  },
  {
   "cell_type": "code",
   "execution_count": 66,
   "metadata": {},
   "outputs": [
    {
     "name": "stdout",
     "output_type": "stream",
     "text": [
      "이미지파일 색상채널 유형: grayscale\n",
      "이미지파일 데이터 저장특성: channels_last\n",
      "이미지파일 로딩규격: (24, 24)\n",
      "이미지파일 특성규격: (24, 24, 1)\n",
      "이미지파일 데이터 타입: float32\n",
      "이미지파일 픽셀과 픽셀사이, 점과 점사이 연결방법: nearest\n"
     ]
    }
   ],
   "source": [
    "print('이미지파일 색상채널 유형:', trainset.color_mode)\n",
    "# - color_mode 옵션사용시 흑백:gryscale, 컬러:rgb\n",
    "\n",
    "print('이미지파일 데이터 저장특성:', trainset.data_format)\n",
    "# - channels_last: (가로픽셀수, 세로픽셀수, 색상채널)\n",
    "# - channel_first: (색상채녈, 가로픽셀수, 세로픽셀수)\n",
    "\n",
    "print('이미지파일 로딩규격:', trainset.target_size)\n",
    "\n",
    "print('이미지파일 특성규격:', trainset.image_shape)\n",
    "# - 가로픽셀수, 세로픽셀수, 색상유형\n",
    "\n",
    "print('이미지파일 데이터 타입:', trainset.dtype)\n",
    "# - 이미지마다의 각 픽셀별 색상농도수치가 실수형32비트로 로딩됨\n",
    "\n",
    "print('이미지파일 픽셀과 픽셀사이, 점과 점사이 연결방법:', trainset.interpolation)\n",
    "# - nearest: 부드럽게 처리, none: 일반 직선모양"
   ]
  },
  {
   "cell_type": "markdown",
   "metadata": {},
   "source": [
    "#### 이미지파일 클래스 레이블"
   ]
  },
  {
   "cell_type": "code",
   "execution_count": 67,
   "metadata": {},
   "outputs": [
    {
     "name": "stdout",
     "output_type": "stream",
     "text": [
      "이미지파일 클래스 유형: categorical\n",
      "이미지파일 클래스 유형개수: 3\n",
      "\n",
      "이미지파일 클래스별 레이블과 번호:\n",
      " {'circle': 0, 'rectangle': 1, 'triangle': 2}\n",
      "\n",
      "이미지파일 마다 부여된 클래스 번호:\n",
      " [0 0 0 0 0 0 0 0 0 0 0 0 0 0 0 1 1 1 1 1 1 1 1 1 1 1 1 1 1 1 2 2 2 2 2 2 2\n",
      " 2 2 2 2 2 2 2 2]\n"
     ]
    }
   ],
   "source": [
    "print('이미지파일 클래스 유형:', trainset.class_mode)\n",
    "# - binary:이항분류, categorical:다항분류, sparse:1차원 정수\n",
    "\n",
    "print('이미지파일 클래스 유형개수:', trainset.num_classes)\n",
    "\n",
    "print('\\n이미지파일 클래스별 레이블과 번호:\\n', trainset.class_indices)\n",
    "# - 하드디스크에 저장되어 있는 폴더명&순서를 그대로 가져와서 사용함\n",
    "\n",
    "print('\\n이미지파일 마다 부여된 클래스 번호:\\n', trainset.classes)"
   ]
  },
  {
   "cell_type": "markdown",
   "metadata": {},
   "source": [
    "### 테스트용 이미지파일 데이터셋"
   ]
  },
  {
   "cell_type": "markdown",
   "metadata": {},
   "source": [
    "#### 이미지파일 로딩환경"
   ]
  },
  {
   "cell_type": "code",
   "execution_count": 68,
   "metadata": {
    "scrolled": true
   },
   "outputs": [
    {
     "name": "stdout",
     "output_type": "stream",
     "text": [
      "이미지파일 로딩 경로: ./datapic/hard_handwriting_shape/test\n",
      "이미지파일 로딩 갯수: 15\n",
      "이미지파일 로딩 갯수: 15\n",
      "이미지파일 로딩 배치(batch) 크기: 3\n",
      "이미지파일 로딩 에포크(epochs) 크기: 5\n"
     ]
    }
   ],
   "source": [
    "print('이미지파일 로딩 경로:', testset.directory)\n",
    "print('이미지파일 로딩 갯수:', testset.n)\n",
    "print('이미지파일 로딩 갯수:', testset.samples)\n",
    "print('이미지파일 로딩 배치(batch) 크기:', testset.batch_size)\n",
    "print('이미지파일 로딩 에포크(epochs) 크기:', len(testset))"
   ]
  },
  {
   "cell_type": "code",
   "execution_count": 69,
   "metadata": {
    "scrolled": true
   },
   "outputs": [
    {
     "data": {
      "text/plain": [
       "['circle\\\\circle021.png',\n",
       " 'circle\\\\circle022.png',\n",
       " 'circle\\\\circle023.png',\n",
       " 'circle\\\\circle024.png',\n",
       " 'circle\\\\circle025.png',\n",
       " 'rectangle\\\\rectangle021.png',\n",
       " 'rectangle\\\\rectangle022.png',\n",
       " 'rectangle\\\\rectangle023.png',\n",
       " 'rectangle\\\\rectangle024.png',\n",
       " 'rectangle\\\\rectangle025.png',\n",
       " 'triangle\\\\triangle021.png',\n",
       " 'triangle\\\\triangle022.png',\n",
       " 'triangle\\\\triangle023.png',\n",
       " 'triangle\\\\triangle024.png',\n",
       " 'triangle\\\\triangle025.png']"
      ]
     },
     "execution_count": 69,
     "metadata": {},
     "output_type": "execute_result"
    }
   ],
   "source": [
    "# 이미지파일 로딩경로와 파일명\n",
    "testset.filenames"
   ]
  },
  {
   "cell_type": "markdown",
   "metadata": {},
   "source": [
    "#### 이미지파일 특성규격"
   ]
  },
  {
   "cell_type": "code",
   "execution_count": 70,
   "metadata": {},
   "outputs": [
    {
     "name": "stdout",
     "output_type": "stream",
     "text": [
      "이미지파일 색상채널 유형: grayscale\n",
      "이미지파일 데이터 저장특성: channels_last\n",
      "이미지파일 로딩규격: (24, 24)\n",
      "이미지파일 특성규격: (24, 24, 1)\n",
      "이미지파일 데이터 타입: float32\n",
      "이미지파일 픽셀과 픽셀사이, 점과 점사이 연결방법: nearest\n"
     ]
    }
   ],
   "source": [
    "print('이미지파일 색상채널 유형:', testset.color_mode)\n",
    "# - color_mode 옵션사용시 흑백:gryscale, 컬러:rgb\n",
    "\n",
    "print('이미지파일 데이터 저장특성:', testset.data_format)\n",
    "# - channels_last: (가로픽셀수, 세로픽셀수, 색상채널)\n",
    "# - channel_first: (색상채녈, 가로픽셀수, 세로픽셀수)\n",
    "\n",
    "print('이미지파일 로딩규격:', testset.target_size)\n",
    "\n",
    "print('이미지파일 특성규격:', testset.image_shape)\n",
    "# - 가로픽셀수, 세로픽셀수, 색상유형\n",
    "\n",
    "print('이미지파일 데이터 타입:', testset.dtype)\n",
    "# - 이미지마다의 각 픽셀별 색상농도수치가 실수형32비트로 로딩됨\n",
    "\n",
    "print('이미지파일 픽셀과 픽셀사이, 점과 점사이 연결방법:', testset.interpolation)\n",
    "# - nearest: 부드럽게 처리, none: 일반 직선모양"
   ]
  },
  {
   "cell_type": "markdown",
   "metadata": {},
   "source": [
    "#### 이미지파일 클래스 레이블"
   ]
  },
  {
   "cell_type": "code",
   "execution_count": 71,
   "metadata": {},
   "outputs": [
    {
     "name": "stdout",
     "output_type": "stream",
     "text": [
      "이미지파일 클래스 유형: categorical\n",
      "이미지파일 클래스 유형개수: 3\n",
      "\n",
      "이미지파일 클레스별 레이블과 번호:\n",
      " {'circle': 0, 'rectangle': 1, 'triangle': 2}\n",
      "\n",
      "이미지파일 마다 부여된 클래스 번호:\n",
      " [0 0 0 0 0 1 1 1 1 1 2 2 2 2 2]\n"
     ]
    }
   ],
   "source": [
    "print('이미지파일 클래스 유형:', testset.class_mode)\n",
    "# - binary:이항분류, categorical:다항분류, sparse:1차원 정수\n",
    "\n",
    "print('이미지파일 클래스 유형개수:', testset.num_classes)\n",
    "\n",
    "print('\\n이미지파일 클레스별 레이블과 번호:\\n', testset.class_indices)\n",
    "# - 하드디스크에 저장되어 있는 폴더명&순서를 그대로 가져와서 사용함\n",
    "\n",
    "print('\\n이미지파일 마다 부여된 클래스 번호:\\n', testset.classes)"
   ]
  },
  {
   "cell_type": "markdown",
   "metadata": {},
   "source": [
    "# <font color = 'blue'>딥러닝 모델링</font>"
   ]
  },
  {
   "cell_type": "markdown",
   "metadata": {},
   "source": [
    "### 딥러닝 라이브러리 로딩"
   ]
  },
  {
   "cell_type": "code",
   "execution_count": 72,
   "metadata": {},
   "outputs": [],
   "source": [
    "# 딥러닝 관련 라이브러리\n",
    "import tensorflow as tf\n",
    "# - 딥러닝 학습알고리즘\n",
    "\n",
    "from keras.models import Sequential\n",
    "# - 딥러닝 학습계층을 순차적으로 쌓아올릴 수 있도록 해줌\n",
    "\n",
    "from keras.layers import Dense, Dropout, Flatten, Conv2D, MaxPooling2D\n",
    "# - Dense: 딥러닝 학습계층별 노드/유닛을 밀집시켜 학습방법을 설정할 수 있도록 해줌\n",
    "# - Dropout: 은닉층에 배치된 노두 중 일부를 임의로 비활성화 시킴\n",
    "# - Flatten: 컨볼루션층이나 맥스풀링의 2차원(가로X세로) 배열을 1차원으로 바꾸어 주는 기능\n",
    "# - Conv2D: 분석대상 이미지의 세부영역별 특징을 마스크 필터를 적용해 추출하는 기능\n",
    "# - MaxPooling2D: 분석대상 이미지의 세부영역별 대표특징값을 추출하는 기능"
   ]
  },
  {
   "cell_type": "markdown",
   "metadata": {},
   "source": [
    "### 딥러닝 학습계층 설정"
   ]
  },
  {
   "cell_type": "code",
   "execution_count": 73,
   "metadata": {},
   "outputs": [
    {
     "name": "stdout",
     "output_type": "stream",
     "text": [
      "_________________________________________________________________\n",
      "Layer (type)                 Output Shape              Param #   \n",
      "=================================================================\n",
      "conv2d_3 (Conv2D)            (None, 22, 22, 32)        320       \n",
      "_________________________________________________________________\n",
      "conv2d_4 (Conv2D)            (None, 20, 20, 64)        18496     \n",
      "_________________________________________________________________\n",
      "max_pooling2d_2 (MaxPooling2 (None, 10, 10, 64)        0         \n",
      "_________________________________________________________________\n",
      "flatten_2 (Flatten)          (None, 6400)              0         \n",
      "_________________________________________________________________\n",
      "dense_3 (Dense)              (None, 128)               819328    \n",
      "_________________________________________________________________\n",
      "dense_4 (Dense)              (None, 3)                 387       \n",
      "=================================================================\n",
      "Total params: 838,531\n",
      "Trainable params: 838,531\n",
      "Non-trainable params: 0\n",
      "_________________________________________________________________\n"
     ]
    }
   ],
   "source": [
    "# 입력층-컨볼루션층-컨볼루션층-맥스풀링층--플래튼-은닉층-출력층\n",
    "md = Sequential()\n",
    "\n",
    "# 컨볼루션층: 입력이미지크기\n",
    "md.add(Conv2D(32, kernel_size = (3, 3), input_shape = (24, 24, 1), activation = 'relu'))\n",
    "md.add(Conv2D(64, kernel_size = (3, 3), activation = 'relu'))\n",
    "\n",
    "md.add(MaxPooling2D(pool_size = (2, 2)))\n",
    "\n",
    "md.add(Flatten())\n",
    "\n",
    "md.add(Dense(128, activation = 'relu'))\n",
    "md.add(Dense(3, activation = 'softmax'))\n",
    "\n",
    "md.summary()"
   ]
  },
  {
   "cell_type": "markdown",
   "metadata": {},
   "source": [
    "### 딥러닝 학습방법 설정"
   ]
  },
  {
   "cell_type": "code",
   "execution_count": 74,
   "metadata": {},
   "outputs": [],
   "source": [
    "# 준비된 학습계층의 학습방법 설정\n",
    "md.compile(loss = 'categorical_crossentropy', \n",
    "            optimizer = 'adam', metrics = ['accuracy'])\n",
    "# - loss: 학습시 오차를 어떻방법으로 계산할지 설정\n",
    "# - optimizser: 발생하는 오차를 어떤방법으로 줄여나갈지 설정\n",
    "#   binary_crossentropy: 이항분류(binary-class classification)에 적합함\n",
    "#   categorical_crossentropy: 다항분류(multi-class classification)에 적합함\n",
    "# - metrics: 모형의 성능을 평가하는 기준으로 어떤 것을 사용할지 설정"
   ]
  },
  {
   "cell_type": "markdown",
   "metadata": {},
   "source": [
    "### 딥러닝 모델에 데이터 피팅"
   ]
  },
  {
   "cell_type": "code",
   "execution_count": 75,
   "metadata": {
    "scrolled": true
   },
   "outputs": [
    {
     "name": "stdout",
     "output_type": "stream",
     "text": [
      "Epoch 1/50\n",
      "15/15 [==============================] - 1s 59ms/step - loss: 1.0470 - acc: 0.5556 - val_loss: 1.2344 - val_acc: 0.3333\n",
      "\n",
      "Epoch 00001: val_loss did not improve from 0.01178\n",
      "Epoch 2/50\n",
      "15/15 [==============================] - 0s 24ms/step - loss: 0.3465 - acc: 0.8889 - val_loss: 2.4926 - val_acc: 0.3333\n",
      "\n",
      "Epoch 00002: val_loss did not improve from 0.01178\n",
      "Epoch 3/50\n",
      "15/15 [==============================] - 0s 23ms/step - loss: 0.0547 - acc: 0.9778 - val_loss: 3.4701 - val_acc: 0.4000\n",
      "\n",
      "Epoch 00003: val_loss did not improve from 0.01178\n",
      "Epoch 4/50\n",
      "15/15 [==============================] - 0s 23ms/step - loss: 0.0037 - acc: 1.0000 - val_loss: 3.9171 - val_acc: 0.4000\n",
      "\n",
      "Epoch 00004: val_loss did not improve from 0.01178\n",
      "Epoch 5/50\n",
      "15/15 [==============================] - 0s 25ms/step - loss: 0.0013 - acc: 1.0000 - val_loss: 4.2642 - val_acc: 0.4000\n",
      "\n",
      "Epoch 00005: val_loss did not improve from 0.01178\n",
      "Epoch 6/50\n",
      "15/15 [==============================] - 0s 25ms/step - loss: 5.7338e-04 - acc: 1.0000 - val_loss: 4.5295 - val_acc: 0.4000\n",
      "\n",
      "Epoch 00006: val_loss did not improve from 0.01178\n",
      "Epoch 7/50\n",
      "15/15 [==============================] - 0s 26ms/step - loss: 3.5574e-04 - acc: 1.0000 - val_loss: 4.8132 - val_acc: 0.4000\n",
      "\n",
      "Epoch 00007: val_loss did not improve from 0.01178\n",
      "Epoch 8/50\n",
      "15/15 [==============================] - 0s 25ms/step - loss: 2.6655e-04 - acc: 1.0000 - val_loss: 4.9374 - val_acc: 0.4000\n",
      "\n",
      "Epoch 00008: val_loss did not improve from 0.01178\n",
      "Epoch 9/50\n",
      "15/15 [==============================] - 0s 24ms/step - loss: 2.0987e-04 - acc: 1.0000 - val_loss: 5.0311 - val_acc: 0.4000\n",
      "\n",
      "Epoch 00009: val_loss did not improve from 0.01178\n",
      "Epoch 10/50\n",
      "15/15 [==============================] - 0s 24ms/step - loss: 1.7002e-04 - acc: 1.0000 - val_loss: 5.1131 - val_acc: 0.4000\n",
      "\n",
      "Epoch 00010: val_loss did not improve from 0.01178\n",
      "Epoch 11/50\n",
      "15/15 [==============================] - 0s 26ms/step - loss: 1.3830e-04 - acc: 1.0000 - val_loss: 5.1794 - val_acc: 0.4000\n",
      "\n",
      "Epoch 00011: val_loss did not improve from 0.01178\n"
     ]
    }
   ],
   "source": [
    "# 딥러닝 모델 최적화 훈련진행\n",
    "md_hist = md.fit_generator(\n",
    "    trainset,  \n",
    "    epochs = 50, \n",
    "    steps_per_epoch = 15, \n",
    "    validation_data = testset,\n",
    "    validation_steps = 5,\n",
    "    verbose = 1, \n",
    "    callbacks = [cp, es])"
   ]
  },
  {
   "cell_type": "markdown",
   "metadata": {},
   "source": [
    "# <font color = 'blue'>딥러닝 모델 성능평가</font>"
   ]
  },
  {
   "cell_type": "markdown",
   "metadata": {},
   "source": [
    "### 딥러닝 학습모델 성능평가 히스토리"
   ]
  },
  {
   "cell_type": "code",
   "execution_count": 76,
   "metadata": {},
   "outputs": [],
   "source": [
    "# 딥러닝 학습실시에 따른 성능평가 히스토리 확보\n",
    "\n",
    "md_train_loss = md_hist.history['loss'] # 훈련셋 오차\n",
    "md_train_acc = md_hist.history['acc'] # 훈련셋 정확도\n",
    "md_valid_loss = md_hist.history['val_loss'] # 검증셋 오차\n",
    "md_valid_acc = md_hist.history['val_acc'] # 검증셋 정확도"
   ]
  },
  {
   "cell_type": "code",
   "execution_count": 77,
   "metadata": {},
   "outputs": [
    {
     "name": "stdout",
     "output_type": "stream",
     "text": [
      "<class 'list'> 11\n",
      "<class 'list'> 11\n",
      "<class 'list'> 11\n",
      "<class 'list'> 11\n"
     ]
    }
   ],
   "source": [
    "# 딥러닝 학습실시에 따른 성능평가 히스토리 객체형식과 규모\n",
    "print(type(md_train_loss), len(md_train_loss))\n",
    "print(type(md_train_acc), len(md_train_acc))\n",
    "print(type(md_valid_loss), len(md_valid_loss))\n",
    "print(type(md_valid_acc), len(md_valid_acc))"
   ]
  },
  {
   "cell_type": "code",
   "execution_count": 78,
   "metadata": {},
   "outputs": [
    {
     "name": "stdout",
     "output_type": "stream",
     "text": [
      "훈련셋   오차추이: [1.047, 0.347, 0.055, 0.004, 0.001, 0.001, 0.0, 0.0, 0.0, 0.0, 0.0]\n",
      "테스트셋 오차추이: [1.234, 2.493, 3.47, 3.917, 4.264, 4.53, 4.813, 4.937, 5.031, 5.113, 5.179]\n",
      "\n",
      "훈련셋   정확도추이: [0.556, 0.889, 0.978, 1.0, 1.0, 1.0, 1.0, 1.0, 1.0, 1.0, 1.0]\n",
      "테스트셋 정확도추이: [0.333, 0.333, 0.4, 0.4, 0.4, 0.4, 0.4, 0.4, 0.4, 0.4, 0.4]\n"
     ]
    }
   ],
   "source": [
    "print('훈련셋   오차추이:', [round(i, 3) for i in md_train_loss])\n",
    "print('테스트셋 오차추이:', [round(i, 3) for i in md_valid_loss])\n",
    "\n",
    "print()\n",
    "\n",
    "print('훈련셋   정확도추이:', [round(i, 3) for i in md_train_acc])\n",
    "print('테스트셋 정확도추이:', [round(i, 3) for i in md_valid_acc])"
   ]
  },
  {
   "cell_type": "markdown",
   "metadata": {},
   "source": [
    "### 딥러닝 학습모델 성능평가 그래프"
   ]
  },
  {
   "cell_type": "markdown",
   "metadata": {},
   "source": [
    "#### md모델 훈련셋과 검증셋 성능비교"
   ]
  },
  {
   "cell_type": "code",
   "execution_count": 79,
   "metadata": {},
   "outputs": [
    {
     "data": {
      "text/plain": [
       "array([ 0,  1,  2,  3,  4,  5,  6,  7,  8,  9, 10])"
      ]
     },
     "execution_count": 79,
     "metadata": {},
     "output_type": "execute_result"
    }
   ],
   "source": [
    "# x축 설정\n",
    "# - epochs에 의해서 딥러닝 학습모델이 수십~수백개 만들어저 진행됨에 따라\n",
    "#   학습오차, 학습정확도, 검증오차, 검증정확도가 모두 수십~수백개 값이 생성됨\n",
    "# - 그런데, callbacks = [cp, es] 파라미터 설정으로 \n",
    "#   개선된 베스트모델&과적합방지 학습모델에 대해서만 제한적으로  \n",
    "#   학습오차, 학습정확도, 검증오차, 검증정확도가 기록됨  \n",
    "#   [cp] 학습모델별 성능평가파일 생성시 \n",
    "#        이전파일보다 성능이 개선된 베스트모델을 저장옵션\n",
    "#   [es] 딥러닝 과적합방지용 조기종료 옵션 \n",
    "md_x_len = np.arange(len(md_train_loss))\n",
    "md_x_len"
   ]
  },
  {
   "cell_type": "code",
   "execution_count": 80,
   "metadata": {},
   "outputs": [
    {
     "data": {
      "text/plain": [
       "<matplotlib.legend.Legend at 0x239e4cda748>"
      ]
     },
     "execution_count": 80,
     "metadata": {},
     "output_type": "execute_result"
    },
    {
     "data": {
      "image/png": "[encoded data removed]",
      "text/plain": [
       "<Figure size 432x288 with 1 Axes>"
      ]
     },
     "metadata": {
      "needs_background": "light"
     },
     "output_type": "display_data"
    }
   ],
   "source": [
    "# 딥러닝학습 훈련셋과 검증셋 오차 추이\n",
    "plt.plot(md_x_len, md_valid_loss, 'mo--', label = '검증셋 오차')\n",
    "plt.plot(md_x_len, md_train_loss, 'co--', label = '훈련셋 오차')\n",
    "\n",
    "plt.title('딥러닝학습 훈련셋과 검증셋 오차 추이')\n",
    "plt.xlabel('epoch', size = 12)\n",
    "plt.ylabel('오차(loss)', size = 12)\n",
    "plt.legend()\n",
    "\n",
    "# 마커설정 옵션 'co--', 'mo--'\n",
    "# --> color = 'cyan', marker = 'o', linestyle = '--' 로 풀어서 코딩가능\n",
    "# --> color = 'magenta', marker = 'o', linestyle = '--' 로 풀어서 코딩가능"
   ]
  },
  {
   "cell_type": "code",
   "execution_count": 81,
   "metadata": {},
   "outputs": [
    {
     "data": {
      "text/plain": [
       "<matplotlib.legend.Legend at 0x239e69c9eb8>"
      ]
     },
     "execution_count": 81,
     "metadata": {},
     "output_type": "execute_result"
    },
    {
     "data": {
      "image/png": "[encoded data removed]",
      "text/plain": [
       "<Figure size 432x288 with 1 Axes>"
      ]
     },
     "metadata": {
      "needs_background": "light"
     },
     "output_type": "display_data"
    }
   ],
   "source": [
    "# 딥러닝학습 훈련셋과 검증셋 정확도 추이\n",
    "plt.plot(md_x_len, md_train_acc, 'co--', label = '훈련셋 정확도')\n",
    "plt.plot(md_x_len, md_valid_acc, 'mo--', label = '검증셋 정확도')\n",
    "\n",
    "plt.title('딥러닝학습 훈련셋과 검증셋 정확도 추이')\n",
    "plt.xlabel('epoch', size = 12)\n",
    "plt.ylabel('정확도(accuracy)', size = 12)\n",
    "plt.legend()"
   ]
  },
  {
   "cell_type": "code",
   "execution_count": 82,
   "metadata": {},
   "outputs": [
    {
     "data": {
      "text/plain": [
       "<matplotlib.legend.Legend at 0x239e6a39fd0>"
      ]
     },
     "execution_count": 82,
     "metadata": {},
     "output_type": "execute_result"
    },
    {
     "data": {
      "image/png": "[encoded data removed]",
      "text/plain": [
       "<Figure size 432x288 with 1 Axes>"
      ]
     },
     "metadata": {
      "needs_background": "light"
     },
     "output_type": "display_data"
    }
   ],
   "source": [
    "# 훈련셋 정확도와 검증셋 오차 추이\n",
    "plt.plot(md_x_len, md_train_acc, color = 'blue', marker = 'o', \n",
    "         linestyle = '--', label = '훈련셋 정확도')\n",
    "plt.plot(md_x_len, md_valid_loss, color = 'red', marker = 'o', \n",
    "         linestyle = '--', label = '검증셋 오차')\n",
    "plt.title('딥러닝학습 훈련셋 정확도와 검증셋 오차 추이')\n",
    "plt.xlabel('epoch', size = 12)\n",
    "plt.ylabel('red: 오차 ----- blue: 정확도', size = 12)\n",
    "plt.legend()\n",
    "\n",
    "# 마커설정 옵션: color = 'red', marker = 'o', linestyle = '--'\n",
    "# --> 'ro--'로 축약해서 설정가능함"
   ]
  },
  {
   "cell_type": "markdown",
   "metadata": {},
   "source": [
    "### 모델 성능평가"
   ]
  },
  {
   "cell_type": "markdown",
   "metadata": {},
   "source": [
    "#### md모델 훈련셋(train) 성능평가"
   ]
  },
  {
   "cell_type": "code",
   "execution_count": 83,
   "metadata": {},
   "outputs": [
    {
     "data": {
      "text/plain": [
       "[0.000117928510492978, 1.0]"
      ]
     },
     "execution_count": 83,
     "metadata": {},
     "output_type": "execute_result"
    }
   ],
   "source": [
    "# 훈련셋을 활용한 딥러닝모델의 성능평가 결과\n",
    "md_train_perf = md.evaluate_generator(trainset, steps = 15)\n",
    "md_train_perf"
   ]
  },
  {
   "cell_type": "code",
   "execution_count": 84,
   "metadata": {},
   "outputs": [
    {
     "name": "stdout",
     "output_type": "stream",
     "text": [
      "훈련셋 모델성능 종합: [0.0, 1.0]\n",
      "훈련셋 모델성능 오차(loss):       0.000\n",
      "훈련셋 모델성능 정확도(accuracy): 1.000\n"
     ]
    }
   ],
   "source": [
    "print('훈련셋 모델성능 종합:', [round(i, 3) for i in md_train_perf])\n",
    "print(f'훈련셋 모델성능 오차(loss): {md_train_perf[0]:11.3f}')\n",
    "print(f'훈련셋 모델성능 정확도(accuracy): {md_train_perf[1]:0.3f}')"
   ]
  },
  {
   "cell_type": "markdown",
   "metadata": {},
   "source": [
    "#### md모델 테스트셋(test) 성능평가"
   ]
  },
  {
   "cell_type": "code",
   "execution_count": 85,
   "metadata": {},
   "outputs": [
    {
     "data": {
      "text/plain": [
       "[3.5441090196371077, 0.4666666746139526]"
      ]
     },
     "execution_count": 85,
     "metadata": {},
     "output_type": "execute_result"
    }
   ],
   "source": [
    "# 테스트셋을 활용한 딥러닝모델의 성능평가 결과\n",
    "md_test_perf = md.evaluate_generator(testset, steps = 5)\n",
    "md_test_perf"
   ]
  },
  {
   "cell_type": "code",
   "execution_count": 86,
   "metadata": {},
   "outputs": [
    {
     "name": "stdout",
     "output_type": "stream",
     "text": [
      "테스트셋 모델성능 종합: [3.544, 0.467]\n",
      "테스트셋 모델성능 오차(loss):       3.544\n",
      "테스트셋 모델성능 정확도(accuracy): 0.467\n"
     ]
    }
   ],
   "source": [
    "print('테스트셋 모델성능 종합:', [round(i, 3) for i in md_test_perf])\n",
    "print(f'테스트셋 모델성능 오차(loss): {md_test_perf[0]:11.3f}')\n",
    "print(f'테스트셋 모델성능 정확도(accuracy): {md_test_perf[1]:0.3f}')"
   ]
  },
  {
   "cell_type": "markdown",
   "metadata": {},
   "source": [
    "#### 훈련셋과 테스트셋 성능평가 비교"
   ]
  },
  {
   "cell_type": "code",
   "execution_count": 87,
   "metadata": {},
   "outputs": [
    {
     "name": "stdout",
     "output_type": "stream",
     "text": [
      "[오차      (loss)] 훈련셋: 0.000, 테스트셋: 3.544, 차이:  3.544\n",
      "[정확도(accuracy)] 훈련셋: 1.000, 테스트셋: 0.467, 차이: -0.533\n"
     ]
    }
   ],
   "source": [
    "# 오차(loss) 비교\n",
    "md_diff_loss = md_test_perf[0] - md_train_perf[0] \n",
    "\n",
    "# 정확도(accuracy) 비교\n",
    "md_diff_acc = md_test_perf[1] - md_train_perf[1] \n",
    "\n",
    "print(f'[오차      (loss)] 훈련셋: {md_train_perf[0]:0.3f}, 테스트셋: {md_test_perf[0]:0.3f}, 차이: {md_diff_loss:6.3f}')\n",
    "print(f'[정확도(accuracy)] 훈련셋: {md_train_perf[1]:0.3f}, 테스트셋: {md_test_perf[1]:0.3f}, 차이: {md_diff_acc:0.3f}')"
   ]
  },
  {
   "cell_type": "markdown",
   "metadata": {},
   "source": [
    "# <font color = 'blue'>데이터 증식(증강;부풀리기: Data Augmentation)</font>"
   ]
  },
  {
   "cell_type": "markdown",
   "metadata": {},
   "source": [
    "### 이미지데이터 증식 필요성\n",
    "* 분석대상 이미지에 임의로 변형을 가하는 작업\n",
    "* 주어진 데이터 갯수에 비해 더 많은 이미지를 대상으로 훈련을 실시해 \n",
    "<br>과적합 (overfitting)을 방지하고, 새로운 이미지에 대한 일반화 가능성을 높임"
   ]
  },
  {
   "cell_type": "markdown",
   "metadata": {},
   "source": [
    "### 이미지데이터 증식유형"
   ]
  },
  {
   "cell_type": "markdown",
   "metadata": {},
   "source": [
    "#### rotation_range = 90\n",
    "* 지정된 각도 범위내에서 임의로 원본이미지를 회전시킴\n",
    "* 단위는 도이며, 정수형으로 지정함\n",
    "* 90로 지정하면 0도에서 90도 사이에 임의의 각도로 회전시킴\n",
    "<img src = './../../images/aug_01_rotation.png'>"
   ]
  },
  {
   "cell_type": "markdown",
   "metadata": {},
   "source": [
    "#### width_shift_range = 0.1\n",
    "* 지정된 수평방향 이동 범위내에서 임의로 원본이미지를 이동시킴\n",
    "* 수치는 전체 넓이의 비율(실수)로 나타냄\n",
    "* 0.1로 지정하면, 전체 넓이가 100일 경우 10픽셀 내외로 좌우 이동시킴\n",
    "<img src = './../../images/aug_02_wd_shift.png'>"
   ]
  },
  {
   "cell_type": "markdown",
   "metadata": {},
   "source": [
    "#### height_shift_range = 0.1\n",
    "* 지정된 수직방향 이동 범위내에서 임의로 원본이미지를 이동킴\n",
    "* 수치는 전체 높이의 비율(실수)로 나타냄\n",
    "* 0.1로 지정하면, 전체 높이가 100일 경우 10픽셀 내외로 상하 이동시킴\n",
    "<img src = './../../images/aug_03_ht_shift.png'>"
   ]
  },
  {
   "cell_type": "markdown",
   "metadata": {},
   "source": [
    "#### shear_range = 0.5\n",
    "* 밀림 강도 범위내에서 임의로 원본이미지를 변형시킴\n",
    "* 수치는 시계반대방향으로 밀림 강도를 라디안으로 나타냄\n",
    "* 0.5로 지정하면, 0.5 라이안내외로 시계반대방향으로 변형시킴\n",
    "<img src = './../../images/aug_04_shear.png'>"
   ]
  },
  {
   "cell_type": "markdown",
   "metadata": {},
   "source": [
    "#### zoom_range = 0.3\n",
    "* 지정된 확대/축소 범위내에서 임의로 원본이미지를 확대/축소함\n",
    "* '1-수치' ~ '1+수치' 사이 범위로 확대/축소를 실시함\n",
    "* 0.3으로 지정하면, 0.7배에서 1.3배 크기 변화시킴\n",
    "<img src = './../../images/aug_05_zoom.png'>"
   ]
  },
  {
   "cell_type": "markdown",
   "metadata": {},
   "source": [
    "#### horizontal_flip = True\n",
    "수평방향으로 뒤집기를 실시함\n",
    "<img src = './../../images/aug_06_horiz.png'>"
   ]
  },
  {
   "cell_type": "markdown",
   "metadata": {},
   "source": [
    "#### vertical_flip = True\n",
    "수직방향으로 뒤집기를 실시함\n",
    "<img src = './../../images/aug_07_vert.png'>"
   ]
  },
  {
   "cell_type": "markdown",
   "metadata": {},
   "source": [
    "### 이미지데이터 증식방법\n",
    "* 이미지파일 1개를 로딩해 다양한 방식으로 증식되는 예시 확인"
   ]
  },
  {
   "cell_type": "code",
   "execution_count": 88,
   "metadata": {},
   "outputs": [],
   "source": [
    "# 이미지파일 단독 로딩용 라이브러리 준비\n",
    "import numpy as np\n",
    "\n",
    "# 랜덤시드 고정시키기\n",
    "np.random.seed(5)\n",
    "\n",
    "from keras.preprocessing.image import ImageDataGenerator, array_to_img, img_to_array, load_img"
   ]
  },
  {
   "cell_type": "code",
   "execution_count": 89,
   "metadata": {},
   "outputs": [
    {
     "data": {
      "image/png": "[encoded data removed]",
      "text/plain": [
       "<PIL.Image.Image image mode=RGB size=24x24 at 0x239E1FF0908>"
      ]
     },
     "execution_count": 89,
     "metadata": {},
     "output_type": "execute_result"
    }
   ],
   "source": [
    "# 예시 이미지 1개 로딩\n",
    "img = load_img('./datapic/hard_handwriting_shape/train/triangle/triangle001.png')\n",
    "img"
   ]
  },
  {
   "cell_type": "code",
   "execution_count": 90,
   "metadata": {
    "scrolled": true
   },
   "outputs": [
    {
     "data": {
      "text/plain": [
       "array([[[[255., 255., 255.],\n",
       "         [255., 255., 255.],\n",
       "         [255., 255., 255.],\n",
       "         ...,\n",
       "         [255., 255., 255.],\n",
       "         [255., 255., 255.],\n",
       "         [255., 255., 255.]],\n",
       "\n",
       "        [[255., 255., 255.],\n",
       "         [255., 255., 255.],\n",
       "         [255., 255., 255.],\n",
       "         ...,\n",
       "         [255., 255., 255.],\n",
       "         [255., 255., 255.],\n",
       "         [255., 255., 255.]],\n",
       "\n",
       "        [[255., 255., 255.],\n",
       "         [255., 255., 255.],\n",
       "         [255., 255., 255.],\n",
       "         ...,\n",
       "         [255., 255., 255.],\n",
       "         [255., 255., 255.],\n",
       "         [255., 255., 255.]],\n",
       "\n",
       "        ...,\n",
       "\n",
       "        [[255., 255., 255.],\n",
       "         [255., 255., 255.],\n",
       "         [255., 255., 255.],\n",
       "         ...,\n",
       "         [255., 255., 255.],\n",
       "         [255., 255., 255.],\n",
       "         [255., 255., 255.]],\n",
       "\n",
       "        [[255., 255., 255.],\n",
       "         [255., 255., 255.],\n",
       "         [255., 255., 255.],\n",
       "         ...,\n",
       "         [255., 255., 255.],\n",
       "         [255., 255., 255.],\n",
       "         [255., 255., 255.]],\n",
       "\n",
       "        [[255., 255., 255.],\n",
       "         [255., 255., 255.],\n",
       "         [255., 255., 255.],\n",
       "         ...,\n",
       "         [255., 255., 255.],\n",
       "         [255., 255., 255.],\n",
       "         [255., 255., 255.]]]], dtype=float32)"
      ]
     },
     "execution_count": 90,
     "metadata": {},
     "output_type": "execute_result"
    }
   ],
   "source": [
    "# 이미지파일 데이터 내용&구조 확인\n",
    "x = img_to_array(img)\n",
    "x = x.reshape((1,) + x.shape)\n",
    "x"
   ]
  },
  {
   "cell_type": "code",
   "execution_count": 91,
   "metadata": {},
   "outputs": [],
   "source": [
    "# 이미지파일 증식변환작업 저장폴더명 설정\n",
    "import os\n",
    "\n",
    "md_dir = './datapic/preview'\n",
    "if not os.path.exists(md_dir):\n",
    "    os.mkdir(md_dir)"
   ]
  },
  {
   "cell_type": "code",
   "execution_count": 92,
   "metadata": {},
   "outputs": [],
   "source": [
    "# 이미지 변형증식용 제네레이터 생성\n",
    "imgen_aug = ImageDataGenerator(rescale = 1./255, \n",
    "                               rotation_range = 15,\n",
    "                               width_shift_range = 0.1,\n",
    "                               height_shift_range = 0.1,\n",
    "                               shear_range = 0.5,\n",
    "                               zoom_range = [0.8, 2.0],\n",
    "                               horizontal_flip = True,\n",
    "                               vertical_flip = True,\n",
    "                               fill_mode = 'nearest')"
   ]
  },
  {
   "cell_type": "code",
   "execution_count": 94,
   "metadata": {},
   "outputs": [],
   "source": [
    "# for 구문을 활용한 이미지파일 증식시키기    \n",
    "i = 0\n",
    "\n",
    "for batch in imgen_aug.flow(x, \n",
    "                            batch_size = 1, \n",
    "                            save_to_dir = './datapic/preview', \n",
    "                            save_prefix = 'tri', \n",
    "                            save_format = 'png'):\n",
    "    i += 1\n",
    "\n",
    "    # 30개 정도까지만 샘플로 증식시킴\n",
    "    if i > 30: \n",
    "        break"
   ]
  },
  {
   "cell_type": "code",
   "execution_count": null,
   "metadata": {
    "scrolled": true
   },
   "outputs": [],
   "source": [
    "# 증식된 이미지 파일 확인\n",
    "os.listdir(path = './datapic/preview')"
   ]
  },
  {
   "cell_type": "markdown",
   "metadata": {},
   "source": [
    "### 이미지 증식방식을 이용한 딥러닝 피팅"
   ]
  },
  {
   "cell_type": "code",
   "execution_count": 96,
   "metadata": {},
   "outputs": [
    {
     "name": "stdout",
     "output_type": "stream",
     "text": [
      "Found 45 images belonging to 3 classes.\n"
     ]
    }
   ],
   "source": [
    "# 이미지파일 데이터셋 제네레이션 모듈 인스턴스 객체화\n",
    "train_gen = ImageDataGenerator(rescale=1./255, \n",
    "                               rotation_range = 10,\n",
    "                               width_shift_range = 0.2,\n",
    "                               height_shift_range = 0.2,\n",
    "                               shear_range = 0.7,\n",
    "                               zoom_range=[0.9, 2.2],\n",
    "                               horizontal_flip = True,\n",
    "                               vertical_flip = True,\n",
    "                               fill_mode = 'nearest')\n",
    "\n",
    "# 훈련데이터셋 생성하기(제네레이션)\n",
    "trainset = train_gen.flow_from_directory(\n",
    "    directory = './datapic/hard_handwriting_shape/train', \n",
    "    color_mode = 'grayscale',\n",
    "    target_size = (24, 24), \n",
    "    batch_size = 3, \n",
    "    class_mode = 'categorical')\n",
    "\n",
    "# - directory: 해당 디렉토리 내에 분류예측대상 이미지파일을 레이블별로 폴더를 만들어서 저장해 놓아야 함\n",
    "# - color_mode: 흑백이미지(grayscale), 컬러이미지(rgb)\n",
    "# - target_size: 저장되어 있는 이미지 파일 로딩시 통일된 픽셀규격(가로, 세로)으로 로딩해줌\n",
    "# - batch_size: 이미지파일을 메모리로 로딩시 몇 개씩 나누어서 처리할 것인지 설정\n",
    "#               batsh_size = 3이므로 훈련용 이미지 45개 / 3배치 = 15개 epochs로 로딩됨\n",
    "#               batsh_size = 3이므로 테스트용 이미지 15갸 / 3배치 = 5개 epochs로 로딩됨\n",
    "# - class_mode: 분류예측용 레이블 숫자 생성\n",
    "#               binary:이항분류, categorical:다항분류, sparse:1차원 정수 \n",
    "\n",
    "# - 하드디스크에 저장된 물리적인 이미지파일을 분석용 수치데이터셋으로 \n",
    "#   변환/생성(제네레이션) 하는 기능을 별도의 객체로 만들어 냄"
   ]
  },
  {
   "cell_type": "code",
   "execution_count": 97,
   "metadata": {},
   "outputs": [
    {
     "name": "stdout",
     "output_type": "stream",
     "text": [
      "Found 15 images belonging to 3 classes.\n"
     ]
    }
   ],
   "source": [
    "# 이미지파일 데이터셋 제네레이션 모듈 인스턴스 객체화\n",
    "test_gen = ImageDataGenerator(rescale=1./255)\n",
    "\n",
    "# 테스트데이터셋 생성하기(제네레이션)\n",
    "testset = test_gen.flow_from_directory(\n",
    "    directory = './datapic/hard_handwriting_shape/test', \n",
    "    color_mode = 'grayscale',\n",
    "    target_size = (24, 24), \n",
    "    batch_size = 3, \n",
    "    class_mode = 'categorical')"
   ]
  },
  {
   "cell_type": "markdown",
   "metadata": {},
   "source": [
    "# <font color = 'blue'>데이터 기본탐색</font>"
   ]
  },
  {
   "cell_type": "markdown",
   "metadata": {},
   "source": [
    "### 훈련용 이미지파일 데이터셋"
   ]
  },
  {
   "cell_type": "markdown",
   "metadata": {},
   "source": [
    "#### 이미지파일 로딩환경"
   ]
  },
  {
   "cell_type": "code",
   "execution_count": 98,
   "metadata": {
    "scrolled": true
   },
   "outputs": [
    {
     "name": "stdout",
     "output_type": "stream",
     "text": [
      "이미지파일 로딩 경로: ./datapic/hard_handwriting_shape/train\n",
      "이미지파일 로딩 갯수: 45\n",
      "이미지파일 로딩 갯수: 45\n",
      "이미지파일 로딩 배치(batch) 크기: 3\n",
      "이미지파일 로딩 에포크(epochs) 크기: 15\n"
     ]
    }
   ],
   "source": [
    "print('이미지파일 로딩 경로:', trainset.directory)\n",
    "print('이미지파일 로딩 갯수:', trainset.n)\n",
    "print('이미지파일 로딩 갯수:', trainset.samples)\n",
    "print('이미지파일 로딩 배치(batch) 크기:', trainset.batch_size)\n",
    "print('이미지파일 로딩 에포크(epochs) 크기:', len(trainset))"
   ]
  },
  {
   "cell_type": "code",
   "execution_count": 99,
   "metadata": {
    "scrolled": true
   },
   "outputs": [
    {
     "data": {
      "text/plain": [
       "['circle\\\\circle001.png',\n",
       " 'circle\\\\circle002.png',\n",
       " 'circle\\\\circle003.png',\n",
       " 'circle\\\\circle004.png',\n",
       " 'circle\\\\circle005.png',\n",
       " 'circle\\\\circle006.png',\n",
       " 'circle\\\\circle007.png',\n",
       " 'circle\\\\circle008.png',\n",
       " 'circle\\\\circle009.png',\n",
       " 'circle\\\\circle010.png',\n",
       " 'circle\\\\circle011.png',\n",
       " 'circle\\\\circle012.png',\n",
       " 'circle\\\\circle013.png',\n",
       " 'circle\\\\circle014.png',\n",
       " 'circle\\\\circle015.png',\n",
       " 'rectangle\\\\rectangle001.png',\n",
       " 'rectangle\\\\rectangle002.png',\n",
       " 'rectangle\\\\rectangle003.png',\n",
       " 'rectangle\\\\rectangle004.png',\n",
       " 'rectangle\\\\rectangle005.png',\n",
       " 'rectangle\\\\rectangle006.png',\n",
       " 'rectangle\\\\rectangle007.png',\n",
       " 'rectangle\\\\rectangle008.png',\n",
       " 'rectangle\\\\rectangle009.png',\n",
       " 'rectangle\\\\rectangle010.png',\n",
       " 'rectangle\\\\rectangle011.png',\n",
       " 'rectangle\\\\rectangle012.png',\n",
       " 'rectangle\\\\rectangle013.png',\n",
       " 'rectangle\\\\rectangle014.png',\n",
       " 'rectangle\\\\rectangle015.png',\n",
       " 'triangle\\\\triangle001.png',\n",
       " 'triangle\\\\triangle002.png',\n",
       " 'triangle\\\\triangle003.png',\n",
       " 'triangle\\\\triangle004.png',\n",
       " 'triangle\\\\triangle005.png',\n",
       " 'triangle\\\\triangle006.png',\n",
       " 'triangle\\\\triangle007.png',\n",
       " 'triangle\\\\triangle008.png',\n",
       " 'triangle\\\\triangle009.png',\n",
       " 'triangle\\\\triangle010.png',\n",
       " 'triangle\\\\triangle011.png',\n",
       " 'triangle\\\\triangle012.png',\n",
       " 'triangle\\\\triangle013.png',\n",
       " 'triangle\\\\triangle014.png',\n",
       " 'triangle\\\\triangle015.png']"
      ]
     },
     "execution_count": 99,
     "metadata": {},
     "output_type": "execute_result"
    }
   ],
   "source": [
    "# 이미지파일 로딩경로와 파일명\n",
    "trainset.filenames"
   ]
  },
  {
   "cell_type": "markdown",
   "metadata": {},
   "source": [
    "#### 이미지파일 특성규격"
   ]
  },
  {
   "cell_type": "code",
   "execution_count": 100,
   "metadata": {},
   "outputs": [
    {
     "name": "stdout",
     "output_type": "stream",
     "text": [
      "이미지파일 색상채널 유형: grayscale\n",
      "이미지파일 데이터 저장특성: channels_last\n",
      "이미지파일 로딩규격: (24, 24)\n",
      "이미지파일 특성규격: (24, 24, 1)\n",
      "이미지파일 데이터 타입: float32\n",
      "이미지파일 픽셀과 픽셀사이, 점과 점사이 연결방법: nearest\n"
     ]
    }
   ],
   "source": [
    "print('이미지파일 색상채널 유형:', trainset.color_mode)\n",
    "# - color_mode 옵션사용시 흑백:gryscale, 컬러:rgb\n",
    "\n",
    "print('이미지파일 데이터 저장특성:', trainset.data_format)\n",
    "# - channels_last: (가로픽셀수, 세로픽셀수, 색상채널)\n",
    "# - channel_first: (색상채녈, 가로픽셀수, 세로픽셀수)\n",
    "\n",
    "print('이미지파일 로딩규격:', trainset.target_size)\n",
    "\n",
    "print('이미지파일 특성규격:', trainset.image_shape)\n",
    "# - 가로픽셀수, 세로픽셀수, 색상유형\n",
    "\n",
    "print('이미지파일 데이터 타입:', trainset.dtype)\n",
    "# - 이미지마다의 각 픽셀별 색상농도수치가 실수형32비트로 로딩됨\n",
    "\n",
    "print('이미지파일 픽셀과 픽셀사이, 점과 점사이 연결방법:', trainset.interpolation)\n",
    "# - nearest: 부드럽게 처리, none: 일반 직선모양"
   ]
  },
  {
   "cell_type": "markdown",
   "metadata": {},
   "source": [
    "#### 이미지파일 클래스 레이블"
   ]
  },
  {
   "cell_type": "code",
   "execution_count": 101,
   "metadata": {},
   "outputs": [
    {
     "name": "stdout",
     "output_type": "stream",
     "text": [
      "이미지파일 클래스 유형: categorical\n",
      "이미지파일 클래스 유형개수: 3\n",
      "\n",
      "이미지파일 클래스별 레이블과 번호:\n",
      " {'circle': 0, 'rectangle': 1, 'triangle': 2}\n",
      "\n",
      "이미지파일 마다 부여된 클래스 번호:\n",
      " [0 0 0 0 0 0 0 0 0 0 0 0 0 0 0 1 1 1 1 1 1 1 1 1 1 1 1 1 1 1 2 2 2 2 2 2 2\n",
      " 2 2 2 2 2 2 2 2]\n"
     ]
    }
   ],
   "source": [
    "print('이미지파일 클래스 유형:', trainset.class_mode)\n",
    "# - binary:이항분류, categorical:다항분류, sparse:1차원 정수\n",
    "\n",
    "print('이미지파일 클래스 유형개수:', trainset.num_classes)\n",
    "\n",
    "print('\\n이미지파일 클래스별 레이블과 번호:\\n', trainset.class_indices)\n",
    "# - 하드디스크에 저장되어 있는 폴더명&순서를 그대로 가져와서 사용함\n",
    "\n",
    "print('\\n이미지파일 마다 부여된 클래스 번호:\\n', trainset.classes)"
   ]
  },
  {
   "cell_type": "markdown",
   "metadata": {},
   "source": [
    "### 테스트용 이미지파일 데이터셋"
   ]
  },
  {
   "cell_type": "markdown",
   "metadata": {},
   "source": [
    "#### 이미지파일 로딩환경"
   ]
  },
  {
   "cell_type": "code",
   "execution_count": 102,
   "metadata": {
    "scrolled": true
   },
   "outputs": [
    {
     "name": "stdout",
     "output_type": "stream",
     "text": [
      "이미지파일 로딩 경로: ./datapic/hard_handwriting_shape/test\n",
      "이미지파일 로딩 갯수: 15\n",
      "이미지파일 로딩 갯수: 15\n",
      "이미지파일 로딩 배치(batch) 크기: 3\n",
      "이미지파일 로딩 에포크(epochs) 크기: 5\n"
     ]
    }
   ],
   "source": [
    "print('이미지파일 로딩 경로:', testset.directory)\n",
    "print('이미지파일 로딩 갯수:', testset.n)\n",
    "print('이미지파일 로딩 갯수:', testset.samples)\n",
    "print('이미지파일 로딩 배치(batch) 크기:', testset.batch_size)\n",
    "print('이미지파일 로딩 에포크(epochs) 크기:', len(testset))"
   ]
  },
  {
   "cell_type": "code",
   "execution_count": 103,
   "metadata": {
    "scrolled": true
   },
   "outputs": [
    {
     "data": {
      "text/plain": [
       "['circle\\\\circle021.png',\n",
       " 'circle\\\\circle022.png',\n",
       " 'circle\\\\circle023.png',\n",
       " 'circle\\\\circle024.png',\n",
       " 'circle\\\\circle025.png',\n",
       " 'rectangle\\\\rectangle021.png',\n",
       " 'rectangle\\\\rectangle022.png',\n",
       " 'rectangle\\\\rectangle023.png',\n",
       " 'rectangle\\\\rectangle024.png',\n",
       " 'rectangle\\\\rectangle025.png',\n",
       " 'triangle\\\\triangle021.png',\n",
       " 'triangle\\\\triangle022.png',\n",
       " 'triangle\\\\triangle023.png',\n",
       " 'triangle\\\\triangle024.png',\n",
       " 'triangle\\\\triangle025.png']"
      ]
     },
     "execution_count": 103,
     "metadata": {},
     "output_type": "execute_result"
    }
   ],
   "source": [
    "# 이미지파일 로딩경로와 파일명\n",
    "testset.filenames"
   ]
  },
  {
   "cell_type": "markdown",
   "metadata": {},
   "source": [
    "#### 이미지파일 특성규격"
   ]
  },
  {
   "cell_type": "code",
   "execution_count": 104,
   "metadata": {},
   "outputs": [
    {
     "name": "stdout",
     "output_type": "stream",
     "text": [
      "이미지파일 색상채널 유형: grayscale\n",
      "이미지파일 데이터 저장특성: channels_last\n",
      "이미지파일 로딩규격: (24, 24)\n",
      "이미지파일 특성규격: (24, 24, 1)\n",
      "이미지파일 데이터 타입: float32\n",
      "이미지파일 픽셀과 픽셀사이, 점과 점사이 연결방법: nearest\n"
     ]
    }
   ],
   "source": [
    "print('이미지파일 색상채널 유형:', testset.color_mode)\n",
    "# - color_mode 옵션사용시 흑백:gryscale, 컬러:rgb\n",
    "\n",
    "print('이미지파일 데이터 저장특성:', testset.data_format)\n",
    "# - channels_last: (가로픽셀수, 세로픽셀수, 색상채널)\n",
    "# - channel_first: (색상채녈, 가로픽셀수, 세로픽셀수)\n",
    "\n",
    "print('이미지파일 로딩규격:', testset.target_size)\n",
    "\n",
    "print('이미지파일 특성규격:', testset.image_shape)\n",
    "# - 가로픽셀수, 세로픽셀수, 색상유형\n",
    "\n",
    "print('이미지파일 데이터 타입:', testset.dtype)\n",
    "# - 이미지마다의 각 픽셀별 색상농도수치가 실수형32비트로 로딩됨\n",
    "\n",
    "print('이미지파일 픽셀과 픽셀사이, 점과 점사이 연결방법:', testset.interpolation)\n",
    "# - nearest: 부드럽게 처리, none: 일반 직선모양"
   ]
  },
  {
   "cell_type": "markdown",
   "metadata": {},
   "source": [
    "#### 이미지파일 클래스 레이블"
   ]
  },
  {
   "cell_type": "code",
   "execution_count": 105,
   "metadata": {},
   "outputs": [
    {
     "name": "stdout",
     "output_type": "stream",
     "text": [
      "이미지파일 클래스 유형: categorical\n",
      "이미지파일 클래스 유형개수: 3\n",
      "\n",
      "이미지파일 클레스별 레이블과 번호:\n",
      " {'circle': 0, 'rectangle': 1, 'triangle': 2}\n",
      "\n",
      "이미지파일 마다 부여된 클래스 번호:\n",
      " [0 0 0 0 0 1 1 1 1 1 2 2 2 2 2]\n"
     ]
    }
   ],
   "source": [
    "print('이미지파일 클래스 유형:', testset.class_mode)\n",
    "# - binary:이항분류, categorical:다항분류, sparse:1차원 정수\n",
    "\n",
    "print('이미지파일 클래스 유형개수:', testset.num_classes)\n",
    "\n",
    "print('\\n이미지파일 클레스별 레이블과 번호:\\n', testset.class_indices)\n",
    "# - 하드디스크에 저장되어 있는 폴더명&순서를 그대로 가져와서 사용함\n",
    "\n",
    "print('\\n이미지파일 마다 부여된 클래스 번호:\\n', testset.classes)"
   ]
  },
  {
   "cell_type": "markdown",
   "metadata": {},
   "source": [
    "# <font color = 'blue'>딥러닝 모델링</font>"
   ]
  },
  {
   "cell_type": "markdown",
   "metadata": {},
   "source": [
    "### 딥러닝 라이브러리 로딩"
   ]
  },
  {
   "cell_type": "code",
   "execution_count": 106,
   "metadata": {},
   "outputs": [],
   "source": [
    "# 딥러닝 관련 라이브러리\n",
    "import tensorflow as tf\n",
    "# - 딥러닝 학습알고리즘\n",
    "\n",
    "from keras.models import Sequential\n",
    "# - 딥러닝 학습계층을 순차적으로 쌓아올릴 수 있도록 해줌\n",
    "\n",
    "from keras.layers import Dense, Dropout, Flatten, Conv2D, MaxPooling2D\n",
    "# - Dense: 딥러닝 학습계층별 노드/유닛을 밀집시켜 학습방법을 설정할 수 있도록 해줌\n",
    "# - Dropout: 은닉층에 배치된 노두 중 일부를 임의로 비활성화 시킴\n",
    "# - Flatten: 컨볼루션층이나 맥스풀링의 2차원(가로X세로) 배열을 1차원으로 바꾸어 주는 기능\n",
    "# - Conv2D: 분석대상 이미지의 세부영역별 특징을 마스크 필터를 적용해 추출하는 기능\n",
    "# - MaxPooling2D: 분석대상 이미지의 세부영역별 대표특징값을 추출하는 기능"
   ]
  },
  {
   "cell_type": "markdown",
   "metadata": {},
   "source": [
    "### 딥러닝 학습계층 설정"
   ]
  },
  {
   "cell_type": "code",
   "execution_count": 107,
   "metadata": {},
   "outputs": [
    {
     "name": "stdout",
     "output_type": "stream",
     "text": [
      "_________________________________________________________________\n",
      "Layer (type)                 Output Shape              Param #   \n",
      "=================================================================\n",
      "conv2d_5 (Conv2D)            (None, 22, 22, 32)        320       \n",
      "_________________________________________________________________\n",
      "conv2d_6 (Conv2D)            (None, 20, 20, 64)        18496     \n",
      "_________________________________________________________________\n",
      "max_pooling2d_3 (MaxPooling2 (None, 10, 10, 64)        0         \n",
      "_________________________________________________________________\n",
      "flatten_3 (Flatten)          (None, 6400)              0         \n",
      "_________________________________________________________________\n",
      "dense_5 (Dense)              (None, 128)               819328    \n",
      "_________________________________________________________________\n",
      "dense_6 (Dense)              (None, 3)                 387       \n",
      "=================================================================\n",
      "Total params: 838,531\n",
      "Trainable params: 838,531\n",
      "Non-trainable params: 0\n",
      "_________________________________________________________________\n"
     ]
    }
   ],
   "source": [
    "# 입력층-컨볼루션층-컨볼루션층-맥스풀링층--플래튼-은닉층-출력층\n",
    "md = Sequential()\n",
    "\n",
    "# 컨볼루션층: 입력이미지크기\n",
    "md.add(Conv2D(32, kernel_size = (3, 3), input_shape = (24, 24, 1), activation = 'relu'))\n",
    "md.add(Conv2D(64, kernel_size = (3, 3), activation = 'relu'))\n",
    "\n",
    "md.add(MaxPooling2D(pool_size = (2, 2)))\n",
    "\n",
    "md.add(Flatten())\n",
    "\n",
    "md.add(Dense(128, activation = 'relu'))\n",
    "md.add(Dense(3, activation = 'softmax'))\n",
    "\n",
    "md.summary()"
   ]
  },
  {
   "cell_type": "markdown",
   "metadata": {},
   "source": [
    "### 딥러닝 학습방법 설정"
   ]
  },
  {
   "cell_type": "code",
   "execution_count": 108,
   "metadata": {},
   "outputs": [],
   "source": [
    "# 준비된 학습계층의 학습방법 설정\n",
    "md.compile(loss = 'categorical_crossentropy', \n",
    "            optimizer = 'adam', metrics = ['accuracy'])\n",
    "# - loss: 학습시 오차를 어떻방법으로 계산할지 설정\n",
    "# - optimizser: 발생하는 오차를 어떤방법으로 줄여나갈지 설정\n",
    "#   binary_crossentropy: 이항분류(binary-class classification)에 적합함\n",
    "#   categorical_crossentropy: 다항분류(multi-class classification)에 적합함\n",
    "# - metrics: 모형의 성능을 평가하는 기준으로 어떤 것을 사용할지 설정"
   ]
  },
  {
   "cell_type": "markdown",
   "metadata": {},
   "source": [
    "### 딥러닝 모델에 데이터 피팅"
   ]
  },
  {
   "cell_type": "code",
   "execution_count": 109,
   "metadata": {
    "scrolled": true
   },
   "outputs": [
    {
     "name": "stdout",
     "output_type": "stream",
     "text": [
      "Epoch 1/50\n",
      "1500/1500 [==============================] - 32s 22ms/step - loss: 0.2017 - acc: 0.9196 - val_loss: 1.2526 - val_acc: 0.8000\n",
      "\n",
      "Epoch 00001: val_loss did not improve from 0.01178\n",
      "Epoch 2/50\n",
      "1500/1500 [==============================] - 33s 22ms/step - loss: 0.0307 - acc: 0.9909 - val_loss: 1.6748 - val_acc: 0.8000loss: 0.0294 - ac - ETA: 1s - loss:\n",
      "\n",
      "Epoch 00002: val_loss did not improve from 0.01178\n",
      "Epoch 3/50\n",
      "1500/1500 [==============================] - 33s 22ms/step - loss: 0.0187 - acc: 0.9944 - val_loss: 1.9187 - val_acc: 0.7333\n",
      "\n",
      "Epoch 00003: val_loss did not improve from 0.01178\n",
      "Epoch 4/50\n",
      "1500/1500 [==============================] - 33s 22ms/step - loss: 0.0218 - acc: 0.9931 - val_loss: 2.0288 - val_acc: 0.8000\n",
      "\n",
      "Epoch 00004: val_loss did not improve from 0.01178\n",
      "Epoch 5/50\n",
      "1500/1500 [==============================] - 33s 22ms/step - loss: 0.0205 - acc: 0.9931 - val_loss: 2.1265 - val_acc: 0.8000\n",
      "\n",
      "Epoch 00005: val_loss did not improve from 0.01178\n",
      "Epoch 6/50\n",
      "1500/1500 [==============================] - 36s 24ms/step - loss: 0.0184 - acc: 0.9942 - val_loss: 1.8466 - val_acc: 0.7333\n",
      "\n",
      "Epoch 00006: val_loss did not improve from 0.01178\n",
      "Epoch 7/50\n",
      "1500/1500 [==============================] - 33s 22ms/step - loss: 0.0061 - acc: 0.9982 - val_loss: 2.5671 - val_acc: 0.8000\n",
      "\n",
      "Epoch 00007: val_loss did not improve from 0.01178\n",
      "Epoch 8/50\n",
      "1500/1500 [==============================] - 34s 22ms/step - loss: 0.0170 - acc: 0.9953 - val_loss: 2.3699 - val_acc: 0.8000\n",
      "\n",
      "Epoch 00008: val_loss did not improve from 0.01178\n",
      "Epoch 9/50\n",
      "1500/1500 [==============================] - 36s 24ms/step - loss: 0.0124 - acc: 0.9967 - val_loss: 2.1780 - val_acc: 0.7333\n",
      "\n",
      "Epoch 00009: val_loss did not improve from 0.01178\n",
      "Epoch 10/50\n",
      "1500/1500 [==============================] - 40s 26ms/step - loss: 0.0124 - acc: 0.9967 - val_loss: 2.5305 - val_acc: 0.7333\n",
      "\n",
      "Epoch 00010: val_loss did not improve from 0.01178\n",
      "Epoch 11/50\n",
      "1500/1500 [==============================] - 37s 25ms/step - loss: 0.0098 - acc: 0.9978 - val_loss: 3.1883 - val_acc: 0.7333\n",
      "\n",
      "Epoch 00011: val_loss did not improve from 0.01178\n"
     ]
    }
   ],
   "source": [
    "# 딥러닝 모델 최적화 훈련진행\n",
    "md_hist = md.fit_generator(\n",
    "    trainset,  \n",
    "    epochs = 50, \n",
    "    steps_per_epoch = 15 * 100, \n",
    "    validation_data = testset,\n",
    "    validation_steps = 5,\n",
    "    verbose = 1, \n",
    "    callbacks = [cp, es])"
   ]
  },
  {
   "cell_type": "markdown",
   "metadata": {},
   "source": [
    "# <font color = 'blue'>딥러닝 모델 성능평가</font>"
   ]
  },
  {
   "cell_type": "markdown",
   "metadata": {},
   "source": [
    "### 딥러닝 학습모델 성능평가 히스토리"
   ]
  },
  {
   "cell_type": "code",
   "execution_count": 110,
   "metadata": {},
   "outputs": [],
   "source": [
    "# 딥러닝 학습실시에 따른 성능평가 히스토리 확보\n",
    "\n",
    "md_train_loss = md_hist.history['loss'] # 훈련셋 오차\n",
    "md_train_acc = md_hist.history['acc'] # 훈련셋 정확도\n",
    "md_valid_loss = md_hist.history['val_loss'] # 검증셋 오차\n",
    "md_valid_acc = md_hist.history['val_acc'] # 검증셋 정확도"
   ]
  },
  {
   "cell_type": "code",
   "execution_count": 111,
   "metadata": {},
   "outputs": [
    {
     "name": "stdout",
     "output_type": "stream",
     "text": [
      "<class 'list'> 11\n",
      "<class 'list'> 11\n",
      "<class 'list'> 11\n",
      "<class 'list'> 11\n"
     ]
    }
   ],
   "source": [
    "# 딥러닝 학습실시에 따른 성능평가 히스토리 객체형식과 규모\n",
    "print(type(md_train_loss), len(md_train_loss))\n",
    "print(type(md_train_acc), len(md_train_acc))\n",
    "print(type(md_valid_loss), len(md_valid_loss))\n",
    "print(type(md_valid_acc), len(md_valid_acc))"
   ]
  },
  {
   "cell_type": "code",
   "execution_count": 112,
   "metadata": {},
   "outputs": [
    {
     "name": "stdout",
     "output_type": "stream",
     "text": [
      "훈련셋   오차추이: [0.202, 0.031, 0.019, 0.022, 0.021, 0.018, 0.006, 0.017, 0.012, 0.012, 0.01]\n",
      "테스트셋 오차추이: [1.253, 1.675, 1.919, 2.029, 2.127, 1.847, 2.567, 2.37, 2.178, 2.531, 3.188]\n",
      "\n",
      "훈련셋   정확도추이: [0.92, 0.991, 0.994, 0.993, 0.993, 0.994, 0.998, 0.995, 0.997, 0.997, 0.998]\n",
      "테스트셋 정확도추이: [0.8, 0.8, 0.733, 0.8, 0.8, 0.733, 0.8, 0.8, 0.733, 0.733, 0.733]\n"
     ]
    }
   ],
   "source": [
    "print('훈련셋   오차추이:', [round(i, 3) for i in md_train_loss])\n",
    "print('테스트셋 오차추이:', [round(i, 3) for i in md_valid_loss])\n",
    "\n",
    "print()\n",
    "\n",
    "print('훈련셋   정확도추이:', [round(i, 3) for i in md_train_acc])\n",
    "print('테스트셋 정확도추이:', [round(i, 3) for i in md_valid_acc])"
   ]
  },
  {
   "cell_type": "markdown",
   "metadata": {},
   "source": [
    "### 딥러닝 학습모델 성능평가 그래프"
   ]
  },
  {
   "cell_type": "markdown",
   "metadata": {},
   "source": [
    "#### md모델 훈련셋과 검증셋 성능비교"
   ]
  },
  {
   "cell_type": "code",
   "execution_count": 113,
   "metadata": {},
   "outputs": [
    {
     "data": {
      "text/plain": [
       "array([ 0,  1,  2,  3,  4,  5,  6,  7,  8,  9, 10])"
      ]
     },
     "execution_count": 113,
     "metadata": {},
     "output_type": "execute_result"
    }
   ],
   "source": [
    "# x축 설정\n",
    "# - epochs에 의해서 딥러닝 학습모델이 수십~수백개 만들어저 진행됨에 따라\n",
    "#   학습오차, 학습정확도, 검증오차, 검증정확도가 모두 수십~수백개 값이 생성됨\n",
    "# - 그런데, callbacks = [cp, es] 파라미터 설정으로 \n",
    "#   개선된 베스트모델&과적합방지 학습모델에 대해서만 제한적으로  \n",
    "#   학습오차, 학습정확도, 검증오차, 검증정확도가 기록됨  \n",
    "#   [cp] 학습모델별 성능평가파일 생성시 \n",
    "#        이전파일보다 성능이 개선된 베스트모델을 저장옵션\n",
    "#   [es] 딥러닝 과적합방지용 조기종료 옵션 \n",
    "md_x_len = np.arange(len(md_train_loss))\n",
    "md_x_len"
   ]
  },
  {
   "cell_type": "code",
   "execution_count": 114,
   "metadata": {},
   "outputs": [
    {
     "data": {
      "text/plain": [
       "<matplotlib.legend.Legend at 0x239e70ba630>"
      ]
     },
     "execution_count": 114,
     "metadata": {},
     "output_type": "execute_result"
    },
    {
     "data": {
      "image/png": "[encoded data removed]",
      "text/plain": [
       "<Figure size 432x288 with 1 Axes>"
      ]
     },
     "metadata": {
      "needs_background": "light"
     },
     "output_type": "display_data"
    }
   ],
   "source": [
    "# 딥러닝학습 훈련셋과 검증셋 오차 추이\n",
    "plt.plot(md_x_len, md_valid_loss, 'mo--', label = '검증셋 오차')\n",
    "plt.plot(md_x_len, md_train_loss, 'co--', label = '훈련셋 오차')\n",
    "\n",
    "plt.title('딥러닝학습 훈련셋과 검증셋 오차 추이')\n",
    "plt.xlabel('epoch', size = 12)\n",
    "plt.ylabel('오차(loss)', size = 12)\n",
    "plt.legend()\n",
    "\n",
    "# 마커설정 옵션 'co--', 'mo--'\n",
    "# --> color = 'cyan', marker = 'o', linestyle = '--' 로 풀어서 코딩가능\n",
    "# --> color = 'magenta', marker = 'o', linestyle = '--' 로 풀어서 코딩가능"
   ]
  },
  {
   "cell_type": "code",
   "execution_count": 115,
   "metadata": {},
   "outputs": [
    {
     "data": {
      "text/plain": [
       "<matplotlib.legend.Legend at 0x239e8e46eb8>"
      ]
     },
     "execution_count": 115,
     "metadata": {},
     "output_type": "execute_result"
    },
    {
     "data": {
      "image/png": "[encoded data removed]",
      "text/plain": [
       "<Figure size 432x288 with 1 Axes>"
      ]
     },
     "metadata": {
      "needs_background": "light"
     },
     "output_type": "display_data"
    }
   ],
   "source": [
    "# 딥러닝학습 훈련셋과 검증셋 정확도 추이\n",
    "plt.plot(md_x_len, md_train_acc, 'co--', label = '훈련셋 정확도')\n",
    "plt.plot(md_x_len, md_valid_acc, 'mo--', label = '검증셋 정확도')\n",
    "\n",
    "plt.title('딥러닝학습 훈련셋과 검증셋 정확도 추이')\n",
    "plt.xlabel('epoch', size = 12)\n",
    "plt.ylabel('정확도(accuracy)', size = 12)\n",
    "plt.legend()"
   ]
  },
  {
   "cell_type": "code",
   "execution_count": 116,
   "metadata": {},
   "outputs": [
    {
     "data": {
      "text/plain": [
       "<matplotlib.legend.Legend at 0x239e8eada58>"
      ]
     },
     "execution_count": 116,
     "metadata": {},
     "output_type": "execute_result"
    },
    {
     "data": {
      "image/png": "[encoded data removed]",
      "text/plain": [
       "<Figure size 432x288 with 1 Axes>"
      ]
     },
     "metadata": {
      "needs_background": "light"
     },
     "output_type": "display_data"
    }
   ],
   "source": [
    "# 훈련셋 정확도와 검증셋 오차 추이\n",
    "plt.plot(md_x_len, md_train_acc, color = 'blue', marker = 'o', \n",
    "         linestyle = '--', label = '훈련셋 정확도')\n",
    "plt.plot(md_x_len, md_valid_loss, color = 'red', marker = 'o', \n",
    "         linestyle = '--', label = '검증셋 오차')\n",
    "plt.title('딥러닝학습 훈련셋 정확도와 검증셋 오차 추이')\n",
    "plt.xlabel('epoch', size = 12)\n",
    "plt.ylabel('red: 오차 ----- blue: 정확도', size = 12)\n",
    "plt.legend()\n",
    "\n",
    "# 마커설정 옵션: color = 'red', marker = 'o', linestyle = '--'\n",
    "# --> 'ro--'로 축약해서 설정가능함"
   ]
  },
  {
   "cell_type": "markdown",
   "metadata": {},
   "source": [
    "### 모델 성능평가"
   ]
  },
  {
   "cell_type": "markdown",
   "metadata": {},
   "source": [
    "#### md모델 훈련셋(train) 성능평가"
   ]
  },
  {
   "cell_type": "code",
   "execution_count": 117,
   "metadata": {},
   "outputs": [
    {
     "data": {
      "text/plain": [
       "[0.009919330595105672, 1.0]"
      ]
     },
     "execution_count": 117,
     "metadata": {},
     "output_type": "execute_result"
    }
   ],
   "source": [
    "# 훈련셋을 활용한 딥러닝모델의 성능평가 결과\n",
    "md_train_perf = md.evaluate_generator(trainset, steps = 15)\n",
    "md_train_perf"
   ]
  },
  {
   "cell_type": "code",
   "execution_count": 118,
   "metadata": {},
   "outputs": [
    {
     "name": "stdout",
     "output_type": "stream",
     "text": [
      "훈련셋 모델성능 종합: [0.01, 1.0]\n",
      "훈련셋 모델성능 오차(loss):       0.010\n",
      "훈련셋 모델성능 정확도(accuracy): 1.000\n"
     ]
    }
   ],
   "source": [
    "print('훈련셋 모델성능 종합:', [round(i, 3) for i in md_train_perf])\n",
    "print(f'훈련셋 모델성능 오차(loss): {md_train_perf[0]:11.3f}')\n",
    "print(f'훈련셋 모델성능 정확도(accuracy): {md_train_perf[1]:0.3f}')"
   ]
  },
  {
   "cell_type": "markdown",
   "metadata": {},
   "source": [
    "#### md모델 테스트셋(test) 성능평가"
   ]
  },
  {
   "cell_type": "code",
   "execution_count": 119,
   "metadata": {},
   "outputs": [
    {
     "data": {
      "text/plain": [
       "[4.242476963996888, 0.6666666805744171]"
      ]
     },
     "execution_count": 119,
     "metadata": {},
     "output_type": "execute_result"
    }
   ],
   "source": [
    "# 테스트셋을 활용한 딥러닝모델의 성능평가 결과\n",
    "md_test_perf = md.evaluate_generator(testset, steps = 5)\n",
    "md_test_perf"
   ]
  },
  {
   "cell_type": "code",
   "execution_count": 120,
   "metadata": {},
   "outputs": [
    {
     "name": "stdout",
     "output_type": "stream",
     "text": [
      "테스트셋 모델성능 종합: [4.242, 0.667]\n",
      "테스트셋 모델성능 오차(loss):       4.242\n",
      "테스트셋 모델성능 정확도(accuracy): 0.667\n"
     ]
    }
   ],
   "source": [
    "print('테스트셋 모델성능 종합:', [round(i, 3) for i in md_test_perf])\n",
    "print(f'테스트셋 모델성능 오차(loss): {md_test_perf[0]:11.3f}')\n",
    "print(f'테스트셋 모델성능 정확도(accuracy): {md_test_perf[1]:0.3f}')"
   ]
  },
  {
   "cell_type": "markdown",
   "metadata": {},
   "source": [
    "#### 훈련셋과 테스트셋 성능평가 비교"
   ]
  },
  {
   "cell_type": "code",
   "execution_count": 121,
   "metadata": {},
   "outputs": [
    {
     "name": "stdout",
     "output_type": "stream",
     "text": [
      "[오차      (loss)] 훈련셋: 0.010, 테스트셋: 4.242, 차이:  4.233\n",
      "[정확도(accuracy)] 훈련셋: 1.000, 테스트셋: 0.667, 차이: -0.333\n"
     ]
    }
   ],
   "source": [
    "# 오차(loss) 비교\n",
    "md_diff_loss = md_test_perf[0] - md_train_perf[0] \n",
    "\n",
    "# 정확도(accuracy) 비교\n",
    "md_diff_acc = md_test_perf[1] - md_train_perf[1] \n",
    "\n",
    "print(f'[오차      (loss)] 훈련셋: {md_train_perf[0]:0.3f}, 테스트셋: {md_test_perf[0]:0.3f}, 차이: {md_diff_loss:6.3f}')\n",
    "print(f'[정확도(accuracy)] 훈련셋: {md_train_perf[1]:0.3f}, 테스트셋: {md_test_perf[1]:0.3f}, 차이: {md_diff_acc:0.3f}')"
   ]
  },
  {
   "cell_type": "markdown",
   "metadata": {},
   "source": [
    "# End of Source"
   ]
  }
 ],
 "metadata": {
  "kernelspec": {
   "display_name": "Python 3",
   "language": "python",
   "name": "python3"
  },
  "language_info": {
   "codemirror_mode": {
    "name": "ipython",
    "version": 3
   },
   "file_extension": ".py",
   "mimetype": "text/x-python",
   "name": "python",
   "nbconvert_exporter": "python",
   "pygments_lexer": "ipython3",
   "version": "3.6.7"
  }
 },
 "nbformat": 4,
 "nbformat_minor": 2
}
