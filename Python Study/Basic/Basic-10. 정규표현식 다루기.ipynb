{
 "cells": [
  {
   "cell_type": "markdown",
   "metadata": {},
   "source": [
    "# <font color=blue>1. 정규표현식 체크 사이트</font>"
   ]
  },
  {
   "cell_type": "markdown",
   "metadata": {},
   "source": [
    "<img src=\"./images/regex.jpg\">"
   ]
  },
  {
   "cell_type": "markdown",
   "metadata": {},
   "source": [
    "### * 다음 문자형 자료들을 복사해 정규표현식 체크사이트에 붙여 넣기"
   ]
  },
  {
   "cell_type": "markdown",
   "metadata": {},
   "source": [
    "a, beFore, Dude\n",
    "30, 60,    '70', 15F\n",
    "사과, (배20), \"KTX\"\n",
    "\n",
    "aab \"겨울a0b\", K99a12bb, a.bc, ba778b\n",
    "\n",
    "ct cat gaame 'caame' [caaaaas] caaa\n",
    "\n",
    "python, 'r python', 'r Python'"
   ]
  },
  {
   "cell_type": "markdown",
   "metadata": {},
   "source": [
    "### * 정규표현식 체크 사이트"
   ]
  },
  {
   "cell_type": "code",
   "execution_count": 1,
   "metadata": {},
   "outputs": [
    {
     "data": {
      "text/plain": [
       "True"
      ]
     },
     "execution_count": 1,
     "metadata": {},
     "output_type": "execute_result"
    }
   ],
   "source": [
    "import webbrowser\n",
    "webbrowser.open(\"http://regex101.com\")"
   ]
  },
  {
   "cell_type": "markdown",
   "metadata": {},
   "source": [
    "# <font color=blue>2. 정규표현식 모듈 <font color=red>re</font> 사용하기</font>"
   ]
  },
  {
   "cell_type": "code",
   "execution_count": 2,
   "metadata": {},
   "outputs": [],
   "source": [
    "# 파이썬 정규표현식 관련 모듈 re 로딩\n",
    "# - re(regular expression)\n",
    "\n",
    "import re"
   ]
  },
  {
   "cell_type": "markdown",
   "metadata": {},
   "source": [
    "## (1) re모듈을 이용한 정규표현식 패턴객체 생성"
   ]
  },
  {
   "cell_type": "code",
   "execution_count": 3,
   "metadata": {},
   "outputs": [
    {
     "name": "stdout",
     "output_type": "stream",
     "text": [
      "re.compile('ab*')\n",
      "<class '_sre.SRE_Pattern'>\n"
     ]
    }
   ],
   "source": [
    "# 정규표현식을 하나의 패턴객체로 만들어 줌\n",
    "mypt = re.compile('ab*')\n",
    "# - a문자 다음에 b라는 문자가 0개 ~ 여러개 나오는 패턴찾는 객체생성\n",
    "\n",
    "print(mypt)\n",
    "print(type(mypt))"
   ]
  },
  {
   "cell_type": "code",
   "execution_count": 4,
   "metadata": {},
   "outputs": [
    {
     "name": "stdout",
     "output_type": "stream",
     "text": [
      "re.compile('[a-z]+')\n",
      "<class '_sre.SRE_Pattern'>\n"
     ]
    }
   ],
   "source": [
    "# 정규표현식을 하나의 패턴객체로 만들어 줌\n",
    "p = re.compile('[a-z]+')\n",
    "# - a문자 다음에 b라는 문자가 0개 ~ 여러개 나오는 패턴찾는 객체생성\n",
    "\n",
    "print(p)\n",
    "print(type(p))"
   ]
  },
  {
   "cell_type": "markdown",
   "metadata": {},
   "source": [
    "## (2) match 메서드"
   ]
  },
  {
   "cell_type": "markdown",
   "metadata": {},
   "source": [
    "* 분석대상 문자열에 패턴객체에 정의된 정규표현식과 __처음부터__ 일치하는지 판단\n",
    "* 분석대상 문자열이 여러 요소로 구성되어 있다면 __첫번째로 일치__ 하는 것만 찾아줌"
   ]
  },
  {
   "cell_type": "code",
   "execution_count": 5,
   "metadata": {},
   "outputs": [
    {
     "name": "stdout",
     "output_type": "stream",
     "text": [
      "<_sre.SRE_Match object; span=(0, 4), match='life'>\n",
      "<class '_sre.SRE_Match'>\n",
      "패턴 매칭된 문자열:  life\n",
      "매치된 문자열의 시작위치:  0\n",
      "매치된 문자열의 끝위치:  4\n",
      "매치된 문자열의 (시작, 끝) 위치:  (0, 4)\n"
     ]
    }
   ],
   "source": [
    "m = p.match(\"life is too short\")\n",
    "# - p: 패턴객체 정규표현식 [a-z]+\n",
    "# - match: 처음부터 일치하는 패턴요소가 있는지 판단해 그 요소만 찾아줌\n",
    "# - \"life is too short\": 검색대상 특정문자열\n",
    "\n",
    "print(m)\n",
    "print(type(m))\n",
    "# - 일치하는 패턴이 있는 것으로 나타남\n",
    "\n",
    "if m:\n",
    "    print('패턴 매칭된 문자열: ', m.group())\n",
    "    print('매치된 문자열의 시작위치: ', m.start())\n",
    "    print('매치된 문자열의 끝위치: ', m.end())\n",
    "    print('매치된 문자열의 (시작, 끝) 위치: ', m.span())\n",
    "    # - search메서드에 속한 세부메서드로 매칭결과를 상세하게 조회\n",
    "else:\n",
    "    print('일치하는 패턴없음')"
   ]
  },
  {
   "cell_type": "code",
   "execution_count": 6,
   "metadata": {},
   "outputs": [
    {
     "name": "stdout",
     "output_type": "stream",
     "text": [
      "None\n",
      "<class 'NoneType'>\n",
      "일치하는 패턴없음\n"
     ]
    }
   ],
   "source": [
    "m = p.match(\"명언: life is too short\")\n",
    "# - p: 패턴객체 정규표현식 [a-z]+\n",
    "# - match: 처음부터 일치하는 패턴요소가 있는지 판단해 그 요소만 찾아줌\n",
    "# - \"\"명언: life is too short\": 검색대상 특정문자열\n",
    "\n",
    "print(m)\n",
    "print(type(m))\n",
    "# - 일치하는 패턴이 없는 것으로 나타남\n",
    "\n",
    "if m:\n",
    "    print('패턴 매칭된 문자열: ', m.group())\n",
    "    print('매치된 문자열의 시작위치: ', m.start())\n",
    "    print('매치된 문자열의 끝위치: ', m.end())\n",
    "    print('매치된 문자열의 (시작, 끝) 위치: ', m.span())\n",
    "    # - search메서드에 속한 세부메서드로 매칭결과를 상세하게 조회\n",
    "else:\n",
    "    print('일치하는 패턴없음')"
   ]
  },
  {
   "cell_type": "markdown",
   "metadata": {},
   "source": [
    "## (3) search 메서드"
   ]
  },
  {
   "cell_type": "markdown",
   "metadata": {},
   "source": [
    "* 분석대상 문자열에 패턴객체에 정의된 정규표현식이 들어 있는지 __전체적으로__ 판단\n",
    "* 분석대상 문자열이 여러 요소로 구성되어 있다면 __첫번째로 일치__ 하는 것만 찾아줌"
   ]
  },
  {
   "cell_type": "code",
   "execution_count": 7,
   "metadata": {},
   "outputs": [
    {
     "name": "stdout",
     "output_type": "stream",
     "text": [
      "<_sre.SRE_Match object; span=(0, 4), match='life'>\n",
      "<class '_sre.SRE_Match'>\n",
      "패턴 매칭된 문자열:  life\n",
      "매치된 문자열의 시작위치:  0\n",
      "매치된 문자열의 끝위치:  4\n",
      "매치된 문자열의 (시작, 끝) 위치:  (0, 4)\n"
     ]
    }
   ],
   "source": [
    "m = p.search(\"life is too short\")\n",
    "# - p: 패턴객체 정규표현식 [a-z]+\n",
    "# - search: 일치하는지 패턴을 전체적으로 찾아서 첫번째 일치되는 것만 보여줌\n",
    "# - \"life is too short\": 검색대상 특정문자열\n",
    "\n",
    "print(m)\n",
    "print(type(m))\n",
    "\n",
    "if m:\n",
    "    print('패턴 매칭된 문자열: ', m.group())\n",
    "    print('매치된 문자열의 시작위치: ', m.start())\n",
    "    print('매치된 문자열의 끝위치: ', m.end())\n",
    "    print('매치된 문자열의 (시작, 끝) 위치: ', m.span())\n",
    "    # - search메서드에 속한 세부메서드로 매칭결과를 상세하게 조회\n",
    "else:\n",
    "    print('일치하는 패턴없음')"
   ]
  },
  {
   "cell_type": "code",
   "execution_count": 8,
   "metadata": {},
   "outputs": [
    {
     "name": "stdout",
     "output_type": "stream",
     "text": [
      "<_sre.SRE_Match object; span=(4, 8), match='life'>\n",
      "<class '_sre.SRE_Match'>\n",
      "패턴 매칭된 문자열:  life\n",
      "매치된 문자열의 시작위치:  4\n",
      "매치된 문자열의 끝위치:  8\n",
      "매치된 문자열의 (시작, 끝) 위치:  (4, 8)\n"
     ]
    }
   ],
   "source": [
    "m = p.search(\"명언: life is too short\")\n",
    "# - p: 패턴객체 정규표현식 [a-z]+\n",
    "# - search: 일치하는지 패턴을 전체적으로 찾아서 첫번째 일치되는 것만 보여줌\n",
    "# - \"\"명언: life is too short\": 검색대상 특정문자열\n",
    "\n",
    "print(m)\n",
    "print(type(m))\n",
    "\n",
    "if m:\n",
    "    print('패턴 매칭된 문자열: ', m.group())\n",
    "    print('매치된 문자열의 시작위치: ', m.start())\n",
    "    print('매치된 문자열의 끝위치: ', m.end())\n",
    "    print('매치된 문자열의 (시작, 끝) 위치: ', m.span())\n",
    "    # - search메서드에 속한 세부메서드로 매칭결과를 상세하게 조회\n",
    "else:\n",
    "    print('일치하는 패턴없음')"
   ]
  },
  {
   "cell_type": "markdown",
   "metadata": {},
   "source": [
    "## (4) findall 메서드"
   ]
  },
  {
   "cell_type": "markdown",
   "metadata": {},
   "source": [
    "* 분석대상 문자열에 패턴객체에 정의된 정규표현식이 들어 있는지 __전체적으로__ 판단\n",
    "* 분석대상 문자열이 여러 요소로 구성되어 있다면 __모든 일치요소__ 들을 찾아줌"
   ]
  },
  {
   "cell_type": "code",
   "execution_count": 9,
   "metadata": {},
   "outputs": [
    {
     "name": "stdout",
     "output_type": "stream",
     "text": [
      "['life', 'is', 'too', 'short']\n",
      "<class 'list'>\n",
      "패턴매칭 결과:  ['life', 'is', 'too', 'short']\n"
     ]
    }
   ],
   "source": [
    "m = p.findall(\"life is too short\")\n",
    "# - p: 패턴객체 정규표현식 [a-z]+\n",
    "# - findall: 일치하는지 패턴을 전체적으로 찾아서 일치되는 모든 요소를 보여줌\n",
    "# - \"life is too short\": 검색대상 특정문자열\n",
    "\n",
    "print(m)\n",
    "print(type(m))\n",
    "# - 일치하는 패턴이 있는 것으로 나타남\n",
    "\n",
    "if m:\n",
    "    print('패턴매칭 결과: ', m)\n",
    "    # - findall메서드는 매칭결과를 바로 리스트형식으로 묶어서 제공\n",
    "else:\n",
    "    print('일치하는 패턴없음')"
   ]
  },
  {
   "cell_type": "code",
   "execution_count": 10,
   "metadata": {},
   "outputs": [
    {
     "name": "stdout",
     "output_type": "stream",
     "text": [
      "['life', 'is', 'too', 'short']\n",
      "<class 'list'>\n",
      "패턴매칭 결과:  ['life', 'is', 'too', 'short']\n"
     ]
    }
   ],
   "source": [
    "m = p.findall(\"명언: life is too short\")\n",
    "# - p: 패턴객체 정규표현식 [a-z]+\n",
    "# - findall: 일치하는지 패턴을 전체적으로 찾아서 일치되는 모든 요소를 보여줌\n",
    "# - \"\"명언: life is too short\": 검색대상 특정문자열\n",
    "\n",
    "print(m)\n",
    "print(type(m))\n",
    "# - 일치하는 패턴이 있는 것으로 나타남\n",
    "\n",
    "if m:\n",
    "    print('패턴매칭 결과: ', m)\n",
    "    # - findall메서드는 매칭결과를 바로 리스트형식으로 묶어서 제공\n",
    "else:\n",
    "    print('일치하는 패턴없음')"
   ]
  },
  {
   "cell_type": "markdown",
   "metadata": {},
   "source": [
    "## (5) re모듈 패턴객체와 검색메서드 축약형 사용"
   ]
  },
  {
   "cell_type": "code",
   "execution_count": 11,
   "metadata": {},
   "outputs": [
    {
     "name": "stdout",
     "output_type": "stream",
     "text": [
      "<_sre.SRE_Match object; span=(0, 4), match='life'>\n",
      "<_sre.SRE_Match object; span=(0, 4), match='life'>\n",
      "['life', 'is', 'too', 'short']\n",
      "<callable_iterator object at 0x0000024D9D452668>\n"
     ]
    }
   ],
   "source": [
    "# 기존방식\n",
    "# (1) 우선, re모듈로 패턴객체를 생성함\n",
    "# (2) 이어서, 생성된 패턴객체에 속한 검색메서드를 별도로 사용함\n",
    "\n",
    "re_txt = '[a-z]+'\n",
    "target_txt = 'life is too short'\n",
    "\n",
    "p = re.compile(re_txt)\n",
    "\n",
    "m1 = p.match(target_txt); print(m1)\n",
    "m2 = p.search(target_txt); print(m2)\n",
    "m3 = p.findall(target_txt); print(m3)\n",
    "m4 = p.finditer(target_txt); print(m4)"
   ]
  },
  {
   "cell_type": "code",
   "execution_count": 12,
   "metadata": {},
   "outputs": [
    {
     "name": "stdout",
     "output_type": "stream",
     "text": [
      "<_sre.SRE_Match object; span=(0, 4), match='life'>\n",
      "<_sre.SRE_Match object; span=(0, 4), match='life'>\n",
      "['life', 'is', 'too', 'short']\n",
      "<callable_iterator object at 0x0000024D9D452400>\n"
     ]
    }
   ],
   "source": [
    "# 축약/통합방식\n",
    "# - re모듈의 패턴객체생성과 세부 메서드를 같이 결합해 사용함\n",
    "\n",
    "re_txt = '[a-z]+'\n",
    "target_txt = 'life is too short'\n",
    "\n",
    "m1 = re.match(pattern = re_txt, string = target_txt); print(m1)\n",
    "m2 = re.search(re_txt, target_txt); print(m2)\n",
    "m3 = re.findall(re_txt, target_txt); print(m3)\n",
    "m4 = re.finditer(re_txt, target_txt); print(m4)"
   ]
  },
  {
   "cell_type": "markdown",
   "metadata": {},
   "source": [
    "# <font color=blue>3. 컴파일 옵션 사용</font>"
   ]
  },
  {
   "cell_type": "markdown",
   "metadata": {},
   "source": [
    "## (1) re.DOTALL 옵션"
   ]
  },
  {
   "cell_type": "code",
   "execution_count": 13,
   "metadata": {},
   "outputs": [
    {
     "name": "stdout",
     "output_type": "stream",
     "text": [
      "None\n"
     ]
    }
   ],
   "source": [
    "# re모듈을 이용해 패턴객체 생성\n",
    "p = re.compile('a.b')\n",
    "# - a.b 정규표현식은 \n",
    "#   a문자 바로다음에, 문자1개가 아무거나 오고, \n",
    "#   그 바로다음에 b로 끝나는 문자열을 찾겠다는 것임\n",
    "\n",
    "# 생성된 패턴객체에 속한 검색메서드로 문자열 조회\n",
    "m = p.match('a\\nb')\n",
    "# - match메서드이므로 대상문자열의 처음부분의 패턴이 일치하는지를 판단함\n",
    "\n",
    "print(m)\n",
    "# - 대상 문자열이 a\\nb인데, \n",
    "#   a와 b사이에 \\와 n이라는 2개 문자가 있다고 인식해 매칭되는 것이 없게 나옴"
   ]
  },
  {
   "cell_type": "code",
   "execution_count": 14,
   "metadata": {},
   "outputs": [
    {
     "name": "stdout",
     "output_type": "stream",
     "text": [
      "<_sre.SRE_Match object; span=(0, 3), match='a\\nb'>\n"
     ]
    }
   ],
   "source": [
    "# re모듈을 이용해 패턴객체 생성\n",
    "p = re.compile('a.b', re.DOTALL)\n",
    "# - 패턴객체 생성시 백스페이스를 사용하는 \\n도 \n",
    "#   하나의 문자로 간주해달라는 re.DOTALL 옵션사용\n",
    "\n",
    "# 생성된 패턴객체에 속한 검색메서드로 문자열 조회\n",
    "m = p.match('a\\nb')\n",
    "# - match 메서드이므로 대상문자열의 시작부분의 패턴이 일치하는지를 판단함\n",
    "\n",
    "print(m)\n",
    "# - a.b 정규표현식은 \n",
    "#   a로 시작하고, 문자1개가 아무거나 오고, b로 끝나는 문자열을 찾겠다는 것임\n",
    "# - 대상 문자열이 a\\nb인데, re.DITALL 옵션에 의해 \n",
    "#   \\n이 \\와 n으로 구성된 2개 문자가 아니라 \n",
    "#   엔터키를 의미하는 1개 문자로 인식해 패턴매칭 결과가 나타남"
   ]
  },
  {
   "cell_type": "markdown",
   "metadata": {},
   "source": [
    "## (2) re.IGNORECASE 또는 re.I 옵션"
   ]
  },
  {
   "cell_type": "code",
   "execution_count": 15,
   "metadata": {},
   "outputs": [
    {
     "name": "stdout",
     "output_type": "stream",
     "text": [
      "<_sre.SRE_Match object; span=(0, 1), match='p'>\n",
      "None\n",
      "None\n"
     ]
    }
   ],
   "source": [
    "# re모듈을 이용해 패턴객체 생성\n",
    "p = re.compile('[a-z]')\n",
    "# - [a-z] 정규표현식은\n",
    "#   알파멧 소문자가 하나라도 들어 있는 문자열을 찾겠다는 것임\n",
    "\n",
    "# 생성된 패턴객체에 속한 검색메서드로 문자열 조회\n",
    "# - match 메서드이므로 대상문자열의 시작부분의 패턴이 일치하는지를 판단함\n",
    "m1 = p.match('python')\n",
    "print(m1)\n",
    "\n",
    "m2 = p.match('Python')\n",
    "print(m2)\n",
    "\n",
    "m3 = p.match('PYTHON')\n",
    "print(m3)\n",
    "\n",
    "# - 정규표현식이 [a-z]이므로 소문자 알파벳만을 찾게 되므로 \n",
    "#   m1은 매칭된 결과가 나타나며, \n",
    "#   m2나 m3는 소문자로 시작하지 않았으므로 일치 결과가 없음"
   ]
  },
  {
   "cell_type": "code",
   "execution_count": 16,
   "metadata": {},
   "outputs": [
    {
     "name": "stdout",
     "output_type": "stream",
     "text": [
      "<_sre.SRE_Match object; span=(0, 1), match='p'>\n",
      "<_sre.SRE_Match object; span=(0, 1), match='P'>\n",
      "<_sre.SRE_Match object; span=(0, 1), match='P'>\n"
     ]
    }
   ],
   "source": [
    "# re모듈을 이용해 패턴객체 생성\n",
    "p = re.compile('[a-z]', re.IGNORECASE)\n",
    "# - [a-z] 정규표현식은\n",
    "#   알파멧 소문자가 하나라도 들어 있는 문자열을 찾겠다는 것임\n",
    "\n",
    "# 생성된 패턴객체에 속한 검색메서드로 문자열 조회\n",
    "# - match 메서드이므로 대상문자열의 시작부분의 패턴이 일치하는지를 판단함\n",
    "m1 = p.match('python')\n",
    "print(m1)\n",
    "\n",
    "m2 = p.match('Python')\n",
    "print(m2)\n",
    "\n",
    "m3 = p.match('PYTHON')\n",
    "print(m3)\n",
    "\n",
    "# - 정규표현식이 [a-z]이므로 소문자 알파벳만을 찾을려고 했는데, \n",
    "#   re.IGNORECASE옵션사용으로 [a-zA-Z]처럼되어 대소문자에 상관없이\n",
    "#   대상 문자열이 알파벳 중의 하나로 시작하면 되므로 m1, m2, m3 모두 패턴매칭됨"
   ]
  },
  {
   "cell_type": "markdown",
   "metadata": {},
   "source": [
    "## (3) re.MULTILINE 옵션"
   ]
  },
  {
   "cell_type": "code",
   "execution_count": 17,
   "metadata": {},
   "outputs": [
    {
     "name": "stdout",
     "output_type": "stream",
     "text": [
      "['python one']\n"
     ]
    }
   ],
   "source": [
    "# re모듈을 이용해 패턴객체 생성\n",
    "p = re.compile('^python\\s\\w+')\n",
    "# - ^python\\s\\w+ 정규표현식은 ^python \\s \\w + 이므로\n",
    "#   python이라는 문자열로 시작하고, 다음에 공백, 문자/숫자가 1개 이상 오는 \n",
    "#   문자열을 찾겠다는 것임\n",
    "\n",
    "# 패턴매칭 문자열은 어려 줄로 구서성됨\n",
    "data = \"\"\"python one\n",
    "life is too short\n",
    "python two\n",
    "you need python\n",
    "python three\"\"\"\n",
    "\n",
    "# 생성된 패턴객체에 속한 검색메서드로 문자열 조회\n",
    "m = p.findall(data)\n",
    "# - findall 메서드이므로 분석대상 문자열에 \n",
    "#   패턴객체에 정의된 정규표현식이 들어 있는지 전체적으로 판단해 \n",
    "#   해당되는 요소들을 리스트 형식으로 찾아줌\n",
    "\n",
    "print(m)\n",
    "\n",
    "# - 현재 대상문자열은 여러줄로 구성되어 있지만, \n",
    "#   줄을 구별하는 \\n도 일반 문자로 간주하다보니\n",
    "#   1개의 줄로 구성된 문자열로 취급하게 됨\n",
    "# - 이에 따라 1개 줄로 구성된 문자열에 대한 패턴매칭이므로 \n",
    "#   시작부분도 1군데 밖에 없어서 매칭결과가 1개만 나타남"
   ]
  },
  {
   "cell_type": "code",
   "execution_count": 18,
   "metadata": {},
   "outputs": [
    {
     "name": "stdout",
     "output_type": "stream",
     "text": [
      "['python one', 'python two', 'python three']\n"
     ]
    }
   ],
   "source": [
    "# re모듈을 이용해 패턴객체 생성\n",
    "p = re.compile('^python\\s\\w+', re.MULTILINE)\n",
    "# - ^python\\s\\w+ 정규표현식은 ^python \\s \\w + 이므로\n",
    "#   python이라는 문자열로 시작하고, 다음에 공백, 문자/숫자가 1개 이상 오는 \n",
    "#   문자열을 찾겠다는 것임\n",
    "# - re.MULTILINE 옵션을 통해서 줄을 나누어주는 \\n 문자를 일반 문자열이 아닌\n",
    "#   엔터키로 인식해 대상 문자열을 여러 줄로 인식하게 됨\n",
    "\n",
    "# 패턴매칭 문자열은 어려 줄로 구서성됨\n",
    "data = \"\"\"python one\n",
    "life is too short\n",
    "python two\n",
    "you need python\n",
    "python three\"\"\"\n",
    "\n",
    "# 생성된 패턴객체에 속한 검색메서드로 문자열 조회\n",
    "m = p.findall(data)\n",
    "# - findall 메서드이므로 분석대상 문자열에 \n",
    "#   패턴객체에 정의된 정규표현식이 들어 있는지 전체적으로 판단해 \n",
    "#   해당되는 요소들을 리스트 형식으로 찾아줌\n",
    "\n",
    "print(m)\n",
    "# - 현재 대상문자열은 re.MULTILINE 옵션을 통해서 매턴매칭시\n",
    "#   \\n이라는 문자열을 만나면 일반문자열이 아닌 엔터키로 간주하므로\n",
    "#   1줄짜리 문자열이 아닌 5줄짜리 문자열로 나누어서 판단하게 됨\n",
    "# - 이에 따라 독립적인 4개 줄로 구성된 문자열에 대한 패턴매칭이므로 \n",
    "#   시작부분도 4군데 이므로 매칭결과가 복수로 나타남"
   ]
  },
  {
   "cell_type": "markdown",
   "metadata": {},
   "source": [
    "## (4) re.VERBOSE 옵션"
   ]
  },
  {
   "cell_type": "code",
   "execution_count": 19,
   "metadata": {},
   "outputs": [],
   "source": [
    "# re모듈을 이용해 패턴객체 생성\n",
    "p = re.compile(r'&[#](0[0-7]+|[0-9]+|x[0-9a-fA-F]+);')\n",
    "# - 정규표현식 자체가 너무 복잡해서 어떤 패턴을 찾는지 한눈에 파악하기 어려움\n",
    "\n",
    "# re.VERBOSE 옵션을 사용해 정규표현식 내에 주석문 달기\n",
    "p = re.compile(r\"\"\" # r: raw string표기로 백슬래시나 따옴표를 여러번 사용해도 됨\n",
    " &[#]               # 다양한 수치형식을 판단하는 표기법\n",
    " (                 # 괄호 안의 패턴을 하나의 그룹으로 묶어줌 \n",
    "     0[0-7]+       # 0으로 시작하고 그다음에 숫자가 1개이상 오는 8진수인지 판단\n",
    "   | [0-9]+        # 또는(|) 일반 10진수가 1개 이상 오는지 판단\n",
    "   | x[0-9a-fA-F]+ # 또는(|) x로 시작하고 그다음에 16진수포맷이 1개이상 오는지 판단\n",
    " )                 # 하나의 그룹표시로 괄호를 닫아줌\n",
    " ;                 # 세미콜론이 오는지 판단\n",
    "\"\"\", re.VERBOSE)\n",
    "# - re.VERBOSE 옵션을 통해서 정규표현식을 주요한 부분으로 나누어서 기술하고,\n",
    "#   각 부분이 어떠한 패턴을 찾는지 주석문과 공백, 줄바꿈을 적절히 삽입해\n",
    "#   표시할 수 있도록 함"
   ]
  },
  {
   "cell_type": "markdown",
   "metadata": {},
   "source": [
    "# End of Source"
   ]
  }
 ],
 "metadata": {
  "kernelspec": {
   "display_name": "Python 3",
   "language": "python",
   "name": "python3"
  },
  "language_info": {
   "codemirror_mode": {
    "name": "ipython",
    "version": 3
   },
   "file_extension": ".py",
   "mimetype": "text/x-python",
   "name": "python",
   "nbconvert_exporter": "python",
   "pygments_lexer": "ipython3",
   "version": "3.6.7"
  }
 },
 "nbformat": 4,
 "nbformat_minor": 1
}
