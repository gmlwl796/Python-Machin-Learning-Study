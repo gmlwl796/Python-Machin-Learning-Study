{
 "cells": [
  {
   "cell_type": "markdown",
   "metadata": {},
   "source": [
    "# 2.3.3 선형모델_분류용 선형모형(p.86)"
   ]
  },
  {
   "cell_type": "markdown",
   "metadata": {},
   "source": [
    "## mglearn 패키지의 예제데이터셋 모듈 중 <font color = blue>wave(수치예측용) 데이터셋 메서드</font>를 로딩방법 3가지"
   ]
  },
  {
   "cell_type": "code",
   "execution_count": 1,
   "metadata": {},
   "outputs": [],
   "source": [
    "# mglearn(뮐가런) 패키지의 모든 모듈을 메모리로 로딩\n",
    "import mglearn\n",
    "wave = mglearn.datasets.make_wave()\n",
    "\n",
    "# mglearn(뮐가런) 패키지에 속한 모듈중에서 datasets 모듈만 메모리로 로딩\n",
    "from mglearn import datasets \n",
    "wave = datasets.make_wave()\n",
    "\n",
    "# mglearn(뮐가런) 패키지의 datasets 모듈에 속한 특정 메서드(함수)를 메모리로 로딩\n",
    "from mglearn.datasets import make_wave\n",
    "# make_wave()메서드로 데이터셋 생성시 1개 객체에 할당\n",
    "wave = make_wave()"
   ]
  },
  {
   "cell_type": "markdown",
   "metadata": {},
   "source": [
    "## wave 데이터셋 생성방법 2가지"
   ]
  },
  {
   "cell_type": "code",
   "execution_count": 2,
   "metadata": {},
   "outputs": [],
   "source": [
    "# make_wave()메서드로 데이터셋 생성시 1개 객체에 할당\n",
    "wave = make_wave()\n",
    "\n",
    "# wave()메서드로 데이터셋 생성시 2개 객체에 동시할당\n",
    "X, y = make_wave(n_samples = 42)\n",
    "# - 1차원 배열로 있는 예측(독립)변수 데이터셋을 대문자 X에 할당\n",
    "# - 1차원 배열로 있는 반응(종속)변수 데이터셋을 소문자 y에 할당"
   ]
  },
  {
   "cell_type": "markdown",
   "metadata": {},
   "source": [
    "## 그래프에 한글을 사용하기 위한 파라미터설정"
   ]
  },
  {
   "cell_type": "code",
   "execution_count": 3,
   "metadata": {},
   "outputs": [],
   "source": [
    "## mtplotlib의 rcParams에서 특정 폰트를 글로벌 폰트패밀리로 등록\n",
    "\n",
    "%matplotlib inline\n",
    "# matplotlib패키지 전체를 mpl로, matplotlib.pyplot모듈을 plt라는 별칭으로 각각 로딩함\n",
    "import matplotlib as mpl\n",
    "import matplotlib.pyplot as plt # 그래프 그리는 모듈\n",
    "\n",
    "mpl.rcParams['font.family'] = 'NanumGothic'\n",
    "# - 이 노트북 파일에 한해 그래프에 나눔고딕으로 폰트를 기본으로 설정함\n",
    "\n",
    "plt.rcParams['axes.unicode_minus'] = False \n",
    "# - 그래프 축눈금에 마이너스의 경우 출력이 제대로 되기위한 옵션"
   ]
  },
  {
   "cell_type": "markdown",
   "metadata": {},
   "source": [
    "# 로지스틱회귀와 선형서포트벡터분류기를 사용한 분류"
   ]
  },
  {
   "cell_type": "markdown",
   "metadata": {},
   "source": [
    "#### (참고) 사이킷런 버전별 파라미터설정 변경히스토리"
   ]
  },
  {
   "cell_type": "markdown",
   "metadata": {},
   "source": [
    "사이킷런 0.19 버전 `LinearSVC`와 `liblinear`를 사용하는 `LogisticRegression`의 `verbose` 매개변수가 0이 아니고 `max_iter` 반복 안에 수렴하지 않을 경우 반복 횟수를 증가하라는 경고 메세지가 나옵니다. 사이킷런 0.20 버전부터는 `verbose` 매개변수에 상관없이 `max_iter` 반복 안에 수렴하지 않을 경우 반복 횟수 증가 경고가 나옵니다. 경고 메세지를 피하기 위해 `max_iter` 매개변수를 기본값 1000에서 5000으로 증가시킵니다.\n",
    "\n",
    "향후 사이킷런 0.22 버전에서 `LogisticRegression` 클래스의 `solver` 매개변수 기본값이 `liblinear`에서 `lbfgs`로 변경될 예정입니다. 사이킷런 0.20 버전에서 `solver` 매개변수를 지정하지 않는 경우 이에 대한 경고 메세지를 출력합니다. <font color = red>여기에서는 liblinear 라이브러리를 사용하는 두 클래스를 비교하는 것이므로 `solver` 매개변수를 `liblinear`로 설정합니다.</font>"
   ]
  },
  {
   "cell_type": "markdown",
   "metadata": {},
   "source": [
    "## forge 데이터를 활용한 간단 예제"
   ]
  },
  {
   "cell_type": "code",
   "execution_count": 8,
   "metadata": {},
   "outputs": [
    {
     "data": {
      "text/plain": [
       "<matplotlib.legend.Legend at 0x1639702ea20>"
      ]
     },
     "execution_count": 8,
     "metadata": {},
     "output_type": "execute_result"
    },
    {
     "data": {
      "image/png": "[encoded data removed]",
      "text/plain": [
       "<Figure size 720x216 with 2 Axes>"
      ]
     },
     "metadata": {},
     "output_type": "display_data"
    }
   ],
   "source": [
    "# 관련 패키지-모듈-메서드(알고리즘) 로딩\n",
    "from sklearn.linear_model import LogisticRegression\n",
    "from sklearn.svm import LinearSVC\n",
    "\n",
    "# 데이터셋 로딩\n",
    "X, y = mglearn.datasets.make_forge()\n",
    "\n",
    "# 그래프 프레임 생성\n",
    "fig, axes = plt.subplots(1, 2, figsize=(10, 3))\n",
    "\n",
    "# 선형분류알고리즘별 분류결과 서브플롯에 시각화\n",
    "\n",
    "# 각 분류알고리즘과 서브플롯을 for 반복변수로 로딩\n",
    "for model, ax in zip([LinearSVC(max_iter = 5000), LogisticRegression(solver = 'liblinear')], axes):\n",
    "    # - solver = 'liblinear' 옵션을 통해 이항분류모델로 피팅한다는 의미\n",
    "    \n",
    "    # 각 분류알로리즘별 객체생성\n",
    "    clf = model.fit(X, y)\n",
    "    \n",
    "    # 각 분류알고리즘별 서브플롯에 피처:예측(독립)변수 플롯팅 \n",
    "    mglearn.plots.plot_2d_separator(clf, X, fill = False, eps = 0.5,\n",
    "                                    ax = ax, alpha = .7)\n",
    "\n",
    "    # 제3의 변수로 타깃:반응(종속) 변수를 조절변수로 투입 플롯팅\n",
    "    mglearn.discrete_scatter(X[:, 0], X[:, 1], y, ax=ax)\n",
    "    \n",
    "    # 각 서브플롯별 제목, x, y축레이블 설정\n",
    "    ax.set_title(\"{}\".format(clf.__class__.__name__))  # clf.__class__.__name__ 생성자로 알고리즘 이름이 들어가 있음.-> 이름 알아서 뿌려줌\n",
    "    ax.set_xlabel(\"피처 0\")\n",
    "    ax.set_ylabel(\"피처 1\")\n",
    "\n",
    "# 그래프 전체에 대한 범례설정\n",
    "axes[0].legend()"
   ]
  },
  {
   "cell_type": "markdown",
   "metadata": {},
   "source": [
    "## 선형모형의 과다추정을 방지하기 위한 규제강도(Regulization Strength) 반영"
   ]
  },
  {
   "cell_type": "markdown",
   "metadata": {},
   "source": [
    "#### 규제(벌점)의 종류\n",
    "\n",
    "* 규제에는 L2규제(벌점)와 L1규제(벌점)가 있음\n",
    "* L이라는 문자는 규제강도를 나타내는 수학기호로 람다(λ: lamda)에서 유래함<br>\n",
    "\n",
    "* <font color=blue>L2규제(벌점)</font>: 회귀계수 과다추정방지위해 모든 회귀계수를 0으로 가깝게 만들어 주며, 모형에서 탈락시키지는 않음 -> 릿지회귀\n",
    "* <font color=blue>L1규제(벌점)</font>: 회귀계수 과다추정방지위해 중요하지 않은 회귀계수를 0으로 만들어 탈락시켜, 중요한 피처중심으로 예측모형을 구성함 -> 라쏘회귀\n",
    "* 기본적으로 L2규제를 사용하며, 중요한 특성이 많지 않고 중요한 피처위주로 모형구성이 필요한경우 L1규제를 사용함\n",
    "\n",
    "#### 규제강도 조율파라미터\n",
    "\n",
    "* <font color=blue>수치예측을 위한 선형회귀모델</font>: <font color=red>alpha</font> 조율파라미터 사용 (일반선형모형, 릿지회귀, 라소회귀, 엘라스틱넷)\n",
    "* <font color=blue>분류예측을 위한 선형분류모델</font>: <font color=red>C</font> 조율파라미터 사용 (로지스틱회귀, 서포트벡터분류기) - Classification / Cost의 C라고 생각하면 된다\n",
    "* alpha값과 C값은 로그스케일(로그변환)방식을 사용해 자릿수가 10배씩 변화도록 값을 설정함: 0.001, 0.01, 0.1, 1, 10, 100 등\n",
    "\n",
    "#### alpha값을 낮춘다(선형회귀), C값을 높인다(선형분류)는 의미: <font color = blue>규제(벌점)강도를 낮춰</font> 회귀계수 과다추정을 허용해 예측모델이 복잡해짐 \n",
    "* 훈련셋의 예측정확도를 우선적으로 높이는데 중점을 두고, 테스트셋의 예측정확도가 낮아 차이나는 손실(비용)은 어느정도 허용(감수)하겠다는 의미\n",
    "* 훈련셋의 개별 데이터포인트 하나하나를 정확히 분류할 수 있도록 피처별 회귀계수가 과다추정이 되도록 하야 모델의 복잡도를 높인다다는 시도임\n",
    "* 회귀계수 추정시에 과다추정을 막기 위한 벌점, 즉 규제의 강도를 가급적 낮추어 훈련셋을 활용한 예측모델의 정확도를 우선 높이겠다는 시도임\n",
    "* 훈련데이터셋에 대한 과적합화 가능성이 있어 테스트셋에 대해서는 불안정한 예측력을 보일 수도 있는데, <br>그 정도의 손실은 일종의 비용차원에서 감수하겠다는 의미임\n",
    "\n",
    "#### alpha값을 높인다(선형회귀), C값을 낮춘다(선형분류)는 의미: <font color = blue>규제(벌점)강도를 높여</font> 회귀계수 과다추정을 방지해 예측모델이 단순해짐\n",
    "* 훈련셋의 예측정확도와 테스트셋의 예측정확도가 차이가 나는 손실(비용)을 가급적 허용하지 않겠다는 의미\n",
    "\n",
    "* 훈련셋의 개별 데이터포인트 하나하나를 정확히 분류하기 보다는 <br>다수의 특성에 맞추어 일부 오분류를 허용하도록 회귀계수가 적정추정이 되도록 하여 모델의 복잡도를 단순화 하겠다는 시도임\n",
    "* 회귀계수 추정시에 과다추정을 막기 위한 벌점, 즉 규제의 강도를 가급적 높여 훈련셋을 활용한 예측모델의 정확도를 적정수준으로 확보하겠다는 시도임\n",
    "* 훈련데이터셋에 대한 예측력을 적정한 수준으로 확보하고, 테스트셋의 예측력도 유사한 수준으로 만들어 <br>예측력의 차이가 발생하는 손실을 일종의 비용차원에서 억제하겠다는 의미임\n",
    "* 물론, alpha값을 지나치게 높이거나 C값을 지나치게 낮추면 훈련셋에 대한 낮은 정확성을 확보하게 되므로, 테스트셋에 대한 정확성도 낮아지는 과소적합 가능성이 커지게 됨"
   ]
  },
  {
   "cell_type": "markdown",
   "metadata": {},
   "source": [
    "### 선형분류모형의 조율파라미터 C값의 변화에 따른 분류 결정경계의 변화"
   ]
  },
  {
   "cell_type": "code",
   "execution_count": 10,
   "metadata": {
    "hide_input": false,
    "scrolled": false
   },
   "outputs": [
    {
     "data": {
      "image/png": "[encoded data removed]",
      "text/plain": [
       "<Figure size 864x288 with 3 Axes>"
      ]
     },
     "metadata": {},
     "output_type": "display_data"
    }
   ],
   "source": [
    "# mglearn 패키지에 있는 선형서포트벡터머신에 대한 파라미터 C(Cost: 비용)설정에 따른 분류 결정경계의 변화 그래프\n",
    "# - 해당 패키지에 내장된 그림을 그냥 보여준 것임\n",
    "mglearn.plots.plot_linear_svc_regularization()"
   ]
  },
  {
   "cell_type": "markdown",
   "metadata": {},
   "source": [
    "## 이진(이항)클래스 분류를 위한 선형모델: 로지스틱회귀모형과 breast_cancer 데이터셋 이용"
   ]
  },
  {
   "cell_type": "code",
   "execution_count": 116,
   "metadata": {},
   "outputs": [],
   "source": [
    "# 관련 모듈 일괄 로딩\n",
    "from sklearn.datasets import load_breast_cancer\n",
    "from sklearn.model_selection import train_test_split\n",
    "import numpy as np\n",
    "import pandas as pd"
   ]
  },
  {
   "cell_type": "code",
   "execution_count": 102,
   "metadata": {},
   "outputs": [
    {
     "data": {
      "text/plain": [
       "{'data': array([[1.799e+01, 1.038e+01, 1.228e+02, ..., 2.654e-01, 4.601e-01,\n",
       "         1.189e-01],\n",
       "        [2.057e+01, 1.777e+01, 1.329e+02, ..., 1.860e-01, 2.750e-01,\n",
       "         8.902e-02],\n",
       "        [1.969e+01, 2.125e+01, 1.300e+02, ..., 2.430e-01, 3.613e-01,\n",
       "         8.758e-02],\n",
       "        ...,\n",
       "        [1.660e+01, 2.808e+01, 1.083e+02, ..., 1.418e-01, 2.218e-01,\n",
       "         7.820e-02],\n",
       "        [2.060e+01, 2.933e+01, 1.401e+02, ..., 2.650e-01, 4.087e-01,\n",
       "         1.240e-01],\n",
       "        [7.760e+00, 2.454e+01, 4.792e+01, ..., 0.000e+00, 2.871e-01,\n",
       "         7.039e-02]]),\n",
       " 'target': array([0, 0, 0, 0, 0, 0, 0, 0, 0, 0, 0, 0, 0, 0, 0, 0, 0, 0, 0, 1, 1, 1,\n",
       "        0, 0, 0, 0, 0, 0, 0, 0, 0, 0, 0, 0, 0, 0, 0, 1, 0, 0, 0, 0, 0, 0,\n",
       "        0, 0, 1, 0, 1, 1, 1, 1, 1, 0, 0, 1, 0, 0, 1, 1, 1, 1, 0, 1, 0, 0,\n",
       "        1, 1, 1, 1, 0, 1, 0, 0, 1, 0, 1, 0, 0, 1, 1, 1, 0, 0, 1, 0, 0, 0,\n",
       "        1, 1, 1, 0, 1, 1, 0, 0, 1, 1, 1, 0, 0, 1, 1, 1, 1, 0, 1, 1, 0, 1,\n",
       "        1, 1, 1, 1, 1, 1, 1, 0, 0, 0, 1, 0, 0, 1, 1, 1, 0, 0, 1, 0, 1, 0,\n",
       "        0, 1, 0, 0, 1, 1, 0, 1, 1, 0, 1, 1, 1, 1, 0, 1, 1, 1, 1, 1, 1, 1,\n",
       "        1, 1, 0, 1, 1, 1, 1, 0, 0, 1, 0, 1, 1, 0, 0, 1, 1, 0, 0, 1, 1, 1,\n",
       "        1, 0, 1, 1, 0, 0, 0, 1, 0, 1, 0, 1, 1, 1, 0, 1, 1, 0, 0, 1, 0, 0,\n",
       "        0, 0, 1, 0, 0, 0, 1, 0, 1, 0, 1, 1, 0, 1, 0, 0, 0, 0, 1, 1, 0, 0,\n",
       "        1, 1, 1, 0, 1, 1, 1, 1, 1, 0, 0, 1, 1, 0, 1, 1, 0, 0, 1, 0, 1, 1,\n",
       "        1, 1, 0, 1, 1, 1, 1, 1, 0, 1, 0, 0, 0, 0, 0, 0, 0, 0, 0, 0, 0, 0,\n",
       "        0, 0, 1, 1, 1, 1, 1, 1, 0, 1, 0, 1, 1, 0, 1, 1, 0, 1, 0, 0, 1, 1,\n",
       "        1, 1, 1, 1, 1, 1, 1, 1, 1, 1, 1, 0, 1, 1, 0, 1, 0, 1, 1, 1, 1, 1,\n",
       "        1, 1, 1, 1, 1, 1, 1, 1, 1, 0, 1, 1, 1, 0, 1, 0, 1, 1, 1, 1, 0, 0,\n",
       "        0, 1, 1, 1, 1, 0, 1, 0, 1, 0, 1, 1, 1, 0, 1, 1, 1, 1, 1, 1, 1, 0,\n",
       "        0, 0, 1, 1, 1, 1, 1, 1, 1, 1, 1, 1, 1, 0, 0, 1, 0, 0, 0, 1, 0, 0,\n",
       "        1, 1, 1, 1, 1, 0, 1, 1, 1, 1, 1, 0, 1, 1, 1, 0, 1, 1, 0, 0, 1, 1,\n",
       "        1, 1, 1, 1, 0, 1, 1, 1, 1, 1, 1, 1, 0, 1, 1, 1, 1, 1, 0, 1, 1, 0,\n",
       "        1, 1, 1, 1, 1, 1, 1, 1, 1, 1, 1, 1, 0, 1, 0, 0, 1, 0, 1, 1, 1, 1,\n",
       "        1, 0, 1, 1, 0, 1, 0, 1, 1, 0, 1, 0, 1, 1, 1, 1, 1, 1, 1, 1, 0, 0,\n",
       "        1, 1, 1, 1, 1, 1, 0, 1, 1, 1, 1, 1, 1, 1, 1, 1, 1, 0, 1, 1, 1, 1,\n",
       "        1, 1, 1, 0, 1, 0, 1, 1, 0, 1, 1, 1, 1, 1, 0, 0, 1, 0, 1, 0, 1, 1,\n",
       "        1, 1, 1, 0, 1, 1, 0, 1, 0, 1, 0, 0, 1, 1, 1, 0, 1, 1, 1, 1, 1, 1,\n",
       "        1, 1, 1, 1, 1, 0, 1, 0, 0, 1, 1, 1, 1, 1, 1, 1, 1, 1, 1, 1, 1, 1,\n",
       "        1, 1, 1, 1, 1, 1, 1, 1, 1, 1, 1, 1, 0, 0, 0, 0, 0, 0, 1]),\n",
       " 'target_names': array(['malignant', 'benign'], dtype='<U9'),\n",
       " 'DESCR': '.. _breast_cancer_dataset:\\n\\nBreast cancer wisconsin (diagnostic) dataset\\n--------------------------------------------\\n\\n**Data Set Characteristics:**\\n\\n    :Number of Instances: 569\\n\\n    :Number of Attributes: 30 numeric, predictive attributes and the class\\n\\n    :Attribute Information:\\n        - radius (mean of distances from center to points on the perimeter)\\n        - texture (standard deviation of gray-scale values)\\n        - perimeter\\n        - area\\n        - smoothness (local variation in radius lengths)\\n        - compactness (perimeter^2 / area - 1.0)\\n        - concavity (severity of concave portions of the contour)\\n        - concave points (number of concave portions of the contour)\\n        - symmetry \\n        - fractal dimension (\"coastline approximation\" - 1)\\n\\n        The mean, standard error, and \"worst\" or largest (mean of the three\\n        largest values) of these features were computed for each image,\\n        resulting in 30 features.  For instance, field 3 is Mean Radius, field\\n        13 is Radius SE, field 23 is Worst Radius.\\n\\n        - class:\\n                - WDBC-Malignant\\n                - WDBC-Benign\\n\\n    :Summary Statistics:\\n\\n    ===================================== ====== ======\\n                                           Min    Max\\n    ===================================== ====== ======\\n    radius (mean):                        6.981  28.11\\n    texture (mean):                       9.71   39.28\\n    perimeter (mean):                     43.79  188.5\\n    area (mean):                          143.5  2501.0\\n    smoothness (mean):                    0.053  0.163\\n    compactness (mean):                   0.019  0.345\\n    concavity (mean):                     0.0    0.427\\n    concave points (mean):                0.0    0.201\\n    symmetry (mean):                      0.106  0.304\\n    fractal dimension (mean):             0.05   0.097\\n    radius (standard error):              0.112  2.873\\n    texture (standard error):             0.36   4.885\\n    perimeter (standard error):           0.757  21.98\\n    area (standard error):                6.802  542.2\\n    smoothness (standard error):          0.002  0.031\\n    compactness (standard error):         0.002  0.135\\n    concavity (standard error):           0.0    0.396\\n    concave points (standard error):      0.0    0.053\\n    symmetry (standard error):            0.008  0.079\\n    fractal dimension (standard error):   0.001  0.03\\n    radius (worst):                       7.93   36.04\\n    texture (worst):                      12.02  49.54\\n    perimeter (worst):                    50.41  251.2\\n    area (worst):                         185.2  4254.0\\n    smoothness (worst):                   0.071  0.223\\n    compactness (worst):                  0.027  1.058\\n    concavity (worst):                    0.0    1.252\\n    concave points (worst):               0.0    0.291\\n    symmetry (worst):                     0.156  0.664\\n    fractal dimension (worst):            0.055  0.208\\n    ===================================== ====== ======\\n\\n    :Missing Attribute Values: None\\n\\n    :Class Distribution: 212 - Malignant, 357 - Benign\\n\\n    :Creator:  Dr. William H. Wolberg, W. Nick Street, Olvi L. Mangasarian\\n\\n    :Donor: Nick Street\\n\\n    :Date: November, 1995\\n\\nThis is a copy of UCI ML Breast Cancer Wisconsin (Diagnostic) datasets.\\nhttps://goo.gl/U2Uwz2\\n\\nFeatures are computed from a digitized image of a fine needle\\naspirate (FNA) of a breast mass.  They describe\\ncharacteristics of the cell nuclei present in the image.\\n\\nSeparating plane described above was obtained using\\nMultisurface Method-Tree (MSM-T) [K. P. Bennett, \"Decision Tree\\nConstruction Via Linear Programming.\" Proceedings of the 4th\\nMidwest Artificial Intelligence and Cognitive Science Society,\\npp. 97-101, 1992], a classification method which uses linear\\nprogramming to construct a decision tree.  Relevant features\\nwere selected using an exhaustive search in the space of 1-4\\nfeatures and 1-3 separating planes.\\n\\nThe actual linear program used to obtain the separating plane\\nin the 3-dimensional space is that described in:\\n[K. P. Bennett and O. L. Mangasarian: \"Robust Linear\\nProgramming Discrimination of Two Linearly Inseparable Sets\",\\nOptimization Methods and Software 1, 1992, 23-34].\\n\\nThis database is also available through the UW CS ftp server:\\n\\nftp ftp.cs.wisc.edu\\ncd math-prog/cpo-dataset/machine-learn/WDBC/\\n\\n.. topic:: References\\n\\n   - W.N. Street, W.H. Wolberg and O.L. Mangasarian. Nuclear feature extraction \\n     for breast tumor diagnosis. IS&T/SPIE 1993 International Symposium on \\n     Electronic Imaging: Science and Technology, volume 1905, pages 861-870,\\n     San Jose, CA, 1993.\\n   - O.L. Mangasarian, W.N. Street and W.H. Wolberg. Breast cancer diagnosis and \\n     prognosis via linear programming. Operations Research, 43(4), pages 570-577, \\n     July-August 1995.\\n   - W.H. Wolberg, W.N. Street, and O.L. Mangasarian. Machine learning techniques\\n     to diagnose breast cancer from fine-needle aspirates. Cancer Letters 77 (1994) \\n     163-171.',\n",
       " 'feature_names': array(['mean radius', 'mean texture', 'mean perimeter', 'mean area',\n",
       "        'mean smoothness', 'mean compactness', 'mean concavity',\n",
       "        'mean concave points', 'mean symmetry', 'mean fractal dimension',\n",
       "        'radius error', 'texture error', 'perimeter error', 'area error',\n",
       "        'smoothness error', 'compactness error', 'concavity error',\n",
       "        'concave points error', 'symmetry error',\n",
       "        'fractal dimension error', 'worst radius', 'worst texture',\n",
       "        'worst perimeter', 'worst area', 'worst smoothness',\n",
       "        'worst compactness', 'worst concavity', 'worst concave points',\n",
       "        'worst symmetry', 'worst fractal dimension'], dtype='<U23'),\n",
       " 'filename': 'C:\\\\Anaconda3\\\\lib\\\\site-packages\\\\sklearn\\\\datasets\\\\data\\\\breast_cancer.csv'}"
      ]
     },
     "execution_count": 102,
     "metadata": {},
     "output_type": "execute_result"
    }
   ],
   "source": [
    "# 데이터 로딩\n",
    "cancer = load_breast_cancer()\n",
    "cancer"
   ]
  },
  {
   "cell_type": "code",
   "execution_count": 103,
   "metadata": {},
   "outputs": [
    {
     "name": "stdout",
     "output_type": "stream",
     "text": [
      "<class 'sklearn.utils.Bunch'>\n",
      "dict_keys(['data', 'target', 'target_names', 'DESCR', 'feature_names', 'filename'])\n"
     ]
    }
   ],
   "source": [
    "# cancer 데이터셋 객체유형와 키(key) 정보확인\n",
    "print(type(cancer))\n",
    "print(cancer.keys())"
   ]
  },
  {
   "cell_type": "code",
   "execution_count": 104,
   "metadata": {},
   "outputs": [
    {
     "name": "stdout",
     "output_type": "stream",
     "text": [
      "(569, 30)\n",
      "(569,)\n"
     ]
    }
   ],
   "source": [
    "print(cancer.data.shape)\n",
    "print(cancer.target.shape)"
   ]
  },
  {
   "cell_type": "code",
   "execution_count": 105,
   "metadata": {},
   "outputs": [],
   "source": [
    "# 데이터 분할\n",
    "X_train, X_test, y_train, y_test = train_test_split(\n",
    "    cancer.data, cancer.target, stratify=cancer.target, random_state=42)"
   ]
  },
  {
   "cell_type": "markdown",
   "metadata": {},
   "source": [
    "### 로지스틱회귀모형의 기본 계수추정방식: L2규제(벌점) \n",
    "* 회귀계수 과다추정방지위해 모든 회귀계수를 0으로 가깝게 만들어 주며, 모형에서 탈락시키지는 않음"
   ]
  },
  {
   "cell_type": "code",
   "execution_count": 114,
   "metadata": {},
   "outputs": [
    {
     "name": "stdout",
     "output_type": "stream",
     "text": [
      "훈련 세트 점수: 0.955\n",
      "테스트 세트 점수: 0.958\n",
      "사용한 피처의 개수: 30\n"
     ]
    }
   ],
   "source": [
    "# 로지스틱회귀 피팅\n",
    "# - C = 1이라는 디폴트 파라미터가 생략된채로 설정되어 있는 것임\n",
    "\n",
    "logreg = LogisticRegression(solver = 'liblinear').fit(X_train, y_train)\n",
    "# - solver = 'liblinear' 옵션을 통해 이항분류모델로 피팅한다는 의미\n",
    "\n",
    "print(\"훈련 세트 점수: {:.3f}\".format(logreg.score(X_train, y_train)))\n",
    "print(\"테스트 세트 점수: {:.3f}\".format(logreg.score(X_test, y_test)))\n",
    "print(\"사용한 피처의 개수: {}\".format(np.sum(logreg.coef_ != 0)))\n",
    "\n",
    "# - 기본적으로 로지스틱회귀모형은 L2규제(벌점)을 사용하는 모델로\n",
    "#   훈련모형의 피팅결과 투입한 피처:예측(독립)변수의 갯수가 그대로 유지됨\n",
    "# - C 파라미터를 적절히 사용해 회귀계수의 과다추정을 방지하기 위해 조율하는데,\n",
    "#   어느 회귀계수라도 0으로 만들어 피처자체를 탈락시키지 않음\n",
    "\n",
    "# - penalty=\"l1\"라는 파라미터를 추가하면 L1규제(벌점) 방식으로 모델을 피팅하게 되어\n",
    "#   중요한 피처위주로 남기며, 중요하지 않은 피처의 회귀계수는 0으로 만들어 탈락시키는\n",
    "#   피처선택(feature selection) 효과를 누릴 수 있음"
   ]
  },
  {
   "cell_type": "code",
   "execution_count": 89,
   "metadata": {
    "scrolled": true
   },
   "outputs": [
    {
     "name": "stdout",
     "output_type": "stream",
     "text": [
      "[[ 1.90876683e+00  9.98788148e-02 -7.65567571e-02  1.30875965e-03\n",
      "  -1.36948317e-01 -3.86693503e-01 -5.71948682e-01 -2.83323656e-01\n",
      "  -2.23813863e-01 -3.50526844e-02  3.04455316e-03  1.25223693e+00\n",
      "   9.49523571e-02 -9.63789785e-02 -1.32044174e-02 -2.43125981e-02\n",
      "  -5.86034313e-02 -3.35199227e-02 -4.10795998e-02  1.53205924e-03\n",
      "   1.24707244e+00 -3.19709151e-01 -9.61881472e-02 -2.66335879e-02\n",
      "  -2.44041661e-01 -1.24420873e+00 -1.58319440e+00 -5.78354663e-01\n",
      "  -6.80060645e-01 -1.30760323e-01]]\n",
      "[ 1.90876683e+00  9.98788148e-02 -7.65567571e-02  1.30875965e-03\n",
      " -1.36948317e-01 -3.86693503e-01 -5.71948682e-01 -2.83323656e-01\n",
      " -2.23813863e-01 -3.50526844e-02  3.04455316e-03  1.25223693e+00\n",
      "  9.49523571e-02 -9.63789785e-02 -1.32044174e-02 -2.43125981e-02\n",
      " -5.86034313e-02 -3.35199227e-02 -4.10795998e-02  1.53205924e-03\n",
      "  1.24707244e+00 -3.19709151e-01 -9.61881472e-02 -2.66335879e-02\n",
      " -2.44041661e-01 -1.24420873e+00 -1.58319440e+00 -5.78354663e-01\n",
      " -6.80060645e-01 -1.30760323e-01]\n"
     ]
    }
   ],
   "source": [
    "# 사용힌 피처별 회귀계수값\n",
    "print(logreg.coef_) \n",
    "# - nd차원 배열임\n",
    "\n",
    "print(logreg.coef_.reshape((-1))) \n",
    "# 1차원 배열로 변경해 피처이름들(1차원 배열)과 연결할 수 있음"
   ]
  },
  {
   "cell_type": "code",
   "execution_count": 90,
   "metadata": {},
   "outputs": [
    {
     "data": {
      "text/plain": [
       "array(['mean radius', 'mean texture', 'mean perimeter', 'mean area',\n",
       "       'mean smoothness', 'mean compactness', 'mean concavity',\n",
       "       'mean concave points', 'mean symmetry', 'mean fractal dimension',\n",
       "       'radius error', 'texture error', 'perimeter error', 'area error',\n",
       "       'smoothness error', 'compactness error', 'concavity error',\n",
       "       'concave points error', 'symmetry error',\n",
       "       'fractal dimension error', 'worst radius', 'worst texture',\n",
       "       'worst perimeter', 'worst area', 'worst smoothness',\n",
       "       'worst compactness', 'worst concavity', 'worst concave points',\n",
       "       'worst symmetry', 'worst fractal dimension'], dtype='<U23')"
      ]
     },
     "execution_count": 90,
     "metadata": {},
     "output_type": "execute_result"
    }
   ],
   "source": [
    "# 피처: 예측(독립)변수 이름\n",
    "cancer.feature_names"
   ]
  },
  {
   "cell_type": "code",
   "execution_count": 91,
   "metadata": {},
   "outputs": [
    {
     "data": {
      "text/html": [
       "<div>\n",
       "<style scoped>\n",
       "    .dataframe tbody tr th:only-of-type {\n",
       "        vertical-align: middle;\n",
       "    }\n",
       "\n",
       "    .dataframe tbody tr th {\n",
       "        vertical-align: top;\n",
       "    }\n",
       "\n",
       "    .dataframe thead th {\n",
       "        text-align: right;\n",
       "    }\n",
       "</style>\n",
       "<table border=\"1\" class=\"dataframe\">\n",
       "  <thead>\n",
       "    <tr style=\"text-align: right;\">\n",
       "      <th></th>\n",
       "      <th>feature</th>\n",
       "      <th>coefficient</th>\n",
       "    </tr>\n",
       "  </thead>\n",
       "  <tbody>\n",
       "    <tr>\n",
       "      <th>0</th>\n",
       "      <td>mean radius</td>\n",
       "      <td>1.908767</td>\n",
       "    </tr>\n",
       "    <tr>\n",
       "      <th>1</th>\n",
       "      <td>mean texture</td>\n",
       "      <td>0.099879</td>\n",
       "    </tr>\n",
       "    <tr>\n",
       "      <th>2</th>\n",
       "      <td>mean perimeter</td>\n",
       "      <td>-0.076557</td>\n",
       "    </tr>\n",
       "    <tr>\n",
       "      <th>3</th>\n",
       "      <td>mean area</td>\n",
       "      <td>0.001309</td>\n",
       "    </tr>\n",
       "    <tr>\n",
       "      <th>4</th>\n",
       "      <td>mean smoothness</td>\n",
       "      <td>-0.136948</td>\n",
       "    </tr>\n",
       "    <tr>\n",
       "      <th>5</th>\n",
       "      <td>mean compactness</td>\n",
       "      <td>-0.386694</td>\n",
       "    </tr>\n",
       "    <tr>\n",
       "      <th>6</th>\n",
       "      <td>mean concavity</td>\n",
       "      <td>-0.571949</td>\n",
       "    </tr>\n",
       "    <tr>\n",
       "      <th>7</th>\n",
       "      <td>mean concave points</td>\n",
       "      <td>-0.283324</td>\n",
       "    </tr>\n",
       "    <tr>\n",
       "      <th>8</th>\n",
       "      <td>mean symmetry</td>\n",
       "      <td>-0.223814</td>\n",
       "    </tr>\n",
       "    <tr>\n",
       "      <th>9</th>\n",
       "      <td>mean fractal dimension</td>\n",
       "      <td>-0.035053</td>\n",
       "    </tr>\n",
       "    <tr>\n",
       "      <th>10</th>\n",
       "      <td>radius error</td>\n",
       "      <td>0.003045</td>\n",
       "    </tr>\n",
       "    <tr>\n",
       "      <th>11</th>\n",
       "      <td>texture error</td>\n",
       "      <td>1.252237</td>\n",
       "    </tr>\n",
       "    <tr>\n",
       "      <th>12</th>\n",
       "      <td>perimeter error</td>\n",
       "      <td>0.094952</td>\n",
       "    </tr>\n",
       "    <tr>\n",
       "      <th>13</th>\n",
       "      <td>area error</td>\n",
       "      <td>-0.096379</td>\n",
       "    </tr>\n",
       "    <tr>\n",
       "      <th>14</th>\n",
       "      <td>smoothness error</td>\n",
       "      <td>-0.013204</td>\n",
       "    </tr>\n",
       "    <tr>\n",
       "      <th>15</th>\n",
       "      <td>compactness error</td>\n",
       "      <td>-0.024313</td>\n",
       "    </tr>\n",
       "    <tr>\n",
       "      <th>16</th>\n",
       "      <td>concavity error</td>\n",
       "      <td>-0.058603</td>\n",
       "    </tr>\n",
       "    <tr>\n",
       "      <th>17</th>\n",
       "      <td>concave points error</td>\n",
       "      <td>-0.033520</td>\n",
       "    </tr>\n",
       "    <tr>\n",
       "      <th>18</th>\n",
       "      <td>symmetry error</td>\n",
       "      <td>-0.041080</td>\n",
       "    </tr>\n",
       "    <tr>\n",
       "      <th>19</th>\n",
       "      <td>fractal dimension error</td>\n",
       "      <td>0.001532</td>\n",
       "    </tr>\n",
       "    <tr>\n",
       "      <th>20</th>\n",
       "      <td>worst radius</td>\n",
       "      <td>1.247072</td>\n",
       "    </tr>\n",
       "    <tr>\n",
       "      <th>21</th>\n",
       "      <td>worst texture</td>\n",
       "      <td>-0.319709</td>\n",
       "    </tr>\n",
       "    <tr>\n",
       "      <th>22</th>\n",
       "      <td>worst perimeter</td>\n",
       "      <td>-0.096188</td>\n",
       "    </tr>\n",
       "    <tr>\n",
       "      <th>23</th>\n",
       "      <td>worst area</td>\n",
       "      <td>-0.026634</td>\n",
       "    </tr>\n",
       "    <tr>\n",
       "      <th>24</th>\n",
       "      <td>worst smoothness</td>\n",
       "      <td>-0.244042</td>\n",
       "    </tr>\n",
       "    <tr>\n",
       "      <th>25</th>\n",
       "      <td>worst compactness</td>\n",
       "      <td>-1.244209</td>\n",
       "    </tr>\n",
       "    <tr>\n",
       "      <th>26</th>\n",
       "      <td>worst concavity</td>\n",
       "      <td>-1.583194</td>\n",
       "    </tr>\n",
       "    <tr>\n",
       "      <th>27</th>\n",
       "      <td>worst concave points</td>\n",
       "      <td>-0.578355</td>\n",
       "    </tr>\n",
       "    <tr>\n",
       "      <th>28</th>\n",
       "      <td>worst symmetry</td>\n",
       "      <td>-0.680061</td>\n",
       "    </tr>\n",
       "    <tr>\n",
       "      <th>29</th>\n",
       "      <td>worst fractal dimension</td>\n",
       "      <td>-0.130760</td>\n",
       "    </tr>\n",
       "  </tbody>\n",
       "</table>\n",
       "</div>"
      ],
      "text/plain": [
       "                    feature  coefficient\n",
       "0               mean radius     1.908767\n",
       "1              mean texture     0.099879\n",
       "2            mean perimeter    -0.076557\n",
       "3                 mean area     0.001309\n",
       "4           mean smoothness    -0.136948\n",
       "5          mean compactness    -0.386694\n",
       "6            mean concavity    -0.571949\n",
       "7       mean concave points    -0.283324\n",
       "8             mean symmetry    -0.223814\n",
       "9    mean fractal dimension    -0.035053\n",
       "10             radius error     0.003045\n",
       "11            texture error     1.252237\n",
       "12          perimeter error     0.094952\n",
       "13               area error    -0.096379\n",
       "14         smoothness error    -0.013204\n",
       "15        compactness error    -0.024313\n",
       "16          concavity error    -0.058603\n",
       "17     concave points error    -0.033520\n",
       "18           symmetry error    -0.041080\n",
       "19  fractal dimension error     0.001532\n",
       "20             worst radius     1.247072\n",
       "21            worst texture    -0.319709\n",
       "22          worst perimeter    -0.096188\n",
       "23               worst area    -0.026634\n",
       "24         worst smoothness    -0.244042\n",
       "25        worst compactness    -1.244209\n",
       "26          worst concavity    -1.583194\n",
       "27     worst concave points    -0.578355\n",
       "28           worst symmetry    -0.680061\n",
       "29  worst fractal dimension    -0.130760"
      ]
     },
     "execution_count": 91,
     "metadata": {},
     "output_type": "execute_result"
    }
   ],
   "source": [
    "# 로지스틱 분류예측모형 피처별 회귀계수\n",
    "var_coef = pd.DataFrame({'feature': cancer.feature_names,\n",
    "                            'coefficient': logreg.coef_.reshape((-1))})\n",
    "var_coef"
   ]
  },
  {
   "cell_type": "code",
   "execution_count": 97,
   "metadata": {},
   "outputs": [
    {
     "name": "stdout",
     "output_type": "stream",
     "text": [
      "훈련 세트 점수: 0.972\n",
      "테스트 세트 점수: 0.965\n",
      "사용한 피처의 개수: 30\n"
     ]
    }
   ],
   "source": [
    "# C = 100 모델\n",
    "logreg100 = LogisticRegression(solver = 'liblinear', C = 100).fit(X_train, y_train)\n",
    "print(\"훈련 세트 점수: {:.3f}\".format(logreg100.score(X_train, y_train)))\n",
    "print(\"테스트 세트 점수: {:.3f}\".format(logreg100.score(X_test, y_test)))\n",
    "print(\"사용한 피처의 개수: {}\".format(np.sum(logreg.coef_ != 0)))\n",
    "\n",
    "# - C 파라미터값을 높여, 규제의 강도를 낮춤\n",
    "# - 개별 데이터포인트에 대한 분류를 정확히 할 수 있도록 \n",
    "#   회귀계수가 과다추정되는 방향으로 피팅해 훈련데이터셋에 대한 정확도를 우선적으로 확보하려는 시도임"
   ]
  },
  {
   "cell_type": "code",
   "execution_count": 98,
   "metadata": {},
   "outputs": [
    {
     "name": "stdout",
     "output_type": "stream",
     "text": [
      "훈련 세트 점수: 0.934\n",
      "테스트 세트 점수: 0.930\n",
      "사용한 피처의 개수: 30\n"
     ]
    }
   ],
   "source": [
    "# C = 0.1 모델\n",
    "logreg001 = LogisticRegression(solver = 'liblinear', C = 0.01).fit(X_train, y_train)\n",
    "print(\"훈련 세트 점수: {:.3f}\".format(logreg001.score(X_train, y_train)))\n",
    "print(\"테스트 세트 점수: {:.3f}\".format(logreg001.score(X_test, y_test)))\n",
    "print(\"사용한 피처의 개수: {}\".format(np.sum(logreg.coef_ != 0)))\n",
    "\n",
    "# - C 파라미터값을 낮추어, 규제의 강도를 높임\n",
    "# - 개별 데이터포인트에 대한 분류보다는 다수의 특성에 맞추어 일부 오분류를 허용하도록 \n",
    "#   회귀계수가 적정추정이 되도록 하겠다는 시도임\n",
    "#   회귀계수의 과다추정을 억제하는 방향으로 피팅해 훈련데이터셋에 대한 정확도를 적정수준에서 확보하려는 시도임"
   ]
  },
  {
   "cell_type": "code",
   "execution_count": 100,
   "metadata": {},
   "outputs": [
    {
     "data": {
      "text/plain": [
       "<matplotlib.legend.Legend at 0x1639868f320>"
      ]
     },
     "execution_count": 100,
     "metadata": {},
     "output_type": "execute_result"
    },
    {
     "data": {
      "image/png": "[encoded data removed]",
      "text/plain": [
       "<Figure size 432x288 with 1 Axes>"
      ]
     },
     "metadata": {
      "needs_background": "light"
     },
     "output_type": "display_data"
    }
   ],
   "source": [
    "# 로지스틱회귀 모델간 종합 플로팅\n",
    "\n",
    "# C 파라미터 설정모델별 플롯팅\n",
    "plt.plot(logreg100.coef_.T, '^', label = \"C=100\")\n",
    "plt.plot(logreg.coef_.T, 'o', label = \"C=1\")\n",
    "plt.plot(logreg001.coef_.T, 'v', label = \"C=0.001\")\n",
    "\n",
    "# x축 눈금 표현\n",
    "plt.xticks(range(cancer.data.shape[1]), cancer.feature_names, rotation=90)\n",
    "xlims = plt.xlim()\n",
    "\n",
    "# 수평가이드라인 설정\n",
    "plt.hlines(0, xlims[0], xlims[1])\n",
    "\n",
    "# x, y축 범위 설정\n",
    "plt.xlim(xlims)\n",
    "plt.ylim(-5, 5)\n",
    "\n",
    "# x, y축 레이블\n",
    "plt.xlabel(\"피처\")\n",
    "plt.ylabel(\"계수 크기\")\n",
    "\n",
    "# 범례설정\n",
    "plt.legend()"
   ]
  },
  {
   "cell_type": "markdown",
   "metadata": {},
   "source": [
    "c = 100이 0과 1을 더 뚜렷하게 분리하는 패턴을 갖고 있다."
   ]
  },
  {
   "cell_type": "markdown",
   "metadata": {},
   "source": [
    "`LogisticRegression`의 `max_iter` 매개변수 기본값은 100입니다. 사이킷런 0.20 버전에서 수렴에 도달하지 못했다는 경고 메세지를 피하기 위해 1000으로 증가시킵니다."
   ]
  },
  {
   "cell_type": "markdown",
   "metadata": {},
   "source": [
    "### 로지스틱회귀모형의 기본 계수추정방식: L1규제(벌점) 사용\n",
    "* 회귀계수 과다추정방지위해 중요하지 않은 회귀계수를 0으로 만들어 탈락시켜, 중요한 피처중심으로 예측모형을 구성함"
   ]
  },
  {
   "cell_type": "code",
   "execution_count": 115,
   "metadata": {},
   "outputs": [
    {
     "name": "stdout",
     "output_type": "stream",
     "text": [
      "C=0.001 인 l1 로지스틱 회귀의 훈련 정확도: 0.91\n",
      "C=0.001 인 l1 로지스틱 회귀의 테스트 정확도: 0.92\n",
      "C=0.001 인 l1 로지스틱 회귀의 사용피처 갯수: 3\n",
      "\n",
      "C=1.000 인 l1 로지스틱 회귀의 훈련 정확도: 0.96\n",
      "C=1.000 인 l1 로지스틱 회귀의 테스트 정확도: 0.96\n",
      "C=1.000 인 l1 로지스틱 회귀의 사용피처 갯수: 10\n",
      "\n",
      "C=100.000 인 l1 로지스틱 회귀의 훈련 정확도: 0.99\n",
      "C=100.000 인 l1 로지스틱 회귀의 테스트 정확도: 0.98\n",
      "C=100.000 인 l1 로지스틱 회귀의 사용피처 갯수: 23\n",
      "\n"
     ]
    },
    {
     "data": {
      "text/plain": [
       "<matplotlib.legend.Legend at 0x16396fa1d30>"
      ]
     },
     "execution_count": 115,
     "metadata": {},
     "output_type": "execute_result"
    },
    {
     "data": {
      "image/png": "[encoded data removed]",
      "text/plain": [
       "<Figure size 432x288 with 1 Axes>"
      ]
     },
     "metadata": {
      "needs_background": "light"
     },
     "output_type": "display_data"
    }
   ],
   "source": [
    "# 로지스틱회귀모델 파라미터 자동피팅 & 종합 플로팅\n",
    "\n",
    "# for문을 이용해 C 파라미터값과 플로팅될 marker의 모양을 준비\n",
    "for C, marker in zip([0.001, 1, 100], ['o', '^', 'v']):\n",
    "    \n",
    "    # panalty='l1'을 통해 L1규제(벌점) 방식으로 회귀계수를 추정함\n",
    "    lr_l1 = LogisticRegression(solver = 'liblinear', C = C, penalty=\"l1\", max_iter = 1000).fit(X_train, y_train)\n",
    "    print(\"C={:.3f} 인 l1 로지스틱 회귀의 훈련 정확도: {:.2f}\".format(C, lr_l1.score(X_train, y_train)))\n",
    "    print(\"C={:.3f} 인 l1 로지스틱 회귀의 테스트 정확도: {:.2f}\".format(C, lr_l1.score(X_test, y_test)))\n",
    "    print(\"C={:.3f} 인 l1 로지스틱 회귀의 사용피처 갯수: {}\".format(C, np.sum(lr_l1.coef_ != 0)))\n",
    "    print()    \n",
    "    plt.plot(lr_l1.coef_.T, marker, label=\"C={:.3f}\".format(C))\n",
    "\n",
    "# - 기본적으로 로지스틱회귀모형은 L2규제(벌점)을 사용하는 모델로\n",
    "#   훈련모형의 피팅결과 투입한 피처:예측(독립)변수의 갯수가 그대로 유지됨\n",
    "# - C 파라미터를 적절히 사용해 회귀계수의 과다추정을 방지하기 위해 조율하는데,\n",
    "#   어느 회귀계수라도 0으로 만들어 피처자체를 탈락시키지 않음\n",
    "\n",
    "# - penalty=\"l1\"라는 파라미터를 추가하면 L1규제(벌점) 방식으로 모델을 피팅하게 되어\n",
    "#   중요한 피처위주로 남기며, 중요하지 않은 피처의 회귀계수는 0으로 만들어 탈락시키는\n",
    "#   피처선택(feature selection) 효과를 누릴 수 있음    \n",
    "\n",
    "# 그래프 축 관련 세부묘사\n",
    "plt.xticks(range(cancer.data.shape[1]), cancer.feature_names, rotation=90)\n",
    "xlims = plt.xlim()\n",
    "plt.hlines(0, xlims[0], xlims[1])\n",
    "plt.xlim(xlims)\n",
    "plt.xlabel(\"피처\")\n",
    "plt.ylabel(\"계수 크기\")\n",
    "\n",
    "plt.ylim(-5, 5)\n",
    "plt.legend(loc=3)"
   ]
  },
  {
   "cell_type": "markdown",
   "metadata": {},
   "source": [
    "## 다중클래스 분류를 위한 선형모델: 선형서포트벡터머신과 blobs 데이터셋 이용(p.93) "
   ]
  },
  {
   "cell_type": "code",
   "execution_count": 165,
   "metadata": {},
   "outputs": [],
   "source": [
    "# 관련 모듈 일괄 로딩\n",
    "%matplotlib inline\n",
    "import matplotlib as mpl\n",
    "import matplotlib.pyplot as plt\n",
    "\n",
    "from sklearn.datasets import make_blobs\n",
    "from sklearn.model_selection import train_test_split\n",
    "\n",
    "import mglearn\n",
    "import numpy as np\n",
    "import pandas as pd"
   ]
  },
  {
   "cell_type": "markdown",
   "metadata": {},
   "source": [
    "### 데이터 로딩"
   ]
  },
  {
   "cell_type": "code",
   "execution_count": 174,
   "metadata": {},
   "outputs": [
    {
     "name": "stdout",
     "output_type": "stream",
     "text": [
      "<class 'tuple'> 2\n",
      "<class 'numpy.ndarray'> (100, 2)\n",
      "<class 'numpy.ndarray'> (100,)\n"
     ]
    }
   ],
   "source": [
    "# 데이터 로딩: 1개 객체로 일괄로딩\n",
    "blobs = make_blobs(random_state=42)\n",
    "\n",
    "print(type(blobs), len(blobs))\n",
    "# - 하나의 튜블객체에 2개 요소로 구성된 데이터셋\n",
    "\n",
    "print(type(blobs[0]), blobs[0].shape) \n",
    "# - 첫번째 요소: 피처:예측(독립)변수 데이터셋, 다차원 배열구조임\n",
    "\n",
    "print(type(blobs[1]), blobs[1].shape)\n",
    "# - 두번째 요소: 타깃:반응(종속)벼수 데이터셋, 1차원 배열구조임"
   ]
  },
  {
   "cell_type": "code",
   "execution_count": 175,
   "metadata": {},
   "outputs": [
    {
     "name": "stdout",
     "output_type": "stream",
     "text": [
      "<class 'numpy.ndarray'> (100, 2) \n",
      " [[-7.72642091 -8.39495682]\n",
      " [ 5.45339605  0.74230537]\n",
      " [-2.97867201  9.55684617]\n",
      " [ 6.04267315  0.57131862]\n",
      " [-6.52183983 -6.31932507]\n",
      " [ 3.64934251  1.40687195]\n",
      " [-2.17793419  9.98983126]\n",
      " [ 4.42020695  2.33028226]\n",
      " [ 4.73695639  2.94181467]\n",
      " [-3.6601912   9.38998415]]\n",
      "\n",
      "<class 'numpy.ndarray'> (100,) \n",
      " [2 1 0 1 2 1 0 1 1 0 0 2 2 0 0 2 2 0 2 2 0 2 2 0 0 0 1 2 2 2 2 1 1 2 0 0 0\n",
      " 0 1 1 2 0 1 0 0 1 2 2 2 1 1 1 0 2 2 2 0 0 1 0 2 1 2 1 2 2 1 2 1 1 1 2 2 0\n",
      " 1 2 1 2 1 1 0 1 0 2 0 0 0 1 0 1 1 1 0 1 0 0 0 1 2 0]\n"
     ]
    }
   ],
   "source": [
    "# 데이터 로딩: 피처와 타깃셋으로 나누어 로딩\n",
    "X, y = make_blobs(random_state=42)\n",
    "# - 피처셋을 X에, 타깃셋을 y에 별도 객체로 직접로딩\n",
    "\n",
    "print(type(X), X.shape, '\\n', X[:10]) \n",
    "# - X객체: 피처:예측(독립)변수 데이터셋, 다차원 배열구조임\n",
    "\n",
    "print()\n",
    "\n",
    "print(type(y), y.shape, '\\n', y)\n",
    "# - y객체: 타깃:반응(종속)벼수 데이터셋, 1차원 배열구조임"
   ]
  },
  {
   "cell_type": "markdown",
   "metadata": {},
   "source": [
    "### 클래스 분포현황 파악"
   ]
  },
  {
   "cell_type": "code",
   "execution_count": 178,
   "metadata": {},
   "outputs": [
    {
     "name": "stdout",
     "output_type": "stream",
     "text": [
      "반응(종속)변수 데이터셋 클래스 유형: [0 1 2]\n",
      "반응(종속)변수 데이터셋 전체내용의 기술통계: [34 33 33]\n",
      "\n",
      "레이블: 0, 빈도수: 34, 비율: 0.340\n",
      "레이블: 1, 빈도수: 33, 비율: 0.330\n",
      "레이블: 2, 빈도수: 33, 비율: 0.330\n"
     ]
    }
   ],
   "source": [
    "# 소문자 y에 할당된 1차원 배열로 있는 반응(종속)변수 데이터셋의 기술통계\n",
    "import numpy as np\n",
    "print('반응(종속)변수 데이터셋 클래스 유형:', np.unique(y))\n",
    "print('반응(종속)변수 데이터셋 전체내용의 기술통계:', np.bincount(y))\n",
    "\n",
    "print()\n",
    "\n",
    "for k, v in  zip(np.unique(y), np.bincount(y)): \n",
    "    pct = v / sum(np.bincount(y)) \n",
    "    print(\"레이블: %d, 빈도수: %d, 비율: %0.3f\" % (k, v, pct))\n",
    "    # print(\"레이블: {0}, 빈도수: {1}, 비율: {2:0.3f}\".format(k, v, pct))\n",
    "    # print(f\"레이블: {k}, 빈도수: {v}, 비율: {pct:0.3f}\")"
   ]
  },
  {
   "cell_type": "markdown",
   "metadata": {},
   "source": [
    "### 클래스분포 시각화"
   ]
  },
  {
   "cell_type": "code",
   "execution_count": 179,
   "metadata": {},
   "outputs": [
    {
     "data": {
      "text/plain": [
       "<matplotlib.legend.Legend at 0x16398995080>"
      ]
     },
     "execution_count": 179,
     "metadata": {},
     "output_type": "execute_result"
    },
    {
     "data": {
      "image/png": "[encoded data removed]",
      "text/plain": [
       "<Figure size 432x288 with 1 Axes>"
      ]
     },
     "metadata": {
      "needs_background": "light"
     },
     "output_type": "display_data"
    }
   ],
   "source": [
    "# 데이터셋 산점도\n",
    "mglearn.discrete_scatter(X[:, 0], X[:, 1], y)\n",
    "# - 2개 예측변수로 구성된 피처(독립변수)셋을 각각 x축, y축으로 플롯팅\n",
    "# - 여기에 0, 1, 2 다중클래스로 구성된 반응변수인 타깃(종속변수)를 제3의 조건변수로 투입함\n",
    "\n",
    "plt.xlabel(\"피처 0\")\n",
    "plt.ylabel(\"피처 1\")\n",
    "plt.legend([\"클래스 0\", \"클래스 1\", \"클래스 2\"])"
   ]
  },
  {
   "cell_type": "markdown",
   "metadata": {},
   "source": [
    "### 데이터 분할"
   ]
  },
  {
   "cell_type": "code",
   "execution_count": 181,
   "metadata": {},
   "outputs": [],
   "source": [
    "# 데이터 분할\n",
    "X_train, X_test, y_train, y_test = train_test_split(\n",
    "    cancer.data, cancer.target, stratify = cancer.target, random_state = 42)"
   ]
  },
  {
   "cell_type": "markdown",
   "metadata": {},
   "source": [
    "### 분류용 선형모델 피팅"
   ]
  },
  {
   "cell_type": "code",
   "execution_count": 228,
   "metadata": {},
   "outputs": [
    {
     "name": "stdout",
     "output_type": "stream",
     "text": [
      "LinearSVC(C=1.0, class_weight=None, dual=True, fit_intercept=True,\n",
      "     intercept_scaling=1, loss='squared_hinge', max_iter=1000,\n",
      "     multi_class='ovr', penalty='l2', random_state=None, tol=0.0001,\n",
      "     verbose=0) \n",
      "\n",
      "클래스별 분류모형 계수배열 크기: (3, 2)\n",
      "클래스별 분류모형 피처의 계수:\n",
      " [[-0.17492439  0.23140157]\n",
      " [ 0.47621471 -0.06937453]\n",
      " [-0.18914207 -0.20400532]]\n",
      "\n",
      "클래스별 분류모형 절편배열 크기: (3,)\n",
      "클래스별 분류모형 절편 수치: [-1.07745512  0.1314037  -0.08604997]\n"
     ]
    }
   ],
   "source": [
    "# 선형서포트벡터분류기 객체생성과 훈련데이터 피팅\n",
    "linear_svm = LinearSVC().fit(X, y)\n",
    "# - linear_svm에는 총 3개의 일대다(one vs. all) 분류기가 만들어지게 됨\n",
    "# - 클래스0과 나머지클래스(1, 2)를 구분하는 일대다 분류기\n",
    "# - 클래스1과 나머지클래스(0, 2)를 구분하는 일대다 분류기\n",
    "# - 클래스2와 나머지클래스(0, 1)를 구분하는 일대다 분류기\n",
    "\n",
    "print(linear_svm, '\\n')\n",
    "\n",
    "print(\"클래스별 분류모형 계수배열 크기:\", linear_svm.coef_.shape)\n",
    "print(\"클래스별 분류모형 피처의 계수:\\n\", linear_svm.coef_)\n",
    "print()\n",
    "\n",
    "print(\"클래스별 분류모형 절편배열 크기:\", linear_svm.intercept_.shape)\n",
    "print(\"클래스별 분류모형 절편 수치:\", linear_svm.intercept_)"
   ]
  },
  {
   "cell_type": "markdown",
   "metadata": {},
   "source": [
    "### 세부 일대다 분류기 결정경계 시각화"
   ]
  },
  {
   "cell_type": "code",
   "execution_count": 214,
   "metadata": {},
   "outputs": [
    {
     "data": {
      "text/plain": [
       "array([-15.        , -14.3877551 , -13.7755102 , -13.16326531,\n",
       "       -12.55102041, -11.93877551, -11.32653061, -10.71428571,\n",
       "       -10.10204082,  -9.48979592,  -8.87755102,  -8.26530612,\n",
       "        -7.65306122,  -7.04081633,  -6.42857143,  -5.81632653,\n",
       "        -5.20408163,  -4.59183673,  -3.97959184,  -3.36734694,\n",
       "        -2.75510204,  -2.14285714,  -1.53061224,  -0.91836735,\n",
       "        -0.30612245,   0.30612245,   0.91836735,   1.53061224,\n",
       "         2.14285714,   2.75510204,   3.36734694,   3.97959184,\n",
       "         4.59183673,   5.20408163,   5.81632653,   6.42857143,\n",
       "         7.04081633,   7.65306122,   8.26530612,   8.87755102,\n",
       "         9.48979592,  10.10204082,  10.71428571,  11.32653061,\n",
       "        11.93877551,  12.55102041,  13.16326531,  13.7755102 ,\n",
       "        14.3877551 ,  15.        ])"
      ]
     },
     "execution_count": 214,
     "metadata": {},
     "output_type": "execute_result"
    }
   ],
   "source": [
    "# x축에 반영할 임의의 피처데이터 생성\n",
    "line = np.linspace(-15, 15)\n",
    "# - 지정된 범위구간내 디폴트로 50개의 실수데이터가 생성됨\n",
    "line.shape\n",
    "line"
   ]
  },
  {
   "cell_type": "code",
   "execution_count": 215,
   "metadata": {},
   "outputs": [
    {
     "data": {
      "text/plain": [
       "[(array([-0.17491922,  0.23140549]), -1.0774547156442114, '#0000aa'),\n",
       " (array([ 0.47622053, -0.06937455]), 0.1314062921952188, '#ff2020'),\n",
       " (array([-0.18913871, -0.20400525]), -0.08604928749439952, '#50ff50')]"
      ]
     },
     "execution_count": 215,
     "metadata": {},
     "output_type": "execute_result"
    }
   ],
   "source": [
    "# 3개의 일대다 분류모형의 결정경계를 플롯팅하기 위해 회귀계수, 절편, 색상을 조합함\n",
    "list(zip(linear_svm.coef_, linear_svm.intercept_, mglearn.cm3.colors))"
   ]
  },
  {
   "cell_type": "code",
   "execution_count": 218,
   "metadata": {},
   "outputs": [
    {
     "data": {
      "text/plain": [
       "array([ 13.48510073,  12.91747216,  12.34984358,  11.78221501,\n",
       "        11.21458643,  10.64695785,  10.07932928,   9.5117007 ,\n",
       "         8.94407213,   8.37644355,   7.80881497,   7.2411864 ,\n",
       "         6.67355782,   6.10592924,   5.53830067,   4.97067209,\n",
       "         4.40304352,   3.83541494,   3.26778636,   2.70015779,\n",
       "         2.13252921,   1.56490064,   0.99727206,   0.42964348,\n",
       "        -0.13798509,  -0.70561367,  -1.27324225,  -1.84087082,\n",
       "        -2.4084994 ,  -2.97612797,  -3.54375655,  -4.11138513,\n",
       "        -4.6790137 ,  -5.24664228,  -5.81427085,  -6.38189943,\n",
       "        -6.94952801,  -7.51715658,  -8.08478516,  -8.65241374,\n",
       "        -9.22004231,  -9.78767089, -10.35529946, -10.92292804,\n",
       "       -11.49055662, -12.05818519, -12.62581377, -13.19344234,\n",
       "       -13.76107092, -14.3286995 ])"
      ]
     },
     "execution_count": 218,
     "metadata": {},
     "output_type": "execute_result"
    }
   ],
   "source": [
    "# 일다대 분류기 모델을 통해 y축에 반영할 데이터 생성\n",
    "-(line * coef[0] + intercept) / coef[1]"
   ]
  },
  {
   "cell_type": "code",
   "execution_count": 235,
   "metadata": {},
   "outputs": [
    {
     "data": {
      "text/plain": [
       "<matplotlib.legend.Legend at 0x1639a256fd0>"
      ]
     },
     "execution_count": 235,
     "metadata": {},
     "output_type": "execute_result"
    },
    {
     "data": {
      "image/png": "[encoded data removed]",
      "text/plain": [
       "<Figure size 432x288 with 1 Axes>"
      ]
     },
     "metadata": {
      "needs_background": "light"
     },
     "output_type": "display_data"
    }
   ],
   "source": [
    "# for문을 이용한 멀티클래스 분류를 위해 도출된 3개의 이진분류기에 대한 시각화\n",
    "\n",
    "# 전체적인 다중클래스 분포현황 플롯팅\n",
    "mglearn.discrete_scatter(X[:, 0], X[:, 1], y)\n",
    "\n",
    "# x축에 반영할 임의의 피처데이터 생성\n",
    "line = np.linspace(-15, 15)\n",
    "# - 지정된 범위구간내 디폴트로 50개의 실수데이터가 생성됨\n",
    "\n",
    "# 3개의 이진분류모형의 회귀계수, 절편, 색상을 조합함\n",
    "for coef, intercept, color in zip(linear_svm.coef_, \n",
    "                                  linear_svm.intercept_, \n",
    "                                  mglearn.cm3.colors):\n",
    "    \n",
    "    # 분류 결정경계선 플롯팅\n",
    "    plt.plot(line, -(coef[0]*line  + intercept) / coef[1], c = color)\n",
    "    # - x축: 임의대로 생성한 피처데이터 50개를 투입함\n",
    "    # - y축: x축에 특정 피처값이 주어졌을 때 \n",
    "    #        각 클래스별 분류모형(계수값 + 절편)을 활용해 \n",
    "    #        피처1대피 피처0의 변화량을 계산함 \n",
    "     \n",
    "plt.ylim(-10, 15)\n",
    "plt.xlim(-10, 8)\n",
    "plt.xlabel(\"피처 0\")\n",
    "plt.ylabel(\"피처 1\")\n",
    "\n",
    "plt.legend(['클래스 0', '클래스 1', '클래스 2', \n",
    "            '클래스 0 경계', '클래스 1 경계','클래스 2 경계'], loc = (1.01, 0.3))"
   ]
  },
  {
   "cell_type": "code",
   "execution_count": 237,
   "metadata": {},
   "outputs": [
    {
     "data": {
      "text/plain": [
       "<matplotlib.legend.Legend at 0x1639a31b3c8>"
      ]
     },
     "execution_count": 237,
     "metadata": {},
     "output_type": "execute_result"
    },
    {
     "data": {
      "image/png": "[encoded data removed]",
      "text/plain": [
       "<Figure size 432x288 with 1 Axes>"
      ]
     },
     "metadata": {},
     "output_type": "display_data"
    }
   ],
   "source": [
    "# 일대다 분류기 영역표시\n",
    "\n",
    "# 3개의 일대다 분류기 모형에 피처셋(X)를 영역으로 표시되도록 플롯팅\n",
    "mglearn.plots.plot_2d_classification(linear_svm, X, fill = True, alpha = .7)\n",
    "\n",
    "# 전체적인 다중클래스 분포현황 플롯팅\n",
    "mglearn.discrete_scatter(X[:, 0], X[:, 1], y)\n",
    "\n",
    "# x축에 반영할 임의의 피처데이터 생성\n",
    "line = np.linspace(-15, 15)\n",
    "# - 지정된 범위구간내 디폴트로 50개의 실수데이터가 생성됨\n",
    "\n",
    "# 3개의 이진분류모형의 회귀계수, 절편, 색상을 조합함\n",
    "for coef, intercept, color in zip(linear_svm.coef_, \n",
    "                                  linear_svm.intercept_,\n",
    "                                  mglearn.cm3.colors):\n",
    "    plt.plot(line, -(line * coef[0] + intercept) / coef[1], c=color)\n",
    "\n",
    "plt.xlabel(\"피처 0\")\n",
    "plt.ylabel(\"피처 1\")\n",
    "\n",
    "plt.legend(['클래스 0', '클래스 1', '클래스 2', \n",
    "            '클래스 0 경계', '클래스 1 경계', '클래스 2 경계'], loc=(1.01, 0.3))\n"
   ]
  },
  {
   "cell_type": "markdown",
   "metadata": {},
   "source": [
    "# 사이킷런의 메서드 연결 코딩방법"
   ]
  },
  {
   "cell_type": "markdown",
   "metadata": {},
   "source": [
    "### 방법1: 객체생성-훈련셋피팅-미래값예측을 순차적으로 실행"
   ]
  },
  {
   "cell_type": "code",
   "execution_count": 251,
   "metadata": {},
   "outputs": [
    {
     "data": {
      "text/plain": [
       "array([1, 0, 1, 1, 1, 0, 0, 0, 0, 1, 1, 1, 0, 0, 1, 1, 0, 0, 1, 1, 0, 0,\n",
       "       1, 1, 1, 1, 1, 1, 1, 0, 1, 1, 1, 1, 1, 1, 1, 1, 0, 1, 0, 1, 0, 1,\n",
       "       1, 1, 0, 1, 0, 1, 1, 1, 1, 0, 1, 1, 1, 0, 0, 0, 1, 0, 0, 0, 1, 1,\n",
       "       0, 1, 1, 1, 1, 1, 1, 1, 1, 0, 0, 0, 0, 1, 1, 1, 1, 1, 0, 1, 0, 1,\n",
       "       1, 1, 1, 0, 1, 1, 0, 0, 0, 1, 0, 1, 0, 0, 0, 1, 1, 0, 1, 1, 0, 1,\n",
       "       0, 0, 1, 1, 1, 0, 1, 1, 1, 0, 1, 1, 0, 1, 0, 1, 1, 0, 1, 1, 1, 1,\n",
       "       1, 1, 0, 1, 1, 1, 1, 1, 1, 1, 1])"
      ]
     },
     "execution_count": 251,
     "metadata": {},
     "output_type": "execute_result"
    }
   ],
   "source": [
    "# 모델객체생성\n",
    "logreg = LogisticRegression(solver='liblinear')\n",
    "\n",
    "# 훈련모델피팅\n",
    "logreg.fit(X_train, y_train)\n",
    "\n",
    "# 예측결과도출\n",
    "logreg.predict(X_test)"
   ]
  },
  {
   "cell_type": "markdown",
   "metadata": {},
   "source": [
    "### 방법2: 객체생성-훈련셋피팅을 동시에, 미래값예측을 순차적으로 실행"
   ]
  },
  {
   "cell_type": "code",
   "execution_count": 252,
   "metadata": {},
   "outputs": [
    {
     "data": {
      "text/plain": [
       "array([1, 0, 1, 1, 1, 0, 0, 0, 0, 1, 1, 1, 0, 0, 1, 1, 0, 0, 1, 1, 0, 0,\n",
       "       1, 1, 1, 1, 1, 1, 1, 0, 1, 1, 1, 1, 1, 1, 1, 1, 0, 1, 0, 1, 0, 1,\n",
       "       1, 1, 0, 1, 0, 1, 1, 1, 1, 0, 1, 1, 1, 0, 0, 0, 1, 0, 0, 0, 1, 1,\n",
       "       0, 1, 1, 1, 1, 1, 1, 1, 1, 0, 0, 0, 0, 1, 1, 1, 1, 1, 0, 1, 0, 1,\n",
       "       1, 1, 1, 0, 1, 1, 0, 0, 0, 1, 0, 1, 0, 0, 0, 1, 1, 0, 1, 1, 0, 1,\n",
       "       0, 0, 1, 1, 1, 0, 1, 1, 1, 0, 1, 1, 0, 1, 0, 1, 1, 0, 1, 1, 1, 1,\n",
       "       1, 1, 0, 1, 1, 1, 1, 1, 1, 1, 1])"
      ]
     },
     "execution_count": 252,
     "metadata": {},
     "output_type": "execute_result"
    }
   ],
   "source": [
    "# 모델객체생성과 훈련셋 피팅을 동시에 진행\n",
    "logreg = LogisticRegression(solver='liblinear').fit(X_train, y_train)\n",
    "\n",
    "# 예측결과도출\n",
    "logreg.predict(X_test)"
   ]
  },
  {
   "cell_type": "markdown",
   "metadata": {},
   "source": [
    "### 방법3: 객체생성을 먼저하고, 훈련셋피팅과 미래값예측을 동시에 실행"
   ]
  },
  {
   "cell_type": "code",
   "execution_count": 253,
   "metadata": {},
   "outputs": [
    {
     "data": {
      "text/plain": [
       "array([1, 0, 1, 1, 1, 0, 0, 0, 0, 1, 1, 1, 0, 0, 1, 1, 0, 0, 1, 1, 0, 0,\n",
       "       1, 1, 1, 1, 1, 1, 1, 0, 1, 1, 1, 1, 1, 1, 1, 1, 0, 1, 0, 1, 0, 1,\n",
       "       1, 1, 0, 1, 0, 1, 1, 1, 1, 0, 1, 1, 1, 0, 0, 0, 1, 0, 0, 0, 1, 1,\n",
       "       0, 1, 1, 1, 1, 1, 1, 1, 1, 0, 0, 0, 0, 1, 1, 1, 1, 1, 0, 1, 0, 1,\n",
       "       1, 1, 1, 0, 1, 1, 0, 0, 0, 1, 0, 1, 0, 0, 0, 1, 1, 0, 1, 1, 0, 1,\n",
       "       0, 0, 1, 1, 1, 0, 1, 1, 1, 0, 1, 1, 0, 1, 0, 1, 1, 0, 1, 1, 1, 1,\n",
       "       1, 1, 0, 1, 1, 1, 1, 1, 1, 1, 1])"
      ]
     },
     "execution_count": 253,
     "metadata": {},
     "output_type": "execute_result"
    }
   ],
   "source": [
    "# 모델객체생성과 훈련셋 피팅을 동시에 진행\n",
    "logreg = LogisticRegression(solver='liblinear')\n",
    "\n",
    "# 예측결과도출\n",
    "y_pred = logreg.fit(X_train, y_train).predict(X_test)\n",
    "y_pred"
   ]
  },
  {
   "cell_type": "markdown",
   "metadata": {},
   "source": [
    "### 방법4: 객체생성-훈련셋피팅-미래값예측을 전체적으로 동시에 실행"
   ]
  },
  {
   "cell_type": "code",
   "execution_count": 250,
   "metadata": {},
   "outputs": [
    {
     "data": {
      "text/plain": [
       "array([1, 0, 1, 1, 1, 0, 0, 0, 0, 1, 1, 1, 0, 0, 1, 1, 0, 0, 1, 1, 0, 0,\n",
       "       1, 1, 1, 1, 1, 1, 1, 0, 1, 1, 1, 1, 1, 1, 1, 1, 0, 1, 0, 1, 0, 1,\n",
       "       1, 1, 0, 1, 0, 1, 1, 1, 1, 0, 1, 1, 1, 0, 0, 0, 1, 0, 0, 0, 1, 1,\n",
       "       0, 1, 1, 1, 1, 1, 1, 1, 1, 0, 0, 0, 0, 1, 1, 1, 1, 1, 0, 1, 0, 1,\n",
       "       1, 1, 1, 0, 1, 1, 0, 0, 0, 1, 0, 1, 0, 0, 0, 1, 1, 0, 1, 1, 0, 1,\n",
       "       0, 0, 1, 1, 1, 0, 1, 1, 1, 0, 1, 1, 0, 1, 0, 1, 1, 0, 1, 1, 1, 1,\n",
       "       1, 1, 0, 1, 1, 1, 1, 1, 1, 1, 1])"
      ]
     },
     "execution_count": 250,
     "metadata": {},
     "output_type": "execute_result"
    }
   ],
   "source": [
    "# 모델객체생성과 훈련셋피팅, 미래값예측을 동시에 실행\n",
    "y_pred = LogisticRegression(solver='liblinear').fit(X_train, y_train).predict(X_test)\n",
    "y_pred"
   ]
  },
  {
   "cell_type": "code",
   "execution_count": null,
   "metadata": {},
   "outputs": [],
   "source": [
    "y_pred = LogisticRegression(solver='liblinear').fit(X_train, y_train).predict(X_test)"
   ]
  },
  {
   "cell_type": "markdown",
   "metadata": {},
   "source": [
    "# End of Source"
   ]
  }
 ],
 "metadata": {
  "kernelspec": {
   "display_name": "Python 3",
   "language": "python",
   "name": "python3"
  },
  "language_info": {
   "codemirror_mode": {
    "name": "ipython",
    "version": 3
   },
   "file_extension": ".py",
   "mimetype": "text/x-python",
   "name": "python",
   "nbconvert_exporter": "python",
   "pygments_lexer": "ipython3",
   "version": "3.6.7"
  },
  "latex_metadata": {
   "author": "Andreas C. M\\\"ller",
   "title": "Machine Learning with Python"
  }
 },
 "nbformat": 4,
 "nbformat_minor": 1
}
