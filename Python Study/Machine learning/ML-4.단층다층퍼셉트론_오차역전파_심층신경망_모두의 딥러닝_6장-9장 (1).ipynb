{
 "cells": [
  {
   "cell_type": "markdown",
   "metadata": {},
   "source": [
    "# <font color = 'color'>모두의 딥러닝: 6장(p.96), 7장(p.101), 8장(p.110), 9장(p.114)</font>"
   ]
  },
  {
   "cell_type": "markdown",
   "metadata": {},
   "source": [
    "# <font color = blue>퍼셉트론에 대한 이해</font>"
   ]
  },
  {
   "cell_type": "markdown",
   "metadata": {},
   "source": [
    "### 프랑크 로젠블라트(1957)가 제안한 퍼셉트론(perceptron) 기본개념\n",
    "* 인간의 신경세포인 뉴런(neuron)이 작동하는 방식을 비유해 퍼셉트론(perceptron)으로 표현함\n",
    "* 퍼셉트론은 두뇌의 인지능력을 수학적으로 모방한 계산 알고리즘으로 인공신경망과 딥러닝의 토대가 됨\n",
    "* 다수의 입력값을 받아 목표로하는 하나의 출력값을 만들어 내는 함수임\n",
    "<img src = './../../images/perceptron_basic.png'>"
   ]
  },
  {
   "cell_type": "markdown",
   "metadata": {},
   "source": [
    "### 뉴런(사람의 신경세포)과 퍼셉트론(수학 알고리즘) 비교\n",
    "* 뉴런과 뉴런사이에 시냅스라는 연결부위에서 화학물질이 나와 전위변화를 일으켜 전위가 임계값을 넘으면 다음 뉴런으로 신호를 전달함\n",
    "* 퍼셉트론은 입력값과 활성화함수를 이용해 출력값을 다음으로 넘기는 가장 작은 신경망 단위임\n",
    "<img src = './../../images/neuron_perceptron.png'>"
   ]
  },
  {
   "cell_type": "markdown",
   "metadata": {},
   "source": [
    "# <font color = blue>초창기 퍼셉트론의 한계</font>"
   ]
  },
  {
   "cell_type": "markdown",
   "metadata": {},
   "source": [
    "### 초창기 퍼셉트론이 풀수 있었던 인간의 기본 논리회로(진리표; gate) 문제\n",
    "* 인간의 논리방식(AND, OR)에 따른 문제해결방법을 컴퓨터로 구현하기 위해 <br>퍼셉트론에서 가중치와 편향으로 구성된 선형모형(y = wx + b)을 만들어 내었음\n",
    "* 즉, 선형회귀나 로지스틱회귀를 이용해 1차원 예측선이나 2차원 예측평면을 만들어 내어 필요한 예측을 수행할 수 있음"
   ]
  },
  {
   "cell_type": "markdown",
   "metadata": {},
   "source": [
    "* AND(논리곱): 입력값 두 개 모두 1이면 출력값도 1로 판단하는 문제\n",
    "* OR(논리합): 입력값 둘 중의 하나만 1이면 출력값도 1로 판단하는 문제\n",
    "* NAND(Not;Negative AND): 논리곱(AND)의 반대되는 개념으로 입력값 두 개 모두 1이면 출력값을 0으로 판단하는 문제\n",
    "<img src = './../../images/perceptron_and_or.png'>"
   ]
  },
  {
   "cell_type": "markdown",
   "metadata": {},
   "source": [
    "### 초창기 퍼셉트론이 풀 수 없었던 배타적 논리합(XOR) 문제 -> 이때 신경망의 한계를 느낌\n",
    "* XOR(exclusive OR)이라는 배타적 논리합 문제는 입력값 두 개(x1, x2) 중 1개가 1일 때만 출력값(y)도 1로 판단하는 문제임\n",
    "* 퍼셉트론(y = wx + b)에 따라 1차원 예측직선, 2차원 예측평면을 아무리 만들어 보아도 원하는 출력값(y)을 만들어 낼 수 없는 한계에 부딪힘 \n",
    "<br> ==> <font color = 'blue'>인공지능의 첫 번째 빙하기</font>\n",
    "<img src = './../../images/perceptron_xor.png'>"
   ]
  },
  {
   "cell_type": "markdown",
   "metadata": {},
   "source": [
    "# <font color = blue>다층 퍼셉트론(multi layer perceptron)의 필요성</font>"
   ]
  },
  {
   "cell_type": "markdown",
   "metadata": {},
   "source": [
    "### 사고전환(패러다임시프트)\n",
    "* 2차원 좌표평면이라는 평면적 사고를 3차원 좌표공간으로 확대한 입체적 사고의 전환을 통해 문제를 해결\n",
    "<img src = './../../images/paradigm_shift.png'>\n",
    "\n",
    "- 단순히 A, B를 한개의 조합을 두고 2개의 조합으로 생ㄱ갛자\n",
    "- 하나의 분류예측선으로 흰색부분 분류 가능\n",
    "- 분류하고 나서 다른 예측선을 만들면 또다른 검정색 부분 분류 가능해짐\n",
    "- 선으로 하나 초록색 구분하고 또다른 선으로 다른 초록색 분류함\n",
    "- 그러면 초록색과 빨간색 분류됨\n",
    "- x -> 0 -> 0 -> Y  : multi Layer 심층신경망, 은닉층이 2개로 볼 수 있겠지"
   ]
  },
  {
   "cell_type": "markdown",
   "metadata": {},
   "source": [
    "### 다층 퍼셉트론 컨셉\n",
    "* 단층 퍼셉트론은 입력값을 통해 기대되는 출력값을 만들어 내는 예측선을 1개만 만들어 내는 구조임\n",
    "* 다층 퍼셉트론은 최종적으로 목표로 하는 출력값을 만들어 내기위해<br> 중간에 개별 퍼셉트론 여러 개를 합쳐서 하나의 네트워크(망)을 구성하는 컨셉으로 인공신경망(ANN: Aritificial Neural Network)으로 부룸  \n",
    "* 이에 따라 입력층-출력층으로 구성된 단층 퍼셉트론을 입력층-은닉층-출력층으로 확장한 다층 퍼셉트론으로 구성하게 됨\n",
    "* 입력층에 투입된 입력값(x1, x2)을 가중치(w)와 편향(b)를 적절히 활용해 은닉층에 여러 개의 중간 출력값(y1, y2)을 한꺼번에 만들어 내며, \n",
    "<br> 은닉층의 여러 개의 중간 출력값들이 다시 입력값으로 투입되어 출력층에서 최종적인 출력값(y)을 만들어 내게 됨\n",
    "* XOR(배타적 논리합) 문제를 풀기 위해서 투입된 입력값(x1, x2)을 가중치(w)와 편향(b)를 적절히 활용해 \n",
    "<br>은닉층에서 NAND연산 출력(y1)과 OR연산 출력(y2)을 각각 만들어 냄\n",
    "* 은닉층에서 만들어낸 NAND연산 출력(y1)과 OR연산 출력(y2)을 다시 입력값으로 활용하여 <br>AND연산에 투입함으로써 원하는 XOR출력값(y)을 만들어 낼 수 있음  \n",
    "<img src = './../../images/multilayer_perceptron_xor.png'>\n",
    "\n",
    "<br>\n",
    "- NAND연산과 OR연산이 일종의 활성화함수인 것"
   ]
  },
  {
   "cell_type": "markdown",
   "metadata": {},
   "source": [
    "# <font color = blue>다층 퍼셉트론(MLP: Multi Layer Perceptron)의 설계</font>"
   ]
  },
  {
   "cell_type": "markdown",
   "metadata": {},
   "source": [
    "### 다층퍼셉트론을 통한 딥러닝 인공신경망(DNN)의 구현\n",
    "* 단층 퍼셉트론을 여러 개 결합한 다층 퍼셉트론을 이용해 인공신경망을 깊게 구성하므로 심층망 DNN(Deep Learning Neural Network)라고 부름\n",
    "<img src = './../../images/dnn.png'>"
   ]
  },
  {
   "cell_type": "markdown",
   "metadata": {},
   "source": [
    "### 주요 개념\n",
    "1. 레이어(layer)\n",
    "    * 입력층(input layer): 외부로부터 입력자료를 받아들여 예측모델에 투입해줌<br>\n",
    "    * 은닉층(hidden layer): 입력값을 전달받아 가중합과 편향을 계산해 중간출력값을 만들어 냄<br>\n",
    "    * 출력층(output layer): 은닝층의 중간출력값을 입력값으로 활용해 가중합과 편향을 계산해 최종 출력값을 만들어 냄 \n",
    "* 노드(node: n); 유닛(unit)\n",
    "    * 각 레이어에서 다루는 모든 입력/출력값을 계산/처리/저장하는 지점<br>\n",
    "    * 현재 입력층 2개 노드, 은닉층 2개 노드, 출력층 1개 노드로 구성됨<br>\n",
    "* 가중치(weight: w)\n",
    "    * 각 노드별 입력값에 따라 출력값을 만들어내는 영향력을 조절하는 일종의 파라미터(매개변수)<br>\n",
    "    * 가중치가 클수록 해당 노드의 신호(입력값 또는 중간출력값)가 중요함을 의미<br>\n",
    "* 편향(bias)\n",
    "    * 입력값에 가중치를 곱해 만들어낸 출력값이 원하는 출력값과의 차이를 보일 때 이를 적절한 크기 만큼 보완해 줌<br>\n",
    "    * 퍼셉트론이 얼마나 쉽게 활성화 될 수 있는지를 조정하는 파라미터(매개변수)<br>  \n",
    "* 활성화함수(activation function); 전이함수(transfer function)\n",
    "    * 입력 신호의 총합을 사용해 출력신호로 변환하는 함수로 입력 신호의 총합이 임계치를 넘어서 활성화를 일으키는지 아닌지를 판단함\n",
    "    * 예측목적에 따라 다양한 직선, 곡선 모양을 만들어 내는 활성화함수가 있음<br>\n",
    "* 최적화함수(Optimizer)\n",
    "    * 오차/가중치의 수정/최적화를 위해 전체 데이터노드를 계속 미분하면, 많은 계산량으로 학습속도가 느려지고, \n",
    "    <br>중간에 최적화 과정이 멈출 수 있음\n",
    "    * 신경망의 학습속도와 정확도 문제를 보다 개선시키기 위해 다양한 최적화함수가 있음"
   ]
  },
  {
   "cell_type": "markdown",
   "metadata": {},
   "source": [
    "<img src = './../../images/multilayer_perceptron_design.png'>"
   ]
  },
  {
   "cell_type": "markdown",
   "metadata": {},
   "source": [
    "### 다층 퍼셉트론을 활용한 XOR 문제해결\n",
    "* 배타적 논리합(XOR: exclusive OR) 문제를 풀기위한 다층 퍼셉트론 모델에서 각 노드에 입력하는 가중치와 편의는 다양하게 설정될 수 있음\n",
    "* 은닉층과 은닉노드의 개수는 다수의 반복실험을 통해서 사용자가 적절하게 설정해야함\n",
    "* 각 가중치와 편의는 랜덤하게 초기값으로 입력되며 예측값을 가장 잘 맞추는 방향으로 조율됨\n",
    "<img src = './../../images/multilayer_perceptron_design_xor.png'>"
   ]
  },
  {
   "cell_type": "markdown",
   "metadata": {},
   "source": [
    "### 다층 퍼셉트론을 활용한 인공신경망 문제해결 예시\n"
   ]
  },
  {
   "cell_type": "markdown",
   "metadata": {},
   "source": [
    "<img src = './../../\n",
    "images/multilayer_perceptron_example.png'>"
   ]
  },
  {
   "cell_type": "markdown",
   "metadata": {},
   "source": [
    "1. 신경망 모델설계\n",
    "    * 문제 특성에 따라 입력층에 2개 노드, 출력층에 1개 노드가 할당됨\n",
    "    * 이 문제를 풀기위한 은닉층을 1개로, 은닉노드는 3개로 임의로 설정함<\n",
    "    * 은닉층과 은닉노드의 개수는 다수의 반복실험을 통해 사용자가 적절히 설정해야함<pre>\n",
    "* 은닉층의 첫번째 노드인 노드3의 중간 출력값이 0.43으로 나오는 과정\n",
    "    * 각 노드별 가중치(연결강도: w)는 초기에 다음처럼 무작위로 할당되며, <br> 최종적인 결과값 도출을 위해 최적값으로 가중치(연결강도)를 조율하게 됨\n",
    "    * 노드1에서 --> 노드3으로의 가중치(연결강도): 0.05\n",
    "    * 노드2 에서 --> 노드3으로의 가중치(연결강도): 0.01\n",
    "    * 노드3에 할당된 -0.3은 편의값(b)임<pre>\n",
    "* 이를 통해 노드3에서 다음과 같이 수학적인 가중합 연산과정이 진행됨\n",
    "    * <font color = 'red'>[</font> -0.3(노드3의 bias) + <font color = 'blue'>{</font> 0.2(노드1의 입력값) * 0.05(노드1에서 노드3으로의 연결강도) <font color = 'blue'>}</font> <br>+ <font color = 'blue'>{</font> 0.9(노드2의 입력값) * 0.01(노드2에서 노드3으로의 연결강도) <font color = 'blue'>}</font> <font color = 'red'>]</font>\n",
    "    * 이 가중합을 <font color = 'red'>1 / (1 + e^(-x) )</font>라는 활성화함수(전이함수)에 적용하면 <br> <font color = 'blue'>1 / (1 + e^(-[-0.3 + (0.2)(0.05) + (0.9)(0.01)])) = 0.43</font> 이라는 노드3의 최종값이 계산됨<pre>\n",
    "* 최종결과 도출\n",
    "    * 이러한 계산과정을 거쳐 최종적으로 출력 노드인 노드5의 값은 0.506이 산출됨\n",
    "    * 최종적인 목표값인 0.5와 가장 가까운 값이 도출될 때까지 이러한 일련의 과정이 반복 수행되는데, 매번 가중치(연결강도)와 편의 값들이 수정됨\n",
    "    * 이 인공신경망 모델에서 은닉층이 사라지고 가중합의 활성함수로의 적용이 없다면 대표적인 통계모형인 회귀모델과 같은 알고리즘이 도출"
   ]
  },
  {
   "cell_type": "markdown",
   "metadata": {},
   "source": [
    "# <font color = blue>퍼셉트론의 오차 역전파</font>"
   ]
  },
  {
   "cell_type": "markdown",
   "metadata": {},
   "source": [
    "### 퍼셉트론에서의 오류수정과 가중치 최적화 \n",
    "1. 입력값에 대해 임의로 가중치를 반영하여 출력값을 도출함\n",
    "* 최소제곱법을 통해 출력값과 실제값 간의 오차를 계산함 \n",
    "* 미분을 통해 오차가 최소가 되는 지점으로 기울기를 조금씩 이동시키는 경사하강방식을 이용해 \n",
    "<br>기울기가 0이 되는 지점, 즉 오차가 더이상 줄어들지 않을 때까지 반복하게 됨 \n",
    "* 다층 퍼센트론에서도 최종 출력값의 오차를 구해 이 계산에 사용했던 가중치를 수정한 다음, \n",
    "<br>이전 계층으로 거슬러 올라가면서 먼저 사용했던 가중치들을 조율해 나감   \n",
    "\n",
    "- 투입 값을 바꿀 수 없으니 가중치들을 변경해주는 것!"
   ]
  },
  {
   "cell_type": "markdown",
   "metadata": {},
   "source": [
    "### 오차 역전파의 의미\n",
    "* 퍼셉트론에서 가중치를 최적화하는 방향이 출력층에서 출발해 은닉층으로, <br>다시 입력층으로 거슬러 올라가는 역방향으로 각 층에 있는 노드의 오차를 계산해 가중치를 수정하는 방식\n",
    "* 즉 역방향으로 전파된 오차를 이용해서 해당 층의 가중치를 조정하는 방식으로 오차역전파라고 함\n",
    "* 순전파 -> 오차계산 -> 역전파 -> 가중치 업데이트 -> 순전파 순으로 반복하면서 오차값을 0에 가깝게 만들게 됨\n",
    "<img src = './../../images/back_propagation.png'>"
   ]
  },
  {
   "cell_type": "markdown",
   "metadata": {},
   "source": [
    "### 다층퍼셉트론 인공신경망 구현과정"
   ]
  },
  {
   "cell_type": "markdown",
   "metadata": {},
   "source": [
    "<img src = './../../images/ann_process.png'>"
   ]
  },
  {
   "cell_type": "markdown",
   "metadata": {},
   "source": [
    "# <font color = blue>다층 퍼셉트론의 기울기 소실 문제</font>"
   ]
  },
  {
   "cell_type": "markdown",
   "metadata": {},
   "source": [
    "### 체인룰(chain rule)에 의한 오차수정과 기울기 최적화\n",
    "* 단층 퍼셉트론에 여러 개의 은닉층을 반영한 다층 퍼셉트론을 활용해 보다 정확한 값을 예측하는 인공신경망을 설계하게됨\n",
    "* 출력층으로부터 하나씩 이전 층으로 되돌아가면서 오류를 수정하고 각 층의 가중치를 최적화 하기 위해 미분을 활용함\n",
    "* 각 층에 있는 노드별 가중치합을 구하거나 각 층간에 역방향으로 기울기가 수정/최적화 되면서 합성함수를 이용함\n",
    "* 합성함수는 두 개 이상의 함수를 하나의 함수처럼 결합해서 만든 것이며, <br>이 합성함수에 대한 미분을 통해서 오차를 수정하고 기울기를 최적화하기 위한 미분방식이 체인룰(연쇄법칙: chain rule)임"
   ]
  },
  {
   "cell_type": "markdown",
   "metadata": {},
   "source": [
    "### 오차역전파의 기울기 소실(vanishing gradient) 문제 발생 \n",
    "* 체인룰에 따라 다층 퍼셉트론방식으로 Deep 하게 레이어(층)을 쌓고 \n",
    "<br> 오차역전파(back propagation)을 통해서 여러 복잡한 문제를 해결할 수 있을 것으로 예상했음\n",
    "* 그런데, 층이 너무 깊어지면서(늘어나면서) 오차역전파로 미분을 통한 기울기 수정/반복과정에서 \n",
    "<br>기울기가 중간이 0이 되버려 오류가 입력층까지 전달되지 못하는 기울기 소실(Vanishing Gradient) 현상이 발생함\n",
    "<br> ==> <font color = 'blue'>인공지능의 두 번째 빙하기</font>\n",
    "* 일반적인 퍼셉트론의 활성화함수(전이함수)는 시그모이드함수로 \n",
    "<br>이 함수를 미분하면 최대치가 0.3인데, 이와 같은 1보다 작은 기울기를 계속 곱하다 보면 0에 가까워지게 됨\n",
    "* 즉, 시그모이드 함수는 0 < n < 1 사이의 값만 다루므로 chain rule을 이용해 계속 값을 곱해나가는 경우\n",
    "<br> 결과 값이 0에 수렴할 수 밖에 없다는 한계를 가짐\n",
    "* 오차역전파 방식으로 층을 역방향으로 거쳐가면서 기울기를 수정해 갈수록 기울기가 사라져 더 이상 가중치를 수정하기 어려워지게 됨\n",
    "* 이의 해결을 위해 활성화함수를 시그모이드가 아닌 다양한 대안적 함수들이 개발되었음\n",
    "<img src = './../../images/vanishing_gradient.png'>\n",
    "\n",
    "<br>\n",
    "- 기울기 = 미분\n",
    "- 오차를 줄이기위해 오차역전파방식으로 출력층에서부터 거꾸로 기울기와 절편을 수정하면서(=미분하면서) 기울기를 수정하다보면 기울기 값이 0이 되는 노드가 생긴다.\n",
    "- 가중치를 수정한다 = 기울기를 수정한다. =>> 수정하는 자체가 미분을 의미 (그래프를 그려보면 y증가량/x증가량)\n",
    "- 미분에 미분을 계속 하다보면 기울기 값이 0이 나오는 경우가 생길 수 있어\n",
    "- 기울기를 계속 바꿔주다보면 0이 되는 노드가 있다\n",
    "- 그러다보면 모형이 아예 바뀌게 됨! -> 이게 인공지능망의 또다른 한계였다."
   ]
  },
  {
   "cell_type": "markdown",
   "metadata": {},
   "source": [
    "# <font color = blue>심층신경망: 딥뉴럴렛(DNN: Deep Neural Net) 설계</font>"
   ]
  },
  {
   "cell_type": "markdown",
   "metadata": {},
   "source": [
    "### 다층퍼셉트론의 기울기 소실 문제 해결을 위한 다양한 활성화(전이) 함수가 개발됨\n",
    "1. 선형함수\n",
    "    * 입력값이 기울기 만큼 배로 변하는 것으로 1차 함수 형식이며, 모두 1개의 직선 모양으로 \n",
    "    <br>f(x) = x(항등함수) 또는 f(x) = ax 또는 f(x) = ax + b 등이 있음\n",
    "* 비선형함수\n",
    "    * 2개 이상의 직선 또는 곡선의 모양을 가지고 있으며, Sigmoid 계열, ReLU 계열 등이 있음\n",
    "* 문제유형에 따른 활성화함수 선택\n",
    "    * 사용할 활성화 함수를 선택할 때는 풀고자 하는 문제의 종류를 고려해야 함 \n",
    "    * 문제의 결과가 직선을 따르는 경향이 있다면 선형함수를 주로 이용함\n",
    "    * 이진 분류하는 문제일 때는 Vanishing Gradient Problem 때문에 Sigmoid는 잘 사용하지 않고, \n",
    "    <br> ReLU와 그 변형된 활성화함수를 주로 이용함\n",
    "    * 3개 이상을 분류하는 다항분류 문제에서는 주로 Softmax와 그 변형된 활성화함수를 주로 이용함\n",
    "    * 이상의 가이드는 절대적인 것은 아니며, 목표 정확도와 학습시간 등을 고려하여 \n",
    "    <br>Deep 하게 층을 쌓을 때 개별저긍로 선택하고 혼합사용도 가능함\n",
    "    * 보통 다층 퍼셉트론 구조의 인공신경망에서는 활성화 함수로 선형함수가 아닌 비선형함수를 1개 이상 사용해야함\n",
    "    * 왜냐하면 히든레이어를 여러 개 다층으로 구성하고 활성화함수로 모두 선형함수를 이용하는 경우\n",
    "    <br> 단층으로 구성한 것과 동일한 내용이기 때문임\n",
    "<img src = './../../images/activation_function.png'>\n",
    "\n",
    "<br>\n",
    "- 이러한 한계를 극복하기 위해서 다양한 활성화함수가 생김\n",
    "\n",
    "- 선형회귀는 -무한대에서 +무한대로 이어지고 선형이라 역전파를 이용해도 값이 계속 유지되는데\n",
    "- 신경망은 0~1 사이의 값이라 어떤 값을 곱하면 계속 값이 변화됨 -> 그래서 이를 극복하기위해 다양한 활성화함수 생성됨\n",
    "- 렐루는 선형이 존재하기 때문에 다른 것들에 비해 분류하기가 좋다. 그래서 많이 사용함\n",
    "- 하지만 0으로 완전히 나오는 기울기가 존재하는데(0,0)일 때, 이를 보완하기 위해 (0,0)을 곡선으로 표현한 소프트플러스라는 함수 생김."
   ]
  },
  {
   "cell_type": "markdown",
   "metadata": {},
   "source": [
    "### 그래프출력 라이브러리 로딩 및 예제데이터 준비"
   ]
  },
  {
   "cell_type": "code",
   "execution_count": 1,
   "metadata": {},
   "outputs": [
    {
     "name": "stdout",
     "output_type": "stream",
     "text": [
      "<class 'numpy.ndarray'> (1200,)\n",
      "[-6.   -5.99 -5.98 ...  5.97  5.98  5.99]\n"
     ]
    }
   ],
   "source": [
    "%matplotlib inline\n",
    "import matplotlib.pylab as plt\n",
    "import numpy as np\n",
    "\n",
    "x = np.arange(-6, 6, 0.01)\n",
    "print(type(x), x.shape)\n",
    "print(x)"
   ]
  },
  {
   "cell_type": "markdown",
   "metadata": {},
   "source": [
    "### 선형 활성화함수"
   ]
  },
  {
   "cell_type": "code",
   "execution_count": 2,
   "metadata": {},
   "outputs": [
    {
     "data": {
      "text/plain": [
       "<matplotlib.legend.Legend at 0x2dd64ea7240>"
      ]
     },
     "execution_count": 2,
     "metadata": {},
     "output_type": "execute_result"
    },
    {
     "data": {
      "image/png": "[encoded data removed]",
      "text/plain": [
       "<Figure size 432x288 with 1 Axes>"
      ]
     },
     "metadata": {
      "needs_background": "light"
     },
     "output_type": "display_data"
    }
   ],
   "source": [
    "# 일반 선형함수\n",
    "plt.plot(x, x, linestyle='--', label=\"identity\")\n",
    "\n",
    "# a기울기(1.5), Y절편b(1)을 가진 선형함수 \n",
    "plt.plot(x, 1.5 * x + 1, linestyle='--', label=\"linear\")\n",
    "\n",
    "plt.legend() "
   ]
  },
  {
   "cell_type": "markdown",
   "metadata": {},
   "source": [
    "### 계단형 활성화함수\n",
    "* 선형함수의 결과를 이진분류로 나타내기 위한 함수로 특정값 이상일 경우 1 또는 0을 출력함\n",
    "* 인공신경망에 계단함수의 성질을 넣어 주고 싶을 때 사용함"
   ]
  },
  {
   "cell_type": "code",
   "execution_count": 3,
   "metadata": {},
   "outputs": [
    {
     "data": {
      "text/plain": [
       "<matplotlib.legend.Legend at 0x2dd64f53550>"
      ]
     },
     "execution_count": 3,
     "metadata": {},
     "output_type": "execute_result"
    },
    {
     "data": {
      "image/png": "[encoded data removed]",
      "text/plain": [
       "<Figure size 432x288 with 1 Axes>"
      ]
     },
     "metadata": {
      "needs_background": "light"
     },
     "output_type": "display_data"
    }
   ],
   "source": [
    "# 일반 계단함수(binarystep)\n",
    "plt.plot(x, (x>=0)*1, linestyle='--', label=\"binary step\")\n",
    "\n",
    "# 부호함수(sign function)\n",
    "plt.plot(x, (x>=0)*1 + (x<=0)*-1, linestyle='--', label=\"sign function\") \n",
    "\n",
    "plt.legend() "
   ]
  },
  {
   "cell_type": "markdown",
   "metadata": {},
   "source": [
    "### Sigmoid 계열 활성화함수\n",
    "1. 시그모이드 함수(sigmoid)\n",
    "    * 선형함수의 결과를 0~1까지의 비선형 형태로 변형하기 위한 함수로 로지스틱회귀와 같이 이진분류문제에서 각각이 선택될 확률을 표현해 줌\n",
    "    * 그래프의 양 극단에서는 x값이 변하더라도, y값의 변화가 크지 않는데, \n",
    "    <br>학습에 사용되는 x값의 변화량 대비 y값의 변화량(gradient)이 매우 작아서 학습이 매우 더디게 진행되는 문제점이 있음 \n",
    "    * 깊이가 깊어질수록 데이터의 양극화가 심해지고, 결과값이 항상 양수이기 때문에, gradient값이 부호 편향적이게 됨\n",
    "    * 1보다 항상 작기 때문에, 신경망이 깊어질수록 오차역전파 과정동안 끊임없이 작아져 기울기가 소실 되는 문제가 있음\n",
    "    * exp함수를 사용하기 때문에, 컴퓨터가 이를 계산하는 과정이 다른 선형 함수들에 비해 매우 느리다는 문제점 있음<pre>\n",
    "* 하이퍼볼릭 탄젠트(hyperbolic tangent, tanh) 함수\n",
    "    * 선형함수의 결과를 비선형 형태로 변형한 것으로 시그모이드 함수범위를 -1~1로 확장해 미분의 값의 범위를 넓힘\n",
    "    * 시그모이드에서 결과값의 평균이 0이 아닌(결과값이 양수로 편향된) 문제를 해결했으나 \n",
    "    <br>여전히 1보다 작은 값으로 인해 기울기소실이나 극단적인 데이터, 매우작은 gradient값 문제 등이 해결되지 못함"
   ]
  },
  {
   "cell_type": "code",
   "execution_count": 4,
   "metadata": {},
   "outputs": [
    {
     "data": {
      "text/plain": [
       "<matplotlib.legend.Legend at 0x2dd64fd7940>"
      ]
     },
     "execution_count": 4,
     "metadata": {},
     "output_type": "execute_result"
    },
    {
     "data": {
      "image/png": "[encoded data removed]",
      "text/plain": [
       "<Figure size 432x288 with 1 Axes>"
      ]
     },
     "metadata": {
      "needs_background": "light"
     },
     "output_type": "display_data"
    }
   ],
   "source": [
    "# Soft step (= Logistic), 시그모이드(Sigmoid, S자모양) 대표적인 함수\n",
    "plt.plot(x, 1 / (1 + np.exp(-x)), linestyle='--', label=\"Soft step (= Logistic)\")\n",
    " \n",
    "# TanH 함수\n",
    "plt.plot(x, np.tanh(x), linestyle='--', label=\"TanH\")\n",
    " \n",
    "# ArcTan 함수\n",
    "plt.plot(x, np.arctan(x), linestyle='--', label=\"ArcTan\")\n",
    "\n",
    "# Softsign 함수\n",
    "plt.plot(x, x / ( 1+ np.abs(x) ), linestyle='--', label=\"Softsign\")\n",
    "\n",
    "plt.legend() "
   ]
  },
  {
   "cell_type": "markdown",
   "metadata": {},
   "source": [
    "### ReLU 계열 활성화함수\n",
    "1. 렐루(ReLU: Rectified Linear Unit Function)\n",
    "    * F(x) - max(0, x) 형태로 양수일 때는 x, 음수일 때는 0을 출력하는 함수\n",
    "    * 선형이기 때문에 경사하강시 다른 활성화 함수에 비해 연산이 간단하고 빨라 학습속도가 높음\n",
    "    * 선형함수 형태라 1보다 큰 영역에서는 매우 작은 gradient값이라도 다음 레이어로 그대로 전달이 됨\n",
    "    * 선형함수 형태이지만 다층 신경망에 여러 개의 ReLu 함수가 들어가게 되면, 비선형 함수와 비슷한 모습을 가지게 됨\n",
    "    * 반면에, 급격한 학습속도로 경사하강시 특정 노드의 파라미터가 0이 되는 경우에 \n",
    "    <br>해당 가중치는 학습이 완료되는 순간까지 0으로 남기 때문에 학습이 이루어지지 않게됨 <pre>\n",
    "* 리키 렐루(Leaky ReLU)\n",
    "    * ReLU의 연산이 빠르고 학습속도가 높다는 장점을 가지면서, ReLU가 0에 빠져버리는 문제를 해결함\n",
    "    * 0보다 작은 영역에서 0이 아닌 매주 작은 x에 비례하는 값을 가지도록해 0이하의 가중치들이 0이되어 학습이 중단되는 현상을 해결함"
   ]
  },
  {
   "cell_type": "code",
   "execution_count": 5,
   "metadata": {},
   "outputs": [
    {
     "data": {
      "text/plain": [
       "<matplotlib.legend.Legend at 0x2dd65050dd8>"
      ]
     },
     "execution_count": 5,
     "metadata": {},
     "output_type": "execute_result"
    },
    {
     "data": {
      "image/png": "[encoded data removed]",
      "text/plain": [
       "<Figure size 432x288 with 1 Axes>"
      ]
     },
     "metadata": {
      "needs_background": "light"
     },
     "output_type": "display_data"
    }
   ],
   "source": [
    "# ReLU(Rectified Linear Unit, 정류된 선형 유닛) 함수\n",
    "plt.plot(x, (x>0)*x, linestyle='--', label=\"ReLU\")\n",
    " \n",
    "# Leaky ReLU(Rectified Linear Unit, 정류된 선형 유닛) 함수\n",
    "plt.plot(x, (x>=0)*x + (x<0)*0.01*x, linestyle='--', label=\"Leaky ReLU\")\n",
    " \n",
    "# ELU(Exponential linear unit)\n",
    "plt.plot(x, (x>=0)*x + (x<0)*0.01*(np.exp(x)-1), linestyle='--', label=\"ELU(Exponential linear unit)\")\n",
    " \n",
    "# Thresholded ReLU\n",
    "plt.plot(x,(x>1)*x, linestyle='--', label=\"Thresholded ReLU\")\n",
    "\n",
    "plt.legend() "
   ]
  },
  {
   "cell_type": "markdown",
   "metadata": {},
   "source": [
    "### 기타 계열 활성화함수\n",
    "* 소프트플러스(softplus)는 렐루의 0이 되는 순간을 완화시킴"
   ]
  },
  {
   "cell_type": "code",
   "execution_count": 6,
   "metadata": {},
   "outputs": [
    {
     "data": {
      "text/plain": [
       "<matplotlib.legend.Legend at 0x2dd650d45c0>"
      ]
     },
     "execution_count": 6,
     "metadata": {},
     "output_type": "execute_result"
    },
    {
     "data": {
      "image/png": "[encoded data removed]",
      "text/plain": [
       "<Figure size 432x288 with 1 Axes>"
      ]
     },
     "metadata": {
      "needs_background": "light"
     },
     "output_type": "display_data"
    }
   ],
   "source": [
    "# SoftPlus 함수\n",
    "plt.plot(x, np.log( 1 + np.exp(x) ), linestyle='--', label=\"SoftPlus\")\n",
    "\n",
    "# Bent identity\n",
    "plt.plot(x, (np.sqrt(x*x+1)-1)/2+x, linestyle='--', label=\"Bent identity\")\n",
    "\n",
    "# Gaussian\n",
    "plt.plot(x, np.exp(-x*x), linestyle='--', label=\"Gaussian\")\n",
    " \n",
    "plt.ylim(-5, 5)\n",
    "plt.legend() "
   ]
  },
  {
   "cell_type": "markdown",
   "metadata": {},
   "source": [
    "# <font color = blue>고급 경사하강법(최적화 함수)</font>"
   ]
  },
  {
   "cell_type": "markdown",
   "metadata": {},
   "source": [
    "### 신경망의 학습속도와 정확도 문제를 보다 개선시키기 위한 최적화함수(Optimizer)\n",
    "1. 기존 경사하강법\n",
    "    * 매번 오차를 수정하고 가중치를 최적화 하기 위해서 전체 데이터 노드를 미분해야 하므로 계산량이 매우 많다는 단점이 있음\n",
    "    * 많은 계산량으로 인해 학습속도를 느리게 하고, 최적해를 찾기 전에 최적화 과정이 멈출 가능성도 있음<pre>\n",
    "* 확률적 경사하강법(SGD: Stochastic Gradient Descent) --> 속도개선\n",
    "    * 전체 데이터를 사용하는 것이 아니라 랜덤하게 추출한 일부 데이터를 사용하는 방식으로\n",
    "    <br>학습속도가 빠르며, 더 자주 가중치 최적화 업데이트가 가능해짐\n",
    "    * 하지만 급격한 변곡점이 있는 경우 지역최적값에 빠질 가능성이 있음\n",
    "    * 하지만 파라미터 공간에 수많은 급격한 변곡점인 지역적인 홀(hole)들이 존재하는 경우 \n",
    "    <br>지역적인 해/최소값(local minima)에 빠져 전역적인 해/최소값(global minimum)를 찾기 힘들게 되는 문제점이 있음\n",
    "<img src = './../../images/sgd.png'>"
   ]
  },
  {
   "cell_type": "markdown",
   "metadata": {},
   "source": [
    "3. 모멘텀 확률적 경사하강법(Momentum SGD) --> 정확도 개선\n",
    "    * 경사하강법처럼 매번 기울기를 구하지만 \n",
    "    <br>오차를 수정하기 바로 직전의 오차수정값과 방향(+, -)을 참고하여 같은 방향으로 일정한 비율만 수정되도록 함\n",
    "    * 오차수정방향이 양수(+)방향으로 한번, 음수(-)방향으로 한번 지그재그로 일어나는 현상이 줄어듦\n",
    "    * 이전 이동 값을 고려해 일정비율만큼 다음 수정값을 결정하므로 관성/탄력/가속도(momentum) 효과를 낼 수 있음\n",
    "<img src = './../../images/momentum_sgd.png'>"
   ]
  },
  {
   "cell_type": "markdown",
   "metadata": {},
   "source": [
    "4. 네스테로프 모멘텀(NAG: Nesterov Accelrated Gradient) --> 정확도 개선\n",
    "    * 기존 모멘텀 방식은 momentum값과 gradient값이 더해저 실제(actual)값을 만드는 방식임\n",
    "    * 네스테로프 모멘텀은 momentum값이 적용된 지점에서 gradient값이 계산됨\n",
    "    * 기울기가 이동될 방향을 한단계 미리 예측하고 해당 방향으로 얼마간 미리 이동한 뒤 \n",
    "    <br>gradient를 계산하므로 불필요한 이동을 줄이는 효과가 있음<pre>\n",
    "* 아다그라드(Adagrad: Adaptive Gradient) --> 학습률 개선\n",
    "    * 기존가중치(W) 벡터의 하나의 값(w)인 변수의 업데이트 횟수에 따라 학습률(Learning rate)를 조절하는 옵션이 추가된 최적화 방법\n",
    "    * 많이 변화하지 않은 변수들은 학습률(step size)를 크게하고, 반대로 많이 변화한 변수들에 대해서는 학습률을 적게함\n",
    "    * 많이 변화한 변수는 최적값에 근접했을 것이라는 가정하에 학습률을 작은 크기로 이동하면서 세밀한 값을 조정하고, \n",
    "        <br>반대로 적게 변화한 변수들은 학습률을 크게하여 빠르게 loss값을 줄이는 방법임<pre>\n",
    "* 알엠에스프롭(RMSprop) --> 학습률 개선\n",
    "    * 아다그라드의 학습률 민감도를 보완한 방법\n",
    "    * 아다그라드의 도출 값이 무한히 커지는 것을 방지하고자 지수 이동평균을 이용한 방법임\n",
    "    * 최근 값을 더 잘 반영하기 위해 최근 값에 값과 이전 값에 각각 가중치를 주어 계산한는 방법임<pre>\n",
    "* 아담(Adam: Adaptive Moment Estimation) --> 정확도와 학습률 개선\n",
    "    * Adam은 Momentum과 RMSprop를 합친 경사 하강법으로 RMSprop의 특징인 gradient의 제곱을 지수평균한 값을 사용함 \n",
    "    * Momentum의 특징으로 gradient를 제곱하지 않은 값을 사용하여 지수평균을 구하고 수식에 활용함\n",
    "    * 현재 가장많이 사용되는 고급 경사하강기법임<pre>\n",
    "* 아다델타(AdaDelta: Adaptive Delta) --> 정확도와 학습률 개선\n",
    "    * AdaDelta는 Adagrad, RMSprop, Momentum 모두를 합친 경사하강법임\n",
    "    * Adagrad 특징인 모든 step의 gradient 제곱의 합을 window size를 두어 window size만큼의 합으로 변경하며, \n",
    "    <br>이후 RMSprop과 똑같이 지수이동평균을 적용함 \n",
    "    * 이어서 헤시안(Hessian) 근사법(Approximation)을 이용한 단위(Units) 수정을 진행함"
   ]
  },
  {
   "cell_type": "markdown",
   "metadata": {},
   "source": [
    "### 학습률(속도)와 정확도 개선을 위한 고급 경사하강기법(optimizer) 계통도"
   ]
  },
  {
   "cell_type": "markdown",
   "metadata": {},
   "source": [
    "<img src = './../../images/various_gd.png'>"
   ]
  },
  {
   "cell_type": "markdown",
   "metadata": {},
   "source": [
    "# End of Source"
   ]
  }
 ],
 "metadata": {
  "kernelspec": {
   "display_name": "Python 3",
   "language": "python",
   "name": "python3"
  },
  "language_info": {
   "codemirror_mode": {
    "name": "ipython",
    "version": 3
   },
   "file_extension": ".py",
   "mimetype": "text/x-python",
   "name": "python",
   "nbconvert_exporter": "python",
   "pygments_lexer": "ipython3",
   "version": "3.7.7"
  }
 },
 "nbformat": 4,
 "nbformat_minor": 2
}
