{
 "cells": [
  {
   "cell_type": "markdown",
   "metadata": {},
   "source": [
    "# 예제데이터 생성"
   ]
  },
  {
   "cell_type": "code",
   "execution_count": 25,
   "metadata": {},
   "outputs": [
    {
     "name": "stdout",
     "output_type": "stream",
     "text": [
      "<class 'numpy.ndarray'>\n"
     ]
    },
    {
     "data": {
      "text/plain": [
       "array([-63,  40, -28,  37,  33, -21,  92,  44,  29, -29,  34, -75,  78,\n",
       "       -80,   1,  46,  39,  56,  57,  42, -50, -32,  -4, -14,  41,  37,\n",
       "       -93, -37, -39, -78, -43, -99,  28, -40, -92,  41,  15,  75,  21,\n",
       "       -70, -29,  31,  98,  49, -51, -43, -97,  96, -76, -57])"
      ]
     },
     "execution_count": 25,
     "metadata": {},
     "output_type": "execute_result"
    }
   ],
   "source": [
    "# numpy 패키지의 random모듈을 활용한 무작위 숫자발생\n",
    "import numpy as np\n",
    "\n",
    "# 무작위 재현성을 위한 시드넘버 생성\n",
    "np.random.seed(1)\n",
    "\n",
    "# -100에서 100까지 50개의 무작위 정수생성\n",
    "tmp = np.random.randint(-100, 100, 50)\n",
    "print(type(tmp))\n",
    "tmp"
   ]
  },
  {
   "cell_type": "code",
   "execution_count": 2,
   "metadata": {},
   "outputs": [
    {
     "name": "stdout",
     "output_type": "stream",
     "text": [
      "<class 'numpy.ndarray'>\n"
     ]
    },
    {
     "data": {
      "text/plain": [
       "array([ -63,  -23,  -51,  -14,   19,   -2,   90,  134,  163,  134,  168,\n",
       "         93,  171,   91,   92,  138,  177,  233,  290,  332,  282,  250,\n",
       "        246,  232,  273,  310,  217,  180,  141,   63,   20,  -79,  -51,\n",
       "        -91, -183, -142, -127,  -52,  -31, -101, -130,  -99,   -1,   48,\n",
       "         -3,  -46, -143,  -47, -123, -180], dtype=int32)"
      ]
     },
     "execution_count": 2,
     "metadata": {},
     "output_type": "execute_result"
    }
   ],
   "source": [
    "# 누적합을 통한 시계열 데이터 특성으로 변형\n",
    "data = tmp.cumsum()\n",
    "print(type(data))\n",
    "data"
   ]
  },
  {
   "cell_type": "markdown",
   "metadata": {},
   "source": [
    "# 차트작성시 한글깨짐 현상"
   ]
  },
  {
   "cell_type": "code",
   "execution_count": 3,
   "metadata": {},
   "outputs": [],
   "source": [
    "%matplotlib inline\n",
    "import matplotlib.pyplot as plt"
   ]
  },
  {
   "cell_type": "code",
   "execution_count": 4,
   "metadata": {},
   "outputs": [
    {
     "data": {
      "text/plain": [
       "Text(0, 0.5, '가격')"
      ]
     },
     "execution_count": 4,
     "metadata": {},
     "output_type": "execute_result"
    },
    {
     "data": {
      "image/png": "[encoded data removed]",
      "text/plain": [
       "<Figure size 432x288 with 1 Axes>"
      ]
     },
     "metadata": {
      "needs_background": "light"
     },
     "output_type": "display_data"
    }
   ],
   "source": [
    "plt.plot(range(50), data, 'rs--')\n",
    "# rs--: r(color: red), s(marker: squared), --(line: dashed)\n",
    "# - 색상, 마커, 라인 순으로 옵션설정\n",
    "# - 지정하지 않은 요소가 있으면, 디폴트 값으로 표현됨\n",
    "\n",
    "plt.title('가격변동 추이')\n",
    "plt.ylabel('가격')"
   ]
  },
  {
   "cell_type": "markdown",
   "metadata": {},
   "source": [
    "* 한글폰트를 matplotlib에서 인식을 못해서 제대로 출력되지 못함"
   ]
  },
  {
   "cell_type": "markdown",
   "metadata": {},
   "source": [
    "# 시스템상의 fonts 폴더에 설치된 글꼴 확인"
   ]
  },
  {
   "cell_type": "code",
   "execution_count": 5,
   "metadata": {},
   "outputs": [],
   "source": [
    "# matplotlib패키지의 폰트관리자 모듈 로딩\n",
    "import matplotlib.font_manager as fm"
   ]
  },
  {
   "cell_type": "markdown",
   "metadata": {},
   "source": [
    "### (1) 시스템 폰트 설치경로와 설치파일명 조회"
   ]
  },
  {
   "cell_type": "code",
   "execution_count": 6,
   "metadata": {
    "scrolled": true
   },
   "outputs": [
    {
     "name": "stdout",
     "output_type": "stream",
     "text": [
      "<class 'list'>\n",
      "시스템 폰트 설치경로(설치파일명) 갯수: 608\n"
     ]
    },
    {
     "data": {
      "text/plain": [
       "['C:\\\\Windows\\\\Fonts\\\\wingding.ttf',\n",
       " 'C:\\\\Windows\\\\Fonts\\\\comicbd.ttf',\n",
       " 'C:\\\\WINDOWS\\\\Fonts\\\\KoPubDotumLight.ttf',\n",
       " 'C:\\\\WINDOWS\\\\Fonts\\\\constani.ttf',\n",
       " 'C:\\\\WINDOWS\\\\Fonts\\\\calibri.ttf',\n",
       " 'C:\\\\WINDOWS\\\\Fonts\\\\GARAIT.TTF',\n",
       " 'C:\\\\WINDOWS\\\\Fonts\\\\BOOKOSBI.TTF',\n",
       " 'C:\\\\Windows\\\\Fonts\\\\GARAIT.TTF',\n",
       " 'C:\\\\WINDOWS\\\\Fonts\\\\NanumSquareRoundEB.ttf',\n",
       " 'C:\\\\Windows\\\\Fonts\\\\MG.TTF']"
      ]
     },
     "execution_count": 6,
     "metadata": {},
     "output_type": "execute_result"
    }
   ],
   "source": [
    "# 시스템 폰트 설치경로와 설치파일명 조회\n",
    "sys_fontdir = fm.findSystemFonts(fontpaths = None, fontext='ttf')\n",
    "# - MaC OSX에서는 fm.OSXInstalledFonts()를 사용\n",
    "\n",
    "print(type(sys_fontdir))\n",
    "print('시스템 폰트 설치경로(설치파일명) 갯수:', len(sys_fontdir))\n",
    "\n",
    "# 시스템 폰트 설치경로(설치파일명) 출력\n",
    "sys_fontdir[:10]"
   ]
  },
  {
   "cell_type": "markdown",
   "metadata": {},
   "source": [
    "### (2) 시스템 폰트 공식명칭과 설치파일명 조회"
   ]
  },
  {
   "cell_type": "code",
   "execution_count": 7,
   "metadata": {},
   "outputs": [
    {
     "name": "stdout",
     "output_type": "stream",
     "text": [
      "<class 'list'>\n",
      "시스템 폰트 공식명칭(설치파일명) 갯수: 358\n"
     ]
    },
    {
     "data": {
      "text/plain": [
       "[<Font 'DejaVu Sans Mono' (DejaVuSansMono-Oblique.ttf) oblique normal 400 normal>,\n",
       " <Font 'DejaVu Serif' (DejaVuSerif-BoldItalic.ttf) italic normal bold normal>,\n",
       " <Font 'DejaVu Serif Display' (DejaVuSerifDisplay.ttf) normal normal 400 normal>,\n",
       " <Font 'cmtt10' (cmtt10.ttf) normal normal 400 normal>,\n",
       " <Font 'STIXNonUnicode' (STIXNonUniBolIta.ttf) italic normal bold normal>,\n",
       " <Font 'DejaVu Sans Mono' (DejaVuSansMono-BoldOblique.ttf) oblique normal bold normal>,\n",
       " <Font 'cmr10' (cmr10.ttf) normal normal 400 normal>,\n",
       " <Font 'STIXNonUnicode' (STIXNonUniIta.ttf) italic normal 400 normal>,\n",
       " <Font 'STIXSizeOneSym' (STIXSizOneSymBol.ttf) normal normal bold normal>,\n",
       " <Font 'DejaVu Sans' (DejaVuSans-BoldOblique.ttf) oblique normal bold normal>]"
      ]
     },
     "execution_count": 7,
     "metadata": {},
     "output_type": "execute_result"
    }
   ],
   "source": [
    "# 시스템 폰트 공식명칭과 설치파일명 조회\n",
    "sys_fontname = fm.fontManager.ttflist\n",
    "\n",
    "print(type(sys_fontname))\n",
    "print('시스템 폰트 공식명칭(설치파일명) 갯수:', len(sys_fontname))\n",
    "\n",
    "# 시스템 폰트 공식명칭(설치파일명) 출력\n",
    "sys_fontname[:10]\n",
    "\n",
    "# 앞쪽에 나온 이름이 공식명칭이고 : 괄호안에는 (설치파일명)\n",
    "# <Font '공식명칭' (설치파일명)>"
   ]
  },
  {
   "cell_type": "markdown",
   "metadata": {},
   "source": [
    "### (3) 시스템 상의 폰트 설치경로에서 폰트명만 분리해 조회"
   ]
  },
  {
   "cell_type": "code",
   "execution_count": 8,
   "metadata": {
    "scrolled": true
   },
   "outputs": [
    {
     "name": "stdout",
     "output_type": "stream",
     "text": [
      "<class 'list'>\n",
      "시스템 폰트명 갯수: 358\n"
     ]
    },
    {
     "data": {
      "text/plain": [
       "['DejaVu Sans Mono',\n",
       " 'DejaVu Serif',\n",
       " 'DejaVu Serif Display',\n",
       " 'cmtt10',\n",
       " 'STIXNonUnicode',\n",
       " 'DejaVu Sans Mono',\n",
       " 'cmr10',\n",
       " 'STIXNonUnicode',\n",
       " 'STIXSizeOneSym',\n",
       " 'DejaVu Sans']"
      ]
     },
     "execution_count": 8,
     "metadata": {},
     "output_type": "execute_result"
    }
   ],
   "source": [
    "# 시스템 상의 폰트 설치경로에서 폰트명만 분리해 조회\n",
    "f = [f.name for f in fm.fontManager.ttflist]\n",
    "\n",
    "print(type(f))\n",
    "print('시스템 폰트명 갯수:', len(f))\n",
    "\n",
    "# 시스템 폰트명 출력\n",
    "f[:10]"
   ]
  },
  {
   "cell_type": "markdown",
   "metadata": {},
   "source": [
    "### (4) 나눔고딕 관련 폰트만 조회"
   ]
  },
  {
   "cell_type": "code",
   "execution_count": 9,
   "metadata": {
    "scrolled": true
   },
   "outputs": [
    {
     "data": {
      "text/plain": [
       "[('Nanum Pen Script', 'C:\\\\Windows\\\\Fonts\\\\NanumPen.ttf'),\n",
       " ('NanumGothic', 'C:\\\\Windows\\\\Fonts\\\\NanumGothicLight_0.ttf'),\n",
       " ('NanumSquare', 'C:\\\\Windows\\\\Fonts\\\\NanumSquareL.ttf'),\n",
       " ('NanumGothic', 'C:\\\\WINDOWS\\\\Fonts\\\\나눔고딕Bold.ttf'),\n",
       " ('NanumBarunpen', 'C:\\\\Windows\\\\Fonts\\\\NanumBarunpenR.ttf'),\n",
       " ('NanumSquareRound', 'C:\\\\WINDOWS\\\\Fonts\\\\NanumSquareRoundL.ttf'),\n",
       " ('NanumGothic', 'C:\\\\Windows\\\\Fonts\\\\NanumGothic_0.ttf'),\n",
       " ('NanumGothic', 'C:\\\\WINDOWS\\\\Fonts\\\\\\x7f\\x7f\\x7f\\x7f.TTF'),\n",
       " ('NanumBarunGothic', 'C:\\\\Windows\\\\Fonts\\\\NanumBarunGothicLight.ttf'),\n",
       " ('NanumGothic', 'C:\\\\WINDOWS\\\\Fonts\\\\NanumGothic.ttf'),\n",
       " ('NanumSquareRound', 'C:\\\\WINDOWS\\\\Fonts\\\\NanumSquareRoundB.ttf'),\n",
       " ('Nanum Brush Script', 'C:\\\\WINDOWS\\\\Fonts\\\\NanumBrush.ttf'),\n",
       " ('NanumBarunGothic', 'C:\\\\WINDOWS\\\\Fonts\\\\NanumBarunGothicBold.ttf'),\n",
       " ('NanumBarunGothic', 'C:\\\\Windows\\\\Fonts\\\\NanumBarunGothic_0.ttf'),\n",
       " ('NanumGothic', 'C:\\\\WINDOWS\\\\Fonts\\\\NanumGothicExtraBold.ttf'),\n",
       " ('NanumGothic', 'C:\\\\WINDOWS\\\\Fonts\\\\NanumGothicLight.ttf'),\n",
       " ('NanumMyeongjo', 'C:\\\\Windows\\\\Fonts\\\\NanumMyeongjo_0.ttf'),\n",
       " ('NanumMyeongjo', 'C:\\\\WINDOWS\\\\Fonts\\\\NanumMyeongjoBold.ttf'),\n",
       " ('NanumMyeongjo', 'C:\\\\Windows\\\\Fonts\\\\NanumMyeongjoBold_0.ttf'),\n",
       " ('NanumSquare', 'C:\\\\Windows\\\\Fonts\\\\NanumSquareB.ttf'),\n",
       " ('NanumSquareRound', 'C:\\\\Windows\\\\Fonts\\\\NanumSquareRoundR.ttf'),\n",
       " ('NanumGothic', 'C:\\\\WINDOWS\\\\Fonts\\\\\\x7f\\x7f\\x7f\\x7fEXTRABOLD.TTF'),\n",
       " ('NanumSquare', 'C:\\\\Windows\\\\Fonts\\\\NanumSquareEB.ttf'),\n",
       " ('NanumBarunGothic', 'C:\\\\WINDOWS\\\\Fonts\\\\NanumBarunGothicUltraLight.ttf'),\n",
       " ('NanumMyeongjo', 'C:\\\\WINDOWS\\\\Fonts\\\\NanumMyeongjoExtraBold.ttf'),\n",
       " ('NanumMyeongjo', 'C:\\\\Windows\\\\Fonts\\\\NanumMyeongjoExtraBold_0.ttf'),\n",
       " ('NanumGothic', 'C:\\\\Windows\\\\Fonts\\\\\\x7f\\x7f\\x7f\\x7fBOLD.TTF'),\n",
       " ('NanumSquareRound', 'C:\\\\Windows\\\\Fonts\\\\NanumSquareRoundEB.ttf'),\n",
       " ('NanumSquare', 'C:\\\\Windows\\\\Fonts\\\\NanumSquareR.ttf'),\n",
       " ('NanumBarunGothic', 'C:\\\\WINDOWS\\\\Fonts\\\\NanumBarunGothicBold_0.ttf'),\n",
       " ('NanumBarunpen', 'C:\\\\Windows\\\\Fonts\\\\NanumBarunpenB.ttf'),\n",
       " ('NanumMyeongjo', 'C:\\\\WINDOWS\\\\Fonts\\\\NanumMyeongjo.ttf'),\n",
       " ('NanumBarunGothic', 'C:\\\\WINDOWS\\\\Fonts\\\\NanumBarunGothic.ttf'),\n",
       " ('NanumGothic', 'C:\\\\WINDOWS\\\\Fonts\\\\나눔고딕ExtraBold.ttf'),\n",
       " ('NanumGothic', 'C:\\\\WINDOWS\\\\Fonts\\\\NanumGothicBold.ttf')]"
      ]
     },
     "execution_count": 9,
     "metadata": {},
     "output_type": "execute_result"
    }
   ],
   "source": [
    "# 나눔고딕 관련 폰트만 조회\n",
    "[(f.name, f.fname) for f in fm.fontManager.ttflist if 'Nanum' in f.name]"
   ]
  },
  {
   "cell_type": "markdown",
   "metadata": {},
   "source": [
    "# 작업경로내 fonts 폴더에 준비된 글꼴 확인"
   ]
  },
  {
   "cell_type": "code",
   "execution_count": 10,
   "metadata": {},
   "outputs": [],
   "source": [
    "# 현재 작업경로내 fonts 폴더에 있는 TTF 폰트목록\n",
    "import os"
   ]
  },
  {
   "cell_type": "code",
   "execution_count": 11,
   "metadata": {},
   "outputs": [
    {
     "name": "stdout",
     "output_type": "stream",
     "text": [
      "<class 'list'>\n",
      "사용가능한 작업경로 TTF 폰트 개수: 2\n"
     ]
    },
    {
     "data": {
      "text/plain": [
       "['malgun.ttf', 'NanumPen.ttf']"
      ]
     },
     "execution_count": 11,
     "metadata": {},
     "output_type": "execute_result"
    }
   ],
   "source": [
    "cwd_fontlist = os.listdir(path = './fonts')\n",
    "\n",
    "print(type(cwd_fontlist))\n",
    "print('사용가능한 작업경로 TTF 폰트 개수:', len(cwd_fontlist))\n",
    "\n",
    "# 앞에서 10개 정도 폰트목록 조회\n",
    "cwd_fontlist"
   ]
  },
  {
   "cell_type": "markdown",
   "metadata": {},
   "source": [
    "# <font color = \"blue\">폰트프러퍼티(폰트속성) 설정을 통한 그래프 작성</font>"
   ]
  },
  {
   "cell_type": "code",
   "execution_count": 12,
   "metadata": {},
   "outputs": [],
   "source": [
    "# matplotlib패키지의 pyplot모듈과 font_manager모듈을 각각 별칭으로 로딩함\n",
    "import matplotlib.pyplot as plt # 그래프그리는 모듈\n",
    "import matplotlib.font_manager as fm # 폰트관리 모듈"
   ]
  },
  {
   "cell_type": "markdown",
   "metadata": {},
   "source": [
    "### (1) 그래프 작성시에 사용할 폰트들을 개별적인 폰트프로퍼티로 미리 등록설정함"
   ]
  },
  {
   "cell_type": "code",
   "execution_count": 13,
   "metadata": {},
   "outputs": [
    {
     "name": "stdout",
     "output_type": "stream",
     "text": [
      "C:/Windows/Fonts/malgun.ttf\n",
      "C:/Windows/Fonts/NanumPen.ttf\n",
      "./fonts/malgun.ttf\n",
      "./fonts/NanumPen.ttf\n"
     ]
    }
   ],
   "source": [
    "# matplotlib 그래프 작성시 사용할 폰트프로퍼티 설정\n",
    "# - 시스템에 설치된 폰트 중에서 특정폰트 하나를 선정해 \n",
    "#   개별적인 폰트프로퍼티(FontProperites)로 각각 설정이 가능함 \n",
    "\n",
    "# 시스템의 폰트설치 경로에 있는 폰트선정\n",
    "sys_malgungo = 'C:/Windows/Fonts/malgun.ttf'\n",
    "sys_nanumpen = 'C:/Windows/Fonts/NanumPen.ttf'\n",
    "\n",
    "# 작업경로(cwd) 폰트폴더에 있는 폰트선정\n",
    "cwd_malgungo = './fonts/malgun.ttf'\n",
    "cwd_nanumpen = './fonts/NanumPen.ttf'\n",
    "\n",
    "print(sys_malgungo)\n",
    "print(sys_nanumpen)\n",
    "\n",
    "print(cwd_malgungo)\n",
    "print(cwd_nanumpen)"
   ]
  },
  {
   "cell_type": "code",
   "execution_count": 14,
   "metadata": {},
   "outputs": [
    {
     "name": "stdout",
     "output_type": "stream",
     "text": [
      ":family=sans-serif:style=normal:variant=normal:weight=normal:stretch=normal:file=C:/Windows/Fonts/malgun.ttf:size=14.0\n",
      ":family=sans-serif:style=normal:variant=normal:weight=normal:stretch=normal:file=C:/Windows/Fonts/NanumPen.ttf:size=24.0\n",
      ":family=sans-serif:style=normal:variant=normal:weight=normal:stretch=normal:file=./fonts/malgun.ttf:size=14.0\n",
      ":family=sans-serif:style=normal:variant=normal:weight=normal:stretch=normal:file=./fonts/NanumPen.ttf:size=24.0\n"
     ]
    }
   ],
   "source": [
    "# 선정된 폰트들을 각각 폰트프로퍼티로 설정\n",
    "fsys_malgungo = fm.FontProperties(fname = sys_malgungo, size = 14)\n",
    "fsys_nanumpen = fm.FontProperties(fname = sys_nanumpen, size = 24)\n",
    "\n",
    "fcwd_malgungo = fm.FontProperties(fname = cwd_malgungo, size = 14)\n",
    "fcwd_nanumpen = fm.FontProperties(fname = cwd_nanumpen, size = 24)\n",
    "\n",
    "print(fsys_malgungo)\n",
    "print(fsys_nanumpen)\n",
    "\n",
    "print(fcwd_malgungo)\n",
    "print(fcwd_nanumpen)"
   ]
  },
  {
   "cell_type": "markdown",
   "metadata": {},
   "source": [
    "### (2) 설정된 폰트프로퍼티를 활용해 그래프 작성"
   ]
  },
  {
   "cell_type": "code",
   "execution_count": 15,
   "metadata": {},
   "outputs": [
    {
     "data": {
      "image/png": "[encoded data removed]",
      "text/plain": [
       "<Figure size 432x288 with 1 Axes>"
      ]
     },
     "metadata": {
      "needs_background": "light"
     },
     "output_type": "display_data"
    }
   ],
   "source": [
    "# 기본 그래프 그리기\n",
    "plt.plot(range(50), data, 'rs--', color = 'r')\n",
    "\n",
    "# 그래프 세부묘사\n",
    "plt.xlabel('일자', fontproperties = fsys_malgungo)\n",
    "plt.ylabel('가격', fontproperties = fcwd_malgungo)\n",
    "plt.title('가격변동 추이', fontproperties = fsys_nanumpen)\n",
    "plt.text(x = 35, y = 200, s = \"한글폰트출력\", fontproperties = fcwd_nanumpen)\n",
    "plt.show()\n",
    "\n",
    "# - matplotlib 그래프 작성시에 텍스트를 출력하는 관련 함수마다\n",
    "#  fontproperties 옵션을 사용해 출력대상폰트를 동일하게/다르게 지정할 수 있음\n",
    "# - plt.plot() 함수: title(), xlabel(), ylabel(), legend(), text(), set_title() 등"
   ]
  },
  {
   "cell_type": "markdown",
   "metadata": {},
   "source": [
    "# <font color = \"blue\">전역폰트 설정을 통한 그래프 작성</font>"
   ]
  },
  {
   "cell_type": "markdown",
   "metadata": {},
   "source": [
    "### (1) 현재 사용중인 폰트 기본설정사항 파악"
   ]
  },
  {
   "cell_type": "code",
   "execution_count": 16,
   "metadata": {},
   "outputs": [
    {
     "name": "stdout",
     "output_type": "stream",
     "text": [
      "10.0\n",
      "['sans-serif']\n"
     ]
    }
   ],
   "source": [
    "# 기본 설정 읽기\n",
    "import matplotlib.pyplot as plt\n",
    "\n",
    "# matplotlib에 설정된 폰트관련 기본설정사항 파악\n",
    "print(plt.rcParams['font.size']) # 폰트 사이즈 \n",
    "print(plt.rcParams['font.family']) # 폰트 글꼴"
   ]
  },
  {
   "cell_type": "code",
   "execution_count": 17,
   "metadata": {},
   "outputs": [
    {
     "name": "stdout",
     "output_type": "stream",
     "text": [
      "['DejaVu Serif', 'Bitstream Vera Serif', 'Computer Modern Roman', 'New Century Schoolbook', 'Century Schoolbook L', 'Utopia', 'ITC Bookman', 'Bookman', 'Nimbus Roman No9 L', 'Times New Roman', 'Times', 'Palatino', 'Charter', 'serif']\n",
      "\n",
      "['DejaVu Sans', 'Bitstream Vera Sans', 'Computer Modern Sans Serif', 'Lucida Grande', 'Verdana', 'Geneva', 'Lucid', 'Arial', 'Helvetica', 'Avant Garde', 'sans-serif']\n",
      "\n",
      "['DejaVu Sans Mono', 'Bitstream Vera Sans Mono', 'Computer Modern Typewriter', 'Andale Mono', 'Nimbus Mono L', 'Courier New', 'Courier', 'Fixed', 'Terminal', 'monospace']\n"
     ]
    }
   ],
   "source": [
    "# matplotlib에 설정된 폰트유형 파악\n",
    "print(plt.rcParams['font.serif'])\n",
    "print()\n",
    "print(plt.rcParams['font.sans-serif']) \n",
    "print()\n",
    "print(plt.rcParams['font.monospace']) "
   ]
  },
  {
   "cell_type": "markdown",
   "metadata": {},
   "source": [
    "### (2) 전역폰트로 사용할 폰트글꼴 설정: plt.rcParams이용"
   ]
  },
  {
   "cell_type": "code",
   "execution_count": 18,
   "metadata": {},
   "outputs": [],
   "source": [
    "import matplotlib.pyplot as plt\n",
    "\n",
    "plt.rcParams[\"font.family\"] = 'NanumGothic'\n",
    "plt.rcParams['axes.unicode_minus'] = False\n",
    "plt.rcParams['font.size'] = 16\n",
    "plt.rcParams['xtick.labelsize'] = 12\n",
    "plt.rcParams['ytick.labelsize'] = 12\n",
    "plt.rcParams['axes.labelsize'] = 14\n",
    "\n",
    "# - 레이블에 '-'가 있는 경우 유니코드의 '-'문자를 그대로 출력하면 '-' 부호만 깨져 보이는데, \n",
    "#   이를 방지하기 위해 'axes.unicode_minus' 옵션을 False로 지정함"
   ]
  },
  {
   "cell_type": "code",
   "execution_count": 19,
   "metadata": {},
   "outputs": [
    {
     "data": {
      "image/png": "[encoded data removed]",
      "text/plain": [
       "<Figure size 432x288 with 1 Axes>"
      ]
     },
     "metadata": {
      "needs_background": "light"
     },
     "output_type": "display_data"
    }
   ],
   "source": [
    "# 기본 그래프 그리기\n",
    "plt.plot(range(50), data, 'rs--', color = 'r')\n",
    "\n",
    "# 그래프 세부묘사\n",
    "plt.xlabel('일자')\n",
    "plt.ylabel('가격')\n",
    "plt.title('가격변동 추이')\n",
    "plt.show()\n",
    "\n",
    "# - 그래프 구현시 텍스트를 출력하는 부분에서 \n",
    "#   폰트프로퍼티를 일일이 설정하지 않아도 됨"
   ]
  },
  {
   "cell_type": "markdown",
   "metadata": {},
   "source": [
    "### (3) 전역폰트로 사용할 폰트글꼴 설정: plt.rc 이용"
   ]
  },
  {
   "cell_type": "code",
   "execution_count": 20,
   "metadata": {},
   "outputs": [
    {
     "name": "stdout",
     "output_type": "stream",
     "text": [
      "NanumGothic\n"
     ]
    }
   ],
   "source": [
    "path = 'C:/Windows/Fonts/NanumGothic.ttf'\n",
    "font_name = fm.FontProperties(fname=path, size=50).get_name()\n",
    "print(font_name)\n",
    "plt.rc('font', family=font_name)\n"
   ]
  },
  {
   "cell_type": "code",
   "execution_count": 21,
   "metadata": {},
   "outputs": [
    {
     "data": {
      "image/png": "[encoded data removed]",
      "text/plain": [
       "<Figure size 432x288 with 1 Axes>"
      ]
     },
     "metadata": {
      "needs_background": "light"
     },
     "output_type": "display_data"
    }
   ],
   "source": [
    "# 기본 그래프 그리기\n",
    "plt.plot(range(50), data, 'rs--', color = 'r')\n",
    "\n",
    "# 그래프 세부묘사\n",
    "plt.xlabel('일자')\n",
    "plt.ylabel('가격')\n",
    "plt.title('가격변동 추이')\n",
    "plt.show()"
   ]
  },
  {
   "cell_type": "markdown",
   "metadata": {},
   "source": [
    "# <font color = \"blue\">모든 노트북에서 공통적으로 사용가능한 폰트설정 방법</font>"
   ]
  },
  {
   "cell_type": "markdown",
   "metadata": {},
   "source": [
    "### matplotlib에 설정된 폰트관련 기본설정사항 파악"
   ]
  },
  {
   "cell_type": "code",
   "execution_count": 22,
   "metadata": {
    "scrolled": true
   },
   "outputs": [
    {
     "name": "stdout",
     "output_type": "stream",
     "text": [
      "시스템 운영체제:  Windows-10-10.0.17134-SP0\n",
      "\n",
      "파이썬 버전:  sys.version_info(major=3, minor=6, micro=7, releaselevel='final', serial=0)\n",
      "\n",
      "버전:  3.0.1\n",
      "설치위치:  C:\\Anaconda3\\lib\\site-packages\\matplotlib\\__init__.py\n",
      "설정:  C:\\Users\\databarista\\.matplotlib\n",
      "캐시:  C:\\Users\\databarista\\.matplotlib\n",
      "설정파일:  C:\\Anaconda3\\lib\\site-packages\\matplotlib\\mpl-data\\matplotlibrc\n",
      "데이터경로:  C:\\Anaconda3\\lib\\site-packages\\matplotlib\\mpl-data\n"
     ]
    }
   ],
   "source": [
    "# 실행중인 운영체제 확인\n",
    "import platform\n",
    "print(\"시스템 운영체제: \", platform.platform())\n",
    "print()\n",
    "\n",
    "# 파이썬 버전\n",
    "import sys\n",
    "print(\"파이썬 버전: \", sys.version_info)\n",
    "print()\n",
    "\n",
    "# matplotlib 주요 설치 정보\n",
    "import matplotlib\n",
    "\n",
    "print('버전: ', matplotlib.__version__)\n",
    "print('설치위치: ', matplotlib.__file__)\n",
    "print('설정: ', matplotlib.get_configdir())\n",
    "print('캐시: ', matplotlib.get_cachedir())\n",
    "print('설정파일: ', matplotlib.matplotlib_fname())\n",
    "print('데이터경로: ', matplotlib.get_data_path())"
   ]
  },
  {
   "cell_type": "markdown",
   "metadata": {},
   "source": [
    "# <font color = \"blue\">차트 출력옵션 설정</font>"
   ]
  },
  {
   "cell_type": "markdown",
   "metadata": {},
   "source": [
    "### rcParams을 이용해 차트의 크기와 선의 색, 두께 등의 기본 값 조정가능"
   ]
  },
  {
   "cell_type": "code",
   "execution_count": 23,
   "metadata": {
    "scrolled": true
   },
   "outputs": [],
   "source": [
    "%matplotlib inline\n",
    "import matplotlib.pylab as plt\n",
    "\n",
    "plt.rcParams[\"figure.figsize\"] = (14,4) # 그림의 가로/세로(인치단위) 크기\n",
    "plt.rcParams['lines.linewidth'] = 2 # 선의 두께\n",
    "plt.rcParams['lines.color'] = 'r' # 선의 색상\n",
    "plt.rcParams['axes.grid'] = True # 차트내 격자선 표시여부"
   ]
  },
  {
   "cell_type": "code",
   "execution_count": 24,
   "metadata": {},
   "outputs": [
    {
     "data": {
      "image/png": "[encoded data removed]",
      "text/plain": [
       "<Figure size 1008x288 with 1 Axes>"
      ]
     },
     "metadata": {
      "needs_background": "light"
     },
     "output_type": "display_data"
    }
   ],
   "source": [
    "# 기본 그래프 그리기\n",
    "plt.plot(range(50), data, 'rs--', color = 'r')\n",
    "\n",
    "# 그래프 세부묘사\n",
    "plt.xlabel('일자')\n",
    "plt.ylabel('가격')\n",
    "plt.title('가격변동 추이')\n",
    "plt.show()"
   ]
  },
  {
   "cell_type": "markdown",
   "metadata": {},
   "source": [
    "* 설정파일이 존재하는 실제폴더에서 matplotlibrc라는 파일을 메모장으로 오픈함\n",
    "* font.family라는 키워드로 검색해서 해당위치를 찾음\n",
    "* font.family: NanumGothic 으로 수정해 저장함\n",
    "* 주피터 노트북을 재실행하면 이 설정파일이 로딩되면서 지정한 폰트로 사용가능함"
   ]
  },
  {
   "cell_type": "markdown",
   "metadata": {},
   "source": [
    "# End of Source"
   ]
  }
 ],
 "metadata": {
  "kernelspec": {
   "display_name": "Python 3",
   "language": "python",
   "name": "python3"
  },
  "language_info": {
   "codemirror_mode": {
    "name": "ipython",
    "version": 3
   },
   "file_extension": ".py",
   "mimetype": "text/x-python",
   "name": "python",
   "nbconvert_exporter": "python",
   "pygments_lexer": "ipython3",
   "version": "3.6.7"
  }
 },
 "nbformat": 4,
 "nbformat_minor": 2
}
