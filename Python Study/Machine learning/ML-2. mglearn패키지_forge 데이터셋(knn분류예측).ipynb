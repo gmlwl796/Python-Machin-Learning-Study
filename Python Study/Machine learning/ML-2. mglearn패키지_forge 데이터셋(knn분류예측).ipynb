{
 "cells": [
  {
   "cell_type": "markdown",
   "metadata": {},
   "source": [
    "# mglearn(뮐가런) 예제데이터셋: <font color = red>forge</font> (분류예측용)"
   ]
  },
  {
   "cell_type": "markdown",
   "metadata": {},
   "source": [
    "## (1) mglearn <font color = blue>패키지(라이브러리)</font> 통째로 로딩"
   ]
  },
  {
   "cell_type": "code",
   "execution_count": 65,
   "metadata": {},
   "outputs": [],
   "source": [
    "# mglearn(뮐가런) 패키지의 모든 모듈을 메모리로 로딩\n",
    "import mglearn\n",
    "# - import mglearn as mg 처럼 별칭을 사용해서 로딩한다면, \n",
    "#   이후 과정은 mglearn 대신에 mg로 사용해야함"
   ]
  },
  {
   "cell_type": "code",
   "execution_count": 21,
   "metadata": {},
   "outputs": [
    {
     "ename": "SyntaxError",
     "evalue": "invalid syntax (<ipython-input-21-8583186db3c7>, line 3)",
     "output_type": "error",
     "traceback": [
      "\u001b[1;36m  File \u001b[1;32m\"<ipython-input-21-8583186db3c7>\"\u001b[1;36m, line \u001b[1;32m3\u001b[0m\n\u001b[1;33m    mglearn.\u001b[0m\n\u001b[1;37m             ^\u001b[0m\n\u001b[1;31mSyntaxError\u001b[0m\u001b[1;31m:\u001b[0m invalid syntax\n"
     ]
    }
   ],
   "source": [
    "# (실행하지 않고, 점(.)다음에 탭키를 눌러보기) \n",
    "# 탭키를 눌러보기)mglearn 패키지에 속한 모듈-메서드 확인 방법\n",
    "mglearn. \n",
    "# - mglearn 패키지의 모듈 목록을 볼 수 있음\n",
    "mglearn.datasets. \n",
    "# - datasets모듈에 속한 다양한 메서드 중에서 \n",
    "#   load_OOO이라는 메서드를 이용해 예제데이터셋을 로딩 할 수 있음\n",
    "#   make_OOO이라는 메서드를 이용해 예제데이터셋을 생성 할 수 있음"
   ]
  },
  {
   "cell_type": "code",
   "execution_count": 66,
   "metadata": {},
   "outputs": [
    {
     "name": "stderr",
     "output_type": "stream",
     "text": [
      "C:\\Anaconda3\\lib\\site-packages\\sklearn\\utils\\deprecation.py:77: DeprecationWarning: Function make_blobs is deprecated; Please import make_blobs directly from scikit-learn\n",
      "  warnings.warn(msg, category=DeprecationWarning)\n"
     ]
    },
    {
     "data": {
      "text/plain": [
       "(array([[ 9.96346605,  4.59676542],\n",
       "        [11.0329545 , -0.16816717],\n",
       "        [11.54155807,  5.21116083],\n",
       "        [ 8.69289001,  1.54322016],\n",
       "        [ 8.1062269 ,  4.28695977],\n",
       "        [ 8.30988863,  4.80623966],\n",
       "        [11.93027136,  4.64866327],\n",
       "        [ 9.67284681, -0.20283165],\n",
       "        [ 8.34810316,  5.13415623],\n",
       "        [ 8.67494727,  4.47573059],\n",
       "        [ 9.17748385,  5.09283177],\n",
       "        [10.24028948,  2.45544401],\n",
       "        [ 8.68937095,  1.48709629],\n",
       "        [ 8.92229526, -0.63993225],\n",
       "        [ 9.49123469,  4.33224792],\n",
       "        [ 9.25694192,  5.13284858],\n",
       "        [ 7.99815287,  4.8525051 ],\n",
       "        [ 8.18378052,  1.29564214],\n",
       "        [ 8.7337095 ,  2.49162431],\n",
       "        [ 9.32298256,  5.09840649],\n",
       "        [10.06393839,  0.99078055],\n",
       "        [ 9.50048972, -0.26430318],\n",
       "        [ 8.34468785,  1.63824349],\n",
       "        [ 9.50169345,  1.93824624],\n",
       "        [ 9.15072323,  5.49832246],\n",
       "        [11.563957  ,  1.3389402 ]]),\n",
       " array([1, 0, 1, 0, 0, 1, 1, 0, 1, 1, 1, 1, 0, 0, 1, 1, 1, 0, 0, 1, 0, 0,\n",
       "        0, 0, 1, 0]))"
      ]
     },
     "execution_count": 66,
     "metadata": {},
     "output_type": "execute_result"
    }
   ],
   "source": [
    "# mglearn 패키지의 datasets 모듈에 속한 forge 데이터셋 생성\n",
    "forge = mglearn.datasets.make_forge()\n",
    "forge"
   ]
  },
  {
   "cell_type": "markdown",
   "metadata": {},
   "source": [
    "## (2) mglearn 패키지 중 <font color = blue>예제데이터셋 모듈</font>을 로딩"
   ]
  },
  {
   "cell_type": "code",
   "execution_count": 67,
   "metadata": {},
   "outputs": [],
   "source": [
    "# mglearn(뮐가런) 패키지에 속한 모듈중에서 datasets 모듈만 메모리로 로딩\n",
    "from mglearn import datasets \n",
    "# - from mglearn import datasets as skd처럼 별칭을 사용해서 로딩한다면,\n",
    "#   이후 과정은 datasets 대신에 skd로 사용해야 함"
   ]
  },
  {
   "cell_type": "code",
   "execution_count": 68,
   "metadata": {},
   "outputs": [
    {
     "ename": "SyntaxError",
     "evalue": "invalid syntax (<ipython-input-68-f6d060e51565>, line 3)",
     "output_type": "error",
     "traceback": [
      "\u001b[1;36m  File \u001b[1;32m\"<ipython-input-68-f6d060e51565>\"\u001b[1;36m, line \u001b[1;32m3\u001b[0m\n\u001b[1;33m    datasets.\u001b[0m\n\u001b[1;37m             ^\u001b[0m\n\u001b[1;31mSyntaxError\u001b[0m\u001b[1;31m:\u001b[0m invalid syntax\n"
     ]
    }
   ],
   "source": [
    "# (실행하지 않고, 점(.)다음에 탭키를 눌러보기) \n",
    "# mglearn 패키지의 datasets 모듈에 속한 메서드 확인 방법\n",
    "datasets.\n",
    "# - 점(.)다음에 탭키를 눌러보자\n",
    "# - datasets모듈에 속한 다양한 메서드 중에서 \n",
    "#   load_OOO이라는 메서드를 이용해 예제데이터셋을 로딩 할 수 있음\n",
    "#   make_OOO이라는 메서드를 이용해 예제데이터셋을 생성 할 수 있음"
   ]
  },
  {
   "cell_type": "code",
   "execution_count": 25,
   "metadata": {},
   "outputs": [
    {
     "name": "stderr",
     "output_type": "stream",
     "text": [
      "C:\\Anaconda3\\lib\\site-packages\\sklearn\\utils\\deprecation.py:77: DeprecationWarning: Function make_blobs is deprecated; Please import make_blobs directly from scikit-learn\n",
      "  warnings.warn(msg, category=DeprecationWarning)\n"
     ]
    },
    {
     "data": {
      "text/plain": [
       "(array([[ 9.96346605,  4.59676542],\n",
       "        [11.0329545 , -0.16816717],\n",
       "        [11.54155807,  5.21116083],\n",
       "        [ 8.69289001,  1.54322016],\n",
       "        [ 8.1062269 ,  4.28695977],\n",
       "        [ 8.30988863,  4.80623966],\n",
       "        [11.93027136,  4.64866327],\n",
       "        [ 9.67284681, -0.20283165],\n",
       "        [ 8.34810316,  5.13415623],\n",
       "        [ 8.67494727,  4.47573059],\n",
       "        [ 9.17748385,  5.09283177],\n",
       "        [10.24028948,  2.45544401],\n",
       "        [ 8.68937095,  1.48709629],\n",
       "        [ 8.92229526, -0.63993225],\n",
       "        [ 9.49123469,  4.33224792],\n",
       "        [ 9.25694192,  5.13284858],\n",
       "        [ 7.99815287,  4.8525051 ],\n",
       "        [ 8.18378052,  1.29564214],\n",
       "        [ 8.7337095 ,  2.49162431],\n",
       "        [ 9.32298256,  5.09840649],\n",
       "        [10.06393839,  0.99078055],\n",
       "        [ 9.50048972, -0.26430318],\n",
       "        [ 8.34468785,  1.63824349],\n",
       "        [ 9.50169345,  1.93824624],\n",
       "        [ 9.15072323,  5.49832246],\n",
       "        [11.563957  ,  1.3389402 ]]),\n",
       " array([1, 0, 1, 0, 0, 1, 1, 0, 1, 1, 1, 1, 0, 0, 1, 1, 1, 0, 0, 1, 0, 0,\n",
       "        0, 0, 1, 0]))"
      ]
     },
     "execution_count": 25,
     "metadata": {},
     "output_type": "execute_result"
    }
   ],
   "source": [
    "# mglearn 패키지의 datasets 모듈에 속한 forge 데이터셋 생성\n",
    "forge = datasets.make_forge()\n",
    "forge"
   ]
  },
  {
   "cell_type": "markdown",
   "metadata": {},
   "source": [
    "## (3) mglearn 패키지의 모듈(함수) 중 <font color = blue>특정 데이터셋 메서드</font>를 로딩"
   ]
  },
  {
   "cell_type": "code",
   "execution_count": 69,
   "metadata": {},
   "outputs": [],
   "source": [
    "# mglearn(뮐가런) 패키지의 datasets 모듈에 속한 특정 메서드(함수)를 메모리로 로딩\n",
    "from mglearn.datasets import make_forge\n",
    "# - 메서드에 대해서는 보통 별칭으로 로딩하지 않음"
   ]
  },
  {
   "cell_type": "code",
   "execution_count": 70,
   "metadata": {
    "scrolled": true
   },
   "outputs": [
    {
     "name": "stderr",
     "output_type": "stream",
     "text": [
      "C:\\Anaconda3\\lib\\site-packages\\sklearn\\utils\\deprecation.py:77: DeprecationWarning: Function make_blobs is deprecated; Please import make_blobs directly from scikit-learn\n",
      "  warnings.warn(msg, category=DeprecationWarning)\n"
     ]
    },
    {
     "data": {
      "text/plain": [
       "(array([[ 9.96346605,  4.59676542],\n",
       "        [11.0329545 , -0.16816717],\n",
       "        [11.54155807,  5.21116083],\n",
       "        [ 8.69289001,  1.54322016],\n",
       "        [ 8.1062269 ,  4.28695977],\n",
       "        [ 8.30988863,  4.80623966],\n",
       "        [11.93027136,  4.64866327],\n",
       "        [ 9.67284681, -0.20283165],\n",
       "        [ 8.34810316,  5.13415623],\n",
       "        [ 8.67494727,  4.47573059],\n",
       "        [ 9.17748385,  5.09283177],\n",
       "        [10.24028948,  2.45544401],\n",
       "        [ 8.68937095,  1.48709629],\n",
       "        [ 8.92229526, -0.63993225],\n",
       "        [ 9.49123469,  4.33224792],\n",
       "        [ 9.25694192,  5.13284858],\n",
       "        [ 7.99815287,  4.8525051 ],\n",
       "        [ 8.18378052,  1.29564214],\n",
       "        [ 8.7337095 ,  2.49162431],\n",
       "        [ 9.32298256,  5.09840649],\n",
       "        [10.06393839,  0.99078055],\n",
       "        [ 9.50048972, -0.26430318],\n",
       "        [ 8.34468785,  1.63824349],\n",
       "        [ 9.50169345,  1.93824624],\n",
       "        [ 9.15072323,  5.49832246],\n",
       "        [11.563957  ,  1.3389402 ]]),\n",
       " array([1, 0, 1, 0, 0, 1, 1, 0, 1, 1, 1, 1, 0, 0, 1, 1, 1, 0, 0, 1, 0, 0,\n",
       "        0, 0, 1, 0]))"
      ]
     },
     "execution_count": 70,
     "metadata": {},
     "output_type": "execute_result"
    }
   ],
   "source": [
    "# make_forge()메서드로 데이터셋 생성시 1개 객체에 할당\n",
    "forge = make_forge()\n",
    "forge"
   ]
  },
  {
   "cell_type": "markdown",
   "metadata": {},
   "source": [
    "# forge 데이터셋 생성"
   ]
  },
  {
   "cell_type": "markdown",
   "metadata": {},
   "source": [
    "## (1) 데이터생성시 1개 객체에 할당"
   ]
  },
  {
   "cell_type": "code",
   "execution_count": 71,
   "metadata": {},
   "outputs": [
    {
     "name": "stderr",
     "output_type": "stream",
     "text": [
      "C:\\Anaconda3\\lib\\site-packages\\sklearn\\utils\\deprecation.py:77: DeprecationWarning: Function make_blobs is deprecated; Please import make_blobs directly from scikit-learn\n",
      "  warnings.warn(msg, category=DeprecationWarning)\n"
     ]
    }
   ],
   "source": [
    "# make_forge()메서드로 데이터셋 생성시 1개 객체에 할당\n",
    "forge = make_forge()"
   ]
  },
  {
   "cell_type": "code",
   "execution_count": 72,
   "metadata": {},
   "outputs": [
    {
     "name": "stdout",
     "output_type": "stream",
     "text": [
      "<class 'tuple'>\n"
     ]
    },
    {
     "data": {
      "text/plain": [
       "(array([[ 9.96346605,  4.59676542],\n",
       "        [11.0329545 , -0.16816717],\n",
       "        [11.54155807,  5.21116083],\n",
       "        [ 8.69289001,  1.54322016],\n",
       "        [ 8.1062269 ,  4.28695977],\n",
       "        [ 8.30988863,  4.80623966],\n",
       "        [11.93027136,  4.64866327],\n",
       "        [ 9.67284681, -0.20283165],\n",
       "        [ 8.34810316,  5.13415623],\n",
       "        [ 8.67494727,  4.47573059],\n",
       "        [ 9.17748385,  5.09283177],\n",
       "        [10.24028948,  2.45544401],\n",
       "        [ 8.68937095,  1.48709629],\n",
       "        [ 8.92229526, -0.63993225],\n",
       "        [ 9.49123469,  4.33224792],\n",
       "        [ 9.25694192,  5.13284858],\n",
       "        [ 7.99815287,  4.8525051 ],\n",
       "        [ 8.18378052,  1.29564214],\n",
       "        [ 8.7337095 ,  2.49162431],\n",
       "        [ 9.32298256,  5.09840649],\n",
       "        [10.06393839,  0.99078055],\n",
       "        [ 9.50048972, -0.26430318],\n",
       "        [ 8.34468785,  1.63824349],\n",
       "        [ 9.50169345,  1.93824624],\n",
       "        [ 9.15072323,  5.49832246],\n",
       "        [11.563957  ,  1.3389402 ]]),\n",
       " array([1, 0, 1, 0, 0, 1, 1, 0, 1, 1, 1, 1, 0, 0, 1, 1, 1, 0, 0, 1, 0, 0,\n",
       "        0, 0, 1, 0]))"
      ]
     },
     "execution_count": 72,
     "metadata": {},
     "output_type": "execute_result"
    }
   ],
   "source": [
    "print(type(forge))\n",
    "# - forge 데이터셋은 튜플객체로 괄호() 안에 2개의 요소가 있으며,\n",
    "#   각 요소는 배열형식임\n",
    "\n",
    "forge\n",
    "# - 첫번째 array(0번 인덱스)에 \n",
    "#   예측(독립)변수에 해당하는 2개 변수컬럼이 2차원 배열로 있음 \n",
    "# - 두번째 array(1번 인덱스)에 \n",
    "#   반응(종속)변수에 해당하는 1개 변수컬럼이 1차원 배열로 있음 "
   ]
  },
  {
   "cell_type": "code",
   "execution_count": 73,
   "metadata": {},
   "outputs": [
    {
     "name": "stdout",
     "output_type": "stream",
     "text": [
      "(26, 2)\n",
      "<class 'numpy.ndarray'>\n",
      "[[ 9.96346605  4.59676542]\n",
      " [11.0329545  -0.16816717]\n",
      " [11.54155807  5.21116083]\n",
      " [ 8.69289001  1.54322016]\n",
      " [ 8.1062269   4.28695977]\n",
      " [ 8.30988863  4.80623966]\n",
      " [11.93027136  4.64866327]\n",
      " [ 9.67284681 -0.20283165]\n",
      " [ 8.34810316  5.13415623]\n",
      " [ 8.67494727  4.47573059]\n",
      " [ 9.17748385  5.09283177]\n",
      " [10.24028948  2.45544401]\n",
      " [ 8.68937095  1.48709629]\n",
      " [ 8.92229526 -0.63993225]\n",
      " [ 9.49123469  4.33224792]\n",
      " [ 9.25694192  5.13284858]\n",
      " [ 7.99815287  4.8525051 ]\n",
      " [ 8.18378052  1.29564214]\n",
      " [ 8.7337095   2.49162431]\n",
      " [ 9.32298256  5.09840649]\n",
      " [10.06393839  0.99078055]\n",
      " [ 9.50048972 -0.26430318]\n",
      " [ 8.34468785  1.63824349]\n",
      " [ 9.50169345  1.93824624]\n",
      " [ 9.15072323  5.49832246]\n",
      " [11.563957    1.3389402 ]]\n"
     ]
    }
   ],
   "source": [
    "# forge 튜플객체의 0번 인덱스(첫번째 array) 내용\n",
    "X = forge[0]\n",
    "print(X.shape)\n",
    "print(type(X))\n",
    "print(X)"
   ]
  },
  {
   "cell_type": "code",
   "execution_count": 74,
   "metadata": {},
   "outputs": [
    {
     "name": "stdout",
     "output_type": "stream",
     "text": [
      "(26,)\n",
      "<class 'numpy.ndarray'>\n",
      "[1 0 1 0 0 1 1 0 1 1 1 1 0 0 1 1 1 0 0 1 0 0 0 0 1 0]\n"
     ]
    }
   ],
   "source": [
    "# forge 튜플객체의 1번 인덱스(두번째 array) 내용\n",
    "y = forge[1]\n",
    "print(y.shape)\n",
    "print(type(y))\n",
    "print(y)"
   ]
  },
  {
   "cell_type": "markdown",
   "metadata": {},
   "source": [
    "## (2) 데이터생성시 2개 객체에 할당"
   ]
  },
  {
   "cell_type": "code",
   "execution_count": 75,
   "metadata": {},
   "outputs": [
    {
     "name": "stderr",
     "output_type": "stream",
     "text": [
      "C:\\Anaconda3\\lib\\site-packages\\sklearn\\utils\\deprecation.py:77: DeprecationWarning: Function make_blobs is deprecated; Please import make_blobs directly from scikit-learn\n",
      "  warnings.warn(msg, category=DeprecationWarning)\n"
     ]
    }
   ],
   "source": [
    "# make_forge()메서드로 데이터셋 생성시 2개 객체에 동시할당\n",
    "X, y = make_forge()\n",
    "# - 2차원 배열로 있는 예측(독립)변수 데이터셋을 대문자 X에 할당\n",
    "# - 1차원 배열로 있는 반응(종속)변수 데이터셋을 소문자 y에 할당"
   ]
  },
  {
   "cell_type": "code",
   "execution_count": 76,
   "metadata": {},
   "outputs": [
    {
     "name": "stdout",
     "output_type": "stream",
     "text": [
      "예측(독립)변수 데이터셋 형식: <class 'numpy.ndarray'>\n",
      "예측(독립)변수 데이터셋 규모: (26, 2) \n",
      "\n",
      "예측(독립)변수 데이터셋 전체내용:\n",
      " [[ 9.96346605  4.59676542]\n",
      " [11.0329545  -0.16816717]\n",
      " [11.54155807  5.21116083]\n",
      " [ 8.69289001  1.54322016]\n",
      " [ 8.1062269   4.28695977]\n",
      " [ 8.30988863  4.80623966]\n",
      " [11.93027136  4.64866327]\n",
      " [ 9.67284681 -0.20283165]\n",
      " [ 8.34810316  5.13415623]\n",
      " [ 8.67494727  4.47573059]\n",
      " [ 9.17748385  5.09283177]\n",
      " [10.24028948  2.45544401]\n",
      " [ 8.68937095  1.48709629]\n",
      " [ 8.92229526 -0.63993225]\n",
      " [ 9.49123469  4.33224792]\n",
      " [ 9.25694192  5.13284858]\n",
      " [ 7.99815287  4.8525051 ]\n",
      " [ 8.18378052  1.29564214]\n",
      " [ 8.7337095   2.49162431]\n",
      " [ 9.32298256  5.09840649]\n",
      " [10.06393839  0.99078055]\n",
      " [ 9.50048972 -0.26430318]\n",
      " [ 8.34468785  1.63824349]\n",
      " [ 9.50169345  1.93824624]\n",
      " [ 9.15072323  5.49832246]\n",
      " [11.563957    1.3389402 ]] \n",
      "\n",
      "예측(독립)변수 데이터셋 첫째컬럼:\n",
      " [ 9.96346605 11.0329545  11.54155807  8.69289001  8.1062269   8.30988863\n",
      " 11.93027136  9.67284681  8.34810316  8.67494727  9.17748385 10.24028948\n",
      "  8.68937095  8.92229526  9.49123469  9.25694192  7.99815287  8.18378052\n",
      "  8.7337095   9.32298256 10.06393839  9.50048972  8.34468785  9.50169345\n",
      "  9.15072323 11.563957  ] \n",
      "\n",
      "예측(독립)변수 데이터셋 둘째컬럼:\n",
      " [ 4.59676542 -0.16816717  5.21116083  1.54322016  4.28695977  4.80623966\n",
      "  4.64866327 -0.20283165  5.13415623  4.47573059  5.09283177  2.45544401\n",
      "  1.48709629 -0.63993225  4.33224792  5.13284858  4.8525051   1.29564214\n",
      "  2.49162431  5.09840649  0.99078055 -0.26430318  1.63824349  1.93824624\n",
      "  5.49832246  1.3389402 ] \n",
      "\n"
     ]
    }
   ],
   "source": [
    "# 대문자 X에 할당된 2차원 배열로 있는 예측(독립)변수 데이터셋 내용\n",
    "print('예측(독립)변수 데이터셋 형식:', type(X))\n",
    "print('예측(독립)변수 데이터셋 규모:', X.shape, '\\n')\n",
    "print('예측(독립)변수 데이터셋 전체내용:\\n', X, '\\n')\n",
    "print('예측(독립)변수 데이터셋 첫째컬럼:\\n', X[:, 0], '\\n')\n",
    "print('예측(독립)변수 데이터셋 둘째컬럼:\\n', X[:, 1], '\\n')"
   ]
  },
  {
   "cell_type": "code",
   "execution_count": 77,
   "metadata": {
    "scrolled": true
   },
   "outputs": [
    {
     "name": "stdout",
     "output_type": "stream",
     "text": [
      "예측(독립)변수 데이터셋 전체내용의 기술통계:\n",
      " DescribeResult(nobs=26, minmax=(array([ 7.99815287, -0.63993225]), array([11.93027136,  5.49832246])), mean=array([9.40057246, 2.96426312]), variance=array([1.23092044, 4.33617634]), skewness=array([ 0.885984, -0.323056]), kurtosis=array([-0.10181261, -1.40528736])) \n",
      "\n",
      "예측(독립)변수 데이터셋 첫째컬럼의 기술통계:\n",
      " DescribeResult(nobs=26, minmax=(7.998152872102121, 11.930271360747538), mean=9.400572460969583, variance=1.2309204406552916, skewness=0.8859840026702052, kurtosis=-0.1018126082809716) \n",
      "\n",
      "예측(독립)변수 데이터셋 둘째컬럼의 기술통계:\n",
      " DescribeResult(nobs=26, minmax=(-0.6399322515976771, 5.498322463299331), mean=2.964263123900023, variance=4.336176343346028, skewness=-0.32305600261855916, kurtosis=-1.4052873603197) \n",
      "\n"
     ]
    }
   ],
   "source": [
    "# 대문자 X에 할당된 2차원 배열로 있는 예측(독립)변수 데이터셋의 기술통계\n",
    "import scipy as sp\n",
    "print('예측(독립)변수 데이터셋 전체내용의 기술통계:\\n', sp.stats.describe(X), '\\n')\n",
    "print('예측(독립)변수 데이터셋 첫째컬럼의 기술통계:\\n', sp.stats.describe(X[:, 0]), '\\n')\n",
    "print('예측(독립)변수 데이터셋 둘째컬럼의 기술통계:\\n', sp.stats.describe(X[:, 1]), '\\n')"
   ]
  },
  {
   "cell_type": "code",
   "execution_count": 78,
   "metadata": {},
   "outputs": [
    {
     "name": "stdout",
     "output_type": "stream",
     "text": [
      "반응(종속)변수 데이터셋 형식: <class 'numpy.ndarray'>\n",
      "반응(종속)변수 데이터셋 규모: (26,) \n",
      "\n",
      "반응(종속)변수 데이터셋 전체내용:\n",
      " [1 0 1 0 0 1 1 0 1 1 1 1 0 0 1 1 1 0 0 1 0 0 0 0 1 0] \n",
      "\n"
     ]
    }
   ],
   "source": [
    "# 소문자 y에 할당된 1차원 배열로 있는 반응(종속)변수 데이터셋 내용\n",
    "print('반응(종속)변수 데이터셋 형식:', type(y))\n",
    "print('반응(종속)변수 데이터셋 규모:', y.shape, '\\n')\n",
    "print('반응(종속)변수 데이터셋 전체내용:\\n', y, '\\n')"
   ]
  },
  {
   "cell_type": "code",
   "execution_count": 83,
   "metadata": {},
   "outputs": [
    {
     "name": "stdout",
     "output_type": "stream",
     "text": [
      "반응(종속)변수 데이터셋 전체내용의 기술통계:\n",
      " [13 13] \n",
      "\n",
      "0 13 0.500\n",
      "1 13 0.500\n",
      "\n",
      "0 13 0.500\n",
      "1 13 0.500\n",
      "\n",
      "0 13 0.500\n",
      "1 13 0.500\n"
     ]
    }
   ],
   "source": [
    "# 소문자 y에 할당된 1차원 배열로 있는 반응(종속)변수 데이터셋의 기술통계\n",
    "import numpy as np\n",
    "print('반응(종속)변수 데이터셋 전체내용의 기술통계:\\n', np.bincount(y), '\\n')\n",
    "\n",
    "for k, v in  zip([0, 1], np.bincount(y)): \n",
    "    pct = v / sum(np.bincount(y)) \n",
    "    print(\"%d %d %0.3f\" % (k, v, pct)) \n",
    "    \n",
    "print()\n",
    "\n",
    "for k, v in  zip([0, 1], np.bincount(y)): \n",
    "    pct = v / sum(np.bincount(y)) \n",
    "    print(\"{0} {1} {2:0.3f}\".format(k, v, pct)) \n",
    "    \n",
    "print()\n",
    "\n",
    "for k, v in  zip([0, 1], np.bincount(y)): \n",
    "    pct = v / sum(np.bincount(y)) \n",
    "    print(f\"{k} {v} {pct:0.3f}\") "
   ]
  },
  {
   "cell_type": "markdown",
   "metadata": {},
   "source": [
    "# forge 데이터셋 데이터 탐색"
   ]
  },
  {
   "cell_type": "code",
   "execution_count": 59,
   "metadata": {
    "scrolled": true
   },
   "outputs": [
    {
     "data": {
      "text/plain": [
       "[<matplotlib.lines.Line2D at 0x1941d4c2b00>]"
      ]
     },
     "execution_count": 59,
     "metadata": {},
     "output_type": "execute_result"
    },
    {
     "data": {
      "image/png": "[encoded data removed]",
      "text/plain": [
       "<Figure size 432x288 with 1 Axes>"
      ]
     },
     "metadata": {
      "needs_background": "light"
     },
     "output_type": "display_data"
    }
   ],
   "source": [
    "# 예측데이터셋 전체와 반응데이터셋 간 산점도\n",
    "mglearn.discrete_scatter(X, y)"
   ]
  },
  {
   "cell_type": "code",
   "execution_count": 60,
   "metadata": {},
   "outputs": [
    {
     "data": {
      "text/plain": [
       "[<matplotlib.lines.Line2D at 0x1941d559208>]"
      ]
     },
     "execution_count": 60,
     "metadata": {},
     "output_type": "execute_result"
    },
    {
     "data": {
      "image/png": "[encoded data removed]",
      "text/plain": [
       "<Figure size 432x288 with 1 Axes>"
      ]
     },
     "metadata": {
      "needs_background": "light"
     },
     "output_type": "display_data"
    }
   ],
   "source": [
    "# 예측데이터셋 첫번째 열과 반응데이터셋 간 산점도\n",
    "mglearn.discrete_scatter(X[:, 0], y)"
   ]
  },
  {
   "cell_type": "code",
   "execution_count": 61,
   "metadata": {},
   "outputs": [
    {
     "data": {
      "text/plain": [
       "[<matplotlib.lines.Line2D at 0x1941d5c5400>]"
      ]
     },
     "execution_count": 61,
     "metadata": {},
     "output_type": "execute_result"
    },
    {
     "data": {
      "image/png": "[encoded data removed]",
      "text/plain": [
       "<Figure size 432x288 with 1 Axes>"
      ]
     },
     "metadata": {
      "needs_background": "light"
     },
     "output_type": "display_data"
    }
   ],
   "source": [
    "# 예측데이터셋 두번째 열과 반응데이터셋 간 산점도\n",
    "mglearn.discrete_scatter(X[:, 1], y)"
   ]
  },
  {
   "cell_type": "code",
   "execution_count": 62,
   "metadata": {},
   "outputs": [
    {
     "data": {
      "text/plain": [
       "<matplotlib.font_manager.FontProperties at 0x1941d5ffcf8>"
      ]
     },
     "execution_count": 62,
     "metadata": {},
     "output_type": "execute_result"
    }
   ],
   "source": [
    "%matplotlib inline\n",
    "# matplotlib패키지의 pyplot모듈과 font_manager모듈을 각각 별칭으로 로딩함\n",
    "import matplotlib.pyplot as plt # 그래프 그리는 모듈\n",
    "import matplotlib.font_manager as fm # 폰트관리 모듈\n",
    "\n",
    "# 시스템의 폰트설치 경로에 있는 폰트선정\n",
    "sys_malgungo = 'C:/Windows/Fonts/malgun.ttf'\n",
    "\n",
    "# 선정된 폰트를 폰트프로퍼티로 설정\n",
    "fsys_malgungo = fm.FontProperties(fname = sys_malgungo, size = 14)\n",
    "fsys_malgungo"
   ]
  },
  {
   "cell_type": "code",
   "execution_count": 64,
   "metadata": {
    "scrolled": false
   },
   "outputs": [
    {
     "data": {
      "text/plain": [
       "<matplotlib.legend.Legend at 0x1941d66c9e8>"
      ]
     },
     "execution_count": 64,
     "metadata": {},
     "output_type": "execute_result"
    },
    {
     "data": {
      "image/png": "[encoded data removed]",
      "text/plain": [
       "<Figure size 432x288 with 1 Axes>"
      ]
     },
     "metadata": {
      "needs_background": "light"
     },
     "output_type": "display_data"
    }
   ],
   "source": [
    "# 예측데이터셋의 각 열과 반응데이터셋 간 산점도\n",
    "mglearn.discrete_scatter(X[:, 0], X[:, 1], y)\n",
    "plt.xlabel(\"첫번째 피처\", fontproperties = fsys_malgungo)\n",
    "plt.ylabel(\"두번째 피처\", fontproperties = fsys_malgungo)\n",
    "plt.legend([\"class 0\", \"class 1\"], loc = 4)"
   ]
  },
  {
   "cell_type": "markdown",
   "metadata": {},
   "source": [
    "# 데이터 분할"
   ]
  },
  {
   "cell_type": "markdown",
   "metadata": {},
   "source": [
    "## (1) 데이터분할 내용을 1개 객체에 요소별로 할당하는 방식"
   ]
  },
  {
   "cell_type": "code",
   "execution_count": 101,
   "metadata": {},
   "outputs": [],
   "source": [
    "# 데이터분할 메서드 로딩\n",
    "from sklearn.model_selection import train_test_split\n",
    "# - sklearn 패키지(라이브러리)의 model_selection 모듈 중에서\n",
    "#   train_test_split()이라는 메서드(함수)를 메모로리로 로딩함"
   ]
  },
  {
   "cell_type": "code",
   "execution_count": 102,
   "metadata": {},
   "outputs": [
    {
     "name": "stdout",
     "output_type": "stream",
     "text": [
      "<class 'list'>\n",
      "4\n"
     ]
    },
    {
     "data": {
      "text/plain": [
       "[array([[ 8.92229526, -0.63993225],\n",
       "        [ 8.7337095 ,  2.49162431],\n",
       "        [ 9.32298256,  5.09840649],\n",
       "        [ 7.99815287,  4.8525051 ],\n",
       "        [11.0329545 , -0.16816717],\n",
       "        [ 9.17748385,  5.09283177],\n",
       "        [11.563957  ,  1.3389402 ],\n",
       "        [ 9.15072323,  5.49832246],\n",
       "        [ 8.34810316,  5.13415623],\n",
       "        [11.93027136,  4.64866327],\n",
       "        [ 8.1062269 ,  4.28695977],\n",
       "        [ 8.67494727,  4.47573059],\n",
       "        [ 9.67284681, -0.20283165],\n",
       "        [ 9.50169345,  1.93824624],\n",
       "        [ 8.69289001,  1.54322016],\n",
       "        [ 9.96346605,  4.59676542],\n",
       "        [ 9.50048972, -0.26430318],\n",
       "        [ 9.25694192,  5.13284858],\n",
       "        [ 8.68937095,  1.48709629]]), array([[11.54155807,  5.21116083],\n",
       "        [10.06393839,  0.99078055],\n",
       "        [ 9.49123469,  4.33224792],\n",
       "        [ 8.18378052,  1.29564214],\n",
       "        [ 8.30988863,  4.80623966],\n",
       "        [10.24028948,  2.45544401],\n",
       "        [ 8.34468785,  1.63824349]]), array([0, 0, 1, 1, 0, 1, 0, 1, 1, 1, 0, 1, 0, 0, 0, 1, 0, 1, 0]), array([1, 0, 1, 0, 1, 1, 0])]"
      ]
     },
     "execution_count": 102,
     "metadata": {},
     "output_type": "execute_result"
    }
   ],
   "source": [
    "# 데이터분할 메서드를 활용해 데이터분할 실시\n",
    "forge_split = train_test_split(X, y, random_state = 0)\n",
    "# - 분할된 데이터셋을 하나의 객체에 한꺼번에 저장해 놓음\n",
    "\n",
    "print(type(forge_split)) \n",
    "# - 객체유형은 리스트임\n",
    "\n",
    "print(len(forge_split)) \n",
    "# - 분할된 리스트객체에 4개 요소로 구성됨\n",
    "\n",
    "forge_split\n",
    "# - 분할된 내용은 리스트객체이며, 4가지 요소별로 \n",
    "# 배열형식으로 데이터분할이 되었음을 알 수 있음 "
   ]
  },
  {
   "cell_type": "code",
   "execution_count": 103,
   "metadata": {},
   "outputs": [],
   "source": [
    "# 4개 리스트 요소를 세부 데이터셋으로 할당\n",
    "X_train = forge_split[0] # 예측(독립)변수의 훈련용 데이터셋\n",
    "X_test = forge_split[1] # 예측(독립)변수의 테스트용 데이터셋\n",
    "\n",
    "y_train = forge_split[2] # 반응(종속)변수의 훈련용 데이터셋\n",
    "y_test = forge_split[3] # 반응(종속)변수의 테스트용 데이터셋"
   ]
  },
  {
   "cell_type": "code",
   "execution_count": 104,
   "metadata": {},
   "outputs": [
    {
     "name": "stdout",
     "output_type": "stream",
     "text": [
      "예측(독립)변수 전체 데이터셋 객체유형: <class 'numpy.ndarray'>\n",
      "예측(독립)변수 전체 데이터셋 전체규모: (26, 2)\n",
      "\n",
      "예측(독립)변수의 훈련용 데이터셋 객체유형: <class 'numpy.ndarray'>\n",
      "예측(독립)변수의 훈련용 데이터셋 객체규모: (19, 2)\n",
      "예측(독립)변수의 테스트용 데이터셋 객체유형: <class 'numpy.ndarray'>\n",
      "예측(독립)변수의 테스트용 데이터셋 객체규모: (7, 2)\n",
      "\n",
      "반응(종속)변수의 훈련용 데이터셋 객체유형: <class 'numpy.ndarray'>\n",
      "반응(종속)변수의 훈련용 데이터셋 객체규모: (19,)\n",
      "반응(종속)변수의 테스트용 데이터셋 객체유형: <class 'numpy.ndarray'>\n",
      "반응(종속)변수의 테스트용 데이터셋 객체규모: (7,)\n"
     ]
    }
   ],
   "source": [
    "# 데이터셋별 객체유형과 규모\n",
    "\n",
    "print('예측(독립)변수 전체 데이터셋 객체유형:', type(X))\n",
    "print('예측(독립)변수 전체 데이터셋 전체규모:', X.shape)\n",
    "\n",
    "print()\n",
    "\n",
    "print('예측(독립)변수의 훈련용 데이터셋 객체유형:', type(X_train))\n",
    "print('예측(독립)변수의 훈련용 데이터셋 객체규모:', X_train.shape) \n",
    "print('예측(독립)변수의 테스트용 데이터셋 객체유형:', type(X_test))\n",
    "print('예측(독립)변수의 테스트용 데이터셋 객체규모:', X_test.shape) \n",
    "\n",
    "print()\n",
    "\n",
    "print('반응(종속)변수의 훈련용 데이터셋 객체유형:', type(y_train))\n",
    "print('반응(종속)변수의 훈련용 데이터셋 객체규모:', y_train.shape) \n",
    "print('반응(종속)변수의 테스트용 데이터셋 객체유형:', type(y_test))\n",
    "print('반응(종속)변수의 테스트용 데이터셋 객체규모:', y_test.shape) "
   ]
  },
  {
   "cell_type": "markdown",
   "metadata": {},
   "source": [
    "## (2) 데이터분할 내용을  여러개 객체에 나누어 각각 할당하는 방식"
   ]
  },
  {
   "cell_type": "markdown",
   "metadata": {},
   "source": [
    "* 예측(입력, 투입, 설명, 독립)변수는 여러 개로 구성된 2차원 배열(행렬)이므로 대문자 X로 보통 표현함\n",
    "* 반응(결과, 기대, 종속)변수는 한 개로 구성된 1차원 배열(벡터)이므로 소문자 y로 보통 표현함"
   ]
  },
  {
   "cell_type": "code",
   "execution_count": 105,
   "metadata": {},
   "outputs": [],
   "source": [
    "# 데이터분할 메서드 로딩\n",
    "from sklearn.model_selection import train_test_split\n",
    "# - sklearn 패키지(라이브러리)의 model_selection 모듈 중에서\n",
    "#   train_test_split()이라는 메서드(함수)를 메모로리로 로딩함"
   ]
  },
  {
   "cell_type": "code",
   "execution_count": 106,
   "metadata": {},
   "outputs": [],
   "source": [
    "# 데이터분할 실시\n",
    "X_train, X_test, y_train, y_test = train_test_split(\n",
    "    X, y, random_state = 0)\n",
    "# - 분할된 데이터셋을 각각의 객체에 별도로 저장해 놓음\n",
    "\n",
    "# - train_test_split() 메서드는 Numpy 배열형식의 4개 반환값을 생성함\n",
    "# - 기본적으로 train은 75%, test는 25% 데이터셋을 할당받는데,\n",
    "#   test_size 매개변수를 통해 테스트셋의 비율을 지정할 수 있음\n",
    "# - random.state 매개변수를 통해 샘플의 재현성을 확보함"
   ]
  },
  {
   "cell_type": "code",
   "execution_count": 107,
   "metadata": {},
   "outputs": [
    {
     "name": "stdout",
     "output_type": "stream",
     "text": [
      "예측(독립)변수 전체 데이터셋 객체유형: <class 'numpy.ndarray'>\n",
      "예측(독립)변수 전체 데이터셋 전체규모: (26, 2)\n",
      "\n",
      "예측(독립)변수의 훈련용 데이터셋 객체유형: <class 'numpy.ndarray'>\n",
      "예측(독립)변수의 훈련용 데이터셋 객체규모: (19, 2)\n",
      "예측(독립)변수의 테스트용 데이터셋 객체유형: <class 'numpy.ndarray'>\n",
      "예측(독립)변수의 테스트용 데이터셋 객체규모: (7, 2)\n",
      "\n",
      "반응(종속)변수의 훈련용 데이터셋 객체유형: <class 'numpy.ndarray'>\n",
      "반응(종속)변수의 훈련용 데이터셋 객체규모: (19,)\n",
      "반응(종속)변수의 테스트용 데이터셋 객체유형: <class 'numpy.ndarray'>\n",
      "반응(종속)변수의 테스트용 데이터셋 객체규모: (7,)\n"
     ]
    }
   ],
   "source": [
    "# 데이터셋별 객체유형과 규모\n",
    "\n",
    "print('예측(독립)변수 전체 데이터셋 객체유형:', type(X))\n",
    "print('예측(독립)변수 전체 데이터셋 전체규모:', X.shape)\n",
    "\n",
    "print()\n",
    "\n",
    "print('예측(독립)변수의 훈련용 데이터셋 객체유형:', type(X_train))\n",
    "print('예측(독립)변수의 훈련용 데이터셋 객체규모:', X_train.shape) \n",
    "print('예측(독립)변수의 테스트용 데이터셋 객체유형:', type(X_test))\n",
    "print('예측(독립)변수의 테스트용 데이터셋 객체규모:', X_test.shape) \n",
    "\n",
    "print()\n",
    "\n",
    "print('반응(종속)변수의 훈련용 데이터셋 객체유형:', type(y_train))\n",
    "print('반응(종속)변수의 훈련용 데이터셋 객체규모:', y_train.shape) \n",
    "print('반응(종속)변수의 테스트용 데이터셋 객체유형:', type(y_test))\n",
    "print('반응(종속)변수의 테스트용 데이터셋 객체규모:', y_test.shape) "
   ]
  },
  {
   "cell_type": "markdown",
   "metadata": {},
   "source": [
    "# 데이터 탐색"
   ]
  },
  {
   "cell_type": "markdown",
   "metadata": {},
   "source": [
    "## (1) 기술통계분석을 통한 데이터탐색"
   ]
  },
  {
   "cell_type": "code",
   "execution_count": 286,
   "metadata": {},
   "outputs": [],
   "source": [
    "# 판다스 패키지(라이브러리)를 pd라는 별칭으로 통째로 로딩함\n",
    "import pandas as pd\n",
    "\n",
    "# 훈련용 예측(독립)변수셋을 데이터프레임 형식으로 변경\n",
    "X_train_df = pd.DataFrame(X_train)"
   ]
  },
  {
   "cell_type": "code",
   "execution_count": 287,
   "metadata": {},
   "outputs": [
    {
     "name": "stdout",
     "output_type": "stream",
     "text": [
      "<class 'pandas.core.frame.DataFrame'>\n",
      "RangeIndex: 19 entries, 0 to 18\n",
      "Data columns (total 2 columns):\n",
      "0    19 non-null float64\n",
      "1    19 non-null float64\n",
      "dtypes: float64(2)\n",
      "memory usage: 384.0 bytes\n"
     ]
    }
   ],
   "source": [
    "# 훈련용 데이터셋 구조파악\n",
    "X_train_df.info()"
   ]
  },
  {
   "cell_type": "code",
   "execution_count": 288,
   "metadata": {},
   "outputs": [
    {
     "data": {
      "text/html": [
       "<div>\n",
       "<style scoped>\n",
       "    .dataframe tbody tr th:only-of-type {\n",
       "        vertical-align: middle;\n",
       "    }\n",
       "\n",
       "    .dataframe tbody tr th {\n",
       "        vertical-align: top;\n",
       "    }\n",
       "\n",
       "    .dataframe thead th {\n",
       "        text-align: right;\n",
       "    }\n",
       "</style>\n",
       "<table border=\"1\" class=\"dataframe\">\n",
       "  <thead>\n",
       "    <tr style=\"text-align: right;\">\n",
       "      <th></th>\n",
       "      <th>0</th>\n",
       "      <th>1</th>\n",
       "    </tr>\n",
       "  </thead>\n",
       "  <tbody>\n",
       "    <tr>\n",
       "      <th>count</th>\n",
       "      <td>19.000000</td>\n",
       "      <td>19.000000</td>\n",
       "    </tr>\n",
       "    <tr>\n",
       "      <th>mean</th>\n",
       "      <td>9.381027</td>\n",
       "      <td>2.965320</td>\n",
       "    </tr>\n",
       "    <tr>\n",
       "      <th>std</th>\n",
       "      <td>1.086367</td>\n",
       "      <td>2.228545</td>\n",
       "    </tr>\n",
       "    <tr>\n",
       "      <th>min</th>\n",
       "      <td>7.998153</td>\n",
       "      <td>-0.639932</td>\n",
       "    </tr>\n",
       "    <tr>\n",
       "      <th>25%</th>\n",
       "      <td>8.691130</td>\n",
       "      <td>1.413018</td>\n",
       "    </tr>\n",
       "    <tr>\n",
       "      <th>50%</th>\n",
       "      <td>9.177484</td>\n",
       "      <td>4.286960</td>\n",
       "    </tr>\n",
       "    <tr>\n",
       "      <th>75%</th>\n",
       "      <td>9.587270</td>\n",
       "      <td>4.972668</td>\n",
       "    </tr>\n",
       "    <tr>\n",
       "      <th>max</th>\n",
       "      <td>11.930271</td>\n",
       "      <td>5.498322</td>\n",
       "    </tr>\n",
       "  </tbody>\n",
       "</table>\n",
       "</div>"
      ],
      "text/plain": [
       "               0          1\n",
       "count  19.000000  19.000000\n",
       "mean    9.381027   2.965320\n",
       "std     1.086367   2.228545\n",
       "min     7.998153  -0.639932\n",
       "25%     8.691130   1.413018\n",
       "50%     9.177484   4.286960\n",
       "75%     9.587270   4.972668\n",
       "max    11.930271   5.498322"
      ]
     },
     "execution_count": 288,
     "metadata": {},
     "output_type": "execute_result"
    }
   ],
   "source": [
    "# 훈련용 데이터셋 기술통계분석\n",
    "X_train_df.describe()"
   ]
  },
  {
   "cell_type": "code",
   "execution_count": 289,
   "metadata": {},
   "outputs": [
    {
     "data": {
      "text/plain": [
       "0     8.922295\n",
       "1     8.733709\n",
       "2     9.322983\n",
       "3     7.998153\n",
       "4    11.032954\n",
       "5     9.177484\n",
       "Name: 0, dtype: float64"
      ]
     },
     "execution_count": 289,
     "metadata": {},
     "output_type": "execute_result"
    }
   ],
   "source": [
    "# 판다스 데이터프레임 조회\n",
    "X_train_df.loc[0:5, 0]"
   ]
  },
  {
   "cell_type": "code",
   "execution_count": 290,
   "metadata": {},
   "outputs": [
    {
     "data": {
      "text/html": [
       "<div>\n",
       "<style scoped>\n",
       "    .dataframe tbody tr th:only-of-type {\n",
       "        vertical-align: middle;\n",
       "    }\n",
       "\n",
       "    .dataframe tbody tr th {\n",
       "        vertical-align: top;\n",
       "    }\n",
       "\n",
       "    .dataframe thead th {\n",
       "        text-align: right;\n",
       "    }\n",
       "</style>\n",
       "<table border=\"1\" class=\"dataframe\">\n",
       "  <thead>\n",
       "    <tr style=\"text-align: right;\">\n",
       "      <th></th>\n",
       "      <th>0</th>\n",
       "      <th>1</th>\n",
       "    </tr>\n",
       "  </thead>\n",
       "  <tbody>\n",
       "    <tr>\n",
       "      <th>0</th>\n",
       "      <td>8.922295</td>\n",
       "      <td>-0.639932</td>\n",
       "    </tr>\n",
       "    <tr>\n",
       "      <th>1</th>\n",
       "      <td>8.733709</td>\n",
       "      <td>2.491624</td>\n",
       "    </tr>\n",
       "    <tr>\n",
       "      <th>2</th>\n",
       "      <td>9.322983</td>\n",
       "      <td>5.098406</td>\n",
       "    </tr>\n",
       "    <tr>\n",
       "      <th>3</th>\n",
       "      <td>7.998153</td>\n",
       "      <td>4.852505</td>\n",
       "    </tr>\n",
       "    <tr>\n",
       "      <th>4</th>\n",
       "      <td>11.032954</td>\n",
       "      <td>-0.168167</td>\n",
       "    </tr>\n",
       "  </tbody>\n",
       "</table>\n",
       "</div>"
      ],
      "text/plain": [
       "           0         1\n",
       "0   8.922295 -0.639932\n",
       "1   8.733709  2.491624\n",
       "2   9.322983  5.098406\n",
       "3   7.998153  4.852505\n",
       "4  11.032954 -0.168167"
      ]
     },
     "execution_count": 290,
     "metadata": {},
     "output_type": "execute_result"
    }
   ],
   "source": [
    "# 판다스 데이터프레임 조회\n",
    "X_train_df.iloc[:, :].head()"
   ]
  },
  {
   "cell_type": "markdown",
   "metadata": {},
   "source": [
    "## (2) 그래프를 통한 데이터탐색"
   ]
  },
  {
   "cell_type": "code",
   "execution_count": 291,
   "metadata": {},
   "outputs": [],
   "source": [
    "%matplotlib inline\n",
    "import matplotlib.pyplot as plt\n",
    "import seaborn as sb"
   ]
  },
  {
   "cell_type": "code",
   "execution_count": 292,
   "metadata": {},
   "outputs": [
    {
     "data": {
      "image/png": "[encoded data removed]",
      "text/plain": [
       "<Figure size 360x360 with 6 Axes>"
      ]
     },
     "metadata": {
      "needs_background": "light"
     },
     "output_type": "display_data"
    }
   ],
   "source": [
    "# seaborn(씨본) 패키지 산점도플롯(pairplot)\n",
    "fig = sb.pairplot(X_train_df)"
   ]
  },
  {
   "cell_type": "code",
   "execution_count": 293,
   "metadata": {},
   "outputs": [
    {
     "name": "stderr",
     "output_type": "stream",
     "text": [
      "C:\\Anaconda3\\lib\\site-packages\\scipy\\stats\\stats.py:1713: FutureWarning: Using a non-tuple sequence for multidimensional indexing is deprecated; use `arr[tuple(seq)]` instead of `arr[seq]`. In the future this will be interpreted as an array index, `arr[np.array(seq)]`, which will result either in an error or a different result.\n",
      "  return np.add.reduce(sorted[indexer] * weights, axis=axis) / sumval\n"
     ]
    },
    {
     "data": {
      "image/png": "[encoded data removed]",
      "text/plain": [
       "<Figure size 360x360 with 6 Axes>"
      ]
     },
     "metadata": {
      "needs_background": "light"
     },
     "output_type": "display_data"
    }
   ],
   "source": [
    "# seaborn(씨본) 패키지 산점도그리드플롯(PairGrid)\n",
    "pg = sb.PairGrid(X_train_df) \n",
    "pg = pg.map_upper(sb.regplot) \n",
    "pg = pg.map_lower(sb.kdeplot) \n",
    "pg = pg.map_diag(sb.distplot, rug = True) "
   ]
  },
  {
   "cell_type": "code",
   "execution_count": 294,
   "metadata": {},
   "outputs": [],
   "source": [
    "# Pandas(판다스) 패키지 산점도플롯(plotting.scatter_matrix)\n",
    "import pandas as pd\n",
    "import mglearn"
   ]
  },
  {
   "cell_type": "code",
   "execution_count": 298,
   "metadata": {
    "scrolled": false
   },
   "outputs": [
    {
     "data": {
      "text/plain": [
       "array([[<matplotlib.axes._subplots.AxesSubplot object at 0x00000173889807B8>,\n",
       "        <matplotlib.axes._subplots.AxesSubplot object at 0x0000017385452F98>],\n",
       "       [<matplotlib.axes._subplots.AxesSubplot object at 0x000001738846D8D0>,\n",
       "        <matplotlib.axes._subplots.AxesSubplot object at 0x0000017388785C50>]],\n",
       "      dtype=object)"
      ]
     },
     "execution_count": 298,
     "metadata": {},
     "output_type": "execute_result"
    },
    {
     "data": {
      "image/png": "[encoded data removed]",
      "text/plain": [
       "<Figure size 504x504 with 4 Axes>"
      ]
     },
     "metadata": {
      "needs_background": "light"
     },
     "output_type": "display_data"
    }
   ],
   "source": [
    "pd.plotting.scatter_matrix(X_train_df, c = y_train, figsize = (7, 7), marker='o',\n",
    "                           hist_kwds = {'bins':20}, s = 60, alpha = 0.8, cmap = mglearn.cm3)"
   ]
  },
  {
   "cell_type": "markdown",
   "metadata": {},
   "source": [
    "# KNN 분류예측"
   ]
  },
  {
   "cell_type": "markdown",
   "metadata": {},
   "source": [
    "* 새 데이터포인터(테스트용 데이터 레코드 1개)의 클래스유형 분류예측을 위해서 <br> 훈련데이터셋에서 가장 가까운 특성을 가진 혼련데이터 포인트를 찾음\n",
    "* knn 기법으로 도출된 특성이 유사한 훈련데이터의 데이터포인트(레코드) 중에서 <br>빈도수가 가장 높은 클래스를 새 데이터포인터의 예측값으로 사용함"
   ]
  },
  {
   "cell_type": "markdown",
   "metadata": {},
   "source": [
    "## (1) sklearn 패키지의 knn 분류모듈 로딩방법"
   ]
  },
  {
   "cell_type": "markdown",
   "metadata": {},
   "source": [
    "#### sklearn(사이킷런) 패키지(라이브러리) 통째로 로딩"
   ]
  },
  {
   "cell_type": "code",
   "execution_count": 85,
   "metadata": {},
   "outputs": [],
   "source": [
    "# sklearn(사이킷런) 패키지(라이브러리)를 sk라는 별칭으로 로딩\n",
    "import sklearn as sk"
   ]
  },
  {
   "cell_type": "code",
   "execution_count": 300,
   "metadata": {},
   "outputs": [
    {
     "ename": "SyntaxError",
     "evalue": "invalid syntax (<ipython-input-300-fc6f55f2be28>, line 2)",
     "output_type": "error",
     "traceback": [
      "\u001b[1;36m  File \u001b[1;32m\"<ipython-input-300-fc6f55f2be28>\"\u001b[1;36m, line \u001b[1;32m2\u001b[0m\n\u001b[1;33m    sk. # 탭키를 눌러 sk 패키지에 속한 모듈 확인이 가능함\u001b[0m\n\u001b[1;37m                                      ^\u001b[0m\n\u001b[1;31mSyntaxError\u001b[0m\u001b[1;31m:\u001b[0m invalid syntax\n"
     ]
    }
   ],
   "source": [
    "# (실행하지 않고, 점(.)다음에 탭키를 눌러보기) \n",
    "# 사이킷런 패키지에 속한 모듈-메서드 확인방법\n",
    "sk. # 탭키를 눌러 sk 패키지에 속한 모듈 확인이 가능함\n",
    "sk.neighbors. # 탭키를 눌러 sk 패키지의 neighbors 모듈에 속한 메서드 확인이 가능함\n",
    "sk.neighbors.KNeighborsClassifier # sk 패키지의 neighbors 모듈에 속한 KNN분류예측 메서드 사용"
   ]
  },
  {
   "cell_type": "code",
   "execution_count": 86,
   "metadata": {},
   "outputs": [
    {
     "name": "stdout",
     "output_type": "stream",
     "text": [
      "<class 'sklearn.neighbors.classification.KNeighborsClassifier'>\n"
     ]
    },
    {
     "data": {
      "text/plain": [
       "KNeighborsClassifier(algorithm='auto', leaf_size=30, metric='minkowski',\n",
       "           metric_params=None, n_jobs=None, n_neighbors=3, p=2,\n",
       "           weights='uniform')"
      ]
     },
     "execution_count": 86,
     "metadata": {},
     "output_type": "execute_result"
    }
   ],
   "source": [
    "# knn 분류객체 생성\n",
    "knn = sk.neighbors.KNeighborsClassifier(n_neighbors = 3)\n",
    "print(type(knn))\n",
    "knn"
   ]
  },
  {
   "cell_type": "markdown",
   "metadata": {},
   "source": [
    "#### sklearn(사이킷런) 패키지의 knn 모듈만을 로딩"
   ]
  },
  {
   "cell_type": "code",
   "execution_count": 87,
   "metadata": {},
   "outputs": [],
   "source": [
    "# sklearn 패키지의 neighbors 모듈을 skn라는 별칭으로 로딩\n",
    "import sklearn.neighbors as skn"
   ]
  },
  {
   "cell_type": "code",
   "execution_count": null,
   "metadata": {},
   "outputs": [],
   "source": [
    "# (실행하지 않고, 점(.)다음에 탭키를 눌러보기) \n",
    "# 사이킷런 패키지에 속한 모듈-메서드 확인방법\n",
    "skn. # 탭키를 눌러 sk패키지의 neighbors 모듈에 속한 메서드 확인이 가능함\n",
    "skn.KNeighborsClassifier"
   ]
  },
  {
   "cell_type": "code",
   "execution_count": 88,
   "metadata": {},
   "outputs": [
    {
     "name": "stdout",
     "output_type": "stream",
     "text": [
      "<class 'sklearn.neighbors.classification.KNeighborsClassifier'>\n"
     ]
    },
    {
     "data": {
      "text/plain": [
       "KNeighborsClassifier(algorithm='auto', leaf_size=30, metric='minkowski',\n",
       "           metric_params=None, n_jobs=None, n_neighbors=3, p=2,\n",
       "           weights='uniform')"
      ]
     },
     "execution_count": 88,
     "metadata": {},
     "output_type": "execute_result"
    }
   ],
   "source": [
    "# knn 분류객체 생성\n",
    "knn = skn.KNeighborsClassifier(n_neighbors = 3)\n",
    "print(type(knn))\n",
    "knn"
   ]
  },
  {
   "cell_type": "markdown",
   "metadata": {},
   "source": [
    "#### sklearn(사이킷런) 패키지의 knn 모듈 중 knn 분류예측 메서드만을 로딩"
   ]
  },
  {
   "cell_type": "code",
   "execution_count": 98,
   "metadata": {},
   "outputs": [],
   "source": [
    "# sklearn 패키지의 neighbors 모듈 중 knn 분류예측 메서드만을 직접로딩\n",
    "from sklearn.neighbors import KNeighborsClassifier"
   ]
  },
  {
   "cell_type": "code",
   "execution_count": 99,
   "metadata": {},
   "outputs": [
    {
     "name": "stdout",
     "output_type": "stream",
     "text": [
      "<class 'sklearn.neighbors.classification.KNeighborsClassifier'>\n"
     ]
    },
    {
     "data": {
      "text/plain": [
       "KNeighborsClassifier(algorithm='auto', leaf_size=30, metric='minkowski',\n",
       "           metric_params=None, n_jobs=None, n_neighbors=3, p=2,\n",
       "           weights='uniform')"
      ]
     },
     "execution_count": 99,
     "metadata": {},
     "output_type": "execute_result"
    }
   ],
   "source": [
    "# knn 분류객체 생성\n",
    "knn = KNeighborsClassifier(n_neighbors = 3)\n",
    "print(type(knn))\n",
    "knn"
   ]
  },
  {
   "cell_type": "markdown",
   "metadata": {},
   "source": [
    "## (2) 훈련모델 피팅"
   ]
  },
  {
   "cell_type": "code",
   "execution_count": 108,
   "metadata": {},
   "outputs": [
    {
     "data": {
      "text/plain": [
       "KNeighborsClassifier(algorithm='auto', leaf_size=30, metric='minkowski',\n",
       "           metric_params=None, n_jobs=None, n_neighbors=3, p=2,\n",
       "           weights='uniform')"
      ]
     },
     "execution_count": 108,
     "metadata": {},
     "output_type": "execute_result"
    }
   ],
   "source": [
    "# 훈련용 데이터셋을 knn객체에 피팅\n",
    "knn.fit(X_train, y_train)\n",
    "# - knn 알고리즘이 들어 있는 분류객체에 훈련데이터셋을 피팅해 예측모델을 생성함"
   ]
  },
  {
   "cell_type": "markdown",
   "metadata": {},
   "source": [
    "## (3) 예측모델 평가"
   ]
  },
  {
   "cell_type": "markdown",
   "metadata": {},
   "source": [
    "#### 테스트셋을 활용한 예측결과 도출"
   ]
  },
  {
   "cell_type": "code",
   "execution_count": 109,
   "metadata": {},
   "outputs": [],
   "source": [
    "# knn 객체에 테스트데이터를 피팅해 훈련모델의 성능을 평가함\n",
    "y_pred = knn.predict(X_test)"
   ]
  },
  {
   "cell_type": "code",
   "execution_count": 110,
   "metadata": {},
   "outputs": [
    {
     "name": "stdout",
     "output_type": "stream",
     "text": [
      "훈련모델의 테스트셋 예측결과: \n",
      " [1 0 1 0 1 0 0]\n",
      "\n",
      "실제 테스트셋의 반응(종속)변수내용: \n",
      " [1 0 1 0 1 1 0]\n",
      "\n",
      "예측결과 정확도 비교: \n",
      " [ True  True  True  True  True False  True]\n"
     ]
    }
   ],
   "source": [
    "print('훈련모델의 테스트셋 예측결과: \\n', y_pred)\n",
    "print()\n",
    "print('실제 테스트셋의 반응(종속)변수내용: \\n', y_test)\n",
    "print()\n",
    "print('예측결과 정확도 비교: \\n', y_pred == y_test)"
   ]
  },
  {
   "cell_type": "markdown",
   "metadata": {},
   "source": [
    "#### 예측모델 정확도 평가"
   ]
  },
  {
   "cell_type": "code",
   "execution_count": 115,
   "metadata": {},
   "outputs": [
    {
     "name": "stdout",
     "output_type": "stream",
     "text": [
      "예측모델 정확도: 0.857\n",
      "예측모델 정확도: 0.857\n",
      "\n",
      "예측모델 정확도: 0.857\n",
      "예측모델 정확도: 0.857\n",
      "\n",
      "예측모델 정확도: 0.857\n",
      "예측모델 정확도: 0.857\n"
     ]
    }
   ],
   "source": [
    "import numpy as np\n",
    "\n",
    "# 기본 문자열 포맷팅\n",
    "print('예측모델 정확도: %0.3f' % np.mean(y_pred == y_test))\n",
    "print('예측모델 정확도: %0.3f' % knn.score(X_test, y_test))\n",
    "\n",
    "print()\n",
    "\n",
    "# .format() 메서드 포맷팅\n",
    "print('예측모델 정확도: {:0.3f}'.format(np.mean(y_pred == y_test)))\n",
    "print('예측모델 정확도: {:0.3f}'.format(knn.score(X_test, y_test)))\n",
    "\n",
    "print()\n",
    "\n",
    "# f문자열 포맷팅\n",
    "print(f'예측모델 정확도: {np.mean(y_pred == y_test):0.3f}')\n",
    "print(f'예측모델 정확도: {knn.score(X_test, y_test):0.3f}')"
   ]
  },
  {
   "cell_type": "markdown",
   "metadata": {},
   "source": [
    "# 최근접 이웃의 갯수를 다양하게 설정"
   ]
  },
  {
   "cell_type": "markdown",
   "metadata": {},
   "source": [
    "#### n_neighbors의 갯수를 조절해 모델의 복잡도와 정확도를 조정함\n",
    "* 이웃의 갯수가 적을수록: 결정경계가 세밀해짐, 복잡한 모델, 과대적합<br> - 훈련모델이 너무 복잡해 훈련모델에만 잘맞고, 테스트데이터 정확도는 오히려 낮아짐\n",
    "* 이웃의 갯수가 많을수록: 결정경계가 완만해짐, 단순한 모델, 과소적합<br> - 훈련모델이 너무 단순해 자체정확도가 낮은 상태라 테스트데이터의 정확도도 낮아짐"
   ]
  },
  {
   "cell_type": "markdown",
   "metadata": {},
   "source": [
    "## (1) n_neighbors 옵션 개별사용"
   ]
  },
  {
   "cell_type": "markdown",
   "metadata": {},
   "source": [
    "#### n_neighbors = 1로 설정모델"
   ]
  },
  {
   "cell_type": "code",
   "execution_count": 423,
   "metadata": {},
   "outputs": [
    {
     "data": {
      "text/plain": [
       "KNeighborsClassifier(algorithm='auto', leaf_size=30, metric='minkowski',\n",
       "           metric_params=None, n_jobs=None, n_neighbors=3, p=2,\n",
       "           weights='uniform')"
      ]
     },
     "execution_count": 423,
     "metadata": {},
     "output_type": "execute_result"
    }
   ],
   "source": [
    "# knn 분류객체 생성과 동시에 훈련데이터셋을 같이 피팅하기\n",
    "knn.fit = KNeighborsClassifier(n_neighbors = 1).fit(X_train, y_train)\n",
    "knn"
   ]
  },
  {
   "cell_type": "code",
   "execution_count": 436,
   "metadata": {},
   "outputs": [],
   "source": [
    "%matplotlib inline\n",
    "import matplotlib.pyplot as plt\n",
    "import mglearn"
   ]
  },
  {
   "cell_type": "code",
   "execution_count": 439,
   "metadata": {
    "scrolled": true
   },
   "outputs": [
    {
     "data": {
      "image/png": "[encoded data removed]",
      "text/plain": [
       "<Figure size 432x288 with 1 Axes>"
      ]
     },
     "metadata": {},
     "output_type": "display_data"
    }
   ],
   "source": [
    "# 결정경계 그래프만 그리기\n",
    "mglearn.plots.plot_2d_separator(knn.fit, X_train, fill = True, eps = 0.5, alpha = 0.4)\n",
    "\n",
    "# alpha 투명도\n",
    "# fill = 평면칠하기\n",
    "# eps 매개변수는 가까운 포인트의 범위를 결정한다. \n",
    "# eps값을 크게 하면 각 포인트의 이웃의 갯수를 늘릴 수 있다.\n",
    "# eps를 매우 작게 하면 어떤 포인트도 핵심 포인트가 되지 못하고, 모든 포인트가 잡음 포인트가 될 수 있다.\n",
    "# eps를 매우 크게 하면 모든 포인트가 단 하나의 클러스터에 속하게 된다."
   ]
  },
  {
   "cell_type": "code",
   "execution_count": 426,
   "metadata": {},
   "outputs": [
    {
     "data": {
      "text/plain": [
       "[<matplotlib.lines.Line2D at 0x1738a2980f0>,\n",
       " <matplotlib.lines.Line2D at 0x1738a298240>]"
      ]
     },
     "execution_count": 426,
     "metadata": {},
     "output_type": "execute_result"
    },
    {
     "data": {
      "image/png": "[encoded data removed]",
      "text/plain": [
       "<Figure size 432x288 with 1 Axes>"
      ]
     },
     "metadata": {
      "needs_background": "light"
     },
     "output_type": "display_data"
    }
   ],
   "source": [
    "# 클래스분포 그래프만 그리기\n",
    "mglearn.discrete_scatter(X_train[:, 0], X_train[:, 1], y_train)"
   ]
  },
  {
   "cell_type": "code",
   "execution_count": 427,
   "metadata": {
    "scrolled": false
   },
   "outputs": [
    {
     "data": {
      "text/plain": [
       "[<matplotlib.lines.Line2D at 0x17389b477f0>,\n",
       " <matplotlib.lines.Line2D at 0x17389b47e48>]"
      ]
     },
     "execution_count": 427,
     "metadata": {},
     "output_type": "execute_result"
    },
    {
     "data": {
      "image/png": "[encoded data removed]",
      "text/plain": [
       "<Figure size 432x288 with 1 Axes>"
      ]
     },
     "metadata": {},
     "output_type": "display_data"
    }
   ],
   "source": [
    "# 결정경계 그래프에 클래스분포 그래프 통합\n",
    "mglearn.plots.plot_2d_separator(knn.fit, X_train, fill = True, eps = 0.5, alpha = 0.4)\n",
    "mglearn.discrete_scatter(X_train[:, 0], X_train[:, 1], y_train)"
   ]
  },
  {
   "cell_type": "markdown",
   "metadata": {},
   "source": [
    "#### n_neighbors = 3으로 설정모델"
   ]
  },
  {
   "cell_type": "code",
   "execution_count": 428,
   "metadata": {},
   "outputs": [
    {
     "data": {
      "text/plain": [
       "KNeighborsClassifier(algorithm='auto', leaf_size=30, metric='minkowski',\n",
       "           metric_params=None, n_jobs=None, n_neighbors=3, p=2,\n",
       "           weights='uniform')"
      ]
     },
     "execution_count": 428,
     "metadata": {},
     "output_type": "execute_result"
    }
   ],
   "source": [
    "# knn 분류객체 생성과 동시에 훈련데이터셋을 같이 피팅하기\n",
    "knn.fit = KNeighborsClassifier(n_neighbors = 3).fit(X_train, y_train)\n",
    "knn"
   ]
  },
  {
   "cell_type": "code",
   "execution_count": 429,
   "metadata": {
    "scrolled": true
   },
   "outputs": [
    {
     "data": {
      "text/plain": [
       "[<matplotlib.lines.Line2D at 0x1738a41d438>,\n",
       " <matplotlib.lines.Line2D at 0x1738a41da90>]"
      ]
     },
     "execution_count": 429,
     "metadata": {},
     "output_type": "execute_result"
    },
    {
     "data": {
      "image/png": "[encoded data removed]",
      "text/plain": [
       "<Figure size 432x288 with 1 Axes>"
      ]
     },
     "metadata": {},
     "output_type": "display_data"
    }
   ],
   "source": [
    "# 결정경계 그래프에 클래스분포 그래프 통합\n",
    "mglearn.plots.plot_2d_separator(knn.fit, X_train, fill = True, eps = 0.5, alpha = 0.4)\n",
    "mglearn.discrete_scatter(X_train[:, 0], X_train[:, 1], y_train)"
   ]
  },
  {
   "cell_type": "markdown",
   "metadata": {},
   "source": [
    "#### n_neighbors = 9로 설정모델"
   ]
  },
  {
   "cell_type": "code",
   "execution_count": 430,
   "metadata": {},
   "outputs": [
    {
     "data": {
      "text/plain": [
       "KNeighborsClassifier(algorithm='auto', leaf_size=30, metric='minkowski',\n",
       "           metric_params=None, n_jobs=None, n_neighbors=3, p=2,\n",
       "           weights='uniform')"
      ]
     },
     "execution_count": 430,
     "metadata": {},
     "output_type": "execute_result"
    }
   ],
   "source": [
    "# knn 분류객체 생성과 동시에 훈련데이터셋을 같이 피팅하기\n",
    "knn.fit = KNeighborsClassifier(n_neighbors = 9).fit(X_train, y_train)\n",
    "knn"
   ]
  },
  {
   "cell_type": "code",
   "execution_count": 431,
   "metadata": {
    "scrolled": true
   },
   "outputs": [
    {
     "data": {
      "text/plain": [
       "[<matplotlib.lines.Line2D at 0x1738b3c80f0>,\n",
       " <matplotlib.lines.Line2D at 0x1738b3c8710>]"
      ]
     },
     "execution_count": 431,
     "metadata": {},
     "output_type": "execute_result"
    },
    {
     "data": {
      "image/png": "[encoded data removed]",
      "text/plain": [
       "<Figure size 432x288 with 1 Axes>"
      ]
     },
     "metadata": {},
     "output_type": "display_data"
    }
   ],
   "source": [
    "# 결정경계 그래프에 클래스분포 그래프 통합\n",
    "mglearn.plots.plot_2d_separator(knn.fit, X_train, fill = True, eps = 0.5, alpha = 0.4)\n",
    "mglearn.discrete_scatter(X_train[:, 0], X_train[:, 1], y_train)"
   ]
  },
  {
   "cell_type": "markdown",
   "metadata": {},
   "source": [
    "## (2) n_neighbors 다양한 설정모델을 한번에 그리기"
   ]
  },
  {
   "cell_type": "code",
   "execution_count": 432,
   "metadata": {},
   "outputs": [],
   "source": [
    "%matplotlib inline\n",
    "import matplotlib.pyplot as plt"
   ]
  },
  {
   "cell_type": "code",
   "execution_count": 433,
   "metadata": {
    "scrolled": false
   },
   "outputs": [
    {
     "data": {
      "image/png": "[encoded data removed]",
      "text/plain": [
       "<Figure size 720x216 with 3 Axes>"
      ]
     },
     "metadata": {
      "needs_background": "light"
     },
     "output_type": "display_data"
    }
   ],
   "source": [
    "# (참고) 3개 그림을 동시에 플로팅할 서브프레임 구성\n",
    "fig, axes = plt.subplots(1, 3, figsize = (10, 3))"
   ]
  },
  {
   "cell_type": "code",
   "execution_count": 434,
   "metadata": {},
   "outputs": [
    {
     "data": {
      "text/plain": [
       "{1: <matplotlib.axes._subplots.AxesSubplot at 0x1738b3da550>,\n",
       " 3: <matplotlib.axes._subplots.AxesSubplot at 0x1738b3fe898>,\n",
       " 9: <matplotlib.axes._subplots.AxesSubplot at 0x1738a436dd8>}"
      ]
     },
     "execution_count": 434,
     "metadata": {},
     "output_type": "execute_result"
    }
   ],
   "source": [
    "# (참고) 각 서브프레임에 n_neighbors = 1, 3, 9 결합\n",
    "{k: axes for k, axes in zip([1, 3, 9], axes)}"
   ]
  },
  {
   "cell_type": "code",
   "execution_count": 435,
   "metadata": {
    "scrolled": true
   },
   "outputs": [
    {
     "data": {
      "text/plain": [
       "<matplotlib.legend.Legend at 0x1738a4cbd30>"
      ]
     },
     "execution_count": 435,
     "metadata": {},
     "output_type": "execute_result"
    },
    {
     "data": {
      "image/png": "[encoded data removed]",
      "text/plain": [
       "<Figure size 720x216 with 3 Axes>"
      ]
     },
     "metadata": {},
     "output_type": "display_data"
    }
   ],
   "source": [
    "# (통합) \n",
    "fig, axes = plt.subplots(1, 3, figsize = (10, 3))\n",
    "\n",
    "for k, ax in zip([1, 3, 9], axes):\n",
    "    knn.fit = KNeighborsClassifier(n_neighbors = k).fit(X_train, y_train)\n",
    "    mglearn.plots.plot_2d_separator(knn.fit, X_train, fill = True, \n",
    "                                    eps = 0.5, alpha = 0.4, ax = ax)\n",
    "    mglearn.discrete_scatter(X_train[:, 0], X_train[:, 1], y_train, ax = ax)\n",
    "    ax.set_title('k = %s' % k)\n",
    "    ax.set_xlabel('class 0')\n",
    "    ax.set_xlabel('class 1')\n",
    "\n",
    "axes[0].legend(loc = 3)"
   ]
  },
  {
   "cell_type": "markdown",
   "metadata": {},
   "source": [
    "# End of Source"
   ]
  }
 ],
 "metadata": {
  "kernelspec": {
   "display_name": "Python 3",
   "language": "python",
   "name": "python3"
  },
  "language_info": {
   "codemirror_mode": {
    "name": "ipython",
    "version": 3
   },
   "file_extension": ".py",
   "mimetype": "text/x-python",
   "name": "python",
   "nbconvert_exporter": "python",
   "pygments_lexer": "ipython3",
   "version": "3.6.7"
  }
 },
 "nbformat": 4,
 "nbformat_minor": 2
}
