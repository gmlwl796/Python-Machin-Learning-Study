{
 "cells": [
  {
   "cell_type": "markdown",
   "metadata": {},
   "source": [
    "# <font color = 'color'>모두의 딥러닝: 16장(p.204)</font>"
   ]
  },
  {
   "cell_type": "markdown",
   "metadata": {},
   "source": [
    "# <font color = 'blue'>문제 정의</font>"
   ]
  },
  {
   "cell_type": "markdown",
   "metadata": {},
   "source": [
    "### 미국국립표준기술연구소 손글씨 숫자이미지 데이터셋(MINST Dataset)\n",
    "* 분류(classification) 문제\n",
    "* 흑백 손글씨 숫자이미지 특성을 통해 숫자이미지를 분류예측하는 문제상황\n",
    "* Modified National Institute of Standards and Technology database\n",
    "* 총 7만개: 훈련용(6만개), 테스트용(1만개)\n",
    "\n",
    "<img src = './../../images/mnist.png'>"
   ]
  },
  {
   "cell_type": "markdown",
   "metadata": {},
   "source": [
    "1. 피처(입력/예측/독립)변수\n",
    "    * 흑백 손글씨 숫자이미지 픽셀특성((가로28 X 세로28 픽셀별 색상정보) <pre>\n",
    "1. 타깃(출력/반응/종속)변수\n",
    "    * 10개의 숫자이미지 범주(0 ~ 9)"
   ]
  },
  {
   "cell_type": "markdown",
   "metadata": {},
   "source": [
    "# <font color = 'blue'>데이터 준비</font>"
   ]
  },
  {
   "cell_type": "markdown",
   "metadata": {},
   "source": [
    "### 시각화 모듈로딩 및 한글폰트 작업"
   ]
  },
  {
   "cell_type": "code",
   "execution_count": 1,
   "metadata": {},
   "outputs": [],
   "source": [
    "# 시각화 작업을 위한 모듈 로딩작업\n",
    "%matplotlib inline\n",
    "import matplotlib.pyplot as plt\n",
    "import seaborn as sns\n",
    "from matplotlib import font_manager"
   ]
  },
  {
   "cell_type": "code",
   "execution_count": 2,
   "metadata": {},
   "outputs": [],
   "source": [
    "# 사용을 원하는 한글폰트에 대한 공식이름 확인\n",
    "font_manager.FontProperties(fname=\"c:/Windows/Fonts/malgun.ttf\").get_name()\n",
    "\n",
    "# 사용을 원하는 한글폰트에 대한 공식이름 확인\n",
    "font_manager.FontProperties(fname=\"c:/Windows/Fonts/nanumgothic.ttf\").get_name()\n",
    "\n",
    "# 해당 한글폰트를 파이선 그래프에서 사용가능하도록 설정\n",
    "font_name = font_manager.FontProperties(fname=\"c:/Windows/Fonts/malgun.ttf\").get_name()\n",
    "plt.rcParams[\"font.family\"] = font_name\n",
    "plt.rcParams['axes.unicode_minus'] = False"
   ]
  },
  {
   "cell_type": "code",
   "execution_count": 3,
   "metadata": {},
   "outputs": [],
   "source": [
    "# 워닝메시지 출력관련 모듈로딩\n",
    "import warnings\n",
    "\n",
    "warnings.filterwarnings(action = 'ignore') \n",
    "# - 출력되는 경고메시지를 무시하고 숨김\n",
    "\n",
    "# warnings.filterwarnings(action = 'default')\n",
    "# - 다시 경고메시지가 나타나도록 함"
   ]
  },
  {
   "cell_type": "markdown",
   "metadata": {},
   "source": [
    "### 관련 라이브러리 로딩"
   ]
  },
  {
   "cell_type": "code",
   "execution_count": 4,
   "metadata": {},
   "outputs": [],
   "source": [
    "# 기본 범용라이브러리 로딩\n",
    "import numpy as np\n",
    "import pandas as pd"
   ]
  },
  {
   "cell_type": "code",
   "execution_count": 5,
   "metadata": {
    "scrolled": false
   },
   "outputs": [
    {
     "name": "stderr",
     "output_type": "stream",
     "text": [
      "Using TensorFlow backend.\n"
     ]
    }
   ],
   "source": [
    "# 이미지 라이브러리 데이터셋 모듈 로딩\n",
    "from keras.datasets import mnist"
   ]
  },
  {
   "cell_type": "markdown",
   "metadata": {},
   "source": [
    "### (1) MNIST 데이터셋을 단일 객체로 로딩"
   ]
  },
  {
   "cell_type": "code",
   "execution_count": 6,
   "metadata": {},
   "outputs": [],
   "source": [
    "# mnist에 들어 있는 데이터셋 전체를 data라는 단일객체로 로딩함\n",
    "# 픽셀 정보를 로딩\n",
    "data = mnist.load_data()"
   ]
  },
  {
   "cell_type": "markdown",
   "metadata": {},
   "source": [
    "### 전체 MNIST 데이터셋"
   ]
  },
  {
   "cell_type": "code",
   "execution_count": 7,
   "metadata": {},
   "outputs": [
    {
     "name": "stdout",
     "output_type": "stream",
     "text": [
      "전체셋 형식: <class 'tuple'> \n",
      "전체셋 규모: 2\n"
     ]
    }
   ],
   "source": [
    "# 전체 데이터셋 형식과 규모\n",
    "print('전체셋 형식:', type(data), '\\n'\n",
    "      '전체셋 규모:', len(data))\n",
    "# - 튜플형식으로 요소가 2개\n",
    "# - 첫번째 요소: 6만개의 훈련용셋(피처: 숫자이미지 픽셀특성, 타겟: 숫자이름표 범주) \n",
    "# - 두번째 요소: 1만개의 테스트용셋(피처: 숫자이미지 픽셀특성, 타겟: 숫자이름표 범주)"
   ]
  },
  {
   "cell_type": "markdown",
   "metadata": {},
   "source": [
    "### 훈련 MNIST 데이터셋"
   ]
  },
  {
   "cell_type": "code",
   "execution_count": 8,
   "metadata": {},
   "outputs": [
    {
     "name": "stdout",
     "output_type": "stream",
     "text": [
      "훈련셋 형식: <class 'tuple'> 훈련셋 규모: 2\n",
      "\n",
      "훈련셋 숫자이미지(피처) 형식: <class 'numpy.ndarray'> 규모: (60000, 28, 28)\n",
      "훈련셋 숫자이름표(타겟) 형식: <class 'numpy.ndarray'> 규모: (60000,)\n"
     ]
    }
   ],
   "source": [
    "# 훈련 데이터셋 형식과 규모\n",
    "print('훈련셋 형식:', type(data[0]), \n",
    "      '훈련셋 규모:', len(data[0]))\n",
    "# - 훈련셋도 튜플형식으로 세부요소가 2개\n",
    "# - 훈련셋 첫번째 요소: 6만개의 훈련용 숫자이미지 픽셀특성\n",
    "# - 훈련셋 두번째 요소: 6만개의 훈련용 숫자이름표 범주)\n",
    "\n",
    "print()\n",
    "\n",
    "print('훈련셋 숫자이미지(피처) 형식:', type(data[0][0]), '규모:', data[0][0].shape)\n",
    "# - 훈련셋 숫자이미지 픽셀특성(피처)은 다차원 배열형식임\n",
    "# - 레코드 갯수는  6만개이며, 가로X세로 각각 28개 픽셀별 색상정보로 구성됨\n",
    "# - 규모: (60000, 28, 28) 현재는 3차원 구조.\n",
    "\n",
    "print('훈련셋 숫자이름표(타겟) 형식:', type(data[0][1]), '규모:', data[0][1].shape)\n",
    "# - 훈련셋 숫자이름표(타겟) 범주는 다차원 배열형식임\n",
    "# - 레코드 갯수는  6만개로 구성됨\n",
    "# - 숫자이름표(레이블이 들어 있다.)"
   ]
  },
  {
   "cell_type": "markdown",
   "metadata": {},
   "source": [
    "### 테스트 MNIST 데이터셋"
   ]
  },
  {
   "cell_type": "code",
   "execution_count": 9,
   "metadata": {
    "scrolled": true
   },
   "outputs": [
    {
     "name": "stdout",
     "output_type": "stream",
     "text": [
      "테스트셋 형식: <class 'tuple'> 테스트셋 규모: 2\n",
      "\n",
      "테스트셋 숫자이미지(피처) 형식: <class 'numpy.ndarray'> 규모: (10000, 28, 28)\n",
      "테스트셋 숫자이름표(타겟) 형식: <class 'numpy.ndarray'> 규모: (10000,)\n"
     ]
    }
   ],
   "source": [
    "# 테스트 데이터셋 형식과 규모\n",
    "print('테스트셋 형식:', type(data[1]), \n",
    "      '테스트셋 규모:', len(data[1]))\n",
    "# - 테스트셋도 튜플형식으로 세부요소가 2개\n",
    "# - 테스트셋 첫번째 요소: 1만개의 훈련용 숫자이미지 픽셀특성\n",
    "# - 테스트셋 두번째 요소: 1만개의 훈련용 숫자이름표 범주)\n",
    "\n",
    "print()\n",
    "\n",
    "print('테스트셋 숫자이미지(피처) 형식:', type(data[1][0]), '규모:', data[1][0].shape)\n",
    "# - 테스트셋 숫자이미지 픽셀특성(피처)은 다차원 배열형식임\n",
    "# - 레코드 갯수는  1만개이며, 가로X세로 각각 28개 픽셀별 색상정보로 구성됨\n",
    "\n",
    "print('테스트셋 숫자이름표(타겟) 형식:', type(data[1][1]), '규모:', data[1][1].shape)\n",
    "# - 테스트셋 숫자이름표(타겟) 범주는 다차원 배열형식임\n",
    "# - 레코드 갯수는  1만개로 구성됨"
   ]
  },
  {
   "cell_type": "markdown",
   "metadata": {},
   "source": [
    "### (2) MNIST 데이터셋을 2개 객체로 로딩"
   ]
  },
  {
   "cell_type": "code",
   "execution_count": 10,
   "metadata": {},
   "outputs": [],
   "source": [
    "# mnist에 들어 있는 데이터셋을 train과 test라는 2개 객체로 분리해 로딩함\n",
    "(train, test) = mnist.load_data()\n",
    "# - 원래 mnist데이터셋이 훈련셋과 테스트셋 2개 요소를 가진 튜플로 구성된 형식이라 \n",
    "#   로딩시 튜플로 받기 위해서 괄호()를 1번 사용함"
   ]
  },
  {
   "cell_type": "markdown",
   "metadata": {},
   "source": [
    "### 훈련 MNIST 데이터셋"
   ]
  },
  {
   "cell_type": "code",
   "execution_count": 11,
   "metadata": {},
   "outputs": [
    {
     "name": "stdout",
     "output_type": "stream",
     "text": [
      "훈련셋 형식: <class 'tuple'> 훈련셋 규모: 2\n",
      "\n",
      "훈련셋 숫자이미지(피처) 형식: <class 'numpy.ndarray'> 규모: (60000, 28, 28)\n",
      "훈련셋 숫자이름표(타겟) 형식: <class 'numpy.ndarray'> 규모: (60000,)\n"
     ]
    }
   ],
   "source": [
    "# 훈련 데이터셋 형식과 규모\n",
    "print('훈련셋 형식:', type(train), \n",
    "      '훈련셋 규모:', len(train))\n",
    "# - 튜플형식으로 요소가 2개\n",
    "# - 훈련셋 첫번째 요소: 6만개의 훈련용 숫자이미지 픽셀특성\n",
    "# - 훈련셋 두번째 요소: 6만개의 훈련용 숫자이름표 범주\n",
    "\n",
    "print()\n",
    "\n",
    "print('훈련셋 숫자이미지(피처) 형식:', type(train[0]), '규모:', train[0].shape)\n",
    "# - 훈련셋 숫자이미지 픽셀특성(피처)은 다차원 배열형식임\n",
    "# - 레코드 갯수는  6만개이며, 가로X세로 각각 28개 픽셀별 색상정보로 구성됨\n",
    "\n",
    "print('훈련셋 숫자이름표(타겟) 형식:', type(train[1]), '규모:', train[1].shape)\n",
    "# - 훈련셋 숫자이름표(타겟) 범주는 다차원 배열형식임\n",
    "# - 레코드 갯수는  6만개로 구성됨"
   ]
  },
  {
   "cell_type": "markdown",
   "metadata": {},
   "source": [
    "### 테스트 MNIST 데이터셋"
   ]
  },
  {
   "cell_type": "code",
   "execution_count": 12,
   "metadata": {
    "scrolled": true
   },
   "outputs": [
    {
     "name": "stdout",
     "output_type": "stream",
     "text": [
      "테스트셋 형식: <class 'tuple'> 테스트셋 규모: 2\n",
      "\n",
      "테스트셋 숫자이미지(피처) 형식: <class 'numpy.ndarray'> 규모: (10000, 28, 28)\n",
      "테스트셋 숫자이름표(타겟) 형식: <class 'numpy.ndarray'> 규모: (10000,)\n"
     ]
    }
   ],
   "source": [
    "# 테스트 데이터셋 형식과 규모\n",
    "print('테스트셋 형식:', type(test), \n",
    "      '테스트셋 규모:', len(test))\n",
    "# - 튜플형식으로 요소가 2개\n",
    "# - 테스트셋 첫번째 요소: 1만개의 훈련용 숫자이미지 픽셀특성\n",
    "# - 테스트셋 두번째 요소: 1만개의 훈련용 숫자이름표 범주\n",
    "\n",
    "print()\n",
    "\n",
    "print('테스트셋 숫자이미지(피처) 형식:', type(test[0]), '규모:', test[0].shape)\n",
    "# - 테스트셋 숫자이미지 픽셀특성(피처)은 다차원 배열형식임\n",
    "# - 레코드 갯수는  1만개이며, 가로X세로 각각 28개 픽셀별 색상정보로 구성됨\n",
    "\n",
    "print('테스트셋 숫자이름표(타겟) 형식:', type(test[1]), '규모:', test[1].shape)\n",
    "# - 테스트셋 숫자이름표(타겟) 범주는 다차원 배열형식임\n",
    "# - 레코드 갯수는  1만개로 구성됨"
   ]
  },
  {
   "cell_type": "markdown",
   "metadata": {},
   "source": [
    "### (3) MNIST 데이터셋을 4개 객체로 로딩"
   ]
  },
  {
   "cell_type": "code",
   "execution_count": 13,
   "metadata": {},
   "outputs": [],
   "source": [
    "# mnist에 들어 있는 데이터셋을 X_train과 y_train, X_test, y_test라는 4개 객체로 분리해 로딩함\n",
    "(X_train, y_train), (X_test, y_test) = mnist.load_data()\n",
    "# - 원래 mnist데이터셋이 2개 요소를 가진 튜플로 구성된 형식이며,\n",
    "#   각 요소별로 2개 서브요소를 가진 중첩 튜플 형식이라\n",
    "#   로딩시 튜플로 받기 위해서 괄호()를 2번 사용함\n",
    "# minist.load_data()에는 그림이 들어있는 것이 아니라 픽셀 RGB값이 들어있어. 어떤 위치의 색상에서 글씨가 있는지"
   ]
  },
  {
   "cell_type": "markdown",
   "metadata": {},
   "source": [
    "### 훈련 MNIST 데이터셋"
   ]
  },
  {
   "cell_type": "code",
   "execution_count": 14,
   "metadata": {},
   "outputs": [
    {
     "name": "stdout",
     "output_type": "stream",
     "text": [
      "훈련셋 숫자이미지(피처) 형식: <class 'numpy.ndarray'> 규모: (60000, 28, 28)\n",
      "훈련셋 숫자이름표(타겟) 형식: <class 'numpy.ndarray'> 규모: (60000,)\n"
     ]
    }
   ],
   "source": [
    "# 훈련 데이터셋 형식과 규모\n",
    "\n",
    "print('훈련셋 숫자이미지(피처) 형식:', type(X_train), '규모:', X_train.shape)\n",
    "# - 훈련셋 숫자이미지 픽셀특성(피처)은 다차원 배열형식임\n",
    "# - 레코드 갯수는  6만개이며, 가로X세로 각각 28개 픽셀별 색상정보로 구성됨\n",
    "\n",
    "print('훈련셋 숫자이름표(타겟) 형식:', type(y_train), '규모:', y_train.shape)\n",
    "# - 훈련셋 숫자이름표(타겟) 범주는 다차원 배열형식임\n",
    "# - 레코드 갯수는  6만개로 구성됨"
   ]
  },
  {
   "cell_type": "code",
   "execution_count": 15,
   "metadata": {
    "scrolled": true
   },
   "outputs": [
    {
     "data": {
      "text/plain": [
       "array([[[0, 0, 0, ..., 0, 0, 0],\n",
       "        [0, 0, 0, ..., 0, 0, 0],\n",
       "        [0, 0, 0, ..., 0, 0, 0],\n",
       "        ...,\n",
       "        [0, 0, 0, ..., 0, 0, 0],\n",
       "        [0, 0, 0, ..., 0, 0, 0],\n",
       "        [0, 0, 0, ..., 0, 0, 0]],\n",
       "\n",
       "       [[0, 0, 0, ..., 0, 0, 0],\n",
       "        [0, 0, 0, ..., 0, 0, 0],\n",
       "        [0, 0, 0, ..., 0, 0, 0],\n",
       "        ...,\n",
       "        [0, 0, 0, ..., 0, 0, 0],\n",
       "        [0, 0, 0, ..., 0, 0, 0],\n",
       "        [0, 0, 0, ..., 0, 0, 0]],\n",
       "\n",
       "       [[0, 0, 0, ..., 0, 0, 0],\n",
       "        [0, 0, 0, ..., 0, 0, 0],\n",
       "        [0, 0, 0, ..., 0, 0, 0],\n",
       "        ...,\n",
       "        [0, 0, 0, ..., 0, 0, 0],\n",
       "        [0, 0, 0, ..., 0, 0, 0],\n",
       "        [0, 0, 0, ..., 0, 0, 0]],\n",
       "\n",
       "       ...,\n",
       "\n",
       "       [[0, 0, 0, ..., 0, 0, 0],\n",
       "        [0, 0, 0, ..., 0, 0, 0],\n",
       "        [0, 0, 0, ..., 0, 0, 0],\n",
       "        ...,\n",
       "        [0, 0, 0, ..., 0, 0, 0],\n",
       "        [0, 0, 0, ..., 0, 0, 0],\n",
       "        [0, 0, 0, ..., 0, 0, 0]],\n",
       "\n",
       "       [[0, 0, 0, ..., 0, 0, 0],\n",
       "        [0, 0, 0, ..., 0, 0, 0],\n",
       "        [0, 0, 0, ..., 0, 0, 0],\n",
       "        ...,\n",
       "        [0, 0, 0, ..., 0, 0, 0],\n",
       "        [0, 0, 0, ..., 0, 0, 0],\n",
       "        [0, 0, 0, ..., 0, 0, 0]],\n",
       "\n",
       "       [[0, 0, 0, ..., 0, 0, 0],\n",
       "        [0, 0, 0, ..., 0, 0, 0],\n",
       "        [0, 0, 0, ..., 0, 0, 0],\n",
       "        ...,\n",
       "        [0, 0, 0, ..., 0, 0, 0],\n",
       "        [0, 0, 0, ..., 0, 0, 0],\n",
       "        [0, 0, 0, ..., 0, 0, 0]]], dtype=uint8)"
      ]
     },
     "execution_count": 15,
     "metadata": {},
     "output_type": "execute_result"
    }
   ],
   "source": [
    "# 훈련 데이터셋 중 숫자이미지(피처) 조회\n",
    "X_train"
   ]
  },
  {
   "cell_type": "markdown",
   "metadata": {},
   "source": [
    "### 테스트 MNIST 데이터셋"
   ]
  },
  {
   "cell_type": "code",
   "execution_count": 16,
   "metadata": {},
   "outputs": [
    {
     "name": "stdout",
     "output_type": "stream",
     "text": [
      "테스트셋 숫자이미지(피처) 형식: <class 'numpy.ndarray'> 규모: (10000, 28, 28)\n",
      "테스트셋 숫자이름표(타겟) 형식: <class 'numpy.ndarray'> 규모: (10000,)\n"
     ]
    }
   ],
   "source": [
    "# 테스트 데이터셋 형식과 규모\n",
    "\n",
    "print('테스트셋 숫자이미지(피처) 형식:', type(X_test), '규모:', X_test.shape)\n",
    "# - 테스트셋 숫자이미지(피처) 형식은 다차원 배열형식임\n",
    "# - 레코드 갯수는  1만개이며, 가로X세로 각각 28픽셀로 구성됨\n",
    "\n",
    "print('테스트셋 숫자이름표(타겟) 형식:', type(y_test), '규모:', y_test.shape)\n",
    "# - 테스트셋 숫자이름표(타겟) 형식은 다차원 배열형식임\n",
    "# - 레코드 갯수는  6만개로 구성됨"
   ]
  },
  {
   "cell_type": "code",
   "execution_count": 17,
   "metadata": {
    "scrolled": true
   },
   "outputs": [
    {
     "data": {
      "text/plain": [
       "array([[[0, 0, 0, ..., 0, 0, 0],\n",
       "        [0, 0, 0, ..., 0, 0, 0],\n",
       "        [0, 0, 0, ..., 0, 0, 0],\n",
       "        ...,\n",
       "        [0, 0, 0, ..., 0, 0, 0],\n",
       "        [0, 0, 0, ..., 0, 0, 0],\n",
       "        [0, 0, 0, ..., 0, 0, 0]],\n",
       "\n",
       "       [[0, 0, 0, ..., 0, 0, 0],\n",
       "        [0, 0, 0, ..., 0, 0, 0],\n",
       "        [0, 0, 0, ..., 0, 0, 0],\n",
       "        ...,\n",
       "        [0, 0, 0, ..., 0, 0, 0],\n",
       "        [0, 0, 0, ..., 0, 0, 0],\n",
       "        [0, 0, 0, ..., 0, 0, 0]],\n",
       "\n",
       "       [[0, 0, 0, ..., 0, 0, 0],\n",
       "        [0, 0, 0, ..., 0, 0, 0],\n",
       "        [0, 0, 0, ..., 0, 0, 0],\n",
       "        ...,\n",
       "        [0, 0, 0, ..., 0, 0, 0],\n",
       "        [0, 0, 0, ..., 0, 0, 0],\n",
       "        [0, 0, 0, ..., 0, 0, 0]],\n",
       "\n",
       "       ...,\n",
       "\n",
       "       [[0, 0, 0, ..., 0, 0, 0],\n",
       "        [0, 0, 0, ..., 0, 0, 0],\n",
       "        [0, 0, 0, ..., 0, 0, 0],\n",
       "        ...,\n",
       "        [0, 0, 0, ..., 0, 0, 0],\n",
       "        [0, 0, 0, ..., 0, 0, 0],\n",
       "        [0, 0, 0, ..., 0, 0, 0]],\n",
       "\n",
       "       [[0, 0, 0, ..., 0, 0, 0],\n",
       "        [0, 0, 0, ..., 0, 0, 0],\n",
       "        [0, 0, 0, ..., 0, 0, 0],\n",
       "        ...,\n",
       "        [0, 0, 0, ..., 0, 0, 0],\n",
       "        [0, 0, 0, ..., 0, 0, 0],\n",
       "        [0, 0, 0, ..., 0, 0, 0]],\n",
       "\n",
       "       [[0, 0, 0, ..., 0, 0, 0],\n",
       "        [0, 0, 0, ..., 0, 0, 0],\n",
       "        [0, 0, 0, ..., 0, 0, 0],\n",
       "        ...,\n",
       "        [0, 0, 0, ..., 0, 0, 0],\n",
       "        [0, 0, 0, ..., 0, 0, 0],\n",
       "        [0, 0, 0, ..., 0, 0, 0]]], dtype=uint8)"
      ]
     },
     "execution_count": 17,
     "metadata": {},
     "output_type": "execute_result"
    }
   ],
   "source": [
    "# 테스트 데이터셋 중 숫자이미지(피처) 조회\n",
    "X_test"
   ]
  },
  {
   "cell_type": "markdown",
   "metadata": {},
   "source": [
    "# <font color = 'blue'>데이터 탐색</font>"
   ]
  },
  {
   "cell_type": "markdown",
   "metadata": {},
   "source": [
    "### 전체 MNIST 데이터셋 조회"
   ]
  },
  {
   "cell_type": "code",
   "execution_count": 18,
   "metadata": {
    "scrolled": true
   },
   "outputs": [
    {
     "data": {
      "text/plain": [
       "((array([[[0, 0, 0, ..., 0, 0, 0],\n",
       "          [0, 0, 0, ..., 0, 0, 0],\n",
       "          [0, 0, 0, ..., 0, 0, 0],\n",
       "          ...,\n",
       "          [0, 0, 0, ..., 0, 0, 0],\n",
       "          [0, 0, 0, ..., 0, 0, 0],\n",
       "          [0, 0, 0, ..., 0, 0, 0]],\n",
       "  \n",
       "         [[0, 0, 0, ..., 0, 0, 0],\n",
       "          [0, 0, 0, ..., 0, 0, 0],\n",
       "          [0, 0, 0, ..., 0, 0, 0],\n",
       "          ...,\n",
       "          [0, 0, 0, ..., 0, 0, 0],\n",
       "          [0, 0, 0, ..., 0, 0, 0],\n",
       "          [0, 0, 0, ..., 0, 0, 0]],\n",
       "  \n",
       "         [[0, 0, 0, ..., 0, 0, 0],\n",
       "          [0, 0, 0, ..., 0, 0, 0],\n",
       "          [0, 0, 0, ..., 0, 0, 0],\n",
       "          ...,\n",
       "          [0, 0, 0, ..., 0, 0, 0],\n",
       "          [0, 0, 0, ..., 0, 0, 0],\n",
       "          [0, 0, 0, ..., 0, 0, 0]],\n",
       "  \n",
       "         ...,\n",
       "  \n",
       "         [[0, 0, 0, ..., 0, 0, 0],\n",
       "          [0, 0, 0, ..., 0, 0, 0],\n",
       "          [0, 0, 0, ..., 0, 0, 0],\n",
       "          ...,\n",
       "          [0, 0, 0, ..., 0, 0, 0],\n",
       "          [0, 0, 0, ..., 0, 0, 0],\n",
       "          [0, 0, 0, ..., 0, 0, 0]],\n",
       "  \n",
       "         [[0, 0, 0, ..., 0, 0, 0],\n",
       "          [0, 0, 0, ..., 0, 0, 0],\n",
       "          [0, 0, 0, ..., 0, 0, 0],\n",
       "          ...,\n",
       "          [0, 0, 0, ..., 0, 0, 0],\n",
       "          [0, 0, 0, ..., 0, 0, 0],\n",
       "          [0, 0, 0, ..., 0, 0, 0]],\n",
       "  \n",
       "         [[0, 0, 0, ..., 0, 0, 0],\n",
       "          [0, 0, 0, ..., 0, 0, 0],\n",
       "          [0, 0, 0, ..., 0, 0, 0],\n",
       "          ...,\n",
       "          [0, 0, 0, ..., 0, 0, 0],\n",
       "          [0, 0, 0, ..., 0, 0, 0],\n",
       "          [0, 0, 0, ..., 0, 0, 0]]], dtype=uint8),\n",
       "  array([5, 0, 4, ..., 5, 6, 8], dtype=uint8)),\n",
       " (array([[[0, 0, 0, ..., 0, 0, 0],\n",
       "          [0, 0, 0, ..., 0, 0, 0],\n",
       "          [0, 0, 0, ..., 0, 0, 0],\n",
       "          ...,\n",
       "          [0, 0, 0, ..., 0, 0, 0],\n",
       "          [0, 0, 0, ..., 0, 0, 0],\n",
       "          [0, 0, 0, ..., 0, 0, 0]],\n",
       "  \n",
       "         [[0, 0, 0, ..., 0, 0, 0],\n",
       "          [0, 0, 0, ..., 0, 0, 0],\n",
       "          [0, 0, 0, ..., 0, 0, 0],\n",
       "          ...,\n",
       "          [0, 0, 0, ..., 0, 0, 0],\n",
       "          [0, 0, 0, ..., 0, 0, 0],\n",
       "          [0, 0, 0, ..., 0, 0, 0]],\n",
       "  \n",
       "         [[0, 0, 0, ..., 0, 0, 0],\n",
       "          [0, 0, 0, ..., 0, 0, 0],\n",
       "          [0, 0, 0, ..., 0, 0, 0],\n",
       "          ...,\n",
       "          [0, 0, 0, ..., 0, 0, 0],\n",
       "          [0, 0, 0, ..., 0, 0, 0],\n",
       "          [0, 0, 0, ..., 0, 0, 0]],\n",
       "  \n",
       "         ...,\n",
       "  \n",
       "         [[0, 0, 0, ..., 0, 0, 0],\n",
       "          [0, 0, 0, ..., 0, 0, 0],\n",
       "          [0, 0, 0, ..., 0, 0, 0],\n",
       "          ...,\n",
       "          [0, 0, 0, ..., 0, 0, 0],\n",
       "          [0, 0, 0, ..., 0, 0, 0],\n",
       "          [0, 0, 0, ..., 0, 0, 0]],\n",
       "  \n",
       "         [[0, 0, 0, ..., 0, 0, 0],\n",
       "          [0, 0, 0, ..., 0, 0, 0],\n",
       "          [0, 0, 0, ..., 0, 0, 0],\n",
       "          ...,\n",
       "          [0, 0, 0, ..., 0, 0, 0],\n",
       "          [0, 0, 0, ..., 0, 0, 0],\n",
       "          [0, 0, 0, ..., 0, 0, 0]],\n",
       "  \n",
       "         [[0, 0, 0, ..., 0, 0, 0],\n",
       "          [0, 0, 0, ..., 0, 0, 0],\n",
       "          [0, 0, 0, ..., 0, 0, 0],\n",
       "          ...,\n",
       "          [0, 0, 0, ..., 0, 0, 0],\n",
       "          [0, 0, 0, ..., 0, 0, 0],\n",
       "          [0, 0, 0, ..., 0, 0, 0]]], dtype=uint8),\n",
       "  array([7, 2, 1, ..., 4, 5, 6], dtype=uint8)))"
      ]
     },
     "execution_count": 18,
     "metadata": {},
     "output_type": "execute_result"
    }
   ],
   "source": [
    "# 전체 데이터셋 조회\n",
    "data\n",
    "\n",
    "# - mnist에 들어 있는 데이터셋 전체를 data라는 단일객체로 로딩한 내용을 조회\n",
    "# - data = mnist.load_data()"
   ]
  },
  {
   "cell_type": "markdown",
   "metadata": {},
   "source": [
    "### 훈련 MNIST 데이터셋 조회"
   ]
  },
  {
   "cell_type": "code",
   "execution_count": 19,
   "metadata": {
    "scrolled": true
   },
   "outputs": [
    {
     "data": {
      "text/plain": [
       "(array([[[0, 0, 0, ..., 0, 0, 0],\n",
       "         [0, 0, 0, ..., 0, 0, 0],\n",
       "         [0, 0, 0, ..., 0, 0, 0],\n",
       "         ...,\n",
       "         [0, 0, 0, ..., 0, 0, 0],\n",
       "         [0, 0, 0, ..., 0, 0, 0],\n",
       "         [0, 0, 0, ..., 0, 0, 0]],\n",
       " \n",
       "        [[0, 0, 0, ..., 0, 0, 0],\n",
       "         [0, 0, 0, ..., 0, 0, 0],\n",
       "         [0, 0, 0, ..., 0, 0, 0],\n",
       "         ...,\n",
       "         [0, 0, 0, ..., 0, 0, 0],\n",
       "         [0, 0, 0, ..., 0, 0, 0],\n",
       "         [0, 0, 0, ..., 0, 0, 0]],\n",
       " \n",
       "        [[0, 0, 0, ..., 0, 0, 0],\n",
       "         [0, 0, 0, ..., 0, 0, 0],\n",
       "         [0, 0, 0, ..., 0, 0, 0],\n",
       "         ...,\n",
       "         [0, 0, 0, ..., 0, 0, 0],\n",
       "         [0, 0, 0, ..., 0, 0, 0],\n",
       "         [0, 0, 0, ..., 0, 0, 0]],\n",
       " \n",
       "        ...,\n",
       " \n",
       "        [[0, 0, 0, ..., 0, 0, 0],\n",
       "         [0, 0, 0, ..., 0, 0, 0],\n",
       "         [0, 0, 0, ..., 0, 0, 0],\n",
       "         ...,\n",
       "         [0, 0, 0, ..., 0, 0, 0],\n",
       "         [0, 0, 0, ..., 0, 0, 0],\n",
       "         [0, 0, 0, ..., 0, 0, 0]],\n",
       " \n",
       "        [[0, 0, 0, ..., 0, 0, 0],\n",
       "         [0, 0, 0, ..., 0, 0, 0],\n",
       "         [0, 0, 0, ..., 0, 0, 0],\n",
       "         ...,\n",
       "         [0, 0, 0, ..., 0, 0, 0],\n",
       "         [0, 0, 0, ..., 0, 0, 0],\n",
       "         [0, 0, 0, ..., 0, 0, 0]],\n",
       " \n",
       "        [[0, 0, 0, ..., 0, 0, 0],\n",
       "         [0, 0, 0, ..., 0, 0, 0],\n",
       "         [0, 0, 0, ..., 0, 0, 0],\n",
       "         ...,\n",
       "         [0, 0, 0, ..., 0, 0, 0],\n",
       "         [0, 0, 0, ..., 0, 0, 0],\n",
       "         [0, 0, 0, ..., 0, 0, 0]]], dtype=uint8),\n",
       " array([5, 0, 4, ..., 5, 6, 8], dtype=uint8))"
      ]
     },
     "execution_count": 19,
     "metadata": {},
     "output_type": "execute_result"
    }
   ],
   "source": [
    "# 훈련 데이터셋 조회\n",
    "\n",
    "data[0]\n",
    "# - mnist에 들어 있는 데이터셋 전체를 data라는 단일객체로 로딩한 내용을 조회\n",
    "# - data = mnist.load_data()\n",
    "\n",
    "train\n",
    "# - mnist에 들어 있는 데이터셋을 \n",
    "#   train과 test라는 2개 객체로 분리해 로딩한 내용조회\n",
    "# - (train, test) = mnist.load_data()"
   ]
  },
  {
   "cell_type": "code",
   "execution_count": 20,
   "metadata": {
    "scrolled": true
   },
   "outputs": [
    {
     "data": {
      "text/plain": [
       "array([[[0, 0, 0, ..., 0, 0, 0],\n",
       "        [0, 0, 0, ..., 0, 0, 0],\n",
       "        [0, 0, 0, ..., 0, 0, 0],\n",
       "        ...,\n",
       "        [0, 0, 0, ..., 0, 0, 0],\n",
       "        [0, 0, 0, ..., 0, 0, 0],\n",
       "        [0, 0, 0, ..., 0, 0, 0]],\n",
       "\n",
       "       [[0, 0, 0, ..., 0, 0, 0],\n",
       "        [0, 0, 0, ..., 0, 0, 0],\n",
       "        [0, 0, 0, ..., 0, 0, 0],\n",
       "        ...,\n",
       "        [0, 0, 0, ..., 0, 0, 0],\n",
       "        [0, 0, 0, ..., 0, 0, 0],\n",
       "        [0, 0, 0, ..., 0, 0, 0]],\n",
       "\n",
       "       [[0, 0, 0, ..., 0, 0, 0],\n",
       "        [0, 0, 0, ..., 0, 0, 0],\n",
       "        [0, 0, 0, ..., 0, 0, 0],\n",
       "        ...,\n",
       "        [0, 0, 0, ..., 0, 0, 0],\n",
       "        [0, 0, 0, ..., 0, 0, 0],\n",
       "        [0, 0, 0, ..., 0, 0, 0]],\n",
       "\n",
       "       ...,\n",
       "\n",
       "       [[0, 0, 0, ..., 0, 0, 0],\n",
       "        [0, 0, 0, ..., 0, 0, 0],\n",
       "        [0, 0, 0, ..., 0, 0, 0],\n",
       "        ...,\n",
       "        [0, 0, 0, ..., 0, 0, 0],\n",
       "        [0, 0, 0, ..., 0, 0, 0],\n",
       "        [0, 0, 0, ..., 0, 0, 0]],\n",
       "\n",
       "       [[0, 0, 0, ..., 0, 0, 0],\n",
       "        [0, 0, 0, ..., 0, 0, 0],\n",
       "        [0, 0, 0, ..., 0, 0, 0],\n",
       "        ...,\n",
       "        [0, 0, 0, ..., 0, 0, 0],\n",
       "        [0, 0, 0, ..., 0, 0, 0],\n",
       "        [0, 0, 0, ..., 0, 0, 0]],\n",
       "\n",
       "       [[0, 0, 0, ..., 0, 0, 0],\n",
       "        [0, 0, 0, ..., 0, 0, 0],\n",
       "        [0, 0, 0, ..., 0, 0, 0],\n",
       "        ...,\n",
       "        [0, 0, 0, ..., 0, 0, 0],\n",
       "        [0, 0, 0, ..., 0, 0, 0],\n",
       "        [0, 0, 0, ..., 0, 0, 0]]], dtype=uint8)"
      ]
     },
     "execution_count": 20,
     "metadata": {},
     "output_type": "execute_result"
    }
   ],
   "source": [
    "# 훈련 데이터셋 중 숫자이미지(피처) 조회\n",
    "\n",
    "data[0][0]\n",
    "# - mnist에 들어 있는 데이터셋 전체를 \n",
    "#   data라는 단일객체로 로딩한 내용을 조회\n",
    "# - data = mnist.load_data()\n",
    "\n",
    "train[0]\n",
    "# - mnist에 들어 있는 데이터셋을 \n",
    "#   train과 test라는 2개 객체로 분리해 로딩한 내용조회\n",
    "# - (train, test) = mnist.load_data()\n",
    "\n",
    "X_train\n",
    "# mnist에 들어 있는 데이터셋을 \n",
    "# X_train과 y_train, X_test, y_test라는 4개 객체로 분리해 로딩한 내용을 조회\n",
    "# - (X_train, y_train), (X_test, y_test) = mnist.load_data()"
   ]
  },
  {
   "cell_type": "code",
   "execution_count": 21,
   "metadata": {},
   "outputs": [
    {
     "data": {
      "text/plain": [
       "array([5, 0, 4, ..., 5, 6, 8], dtype=uint8)"
      ]
     },
     "execution_count": 21,
     "metadata": {},
     "output_type": "execute_result"
    }
   ],
   "source": [
    "# 훈련 데이터셋 중 숫자이름표(타겟) 조회\n",
    "\n",
    "data[0][1]\n",
    "# - mnist에 들어 있는 데이터셋 전체를 \n",
    "#   data라는 단일객체로 로딩한 내용을 조회\n",
    "# - data = mnist.load_data()\n",
    "\n",
    "train[1]\n",
    "# - mnist에 들어 있는 데이터셋을 \n",
    "#   train과 test라는 2개 객체로 분리해 로딩한 내용조회\n",
    "# - (train, test) = mnist.load_data()\n",
    "\n",
    "y_train\n",
    "# mnist에 들어 있는 데이터셋을 \n",
    "# X_train과 y_train, X_test, y_test라는 4개 객체로 분리해 로딩한 내용을 조회\n",
    "# - (X_train, y_train), (X_test, y_test) = mnist.load_data()"
   ]
  },
  {
   "cell_type": "code",
   "execution_count": 22,
   "metadata": {},
   "outputs": [
    {
     "name": "stdout",
     "output_type": "stream",
     "text": [
      "훈련셋 숫자이름표(타겟) 유형: [0 1 2 3 4 5 6 7 8 9]\n",
      "훈련셋 숫자이름표(타겟) 유형별 빈도수: [5923 6742 5958 6131 5842 5421 5918 6265 5851 5949]\n",
      "훈련셋 숫자이름표(타겟) 유형별 비율: [0.099, 0.112, 0.099, 0.102, 0.097, 0.09, 0.099, 0.104, 0.098, 0.099]\n"
     ]
    },
    {
     "data": {
      "text/html": [
       "<div>\n",
       "<style scoped>\n",
       "    .dataframe tbody tr th:only-of-type {\n",
       "        vertical-align: middle;\n",
       "    }\n",
       "\n",
       "    .dataframe tbody tr th {\n",
       "        vertical-align: top;\n",
       "    }\n",
       "\n",
       "    .dataframe thead th {\n",
       "        text-align: right;\n",
       "    }\n",
       "</style>\n",
       "<table border=\"1\" class=\"dataframe\">\n",
       "  <thead>\n",
       "    <tr style=\"text-align: right;\">\n",
       "      <th></th>\n",
       "      <th>number</th>\n",
       "      <th>frequency</th>\n",
       "      <th>oportion</th>\n",
       "    </tr>\n",
       "  </thead>\n",
       "  <tbody>\n",
       "    <tr>\n",
       "      <th>0</th>\n",
       "      <td>0</td>\n",
       "      <td>5923</td>\n",
       "      <td>0.099</td>\n",
       "    </tr>\n",
       "    <tr>\n",
       "      <th>1</th>\n",
       "      <td>1</td>\n",
       "      <td>6742</td>\n",
       "      <td>0.112</td>\n",
       "    </tr>\n",
       "    <tr>\n",
       "      <th>2</th>\n",
       "      <td>2</td>\n",
       "      <td>5958</td>\n",
       "      <td>0.099</td>\n",
       "    </tr>\n",
       "    <tr>\n",
       "      <th>3</th>\n",
       "      <td>3</td>\n",
       "      <td>6131</td>\n",
       "      <td>0.102</td>\n",
       "    </tr>\n",
       "    <tr>\n",
       "      <th>4</th>\n",
       "      <td>4</td>\n",
       "      <td>5842</td>\n",
       "      <td>0.097</td>\n",
       "    </tr>\n",
       "    <tr>\n",
       "      <th>5</th>\n",
       "      <td>5</td>\n",
       "      <td>5421</td>\n",
       "      <td>0.090</td>\n",
       "    </tr>\n",
       "    <tr>\n",
       "      <th>6</th>\n",
       "      <td>6</td>\n",
       "      <td>5918</td>\n",
       "      <td>0.099</td>\n",
       "    </tr>\n",
       "    <tr>\n",
       "      <th>7</th>\n",
       "      <td>7</td>\n",
       "      <td>6265</td>\n",
       "      <td>0.104</td>\n",
       "    </tr>\n",
       "    <tr>\n",
       "      <th>8</th>\n",
       "      <td>8</td>\n",
       "      <td>5851</td>\n",
       "      <td>0.098</td>\n",
       "    </tr>\n",
       "    <tr>\n",
       "      <th>9</th>\n",
       "      <td>9</td>\n",
       "      <td>5949</td>\n",
       "      <td>0.099</td>\n",
       "    </tr>\n",
       "  </tbody>\n",
       "</table>\n",
       "</div>"
      ],
      "text/plain": [
       "   number  frequency  oportion\n",
       "0       0       5923     0.099\n",
       "1       1       6742     0.112\n",
       "2       2       5958     0.099\n",
       "3       3       6131     0.102\n",
       "4       4       5842     0.097\n",
       "5       5       5421     0.090\n",
       "6       6       5918     0.099\n",
       "7       7       6265     0.104\n",
       "8       8       5851     0.098\n",
       "9       9       5949     0.099"
      ]
     },
     "execution_count": 22,
     "metadata": {},
     "output_type": "execute_result"
    }
   ],
   "source": [
    "# 훈련 데이터셋 중 숫자이름표(타겟) 분포파악\n",
    "y_tr_uq = np.unique(y_train)\n",
    "print('훈련셋 숫자이름표(타겟) 유형:', y_tr_uq)\n",
    "\n",
    "y_tr_bin = np.bincount(y_train)\n",
    "print('훈련셋 숫자이름표(타겟) 유형별 빈도수:', y_tr_bin)\n",
    "\n",
    "y_tr_por = [round(i / sum(y_tr_bin), 3) for i in y_tr_bin]\n",
    "print('훈련셋 숫자이름표(타겟) 유형별 비율:', y_tr_por)\n",
    "\n",
    "y_tr_tb = pd.DataFrame({'number': y_tr_uq, \n",
    "                        'frequency': y_tr_bin, \n",
    "                        'oportion': y_tr_por})\n",
    "y_tr_tb"
   ]
  },
  {
   "cell_type": "code",
   "execution_count": 23,
   "metadata": {},
   "outputs": [
    {
     "data": {
      "text/plain": [
       "Text(0, 0.5, '갯수')"
      ]
     },
     "execution_count": 23,
     "metadata": {},
     "output_type": "execute_result"
    },
    {
     "data": {
      "image/png": "[encoded data removed]",
      "text/plain": [
       "<Figure size 432x288 with 1 Axes>"
      ]
     },
     "metadata": {
      "needs_background": "light"
     },
     "output_type": "display_data"
    }
   ],
   "source": [
    "# 훈련 데이터셋 중 숫자이름표(타겟) 분포 그래프\n",
    "ax = sns.barplot(x = 'number', y = 'frequency', data = y_tr_tb) \n",
    "ax.set_title('훈련셋 숫자이름표 분포현황', size = 14) \n",
    "ax.set_xlabel('숫자', size = 12) \n",
    "ax.set_ylabel('갯수', size = 12)"
   ]
  },
  {
   "cell_type": "markdown",
   "metadata": {},
   "source": [
    "### 테스트 MNIST 데이터셋 조회"
   ]
  },
  {
   "cell_type": "code",
   "execution_count": 24,
   "metadata": {
    "scrolled": true
   },
   "outputs": [
    {
     "data": {
      "text/plain": [
       "(array([[[0, 0, 0, ..., 0, 0, 0],\n",
       "         [0, 0, 0, ..., 0, 0, 0],\n",
       "         [0, 0, 0, ..., 0, 0, 0],\n",
       "         ...,\n",
       "         [0, 0, 0, ..., 0, 0, 0],\n",
       "         [0, 0, 0, ..., 0, 0, 0],\n",
       "         [0, 0, 0, ..., 0, 0, 0]],\n",
       " \n",
       "        [[0, 0, 0, ..., 0, 0, 0],\n",
       "         [0, 0, 0, ..., 0, 0, 0],\n",
       "         [0, 0, 0, ..., 0, 0, 0],\n",
       "         ...,\n",
       "         [0, 0, 0, ..., 0, 0, 0],\n",
       "         [0, 0, 0, ..., 0, 0, 0],\n",
       "         [0, 0, 0, ..., 0, 0, 0]],\n",
       " \n",
       "        [[0, 0, 0, ..., 0, 0, 0],\n",
       "         [0, 0, 0, ..., 0, 0, 0],\n",
       "         [0, 0, 0, ..., 0, 0, 0],\n",
       "         ...,\n",
       "         [0, 0, 0, ..., 0, 0, 0],\n",
       "         [0, 0, 0, ..., 0, 0, 0],\n",
       "         [0, 0, 0, ..., 0, 0, 0]],\n",
       " \n",
       "        ...,\n",
       " \n",
       "        [[0, 0, 0, ..., 0, 0, 0],\n",
       "         [0, 0, 0, ..., 0, 0, 0],\n",
       "         [0, 0, 0, ..., 0, 0, 0],\n",
       "         ...,\n",
       "         [0, 0, 0, ..., 0, 0, 0],\n",
       "         [0, 0, 0, ..., 0, 0, 0],\n",
       "         [0, 0, 0, ..., 0, 0, 0]],\n",
       " \n",
       "        [[0, 0, 0, ..., 0, 0, 0],\n",
       "         [0, 0, 0, ..., 0, 0, 0],\n",
       "         [0, 0, 0, ..., 0, 0, 0],\n",
       "         ...,\n",
       "         [0, 0, 0, ..., 0, 0, 0],\n",
       "         [0, 0, 0, ..., 0, 0, 0],\n",
       "         [0, 0, 0, ..., 0, 0, 0]],\n",
       " \n",
       "        [[0, 0, 0, ..., 0, 0, 0],\n",
       "         [0, 0, 0, ..., 0, 0, 0],\n",
       "         [0, 0, 0, ..., 0, 0, 0],\n",
       "         ...,\n",
       "         [0, 0, 0, ..., 0, 0, 0],\n",
       "         [0, 0, 0, ..., 0, 0, 0],\n",
       "         [0, 0, 0, ..., 0, 0, 0]]], dtype=uint8),\n",
       " array([7, 2, 1, ..., 4, 5, 6], dtype=uint8))"
      ]
     },
     "execution_count": 24,
     "metadata": {},
     "output_type": "execute_result"
    }
   ],
   "source": [
    "# 테스트 데이터셋 조회\n",
    "\n",
    "data[1]\n",
    "# - mnist에 들어 있는 데이터셋 전체를 data라는 단일객체로 로딩한 내용을 조회\n",
    "# - data = mnist.load_data()\n",
    "\n",
    "test\n",
    "# - mnist에 들어 있는 데이터셋을 \n",
    "#   train과 test라는 2개 객체로 분리해 로딩한 내용조회\n",
    "# - (train, test) = mnist.load_data()"
   ]
  },
  {
   "cell_type": "code",
   "execution_count": 25,
   "metadata": {
    "scrolled": true
   },
   "outputs": [
    {
     "data": {
      "text/plain": [
       "array([[[0, 0, 0, ..., 0, 0, 0],\n",
       "        [0, 0, 0, ..., 0, 0, 0],\n",
       "        [0, 0, 0, ..., 0, 0, 0],\n",
       "        ...,\n",
       "        [0, 0, 0, ..., 0, 0, 0],\n",
       "        [0, 0, 0, ..., 0, 0, 0],\n",
       "        [0, 0, 0, ..., 0, 0, 0]],\n",
       "\n",
       "       [[0, 0, 0, ..., 0, 0, 0],\n",
       "        [0, 0, 0, ..., 0, 0, 0],\n",
       "        [0, 0, 0, ..., 0, 0, 0],\n",
       "        ...,\n",
       "        [0, 0, 0, ..., 0, 0, 0],\n",
       "        [0, 0, 0, ..., 0, 0, 0],\n",
       "        [0, 0, 0, ..., 0, 0, 0]],\n",
       "\n",
       "       [[0, 0, 0, ..., 0, 0, 0],\n",
       "        [0, 0, 0, ..., 0, 0, 0],\n",
       "        [0, 0, 0, ..., 0, 0, 0],\n",
       "        ...,\n",
       "        [0, 0, 0, ..., 0, 0, 0],\n",
       "        [0, 0, 0, ..., 0, 0, 0],\n",
       "        [0, 0, 0, ..., 0, 0, 0]],\n",
       "\n",
       "       ...,\n",
       "\n",
       "       [[0, 0, 0, ..., 0, 0, 0],\n",
       "        [0, 0, 0, ..., 0, 0, 0],\n",
       "        [0, 0, 0, ..., 0, 0, 0],\n",
       "        ...,\n",
       "        [0, 0, 0, ..., 0, 0, 0],\n",
       "        [0, 0, 0, ..., 0, 0, 0],\n",
       "        [0, 0, 0, ..., 0, 0, 0]],\n",
       "\n",
       "       [[0, 0, 0, ..., 0, 0, 0],\n",
       "        [0, 0, 0, ..., 0, 0, 0],\n",
       "        [0, 0, 0, ..., 0, 0, 0],\n",
       "        ...,\n",
       "        [0, 0, 0, ..., 0, 0, 0],\n",
       "        [0, 0, 0, ..., 0, 0, 0],\n",
       "        [0, 0, 0, ..., 0, 0, 0]],\n",
       "\n",
       "       [[0, 0, 0, ..., 0, 0, 0],\n",
       "        [0, 0, 0, ..., 0, 0, 0],\n",
       "        [0, 0, 0, ..., 0, 0, 0],\n",
       "        ...,\n",
       "        [0, 0, 0, ..., 0, 0, 0],\n",
       "        [0, 0, 0, ..., 0, 0, 0],\n",
       "        [0, 0, 0, ..., 0, 0, 0]]], dtype=uint8)"
      ]
     },
     "execution_count": 25,
     "metadata": {},
     "output_type": "execute_result"
    }
   ],
   "source": [
    "# 테스트 데이터셋 중 숫자이미지(피처) 조회\n",
    "\n",
    "data[1][0]\n",
    "# - mnist에 들어 있는 데이터셋 전체를 \n",
    "#   data라는 단일객체로 로딩한 내용을 조회\n",
    "# - data = mnist.load_data()\n",
    "\n",
    "test[0]\n",
    "# - mnist에 들어 있는 데이터셋을 \n",
    "#   train과 test라는 2개 객체로 분리해 로딩한 내용조회\n",
    "# - (train, test) = mnist.load_data()\n",
    "\n",
    "X_test\n",
    "# mnist에 들어 있는 데이터셋을 \n",
    "# X_train과 y_train, X_test, y_test라는 4개 객체로 분리해 로딩한 내용을 조회\n",
    "# - (X_train, y_train), (X_test, y_test) = mnist.load_data()"
   ]
  },
  {
   "cell_type": "code",
   "execution_count": 26,
   "metadata": {},
   "outputs": [
    {
     "data": {
      "text/plain": [
       "array([7, 2, 1, ..., 4, 5, 6], dtype=uint8)"
      ]
     },
     "execution_count": 26,
     "metadata": {},
     "output_type": "execute_result"
    }
   ],
   "source": [
    "# 테스트 데이터셋 중 숫자이름표(타겟) 조회\n",
    "\n",
    "data[1][1]\n",
    "# - mnist에 들어 있는 데이터셋 전체를 \n",
    "#   data라는 단일객체로 로딩한 내용을 조회\n",
    "# - data = mnist.load_data()\n",
    "\n",
    "test[1]\n",
    "# - mnist에 들어 있는 데이터셋을 \n",
    "#   train과 test라는 2개 객체로 분리해 로딩한 내용조회\n",
    "# - (train, test) = mnist.load_data()\n",
    "\n",
    "y_test\n",
    "# mnist에 들어 있는 데이터셋을 \n",
    "# X_train과 y_train, X_test, y_test라는 4개 객체로 분리해 로딩한 내용을 조회\n",
    "# - (X_train, y_train), (X_test, y_test) = mnist.load_data()"
   ]
  },
  {
   "cell_type": "code",
   "execution_count": 27,
   "metadata": {},
   "outputs": [
    {
     "name": "stdout",
     "output_type": "stream",
     "text": [
      "테스트셋 숫자이름표(타겟) 유형: [0 1 2 3 4 5 6 7 8 9]\n",
      "테스트셋 숫자이름표(타겟) 유형별 빈도수: [ 980 1135 1032 1010  982  892  958 1028  974 1009]\n",
      "테스트셋 숫자이름표(타겟) 유형별 비율: [0.098, 0.114, 0.103, 0.101, 0.098, 0.089, 0.096, 0.103, 0.097, 0.101]\n"
     ]
    },
    {
     "data": {
      "text/html": [
       "<div>\n",
       "<style scoped>\n",
       "    .dataframe tbody tr th:only-of-type {\n",
       "        vertical-align: middle;\n",
       "    }\n",
       "\n",
       "    .dataframe tbody tr th {\n",
       "        vertical-align: top;\n",
       "    }\n",
       "\n",
       "    .dataframe thead th {\n",
       "        text-align: right;\n",
       "    }\n",
       "</style>\n",
       "<table border=\"1\" class=\"dataframe\">\n",
       "  <thead>\n",
       "    <tr style=\"text-align: right;\">\n",
       "      <th></th>\n",
       "      <th>number</th>\n",
       "      <th>frequency</th>\n",
       "      <th>oportion</th>\n",
       "    </tr>\n",
       "  </thead>\n",
       "  <tbody>\n",
       "    <tr>\n",
       "      <th>0</th>\n",
       "      <td>0</td>\n",
       "      <td>980</td>\n",
       "      <td>0.098</td>\n",
       "    </tr>\n",
       "    <tr>\n",
       "      <th>1</th>\n",
       "      <td>1</td>\n",
       "      <td>1135</td>\n",
       "      <td>0.114</td>\n",
       "    </tr>\n",
       "    <tr>\n",
       "      <th>2</th>\n",
       "      <td>2</td>\n",
       "      <td>1032</td>\n",
       "      <td>0.103</td>\n",
       "    </tr>\n",
       "    <tr>\n",
       "      <th>3</th>\n",
       "      <td>3</td>\n",
       "      <td>1010</td>\n",
       "      <td>0.101</td>\n",
       "    </tr>\n",
       "    <tr>\n",
       "      <th>4</th>\n",
       "      <td>4</td>\n",
       "      <td>982</td>\n",
       "      <td>0.098</td>\n",
       "    </tr>\n",
       "    <tr>\n",
       "      <th>5</th>\n",
       "      <td>5</td>\n",
       "      <td>892</td>\n",
       "      <td>0.089</td>\n",
       "    </tr>\n",
       "    <tr>\n",
       "      <th>6</th>\n",
       "      <td>6</td>\n",
       "      <td>958</td>\n",
       "      <td>0.096</td>\n",
       "    </tr>\n",
       "    <tr>\n",
       "      <th>7</th>\n",
       "      <td>7</td>\n",
       "      <td>1028</td>\n",
       "      <td>0.103</td>\n",
       "    </tr>\n",
       "    <tr>\n",
       "      <th>8</th>\n",
       "      <td>8</td>\n",
       "      <td>974</td>\n",
       "      <td>0.097</td>\n",
       "    </tr>\n",
       "    <tr>\n",
       "      <th>9</th>\n",
       "      <td>9</td>\n",
       "      <td>1009</td>\n",
       "      <td>0.101</td>\n",
       "    </tr>\n",
       "  </tbody>\n",
       "</table>\n",
       "</div>"
      ],
      "text/plain": [
       "   number  frequency  oportion\n",
       "0       0        980     0.098\n",
       "1       1       1135     0.114\n",
       "2       2       1032     0.103\n",
       "3       3       1010     0.101\n",
       "4       4        982     0.098\n",
       "5       5        892     0.089\n",
       "6       6        958     0.096\n",
       "7       7       1028     0.103\n",
       "8       8        974     0.097\n",
       "9       9       1009     0.101"
      ]
     },
     "execution_count": 27,
     "metadata": {},
     "output_type": "execute_result"
    }
   ],
   "source": [
    "# 테스트 데이터셋 중 숫자이름표(타겟) 분포파악\n",
    "y_tt_uq = np.unique(y_test)\n",
    "print('테스트셋 숫자이름표(타겟) 유형:', y_tt_uq)\n",
    "\n",
    "y_tt_bin = np.bincount(y_test)\n",
    "print('테스트셋 숫자이름표(타겟) 유형별 빈도수:', y_tt_bin)\n",
    "\n",
    "y_tt_por = [round(i / sum(y_tt_bin), 3) for i in y_tt_bin]\n",
    "print('테스트셋 숫자이름표(타겟) 유형별 비율:', y_tt_por)\n",
    "\n",
    "y_tt_tb = pd.DataFrame({'number': y_tt_uq, \n",
    "                        'frequency': y_tt_bin, \n",
    "                        'oportion': y_tt_por})\n",
    "y_tt_tb"
   ]
  },
  {
   "cell_type": "code",
   "execution_count": 28,
   "metadata": {},
   "outputs": [
    {
     "data": {
      "text/plain": [
       "Text(0, 0.5, '갯수')"
      ]
     },
     "execution_count": 28,
     "metadata": {},
     "output_type": "execute_result"
    },
    {
     "data": {
      "image/png": "[encoded data removed]",
      "text/plain": [
       "<Figure size 432x288 with 1 Axes>"
      ]
     },
     "metadata": {
      "needs_background": "light"
     },
     "output_type": "display_data"
    }
   ],
   "source": [
    "# 테스트 데이터셋 중 숫자이름표(타겟) 분포 그래프\n",
    "ax = sns.barplot(x = 'number', y = 'frequency', data = y_tt_tb) \n",
    "ax.set_title('테스트셋 숫자이름표 분포현황', size = 14) \n",
    "ax.set_xlabel('숫자', size = 12) \n",
    "ax.set_ylabel('갯수', size = 12)"
   ]
  },
  {
   "cell_type": "markdown",
   "metadata": {},
   "source": [
    "### 숫자이미지(피처) 출력"
   ]
  },
  {
   "cell_type": "code",
   "execution_count": 29,
   "metadata": {
    "scrolled": true
   },
   "outputs": [
    {
     "data": {
      "text/plain": [
       "array([[  0,   0,   0,   0,   0,   0,   0,   0,   0,   0,   0,   0,   0,\n",
       "          0,   0,   0,   0,   0,   0,   0,   0,   0,   0,   0,   0,   0,\n",
       "          0,   0],\n",
       "       [  0,   0,   0,   0,   0,   0,   0,   0,   0,   0,   0,   0,   0,\n",
       "          0,   0,   0,   0,   0,   0,   0,   0,   0,   0,   0,   0,   0,\n",
       "          0,   0],\n",
       "       [  0,   0,   0,   0,   0,   0,   0,   0,   0,   0,   0,   0,   0,\n",
       "          0,   0,   0,   0,   0,   0,   0,   0,   0,   0,   0,   0,   0,\n",
       "          0,   0],\n",
       "       [  0,   0,   0,   0,   0,   0,   0,   0,   0,   0,   0,   0,   0,\n",
       "          0,   0,   0,   0,   0,   0,   0,   0,   0,   0,   0,   0,   0,\n",
       "          0,   0],\n",
       "       [  0,   0,   0,   0,   0,   0,   0,   0,   0,   0,   0,   0,   0,\n",
       "          0,   0,   0,   0,   0,   0,   0,   0,   0,   0,   0,   0,   0,\n",
       "          0,   0],\n",
       "       [  0,   0,   0,   0,   0,   0,   0,   0,   0,   0,   0,   0,   3,\n",
       "         18,  18,  18, 126, 136, 175,  26, 166, 255, 247, 127,   0,   0,\n",
       "          0,   0],\n",
       "       [  0,   0,   0,   0,   0,   0,   0,   0,  30,  36,  94, 154, 170,\n",
       "        253, 253, 253, 253, 253, 225, 172, 253, 242, 195,  64,   0,   0,\n",
       "          0,   0],\n",
       "       [  0,   0,   0,   0,   0,   0,   0,  49, 238, 253, 253, 253, 253,\n",
       "        253, 253, 253, 253, 251,  93,  82,  82,  56,  39,   0,   0,   0,\n",
       "          0,   0],\n",
       "       [  0,   0,   0,   0,   0,   0,   0,  18, 219, 253, 253, 253, 253,\n",
       "        253, 198, 182, 247, 241,   0,   0,   0,   0,   0,   0,   0,   0,\n",
       "          0,   0],\n",
       "       [  0,   0,   0,   0,   0,   0,   0,   0,  80, 156, 107, 253, 253,\n",
       "        205,  11,   0,  43, 154,   0,   0,   0,   0,   0,   0,   0,   0,\n",
       "          0,   0],\n",
       "       [  0,   0,   0,   0,   0,   0,   0,   0,   0,  14,   1, 154, 253,\n",
       "         90,   0,   0,   0,   0,   0,   0,   0,   0,   0,   0,   0,   0,\n",
       "          0,   0],\n",
       "       [  0,   0,   0,   0,   0,   0,   0,   0,   0,   0,   0, 139, 253,\n",
       "        190,   2,   0,   0,   0,   0,   0,   0,   0,   0,   0,   0,   0,\n",
       "          0,   0],\n",
       "       [  0,   0,   0,   0,   0,   0,   0,   0,   0,   0,   0,  11, 190,\n",
       "        253,  70,   0,   0,   0,   0,   0,   0,   0,   0,   0,   0,   0,\n",
       "          0,   0],\n",
       "       [  0,   0,   0,   0,   0,   0,   0,   0,   0,   0,   0,   0,  35,\n",
       "        241, 225, 160, 108,   1,   0,   0,   0,   0,   0,   0,   0,   0,\n",
       "          0,   0],\n",
       "       [  0,   0,   0,   0,   0,   0,   0,   0,   0,   0,   0,   0,   0,\n",
       "         81, 240, 253, 253, 119,  25,   0,   0,   0,   0,   0,   0,   0,\n",
       "          0,   0],\n",
       "       [  0,   0,   0,   0,   0,   0,   0,   0,   0,   0,   0,   0,   0,\n",
       "          0,  45, 186, 253, 253, 150,  27,   0,   0,   0,   0,   0,   0,\n",
       "          0,   0],\n",
       "       [  0,   0,   0,   0,   0,   0,   0,   0,   0,   0,   0,   0,   0,\n",
       "          0,   0,  16,  93, 252, 253, 187,   0,   0,   0,   0,   0,   0,\n",
       "          0,   0],\n",
       "       [  0,   0,   0,   0,   0,   0,   0,   0,   0,   0,   0,   0,   0,\n",
       "          0,   0,   0,   0, 249, 253, 249,  64,   0,   0,   0,   0,   0,\n",
       "          0,   0],\n",
       "       [  0,   0,   0,   0,   0,   0,   0,   0,   0,   0,   0,   0,   0,\n",
       "          0,  46, 130, 183, 253, 253, 207,   2,   0,   0,   0,   0,   0,\n",
       "          0,   0],\n",
       "       [  0,   0,   0,   0,   0,   0,   0,   0,   0,   0,   0,   0,  39,\n",
       "        148, 229, 253, 253, 253, 250, 182,   0,   0,   0,   0,   0,   0,\n",
       "          0,   0],\n",
       "       [  0,   0,   0,   0,   0,   0,   0,   0,   0,   0,  24, 114, 221,\n",
       "        253, 253, 253, 253, 201,  78,   0,   0,   0,   0,   0,   0,   0,\n",
       "          0,   0],\n",
       "       [  0,   0,   0,   0,   0,   0,   0,   0,  23,  66, 213, 253, 253,\n",
       "        253, 253, 198,  81,   2,   0,   0,   0,   0,   0,   0,   0,   0,\n",
       "          0,   0],\n",
       "       [  0,   0,   0,   0,   0,   0,  18, 171, 219, 253, 253, 253, 253,\n",
       "        195,  80,   9,   0,   0,   0,   0,   0,   0,   0,   0,   0,   0,\n",
       "          0,   0],\n",
       "       [  0,   0,   0,   0,  55, 172, 226, 253, 253, 253, 253, 244, 133,\n",
       "         11,   0,   0,   0,   0,   0,   0,   0,   0,   0,   0,   0,   0,\n",
       "          0,   0],\n",
       "       [  0,   0,   0,   0, 136, 253, 253, 253, 212, 135, 132,  16,   0,\n",
       "          0,   0,   0,   0,   0,   0,   0,   0,   0,   0,   0,   0,   0,\n",
       "          0,   0],\n",
       "       [  0,   0,   0,   0,   0,   0,   0,   0,   0,   0,   0,   0,   0,\n",
       "          0,   0,   0,   0,   0,   0,   0,   0,   0,   0,   0,   0,   0,\n",
       "          0,   0],\n",
       "       [  0,   0,   0,   0,   0,   0,   0,   0,   0,   0,   0,   0,   0,\n",
       "          0,   0,   0,   0,   0,   0,   0,   0,   0,   0,   0,   0,   0,\n",
       "          0,   0],\n",
       "       [  0,   0,   0,   0,   0,   0,   0,   0,   0,   0,   0,   0,   0,\n",
       "          0,   0,   0,   0,   0,   0,   0,   0,   0,   0,   0,   0,   0,\n",
       "          0,   0]], dtype=uint8)"
      ]
     },
     "execution_count": 29,
     "metadata": {},
     "output_type": "execute_result"
    }
   ],
   "source": [
    "# 훈련셋 중 첫번째 숫자이미지 내용출력\n",
    "X_train[0]"
   ]
  },
  {
   "cell_type": "code",
   "execution_count": 30,
   "metadata": {},
   "outputs": [
    {
     "data": {
      "text/plain": [
       "<matplotlib.image.AxesImage at 0x21798d51438>"
      ]
     },
     "execution_count": 30,
     "metadata": {},
     "output_type": "execute_result"
    },
    {
     "data": {
      "image/png": "[encoded data removed]",
      "text/plain": [
       "<Figure size 432x288 with 1 Axes>"
      ]
     },
     "metadata": {
      "needs_background": "light"
     },
     "output_type": "display_data"
    }
   ],
   "source": [
    "# 훈련셋 중 첫번째 숫자이미지 그래픽출력\n",
    "plt.imshow(X_train[0])\n",
    "# - 다차원 배열형식으로 가로28 X 세로28 = 총 784개 픽셀을 표현함\n",
    "# - 화상(image) 데이터처럼 행과 열을 가진 행렬 형태의 2차원 데이터를 \n",
    "#   imshow 함수로 2차원 행렬자료의 값을 색깔로 표시"
   ]
  },
  {
   "cell_type": "code",
   "execution_count": 31,
   "metadata": {},
   "outputs": [
    {
     "data": {
      "text/plain": [
       "<matplotlib.image.AxesImage at 0x21798db2198>"
      ]
     },
     "execution_count": 31,
     "metadata": {},
     "output_type": "execute_result"
    },
    {
     "data": {
      "image/png": "[encoded data removed]",
      "text/plain": [
       "<Figure size 432x288 with 1 Axes>"
      ]
     },
     "metadata": {
      "needs_background": "light"
     },
     "output_type": "display_data"
    }
   ],
   "source": [
    "# 훈련셋 중 첫번째 숫자이미지 그래픽출력\n",
    "plt.imshow(X_train[0], cmap = 'Greys')\n",
    "# - 가로28 X 세로28 = 총 784개 픽셀로 구성된 이미지파일을\n",
    "#   각 픽셀별 밝기정도를 나타내는 수치로 인식함\n",
    "# - 각 픽셀별로 밝기 정도에 따라 흰색:0 ~ 검정:255까지 숫자가 있음\n",
    "# - 보통 글씨가 작성된 픽셀은 1~255 중에서 하나의 밝기 수치를 가짐"
   ]
  },
  {
   "cell_type": "code",
   "execution_count": 32,
   "metadata": {},
   "outputs": [
    {
     "data": {
      "image/png": "[encoded data removed]",
      "text/plain": [
       "<Figure size 432x288 with 9 Axes>"
      ]
     },
     "metadata": {},
     "output_type": "display_data"
    }
   ],
   "source": [
    "# 훈련셋 중 여러 개 숫자이미지 그래픽출력\n",
    "fig = plt.figure()\n",
    "\n",
    "for i in range(9):\n",
    "    plt.subplot(3, 3, i + 1)\n",
    "    plt.tight_layout()\n",
    "    plt.imshow(X_train[i], cmap='gray', interpolation = 'none')\n",
    "    plt.title(\"Digit: {}\".format(y_train[i]))\n",
    "    plt.xticks([])\n",
    "    plt.yticks([])"
   ]
  },
  {
   "cell_type": "code",
   "execution_count": 33,
   "metadata": {},
   "outputs": [
    {
     "data": {
      "image/png": "[encoded data removed]",
      "text/plain": [
       "<Figure size 792x432 with 66 Axes>"
      ]
     },
     "metadata": {},
     "output_type": "display_data"
    }
   ],
   "source": [
    "# 훈련셋 중 여러 개 숫자이미지 그래픽출력\n",
    "plt.figure(figsize = (11, 6))\n",
    "\n",
    "for i in range(66): \n",
    "    plt.subplot(6, 11, i + 1)\n",
    "    plt.imshow(X_train[i])\n",
    "    plt.xticks([])\n",
    "    plt.yticks([])\n",
    "    \n",
    "plt.tight_layout()"
   ]
  },
  {
   "cell_type": "code",
   "execution_count": 34,
   "metadata": {},
   "outputs": [
    {
     "name": "stdout",
     "output_type": "stream",
     "text": [
      "  0   0   0   0   0   0   0   0   0   0   0   0   0   0   0   0   0   0   0   0   0   0   0   0   0   0   0   0 \n",
      "  0   0   0   0   0   0   0   0   0   0   0   0   0   0   0   0   0   0   0   0   0   0   0   0   0   0   0   0 \n",
      "  0   0   0   0   0   0   0   0   0   0   0   0   0   0   0   0   0   0   0   0   0   0   0   0   0   0   0   0 \n",
      "  0   0   0   0   0   0   0   0   0   0   0   0   0   0   0   0   0   0   0   0   0   0   0   0   0   0   0   0 \n",
      "  0   0   0   0   0   0   0   0   0   0   0   0   0   0   0   0   0   0   0   0   0   0   0   0   0   0   0   0 \n",
      "  0   0   0   0   0   0   0   0   0   0   0   0   3  18  18  18 126 136 175  26 166 255 247 127   0   0   0   0 \n",
      "  0   0   0   0   0   0   0   0  30  36  94 154 170 253 253 253 253 253 225 172 253 242 195  64   0   0   0   0 \n",
      "  0   0   0   0   0   0   0  49 238 253 253 253 253 253 253 253 253 251  93  82  82  56  39   0   0   0   0   0 \n",
      "  0   0   0   0   0   0   0  18 219 253 253 253 253 253 198 182 247 241   0   0   0   0   0   0   0   0   0   0 \n",
      "  0   0   0   0   0   0   0   0  80 156 107 253 253 205  11   0  43 154   0   0   0   0   0   0   0   0   0   0 \n",
      "  0   0   0   0   0   0   0   0   0  14   1 154 253  90   0   0   0   0   0   0   0   0   0   0   0   0   0   0 \n",
      "  0   0   0   0   0   0   0   0   0   0   0 139 253 190   2   0   0   0   0   0   0   0   0   0   0   0   0   0 \n",
      "  0   0   0   0   0   0   0   0   0   0   0  11 190 253  70   0   0   0   0   0   0   0   0   0   0   0   0   0 \n",
      "  0   0   0   0   0   0   0   0   0   0   0   0  35 241 225 160 108   1   0   0   0   0   0   0   0   0   0   0 \n",
      "  0   0   0   0   0   0   0   0   0   0   0   0   0  81 240 253 253 119  25   0   0   0   0   0   0   0   0   0 \n",
      "  0   0   0   0   0   0   0   0   0   0   0   0   0   0  45 186 253 253 150  27   0   0   0   0   0   0   0   0 \n",
      "  0   0   0   0   0   0   0   0   0   0   0   0   0   0   0  16  93 252 253 187   0   0   0   0   0   0   0   0 \n",
      "  0   0   0   0   0   0   0   0   0   0   0   0   0   0   0   0   0 249 253 249  64   0   0   0   0   0   0   0 \n",
      "  0   0   0   0   0   0   0   0   0   0   0   0   0   0  46 130 183 253 253 207   2   0   0   0   0   0   0   0 \n",
      "  0   0   0   0   0   0   0   0   0   0   0   0  39 148 229 253 253 253 250 182   0   0   0   0   0   0   0   0 \n",
      "  0   0   0   0   0   0   0   0   0   0  24 114 221 253 253 253 253 201  78   0   0   0   0   0   0   0   0   0 \n",
      "  0   0   0   0   0   0   0   0  23  66 213 253 253 253 253 198  81   2   0   0   0   0   0   0   0   0   0   0 \n",
      "  0   0   0   0   0   0  18 171 219 253 253 253 253 195  80   9   0   0   0   0   0   0   0   0   0   0   0   0 \n",
      "  0   0   0   0  55 172 226 253 253 253 253 244 133  11   0   0   0   0   0   0   0   0   0   0   0   0   0   0 \n",
      "  0   0   0   0 136 253 253 253 212 135 132  16   0   0   0   0   0   0   0   0   0   0   0   0   0   0   0   0 \n",
      "  0   0   0   0   0   0   0   0   0   0   0   0   0   0   0   0   0   0   0   0   0   0   0   0   0   0   0   0 \n",
      "  0   0   0   0   0   0   0   0   0   0   0   0   0   0   0   0   0   0   0   0   0   0   0   0   0   0   0   0 \n",
      "  0   0   0   0   0   0   0   0   0   0   0   0   0   0   0   0   0   0   0   0   0   0   0   0   0   0   0   0 \n"
     ]
    }
   ],
   "source": [
    "# 이미지데이터를 가로28 X 세로28 = 768픽셀 구조형식으로 출력하기 - 노 교재내용, 강사님코드\n",
    "\n",
    "for x in X_train[0]: # 전체내용 중 1개 행씩 로딩\n",
    "    for i in x:      # 1개 행에 속한 세부 열 요소를 하나씩 로딩\n",
    "        print('{:3} '.format(i), end = '') # 해당 픽셀의 밝기정도 수치를 출력 \n",
    "        #{:3}는 칸의 간격을 3칸씩 유지한다는 의미. 그래야 예쁘게 줄 맞춰서 잘 나온다\n",
    "    print() # 1개 행 출력을 마치면 출력위치를 다음 행으로 이동"
   ]
  },
  {
   "cell_type": "code",
   "execution_count": 35,
   "metadata": {},
   "outputs": [
    {
     "name": "stdout",
     "output_type": "stream",
     "text": [
      "0  0  0  0  0  0  0  0  0  0  0  0  0  0  0  0  0  0  0  0  0  0  0  0  0  0  0  0  \n",
      "0  0  0  0  0  0  0  0  0  0  0  0  0  0  0  0  0  0  0  0  0  0  0  0  0  0  0  0  \n",
      "0  0  0  0  0  0  0  0  0  0  0  0  0  0  0  0  0  0  0  0  0  0  0  0  0  0  0  0  \n",
      "0  0  0  0  0  0  0  0  0  0  0  0  0  0  0  0  0  0  0  0  0  0  0  0  0  0  0  0  \n",
      "0  0  0  0  0  0  0  0  0  0  0  0  0  0  0  0  0  0  0  0  0  0  0  0  0  0  0  0  \n",
      "0  0  0  0  0  0  0  0  0  0  0  0  3  18  18  18  126  136  175  26  166  255  247  127  0  0  0  0  \n",
      "0  0  0  0  0  0  0  0  30  36  94  154  170  253  253  253  253  253  225  172  253  242  195  64  0  0  0  0  \n",
      "0  0  0  0  0  0  0  49  238  253  253  253  253  253  253  253  253  251  93  82  82  56  39  0  0  0  0  0  \n",
      "0  0  0  0  0  0  0  18  219  253  253  253  253  253  198  182  247  241  0  0  0  0  0  0  0  0  0  0  \n",
      "0  0  0  0  0  0  0  0  80  156  107  253  253  205  11  0  43  154  0  0  0  0  0  0  0  0  0  0  \n",
      "0  0  0  0  0  0  0  0  0  14  1  154  253  90  0  0  0  0  0  0  0  0  0  0  0  0  0  0  \n",
      "0  0  0  0  0  0  0  0  0  0  0  139  253  190  2  0  0  0  0  0  0  0  0  0  0  0  0  0  \n",
      "0  0  0  0  0  0  0  0  0  0  0  11  190  253  70  0  0  0  0  0  0  0  0  0  0  0  0  0  \n",
      "0  0  0  0  0  0  0  0  0  0  0  0  35  241  225  160  108  1  0  0  0  0  0  0  0  0  0  0  \n",
      "0  0  0  0  0  0  0  0  0  0  0  0  0  81  240  253  253  119  25  0  0  0  0  0  0  0  0  0  \n",
      "0  0  0  0  0  0  0  0  0  0  0  0  0  0  45  186  253  253  150  27  0  0  0  0  0  0  0  0  \n",
      "0  0  0  0  0  0  0  0  0  0  0  0  0  0  0  16  93  252  253  187  0  0  0  0  0  0  0  0  \n",
      "0  0  0  0  0  0  0  0  0  0  0  0  0  0  0  0  0  249  253  249  64  0  0  0  0  0  0  0  \n",
      "0  0  0  0  0  0  0  0  0  0  0  0  0  0  46  130  183  253  253  207  2  0  0  0  0  0  0  0  \n",
      "0  0  0  0  0  0  0  0  0  0  0  0  39  148  229  253  253  253  250  182  0  0  0  0  0  0  0  0  \n",
      "0  0  0  0  0  0  0  0  0  0  24  114  221  253  253  253  253  201  78  0  0  0  0  0  0  0  0  0  \n",
      "0  0  0  0  0  0  0  0  23  66  213  253  253  253  253  198  81  2  0  0  0  0  0  0  0  0  0  0  \n",
      "0  0  0  0  0  0  18  171  219  253  253  253  253  195  80  9  0  0  0  0  0  0  0  0  0  0  0  0  \n",
      "0  0  0  0  55  172  226  253  253  253  253  244  133  11  0  0  0  0  0  0  0  0  0  0  0  0  0  0  \n",
      "0  0  0  0  136  253  253  253  212  135  132  16  0  0  0  0  0  0  0  0  0  0  0  0  0  0  0  0  \n",
      "0  0  0  0  0  0  0  0  0  0  0  0  0  0  0  0  0  0  0  0  0  0  0  0  0  0  0  0  \n",
      "0  0  0  0  0  0  0  0  0  0  0  0  0  0  0  0  0  0  0  0  0  0  0  0  0  0  0  0  \n",
      "0  0  0  0  0  0  0  0  0  0  0  0  0  0  0  0  0  0  0  0  0  0  0  0  0  0  0  0  \n"
     ]
    }
   ],
   "source": [
    "# 이미지데이터를 가로28 X 세로28 = 768픽셀 구조형식으로 출력하기 - 교재내용\n",
    "import sys\n",
    "\n",
    "for x in X_train[0]: # 전체내용 중 1개 행씩 로딩\n",
    "    for i in x: # 1개 행에 속한 세부 열 요소를 하나씩 로딩\n",
    "        sys.stdout.write('%d  ' % i) # 해당 픽셀의 밝기정도 수치를 출력\n",
    "    sys.stdout.write('\\n') # 1개 행 출력을 마치면 출력위치를 다음 행으로 이동"
   ]
  },
  {
   "cell_type": "code",
   "execution_count": 36,
   "metadata": {},
   "outputs": [
    {
     "data": {
      "text/plain": [
       "Text(0.5, 1.0, '숫자이미지의 픽셀분포 히스토그램')"
      ]
     },
     "execution_count": 36,
     "metadata": {},
     "output_type": "execute_result"
    },
    {
     "data": {
      "image/png": "[encoded data removed]",
      "text/plain": [
       "<Figure size 432x432 with 2 Axes>"
      ]
     },
     "metadata": {
      "needs_background": "light"
     },
     "output_type": "display_data"
    }
   ],
   "source": [
    "# 이미지 데이터 픽셀정보 분포파악\n",
    "fig = plt.figure(figsize = (6, 6))\n",
    "\n",
    "plt.subplot(2, 1, 1)\n",
    "plt.imshow(X_train[0], cmap = 'gray', interpolation = 'none')\n",
    "plt.title(\"Digit: {}\".format(y_train[0]))\n",
    "plt.xticks([])\n",
    "plt.yticks([])\n",
    "\n",
    "# 어떤 색상이 많이 분포되어있는지 히스토그램으로 알아봄\n",
    "plt.subplot(2,1,2)\n",
    "plt.hist(X_train[0].reshape(784)) # 위의 내용을 가로로 일렬로 만들어서 히스토그램 만든 것! reshape()\n",
    "plt.title(\"숫자이미지의 픽셀분포 히스토그램\")"
   ]
  },
  {
   "cell_type": "markdown",
   "metadata": {},
   "source": [
    "픽셀 0의 수가 제일 많고 그다음 250이 크다"
   ]
  },
  {
   "cell_type": "markdown",
   "metadata": {},
   "source": [
    "# <font color = 'blue'>데이터 전처리</font>"
   ]
  },
  {
   "cell_type": "markdown",
   "metadata": {},
   "source": [
    "### 피처셋 구조변환: 숫자이미지의 2차원 배열데이터를 1차원 배열로 변환\n",
    "* 숫자이미지 1개마다 (이미지갯수, 가로픽셀 , 세로픽셀)이라는 3차원 배열로 구성되어 있음\n",
    "* 이중에서 이미지갯수는 개별 레코드/관찰치를 의미하므로 그대로 사용하면됨\n",
    "* 각 이미지마다 가로28픽셀 X 세로28픽셀 구조의 2차원배열을 1차원 배열로 전환해서\n",
    "<br>786개의 피처(입력/예측/독립)변수를 가진 개별 레코드/관찰치로 변환하는 것임"
   ]
  },
  {
   "cell_type": "markdown",
   "metadata": {},
   "source": [
    "#### (참고) 다차원 배열의 구조변경 방법\n",
    "* numpy라이브러리의 reshape() 함수를 이용해 다차원배열을 원하는 구조로 변경가능함"
   ]
  },
  {
   "cell_type": "code",
   "execution_count": 37,
   "metadata": {},
   "outputs": [
    {
     "data": {
      "text/plain": [
       "array([ 0,  1,  2,  3,  4,  5,  6,  7,  8,  9, 10, 11])"
      ]
     },
     "execution_count": 37,
     "metadata": {},
     "output_type": "execute_result"
    }
   ],
   "source": [
    "# 12개 요소를 가진 1차원 배열 생성 (1X1 구조)\n",
    "a = np.array([0, 1, 2, 3, 4, 5, 6 ,7 ,8, 9, 10, 11])\n",
    "a"
   ]
  },
  {
   "cell_type": "code",
   "execution_count": 38,
   "metadata": {},
   "outputs": [
    {
     "name": "stdout",
     "output_type": "stream",
     "text": [
      "<class 'numpy.ndarray'> (12,)\n"
     ]
    }
   ],
   "source": [
    "print(type(a), a.shape)\n",
    "# - 자료형은 numpy 다차원배열이며, \n",
    "#   12개 요소를 가로방향으로 12개 열에 걸쳐 가진 1차원(단일대괄호) 배열임"
   ]
  },
  {
   "cell_type": "markdown",
   "metadata": {},
   "source": [
    "#### 배열 요소갯수를 (가로행 X 세로열) 형태로 구현"
   ]
  },
  {
   "cell_type": "code",
   "execution_count": 39,
   "metadata": {},
   "outputs": [
    {
     "data": {
      "text/plain": [
       "array([[ 0,  1,  2,  3,  4,  5,  6,  7,  8,  9, 10, 11]])"
      ]
     },
     "execution_count": 39,
     "metadata": {},
     "output_type": "execute_result"
    }
   ],
   "source": [
    "a.reshape(1, 12)\n",
    "# - 가로1행 X 세로12열 구조 => 2차원(중첩대괄호)배열 생성\n",
    "# - 배열의 요소는 1개이며, \n",
    "#   그 요소안에 가로방향 12개 열 구조로 숫자가 담겨있음"
   ]
  },
  {
   "cell_type": "markdown",
   "metadata": {},
   "source": [
    "-> 요소가 딱 한개 들어있고 그 안에, 즉 첫번째 요소에 12개 데이터가 다 들어가있는 구조.<br>\n",
    "위의 아이들과 전혀 다른 구조이다!"
   ]
  },
  {
   "cell_type": "code",
   "execution_count": 40,
   "metadata": {},
   "outputs": [
    {
     "data": {
      "text/plain": [
       "array([[ 0],\n",
       "       [ 1],\n",
       "       [ 2],\n",
       "       [ 3],\n",
       "       [ 4],\n",
       "       [ 5],\n",
       "       [ 6],\n",
       "       [ 7],\n",
       "       [ 8],\n",
       "       [ 9],\n",
       "       [10],\n",
       "       [11]])"
      ]
     },
     "execution_count": 40,
     "metadata": {},
     "output_type": "execute_result"
    }
   ],
   "source": [
    "a.reshape(12, 1)\n",
    "# - 가로12행 X 세로1열 구조 => 2차원(중첩대괄호)배열 생성\n",
    "# - 배열의 요소는 1개이며, \n",
    "#   그 요소안에 세로방향 12개 행 구조로 숫자가 담겨있음"
   ]
  },
  {
   "cell_type": "code",
   "execution_count": 41,
   "metadata": {},
   "outputs": [
    {
     "data": {
      "text/plain": [
       "array([[ 0,  1,  2,  3,  4,  5],\n",
       "       [ 6,  7,  8,  9, 10, 11]])"
      ]
     },
     "execution_count": 41,
     "metadata": {},
     "output_type": "execute_result"
    }
   ],
   "source": [
    "a.reshape(2, 6)\n",
    "# - 가로2행 X 세로6열 구조 => 2차원(중첩대괄호)배열 생성\n",
    "# - 배열의 요소는 세로방향 2개 행이며, \n",
    "#   그 요소마다 가로방향 6개 열 구조로 숫자가 담겨있음"
   ]
  },
  {
   "cell_type": "markdown",
   "metadata": {},
   "source": [
    "-> 이 아이는 2개의 요소 밖에 없고, 1개의 요소안에 0~5까지 존재, 2번째 요소안에는 6~11이 존재"
   ]
  },
  {
   "cell_type": "code",
   "execution_count": 42,
   "metadata": {},
   "outputs": [
    {
     "data": {
      "text/plain": [
       "array([[ 0,  1,  2],\n",
       "       [ 3,  4,  5],\n",
       "       [ 6,  7,  8],\n",
       "       [ 9, 10, 11]])"
      ]
     },
     "execution_count": 42,
     "metadata": {},
     "output_type": "execute_result"
    }
   ],
   "source": [
    "a.reshape(4, 3)\n",
    "# - 가로4행 X 세로3열 구조 => 2차원(중첩대괄호)배열 생성\n",
    "# - 배열의 요소는 세로방향 4개 행이며, \n",
    "#   그 요소마다 가로방향 3개 열 구조로 숫자가 담겨있음"
   ]
  },
  {
   "cell_type": "markdown",
   "metadata": {},
   "source": [
    "#### 인덱싱 번호 -1을 이용한 배열구조 변형"
   ]
  },
  {
   "cell_type": "code",
   "execution_count": 43,
   "metadata": {},
   "outputs": [
    {
     "data": {
      "text/plain": [
       "array([ 0,  1,  2,  3,  4,  5,  6,  7,  8,  9, 10, 11])"
      ]
     },
     "execution_count": 43,
     "metadata": {},
     "output_type": "execute_result"
    }
   ],
   "source": [
    "a.reshape(12)\n",
    "# - 가로1행 X 세로12열 구조 => 1차원(단일대괄호)배열 생성\n",
    "# - 배열의 요소는 세로방향 12개 열임 "
   ]
  },
  {
   "cell_type": "code",
   "execution_count": 44,
   "metadata": {},
   "outputs": [
    {
     "data": {
      "text/plain": [
       "array([ 0,  1,  2,  3,  4,  5,  6,  7,  8,  9, 10, 11])"
      ]
     },
     "execution_count": 44,
     "metadata": {},
     "output_type": "execute_result"
    }
   ],
   "source": [
    "a.reshape(-12)\n",
    "# - 가로1행 X 세로12열 구조 => 1차원(단일대괄호)배열 생성\n",
    "# - 배열의 요소는 세로방향 12개 열임 "
   ]
  },
  {
   "cell_type": "code",
   "execution_count": 45,
   "metadata": {},
   "outputs": [
    {
     "data": {
      "text/plain": [
       "array([ 0,  1,  2,  3,  4,  5,  6,  7,  8,  9, 10, 11])"
      ]
     },
     "execution_count": 45,
     "metadata": {},
     "output_type": "execute_result"
    }
   ],
   "source": [
    "a.reshape(-1)\n",
    "# - 가로1행 X 세로12열 구조 => 1차원(단일대괄호)배열 생성\n",
    "# - 배열의 요소는 세로방향 12개 열임 "
   ]
  },
  {
   "cell_type": "code",
   "execution_count": 46,
   "metadata": {},
   "outputs": [
    {
     "data": {
      "text/plain": [
       "array([[ 0,  1,  2,  3,  4,  5,  6,  7,  8,  9, 10, 11]])"
      ]
     },
     "execution_count": 46,
     "metadata": {},
     "output_type": "execute_result"
    }
   ],
   "source": [
    "a.reshape(1, -1)\n",
    "# - 가로1행 X 세로12열 구조 => 2차원(중첩대괄호)배열 생성\n",
    "# - 배열의 요소는 가로방향 1개 행이며, \n",
    "#   그 요소안에 세로방향 12개 열 구조로 숫자가 담겨 있음 "
   ]
  },
  {
   "cell_type": "code",
   "execution_count": 47,
   "metadata": {},
   "outputs": [
    {
     "data": {
      "text/plain": [
       "array([[ 0],\n",
       "       [ 1],\n",
       "       [ 2],\n",
       "       [ 3],\n",
       "       [ 4],\n",
       "       [ 5],\n",
       "       [ 6],\n",
       "       [ 7],\n",
       "       [ 8],\n",
       "       [ 9],\n",
       "       [10],\n",
       "       [11]])"
      ]
     },
     "execution_count": 47,
     "metadata": {},
     "output_type": "execute_result"
    }
   ],
   "source": [
    "a.reshape(-1, 1)\n",
    "# - 가로12행 X 세로1열 구조 => 2차원(중첩대괄호)배열 생성\n",
    "# - 배열의 요소는 가로방향 12개 행이며, \n",
    "#   그 요소마다 세로방향 1개 열 구조로 숫자가 담겨 있음 "
   ]
  },
  {
   "cell_type": "code",
   "execution_count": 48,
   "metadata": {},
   "outputs": [
    {
     "data": {
      "text/plain": [
       "array([[ 0,  1,  2],\n",
       "       [ 3,  4,  5],\n",
       "       [ 6,  7,  8],\n",
       "       [ 9, 10, 11]])"
      ]
     },
     "execution_count": 48,
     "metadata": {},
     "output_type": "execute_result"
    }
   ],
   "source": [
    "a.reshape(4, -1)\n",
    "# - 가로4행을 지정해 세로는 자동으로 3열 구조 => 2차원(중첩대괄호)배열 생성\n",
    "# - 배열의 요소는 가로방향 4개 행이며, \n",
    "#   그 요소마다 세로방향 3개 열 구조로 숫자가 담겨 있음 "
   ]
  },
  {
   "cell_type": "code",
   "execution_count": 49,
   "metadata": {},
   "outputs": [
    {
     "data": {
      "text/plain": [
       "array([[ 0,  1,  2,  3],\n",
       "       [ 4,  5,  6,  7],\n",
       "       [ 8,  9, 10, 11]])"
      ]
     },
     "execution_count": 49,
     "metadata": {},
     "output_type": "execute_result"
    }
   ],
   "source": [
    "a.reshape(-1, 4)\n",
    "# - 세로4열을 지정했으므로 가로는 자동으로 3행 구조 => 2차원(중첩대괄호)배열 생성\n",
    "# - 배열의 요소는 가로방향 3개 행이며, \n",
    "#   그 요소마다 세로방향 4개 열 구조로 숫자가 담겨 있음 "
   ]
  },
  {
   "cell_type": "markdown",
   "metadata": {},
   "source": [
    "#### 숫자이미지(피처셋)의 2차원 픽셀배열을 1차원 배열로 변환"
   ]
  },
  {
   "cell_type": "code",
   "execution_count": 50,
   "metadata": {
    "scrolled": true
   },
   "outputs": [
    {
     "name": "stdout",
     "output_type": "stream",
     "text": [
      "훈련셋 데이터 객체유형: <class 'numpy.ndarray'>\n",
      "훈련셋 데이터 구조규모: (60000, 28, 28)\n",
      "훈련셋 레코드 갯수: 60000\n",
      "훈련셋 가로픽셀 갯수 28\n",
      "훈련셋 가로픽셀 갯수 28\n"
     ]
    }
   ],
   "source": [
    "# 숫자이미지(피처) 훈련셋 데이터 배열구조와 규모 확인\n",
    "\n",
    "print('훈련셋 데이터 객체유형:', type(X_train))\n",
    "print('훈련셋 데이터 구조규모:', X_train.shape)\n",
    "print('훈련셋 레코드 갯수:', X_train.shape[0])\n",
    "print('훈련셋 가로픽셀 갯수', X_train.shape[1])\n",
    "print('훈련셋 가로픽셀 갯수', X_train.shape[2])\n",
    "\n",
    "# - 훈련셋 레코드 개수 60000개는 그대로 사용하면 됨\n",
    "# - 2차원 배열형태의 가로 28픽셀과 세로 28픽셀을 1차원으로 변환하여\n",
    "#   28 X 28 = 784개 피처개수로 만들면 됨\n",
    "# - 즉 (60000, 28, 28) 구조의 3차원 배열을 (60000, 784) 구조의 2차원 배열로 변환이 필요함"
   ]
  },
  {
   "cell_type": "code",
   "execution_count": 51,
   "metadata": {},
   "outputs": [
    {
     "name": "stdout",
     "output_type": "stream",
     "text": [
      "훈련셋 데이터 객체유형: <class 'numpy.ndarray'>\n",
      "훈련셋 데이터 구조규모: (60000, 784)\n",
      "훈련셋 레코드 갯수: 60000\n",
      "훈련셋 피처 갯수 784\n",
      "\n",
      "훈련셋 피처 내용\n",
      " [[0 0 0 ... 0 0 0]\n",
      " [0 0 0 ... 0 0 0]\n",
      " [0 0 0 ... 0 0 0]\n",
      " ...\n",
      " [0 0 0 ... 0 0 0]\n",
      " [0 0 0 ... 0 0 0]\n",
      " [0 0 0 ... 0 0 0]]\n"
     ]
    }
   ],
   "source": [
    "# reshape() 함수를 이용한 숫자이미지(피처) 훈련셋 배열구조 변환\n",
    "\n",
    "X_training = X_train.reshape(X_train.shape[0], X_train.shape[1] * X_train.shape[2])\n",
    "\n",
    "print('훈련셋 데이터 객체유형:', type(X_training))\n",
    "print('훈련셋 데이터 구조규모:', X_training.shape)\n",
    "print('훈련셋 레코드 갯수:', X_training.shape[0])\n",
    "print('훈련셋 피처 갯수', X_training.shape[1])\n",
    "print('\\n훈련셋 피처 내용\\n', X_training)"
   ]
  },
  {
   "cell_type": "code",
   "execution_count": 52,
   "metadata": {
    "scrolled": true
   },
   "outputs": [
    {
     "name": "stdout",
     "output_type": "stream",
     "text": [
      "테스트셋 데이터 객체유형: <class 'numpy.ndarray'>\n",
      "테스트셋 데이터 구조규모: (10000, 28, 28)\n",
      "테스트셋 레코드 갯수: 10000\n",
      "테스트셋 가로픽셀 갯수 28\n",
      "테스트셋 가로픽셀 갯수 28\n"
     ]
    }
   ],
   "source": [
    "# 숫자이미지(피처) 테스트셋 데이터 배열구조와 규모 확인\n",
    "\n",
    "print('테스트셋 데이터 객체유형:', type(X_test))\n",
    "print('테스트셋 데이터 구조규모:', X_test.shape)\n",
    "print('테스트셋 레코드 갯수:', X_test.shape[0])\n",
    "print('테스트셋 가로픽셀 갯수', X_test.shape[1])\n",
    "print('테스트셋 가로픽셀 갯수', X_test.shape[2])\n",
    "\n",
    "# - 테스트셋 레코드 개수 10000개는 그대로 사용하면 됨\n",
    "# - 2차원 배열형태의 가로 28픽셀과 세로 28픽셀을 1차원으로 변환하여\n",
    "#   28 X 28 = 784개 피처개수로 만들면 됨\n",
    "# - 즉 (10000, 28, 28) 구조의 3차원 배열을 (10000, 784) 구조의 2차원 배열로 변환이 필요함"
   ]
  },
  {
   "cell_type": "code",
   "execution_count": 53,
   "metadata": {},
   "outputs": [
    {
     "name": "stdout",
     "output_type": "stream",
     "text": [
      "테스트셋 데이터 객체유형: <class 'numpy.ndarray'>\n",
      "테스트셋 데이터 구조규모: (10000, 784)\n",
      "테스트셋 레코드 갯수: 10000\n",
      "테스트셋 피처 갯수 784\n",
      "\n",
      "테스트셋 피처 내용\n",
      " [[0 0 0 ... 0 0 0]\n",
      " [0 0 0 ... 0 0 0]\n",
      " [0 0 0 ... 0 0 0]\n",
      " ...\n",
      " [0 0 0 ... 0 0 0]\n",
      " [0 0 0 ... 0 0 0]\n",
      " [0 0 0 ... 0 0 0]]\n"
     ]
    }
   ],
   "source": [
    "# reshape() 함수를 이용한 숫자이미지(피처) 테스트셋 배열구조 변환\n",
    "\n",
    "X_testing = X_test.reshape(X_test.shape[0], X_test.shape[1] * X_test.shape[2])\n",
    "\n",
    "print('테스트셋 데이터 객체유형:', type(X_testing))\n",
    "print('테스트셋 데이터 구조규모:', X_testing.shape)\n",
    "print('테스트셋 레코드 갯수:', X_testing.shape[0])\n",
    "print('테스트셋 피처 갯수', X_testing.shape[1])\n",
    "print('\\n테스트셋 피처 내용\\n', X_testing)"
   ]
  },
  {
   "cell_type": "markdown",
   "metadata": {},
   "source": [
    "### 피처셋 스케일링: 숫자이미지의 색상밝기 수치를 스케일링 실시\n",
    "* 각 숫자이미지가 가진 0~255까지의 색상밝기 수치를 0~1사이로 스케일링 필요\n",
    "* 보통 딥러닝 신경망 기법에서는 피처데이터를 0~1사이로 스케일링 한 데이터인 경우 최적성능을 보임"
   ]
  },
  {
   "cell_type": "markdown",
   "metadata": {},
   "source": [
    "#### (참고) 다양한 스케일링 기법: 자료의 분포를 평균 0, 분산 1 형태로 변경 \n",
    "* scale(): 기본 스케일. 평균과 표준편차 사용\n",
    "* robust_scale(): 중앙값(median)과 IQR(interquartile range) 사용. 아웃라이어의 영향을 최소화\n",
    "* minmax_scale(): 최대/최소값이 각각 1, 0이 되도록 스케일링\n",
    "* maxabs_scale(): 최대절대값과 0이 각각 1, 0이 되도록 스케일링"
   ]
  },
  {
   "cell_type": "code",
   "execution_count": 54,
   "metadata": {},
   "outputs": [],
   "source": [
    "from sklearn.preprocessing import scale, robust_scale, minmax_scale, maxabs_scale"
   ]
  },
  {
   "cell_type": "code",
   "execution_count": 55,
   "metadata": {},
   "outputs": [
    {
     "data": {
      "text/plain": [
       "[-7.0, -2.0, -1.0, 0, 1, 2, 3, 4, 5, 20]"
      ]
     },
     "execution_count": 55,
     "metadata": {},
     "output_type": "execute_result"
    }
   ],
   "source": [
    "a = [-7.0, -2.0, -1.0, 0, 1, 2, 3, 4, 5, 20]\n",
    "a"
   ]
  },
  {
   "cell_type": "code",
   "execution_count": 56,
   "metadata": {},
   "outputs": [
    {
     "data": {
      "text/html": [
       "<div>\n",
       "<style scoped>\n",
       "    .dataframe tbody tr th:only-of-type {\n",
       "        vertical-align: middle;\n",
       "    }\n",
       "\n",
       "    .dataframe tbody tr th {\n",
       "        vertical-align: top;\n",
       "    }\n",
       "\n",
       "    .dataframe thead th {\n",
       "        text-align: right;\n",
       "    }\n",
       "</style>\n",
       "<table border=\"1\" class=\"dataframe\">\n",
       "  <thead>\n",
       "    <tr style=\"text-align: right;\">\n",
       "      <th></th>\n",
       "      <th>a</th>\n",
       "      <th>scale(a)</th>\n",
       "      <th>robust_scale(a)</th>\n",
       "      <th>minmax_scale(a)</th>\n",
       "      <th>maxabs_scale(a)</th>\n",
       "    </tr>\n",
       "  </thead>\n",
       "  <tbody>\n",
       "    <tr>\n",
       "      <th>0</th>\n",
       "      <td>-7.0</td>\n",
       "      <td>-1.421716</td>\n",
       "      <td>-1.888889</td>\n",
       "      <td>0.000000</td>\n",
       "      <td>-0.35</td>\n",
       "    </tr>\n",
       "    <tr>\n",
       "      <th>1</th>\n",
       "      <td>-2.0</td>\n",
       "      <td>-0.673444</td>\n",
       "      <td>-0.777778</td>\n",
       "      <td>0.185185</td>\n",
       "      <td>-0.10</td>\n",
       "    </tr>\n",
       "    <tr>\n",
       "      <th>2</th>\n",
       "      <td>-1.0</td>\n",
       "      <td>-0.523790</td>\n",
       "      <td>-0.555556</td>\n",
       "      <td>0.222222</td>\n",
       "      <td>-0.05</td>\n",
       "    </tr>\n",
       "    <tr>\n",
       "      <th>3</th>\n",
       "      <td>0.0</td>\n",
       "      <td>-0.374136</td>\n",
       "      <td>-0.333333</td>\n",
       "      <td>0.259259</td>\n",
       "      <td>0.00</td>\n",
       "    </tr>\n",
       "    <tr>\n",
       "      <th>4</th>\n",
       "      <td>1.0</td>\n",
       "      <td>-0.224481</td>\n",
       "      <td>-0.111111</td>\n",
       "      <td>0.296296</td>\n",
       "      <td>0.05</td>\n",
       "    </tr>\n",
       "    <tr>\n",
       "      <th>5</th>\n",
       "      <td>2.0</td>\n",
       "      <td>-0.074827</td>\n",
       "      <td>0.111111</td>\n",
       "      <td>0.333333</td>\n",
       "      <td>0.10</td>\n",
       "    </tr>\n",
       "    <tr>\n",
       "      <th>6</th>\n",
       "      <td>3.0</td>\n",
       "      <td>0.074827</td>\n",
       "      <td>0.333333</td>\n",
       "      <td>0.370370</td>\n",
       "      <td>0.15</td>\n",
       "    </tr>\n",
       "    <tr>\n",
       "      <th>7</th>\n",
       "      <td>4.0</td>\n",
       "      <td>0.224481</td>\n",
       "      <td>0.555556</td>\n",
       "      <td>0.407407</td>\n",
       "      <td>0.20</td>\n",
       "    </tr>\n",
       "    <tr>\n",
       "      <th>8</th>\n",
       "      <td>5.0</td>\n",
       "      <td>0.374136</td>\n",
       "      <td>0.777778</td>\n",
       "      <td>0.444444</td>\n",
       "      <td>0.25</td>\n",
       "    </tr>\n",
       "    <tr>\n",
       "      <th>9</th>\n",
       "      <td>20.0</td>\n",
       "      <td>2.618951</td>\n",
       "      <td>4.111111</td>\n",
       "      <td>1.000000</td>\n",
       "      <td>1.00</td>\n",
       "    </tr>\n",
       "  </tbody>\n",
       "</table>\n",
       "</div>"
      ],
      "text/plain": [
       "      a  scale(a)  robust_scale(a)  minmax_scale(a)  maxabs_scale(a)\n",
       "0  -7.0 -1.421716        -1.888889         0.000000            -0.35\n",
       "1  -2.0 -0.673444        -0.777778         0.185185            -0.10\n",
       "2  -1.0 -0.523790        -0.555556         0.222222            -0.05\n",
       "3   0.0 -0.374136        -0.333333         0.259259             0.00\n",
       "4   1.0 -0.224481        -0.111111         0.296296             0.05\n",
       "5   2.0 -0.074827         0.111111         0.333333             0.10\n",
       "6   3.0  0.074827         0.333333         0.370370             0.15\n",
       "7   4.0  0.224481         0.555556         0.407407             0.20\n",
       "8   5.0  0.374136         0.777778         0.444444             0.25\n",
       "9  20.0  2.618951         4.111111         1.000000             1.00"
      ]
     },
     "execution_count": 56,
     "metadata": {},
     "output_type": "execute_result"
    }
   ],
   "source": [
    "df = pd.DataFrame({'a':a, 'scale(a)':scale(a), 'robust_scale(a)':robust_scale(a), \n",
    "                   'minmax_scale(a)':minmax_scale(a), 'maxabs_scale(a)':maxabs_scale(a)})\n",
    "df"
   ]
  },
  {
   "cell_type": "markdown",
   "metadata": {},
   "source": [
    "#### 피처 스케일링: 숫자이미지의 0~255 색상밝기 수치를 0~1 사이로 변환\n",
    "* sklearn라이브러리 preprocessing모듈의 minmax_scale() 함수를 이용해 최대/최소값이 각각 1, 0이 되도록 스케일링"
   ]
  },
  {
   "cell_type": "code",
   "execution_count": 57,
   "metadata": {},
   "outputs": [],
   "source": [
    "# 숫자이미지 피처 중 훈련셋 스케일링\n",
    "X_training_scaled = minmax_scale(X_training)\n",
    "\n",
    "# 숫자이미지 피처 중 테스트셋 스케일링\n",
    "X_testing_scaled = minmax_scale(X_testing)"
   ]
  },
  {
   "cell_type": "code",
   "execution_count": 58,
   "metadata": {},
   "outputs": [
    {
     "name": "stdout",
     "output_type": "stream",
     "text": [
      "훈련셋   기존 평균: 33.318, 훈련셋   기존 표준편차: 78.567\n",
      "스케일링 실시 평균:  0.131, 스케일링 실시 표준편차:  0.308\n"
     ]
    }
   ],
   "source": [
    "print(f'훈련셋   기존 평균: {X_training.mean():6.3f}, 훈련셋   기존 표준편차: {X_training.std():6.3f}')\n",
    "print(f'스케일링 실시 평균: {X_training_scaled.mean():6.3f}, 스케일링 실시 표준편차: {X_training_scaled.std():6.3f}')"
   ]
  },
  {
   "cell_type": "code",
   "execution_count": 59,
   "metadata": {},
   "outputs": [
    {
     "name": "stdout",
     "output_type": "stream",
     "text": [
      "테스트셋 기존 평균: 33.791, 테스트셋 기존 표준편차: 79.172\n",
      "스케일링 실시 평균:  0.133, 스케일링 실시 표준편차:  0.310\n"
     ]
    }
   ],
   "source": [
    "print(f'테스트셋 기존 평균: {X_testing.mean():6.3f}, 테스트셋 기존 표준편차: {X_testing.std():6.3f}')\n",
    "print(f'스케일링 실시 평균: {X_testing_scaled.mean():6.3f}, 스케일링 실시 표준편차: {X_testing_scaled.std():6.3f}')"
   ]
  },
  {
   "cell_type": "markdown",
   "metadata": {},
   "source": [
    "### 타겟변수 원핫인코딩: 숫자이름표를 0과 1로 구성된 더미변수화\n",
    "* 타겟변수가 다항 클래스인 경우 원핫인코딩으로 변경해 0과 1로 구성된 상태로 만들어야 딥러닝 연산이 가능해짐"
   ]
  },
  {
   "cell_type": "code",
   "execution_count": 60,
   "metadata": {},
   "outputs": [],
   "source": [
    "# 타겟(출력/반응/종속)변수의 다항클래스인 숫자이름표 0~9까지를 0과 1로 구성된 이진데이터셋(더미변수화)으로 변형\n",
    "from keras.utils import np_utils"
   ]
  },
  {
   "cell_type": "code",
   "execution_count": 61,
   "metadata": {},
   "outputs": [
    {
     "data": {
      "text/plain": [
       "array([[0., 0., 0., ..., 0., 0., 0.],\n",
       "       [1., 0., 0., ..., 0., 0., 0.],\n",
       "       [0., 0., 0., ..., 0., 0., 0.],\n",
       "       ...,\n",
       "       [0., 0., 0., ..., 0., 0., 0.],\n",
       "       [0., 0., 0., ..., 0., 0., 0.],\n",
       "       [0., 0., 0., ..., 0., 1., 0.]], dtype=float32)"
      ]
     },
     "execution_count": 61,
     "metadata": {},
     "output_type": "execute_result"
    }
   ],
   "source": [
    "# 숫자이름표(타겟) 훈련셋 원핫인코딩\n",
    "y_train_ohe = np_utils.to_categorical(y_train)\n",
    "y_train_ohe"
   ]
  },
  {
   "cell_type": "code",
   "execution_count": 62,
   "metadata": {},
   "outputs": [
    {
     "data": {
      "text/plain": [
       "array([[0., 0., 0., ..., 1., 0., 0.],\n",
       "       [0., 0., 1., ..., 0., 0., 0.],\n",
       "       [0., 1., 0., ..., 0., 0., 0.],\n",
       "       ...,\n",
       "       [0., 0., 0., ..., 0., 0., 0.],\n",
       "       [0., 0., 0., ..., 0., 0., 0.],\n",
       "       [0., 0., 0., ..., 0., 0., 0.]], dtype=float32)"
      ]
     },
     "execution_count": 62,
     "metadata": {},
     "output_type": "execute_result"
    }
   ],
   "source": [
    "# 숫자이름표(타겟) 테스트셋 원핫인코딩\n",
    "y_test_ohe = np_utils.to_categorical(y_test)\n",
    "y_test_ohe"
   ]
  },
  {
   "cell_type": "markdown",
   "metadata": {},
   "source": [
    "# <font color = 'blue'>딥러닝 모델링</font>"
   ]
  },
  {
   "cell_type": "markdown",
   "metadata": {},
   "source": [
    "### 딥러닝 라이브러리 로딩"
   ]
  },
  {
   "cell_type": "code",
   "execution_count": 63,
   "metadata": {},
   "outputs": [],
   "source": [
    "# 딥러닝 관련 라이브러리\n",
    "import tensorflow as tf\n",
    "# - 딥러닝 학습알고리즘\n",
    "\n",
    "from keras.models import Sequential\n",
    "# - 딥러닝 학습계층을 순차적으로 쌓아올릴 수 있도록 해줌\n",
    "\n",
    "from keras.layers import Dense\n",
    "# - 딥러닝 학습계층별 노드/유닛을 밀집시켜 학습방법을 설정할 수 있도록 해줌"
   ]
  },
  {
   "cell_type": "markdown",
   "metadata": {},
   "source": [
    "### 랜덤 시드넘버 설정"
   ]
  },
  {
   "cell_type": "code",
   "execution_count": 64,
   "metadata": {},
   "outputs": [],
   "source": [
    "# 무작위 시드넘버 설정으로 샘플 재현성 확보\n",
    "myseed = 0\n",
    "\n",
    "import numpy as np\n",
    "np.random.seed(myseed)\n",
    "tf.set_random_seed(myseed)"
   ]
  },
  {
   "cell_type": "markdown",
   "metadata": {},
   "source": [
    "### 딥러닝 모델계층 설정\n",
    "* 입력층-하나의 은닉층-출력층을 가진 단순모델로 설정\n",
    "<img src = './../../images/md_cnn_base.png'>"
   ]
  },
  {
   "cell_type": "code",
   "execution_count": 65,
   "metadata": {},
   "outputs": [
    {
     "name": "stdout",
     "output_type": "stream",
     "text": [
      "_________________________________________________________________\n",
      "Layer (type)                 Output Shape              Param #   \n",
      "=================================================================\n",
      "dense_1 (Dense)              (None, 512)               401920    \n",
      "_________________________________________________________________\n",
      "dense_2 (Dense)              (None, 10)                5130      \n",
      "=================================================================\n",
      "Total params: 407,050\n",
      "Trainable params: 407,050\n",
      "Non-trainable params: 0\n",
      "_________________________________________________________________\n"
     ]
    }
   ],
   "source": [
    "# 딥러닝 학습계층 시퀀스객체 로딩\n",
    "md = Sequential()\n",
    "# - 딥러닝 학습계층을 순차적으로 쌓아올릴 수 있는 Sequential()메서드를 md라는 객체로 로딩함\n",
    "\n",
    "# 딥러닝 학습계층 설계\n",
    "# - Dense() 객체로 학습계층별로 여러 개 노드가 밀집된 신경망을 구현함\n",
    "# - 입력층(784개노드)-은닉층(512개노드)-출력층(10개노드)\n",
    "\n",
    "md.add(Dense(512, input_dim = 784, activation = 'relu'))\n",
    "# - 딥러닝 학습계층 1번째로 input_dim 으로 입력층 + 은닉층 역할 수행\n",
    "# - input_dim은 피처셋의 예측(입력;독립)변수 갯수로 입력층에 784개 노드 지정\n",
    "#   첫번째 레이어 이후로는 입력개수 지정 불필요\n",
    "#   앞 레이어의 출력갯수가 이후 뒤 레이어의 입력개수가 됨\n",
    "# - Dense 함수로 은닉층에 512개의 노드를 만듦\n",
    "# - activation = 'relu'로 활성화함수 지정해 해당층의 학습결과를 다음층으로 넘김\n",
    "\n",
    "md.add(Dense(10, activation = 'softmax'))\n",
    "# - 딥러닝 학습계층 2번째로 출력층 역할\n",
    "# - 출력값을 10개로 정해서 보여주기 위해서 10으로 설정함\n",
    "# - activation = 'softmax'로 활성화함수 지정해 \n",
    "#   최종적인 출력값을 0, 0, 1, 0, 0, 0, 0, 0, 0, 0 과 같은 원핫인코딩 방식으로 도출\n",
    "\n",
    "# 딥러닝 계층구조 요약\n",
    "md.summary()"
   ]
  },
  {
   "cell_type": "markdown",
   "metadata": {},
   "source": [
    "### 딥러닝 학습방법 설정"
   ]
  },
  {
   "cell_type": "code",
   "execution_count": 66,
   "metadata": {},
   "outputs": [],
   "source": [
    "# 준비된 학습계층의 학습방법 설정\n",
    "md.compile(loss = 'categorical_crossentropy', \n",
    "           optimizer = 'adam', metrics = ['accuracy'])\n",
    "\n",
    "# - loss: 학습시 오차를 어떻방법으로 계산할지 설정\n",
    "# - optimizser: 발생하는 오차를 어떤방법으로 줄여나갈지 설정\n",
    "#   binary_crossentropy: 이항분류(binary-class classification)에 적합함\n",
    "#   categorical_crossentropy: 다항분류(multi-class classification)에 적합함\n",
    "# - metrics: 모형의 성능을 평가하는 기준으로 어떤 것을 사용할지 설정"
   ]
  },
  {
   "cell_type": "markdown",
   "metadata": {},
   "source": [
    "### 학습모델 파일저장 옵션 설정"
   ]
  },
  {
   "cell_type": "code",
   "execution_count": 67,
   "metadata": {},
   "outputs": [],
   "source": [
    "# 딥러닝 학습모델 저장폴더명 설정\n",
    "import os\n",
    "\n",
    "md_dir = './model/'\n",
    "if not os.path.exists(md_dir):\n",
    "    os.mkdir(md_dir)\n",
    "    \n",
    "# 딥러닝 학습모델별 저장파일명 변경설정\n",
    "md_path = './model/ep{epoch:d}_vloss{val_loss:.3f}_vacc{val_acc:.3f}.hdf5'\n",
    "# - loss: 전체데이터 중 훈련셋(training) 학습오차\n",
    "# - acc: 전체데이터 중 훈련셋(training) 정확도\n",
    "# - val_loss: 전체데이터 중 검증셋(validation) 오차\n",
    "# - val_acc: 전체데이터 중 검증셋(validation) 정확도\n",
    "\n",
    "# ep{epoch:d} 단위배치(batch) 작업인 엑폭번호를 정수형으로 파일명 시작부분에 기록\n",
    "# vloss{val_loss:.3f} 각 학습모델의 검증데이터 오차정도를 소수3자리까지 파일에 기록\n",
    "# vacc{val_acc:.3f} 각 학습모델의 검증데이터 정확정도를 소수3째자리까지 파일에 기록"
   ]
  },
  {
   "cell_type": "markdown",
   "metadata": {},
   "source": [
    "### 학습모델 체크포인트 옵션 설정"
   ]
  },
  {
   "cell_type": "code",
   "execution_count": 68,
   "metadata": {},
   "outputs": [],
   "source": [
    "# 학습모델 체크포인트 모듈 로딩\n",
    "from keras.callbacks import ModelCheckpoint"
   ]
  },
  {
   "cell_type": "code",
   "execution_count": 69,
   "metadata": {},
   "outputs": [],
   "source": [
    "# 체크포인트(checkpoint) 변경설정\n",
    "cp = ModelCheckpoint(filepath = md_path, \n",
    "                     monitor = 'val_loss', \n",
    "                     verbose = 1, \n",
    "                     save_best_only = True)\n",
    "# - filepath: 각 학습모델별 성능평가 파일저장 경로\n",
    "# - monitor 옵션: 각 학습모델별 성능평가 기준\n",
    "#   * 전체데이터 중 훈련셋(training) 학습오차: loss\n",
    "#   * 전체데이터 중 훈련셋(training) 정확도: acc\n",
    "#   * 전체데이터 중 검증셋(validation) 오차: val_loss\n",
    "#   * 전체데이터 중 검증셋(validation) 정확도: val_acc\n",
    "#   * 전체데이터 중 시험셋(테스트; test)은 별도로 분할해 놓아야 함\n",
    "# - verbose: 모델별 학습진행사항 출력\n",
    "# - save_best_only: 각 학습모델별 성능평가 파일저장시\n",
    "#                   이전 모델보다 성능이 좋아졌을 때만 저장하도록 함"
   ]
  },
  {
   "cell_type": "markdown",
   "metadata": {},
   "source": [
    "### 학습모델 과적합 방지 옵션 설정"
   ]
  },
  {
   "cell_type": "code",
   "execution_count": 70,
   "metadata": {},
   "outputs": [],
   "source": [
    "# 과적합 방지용 종료 메서드 로딩\n",
    "from keras.callbacks import EarlyStopping"
   ]
  },
  {
   "cell_type": "code",
   "execution_count": 71,
   "metadata": {},
   "outputs": [],
   "source": [
    "# 조기종료 옵션설정\n",
    "es = EarlyStopping(monitor = 'val_loss', patience = 10)\n",
    "# - monitor: 검증셋 대상 모니터할 값 설정\n",
    "# - patience: 검증셋 오차가 좋아지지 않아도 몇 번까지 기다릴지 설정"
   ]
  },
  {
   "cell_type": "markdown",
   "metadata": {},
   "source": [
    "### 딥러닝 모델에 데이터 피팅"
   ]
  },
  {
   "cell_type": "code",
   "execution_count": 72,
   "metadata": {
    "scrolled": true
   },
   "outputs": [
    {
     "name": "stdout",
     "output_type": "stream",
     "text": [
      "Train on 48000 samples, validate on 12000 samples\n",
      "Epoch 1/200\n",
      "48000/48000 [==============================] - 8s 164us/step - loss: 0.2782 - acc: 0.9203 - val_loss: 0.1466 - val_acc: 0.9583\n",
      "\n",
      "Epoch 00001: val_loss improved from inf to 0.14656, saving model to ./model/ep1_vloss0.147_vacc0.958.hdf5\n",
      "Epoch 2/200\n",
      "48000/48000 [==============================] - 10s 211us/step - loss: 0.1134 - acc: 0.9664 - val_loss: 0.1002 - val_acc: 0.9691\n",
      "\n",
      "Epoch 00002: val_loss improved from 0.14656 to 0.10021, saving model to ./model/ep2_vloss0.100_vacc0.969.hdf5\n",
      "Epoch 3/200\n",
      "48000/48000 [==============================] - 9s 179us/step - loss: 0.0724 - acc: 0.9793 - val_loss: 0.0897 - val_acc: 0.9729\n",
      "\n",
      "Epoch 00003: val_loss improved from 0.10021 to 0.08968, saving model to ./model/ep3_vloss0.090_vacc0.973.hdf5\n",
      "Epoch 4/200\n",
      "48000/48000 [==============================] - 10s 201us/step - loss: 0.0525 - acc: 0.9850 - val_loss: 0.0871 - val_acc: 0.9743\n",
      "\n",
      "Epoch 00004: val_loss improved from 0.08968 to 0.08709, saving model to ./model/ep4_vloss0.087_vacc0.974.hdf5\n",
      "Epoch 5/200\n",
      "48000/48000 [==============================] - 9s 196us/step - loss: 0.0370 - acc: 0.9896 - val_loss: 0.0839 - val_acc: 0.9739\n",
      "\n",
      "Epoch 00005: val_loss improved from 0.08709 to 0.08393, saving model to ./model/ep5_vloss0.084_vacc0.974.hdf5\n",
      "Epoch 6/200\n",
      "48000/48000 [==============================] - 8s 177us/step - loss: 0.0274 - acc: 0.9925 - val_loss: 0.0890 - val_acc: 0.9732\n",
      "\n",
      "Epoch 00006: val_loss did not improve from 0.08393\n",
      "Epoch 7/200\n",
      "48000/48000 [==============================] - 7s 143us/step - loss: 0.0189 - acc: 0.9953 - val_loss: 0.0732 - val_acc: 0.9783\n",
      "\n",
      "Epoch 00007: val_loss improved from 0.08393 to 0.07324, saving model to ./model/ep7_vloss0.073_vacc0.978.hdf5\n",
      "Epoch 8/200\n",
      "48000/48000 [==============================] - 8s 175us/step - loss: 0.0150 - acc: 0.9963 - val_loss: 0.0779 - val_acc: 0.9778\n",
      "\n",
      "Epoch 00008: val_loss did not improve from 0.07324\n",
      "Epoch 9/200\n",
      "48000/48000 [==============================] - 8s 167us/step - loss: 0.0109 - acc: 0.9973 - val_loss: 0.0815 - val_acc: 0.9783\n",
      "\n",
      "Epoch 00009: val_loss did not improve from 0.07324\n",
      "Epoch 10/200\n",
      "48000/48000 [==============================] - 8s 167us/step - loss: 0.0109 - acc: 0.9974 - val_loss: 0.0806 - val_acc: 0.9779\n",
      "\n",
      "Epoch 00010: val_loss did not improve from 0.07324\n",
      "Epoch 11/200\n",
      "48000/48000 [==============================] - 10s 214us/step - loss: 0.0079 - acc: 0.9981 - val_loss: 0.0800 - val_acc: 0.9795\n",
      "\n",
      "Epoch 00011: val_loss did not improve from 0.07324\n",
      "Epoch 12/200\n",
      "48000/48000 [==============================] - 11s 225us/step - loss: 0.0077 - acc: 0.9980 - val_loss: 0.0823 - val_acc: 0.9790\n",
      "\n",
      "Epoch 00012: val_loss did not improve from 0.07324\n",
      "Epoch 13/200\n",
      "48000/48000 [==============================] - 10s 212us/step - loss: 0.0065 - acc: 0.9983 - val_loss: 0.0860 - val_acc: 0.9773\n",
      "\n",
      "Epoch 00013: val_loss did not improve from 0.07324\n",
      "Epoch 14/200\n",
      "48000/48000 [==============================] - 9s 195us/step - loss: 0.0042 - acc: 0.9991 - val_loss: 0.0754 - val_acc: 0.9821\n",
      "\n",
      "Epoch 00014: val_loss did not improve from 0.07324\n",
      "Epoch 15/200\n",
      "48000/48000 [==============================] - 8s 177us/step - loss: 0.0015 - acc: 0.9998 - val_loss: 0.0892 - val_acc: 0.9783\n",
      "\n",
      "Epoch 00015: val_loss did not improve from 0.07324\n",
      "Epoch 16/200\n",
      "48000/48000 [==============================] - 9s 181us/step - loss: 0.0073 - acc: 0.9978 - val_loss: 0.1276 - val_acc: 0.9703\n",
      "\n",
      "Epoch 00016: val_loss did not improve from 0.07324\n",
      "Epoch 17/200\n",
      "48000/48000 [==============================] - 10s 198us/step - loss: 0.0111 - acc: 0.9959 - val_loss: 0.0937 - val_acc: 0.9778\n",
      "\n",
      "Epoch 00017: val_loss did not improve from 0.07324\n"
     ]
    }
   ],
   "source": [
    "# 딥러닝 모델 최적화 훈련진행\n",
    "# - 준비된 훈련계층과 훈련방법에 따라 미니배치(mini-batch) 방식으로 최적화 훈련진행\n",
    "# - 훈련데이터셋을 한번에 투입해 또는 한개 샘플씩 학습을 하지 않고, \n",
    "#   일부(batch_size) 단위샘플로 나누어서 부분적으로 학습을 진행함\n",
    "# - 미니배치를 하나씩 학습모델에 투입해 손실함수값을 줄이기 위한 파라미터(가중치, 편향)를 조율해 나감\n",
    "# - 각 미니배치별 손실함수값을 구하고, 이들의 평균적인 오차와 정확도를 해당 모델의 성능으로 판단함\n",
    "# - 또한 미니배치 단위샘플을 모두 사용하는 일련의 학습과정(에포크: epoch)을 \n",
    "#   한번에 끝내는 것이 아니라 여러차례 반복실시해 모델의 성능을 개선해 나감  \n",
    "\n",
    "history = md.fit(X_training_scaled, y_train_ohe, \n",
    "                 epochs = 200, batch_size = 100, \n",
    "                 validation_split = 0.2, \n",
    "                 verbose = 1, \n",
    "                 callbacks = [cp, es])\n",
    "# - 훈련셋을 100개 샘플씩 나누어 미니배치를 여러개 만들고 \n",
    "#   이를 모두 활용하는 딥러닝 학습을 총 200번 반복실시함\n",
    "\n",
    "# - batch_size: 훈련데이터셋중에서 몇개 샘플을 미니배치(mini-batch)로 만들것인지 설정\n",
    "#   적게설정: 빠른 훈련속도이점. 단위샘플셋에 따라 학습편차가 많이 발생. 병렬연산 못하고 하드웨어 자원낭비\n",
    "#   많이설정: 훈련속도가 느려짐. 지역최소값(local minimum)에 빠질 수 있음. 하드웨어 자원에 부하가 많이 발생함)\n",
    "# - epochs: 미니배치를 모두 처리하는 일련의 학습을 몇 번 정도 실시할지 설정\n",
    "#   적게설정: 파라미터조율이 충분하지 않아서 과소적합 가능성\n",
    "#   많이설정: 파라미터조율이 지나쳐 과대적합 가능성\n",
    "\n",
    "# - validation_split = 0.2: 전체데이터중 훈련셋(training) 80%, 검증셋(validation) 20%로 분할하는 비율설정\n",
    "# - callbacks \n",
    "#   [cp] 학습모델별 성능평가파일 생성방법 설정\n",
    "#   [es] 딥러닝 과적합방지용 조기종료 옵션 설정\n",
    "\n",
    "# 신경망 학습을 위한 데이터셋 3가지 유형\n",
    "# - 훈련 데이터(training data): 매개변수(가중치와 편향) 학습\n",
    "# - 검증 데이터(validation data): 하이퍼파라미터 성능 평가\n",
    "# - 시험 데이터(test data): 신경망의 범용 성능 평가\n",
    "\n",
    "# - validation_split = 0.2 대신에 별도 피처&타겟셋을 입력할 수 있음\n",
    "# - validation_data = (X_testing_scaled, y_test_ohe)로 설정하면\n",
    "#   시험셋을 검증용으로 투입한 것으로 볼 수 있음"
   ]
  },
  {
   "cell_type": "markdown",
   "metadata": {},
   "source": [
    "# <font color = 'blue'>딥러닝 모델 성능평가</font>"
   ]
  },
  {
   "cell_type": "markdown",
   "metadata": {},
   "source": [
    "### 딥러닝 학습모델 성능평가 히스토리"
   ]
  },
  {
   "cell_type": "code",
   "execution_count": 73,
   "metadata": {},
   "outputs": [],
   "source": [
    "# 딥러닝 학습실시에 따른 성능평가 히스토리 확보\n",
    "\n",
    "# 훈련셋(training) 학습성능\n",
    "y_loss = history.history['loss'] # 훈련셋 오차\n",
    "y_acc = history.history['acc'] # 훈련셋 정확도\n",
    "\n",
    "# 검증셋(validation) 학습성능\n",
    "y_vloss = history.history['val_loss'] # 검증셋 오차\n",
    "y_vacc = history.history['val_acc'] # 검증셋 정확도"
   ]
  },
  {
   "cell_type": "code",
   "execution_count": 74,
   "metadata": {},
   "outputs": [
    {
     "name": "stdout",
     "output_type": "stream",
     "text": [
      "<class 'list'> 17\n",
      "<class 'list'> 17\n",
      "<class 'list'> 17\n",
      "<class 'list'> 17\n"
     ]
    }
   ],
   "source": [
    "# 딥러닝 학습실시에 따른 성능평가 히스토리 객체형식과 규모\n",
    "print(type(y_loss), len(y_loss))\n",
    "print(type(y_acc), len(y_acc))\n",
    "print(type(y_vloss), len(y_vloss))\n",
    "print(type(y_vacc), len(y_vacc))"
   ]
  },
  {
   "cell_type": "markdown",
   "metadata": {},
   "source": [
    "### 딥러닝 학습모델 성능평가 그래프"
   ]
  },
  {
   "cell_type": "code",
   "execution_count": 75,
   "metadata": {},
   "outputs": [
    {
     "data": {
      "text/plain": [
       "array([ 0,  1,  2,  3,  4,  5,  6,  7,  8,  9, 10, 11, 12, 13, 14, 15, 16])"
      ]
     },
     "execution_count": 75,
     "metadata": {},
     "output_type": "execute_result"
    }
   ],
   "source": [
    "# x축 설정\n",
    "# - epochs = 200에 의해서 딥러닝 학습모델이 200개 만들어저 진행됨에 따라\n",
    "#   학습오차, 학습정확도, 검증오차, 검증정확도가 모두 200개 값이 생성됨\n",
    "# - 그런데, callbacks = [cp, es] 파라미터 설정으로 \n",
    "#   개선된 베스트모델&과적합방지 학습모델에 대해서만 제한적으로  \n",
    "#   학습오차, 학습정확도, 검증오차, 검증정확도가 기록됨  \n",
    "#   [cp] 학습모델별 성능평가파일 생성시 \n",
    "#        이전파일보다 성능이 개선된 베스트모델을 저장옵션\n",
    "#   [es] 딥러닝 과적합방지용 조기종료 옵션 \n",
    "x_len = np.arange(len(y_acc))\n",
    "x_len"
   ]
  },
  {
   "cell_type": "markdown",
   "metadata": {},
   "source": [
    "#### 훈련셋 딥러닝학습 오차과 정확도 추이"
   ]
  },
  {
   "cell_type": "code",
   "execution_count": 76,
   "metadata": {},
   "outputs": [
    {
     "data": {
      "text/plain": [
       "<matplotlib.legend.Legend at 0x21798f12cc0>"
      ]
     },
     "execution_count": 76,
     "metadata": {},
     "output_type": "execute_result"
    },
    {
     "data": {
      "image/png": "[encoded data removed]",
      "text/plain": [
       "<Figure size 432x288 with 1 Axes>"
      ]
     },
     "metadata": {
      "needs_background": "light"
     },
     "output_type": "display_data"
    }
   ],
   "source": [
    "# 훈련셋 딥러닝학습 오차와 정확도 추이\n",
    "plt.plot(x_len, y_acc, 'bo--', label = '훈련셋 정확도')\n",
    "plt.plot(x_len, y_loss, 'ro--', label = '훈련셋 오차')\n",
    "plt.title('훈련셋 딥러닝학습 오차과 정확도 추이')\n",
    "plt.xlabel('epoch', size = 12)\n",
    "plt.ylabel('red: 오차 ----- blue: 정확도', size = 12)\n",
    "plt.legend()\n",
    "\n",
    "# 마커설정 옵션 'bo--', 'ro--'\n",
    "# --> color = 'blue', marker = 'o', linestyle = '--' 의미임\n",
    "# --> color = 'red', marker = 'o', linestyle = '--' 의미임"
   ]
  },
  {
   "cell_type": "markdown",
   "metadata": {},
   "source": [
    "best모델만 저장하다보니 epoch의 갯수가 17개가 나온 것"
   ]
  },
  {
   "cell_type": "markdown",
   "metadata": {},
   "source": [
    "#### 테스트셋 딥러닝학습 오차과 정확도 추이"
   ]
  },
  {
   "cell_type": "code",
   "execution_count": 77,
   "metadata": {},
   "outputs": [
    {
     "data": {
      "text/plain": [
       "<matplotlib.legend.Legend at 0x21798f84e80>"
      ]
     },
     "execution_count": 77,
     "metadata": {},
     "output_type": "execute_result"
    },
    {
     "data": {
      "image/png": "[encoded data removed]",
      "text/plain": [
       "<Figure size 432x288 with 1 Axes>"
      ]
     },
     "metadata": {
      "needs_background": "light"
     },
     "output_type": "display_data"
    }
   ],
   "source": [
    "# 테스트셋 딥러닝학습 오차과 정확도 추이\n",
    "plt.plot(x_len, y_vacc, 'bo--', label = '테스트셋 정확도')\n",
    "plt.plot(x_len, y_vloss, 'ro--', label = '테스트셋 오차')\n",
    "plt.title('테스트셋 딥러닝학습 오차과 정확도 추이')\n",
    "plt.xlabel('epoch', size = 12)\n",
    "plt.ylabel('red: 오차 ----- blue: 정확도', size = 12)\n",
    "plt.legend()"
   ]
  },
  {
   "cell_type": "markdown",
   "metadata": {},
   "source": [
    "#### 딥러닝학습 훈련셋과 검증셋 오차 추이"
   ]
  },
  {
   "cell_type": "code",
   "execution_count": 78,
   "metadata": {},
   "outputs": [
    {
     "data": {
      "text/plain": [
       "<matplotlib.legend.Legend at 0x21798f7d7f0>"
      ]
     },
     "execution_count": 78,
     "metadata": {},
     "output_type": "execute_result"
    },
    {
     "data": {
      "image/png": "[encoded data removed]",
      "text/plain": [
       "<Figure size 432x288 with 1 Axes>"
      ]
     },
     "metadata": {
      "needs_background": "light"
     },
     "output_type": "display_data"
    }
   ],
   "source": [
    "# 딥러닝학습 훈련셋과 검증셋 오차 추이\n",
    "plt.plot(x_len, y_loss, 'co--', label = '훈련셋 오차')\n",
    "plt.plot(x_len, y_vloss, 'mo--', label = '검증셋 오차')\n",
    "plt.title('딥러닝학습 훈련셋과 검증셋 오차 추이')\n",
    "plt.xlabel('epoch', size = 12)\n",
    "plt.ylabel('오차(loss)', size = 12)\n",
    "plt.legend()\n",
    "\n",
    "# 마커설정 옵션 'co--', 'mo--'\n",
    "# --> color = 'cyan', marker = 'o', linestyle = '--' 로 풀어서 코딩가능\n",
    "# --> color = 'magenta', marker = 'o', linestyle = '--' 로 풀어서 코딩가능"
   ]
  },
  {
   "cell_type": "markdown",
   "metadata": {},
   "source": [
    "#### 딥러닝학습 훈련셋과 테스트셋 정확도 추이"
   ]
  },
  {
   "cell_type": "code",
   "execution_count": 79,
   "metadata": {},
   "outputs": [
    {
     "data": {
      "text/plain": [
       "<matplotlib.legend.Legend at 0x2179ab1fef0>"
      ]
     },
     "execution_count": 79,
     "metadata": {},
     "output_type": "execute_result"
    },
    {
     "data": {
      "image/png": "[encoded data removed]",
      "text/plain": [
       "<Figure size 432x288 with 1 Axes>"
      ]
     },
     "metadata": {
      "needs_background": "light"
     },
     "output_type": "display_data"
    }
   ],
   "source": [
    "# 딥러닝학습 훈련셋과 테스트셋 정확도 추이\n",
    "plt.plot(x_len, y_acc, 'co--', label = '훈련셋 정확도')\n",
    "plt.plot(x_len, y_vacc, 'mo--', label = '테스트셋 정확도')\n",
    "plt.title('딥러닝학습 훈련셋과 테스트셋 정확도 추이')\n",
    "plt.xlabel('epoch', size = 12)\n",
    "plt.ylabel('정확도(accuracy)', size = 12)\n",
    "plt.legend()"
   ]
  },
  {
   "cell_type": "markdown",
   "metadata": {},
   "source": [
    "#### 훈련셋 정확도와 검증셋 오차 추이\n",
    "* 훈련셋의 정확도는 에포크(epoch)가 실행될 수록 좋아짐\n",
    "* 반면에 검증셋의 오차는 에포크가 실행될 수록 더이상 좋아지지 않음\n",
    "* 따라서 에포크(epoch) 회수를 통해 적정한 딥러닝 모델학습 지정이 필요함 \n",
    "* 학습이 진행될수록 훈련셋의 정확도는 올라가지만, \n",
    "<br>과적합으로 인해 검증셋의 학습결과는 점점 나빠지게 됨\n",
    "<img src = './../../images/train_validation.png'>"
   ]
  },
  {
   "cell_type": "code",
   "execution_count": 80,
   "metadata": {},
   "outputs": [
    {
     "data": {
      "text/plain": [
       "<matplotlib.legend.Legend at 0x2179a94f320>"
      ]
     },
     "execution_count": 80,
     "metadata": {},
     "output_type": "execute_result"
    },
    {
     "data": {
      "image/png": "[encoded data removed]",
      "text/plain": [
       "<Figure size 432x288 with 1 Axes>"
      ]
     },
     "metadata": {
      "needs_background": "light"
     },
     "output_type": "display_data"
    }
   ],
   "source": [
    "# 훈렷셋 딥러닝학습 정확도 추이\n",
    "plt.plot(x_len, y_acc, color = 'blue', \n",
    "         marker = 'o', linestyle = '--', label = '훈련셋 정확도')\n",
    "plt.title('딥러닝학습 훈련셋 정확도 추이')\n",
    "plt.xlabel('epoch', size = 12)\n",
    "plt.ylabel('blue: 정확도', size = 12)\n",
    "plt.legend()"
   ]
  },
  {
   "cell_type": "code",
   "execution_count": 81,
   "metadata": {},
   "outputs": [
    {
     "data": {
      "text/plain": [
       "<matplotlib.legend.Legend at 0x2179aad3fd0>"
      ]
     },
     "execution_count": 81,
     "metadata": {},
     "output_type": "execute_result"
    },
    {
     "data": {
      "image/png": "[encoded data removed]",
      "text/plain": [
       "<Figure size 432x288 with 1 Axes>"
      ]
     },
     "metadata": {
      "needs_background": "light"
     },
     "output_type": "display_data"
    }
   ],
   "source": [
    "# 검증셋 딥러닝학습 오차 추이\n",
    "plt.plot(x_len, y_vloss, color = 'red', \n",
    "         marker = 'o', linestyle = '--', label = '검증셋 오차')\n",
    "plt.title('딥러닝학습 검증셋 오차 추이')\n",
    "plt.xlabel('epoch', size = 12)\n",
    "plt.ylabel('red: 오차', size = 12)\n",
    "plt.legend()"
   ]
  },
  {
   "cell_type": "code",
   "execution_count": 82,
   "metadata": {},
   "outputs": [
    {
     "data": {
      "text/plain": [
       "<matplotlib.legend.Legend at 0x2179a570080>"
      ]
     },
     "execution_count": 82,
     "metadata": {},
     "output_type": "execute_result"
    },
    {
     "data": {
      "image/png": "[encoded data removed]",
      "text/plain": [
       "<Figure size 432x288 with 1 Axes>"
      ]
     },
     "metadata": {
      "needs_background": "light"
     },
     "output_type": "display_data"
    }
   ],
   "source": [
    "# 훈련셋 정확도와 검증셋 오차 추이\n",
    "plt.plot(x_len, y_acc, color = 'blue', marker = 'o', \n",
    "         linestyle = '--', label = '훈련셋 정확도')\n",
    "plt.plot(x_len, y_vloss, color = 'red', marker = 'o', \n",
    "         linestyle = '--', label = '검증셋 오차')\n",
    "plt.title('딥러닝학습 훈련셋 정확도와 검증셋 오차 추이')\n",
    "plt.xlabel('epoch', size = 12)\n",
    "plt.ylabel('red: 오차 ----- blue: 정확도', size = 12)\n",
    "plt.legend()\n",
    "\n",
    "# 마커설정 옵션: color = 'red', marker = 'o', linestyle = '--'\n",
    "# --> 'ro--'로 축약해서 설정가능함"
   ]
  },
  {
   "cell_type": "markdown",
   "metadata": {},
   "source": [
    "### 모델 성능평가"
   ]
  },
  {
   "cell_type": "markdown",
   "metadata": {},
   "source": [
    "#### 훈련셋(train) 성능평가"
   ]
  },
  {
   "cell_type": "code",
   "execution_count": 83,
   "metadata": {},
   "outputs": [
    {
     "name": "stdout",
     "output_type": "stream",
     "text": [
      "60000/60000 [==============================] - 7s 109us/step\n"
     ]
    },
    {
     "data": {
      "text/plain": [
       "[0.02307962768615762, 0.9944333333333333]"
      ]
     },
     "execution_count": 83,
     "metadata": {},
     "output_type": "execute_result"
    }
   ],
   "source": [
    "# 훈련셋을 활용한 딥러닝모델의 성능평가 결과\n",
    "train_perf = md.evaluate(X_training_scaled, y_train_ohe)\n",
    "train_perf"
   ]
  },
  {
   "cell_type": "code",
   "execution_count": 84,
   "metadata": {
    "scrolled": true
   },
   "outputs": [
    {
     "name": "stdout",
     "output_type": "stream",
     "text": [
      "훈련셋 모델성능 종합: [0.023, 0.994]\n",
      "훈련셋 모델성능 오차(loss):       0.023\n",
      "훈련셋 모델성능 정확도(accuracy): 0.994\n"
     ]
    }
   ],
   "source": [
    "print('훈련셋 모델성능 종합:', [round(i, 3) for i in train_perf])\n",
    "print(f'훈련셋 모델성능 오차(loss): {train_perf[0]:11.3f}')\n",
    "print(f'훈련셋 모델성능 정확도(accuracy): {train_perf[1]:0.3f}')"
   ]
  },
  {
   "cell_type": "markdown",
   "metadata": {},
   "source": [
    "#### 테스트셋(test) 성능평가"
   ]
  },
  {
   "cell_type": "code",
   "execution_count": 85,
   "metadata": {},
   "outputs": [
    {
     "name": "stdout",
     "output_type": "stream",
     "text": [
      "10000/10000 [==============================] - 1s 123us/step\n"
     ]
    },
    {
     "data": {
      "text/plain": [
       "[0.07880296427702306, 0.98]"
      ]
     },
     "execution_count": 85,
     "metadata": {},
     "output_type": "execute_result"
    }
   ],
   "source": [
    "# 테스트셋을 활용한 딥러닝모델의 성능평가 결과\n",
    "test_perf = md.evaluate(X_testing_scaled, y_test_ohe)\n",
    "test_perf"
   ]
  },
  {
   "cell_type": "code",
   "execution_count": 86,
   "metadata": {
    "scrolled": false
   },
   "outputs": [
    {
     "name": "stdout",
     "output_type": "stream",
     "text": [
      "테스트셋 모델성능 종합: [0.079, 0.98]\n",
      "테스트셋 모델성능 오차(loss):       0.079\n",
      "테스트셋 모델성능 정확도(accuracy): 0.980\n"
     ]
    }
   ],
   "source": [
    "print('테스트셋 모델성능 종합:', [round(i, 3) for i in test_perf])\n",
    "print(f'테스트셋 모델성능 오차(loss): {test_perf[0]:11.3f}')\n",
    "print(f'테스트셋 모델성능 정확도(accuracy): {test_perf[1]:0.3f}')"
   ]
  },
  {
   "cell_type": "markdown",
   "metadata": {},
   "source": [
    "#### 훈련셋과 테스트셋 성능평가 비교"
   ]
  },
  {
   "cell_type": "code",
   "execution_count": 87,
   "metadata": {},
   "outputs": [],
   "source": [
    "# 오차(loss) 비교\n",
    "diff_loss = test_perf[0] - train_perf[0] \n",
    "\n",
    "# 정확도(accuracy) 비교\n",
    "diff_acc = test_perf[1] - train_perf[1] "
   ]
  },
  {
   "cell_type": "code",
   "execution_count": 88,
   "metadata": {
    "scrolled": false
   },
   "outputs": [
    {
     "name": "stdout",
     "output_type": "stream",
     "text": [
      "[오차      (loss)] 훈련셋: 0.023, 테스트셋: 0.079, 차이: 0.056\n",
      "[정확도(accuracy)] 훈련셋: 0.994, 테스트셋: 0.980, 차이: -0.014\n"
     ]
    }
   ],
   "source": [
    "print(f'[오차      (loss)] 훈련셋: {train_perf[0]:0.3f}, 테스트셋: {test_perf[0]:0.3f}, 차이: {diff_loss:0.3f}')\n",
    "print(f'[정확도(accuracy)] 훈련셋: {train_perf[1]:0.3f}, 테스트셋: {test_perf[1]:0.3f}, 차이: {diff_acc:0.3f}')"
   ]
  },
  {
   "cell_type": "markdown",
   "metadata": {},
   "source": [
    "### 혼동표 분석"
   ]
  },
  {
   "cell_type": "code",
   "execution_count": 89,
   "metadata": {},
   "outputs": [
    {
     "data": {
      "text/plain": [
       "array([7, 2, 1, ..., 4, 5, 6], dtype=uint8)"
      ]
     },
     "execution_count": 89,
     "metadata": {},
     "output_type": "execute_result"
    }
   ],
   "source": [
    "# 실제 테스트셋 숫자이름표\n",
    "y_test"
   ]
  },
  {
   "cell_type": "code",
   "execution_count": 90,
   "metadata": {},
   "outputs": [
    {
     "data": {
      "text/plain": [
       "array([7, 2, 1, ..., 4, 5, 6], dtype=int64)"
      ]
     },
     "execution_count": 90,
     "metadata": {},
     "output_type": "execute_result"
    }
   ],
   "source": [
    "# 딥러닝모델의 예측 숫자이름표 \n",
    "md_y_pred = md.predict_classes(X_testing_scaled)\n",
    "md_y_pred"
   ]
  },
  {
   "cell_type": "code",
   "execution_count": 91,
   "metadata": {},
   "outputs": [],
   "source": [
    "# sklearn 성능평가 모듈 로딩\n",
    "from sklearn.metrics import confusion_matrix\n",
    "from sklearn.metrics import classification_report"
   ]
  },
  {
   "cell_type": "code",
   "execution_count": 92,
   "metadata": {},
   "outputs": [
    {
     "data": {
      "text/plain": [
       "array([[ 967,    1,    1,    0,    2,    1,    3,    1,    2,    2],\n",
       "       [   0, 1126,    4,    0,    0,    0,    1,    1,    3,    0],\n",
       "       [   3,    0, 1019,    2,    0,    0,    2,    1,    5,    0],\n",
       "       [   0,    0,    9,  975,    0,    6,    0,    3,    6,   11],\n",
       "       [   0,    2,    5,    0,  956,    0,    3,    0,    2,   14],\n",
       "       [   1,    0,    0,    7,    0,  872,    4,    0,    4,    4],\n",
       "       [   1,    2,    2,    1,    4,    5,  942,    0,    1,    0],\n",
       "       [   1,    3,   16,    3,    1,    0,    0,  991,    4,    9],\n",
       "       [   1,    1,    2,    3,    2,    2,    1,    2,  955,    5],\n",
       "       [   0,    3,    0,    1,    3,    3,    0,    2,    0,  997]],\n",
       "      dtype=int64)"
      ]
     },
     "execution_count": 92,
     "metadata": {},
     "output_type": "execute_result"
    }
   ],
   "source": [
    "# 실제y값과 예측y값 간의 혼동표 생성\n",
    "cm = confusion_matrix(y_test, md_y_pred)\n",
    "cm"
   ]
  },
  {
   "cell_type": "code",
   "execution_count": 93,
   "metadata": {},
   "outputs": [
    {
     "data": {
      "image/png": "[encoded data removed]",
      "text/plain": [
       "<Figure size 432x432 with 2 Axes>"
      ]
     },
     "metadata": {
      "needs_background": "light"
     },
     "output_type": "display_data"
    }
   ],
   "source": [
    "# 혼동표 시각화\n",
    "from mlxtend.plotting import plot_confusion_matrix\n",
    "import matplotlib.pyplot as plt\n",
    "import numpy as np\n",
    "\n",
    "fig, ax = plot_confusion_matrix(conf_mat = cm,\n",
    "                                colorbar = True,\n",
    "                                show_absolute = False,\n",
    "                                show_normed = True,\n",
    "                                figsize = (6, 6))"
   ]
  },
  {
   "cell_type": "code",
   "execution_count": 94,
   "metadata": {},
   "outputs": [
    {
     "name": "stdout",
     "output_type": "stream",
     "text": [
      "              precision    recall  f1-score   support\n",
      "\n",
      "           0       0.99      0.99      0.99       980\n",
      "           1       0.99      0.99      0.99      1135\n",
      "           2       0.96      0.99      0.98      1032\n",
      "           3       0.98      0.97      0.97      1010\n",
      "           4       0.99      0.97      0.98       982\n",
      "           5       0.98      0.98      0.98       892\n",
      "           6       0.99      0.98      0.98       958\n",
      "           7       0.99      0.96      0.98      1028\n",
      "           8       0.97      0.98      0.98       974\n",
      "           9       0.96      0.99      0.97      1009\n",
      "\n",
      "   micro avg       0.98      0.98      0.98     10000\n",
      "   macro avg       0.98      0.98      0.98     10000\n",
      "weighted avg       0.98      0.98      0.98     10000\n",
      "\n"
     ]
    }
   ],
   "source": [
    "# 혼동표 성능분석\n",
    "print(classification_report(y_test, md_y_pred,\n",
    "                            target_names=['0', '1', '2', '3', '4', '5',\n",
    "                                          '6', '7', '8', '9']))"
   ]
  },
  {
   "cell_type": "markdown",
   "metadata": {},
   "source": [
    "### 정분류 & 오분류 샘플 확인"
   ]
  },
  {
   "cell_type": "code",
   "execution_count": 95,
   "metadata": {},
   "outputs": [
    {
     "data": {
      "text/plain": [
       "array([7, 2, 1, ..., 4, 5, 6], dtype=uint8)"
      ]
     },
     "execution_count": 95,
     "metadata": {},
     "output_type": "execute_result"
    }
   ],
   "source": [
    "# 실제 테스트셋 숫자이름표\n",
    "y_test"
   ]
  },
  {
   "cell_type": "code",
   "execution_count": 96,
   "metadata": {},
   "outputs": [
    {
     "data": {
      "text/plain": [
       "array([7, 2, 1, ..., 4, 5, 6], dtype=int64)"
      ]
     },
     "execution_count": 96,
     "metadata": {},
     "output_type": "execute_result"
    }
   ],
   "source": [
    "# 딥러닝모델의 예측 숫자이름표 \n",
    "md_y_pred = md.predict_classes(X_testing_scaled)\n",
    "md_y_pred"
   ]
  },
  {
   "cell_type": "code",
   "execution_count": 97,
   "metadata": {},
   "outputs": [
    {
     "name": "stdout",
     "output_type": "stream",
     "text": [
      "\n",
      "정분류된 숫자이름표 갯수: 9800\n",
      "오분류된 숫자이름표 갯수:  200\n"
     ]
    }
   ],
   "source": [
    "# 정분류된 숫자이름표, 오분류된 숫자이름표 확보\n",
    "correct_indices = np.nonzero(md_y_pred == y_test)[0]\n",
    "incorrect_indices = np.nonzero(md_y_pred != y_test)[0]\n",
    "print()\n",
    "print(f'정분류된 숫자이름표 갯수: {len(correct_indices):d}')\n",
    "print(f'오분류된 숫자이름표 갯수: {len(incorrect_indices):4d}')"
   ]
  },
  {
   "cell_type": "code",
   "execution_count": 98,
   "metadata": {},
   "outputs": [
    {
     "data": {
      "image/png": "[encoded data removed]",
      "text/plain": [
       "<Figure size 504x504 with 9 Axes>"
      ]
     },
     "metadata": {},
     "output_type": "display_data"
    }
   ],
   "source": [
    "# 정분류된 9개 이미지 샘플 확인\n",
    "fig = plt.figure(figsize = (7, 7))\n",
    "\n",
    "for i, correct in enumerate(correct_indices[:9]):\n",
    "    plt.subplot(3, 3, i + 1)\n",
    "    plt.imshow(X_test[correct].reshape(28, 28), cmap = 'gray', interpolation = 'none')\n",
    "    plt.title(\n",
    "      \"Predicted: {}, Truth: {}\".format(md_y_pred[correct],\n",
    "                                        y_test[correct]))\n",
    "    plt.xticks([])\n",
    "    plt.yticks([])"
   ]
  },
  {
   "cell_type": "code",
   "execution_count": 99,
   "metadata": {},
   "outputs": [
    {
     "data": {
      "image/png": "[encoded data removed]",
      "text/plain": [
       "<Figure size 504x504 with 9 Axes>"
      ]
     },
     "metadata": {},
     "output_type": "display_data"
    }
   ],
   "source": [
    "# 오분류된 9개 이미지 샘플 확인\n",
    "fig = plt.figure(figsize = (7, 7))\n",
    "\n",
    "for i, incorrect in enumerate(incorrect_indices[:9]):\n",
    "    plt.subplot(3, 3, i + 1)\n",
    "    plt.imshow(X_test[incorrect].reshape(28, 28), cmap = 'gray', interpolation = 'none')\n",
    "    plt.title(\n",
    "      \"Predicted {}, Truth: {}\".format(md_y_pred[incorrect], \n",
    "                                       y_test[incorrect]))\n",
    "    plt.xticks([])\n",
    "    plt.yticks([])"
   ]
  },
  {
   "cell_type": "markdown",
   "metadata": {},
   "source": [
    "# End of Source"
   ]
  }
 ],
 "metadata": {
  "kernelspec": {
   "display_name": "Python 3",
   "language": "python",
   "name": "python3"
  },
  "language_info": {
   "codemirror_mode": {
    "name": "ipython",
    "version": 3
   },
   "file_extension": ".py",
   "mimetype": "text/x-python",
   "name": "python",
   "nbconvert_exporter": "python",
   "pygments_lexer": "ipython3",
   "version": "3.6.7"
  }
 },
 "nbformat": 4,
 "nbformat_minor": 2
}
