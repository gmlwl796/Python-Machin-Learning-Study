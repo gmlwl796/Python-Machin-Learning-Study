{
 "cells": [
  {
   "cell_type": "markdown",
   "metadata": {},
   "source": [
    "# <font color = 'color'>모두의 딥러닝: 17장_컨볼루션신경망(CNN) 이용(p.220)</font>"
   ]
  },
  {
   "cell_type": "markdown",
   "metadata": {},
   "source": [
    "# <font color = 'blue'>문제 정의</font>"
   ]
  },
  {
   "cell_type": "markdown",
   "metadata": {},
   "source": [
    "### 미국국립표준기술연구소 손글씨 숫자이미지 데이터셋(MINST Dataset)\n",
    "* 분류(classification) 문제\n",
    "* 흑백 손글씨 숫자이미지 특성을 통해 숫자이미지를 분류예측하는 문제상황\n",
    "* Modified National Institute of Standards and Technology database\n",
    "* 총 7만개: 훈련용(6만개), 테스트용(1만개)\n",
    "\n",
    "<img src = './../../images/mnist_cnn.png'>"
   ]
  },
  {
   "cell_type": "markdown",
   "metadata": {},
   "source": [
    "1. 피처(입력/예측/독립)변수\n",
    "    * 흑백 손글씨 숫자이미지 픽셀특성((가로28 X 세로28 픽셀별 색상정보) <pre>\n",
    "1. 타깃(출력/반응/종속)변수\n",
    "    * 10개의 숫자이미지 범주(0 ~ 9)"
   ]
  },
  {
   "cell_type": "markdown",
   "metadata": {},
   "source": [
    "# <font color = 'blue'>데이터 준비</font>"
   ]
  },
  {
   "cell_type": "markdown",
   "metadata": {},
   "source": [
    "### 시각화 모듈로딩 및 한글폰트 작업"
   ]
  },
  {
   "cell_type": "code",
   "execution_count": 1,
   "metadata": {},
   "outputs": [],
   "source": [
    "# 시각화 작업을 위한 모듈 로딩작업\n",
    "%matplotlib inline\n",
    "import matplotlib.pyplot as plt\n",
    "import seaborn as sns\n",
    "from matplotlib import font_manager"
   ]
  },
  {
   "cell_type": "code",
   "execution_count": 2,
   "metadata": {},
   "outputs": [],
   "source": [
    "# 사용을 원하는 한글폰트에 대한 공식이름 확인\n",
    "font_manager.FontProperties(fname=\"c:/Windows/Fonts/malgun.ttf\").get_name()\n",
    "\n",
    "# 사용을 원하는 한글폰트에 대한 공식이름 확인\n",
    "font_manager.FontProperties(fname=\"c:/Windows/Fonts/nanumgothic.ttf\").get_name()\n",
    "\n",
    "# 해당 한글폰트를 파이선 그래프에서 사용가능하도록 설정\n",
    "font_name = font_manager.FontProperties(fname=\"c:/Windows/Fonts/malgun.ttf\").get_name()\n",
    "plt.rcParams[\"font.family\"] = font_name\n",
    "plt.rcParams['axes.unicode_minus'] = False"
   ]
  },
  {
   "cell_type": "code",
   "execution_count": 3,
   "metadata": {},
   "outputs": [],
   "source": [
    "# 워닝메시지 출력관련 모듈로딩\n",
    "import warnings\n",
    "\n",
    "warnings.filterwarnings(action = 'ignore') \n",
    "# - 출력되는 경고메시지를 무시하고 숨김\n",
    "\n",
    "# warnings.filterwarnings(action = 'default')\n",
    "# - 다시 경고메시지가 나타나도록 함"
   ]
  },
  {
   "cell_type": "markdown",
   "metadata": {},
   "source": [
    "### 관련 라이브러리 로딩"
   ]
  },
  {
   "cell_type": "code",
   "execution_count": 4,
   "metadata": {},
   "outputs": [],
   "source": [
    "# 기본 범용라이브러리 로딩\n",
    "import numpy as np\n",
    "import pandas as pd"
   ]
  },
  {
   "cell_type": "code",
   "execution_count": 5,
   "metadata": {
    "scrolled": false
   },
   "outputs": [
    {
     "name": "stderr",
     "output_type": "stream",
     "text": [
      "Using TensorFlow backend.\n"
     ]
    }
   ],
   "source": [
    "# 데이터셋 모듈에서 뉴스 주제분류 데이터셋 로딩\n",
    "from keras.datasets import mnist"
   ]
  },
  {
   "cell_type": "markdown",
   "metadata": {},
   "source": [
    "### (3) MNIST 데이터셋을 4개 객체로 로딩"
   ]
  },
  {
   "cell_type": "code",
   "execution_count": 6,
   "metadata": {},
   "outputs": [],
   "source": [
    "# mnist에 들어 있는 데이터셋을 X_train과 y_train, X_test, y_test라는 4개 객체로 분리해 로딩함\n",
    "(X_train, y_train), (X_test, y_test) = mnist.load_data()\n",
    "# - 원래 mnist데이터셋이 2개 요소를 가진 튜플로 구성된 형식이며,\n",
    "#   각 요소별로 2개 서브요소를 가진 중첩 튜플 형식이라\n",
    "#   로딩시 튜플로 받기 위해서 괄호()를 2번 사용함"
   ]
  },
  {
   "cell_type": "markdown",
   "metadata": {},
   "source": [
    "### 훈련 MNIST 데이터셋"
   ]
  },
  {
   "cell_type": "code",
   "execution_count": 7,
   "metadata": {},
   "outputs": [
    {
     "name": "stdout",
     "output_type": "stream",
     "text": [
      "훈련셋 숫자이미지(피처) 형식: <class 'numpy.ndarray'> 규모: (60000, 28, 28)\n",
      "훈련셋 숫자이름표(타겟) 형식: <class 'numpy.ndarray'> 규모: (60000,)\n"
     ]
    }
   ],
   "source": [
    "# 훈련 데이터셋 형식과 규모\n",
    "\n",
    "print('훈련셋 숫자이미지(피처) 형식:', type(X_train), '규모:', X_train.shape)\n",
    "# - 훈련셋 숫자이미지 픽셀특성(피처)은 다차원 배열형식임\n",
    "# - 레코드 갯수는  6만개이며, 가로X세로 각각 28개 픽셀별 색상정보로 구성됨\n",
    "\n",
    "print('훈련셋 숫자이름표(타겟) 형식:', type(y_train), '규모:', y_train.shape)\n",
    "# - 훈련셋 숫자이름표(타겟) 범주는 다차원 배열형식임\n",
    "# - 레코드 갯수는  6만개로 구성됨"
   ]
  },
  {
   "cell_type": "code",
   "execution_count": 8,
   "metadata": {
    "scrolled": true
   },
   "outputs": [
    {
     "data": {
      "text/plain": [
       "array([[[0, 0, 0, ..., 0, 0, 0],\n",
       "        [0, 0, 0, ..., 0, 0, 0],\n",
       "        [0, 0, 0, ..., 0, 0, 0],\n",
       "        ...,\n",
       "        [0, 0, 0, ..., 0, 0, 0],\n",
       "        [0, 0, 0, ..., 0, 0, 0],\n",
       "        [0, 0, 0, ..., 0, 0, 0]],\n",
       "\n",
       "       [[0, 0, 0, ..., 0, 0, 0],\n",
       "        [0, 0, 0, ..., 0, 0, 0],\n",
       "        [0, 0, 0, ..., 0, 0, 0],\n",
       "        ...,\n",
       "        [0, 0, 0, ..., 0, 0, 0],\n",
       "        [0, 0, 0, ..., 0, 0, 0],\n",
       "        [0, 0, 0, ..., 0, 0, 0]],\n",
       "\n",
       "       [[0, 0, 0, ..., 0, 0, 0],\n",
       "        [0, 0, 0, ..., 0, 0, 0],\n",
       "        [0, 0, 0, ..., 0, 0, 0],\n",
       "        ...,\n",
       "        [0, 0, 0, ..., 0, 0, 0],\n",
       "        [0, 0, 0, ..., 0, 0, 0],\n",
       "        [0, 0, 0, ..., 0, 0, 0]],\n",
       "\n",
       "       ...,\n",
       "\n",
       "       [[0, 0, 0, ..., 0, 0, 0],\n",
       "        [0, 0, 0, ..., 0, 0, 0],\n",
       "        [0, 0, 0, ..., 0, 0, 0],\n",
       "        ...,\n",
       "        [0, 0, 0, ..., 0, 0, 0],\n",
       "        [0, 0, 0, ..., 0, 0, 0],\n",
       "        [0, 0, 0, ..., 0, 0, 0]],\n",
       "\n",
       "       [[0, 0, 0, ..., 0, 0, 0],\n",
       "        [0, 0, 0, ..., 0, 0, 0],\n",
       "        [0, 0, 0, ..., 0, 0, 0],\n",
       "        ...,\n",
       "        [0, 0, 0, ..., 0, 0, 0],\n",
       "        [0, 0, 0, ..., 0, 0, 0],\n",
       "        [0, 0, 0, ..., 0, 0, 0]],\n",
       "\n",
       "       [[0, 0, 0, ..., 0, 0, 0],\n",
       "        [0, 0, 0, ..., 0, 0, 0],\n",
       "        [0, 0, 0, ..., 0, 0, 0],\n",
       "        ...,\n",
       "        [0, 0, 0, ..., 0, 0, 0],\n",
       "        [0, 0, 0, ..., 0, 0, 0],\n",
       "        [0, 0, 0, ..., 0, 0, 0]]], dtype=uint8)"
      ]
     },
     "execution_count": 8,
     "metadata": {},
     "output_type": "execute_result"
    }
   ],
   "source": [
    "# 훈련 데이터셋 중 숫자이미지(피처) 조회\n",
    "X_train"
   ]
  },
  {
   "cell_type": "markdown",
   "metadata": {},
   "source": [
    "### 테스트 MNIST 데이터셋"
   ]
  },
  {
   "cell_type": "code",
   "execution_count": 9,
   "metadata": {},
   "outputs": [
    {
     "name": "stdout",
     "output_type": "stream",
     "text": [
      "테스트셋 숫자이미지(피처) 형식: <class 'numpy.ndarray'> 규모: (10000, 28, 28)\n",
      "테스트셋 숫자이름표(타겟) 형식: <class 'numpy.ndarray'> 규모: (10000,)\n"
     ]
    }
   ],
   "source": [
    "# 테스트 데이터셋 형식과 규모\n",
    "\n",
    "print('테스트셋 숫자이미지(피처) 형식:', type(X_test), '규모:', X_test.shape)\n",
    "# - 테스트셋 숫자이미지(피처) 형식은 다차원 배열형식임\n",
    "# - 레코드 갯수는  1만개이며, 가로X세로 각각 28픽셀로 구성됨\n",
    "\n",
    "print('테스트셋 숫자이름표(타겟) 형식:', type(y_test), '규모:', y_test.shape)\n",
    "# - 테스트셋 숫자이름표(타겟) 형식은 다차원 배열형식임\n",
    "# - 레코드 갯수는  6만개로 구성됨"
   ]
  },
  {
   "cell_type": "code",
   "execution_count": 10,
   "metadata": {
    "scrolled": true
   },
   "outputs": [
    {
     "data": {
      "text/plain": [
       "array([[[0, 0, 0, ..., 0, 0, 0],\n",
       "        [0, 0, 0, ..., 0, 0, 0],\n",
       "        [0, 0, 0, ..., 0, 0, 0],\n",
       "        ...,\n",
       "        [0, 0, 0, ..., 0, 0, 0],\n",
       "        [0, 0, 0, ..., 0, 0, 0],\n",
       "        [0, 0, 0, ..., 0, 0, 0]],\n",
       "\n",
       "       [[0, 0, 0, ..., 0, 0, 0],\n",
       "        [0, 0, 0, ..., 0, 0, 0],\n",
       "        [0, 0, 0, ..., 0, 0, 0],\n",
       "        ...,\n",
       "        [0, 0, 0, ..., 0, 0, 0],\n",
       "        [0, 0, 0, ..., 0, 0, 0],\n",
       "        [0, 0, 0, ..., 0, 0, 0]],\n",
       "\n",
       "       [[0, 0, 0, ..., 0, 0, 0],\n",
       "        [0, 0, 0, ..., 0, 0, 0],\n",
       "        [0, 0, 0, ..., 0, 0, 0],\n",
       "        ...,\n",
       "        [0, 0, 0, ..., 0, 0, 0],\n",
       "        [0, 0, 0, ..., 0, 0, 0],\n",
       "        [0, 0, 0, ..., 0, 0, 0]],\n",
       "\n",
       "       ...,\n",
       "\n",
       "       [[0, 0, 0, ..., 0, 0, 0],\n",
       "        [0, 0, 0, ..., 0, 0, 0],\n",
       "        [0, 0, 0, ..., 0, 0, 0],\n",
       "        ...,\n",
       "        [0, 0, 0, ..., 0, 0, 0],\n",
       "        [0, 0, 0, ..., 0, 0, 0],\n",
       "        [0, 0, 0, ..., 0, 0, 0]],\n",
       "\n",
       "       [[0, 0, 0, ..., 0, 0, 0],\n",
       "        [0, 0, 0, ..., 0, 0, 0],\n",
       "        [0, 0, 0, ..., 0, 0, 0],\n",
       "        ...,\n",
       "        [0, 0, 0, ..., 0, 0, 0],\n",
       "        [0, 0, 0, ..., 0, 0, 0],\n",
       "        [0, 0, 0, ..., 0, 0, 0]],\n",
       "\n",
       "       [[0, 0, 0, ..., 0, 0, 0],\n",
       "        [0, 0, 0, ..., 0, 0, 0],\n",
       "        [0, 0, 0, ..., 0, 0, 0],\n",
       "        ...,\n",
       "        [0, 0, 0, ..., 0, 0, 0],\n",
       "        [0, 0, 0, ..., 0, 0, 0],\n",
       "        [0, 0, 0, ..., 0, 0, 0]]], dtype=uint8)"
      ]
     },
     "execution_count": 10,
     "metadata": {},
     "output_type": "execute_result"
    }
   ],
   "source": [
    "# 테스트 데이터셋 중 숫자이미지(피처) 조회\n",
    "X_test"
   ]
  },
  {
   "cell_type": "markdown",
   "metadata": {},
   "source": [
    "# <font color = 'blue'>데이터 탐색</font>"
   ]
  },
  {
   "cell_type": "markdown",
   "metadata": {},
   "source": [
    "### 훈련 MNIST 데이터셋 조회"
   ]
  },
  {
   "cell_type": "code",
   "execution_count": 11,
   "metadata": {
    "scrolled": true
   },
   "outputs": [
    {
     "data": {
      "text/plain": [
       "array([[[0, 0, 0, ..., 0, 0, 0],\n",
       "        [0, 0, 0, ..., 0, 0, 0],\n",
       "        [0, 0, 0, ..., 0, 0, 0],\n",
       "        ...,\n",
       "        [0, 0, 0, ..., 0, 0, 0],\n",
       "        [0, 0, 0, ..., 0, 0, 0],\n",
       "        [0, 0, 0, ..., 0, 0, 0]],\n",
       "\n",
       "       [[0, 0, 0, ..., 0, 0, 0],\n",
       "        [0, 0, 0, ..., 0, 0, 0],\n",
       "        [0, 0, 0, ..., 0, 0, 0],\n",
       "        ...,\n",
       "        [0, 0, 0, ..., 0, 0, 0],\n",
       "        [0, 0, 0, ..., 0, 0, 0],\n",
       "        [0, 0, 0, ..., 0, 0, 0]],\n",
       "\n",
       "       [[0, 0, 0, ..., 0, 0, 0],\n",
       "        [0, 0, 0, ..., 0, 0, 0],\n",
       "        [0, 0, 0, ..., 0, 0, 0],\n",
       "        ...,\n",
       "        [0, 0, 0, ..., 0, 0, 0],\n",
       "        [0, 0, 0, ..., 0, 0, 0],\n",
       "        [0, 0, 0, ..., 0, 0, 0]],\n",
       "\n",
       "       ...,\n",
       "\n",
       "       [[0, 0, 0, ..., 0, 0, 0],\n",
       "        [0, 0, 0, ..., 0, 0, 0],\n",
       "        [0, 0, 0, ..., 0, 0, 0],\n",
       "        ...,\n",
       "        [0, 0, 0, ..., 0, 0, 0],\n",
       "        [0, 0, 0, ..., 0, 0, 0],\n",
       "        [0, 0, 0, ..., 0, 0, 0]],\n",
       "\n",
       "       [[0, 0, 0, ..., 0, 0, 0],\n",
       "        [0, 0, 0, ..., 0, 0, 0],\n",
       "        [0, 0, 0, ..., 0, 0, 0],\n",
       "        ...,\n",
       "        [0, 0, 0, ..., 0, 0, 0],\n",
       "        [0, 0, 0, ..., 0, 0, 0],\n",
       "        [0, 0, 0, ..., 0, 0, 0]],\n",
       "\n",
       "       [[0, 0, 0, ..., 0, 0, 0],\n",
       "        [0, 0, 0, ..., 0, 0, 0],\n",
       "        [0, 0, 0, ..., 0, 0, 0],\n",
       "        ...,\n",
       "        [0, 0, 0, ..., 0, 0, 0],\n",
       "        [0, 0, 0, ..., 0, 0, 0],\n",
       "        [0, 0, 0, ..., 0, 0, 0]]], dtype=uint8)"
      ]
     },
     "execution_count": 11,
     "metadata": {},
     "output_type": "execute_result"
    }
   ],
   "source": [
    "# 훈련 데이터셋 중 숫자이미지 픽셀특성(피처) 조회\n",
    "\n",
    "X_train\n",
    "# - mnist에 들어 있는 데이터셋을 \n",
    "#   X_train과 y_train, X_test, y_test라는 4개 객체로 분리해 로딩한 내용을 조회"
   ]
  },
  {
   "cell_type": "code",
   "execution_count": 12,
   "metadata": {},
   "outputs": [
    {
     "data": {
      "text/plain": [
       "array([5, 0, 4, ..., 5, 6, 8], dtype=uint8)"
      ]
     },
     "execution_count": 12,
     "metadata": {},
     "output_type": "execute_result"
    }
   ],
   "source": [
    "# 훈련 데이터셋 중 숫자이름표 범주(타겟) 조회\n",
    "\n",
    "y_train\n",
    "# - mnist에 들어 있는 데이터셋을 \n",
    "#   X_train과 y_train, X_test, y_test라는 4개 객체로 분리해 로딩한 내용을 조회"
   ]
  },
  {
   "cell_type": "code",
   "execution_count": 13,
   "metadata": {},
   "outputs": [
    {
     "name": "stdout",
     "output_type": "stream",
     "text": [
      "훈련셋 숫자이름표(타겟) 유형: [0 1 2 3 4 5 6 7 8 9]\n",
      "훈련셋 숫자이름표(타겟) 유형별 빈도수: [5923 6742 5958 6131 5842 5421 5918 6265 5851 5949]\n",
      "훈련셋 숫자이름표(타겟) 유형별 비율: [0.099, 0.112, 0.099, 0.102, 0.097, 0.09, 0.099, 0.104, 0.098, 0.099]\n"
     ]
    },
    {
     "data": {
      "text/html": [
       "<div>\n",
       "<style scoped>\n",
       "    .dataframe tbody tr th:only-of-type {\n",
       "        vertical-align: middle;\n",
       "    }\n",
       "\n",
       "    .dataframe tbody tr th {\n",
       "        vertical-align: top;\n",
       "    }\n",
       "\n",
       "    .dataframe thead th {\n",
       "        text-align: right;\n",
       "    }\n",
       "</style>\n",
       "<table border=\"1\" class=\"dataframe\">\n",
       "  <thead>\n",
       "    <tr style=\"text-align: right;\">\n",
       "      <th></th>\n",
       "      <th>number</th>\n",
       "      <th>frequency</th>\n",
       "      <th>oportion</th>\n",
       "    </tr>\n",
       "  </thead>\n",
       "  <tbody>\n",
       "    <tr>\n",
       "      <th>0</th>\n",
       "      <td>0</td>\n",
       "      <td>5923</td>\n",
       "      <td>0.099</td>\n",
       "    </tr>\n",
       "    <tr>\n",
       "      <th>1</th>\n",
       "      <td>1</td>\n",
       "      <td>6742</td>\n",
       "      <td>0.112</td>\n",
       "    </tr>\n",
       "    <tr>\n",
       "      <th>2</th>\n",
       "      <td>2</td>\n",
       "      <td>5958</td>\n",
       "      <td>0.099</td>\n",
       "    </tr>\n",
       "    <tr>\n",
       "      <th>3</th>\n",
       "      <td>3</td>\n",
       "      <td>6131</td>\n",
       "      <td>0.102</td>\n",
       "    </tr>\n",
       "    <tr>\n",
       "      <th>4</th>\n",
       "      <td>4</td>\n",
       "      <td>5842</td>\n",
       "      <td>0.097</td>\n",
       "    </tr>\n",
       "    <tr>\n",
       "      <th>5</th>\n",
       "      <td>5</td>\n",
       "      <td>5421</td>\n",
       "      <td>0.090</td>\n",
       "    </tr>\n",
       "    <tr>\n",
       "      <th>6</th>\n",
       "      <td>6</td>\n",
       "      <td>5918</td>\n",
       "      <td>0.099</td>\n",
       "    </tr>\n",
       "    <tr>\n",
       "      <th>7</th>\n",
       "      <td>7</td>\n",
       "      <td>6265</td>\n",
       "      <td>0.104</td>\n",
       "    </tr>\n",
       "    <tr>\n",
       "      <th>8</th>\n",
       "      <td>8</td>\n",
       "      <td>5851</td>\n",
       "      <td>0.098</td>\n",
       "    </tr>\n",
       "    <tr>\n",
       "      <th>9</th>\n",
       "      <td>9</td>\n",
       "      <td>5949</td>\n",
       "      <td>0.099</td>\n",
       "    </tr>\n",
       "  </tbody>\n",
       "</table>\n",
       "</div>"
      ],
      "text/plain": [
       "   number  frequency  oportion\n",
       "0       0       5923     0.099\n",
       "1       1       6742     0.112\n",
       "2       2       5958     0.099\n",
       "3       3       6131     0.102\n",
       "4       4       5842     0.097\n",
       "5       5       5421     0.090\n",
       "6       6       5918     0.099\n",
       "7       7       6265     0.104\n",
       "8       8       5851     0.098\n",
       "9       9       5949     0.099"
      ]
     },
     "execution_count": 13,
     "metadata": {},
     "output_type": "execute_result"
    }
   ],
   "source": [
    "# 훈련 데이터셋 중 숫자이름표(타겟) 분포파악\n",
    "y_tr_uq = np.unique(y_train)\n",
    "print('훈련셋 숫자이름표(타겟) 유형:', y_tr_uq)\n",
    "\n",
    "y_tr_bin = np.bincount(y_train)\n",
    "print('훈련셋 숫자이름표(타겟) 유형별 빈도수:', y_tr_bin)\n",
    "\n",
    "y_tr_por = [round(i / sum(y_tr_bin), 3) for i in y_tr_bin]\n",
    "print('훈련셋 숫자이름표(타겟) 유형별 비율:', y_tr_por)\n",
    "\n",
    "y_tr_tb = pd.DataFrame({'number': y_tr_uq, \n",
    "                        'frequency': y_tr_bin, \n",
    "                        'oportion': y_tr_por})\n",
    "y_tr_tb"
   ]
  },
  {
   "cell_type": "markdown",
   "metadata": {},
   "source": [
    "### 테스트 MNIST 데이터셋 조회"
   ]
  },
  {
   "cell_type": "code",
   "execution_count": 14,
   "metadata": {
    "scrolled": true
   },
   "outputs": [
    {
     "data": {
      "text/plain": [
       "array([[[0, 0, 0, ..., 0, 0, 0],\n",
       "        [0, 0, 0, ..., 0, 0, 0],\n",
       "        [0, 0, 0, ..., 0, 0, 0],\n",
       "        ...,\n",
       "        [0, 0, 0, ..., 0, 0, 0],\n",
       "        [0, 0, 0, ..., 0, 0, 0],\n",
       "        [0, 0, 0, ..., 0, 0, 0]],\n",
       "\n",
       "       [[0, 0, 0, ..., 0, 0, 0],\n",
       "        [0, 0, 0, ..., 0, 0, 0],\n",
       "        [0, 0, 0, ..., 0, 0, 0],\n",
       "        ...,\n",
       "        [0, 0, 0, ..., 0, 0, 0],\n",
       "        [0, 0, 0, ..., 0, 0, 0],\n",
       "        [0, 0, 0, ..., 0, 0, 0]],\n",
       "\n",
       "       [[0, 0, 0, ..., 0, 0, 0],\n",
       "        [0, 0, 0, ..., 0, 0, 0],\n",
       "        [0, 0, 0, ..., 0, 0, 0],\n",
       "        ...,\n",
       "        [0, 0, 0, ..., 0, 0, 0],\n",
       "        [0, 0, 0, ..., 0, 0, 0],\n",
       "        [0, 0, 0, ..., 0, 0, 0]],\n",
       "\n",
       "       ...,\n",
       "\n",
       "       [[0, 0, 0, ..., 0, 0, 0],\n",
       "        [0, 0, 0, ..., 0, 0, 0],\n",
       "        [0, 0, 0, ..., 0, 0, 0],\n",
       "        ...,\n",
       "        [0, 0, 0, ..., 0, 0, 0],\n",
       "        [0, 0, 0, ..., 0, 0, 0],\n",
       "        [0, 0, 0, ..., 0, 0, 0]],\n",
       "\n",
       "       [[0, 0, 0, ..., 0, 0, 0],\n",
       "        [0, 0, 0, ..., 0, 0, 0],\n",
       "        [0, 0, 0, ..., 0, 0, 0],\n",
       "        ...,\n",
       "        [0, 0, 0, ..., 0, 0, 0],\n",
       "        [0, 0, 0, ..., 0, 0, 0],\n",
       "        [0, 0, 0, ..., 0, 0, 0]],\n",
       "\n",
       "       [[0, 0, 0, ..., 0, 0, 0],\n",
       "        [0, 0, 0, ..., 0, 0, 0],\n",
       "        [0, 0, 0, ..., 0, 0, 0],\n",
       "        ...,\n",
       "        [0, 0, 0, ..., 0, 0, 0],\n",
       "        [0, 0, 0, ..., 0, 0, 0],\n",
       "        [0, 0, 0, ..., 0, 0, 0]]], dtype=uint8)"
      ]
     },
     "execution_count": 14,
     "metadata": {},
     "output_type": "execute_result"
    }
   ],
   "source": [
    "# 테스트 데이터셋 중 숫자이미지 픽셀특성(피처) 조회\n",
    "\n",
    "X_test\n",
    "# - mnist에 들어 있는 데이터셋을 \n",
    "#   X_train과 y_train, X_test, y_test라는 4개 객체로 분리해 로딩한 내용을 조회"
   ]
  },
  {
   "cell_type": "code",
   "execution_count": 15,
   "metadata": {},
   "outputs": [
    {
     "data": {
      "text/plain": [
       "array([7, 2, 1, ..., 4, 5, 6], dtype=uint8)"
      ]
     },
     "execution_count": 15,
     "metadata": {},
     "output_type": "execute_result"
    }
   ],
   "source": [
    "# 테스트 데이터셋 중 숫자이름표 범주(타겟) 조회\n",
    "\n",
    "y_test\n",
    "# - mnist에 들어 있는 데이터셋을 \n",
    "#   X_train과 y_train, X_test, y_test라는 4개 객체로 분리해 로딩한 내용을 조회"
   ]
  },
  {
   "cell_type": "code",
   "execution_count": 16,
   "metadata": {},
   "outputs": [
    {
     "name": "stdout",
     "output_type": "stream",
     "text": [
      "테스트셋 숫자이름표(타겟) 유형: [0 1 2 3 4 5 6 7 8 9]\n",
      "테스트셋 숫자이름표(타겟) 유형별 빈도수: [ 980 1135 1032 1010  982  892  958 1028  974 1009]\n",
      "테스트셋 숫자이름표(타겟) 유형별 비율: [0.098, 0.114, 0.103, 0.101, 0.098, 0.089, 0.096, 0.103, 0.097, 0.101]\n"
     ]
    },
    {
     "data": {
      "text/html": [
       "<div>\n",
       "<style scoped>\n",
       "    .dataframe tbody tr th:only-of-type {\n",
       "        vertical-align: middle;\n",
       "    }\n",
       "\n",
       "    .dataframe tbody tr th {\n",
       "        vertical-align: top;\n",
       "    }\n",
       "\n",
       "    .dataframe thead th {\n",
       "        text-align: right;\n",
       "    }\n",
       "</style>\n",
       "<table border=\"1\" class=\"dataframe\">\n",
       "  <thead>\n",
       "    <tr style=\"text-align: right;\">\n",
       "      <th></th>\n",
       "      <th>number</th>\n",
       "      <th>frequency</th>\n",
       "      <th>oportion</th>\n",
       "    </tr>\n",
       "  </thead>\n",
       "  <tbody>\n",
       "    <tr>\n",
       "      <th>0</th>\n",
       "      <td>0</td>\n",
       "      <td>980</td>\n",
       "      <td>0.098</td>\n",
       "    </tr>\n",
       "    <tr>\n",
       "      <th>1</th>\n",
       "      <td>1</td>\n",
       "      <td>1135</td>\n",
       "      <td>0.114</td>\n",
       "    </tr>\n",
       "    <tr>\n",
       "      <th>2</th>\n",
       "      <td>2</td>\n",
       "      <td>1032</td>\n",
       "      <td>0.103</td>\n",
       "    </tr>\n",
       "    <tr>\n",
       "      <th>3</th>\n",
       "      <td>3</td>\n",
       "      <td>1010</td>\n",
       "      <td>0.101</td>\n",
       "    </tr>\n",
       "    <tr>\n",
       "      <th>4</th>\n",
       "      <td>4</td>\n",
       "      <td>982</td>\n",
       "      <td>0.098</td>\n",
       "    </tr>\n",
       "    <tr>\n",
       "      <th>5</th>\n",
       "      <td>5</td>\n",
       "      <td>892</td>\n",
       "      <td>0.089</td>\n",
       "    </tr>\n",
       "    <tr>\n",
       "      <th>6</th>\n",
       "      <td>6</td>\n",
       "      <td>958</td>\n",
       "      <td>0.096</td>\n",
       "    </tr>\n",
       "    <tr>\n",
       "      <th>7</th>\n",
       "      <td>7</td>\n",
       "      <td>1028</td>\n",
       "      <td>0.103</td>\n",
       "    </tr>\n",
       "    <tr>\n",
       "      <th>8</th>\n",
       "      <td>8</td>\n",
       "      <td>974</td>\n",
       "      <td>0.097</td>\n",
       "    </tr>\n",
       "    <tr>\n",
       "      <th>9</th>\n",
       "      <td>9</td>\n",
       "      <td>1009</td>\n",
       "      <td>0.101</td>\n",
       "    </tr>\n",
       "  </tbody>\n",
       "</table>\n",
       "</div>"
      ],
      "text/plain": [
       "   number  frequency  oportion\n",
       "0       0        980     0.098\n",
       "1       1       1135     0.114\n",
       "2       2       1032     0.103\n",
       "3       3       1010     0.101\n",
       "4       4        982     0.098\n",
       "5       5        892     0.089\n",
       "6       6        958     0.096\n",
       "7       7       1028     0.103\n",
       "8       8        974     0.097\n",
       "9       9       1009     0.101"
      ]
     },
     "execution_count": 16,
     "metadata": {},
     "output_type": "execute_result"
    }
   ],
   "source": [
    "# 테스트 데이터셋 중 숫자이름표(타겟) 분포파악\n",
    "y_tt_uq = np.unique(y_test)\n",
    "print('테스트셋 숫자이름표(타겟) 유형:', y_tt_uq)\n",
    "\n",
    "y_tt_bin = np.bincount(y_test)\n",
    "print('테스트셋 숫자이름표(타겟) 유형별 빈도수:', y_tt_bin)\n",
    "\n",
    "y_tt_por = [round(i / sum(y_tt_bin), 3) for i in y_tt_bin]\n",
    "print('테스트셋 숫자이름표(타겟) 유형별 비율:', y_tt_por)\n",
    "\n",
    "y_tt_tb = pd.DataFrame({'number': y_tt_uq, \n",
    "                        'frequency': y_tt_bin, \n",
    "                        'oportion': y_tt_por})\n",
    "y_tt_tb"
   ]
  },
  {
   "cell_type": "markdown",
   "metadata": {},
   "source": [
    "### 숫자이미지(피처) 출력"
   ]
  },
  {
   "cell_type": "code",
   "execution_count": 17,
   "metadata": {
    "scrolled": true
   },
   "outputs": [
    {
     "data": {
      "text/plain": [
       "array([[  0,   0,   0,   0,   0,   0,   0,   0,   0,   0,   0,   0,   0,\n",
       "          0,   0,   0,   0,   0,   0,   0,   0,   0,   0,   0,   0,   0,\n",
       "          0,   0],\n",
       "       [  0,   0,   0,   0,   0,   0,   0,   0,   0,   0,   0,   0,   0,\n",
       "          0,   0,   0,   0,   0,   0,   0,   0,   0,   0,   0,   0,   0,\n",
       "          0,   0],\n",
       "       [  0,   0,   0,   0,   0,   0,   0,   0,   0,   0,   0,   0,   0,\n",
       "          0,   0,   0,   0,   0,   0,   0,   0,   0,   0,   0,   0,   0,\n",
       "          0,   0],\n",
       "       [  0,   0,   0,   0,   0,   0,   0,   0,   0,   0,   0,   0,   0,\n",
       "          0,   0,   0,   0,   0,   0,   0,   0,   0,   0,   0,   0,   0,\n",
       "          0,   0],\n",
       "       [  0,   0,   0,   0,   0,   0,   0,   0,   0,   0,   0,   0,   0,\n",
       "          0,   0,   0,   0,   0,   0,   0,   0,   0,   0,   0,   0,   0,\n",
       "          0,   0],\n",
       "       [  0,   0,   0,   0,   0,   0,   0,   0,   0,   0,   0,   0,   3,\n",
       "         18,  18,  18, 126, 136, 175,  26, 166, 255, 247, 127,   0,   0,\n",
       "          0,   0],\n",
       "       [  0,   0,   0,   0,   0,   0,   0,   0,  30,  36,  94, 154, 170,\n",
       "        253, 253, 253, 253, 253, 225, 172, 253, 242, 195,  64,   0,   0,\n",
       "          0,   0],\n",
       "       [  0,   0,   0,   0,   0,   0,   0,  49, 238, 253, 253, 253, 253,\n",
       "        253, 253, 253, 253, 251,  93,  82,  82,  56,  39,   0,   0,   0,\n",
       "          0,   0],\n",
       "       [  0,   0,   0,   0,   0,   0,   0,  18, 219, 253, 253, 253, 253,\n",
       "        253, 198, 182, 247, 241,   0,   0,   0,   0,   0,   0,   0,   0,\n",
       "          0,   0],\n",
       "       [  0,   0,   0,   0,   0,   0,   0,   0,  80, 156, 107, 253, 253,\n",
       "        205,  11,   0,  43, 154,   0,   0,   0,   0,   0,   0,   0,   0,\n",
       "          0,   0],\n",
       "       [  0,   0,   0,   0,   0,   0,   0,   0,   0,  14,   1, 154, 253,\n",
       "         90,   0,   0,   0,   0,   0,   0,   0,   0,   0,   0,   0,   0,\n",
       "          0,   0],\n",
       "       [  0,   0,   0,   0,   0,   0,   0,   0,   0,   0,   0, 139, 253,\n",
       "        190,   2,   0,   0,   0,   0,   0,   0,   0,   0,   0,   0,   0,\n",
       "          0,   0],\n",
       "       [  0,   0,   0,   0,   0,   0,   0,   0,   0,   0,   0,  11, 190,\n",
       "        253,  70,   0,   0,   0,   0,   0,   0,   0,   0,   0,   0,   0,\n",
       "          0,   0],\n",
       "       [  0,   0,   0,   0,   0,   0,   0,   0,   0,   0,   0,   0,  35,\n",
       "        241, 225, 160, 108,   1,   0,   0,   0,   0,   0,   0,   0,   0,\n",
       "          0,   0],\n",
       "       [  0,   0,   0,   0,   0,   0,   0,   0,   0,   0,   0,   0,   0,\n",
       "         81, 240, 253, 253, 119,  25,   0,   0,   0,   0,   0,   0,   0,\n",
       "          0,   0],\n",
       "       [  0,   0,   0,   0,   0,   0,   0,   0,   0,   0,   0,   0,   0,\n",
       "          0,  45, 186, 253, 253, 150,  27,   0,   0,   0,   0,   0,   0,\n",
       "          0,   0],\n",
       "       [  0,   0,   0,   0,   0,   0,   0,   0,   0,   0,   0,   0,   0,\n",
       "          0,   0,  16,  93, 252, 253, 187,   0,   0,   0,   0,   0,   0,\n",
       "          0,   0],\n",
       "       [  0,   0,   0,   0,   0,   0,   0,   0,   0,   0,   0,   0,   0,\n",
       "          0,   0,   0,   0, 249, 253, 249,  64,   0,   0,   0,   0,   0,\n",
       "          0,   0],\n",
       "       [  0,   0,   0,   0,   0,   0,   0,   0,   0,   0,   0,   0,   0,\n",
       "          0,  46, 130, 183, 253, 253, 207,   2,   0,   0,   0,   0,   0,\n",
       "          0,   0],\n",
       "       [  0,   0,   0,   0,   0,   0,   0,   0,   0,   0,   0,   0,  39,\n",
       "        148, 229, 253, 253, 253, 250, 182,   0,   0,   0,   0,   0,   0,\n",
       "          0,   0],\n",
       "       [  0,   0,   0,   0,   0,   0,   0,   0,   0,   0,  24, 114, 221,\n",
       "        253, 253, 253, 253, 201,  78,   0,   0,   0,   0,   0,   0,   0,\n",
       "          0,   0],\n",
       "       [  0,   0,   0,   0,   0,   0,   0,   0,  23,  66, 213, 253, 253,\n",
       "        253, 253, 198,  81,   2,   0,   0,   0,   0,   0,   0,   0,   0,\n",
       "          0,   0],\n",
       "       [  0,   0,   0,   0,   0,   0,  18, 171, 219, 253, 253, 253, 253,\n",
       "        195,  80,   9,   0,   0,   0,   0,   0,   0,   0,   0,   0,   0,\n",
       "          0,   0],\n",
       "       [  0,   0,   0,   0,  55, 172, 226, 253, 253, 253, 253, 244, 133,\n",
       "         11,   0,   0,   0,   0,   0,   0,   0,   0,   0,   0,   0,   0,\n",
       "          0,   0],\n",
       "       [  0,   0,   0,   0, 136, 253, 253, 253, 212, 135, 132,  16,   0,\n",
       "          0,   0,   0,   0,   0,   0,   0,   0,   0,   0,   0,   0,   0,\n",
       "          0,   0],\n",
       "       [  0,   0,   0,   0,   0,   0,   0,   0,   0,   0,   0,   0,   0,\n",
       "          0,   0,   0,   0,   0,   0,   0,   0,   0,   0,   0,   0,   0,\n",
       "          0,   0],\n",
       "       [  0,   0,   0,   0,   0,   0,   0,   0,   0,   0,   0,   0,   0,\n",
       "          0,   0,   0,   0,   0,   0,   0,   0,   0,   0,   0,   0,   0,\n",
       "          0,   0],\n",
       "       [  0,   0,   0,   0,   0,   0,   0,   0,   0,   0,   0,   0,   0,\n",
       "          0,   0,   0,   0,   0,   0,   0,   0,   0,   0,   0,   0,   0,\n",
       "          0,   0]], dtype=uint8)"
      ]
     },
     "execution_count": 17,
     "metadata": {},
     "output_type": "execute_result"
    }
   ],
   "source": [
    "# 훈련셋 중 첫번째 숫자이미지 내용출력\n",
    "X_train[0]"
   ]
  },
  {
   "cell_type": "code",
   "execution_count": 18,
   "metadata": {},
   "outputs": [
    {
     "data": {
      "text/plain": [
       "Text(0.5, 1.0, '숫자이미지의 픽셀분포 히스토그램')"
      ]
     },
     "execution_count": 18,
     "metadata": {},
     "output_type": "execute_result"
    },
    {
     "data": {
      "image/png": "[encoded data removed]",
      "text/plain": [
       "<Figure size 1080x360 with 3 Axes>"
      ]
     },
     "metadata": {
      "needs_background": "light"
     },
     "output_type": "display_data"
    }
   ],
   "source": [
    "# 이미지 데이터 픽셀정보 분포파악\n",
    "fig = plt.figure(figsize = (15, 5))\n",
    "\n",
    "# - 가로28 X 세로28 = 총 784개 픽셀로 구성된 이미지파일을\n",
    "#   각 픽셀별 밝기정도를 나타내는 수치로 인식함\n",
    "# - 각 픽셀별로 밝기 정도에 따라 흰색:0 ~ 검정:255까지 숫자가 있음\n",
    "# - 보통 글씨가 작성된 픽셀은 1~255 중에서 하나의 밝기 수치를 가짐\n",
    "\n",
    "plt.subplot(1, 3, 1)\n",
    "plt.imshow(X_train[0])\n",
    "plt.title(\"Digit: {}\".format(y_train[0]))\n",
    "\n",
    "plt.subplot(1, 3, 2)\n",
    "plt.imshow(X_train[0], cmap = 'gray', interpolation = 'none')\n",
    "plt.title(\"Digit: {}\".format(y_train[0]))\n",
    "\n",
    "plt.subplot(1, 3, 3)\n",
    "plt.hist(X_train[0].reshape(784))\n",
    "plt.title(\"숫자이미지의 픽셀분포 히스토그램\")"
   ]
  },
  {
   "cell_type": "code",
   "execution_count": 19,
   "metadata": {},
   "outputs": [
    {
     "data": {
      "image/png": "[encoded data removed]",
      "text/plain": [
       "<Figure size 432x288 with 9 Axes>"
      ]
     },
     "metadata": {},
     "output_type": "display_data"
    }
   ],
   "source": [
    "# 훈련셋 중 여러 개 숫자이미지 그래픽출력\n",
    "fig = plt.figure()\n",
    "\n",
    "for i in range(9):\n",
    "    plt.subplot(3, 3, i + 1)\n",
    "    plt.tight_layout()\n",
    "    plt.imshow(X_train[i], cmap='gray', interpolation = 'none')\n",
    "    plt.title(\"Digit: {}\".format(y_train[i]))\n",
    "    plt.xticks([])\n",
    "    plt.yticks([])"
   ]
  },
  {
   "cell_type": "code",
   "execution_count": 20,
   "metadata": {
    "scrolled": true
   },
   "outputs": [
    {
     "name": "stdout",
     "output_type": "stream",
     "text": [
      "  0   0   0   0   0   0   0   0   0   0   0   0   0   0   0   0   0   0   0   0   0   0   0   0   0   0   0   0 \n",
      "  0   0   0   0   0   0   0   0   0   0   0   0   0   0   0   0   0   0   0   0   0   0   0   0   0   0   0   0 \n",
      "  0   0   0   0   0   0   0   0   0   0   0   0   0   0   0   0   0   0   0   0   0   0   0   0   0   0   0   0 \n",
      "  0   0   0   0   0   0   0   0   0   0   0   0   0   0   0   0   0   0   0   0   0   0   0   0   0   0   0   0 \n",
      "  0   0   0   0   0   0   0   0   0   0   0   0   0   0   0   0   0   0   0   0   0   0   0   0   0   0   0   0 \n",
      "  0   0   0   0   0   0   0   0   0   0   0   0   3  18  18  18 126 136 175  26 166 255 247 127   0   0   0   0 \n",
      "  0   0   0   0   0   0   0   0  30  36  94 154 170 253 253 253 253 253 225 172 253 242 195  64   0   0   0   0 \n",
      "  0   0   0   0   0   0   0  49 238 253 253 253 253 253 253 253 253 251  93  82  82  56  39   0   0   0   0   0 \n",
      "  0   0   0   0   0   0   0  18 219 253 253 253 253 253 198 182 247 241   0   0   0   0   0   0   0   0   0   0 \n",
      "  0   0   0   0   0   0   0   0  80 156 107 253 253 205  11   0  43 154   0   0   0   0   0   0   0   0   0   0 \n",
      "  0   0   0   0   0   0   0   0   0  14   1 154 253  90   0   0   0   0   0   0   0   0   0   0   0   0   0   0 \n",
      "  0   0   0   0   0   0   0   0   0   0   0 139 253 190   2   0   0   0   0   0   0   0   0   0   0   0   0   0 \n",
      "  0   0   0   0   0   0   0   0   0   0   0  11 190 253  70   0   0   0   0   0   0   0   0   0   0   0   0   0 \n",
      "  0   0   0   0   0   0   0   0   0   0   0   0  35 241 225 160 108   1   0   0   0   0   0   0   0   0   0   0 \n",
      "  0   0   0   0   0   0   0   0   0   0   0   0   0  81 240 253 253 119  25   0   0   0   0   0   0   0   0   0 \n",
      "  0   0   0   0   0   0   0   0   0   0   0   0   0   0  45 186 253 253 150  27   0   0   0   0   0   0   0   0 \n",
      "  0   0   0   0   0   0   0   0   0   0   0   0   0   0   0  16  93 252 253 187   0   0   0   0   0   0   0   0 \n",
      "  0   0   0   0   0   0   0   0   0   0   0   0   0   0   0   0   0 249 253 249  64   0   0   0   0   0   0   0 \n",
      "  0   0   0   0   0   0   0   0   0   0   0   0   0   0  46 130 183 253 253 207   2   0   0   0   0   0   0   0 \n",
      "  0   0   0   0   0   0   0   0   0   0   0   0  39 148 229 253 253 253 250 182   0   0   0   0   0   0   0   0 \n",
      "  0   0   0   0   0   0   0   0   0   0  24 114 221 253 253 253 253 201  78   0   0   0   0   0   0   0   0   0 \n",
      "  0   0   0   0   0   0   0   0  23  66 213 253 253 253 253 198  81   2   0   0   0   0   0   0   0   0   0   0 \n",
      "  0   0   0   0   0   0  18 171 219 253 253 253 253 195  80   9   0   0   0   0   0   0   0   0   0   0   0   0 \n",
      "  0   0   0   0  55 172 226 253 253 253 253 244 133  11   0   0   0   0   0   0   0   0   0   0   0   0   0   0 \n",
      "  0   0   0   0 136 253 253 253 212 135 132  16   0   0   0   0   0   0   0   0   0   0   0   0   0   0   0   0 \n",
      "  0   0   0   0   0   0   0   0   0   0   0   0   0   0   0   0   0   0   0   0   0   0   0   0   0   0   0   0 \n",
      "  0   0   0   0   0   0   0   0   0   0   0   0   0   0   0   0   0   0   0   0   0   0   0   0   0   0   0   0 \n",
      "  0   0   0   0   0   0   0   0   0   0   0   0   0   0   0   0   0   0   0   0   0   0   0   0   0   0   0   0 \n"
     ]
    }
   ],
   "source": [
    "# 이미지데이터를 가로28 X 세로28 = 768픽셀 구조형식으로 출력하기\n",
    "\n",
    "for x in X_train[0]: # 전체내용 중 1개 행씩 로딩\n",
    "    for i in x:      # 1개 행에 속한 세부 열 요소를 하나씩 로딩\n",
    "        print('{:3} '.format(i), end = '') # 해당 픽셀의 밝기정도 수치를 출력\n",
    "    print() # 1개 행 출력을 마치면 출력위치를 다음 행으로 이동"
   ]
  },
  {
   "cell_type": "markdown",
   "metadata": {},
   "source": [
    "# <font color = 'blue'>데이터 전처리</font>"
   ]
  },
  {
   "cell_type": "markdown",
   "metadata": {},
   "source": [
    "### 피처셋 구조변환: 숫자이미지의 2차원 배열데이터를 1차원 배열로 변환\n",
    "* 숫자이미지 1개마다 (이미지갯수, 가로픽셀 , 세로픽셀)이라는 3차원 배열로 구성되어 있음\n",
    "* 이중에서 이미지갯수는 개별 레코드/관찰치를 의미하므로 그대로 사용하면됨\n",
    "* 각 이미지마다 가로28픽셀 X 세로28픽셀 구조의 2차원배열을 1차원 배열로 전환해서\n",
    "<br>786개의 피처(입력/예측/독립)변수를 가진 개별 레코드/관찰치로 변환하는 것임"
   ]
  },
  {
   "cell_type": "markdown",
   "metadata": {},
   "source": [
    "#### 숫자이미지(피처셋)의 2차원 픽셀배열을 1차원 배열로 변환"
   ]
  },
  {
   "cell_type": "code",
   "execution_count": 21,
   "metadata": {
    "scrolled": true
   },
   "outputs": [
    {
     "name": "stdout",
     "output_type": "stream",
     "text": [
      "훈련셋 데이터 객체유형: <class 'numpy.ndarray'>\n",
      "훈련셋 데이터 구조규모: (60000, 28, 28)\n",
      "훈련셋 레코드 갯수: 60000\n",
      "훈련셋 가로픽셀 갯수 28\n",
      "훈련셋 세로픽셀 갯수 28\n"
     ]
    }
   ],
   "source": [
    "# 숫자이미지 픽셀특성(피처) 훈련셋 데이터 배열구조와 규모 확인\n",
    "\n",
    "print('훈련셋 데이터 객체유형:', type(X_train))\n",
    "print('훈련셋 데이터 구조규모:', X_train.shape)\n",
    "print('훈련셋 레코드 갯수:', X_train.shape[0])\n",
    "print('훈련셋 가로픽셀 갯수', X_train.shape[1])\n",
    "print('훈련셋 세로픽셀 갯수', X_train.shape[2])\n",
    "\n",
    "# - 훈련셋 레코드 개수 60000개는 그대로 사용하면 됨\n",
    "# - 2차원 배열형태의 가로 28픽셀과 세로 28픽셀을 1차원으로 변환하여\n",
    "#   28 X 28 = 784개 피처개수로 만들면 됨\n",
    "# - 즉 (60000, 28, 28) 구조의 3차원 배열을 (60000, 784) 구조의 2차원 배열로 변환이 필요함"
   ]
  },
  {
   "cell_type": "code",
   "execution_count": 22,
   "metadata": {},
   "outputs": [
    {
     "name": "stdout",
     "output_type": "stream",
     "text": [
      "훈련셋 데이터 객체유형: <class 'numpy.ndarray'>\n",
      "훈련셋 데이터 구조규모: (60000, 784)\n",
      "훈련셋 레코드 갯수: 60000\n",
      "훈련셋 피처 갯수 784\n",
      "\n",
      "훈련셋 피처 내용\n",
      " [[0 0 0 ... 0 0 0]\n",
      " [0 0 0 ... 0 0 0]\n",
      " [0 0 0 ... 0 0 0]\n",
      " ...\n",
      " [0 0 0 ... 0 0 0]\n",
      " [0 0 0 ... 0 0 0]\n",
      " [0 0 0 ... 0 0 0]]\n"
     ]
    }
   ],
   "source": [
    "# reshape() 함수를 이용한 숫자이미지 픽셀특성(피처) 훈련셋 배열구조 변환\n",
    "\n",
    "X_training = X_train.reshape(X_train.shape[0], X_train.shape[1] * X_train.shape[2])\n",
    "\n",
    "print('훈련셋 데이터 객체유형:', type(X_training))\n",
    "print('훈련셋 데이터 구조규모:', X_training.shape)\n",
    "print('훈련셋 레코드 갯수:', X_training.shape[0])\n",
    "print('훈련셋 피처 갯수', X_training.shape[1])\n",
    "print('\\n훈련셋 피처 내용\\n', X_training)"
   ]
  },
  {
   "cell_type": "code",
   "execution_count": 23,
   "metadata": {
    "scrolled": true
   },
   "outputs": [
    {
     "name": "stdout",
     "output_type": "stream",
     "text": [
      "테스트셋 데이터 객체유형: <class 'numpy.ndarray'>\n",
      "테스트셋 데이터 구조규모: (10000, 28, 28)\n",
      "테스트셋 레코드 갯수: 10000\n",
      "테스트셋 가로픽셀 갯수 28\n",
      "테스트셋 세로픽셀 갯수 28\n"
     ]
    }
   ],
   "source": [
    "# 숫자이미지 픽셀특성(피처) 테스트셋 데이터 배열구조와 규모 확인\n",
    "\n",
    "print('테스트셋 데이터 객체유형:', type(X_test))\n",
    "print('테스트셋 데이터 구조규모:', X_test.shape)\n",
    "print('테스트셋 레코드 갯수:', X_test.shape[0])\n",
    "print('테스트셋 가로픽셀 갯수', X_test.shape[1])\n",
    "print('테스트셋 세로픽셀 갯수', X_test.shape[2])\n",
    "\n",
    "# - 테스트셋 레코드 개수 10000개는 그대로 사용하면 됨\n",
    "# - 2차원 배열형태의 가로 28픽셀과 세로 28픽셀을 1차원으로 변환하여\n",
    "#   28 X 28 = 784개 피처개수로 만들면 됨\n",
    "# - 즉 (10000, 28, 28) 구조의 3차원 배열을 (10000, 784) 구조의 2차원 배열로 변환이 필요함"
   ]
  },
  {
   "cell_type": "code",
   "execution_count": 24,
   "metadata": {},
   "outputs": [
    {
     "name": "stdout",
     "output_type": "stream",
     "text": [
      "테스트셋 데이터 객체유형: <class 'numpy.ndarray'>\n",
      "테스트셋 데이터 구조규모: (10000, 784)\n",
      "테스트셋 레코드 갯수: 10000\n",
      "테스트셋 피처 갯수 784\n",
      "\n",
      "테스트셋 피처 내용\n",
      " [[0 0 0 ... 0 0 0]\n",
      " [0 0 0 ... 0 0 0]\n",
      " [0 0 0 ... 0 0 0]\n",
      " ...\n",
      " [0 0 0 ... 0 0 0]\n",
      " [0 0 0 ... 0 0 0]\n",
      " [0 0 0 ... 0 0 0]]\n"
     ]
    }
   ],
   "source": [
    "# reshape() 함수를 이용한 숫자이미지 픽셀특성(피처) 테스트셋 배열구조 변환\n",
    "\n",
    "X_testing = X_test.reshape(X_test.shape[0], X_test.shape[1] * X_test.shape[2])\n",
    "\n",
    "print('테스트셋 데이터 객체유형:', type(X_testing))\n",
    "print('테스트셋 데이터 구조규모:', X_testing.shape)\n",
    "print('테스트셋 레코드 갯수:', X_testing.shape[0])\n",
    "print('테스트셋 피처 갯수', X_testing.shape[1])\n",
    "print('\\n테스트셋 피처 내용\\n', X_testing)"
   ]
  },
  {
   "cell_type": "markdown",
   "metadata": {},
   "source": [
    "### 피처셋 스케일링: 숫자이미지의 색상밝기 수치를 스케일링 실시\n",
    "* 각 숫자이미지가 가진 0~255까지의 색상밝기 수치를 0~1사이로 스케일링 필요\n",
    "* 보통 딥러닝 신경망 기법에서는 피처데이터를 0~1사이로 스케일링 한 데이터인 경우 최적성능을 보임"
   ]
  },
  {
   "cell_type": "markdown",
   "metadata": {},
   "source": [
    "#### 피처 스케일링: 숫자이미지의 0~255 색상밝기 수치를 0~1 사이로 변환\n",
    "* sklearn라이브러리 preprocessing모듈의 minmax_scale() 함수를 이용해 최대/최소값이 각각 1, 0이 되도록 스케일링"
   ]
  },
  {
   "cell_type": "code",
   "execution_count": 25,
   "metadata": {},
   "outputs": [],
   "source": [
    "from sklearn.preprocessing import minmax_scale"
   ]
  },
  {
   "cell_type": "code",
   "execution_count": 26,
   "metadata": {},
   "outputs": [
    {
     "name": "stdout",
     "output_type": "stream",
     "text": [
      "스케일링된 훈련셋 구조: (60000, 784)\n",
      "스케일링된 테스트셋 구조: (10000, 784)\n"
     ]
    }
   ],
   "source": [
    "# 숫자이미지 피처 중 훈련셋 스케일링\n",
    "X_training_scaled = minmax_scale(X_training)\n",
    "print('스케일링된 훈련셋 구조:', X_training_scaled.shape)\n",
    "\n",
    "# 숫자이미지 피처 중 테스트셋 스케일링\n",
    "X_testing_scaled = minmax_scale(X_testing)\n",
    "print('스케일링된 테스트셋 구조:', X_testing_scaled.shape)"
   ]
  },
  {
   "cell_type": "markdown",
   "metadata": {},
   "source": [
    "#### 숫자이미지(피처셋)의 1차원 픽셀배열을 2차원 배열로 변환\n",
    "* 컨벌루션 신경망(CNN: Convolution Neural Network) 신경망의 필터링 기능을 사용하기 위해서 \n",
    "<br>가로X세로 2차원 픽셀구조로 다시 재변환하고, 색상채널정보도 같이 부여함\n",
    "* (이미지레코드갯수, 가로픽셀, 세로픽셀, 색상채널)\n",
    "* 색상채널: 흑백:1, 컬러:3"
   ]
  },
  {
   "cell_type": "code",
   "execution_count": 27,
   "metadata": {},
   "outputs": [
    {
     "name": "stdout",
     "output_type": "stream",
     "text": [
      "컨볼루션신경망용 스케일링된 훈련셋 구조 \n",
      " (레코드갯수, 가로픽셀, 세로픽셀, 색상채널): (60000, 28, 28, 1)\n",
      "컨볼루션신경망용 스케일링된 테스트셋 구조 \n",
      " (레코드갯수, 가로픽셀, 세로픽셀, 색상채널):: (10000, 28, 28, 1)\n"
     ]
    }
   ],
   "source": [
    "# reshape() 함수이용 숫자이미지 픽셀특성(피처)의 재구조화\n",
    "# - reshape(레코드갯수, 가로픽셀, 세로픽셀, 색상채널) 내용으로 인수를 설정함\n",
    "# - 색상채널은 1: 흑백이미지, 3: 컬러이미지\n",
    "\n",
    "# 숫자이미지 피처 중 훈련셋 스케일링\n",
    "X_training_28x28_scaled = X_training_scaled.reshape(X_training_scaled.shape[0], 28, 28, 1)\n",
    "print('컨볼루션신경망용 스케일링된 훈련셋 구조 \\n (레코드갯수, 가로픽셀, 세로픽셀, 색상채널):', X_training_28x28_scaled.shape)\n",
    "\n",
    "# 숫자이미지 피처 중 테스트셋 스케일링\n",
    "X_testing_28x28_scaled = X_testing_scaled.reshape(X_testing_scaled.shape[0], 28, 28, 1)\n",
    "print('컨볼루션신경망용 스케일링된 테스트셋 구조 \\n (레코드갯수, 가로픽셀, 세로픽셀, 색상채널)::', X_testing_28x28_scaled.shape)"
   ]
  },
  {
   "cell_type": "markdown",
   "metadata": {},
   "source": [
    "### 타겟변수 원핫인코딩: 숫자이름표를 0과 1로 구성된 더미변수화\n",
    "* 타겟변수가 다항 클래스인 경우 원핫인코딩으로 변경해 0과 1로 구성된 상태로 만들어야 딥러닝 연산이 가능해짐"
   ]
  },
  {
   "cell_type": "code",
   "execution_count": 28,
   "metadata": {},
   "outputs": [],
   "source": [
    "# 타겟(출력/반응/종속)변수의 다항클래스인 숫자이름표 범주 0~9까지를 0과 1로 구성된 이진데이터셋(더미변수화)으로 변형\n",
    "from keras.utils import np_utils"
   ]
  },
  {
   "cell_type": "code",
   "execution_count": 29,
   "metadata": {},
   "outputs": [
    {
     "data": {
      "text/plain": [
       "array([[0., 0., 0., ..., 0., 0., 0.],\n",
       "       [1., 0., 0., ..., 0., 0., 0.],\n",
       "       [0., 0., 0., ..., 0., 0., 0.],\n",
       "       ...,\n",
       "       [0., 0., 0., ..., 0., 0., 0.],\n",
       "       [0., 0., 0., ..., 0., 0., 0.],\n",
       "       [0., 0., 0., ..., 0., 1., 0.]], dtype=float32)"
      ]
     },
     "execution_count": 29,
     "metadata": {},
     "output_type": "execute_result"
    }
   ],
   "source": [
    "# 숫자이름표 범주(타겟) 훈련셋 원핫인코딩\n",
    "y_train_ohe = np_utils.to_categorical(y_train)\n",
    "y_train_ohe"
   ]
  },
  {
   "cell_type": "code",
   "execution_count": 30,
   "metadata": {},
   "outputs": [
    {
     "data": {
      "text/plain": [
       "array([[0., 0., 0., ..., 1., 0., 0.],\n",
       "       [0., 0., 1., ..., 0., 0., 0.],\n",
       "       [0., 1., 0., ..., 0., 0., 0.],\n",
       "       ...,\n",
       "       [0., 0., 0., ..., 0., 0., 0.],\n",
       "       [0., 0., 0., ..., 0., 0., 0.],\n",
       "       [0., 0., 0., ..., 0., 0., 0.]], dtype=float32)"
      ]
     },
     "execution_count": 30,
     "metadata": {},
     "output_type": "execute_result"
    }
   ],
   "source": [
    "# 숫자이름표 범주(타겟) 테스트셋 원핫인코딩\n",
    "y_test_ohe = np_utils.to_categorical(y_test)\n",
    "y_test_ohe"
   ]
  },
  {
   "cell_type": "markdown",
   "metadata": {},
   "source": [
    "# <font color = 'blue'>딥러닝 모델링</font>"
   ]
  },
  {
   "cell_type": "markdown",
   "metadata": {},
   "source": [
    "### 딥러닝 라이브러리 로딩"
   ]
  },
  {
   "cell_type": "code",
   "execution_count": 31,
   "metadata": {},
   "outputs": [],
   "source": [
    "# 딥러닝 관련 라이브러리\n",
    "import tensorflow as tf\n",
    "# - 딥러닝 학습알고리즘\n",
    "\n",
    "from keras.models import Sequential\n",
    "# - 딥러닝 학습계층을 순차적으로 쌓아올릴 수 있도록 해줌\n",
    "\n",
    "from keras.layers import Dense, Dropout, Flatten, Conv2D, MaxPooling2D\n",
    "# - Dense: 딥러닝 학습계층별 노드/유닛을 밀집시켜 학습방법을 설정할 수 있도록 해줌\n",
    "# - Dropout: 은닉층에 배치된 노두 중 일부를 임의로 비활성화 시킴\n",
    "# - Flatten: 컨볼루션층이나 맥스풀링의 2차원(가로X세로) 배열을 1차원으로 바꾸어 주는 기능\n",
    "# - Conv2D: 분석대상 이미지의 세부영역별 특징을 마스크 필터를 적용해 추출하는 기능\n",
    "# - MaxPooling2D: 분석대상 이미지의 세부영역별 대표특징값을 추출하는 기능"
   ]
  },
  {
   "cell_type": "markdown",
   "metadata": {},
   "source": [
    "#### 더깊은 딥러닝\n",
    "* 이미지데이터를 구성하는 픽셀 하나하나를 일일이 비교분석 하는 것이 아니라 \n",
    "<br>컨볼루션신경망과 맥스풀링을 통해 이미지데이터의 세부영역별 주요/대표 특징값 추출해 딥러닝 작업의 예측력을 높일 수 있음\n",
    "<img src = './../../images/cnn_max.png'>"
   ]
  },
  {
   "cell_type": "markdown",
   "metadata": {},
   "source": [
    "#### 컨볼루션신경망(CNN: Convolution Neural Net)\n",
    "* 임의의 가중치 수치와 행렬차원을 가진 마스크 필터를 만들고, \n",
    "<br>이를 분석대상 이미지 데이터의 영역별로 적용(가중치를 곱해서 합함)하면 세부영역별 이미지의 주요특징을 파악할 수 있음\n",
    "<img src = './../../images/cnn.png'>"
   ]
  },
  {
   "cell_type": "markdown",
   "metadata": {},
   "source": [
    "* 가중치와 행렬차원이 다른 여러 개의 마스크 필터를 만들어 분석대상 이미지 데이터 영역별로 적용하게 되면, \n",
    "<br>세부 영역별 이미지 특징을 다양한 가중치로 파악한 컨볼루션(합성곱) 계층이 만들어지는 것임\n",
    "* 입력된 이미지 데이터를 전체적으로 한 번에 비교하는 것이 아니라 \n",
    "<br>컨볼루션(합성곱) 계층을 통해서 세부영역별로 주요특징을 비교함으로 이미지에 대한 인식률을 높일 수 있음 \n",
    "<img src = './../../images/cnnlayer.png'>"
   ]
  },
  {
   "cell_type": "markdown",
   "metadata": {},
   "source": [
    "#### 맥스풀링(Max Pooling; sub-sampling)\n",
    "* 분석대상 이미지를 세부영역으로 분할한 다음 각 영역의 대표특징값(max)만 추출해주는 기법 \n",
    "* 이미지의 사소한 변화나 불필요한 정보를 간추려 이미지를 구별하는 주요 특징을 보다 명확하게 찾아주는 효과가 있음\n",
    "<img src = './../../images/maxpooling.png'>"
   ]
  },
  {
   "cell_type": "markdown",
   "metadata": {},
   "source": [
    "#### 드롭아웃(Dropout)\n",
    "* 은닉층에 배치된 노두 중 일부를 임의로 비활성화 시킴\n",
    "* 과적합을 방지하기 위해서 학습 시에 지정된 비율만큼 임의의 입력 뉴런(1차원)을 신경망 연산에서 제외킴\n",
    "<img src = './../../images/dropout.png'>"
   ]
  },
  {
   "cell_type": "markdown",
   "metadata": {},
   "source": [
    "#### 플래튼(Flatten)\n",
    "* 2차원의 특징맵을 Dense계층으로 전달하기 위해서 1차원 형식으로 바꿔줌\n",
    "* 컨볼루션층이나 맥스풀링의 2차원(가로X세로) 배열을 1차원으로 바꾸어 주는 기능"
   ]
  },
  {
   "cell_type": "markdown",
   "metadata": {},
   "source": [
    "#### 배열의 크기 변형\n",
    "일단 만들어진 배열의 내부 데이터는 보존한 채로 형태만 바꾸려면 reshape 명령이나 메서드를 사용한다. <br>\n",
    "예를 들어 12개의 원소를 가진 1차원 행렬은 3x4 형태의 2차원 행렬로 만들 수 있다."
   ]
  },
  {
   "cell_type": "code",
   "execution_count": 2,
   "metadata": {},
   "outputs": [
    {
     "data": {
      "text/plain": [
       "array([ 0,  1,  2,  3,  4,  5,  6,  7,  8,  9, 10, 11])"
      ]
     },
     "execution_count": 2,
     "metadata": {},
     "output_type": "execute_result"
    }
   ],
   "source": [
    "import numpy as np\n",
    "a = np.arange(12)\n",
    "a"
   ]
  },
  {
   "cell_type": "code",
   "execution_count": 3,
   "metadata": {},
   "outputs": [
    {
     "data": {
      "text/plain": [
       "array([[ 0,  1,  2,  3],\n",
       "       [ 4,  5,  6,  7],\n",
       "       [ 8,  9, 10, 11]])"
      ]
     },
     "execution_count": 3,
     "metadata": {},
     "output_type": "execute_result"
    }
   ],
   "source": [
    "b = a.reshape(3, 4)\n",
    "b"
   ]
  },
  {
   "cell_type": "markdown",
   "metadata": {},
   "source": [
    "사용하는 원소의 갯수가 정해저 있기 때문에 reshape 명령의 형태 튜플의 원소 중 하나는 -1이라는 숫자로 대체할 수 있다. <br>\n",
    "-1을 넣으면 해당 숫자는 다를 값에서 계산되어 사용된다."
   ]
  },
  {
   "cell_type": "code",
   "execution_count": 6,
   "metadata": {},
   "outputs": [
    {
     "data": {
      "text/plain": [
       "array([[ 0,  1,  2,  3],\n",
       "       [ 4,  5,  6,  7],\n",
       "       [ 8,  9, 10, 11]])"
      ]
     },
     "execution_count": 6,
     "metadata": {},
     "output_type": "execute_result"
    }
   ],
   "source": [
    "a.reshape(3, -1)"
   ]
  },
  {
   "cell_type": "code",
   "execution_count": 7,
   "metadata": {},
   "outputs": [
    {
     "data": {
      "text/plain": [
       "array([[[ 0,  1,  2],\n",
       "        [ 3,  4,  5]],\n",
       "\n",
       "       [[ 6,  7,  8],\n",
       "        [ 9, 10, 11]]])"
      ]
     },
     "execution_count": 7,
     "metadata": {},
     "output_type": "execute_result"
    }
   ],
   "source": [
    "a.reshape(2, 2, -1)"
   ]
  },
  {
   "cell_type": "markdown",
   "metadata": {},
   "source": [
    "다차원 배열을 무조건 1차원으로 펼치기 위해서는 flatten 나 ravel 메서드를 사용한다.\n",
    "\n",
    "<hr>"
   ]
  },
  {
   "cell_type": "markdown",
   "metadata": {},
   "source": [
    "### 랜덤 시드넘버 설정"
   ]
  },
  {
   "cell_type": "code",
   "execution_count": 32,
   "metadata": {},
   "outputs": [],
   "source": [
    "# 무작위 시드넘버 설정으로 샘플 재현성 확보\n",
    "myseed = 0\n",
    "\n",
    "import numpy as np\n",
    "np.random.seed(myseed)\n",
    "tf.set_random_seed(myseed)"
   ]
  },
  {
   "cell_type": "markdown",
   "metadata": {},
   "source": [
    "### 딥러닝 모델계층 설정\n",
    "* 입력층-하나의 은닉층-출력층을 가진 단순모델로 설정\n",
    "<img src = './../../images/cnn_model.png'>"
   ]
  },
  {
   "cell_type": "code",
   "execution_count": 33,
   "metadata": {
    "scrolled": true
   },
   "outputs": [
    {
     "name": "stdout",
     "output_type": "stream",
     "text": [
      "_________________________________________________________________\n",
      "Layer (type)                 Output Shape              Param #   \n",
      "=================================================================\n",
      "conv2d_1 (Conv2D)            (None, 26, 26, 32)        320       \n",
      "_________________________________________________________________\n",
      "conv2d_2 (Conv2D)            (None, 24, 24, 64)        18496     \n",
      "_________________________________________________________________\n",
      "max_pooling2d_1 (MaxPooling2 (None, 12, 12, 64)        0         \n",
      "_________________________________________________________________\n",
      "dropout_1 (Dropout)          (None, 12, 12, 64)        0         \n",
      "_________________________________________________________________\n",
      "flatten_1 (Flatten)          (None, 9216)              0         \n",
      "_________________________________________________________________\n",
      "dense_1 (Dense)              (None, 128)               1179776   \n",
      "_________________________________________________________________\n",
      "dropout_2 (Dropout)          (None, 128)               0         \n",
      "_________________________________________________________________\n",
      "dense_2 (Dense)              (None, 10)                1290      \n",
      "=================================================================\n",
      "Total params: 1,199,882\n",
      "Trainable params: 1,199,882\n",
      "Non-trainable params: 0\n",
      "_________________________________________________________________\n"
     ]
    }
   ],
   "source": [
    "# 입력층-컨볼루션층-컨볼루션층-맥스풀링층-드롭아웃-플래튼-은닉층-출력층\n",
    "md = Sequential()\n",
    "\n",
    "# 컨볼루션층: 입력이미지크기\n",
    "# input_demension이 아니라 차원가 있기 떄문에 kernel_size와 input_shape를 사용\n",
    "md.add(Conv2D(32, kernel_size = (3, 3), input_shape = (28, 28, 1), activation = 'relu'))\n",
    "md.add(Conv2D(64, kernel_size = (3, 3), activation = 'relu'))\n",
    "md.add(MaxPooling2D(pool_size = 2))\n",
    "md.add(Dropout(0.25))\n",
    "md.add(Flatten()) # Flatten -> 가로 세로 구조로 평평하게 만들어달라.\n",
    "md.add(Dense(128, activation = 'relu'))\n",
    "md.add(Dropout(0.5))\n",
    "md.add(Dense(10, activation = 'softmax'))\n",
    "\n",
    "md.summary()"
   ]
  },
  {
   "cell_type": "markdown",
   "metadata": {},
   "source": [
    "### 벡터이미지 형태로 신경망모델 설계내용 확인"
   ]
  },
  {
   "cell_type": "code",
   "execution_count": null,
   "metadata": {},
   "outputs": [],
   "source": [
    "# 의사결정나무 그림을 출력해주는 GraphViz라는 프로그램이 \n",
    "# - Jupyter Notebook과 연동해서 작동되도록 아래사항 실시\n",
    "\n",
    "# 관련 프로그램 다운/설치\n",
    "# - http://www.graphviz.org/에 접속 Download 메뉴에서\n",
    "#   윈도우용 graphviz-2.38.msi 설치버전 다운로드후 PC에 직접설치\n",
    "\n",
    "# 설치된 프로그램 경로설정\n",
    "# - 제어판 > 시스템 > (왼쪽상단) 고급시스템설정 > \n",
    "#   (아래쪽) 환경변수 > (아래쪽) 시스템변수 목록중 \"Path\" 클릭 >\n",
    "#   변수값 영역에 들어 있는 일련의 경로설정내역 제일오른쪽에 아래 경로 추가\n",
    "# ==> ;C:\\Program Files (x86)\\Graphviz2.38\\bin\n",
    "\n",
    "# (주의) \n",
    "# - 경로시작시 이전 경로설정내역과 별도로 연결하기 위해 세미콜론기호( ; )로 시작해야 함\n",
    "# - 경로끝에 \\bin을 붙여주어야 함\n",
    "\n",
    "# 파이선에서 관련 패키지 설치\n",
    "# - 아나콘다 프롬프트창이나 노트북파워셀 창에서 \n",
    "#   pip install graphviz pydotplus 구문실행\n",
    "# - 또는 conda install -c conda-forge graphviz pydotplus 구문실행"
   ]
  },
  {
   "cell_type": "code",
   "execution_count": 34,
   "metadata": {},
   "outputs": [
    {
     "data": {
      "image/svg+xml": [
       "<svg height=\"709pt\" viewBox=\"0.00 0.00 392.00 709.00\" width=\"392pt\" xmlns=\"http://www.w3.org/2000/svg\" xmlns:xlink=\"http://www.w3.org/1999/xlink\">\n",
       "<g class=\"graph\" id=\"graph0\" transform=\"scale(1 1) rotate(0) translate(4 705)\">\n",
       "<title>G</title>\n",
       "<polygon fill=\"white\" points=\"-4,4 -4,-705 388,-705 388,4 -4,4\" stroke=\"none\"/>\n",
       "<!-- 2197428697744 -->\n",
       "<g class=\"node\" id=\"node1\"><title>2197428697744</title>\n",
       "<polygon fill=\"none\" points=\"41,-581.5 41,-627.5 343,-627.5 343,-581.5 41,-581.5\" stroke=\"black\"/>\n",
       "<text font-family=\"Times New Roman,serif\" font-size=\"14.00\" text-anchor=\"middle\" x=\"104.5\" y=\"-600.8\">conv2d_1: Conv2D</text>\n",
       "<polyline fill=\"none\" points=\"168,-581.5 168,-627.5 \" stroke=\"black\"/>\n",
       "<text font-family=\"Times New Roman,serif\" font-size=\"14.00\" text-anchor=\"middle\" x=\"196\" y=\"-612.3\">input:</text>\n",
       "<polyline fill=\"none\" points=\"168,-604.5 224,-604.5 \" stroke=\"black\"/>\n",
       "<text font-family=\"Times New Roman,serif\" font-size=\"14.00\" text-anchor=\"middle\" x=\"196\" y=\"-589.3\">output:</text>\n",
       "<polyline fill=\"none\" points=\"224,-581.5 224,-627.5 \" stroke=\"black\"/>\n",
       "<text font-family=\"Times New Roman,serif\" font-size=\"14.00\" text-anchor=\"middle\" x=\"283.5\" y=\"-612.3\">(None, 28, 28, 1)</text>\n",
       "<polyline fill=\"none\" points=\"224,-604.5 343,-604.5 \" stroke=\"black\"/>\n",
       "<text font-family=\"Times New Roman,serif\" font-size=\"14.00\" text-anchor=\"middle\" x=\"283.5\" y=\"-589.3\">(None, 26, 26, 32)</text>\n",
       "</g>\n",
       "<!-- 2197428697856 -->\n",
       "<g class=\"node\" id=\"node2\"><title>2197428697856</title>\n",
       "<polygon fill=\"none\" points=\"41,-498.5 41,-544.5 343,-544.5 343,-498.5 41,-498.5\" stroke=\"black\"/>\n",
       "<text font-family=\"Times New Roman,serif\" font-size=\"14.00\" text-anchor=\"middle\" x=\"104.5\" y=\"-517.8\">conv2d_2: Conv2D</text>\n",
       "<polyline fill=\"none\" points=\"168,-498.5 168,-544.5 \" stroke=\"black\"/>\n",
       "<text font-family=\"Times New Roman,serif\" font-size=\"14.00\" text-anchor=\"middle\" x=\"196\" y=\"-529.3\">input:</text>\n",
       "<polyline fill=\"none\" points=\"168,-521.5 224,-521.5 \" stroke=\"black\"/>\n",
       "<text font-family=\"Times New Roman,serif\" font-size=\"14.00\" text-anchor=\"middle\" x=\"196\" y=\"-506.3\">output:</text>\n",
       "<polyline fill=\"none\" points=\"224,-498.5 224,-544.5 \" stroke=\"black\"/>\n",
       "<text font-family=\"Times New Roman,serif\" font-size=\"14.00\" text-anchor=\"middle\" x=\"283.5\" y=\"-529.3\">(None, 26, 26, 32)</text>\n",
       "<polyline fill=\"none\" points=\"224,-521.5 343,-521.5 \" stroke=\"black\"/>\n",
       "<text font-family=\"Times New Roman,serif\" font-size=\"14.00\" text-anchor=\"middle\" x=\"283.5\" y=\"-506.3\">(None, 24, 24, 64)</text>\n",
       "</g>\n",
       "<!-- 2197428697744&#45;&gt;2197428697856 -->\n",
       "<g class=\"edge\" id=\"edge2\"><title>2197428697744-&gt;2197428697856</title>\n",
       "<path d=\"M192,-581.366C192,-573.152 192,-563.658 192,-554.725\" fill=\"none\" stroke=\"black\"/>\n",
       "<polygon fill=\"black\" points=\"195.5,-554.607 192,-544.607 188.5,-554.607 195.5,-554.607\" stroke=\"black\"/>\n",
       "</g>\n",
       "<!-- 2197428698976 -->\n",
       "<g class=\"node\" id=\"node3\"><title>2197428698976</title>\n",
       "<polygon fill=\"none\" points=\"0,-415.5 0,-461.5 384,-461.5 384,-415.5 0,-415.5\" stroke=\"black\"/>\n",
       "<text font-family=\"Times New Roman,serif\" font-size=\"14.00\" text-anchor=\"middle\" x=\"104.5\" y=\"-434.8\">max_pooling2d_1: MaxPooling2D</text>\n",
       "<polyline fill=\"none\" points=\"209,-415.5 209,-461.5 \" stroke=\"black\"/>\n",
       "<text font-family=\"Times New Roman,serif\" font-size=\"14.00\" text-anchor=\"middle\" x=\"237\" y=\"-446.3\">input:</text>\n",
       "<polyline fill=\"none\" points=\"209,-438.5 265,-438.5 \" stroke=\"black\"/>\n",
       "<text font-family=\"Times New Roman,serif\" font-size=\"14.00\" text-anchor=\"middle\" x=\"237\" y=\"-423.3\">output:</text>\n",
       "<polyline fill=\"none\" points=\"265,-415.5 265,-461.5 \" stroke=\"black\"/>\n",
       "<text font-family=\"Times New Roman,serif\" font-size=\"14.00\" text-anchor=\"middle\" x=\"324.5\" y=\"-446.3\">(None, 24, 24, 64)</text>\n",
       "<polyline fill=\"none\" points=\"265,-438.5 384,-438.5 \" stroke=\"black\"/>\n",
       "<text font-family=\"Times New Roman,serif\" font-size=\"14.00\" text-anchor=\"middle\" x=\"324.5\" y=\"-423.3\">(None, 12, 12, 64)</text>\n",
       "</g>\n",
       "<!-- 2197428697856&#45;&gt;2197428698976 -->\n",
       "<g class=\"edge\" id=\"edge3\"><title>2197428697856-&gt;2197428698976</title>\n",
       "<path d=\"M192,-498.366C192,-490.152 192,-480.658 192,-471.725\" fill=\"none\" stroke=\"black\"/>\n",
       "<polygon fill=\"black\" points=\"195.5,-471.607 192,-461.607 188.5,-471.607 195.5,-471.607\" stroke=\"black\"/>\n",
       "</g>\n",
       "<!-- 2197428812656 -->\n",
       "<g class=\"node\" id=\"node4\"><title>2197428812656</title>\n",
       "<polygon fill=\"none\" points=\"39.5,-332.5 39.5,-378.5 344.5,-378.5 344.5,-332.5 39.5,-332.5\" stroke=\"black\"/>\n",
       "<text font-family=\"Times New Roman,serif\" font-size=\"14.00\" text-anchor=\"middle\" x=\"104.5\" y=\"-351.8\">dropout_1: Dropout</text>\n",
       "<polyline fill=\"none\" points=\"169.5,-332.5 169.5,-378.5 \" stroke=\"black\"/>\n",
       "<text font-family=\"Times New Roman,serif\" font-size=\"14.00\" text-anchor=\"middle\" x=\"197.5\" y=\"-363.3\">input:</text>\n",
       "<polyline fill=\"none\" points=\"169.5,-355.5 225.5,-355.5 \" stroke=\"black\"/>\n",
       "<text font-family=\"Times New Roman,serif\" font-size=\"14.00\" text-anchor=\"middle\" x=\"197.5\" y=\"-340.3\">output:</text>\n",
       "<polyline fill=\"none\" points=\"225.5,-332.5 225.5,-378.5 \" stroke=\"black\"/>\n",
       "<text font-family=\"Times New Roman,serif\" font-size=\"14.00\" text-anchor=\"middle\" x=\"285\" y=\"-363.3\">(None, 12, 12, 64)</text>\n",
       "<polyline fill=\"none\" points=\"225.5,-355.5 344.5,-355.5 \" stroke=\"black\"/>\n",
       "<text font-family=\"Times New Roman,serif\" font-size=\"14.00\" text-anchor=\"middle\" x=\"285\" y=\"-340.3\">(None, 12, 12, 64)</text>\n",
       "</g>\n",
       "<!-- 2197428698976&#45;&gt;2197428812656 -->\n",
       "<g class=\"edge\" id=\"edge4\"><title>2197428698976-&gt;2197428812656</title>\n",
       "<path d=\"M192,-415.366C192,-407.152 192,-397.658 192,-388.725\" fill=\"none\" stroke=\"black\"/>\n",
       "<polygon fill=\"black\" points=\"195.5,-388.607 192,-378.607 188.5,-388.607 195.5,-388.607\" stroke=\"black\"/>\n",
       "</g>\n",
       "<!-- 2197447953152 -->\n",
       "<g class=\"node\" id=\"node5\"><title>2197447953152</title>\n",
       "<polygon fill=\"none\" points=\"50,-249.5 50,-295.5 334,-295.5 334,-249.5 50,-249.5\" stroke=\"black\"/>\n",
       "<text font-family=\"Times New Roman,serif\" font-size=\"14.00\" text-anchor=\"middle\" x=\"104.5\" y=\"-268.8\">flatten_1: Flatten</text>\n",
       "<polyline fill=\"none\" points=\"159,-249.5 159,-295.5 \" stroke=\"black\"/>\n",
       "<text font-family=\"Times New Roman,serif\" font-size=\"14.00\" text-anchor=\"middle\" x=\"187\" y=\"-280.3\">input:</text>\n",
       "<polyline fill=\"none\" points=\"159,-272.5 215,-272.5 \" stroke=\"black\"/>\n",
       "<text font-family=\"Times New Roman,serif\" font-size=\"14.00\" text-anchor=\"middle\" x=\"187\" y=\"-257.3\">output:</text>\n",
       "<polyline fill=\"none\" points=\"215,-249.5 215,-295.5 \" stroke=\"black\"/>\n",
       "<text font-family=\"Times New Roman,serif\" font-size=\"14.00\" text-anchor=\"middle\" x=\"274.5\" y=\"-280.3\">(None, 12, 12, 64)</text>\n",
       "<polyline fill=\"none\" points=\"215,-272.5 334,-272.5 \" stroke=\"black\"/>\n",
       "<text font-family=\"Times New Roman,serif\" font-size=\"14.00\" text-anchor=\"middle\" x=\"274.5\" y=\"-257.3\">(None, 9216)</text>\n",
       "</g>\n",
       "<!-- 2197428812656&#45;&gt;2197447953152 -->\n",
       "<g class=\"edge\" id=\"edge5\"><title>2197428812656-&gt;2197447953152</title>\n",
       "<path d=\"M192,-332.366C192,-324.152 192,-314.658 192,-305.725\" fill=\"none\" stroke=\"black\"/>\n",
       "<polygon fill=\"black\" points=\"195.5,-305.607 192,-295.607 188.5,-305.607 195.5,-305.607\" stroke=\"black\"/>\n",
       "</g>\n",
       "<!-- 2197447953488 -->\n",
       "<g class=\"node\" id=\"node6\"><title>2197447953488</title>\n",
       "<polygon fill=\"none\" points=\"67,-166.5 67,-212.5 317,-212.5 317,-166.5 67,-166.5\" stroke=\"black\"/>\n",
       "<text font-family=\"Times New Roman,serif\" font-size=\"14.00\" text-anchor=\"middle\" x=\"119\" y=\"-185.8\">dense_1: Dense</text>\n",
       "<polyline fill=\"none\" points=\"171,-166.5 171,-212.5 \" stroke=\"black\"/>\n",
       "<text font-family=\"Times New Roman,serif\" font-size=\"14.00\" text-anchor=\"middle\" x=\"199\" y=\"-197.3\">input:</text>\n",
       "<polyline fill=\"none\" points=\"171,-189.5 227,-189.5 \" stroke=\"black\"/>\n",
       "<text font-family=\"Times New Roman,serif\" font-size=\"14.00\" text-anchor=\"middle\" x=\"199\" y=\"-174.3\">output:</text>\n",
       "<polyline fill=\"none\" points=\"227,-166.5 227,-212.5 \" stroke=\"black\"/>\n",
       "<text font-family=\"Times New Roman,serif\" font-size=\"14.00\" text-anchor=\"middle\" x=\"272\" y=\"-197.3\">(None, 9216)</text>\n",
       "<polyline fill=\"none\" points=\"227,-189.5 317,-189.5 \" stroke=\"black\"/>\n",
       "<text font-family=\"Times New Roman,serif\" font-size=\"14.00\" text-anchor=\"middle\" x=\"272\" y=\"-174.3\">(None, 128)</text>\n",
       "</g>\n",
       "<!-- 2197447953152&#45;&gt;2197447953488 -->\n",
       "<g class=\"edge\" id=\"edge6\"><title>2197447953152-&gt;2197447953488</title>\n",
       "<path d=\"M192,-249.366C192,-241.152 192,-231.658 192,-222.725\" fill=\"none\" stroke=\"black\"/>\n",
       "<polygon fill=\"black\" points=\"195.5,-222.607 192,-212.607 188.5,-222.607 195.5,-222.607\" stroke=\"black\"/>\n",
       "</g>\n",
       "<!-- 2197448099320 -->\n",
       "<g class=\"node\" id=\"node7\"><title>2197448099320</title>\n",
       "<polygon fill=\"none\" points=\"57.5,-83.5 57.5,-129.5 326.5,-129.5 326.5,-83.5 57.5,-83.5\" stroke=\"black\"/>\n",
       "<text font-family=\"Times New Roman,serif\" font-size=\"14.00\" text-anchor=\"middle\" x=\"122.5\" y=\"-102.8\">dropout_2: Dropout</text>\n",
       "<polyline fill=\"none\" points=\"187.5,-83.5 187.5,-129.5 \" stroke=\"black\"/>\n",
       "<text font-family=\"Times New Roman,serif\" font-size=\"14.00\" text-anchor=\"middle\" x=\"215.5\" y=\"-114.3\">input:</text>\n",
       "<polyline fill=\"none\" points=\"187.5,-106.5 243.5,-106.5 \" stroke=\"black\"/>\n",
       "<text font-family=\"Times New Roman,serif\" font-size=\"14.00\" text-anchor=\"middle\" x=\"215.5\" y=\"-91.3\">output:</text>\n",
       "<polyline fill=\"none\" points=\"243.5,-83.5 243.5,-129.5 \" stroke=\"black\"/>\n",
       "<text font-family=\"Times New Roman,serif\" font-size=\"14.00\" text-anchor=\"middle\" x=\"285\" y=\"-114.3\">(None, 128)</text>\n",
       "<polyline fill=\"none\" points=\"243.5,-106.5 326.5,-106.5 \" stroke=\"black\"/>\n",
       "<text font-family=\"Times New Roman,serif\" font-size=\"14.00\" text-anchor=\"middle\" x=\"285\" y=\"-91.3\">(None, 128)</text>\n",
       "</g>\n",
       "<!-- 2197447953488&#45;&gt;2197448099320 -->\n",
       "<g class=\"edge\" id=\"edge7\"><title>2197447953488-&gt;2197448099320</title>\n",
       "<path d=\"M192,-166.366C192,-158.152 192,-148.658 192,-139.725\" fill=\"none\" stroke=\"black\"/>\n",
       "<polygon fill=\"black\" points=\"195.5,-139.607 192,-129.607 188.5,-139.607 195.5,-139.607\" stroke=\"black\"/>\n",
       "</g>\n",
       "<!-- 2197448386152 -->\n",
       "<g class=\"node\" id=\"node8\"><title>2197448386152</title>\n",
       "<polygon fill=\"none\" points=\"70.5,-0.5 70.5,-46.5 313.5,-46.5 313.5,-0.5 70.5,-0.5\" stroke=\"black\"/>\n",
       "<text font-family=\"Times New Roman,serif\" font-size=\"14.00\" text-anchor=\"middle\" x=\"122.5\" y=\"-19.8\">dense_2: Dense</text>\n",
       "<polyline fill=\"none\" points=\"174.5,-0.5 174.5,-46.5 \" stroke=\"black\"/>\n",
       "<text font-family=\"Times New Roman,serif\" font-size=\"14.00\" text-anchor=\"middle\" x=\"202.5\" y=\"-31.3\">input:</text>\n",
       "<polyline fill=\"none\" points=\"174.5,-23.5 230.5,-23.5 \" stroke=\"black\"/>\n",
       "<text font-family=\"Times New Roman,serif\" font-size=\"14.00\" text-anchor=\"middle\" x=\"202.5\" y=\"-8.3\">output:</text>\n",
       "<polyline fill=\"none\" points=\"230.5,-0.5 230.5,-46.5 \" stroke=\"black\"/>\n",
       "<text font-family=\"Times New Roman,serif\" font-size=\"14.00\" text-anchor=\"middle\" x=\"272\" y=\"-31.3\">(None, 128)</text>\n",
       "<polyline fill=\"none\" points=\"230.5,-23.5 313.5,-23.5 \" stroke=\"black\"/>\n",
       "<text font-family=\"Times New Roman,serif\" font-size=\"14.00\" text-anchor=\"middle\" x=\"272\" y=\"-8.3\">(None, 10)</text>\n",
       "</g>\n",
       "<!-- 2197448099320&#45;&gt;2197448386152 -->\n",
       "<g class=\"edge\" id=\"edge8\"><title>2197448099320-&gt;2197448386152</title>\n",
       "<path d=\"M192,-83.3664C192,-75.1516 192,-65.6579 192,-56.7252\" fill=\"none\" stroke=\"black\"/>\n",
       "<polygon fill=\"black\" points=\"195.5,-56.6068 192,-46.6068 188.5,-56.6069 195.5,-56.6068\" stroke=\"black\"/>\n",
       "</g>\n",
       "<!-- 2197428698248 -->\n",
       "<g class=\"node\" id=\"node9\"><title>2197428698248</title>\n",
       "<polygon fill=\"none\" points=\"140,-664.5 140,-700.5 244,-700.5 244,-664.5 140,-664.5\" stroke=\"black\"/>\n",
       "<text font-family=\"Times New Roman,serif\" font-size=\"14.00\" text-anchor=\"middle\" x=\"192\" y=\"-678.8\">2197428698248</text>\n",
       "</g>\n",
       "<!-- 2197428698248&#45;&gt;2197428697744 -->\n",
       "<g class=\"edge\" id=\"edge1\"><title>2197428698248-&gt;2197428697744</title>\n",
       "<path d=\"M192,-664.254C192,-656.363 192,-646.749 192,-637.602\" fill=\"none\" stroke=\"black\"/>\n",
       "<polygon fill=\"black\" points=\"195.5,-637.591 192,-627.591 188.5,-637.591 195.5,-637.591\" stroke=\"black\"/>\n",
       "</g>\n",
       "</g>\n",
       "</svg>"
      ],
      "text/plain": [
       "<IPython.core.display.SVG object>"
      ]
     },
     "execution_count": 34,
     "metadata": {},
     "output_type": "execute_result"
    }
   ],
   "source": [
    "# 벡터이미지 형태로 신경망모델 설계내용 확인\n",
    "from IPython.display import SVG\n",
    "from keras.utils.vis_utils import model_to_dot\n",
    "\n",
    "SVG(model_to_dot(md, show_shapes = True).create(prog = 'dot', format = 'svg'))"
   ]
  },
  {
   "cell_type": "markdown",
   "metadata": {},
   "source": [
    "### 딥러닝 학습방법 설정"
   ]
  },
  {
   "cell_type": "code",
   "execution_count": 35,
   "metadata": {},
   "outputs": [],
   "source": [
    "# 준비된 학습계층의 학습방법 설정\n",
    "md.compile(loss = 'categorical_crossentropy', \n",
    "            optimizer = 'adam', metrics = ['accuracy'])\n",
    "# - loss: 학습시 오차를 어떻방법으로 계산할지 설정\n",
    "# - optimizser: 발생하는 오차를 어떤방법으로 줄여나갈지 설정\n",
    "#   binary_crossentropy: 이항분류(binary-class classification)에 적합함\n",
    "#   categorical_crossentropy: 다항분류(multi-class classification)에 적합함\n",
    "# - metrics: 모형의 성능을 평가하는 기준으로 어떤 것을 사용할지 설정"
   ]
  },
  {
   "cell_type": "markdown",
   "metadata": {},
   "source": [
    "### 학습모델 파일저장 옵션 설정"
   ]
  },
  {
   "cell_type": "code",
   "execution_count": 36,
   "metadata": {},
   "outputs": [],
   "source": [
    "# 딥러닝 학습모델 저장폴더명 설정\n",
    "import os\n",
    "\n",
    "md_dir = './model/'\n",
    "if not os.path.exists(md_dir):\n",
    "    os.mkdir(md_dir)\n",
    "    \n",
    "# 딥러닝 학습모델별 저장파일명 변경설정\n",
    "md_path = './model/vloss{val_loss:.3f}_vacc{val_acc:.3f}_ep{epoch:d}.hdf5'\n",
    "# - loss: 전체데이터 중 훈련셋(training) 학습오차\n",
    "# - acc: 전체데이터 중 훈련셋(training) 정확도\n",
    "# - val_loss: 전체데이터 중 검증셋(validation) 오차\n",
    "# - val_acc: 전체데이터 중 검증셋(validation) 정확도\n",
    "\n",
    "# ep{epoch:d} 단위배치(batch) 작업인 엑폭번호를 정수형으로 파일명 시작부분에 기록\n",
    "# vloss{val_loss:.3f} 각 학습모델의 검증데이터 오차정도를 소수3자리까지 파일에 기록\n",
    "# vacc{val_acc:.3f} 각 학습모델의 검증데이터 정확정도를 소수3째자리까지 파일에 기록"
   ]
  },
  {
   "cell_type": "markdown",
   "metadata": {},
   "source": [
    "### 학습모델 체크포인트 옵션 설정"
   ]
  },
  {
   "cell_type": "code",
   "execution_count": 37,
   "metadata": {},
   "outputs": [],
   "source": [
    "# 학습모델 체크포인트 모듈 로딩\n",
    "from keras.callbacks import ModelCheckpoint"
   ]
  },
  {
   "cell_type": "code",
   "execution_count": 38,
   "metadata": {},
   "outputs": [],
   "source": [
    "# 체크포인트(checkpoint) 변경설정\n",
    "cp = ModelCheckpoint(filepath = md_path, \n",
    "                     monitor = 'val_loss', \n",
    "                     verbose = 1, \n",
    "                     save_best_only = True)\n",
    "# - filepath: 각 학습모델별 성능평가 파일저장 경로\n",
    "# - monitor 옵션: 각 학습모델별 성능평가 기준\n",
    "#   * 전체데이터 중 훈련셋(training) 학습오차: loss\n",
    "#   * 전체데이터 중 훈련셋(training) 정확도: acc\n",
    "#   * 전체데이터 중 검증셋(validation) 오차: val_loss\n",
    "#   * 전체데이터 중 검증셋(validation) 정확도: val_acc\n",
    "#   * 전체데이터 중 시험셋(테스트; test)은 별도로 분할해 놓아야 함\n",
    "# - verbose: 모델별 학습진행사항 출력\n",
    "# - save_best_only: 각 학습모델별 성능평가 파일저장시\n",
    "#                   이전 모델보다 성능이 좋아졌을 때만 저장하도록 함"
   ]
  },
  {
   "cell_type": "markdown",
   "metadata": {},
   "source": [
    "### 학습모델 과적합 방지 옵션 설정"
   ]
  },
  {
   "cell_type": "code",
   "execution_count": 39,
   "metadata": {},
   "outputs": [],
   "source": [
    "# 과적합 방지용 종료 메서드 로딩\n",
    "from keras.callbacks import EarlyStopping"
   ]
  },
  {
   "cell_type": "code",
   "execution_count": 40,
   "metadata": {},
   "outputs": [],
   "source": [
    "# 조기종료 옵션설정\n",
    "es = EarlyStopping(monitor = 'val_loss', patience = 10)\n",
    "# - monitor: 검증셋 대상 모니터할 값 설정\n",
    "# - patience: 검증셋 오차가 좋아지지 않아도 몇 번까지 기다릴지 설정"
   ]
  },
  {
   "cell_type": "markdown",
   "metadata": {},
   "source": [
    "### 딥러닝 모델에 데이터 피팅"
   ]
  },
  {
   "cell_type": "code",
   "execution_count": 41,
   "metadata": {
    "scrolled": true
   },
   "outputs": [
    {
     "name": "stdout",
     "output_type": "stream",
     "text": [
      "Train on 48000 samples, validate on 12000 samples\n",
      "Epoch 1/30\n",
      "48000/48000 [==============================] - 141s 3ms/step - loss: 0.3360 - acc: 0.8972 - val_loss: 0.0813 - val_acc: 0.9766\n",
      "\n",
      "Epoch 00001: val_loss improved from inf to 0.08132, saving model to ./model/vloss0.081_vacc0.977_ep1.hdf5\n",
      "Epoch 2/30\n",
      "48000/48000 [==============================] - 136s 3ms/step - loss: 0.1058 - acc: 0.9688 - val_loss: 0.0506 - val_acc: 0.9849\n",
      "\n",
      "Epoch 00002: val_loss improved from 0.08132 to 0.05061, saving model to ./model/vloss0.051_vacc0.985_ep2.hdf5\n",
      "Epoch 3/30\n",
      "48000/48000 [==============================] - 139s 3ms/step - loss: 0.0791 - acc: 0.9760 - val_loss: 0.0431 - val_acc: 0.9875\n",
      "\n",
      "Epoch 00003: val_loss improved from 0.05061 to 0.04308, saving model to ./model/vloss0.043_vacc0.988_ep3.hdf5\n",
      "Epoch 4/30\n",
      "48000/48000 [==============================] - 165s 3ms/step - loss: 0.0616 - acc: 0.9815 - val_loss: 0.0376 - val_acc: 0.9892\n",
      "\n",
      "Epoch 00004: val_loss improved from 0.04308 to 0.03758, saving model to ./model/vloss0.038_vacc0.989_ep4.hdf5\n",
      "Epoch 5/30\n",
      "48000/48000 [==============================] - 183s 4ms/step - loss: 0.0531 - acc: 0.9837 - val_loss: 0.0384 - val_acc: 0.9898\n",
      "\n",
      "Epoch 00005: val_loss did not improve from 0.03758\n",
      "Epoch 6/30\n",
      "48000/48000 [==============================] - 242s 5ms/step - loss: 0.0461 - acc: 0.9852 - val_loss: 0.0393 - val_acc: 0.9890\n",
      "\n",
      "Epoch 00006: val_loss did not improve from 0.03758\n",
      "Epoch 7/30\n",
      "48000/48000 [==============================] - 191s 4ms/step - loss: 0.0426 - acc: 0.9870 - val_loss: 0.0374 - val_acc: 0.9894\n",
      "\n",
      "Epoch 00007: val_loss improved from 0.03758 to 0.03738, saving model to ./model/vloss0.037_vacc0.989_ep7.hdf5\n",
      "Epoch 8/30\n",
      "48000/48000 [==============================] - 178s 4ms/step - loss: 0.0376 - acc: 0.9875 - val_loss: 0.0399 - val_acc: 0.9903\n",
      "\n",
      "Epoch 00008: val_loss did not improve from 0.03738\n",
      "Epoch 9/30\n",
      "48000/48000 [==============================] - 189s 4ms/step - loss: 0.0349 - acc: 0.9888 - val_loss: 0.0325 - val_acc: 0.9905\n",
      "\n",
      "Epoch 00009: val_loss improved from 0.03738 to 0.03254, saving model to ./model/vloss0.033_vacc0.991_ep9.hdf5\n",
      "Epoch 10/30\n",
      "48000/48000 [==============================] - 161s 3ms/step - loss: 0.0292 - acc: 0.9910 - val_loss: 0.0390 - val_acc: 0.9895\n",
      "\n",
      "Epoch 00010: val_loss did not improve from 0.03254\n",
      "Epoch 11/30\n",
      "48000/48000 [==============================] - 158s 3ms/step - loss: 0.0285 - acc: 0.9907 - val_loss: 0.0354 - val_acc: 0.9908\n",
      "\n",
      "Epoch 00011: val_loss did not improve from 0.03254\n",
      "Epoch 12/30\n",
      "48000/48000 [==============================] - 163s 3ms/step - loss: 0.0254 - acc: 0.9915 - val_loss: 0.0394 - val_acc: 0.9898\n",
      "\n",
      "Epoch 00012: val_loss did not improve from 0.03254\n",
      "Epoch 13/30\n",
      "48000/48000 [==============================] - 180s 4ms/step - loss: 0.0237 - acc: 0.9920 - val_loss: 0.0385 - val_acc: 0.9905\n",
      "\n",
      "Epoch 00013: val_loss did not improve from 0.03254\n",
      "Epoch 14/30\n",
      "48000/48000 [==============================] - 181s 4ms/step - loss: 0.0225 - acc: 0.9928 - val_loss: 0.0382 - val_acc: 0.9906\n",
      "\n",
      "Epoch 00014: val_loss did not improve from 0.03254\n",
      "Epoch 15/30\n",
      "48000/48000 [==============================] - 173s 4ms/step - loss: 0.0213 - acc: 0.9931 - val_loss: 0.0389 - val_acc: 0.9907\n",
      "\n",
      "Epoch 00015: val_loss did not improve from 0.03254\n",
      "Epoch 16/30\n",
      "48000/48000 [==============================] - 176s 4ms/step - loss: 0.0193 - acc: 0.9935 - val_loss: 0.0350 - val_acc: 0.9916\n",
      "\n",
      "Epoch 00016: val_loss did not improve from 0.03254\n",
      "Epoch 17/30\n",
      "48000/48000 [==============================] - 165s 3ms/step - loss: 0.0183 - acc: 0.9940 - val_loss: 0.0404 - val_acc: 0.9902\n",
      "\n",
      "Epoch 00017: val_loss did not improve from 0.03254\n",
      "Epoch 18/30\n",
      "48000/48000 [==============================] - 165s 3ms/step - loss: 0.0186 - acc: 0.9932 - val_loss: 0.0370 - val_acc: 0.9915\n",
      "\n",
      "Epoch 00018: val_loss did not improve from 0.03254\n",
      "Epoch 19/30\n",
      "48000/48000 [==============================] - 162s 3ms/step - loss: 0.0186 - acc: 0.9936 - val_loss: 0.0365 - val_acc: 0.9909\n",
      "\n",
      "Epoch 00019: val_loss did not improve from 0.03254\n"
     ]
    }
   ],
   "source": [
    "# 딥러닝 모델 최적화 훈련진행\n",
    "md_hist = md.fit(X_training_28x28_scaled, y_train_ohe, \n",
    "                 epochs = 30, batch_size = 200, \n",
    "                 validation_split = 0.2, \n",
    "                 verbose = 1, \n",
    "                 callbacks = [cp, es])"
   ]
  },
  {
   "cell_type": "markdown",
   "metadata": {},
   "source": [
    "# <font color = 'blue'>딥러닝 모델 성능평가</font>"
   ]
  },
  {
   "cell_type": "markdown",
   "metadata": {},
   "source": [
    "### 딥러닝 학습모델 성능평가 히스토리"
   ]
  },
  {
   "cell_type": "code",
   "execution_count": 42,
   "metadata": {},
   "outputs": [],
   "source": [
    "# 딥러닝 학습실시에 따른 성능평가 히스토리 확보\n",
    "\n",
    "md_train_loss = md_hist.history['loss'] # 훈련셋 오차\n",
    "md_train_acc = md_hist.history['acc'] # 훈련셋 정확도\n",
    "md_valid_loss = md_hist.history['val_loss'] # 검증셋 오차\n",
    "md_valid_acc = md_hist.history['val_acc'] # 검증셋 정확도"
   ]
  },
  {
   "cell_type": "markdown",
   "metadata": {},
   "source": [
    "### 딥러닝 학습모델 성능평가 그래프"
   ]
  },
  {
   "cell_type": "markdown",
   "metadata": {},
   "source": [
    "#### md모델 훈련셋과 검증셋 성능비교"
   ]
  },
  {
   "cell_type": "code",
   "execution_count": 43,
   "metadata": {},
   "outputs": [
    {
     "data": {
      "text/plain": [
       "array([ 0,  1,  2,  3,  4,  5,  6,  7,  8,  9, 10, 11, 12, 13, 14, 15, 16,\n",
       "       17, 18])"
      ]
     },
     "execution_count": 43,
     "metadata": {},
     "output_type": "execute_result"
    }
   ],
   "source": [
    "# x축 설정\n",
    "# - epochs = 200에 의해서 딥러닝 학습모델이 200개 만들어저 진행됨에 따라\n",
    "#   학습오차, 학습정확도, 검증오차, 검증정확도가 모두 200개 값이 생성됨\n",
    "# - 그런데, callbacks = [cp, es] 파라미터 설정으로 \n",
    "#   개선된 베스트모델&과적합방지 학습모델에 대해서만 제한적으로  \n",
    "#   학습오차, 학습정확도, 검증오차, 검증정확도가 기록됨  \n",
    "#   [cp] 학습모델별 성능평가파일 생성시 \n",
    "#        이전파일보다 성능이 개선된 베스트모델을 저장옵션\n",
    "#   [es] 딥러닝 과적합방지용 조기종료 옵션 \n",
    "md_x_len = np.arange(len(md_train_loss))\n",
    "md_x_len"
   ]
  },
  {
   "cell_type": "code",
   "execution_count": 44,
   "metadata": {},
   "outputs": [
    {
     "data": {
      "text/plain": [
       "<matplotlib.legend.Legend at 0x1ffa2a465f8>"
      ]
     },
     "execution_count": 44,
     "metadata": {},
     "output_type": "execute_result"
    },
    {
     "data": {
      "image/png": "[encoded data removed]",
      "text/plain": [
       "<Figure size 432x288 with 1 Axes>"
      ]
     },
     "metadata": {
      "needs_background": "light"
     },
     "output_type": "display_data"
    }
   ],
   "source": [
    "# 딥러닝학습 훈련셋과 검증셋 오차 추이\n",
    "plt.plot(md_x_len, md_valid_loss, 'mo--', label = '검증셋 오차')\n",
    "plt.plot(md_x_len, md_train_loss, 'co--', label = '훈련셋 오차')\n",
    "\n",
    "plt.title('딥러닝학습 훈련셋과 검증셋 오차 추이')\n",
    "plt.xlabel('epoch', size = 12)\n",
    "plt.ylabel('오차(loss)', size = 12)\n",
    "plt.legend()\n",
    "\n",
    "# 마커설정 옵션 'co--', 'mo--'\n",
    "# --> color = 'cyan', marker = 'o', linestyle = '--' 로 풀어서 코딩가능\n",
    "# --> color = 'magenta', marker = 'o', linestyle = '--' 로 풀어서 코딩가능"
   ]
  },
  {
   "cell_type": "markdown",
   "metadata": {},
   "source": [
    "여기서 값을 판정할 때, 어떠한 특정한 개별 이미지 데이터가 들어가면 각 레이블(0~9까지의 값) 중 어떤 레이블로 판정이 될지를 구하는 것.\n",
    "이때, loss값은 특정 값이 각 레이블로 판정될 확률값을 다 제곱해서 더한 값을 의미(이때, 정답 레이블을 제외한 나머지 틀린 레이블의 확률값을 더한 것!)"
   ]
  },
  {
   "cell_type": "markdown",
   "metadata": {},
   "source": [
    "epoch값이 7을 넘어서는 시점부터는 검증 데이터의 loss값이 더이상 개선이 안됨. <br>\n",
    "그래서 7 이후의 검증셋과 훈련셋 오차의 gap이 과적합화될 가능성이 있다."
   ]
  },
  {
   "cell_type": "code",
   "execution_count": 45,
   "metadata": {},
   "outputs": [
    {
     "data": {
      "text/plain": [
       "<matplotlib.legend.Legend at 0x1ffa2943f98>"
      ]
     },
     "execution_count": 45,
     "metadata": {},
     "output_type": "execute_result"
    },
    {
     "data": {
      "image/png": "[encoded data removed]",
      "text/plain": [
       "<Figure size 432x288 with 1 Axes>"
      ]
     },
     "metadata": {
      "needs_background": "light"
     },
     "output_type": "display_data"
    }
   ],
   "source": [
    "# 딥러닝학습 훈련셋과 검증셋 정확도 추이\n",
    "plt.plot(md_x_len, md_train_acc, 'co--', label = '훈련셋 정확도')\n",
    "plt.plot(md_x_len, md_valid_acc, 'mo--', label = '검증셋 정확도')\n",
    "\n",
    "plt.title('딥러닝학습 훈련셋과 검증셋 정확도 추이')\n",
    "plt.xlabel('epoch', size = 12)\n",
    "plt.ylabel('정확도(accuracy)', size = 12)\n",
    "plt.legend()"
   ]
  },
  {
   "cell_type": "markdown",
   "metadata": {},
   "source": [
    "7 이상부터는 검증셋의 성능 개선이 안됨. -> 7까지가 가장 베스트모델이다."
   ]
  },
  {
   "cell_type": "code",
   "execution_count": 46,
   "metadata": {},
   "outputs": [
    {
     "data": {
      "text/plain": [
       "<matplotlib.legend.Legend at 0x1ffa29b0080>"
      ]
     },
     "execution_count": 46,
     "metadata": {},
     "output_type": "execute_result"
    },
    {
     "data": {
      "image/png": "[encoded data removed]",
      "text/plain": [
       "<Figure size 432x288 with 1 Axes>"
      ]
     },
     "metadata": {
      "needs_background": "light"
     },
     "output_type": "display_data"
    }
   ],
   "source": [
    "# 훈련셋 정확도와 검증셋 오차 추이\n",
    "plt.plot(md_x_len, md_train_acc, color = 'blue', marker = 'o', \n",
    "         linestyle = '--', label = '훈련셋 정확도')\n",
    "plt.plot(md_x_len, md_valid_loss, color = 'red', marker = 'o', \n",
    "         linestyle = '--', label = '검증셋 오차')\n",
    "plt.title('딥러닝학습 훈련셋 정확도와 검증셋 오차 추이')\n",
    "plt.xlabel('epoch', size = 12)\n",
    "plt.ylabel('red: 오차 ----- blue: 정확도', size = 12)\n",
    "plt.legend()\n",
    "\n",
    "# 마커설정 옵션: color = 'red', marker = 'o', linestyle = '--'\n",
    "# --> 'ro--'로 축약해서 설정가능함"
   ]
  },
  {
   "cell_type": "markdown",
   "metadata": {},
   "source": [
    "### 모델 성능평가"
   ]
  },
  {
   "cell_type": "markdown",
   "metadata": {},
   "source": [
    "#### md모델 훈련셋(train) 성능평가"
   ]
  },
  {
   "cell_type": "code",
   "execution_count": 62,
   "metadata": {},
   "outputs": [
    {
     "name": "stdout",
     "output_type": "stream",
     "text": [
      "60000/60000 [==============================] - 56s 939us/step\n"
     ]
    },
    {
     "data": {
      "text/plain": [
       "[0.00878428024011862, 0.9977833333333334]"
      ]
     },
     "execution_count": 62,
     "metadata": {},
     "output_type": "execute_result"
    }
   ],
   "source": [
    "# 훈련셋을 활용한 딥러닝모델의 성능평가 결과\n",
    "md_train_perf = md.evaluate(X_training_28x28_scaled, y_train_ohe)\n",
    "md_train_perf"
   ]
  },
  {
   "cell_type": "code",
   "execution_count": 63,
   "metadata": {},
   "outputs": [
    {
     "name": "stdout",
     "output_type": "stream",
     "text": [
      "훈련셋 모델성능 종합: [0.009, 0.998]\n",
      "훈련셋 모델성능 오차(loss):       0.009\n",
      "훈련셋 모델성능 정확도(accuracy): 0.998\n"
     ]
    }
   ],
   "source": [
    "print('훈련셋 모델성능 종합:', [round(i, 3) for i in md_train_perf])\n",
    "print(f'훈련셋 모델성능 오차(loss): {md_train_perf[0]:11.3f}')\n",
    "print(f'훈련셋 모델성능 정확도(accuracy): {md_train_perf[1]:0.3f}')"
   ]
  },
  {
   "cell_type": "markdown",
   "metadata": {},
   "source": [
    "#### md모델 테스트셋(test) 성능평가"
   ]
  },
  {
   "cell_type": "code",
   "execution_count": 64,
   "metadata": {},
   "outputs": [
    {
     "name": "stdout",
     "output_type": "stream",
     "text": [
      "10000/10000 [==============================] - 9s 850us/step\n"
     ]
    },
    {
     "data": {
      "text/plain": [
       "[0.032485895454938324, 0.9918]"
      ]
     },
     "execution_count": 64,
     "metadata": {},
     "output_type": "execute_result"
    }
   ],
   "source": [
    "# 테스트셋을 활용한 딥러닝모델의 성능평가 결과\n",
    "md_test_perf = md.evaluate(X_testing_28x28_scaled, y_test_ohe)\n",
    "md_test_perf"
   ]
  },
  {
   "cell_type": "code",
   "execution_count": 65,
   "metadata": {},
   "outputs": [
    {
     "name": "stdout",
     "output_type": "stream",
     "text": [
      "테스트셋 모델성능 종합: [0.032, 0.992]\n",
      "테스트셋 모델성능 오차(loss):       0.032\n",
      "테스트셋 모델성능 정확도(accuracy): 0.992\n"
     ]
    }
   ],
   "source": [
    "print('테스트셋 모델성능 종합:', [round(i, 3) for i in md_test_perf])\n",
    "print(f'테스트셋 모델성능 오차(loss): {md_test_perf[0]:11.3f}')\n",
    "print(f'테스트셋 모델성능 정확도(accuracy): {md_test_perf[1]:0.3f}')"
   ]
  },
  {
   "cell_type": "markdown",
   "metadata": {},
   "source": [
    "#### 훈련셋과 테스트셋 성능평가 비교"
   ]
  },
  {
   "cell_type": "code",
   "execution_count": 66,
   "metadata": {},
   "outputs": [
    {
     "name": "stdout",
     "output_type": "stream",
     "text": [
      "[오차      (loss)] 훈련셋: 0.009, 테스트셋: 0.032, 차이:  0.024\n",
      "[정확도(accuracy)] 훈련셋: 0.998, 테스트셋: 0.992, 차이: -0.006\n"
     ]
    }
   ],
   "source": [
    "# 오차(loss) 비교\n",
    "md_diff_loss = md_test_perf[0] - md_train_perf[0] \n",
    "\n",
    "# 정확도(accuracy) 비교\n",
    "md_diff_acc = md_test_perf[1] - md_train_perf[1] \n",
    "\n",
    "print(f'[오차      (loss)] 훈련셋: {md_train_perf[0]:0.3f}, 테스트셋: {md_test_perf[0]:0.3f}, 차이: {md_diff_loss:6.3f}')\n",
    "print(f'[정확도(accuracy)] 훈련셋: {md_train_perf[1]:0.3f}, 테스트셋: {md_test_perf[1]:0.3f}, 차이: {md_diff_acc:0.3f}')"
   ]
  },
  {
   "cell_type": "markdown",
   "metadata": {},
   "source": [
    "### 혼동표 분석"
   ]
  },
  {
   "cell_type": "markdown",
   "metadata": {},
   "source": [
    "#### 실제 테스트셋 y값과 모델에서 예측한 y추정치 비교"
   ]
  },
  {
   "cell_type": "code",
   "execution_count": 67,
   "metadata": {
    "scrolled": true
   },
   "outputs": [
    {
     "name": "stdout",
     "output_type": "stream",
     "text": [
      "실제 테스트셋 숫자이름표: [7 2 1 ... 4 5 6]\n",
      "md모델예측 숫자이름표: [7 2 1 ... 4 5 6]\n"
     ]
    }
   ],
   "source": [
    "# 실제 테스트셋 숫자이름표\n",
    "print('실제 테스트셋 숫자이름표:', y_test)\n",
    "\n",
    "# 딥러닝모델의 예측 숫자이름표 \n",
    "md_y_pred = md.predict_classes(X_testing_28x28_scaled)\n",
    "print('md모델예측 숫자이름표:', md_y_pred)"
   ]
  },
  {
   "cell_type": "markdown",
   "metadata": {},
   "source": [
    "#### 혼동표 생성"
   ]
  },
  {
   "cell_type": "code",
   "execution_count": 68,
   "metadata": {},
   "outputs": [],
   "source": [
    "# sklearn 성능평가 모듈 로딩\n",
    "from sklearn.metrics import confusion_matrix\n",
    "from sklearn.metrics import classification_report"
   ]
  },
  {
   "cell_type": "code",
   "execution_count": 69,
   "metadata": {},
   "outputs": [
    {
     "name": "stdout",
     "output_type": "stream",
     "text": [
      "md모델 혼동표:\n",
      " [[ 977    0    0    0    0    0    1    0    1    1]\n",
      " [   0 1130    2    2    0    0    0    1    0    0]\n",
      " [   1    2 1023    0    1    0    0    5    0    0]\n",
      " [   0    0    3 1005    0    1    0    0    1    0]\n",
      " [   0    0    0    0  977    0    1    0    0    4]\n",
      " [   1    0    0    7    0  881    2    1    0    0]\n",
      " [   3    2    0    1    2    4  944    0    2    0]\n",
      " [   0    1    5    0    0    0    0 1021    1    0]\n",
      " [   2    0    2    0    0    0    0    3  965    2]\n",
      " [   1    0    0    1    4    2    0    5    1  995]]\n"
     ]
    }
   ],
   "source": [
    "# 실제y값과 예측y값 간의 혼동표 생성\n",
    "md_cm = confusion_matrix(y_test, md_y_pred)\n",
    "\n",
    "print('md모델 혼동표:\\n', md_cm)"
   ]
  },
  {
   "cell_type": "markdown",
   "metadata": {},
   "source": [
    "#### 혼동표 시각화"
   ]
  },
  {
   "cell_type": "code",
   "execution_count": 70,
   "metadata": {},
   "outputs": [
    {
     "data": {
      "image/png": "[encoded data removed]",
      "text/plain": [
       "<Figure size 432x432 with 2 Axes>"
      ]
     },
     "metadata": {
      "needs_background": "light"
     },
     "output_type": "display_data"
    }
   ],
   "source": [
    "# 혼동표 시각화\n",
    "from mlxtend.plotting import plot_confusion_matrix\n",
    "import matplotlib.pyplot as plt\n",
    "import numpy as np\n",
    "\n",
    "fig, ax = plot_confusion_matrix(conf_mat = md_cm,\n",
    "                                colorbar = True,\n",
    "                                show_absolute = False,\n",
    "                                show_normed = True,\n",
    "                                figsize = (6, 6))"
   ]
  },
  {
   "cell_type": "code",
   "execution_count": 71,
   "metadata": {
    "scrolled": true
   },
   "outputs": [
    {
     "name": "stdout",
     "output_type": "stream",
     "text": [
      "md모델 혼동표 리포트:\n",
      "               precision    recall  f1-score   support\n",
      "\n",
      "           0       0.99      1.00      0.99       980\n",
      "           1       1.00      1.00      1.00      1135\n",
      "           2       0.99      0.99      0.99      1032\n",
      "           3       0.99      1.00      0.99      1010\n",
      "           4       0.99      0.99      0.99       982\n",
      "           5       0.99      0.99      0.99       892\n",
      "           6       1.00      0.99      0.99       958\n",
      "           7       0.99      0.99      0.99      1028\n",
      "           8       0.99      0.99      0.99       974\n",
      "           9       0.99      0.99      0.99      1009\n",
      "\n",
      "   micro avg       0.99      0.99      0.99     10000\n",
      "   macro avg       0.99      0.99      0.99     10000\n",
      "weighted avg       0.99      0.99      0.99     10000\n",
      "\n"
     ]
    }
   ],
   "source": [
    "# 혼동표 성능분석\n",
    "print('md모델 혼동표 리포트:\\n', \n",
    "      classification_report(y_test, md_y_pred,\n",
    "                            target_names=['0', '1', '2', '3', '4', '5',\n",
    "                                          '6', '7', '8', '9']))"
   ]
  },
  {
   "cell_type": "markdown",
   "metadata": {},
   "source": [
    "### 정분류 & 오분류 샘플 확인"
   ]
  },
  {
   "cell_type": "code",
   "execution_count": 72,
   "metadata": {
    "scrolled": true
   },
   "outputs": [
    {
     "data": {
      "text/plain": [
       "array([7, 2, 1, ..., 4, 5, 6], dtype=uint8)"
      ]
     },
     "execution_count": 72,
     "metadata": {},
     "output_type": "execute_result"
    }
   ],
   "source": [
    "# 실제 테스트셋 숫자이름표\n",
    "y_test"
   ]
  },
  {
   "cell_type": "code",
   "execution_count": 73,
   "metadata": {},
   "outputs": [
    {
     "data": {
      "text/plain": [
       "array([7, 2, 1, ..., 4, 5, 6], dtype=int64)"
      ]
     },
     "execution_count": 73,
     "metadata": {},
     "output_type": "execute_result"
    }
   ],
   "source": [
    "# 딥러닝모델의 예측 숫자이름표 \n",
    "md_y_pred = md.predict_classes(X_testing_28x28_scaled)\n",
    "md_y_pred"
   ]
  },
  {
   "cell_type": "code",
   "execution_count": 74,
   "metadata": {},
   "outputs": [
    {
     "name": "stdout",
     "output_type": "stream",
     "text": [
      "\n",
      "정분류된 숫자이름표 갯수: 9918\n",
      "오분류된 숫자이름표 갯수:   82\n"
     ]
    }
   ],
   "source": [
    "# 정분류된 숫자이름표, 오분류된 숫자이름표 확보\n",
    "correct_indices = np.nonzero(md_y_pred == y_test)[0]\n",
    "incorrect_indices = np.nonzero(md_y_pred != y_test)[0]\n",
    "print()\n",
    "print(f'정분류된 숫자이름표 갯수: {len(correct_indices):d}')\n",
    "print(f'오분류된 숫자이름표 갯수: {len(incorrect_indices):4d}')"
   ]
  },
  {
   "cell_type": "code",
   "execution_count": 75,
   "metadata": {},
   "outputs": [
    {
     "data": {
      "image/png": "[encoded data removed]",
      "text/plain": [
       "<Figure size 504x504 with 9 Axes>"
      ]
     },
     "metadata": {},
     "output_type": "display_data"
    }
   ],
   "source": [
    "# 정분류된 9개 이미지 샘플 확인\n",
    "fig = plt.figure(figsize = (7, 7))\n",
    "\n",
    "for i, correct in enumerate(correct_indices[:9]):\n",
    "    plt.subplot(3, 3, i + 1)\n",
    "    plt.imshow(X_testing[correct].reshape(28, 28), cmap = 'gray', interpolation = 'none')\n",
    "    plt.title(\n",
    "      \"Predicted: {}, Truth: {}\".format(md_y_pred[correct],\n",
    "                                        y_test[correct]))\n",
    "    plt.xticks([])\n",
    "    plt.yticks([])"
   ]
  },
  {
   "cell_type": "code",
   "execution_count": 76,
   "metadata": {
    "scrolled": true
   },
   "outputs": [
    {
     "data": {
      "image/png": "[encoded data removed]",
      "text/plain": [
       "<Figure size 504x504 with 9 Axes>"
      ]
     },
     "metadata": {},
     "output_type": "display_data"
    }
   ],
   "source": [
    "# 오분류된 9개 이미지 샘플 확인\n",
    "fig = plt.figure(figsize = (7, 7))\n",
    "\n",
    "for i, incorrect in enumerate(incorrect_indices[:9]):\n",
    "    plt.subplot(3, 3, i + 1)\n",
    "    plt.imshow(X_testing[incorrect].reshape(28, 28), cmap = 'gray', interpolation = 'none')\n",
    "    plt.title(\n",
    "      \"Predicted {}, Truth: {}\".format(md_y_pred[incorrect], \n",
    "                                       y_test[incorrect]))\n",
    "    plt.xticks([])\n",
    "    plt.yticks([])"
   ]
  },
  {
   "cell_type": "markdown",
   "metadata": {},
   "source": [
    "# End of Source"
   ]
  }
 ],
 "metadata": {
  "kernelspec": {
   "display_name": "Python 3",
   "language": "python",
   "name": "python3"
  },
  "language_info": {
   "codemirror_mode": {
    "name": "ipython",
    "version": 3
   },
   "file_extension": ".py",
   "mimetype": "text/x-python",
   "name": "python",
   "nbconvert_exporter": "python",
   "pygments_lexer": "ipython3",
   "version": "3.7.0"
  }
 },
 "nbformat": 4,
 "nbformat_minor": 2
}
