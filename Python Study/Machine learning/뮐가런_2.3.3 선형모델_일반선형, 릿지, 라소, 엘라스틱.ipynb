{
 "cells": [
  {
   "cell_type": "markdown",
   "metadata": {},
   "source": [
    "# 2.3.3 선형모델(p.73)"
   ]
  },
  {
   "cell_type": "markdown",
   "metadata": {},
   "source": [
    "## mglearn 패키지의 예제데이터셋 모듈 중 <font color = blue>wave(수치예측용) 데이터셋 메서드</font>를 로딩방법 3가지"
   ]
  },
  {
   "cell_type": "code",
   "execution_count": 1,
   "metadata": {},
   "outputs": [],
   "source": [
    "# mglearn(뮐가런) 패키지의 모든 모듈을 메모리로 로딩\n",
    "import mglearn\n",
    "wave = mglearn.datasets.make_wave()\n",
    "\n",
    "# mglearn(뮐가런) 패키지에 속한 모듈중에서 datasets 모듈만 메모리로 로딩\n",
    "from mglearn import datasets \n",
    "wave = datasets.make_wave()\n",
    "\n",
    "# mglearn(뮐가런) 패키지의 datasets 모듈에 속한 특정 메서드(함수)를 메모리로 로딩\n",
    "from mglearn.datasets import make_wave\n",
    "# make_wave()메서드로 데이터셋 생성시 1개 객체에 할당\n",
    "wave = make_wave()"
   ]
  },
  {
   "cell_type": "markdown",
   "metadata": {},
   "source": [
    "## wave 데이터셋 생성방법 2가지"
   ]
  },
  {
   "cell_type": "code",
   "execution_count": 2,
   "metadata": {},
   "outputs": [],
   "source": [
    "# make_wave()메서드로 데이터셋 생성시 1개 객체에 할당\n",
    "wave = make_wave()\n",
    "\n",
    "# wave()메서드로 데이터셋 생성시 2개 객체에 동시할당\n",
    "X, y = make_wave(n_samples = 42)\n",
    "# - 1차원 배열로 있는 예측(독립)변수 데이터셋을 대문자 X에 할당\n",
    "# - 1차원 배열로 있는 반응(종속)변수 데이터셋을 소문자 y에 할당"
   ]
  },
  {
   "cell_type": "markdown",
   "metadata": {},
   "source": [
    "## 그래프에 한글을 사용하기 위한 파라미터설정"
   ]
  },
  {
   "cell_type": "code",
   "execution_count": 3,
   "metadata": {},
   "outputs": [],
   "source": [
    "## mtplotlib의 rcParams에서 특정 폰트를 글로벌 폰트패밀리로 등록\n",
    "\n",
    "%matplotlib inline\n",
    "# matplotlib패키지 전체를 mpl로, matplotlib.pyplot모듈을 plt라는 별칭으로 각각 로딩함\n",
    "import matplotlib as mpl\n",
    "import matplotlib.pyplot as plt # 그래프 그리는 모듈\n",
    "\n",
    "mpl.rcParams['font.family'] = 'NanumGothic'\n",
    "# - 이 노트북 파일에 한해 그래프에 나눔고딕으로 폰트를 기본으로 설정함\n",
    "\n",
    "plt.rcParams['axes.unicode_minus'] = False \n",
    "# - 그래프 축눈금에 마이너스의 경우 출력이 제대로 되기위한 옵션"
   ]
  },
  {
   "cell_type": "code",
   "execution_count": 4,
   "metadata": {
    "hide_input": false,
    "scrolled": false
   },
   "outputs": [
    {
     "name": "stdout",
     "output_type": "stream",
     "text": [
      "w[0]: 0.393906  b: -0.031804\n"
     ]
    },
    {
     "data": {
      "image/png": "[encoded data removed]",
      "text/plain": [
       "<Figure size 576x576 with 1 Axes>"
      ]
     },
     "metadata": {
      "needs_background": "light"
     },
     "output_type": "display_data"
    }
   ],
   "source": [
    "mglearn.plots.plot_linear_regression_wave()"
   ]
  },
  {
   "cell_type": "markdown",
   "metadata": {},
   "source": [
    "## Linear Regression aka Ordinary Least Squares: <font color = red>p.76 선형회귀(최소제곱법)</font>\n",
    "* 평균제곱오차(MSE: Mean Square Error)를 최소화하는 파라미터 w(회귀계수; 기울기)와 b(절편)를 찾음\n",
    "* 평균제곱오차: 예측값과 타깃값의 차이를 제곱해 모두 더한 후에 샘플의 갯수로 나누어줌"
   ]
  },
  {
   "cell_type": "code",
   "execution_count": 5,
   "metadata": {},
   "outputs": [],
   "source": [
    "from sklearn.model_selection import train_test_split\n",
    "from sklearn.linear_model import LinearRegression\n",
    "import numpy as np"
   ]
  },
  {
   "cell_type": "markdown",
   "metadata": {},
   "source": [
    "### wave 데이터셋을 이용한 선형회귀"
   ]
  },
  {
   "cell_type": "code",
   "execution_count": 6,
   "metadata": {},
   "outputs": [],
   "source": [
    "# 60개 각각 샘플로 잡아서 X와 y변수에 각각 넣음\n",
    "X, y = mglearn.datasets.make_wave(n_samples = 60)\n",
    "X_train, X_test, y_train, y_test = train_test_split(X, y, random_state=42)  # 42는 random seed로 생각하면 됨\n",
    "# train_test_split = 75% train set  / 25% test set으로 나눠서 넣어줌.\n",
    "\n",
    "lr = LinearRegression().fit(X_train, y_train)  # 객체 생성 후 모델 학습까지!"
   ]
  },
  {
   "cell_type": "code",
   "execution_count": 7,
   "metadata": {},
   "outputs": [
    {
     "name": "stdout",
     "output_type": "stream",
     "text": [
      "lr.coef_: [0.39390555]\n",
      "lr.intercept_: -0.031804343026759746\n"
     ]
    }
   ],
   "source": [
    "print(\"lr.coef_: {}\".format(lr.coef_)) #  coef_ : 회귀값\n",
    "print(\"lr.intercept_: {}\".format(lr.intercept_)) # intercept_ : 오차항"
   ]
  },
  {
   "cell_type": "code",
   "execution_count": 8,
   "metadata": {},
   "outputs": [
    {
     "name": "stdout",
     "output_type": "stream",
     "text": [
      "훈련 세트 점수: 0.67\n",
      "테스트 세트 점수: 0.66\n"
     ]
    }
   ],
   "source": [
    "print(\"훈련 세트 점수: {:.2f}\".format(lr.score(X_train, y_train)))\n",
    "print(\"테스트 세트 점수: {:.2f}\".format(lr.score(X_test, y_test)))\n",
    "\n",
    "# - 훈련데이터를 이용한 학습결과가 0.67로 과소적합된 상태라고 할 수 있 "
   ]
  },
  {
   "cell_type": "markdown",
   "metadata": {},
   "source": [
    "### boston 데이터셋을 이용한 선형회귀"
   ]
  },
  {
   "cell_type": "code",
   "execution_count": 9,
   "metadata": {},
   "outputs": [
    {
     "name": "stdout",
     "output_type": "stream",
     "text": [
      "<class 'tuple'>\n",
      "2\n",
      "\n"
     ]
    },
    {
     "data": {
      "text/plain": [
       "(array([[0.00000000e+00, 1.80000000e-01, 6.78152493e-02, ...,\n",
       "         1.00000000e+00, 8.96799117e-02, 8.04248656e-03],\n",
       "        [2.35922539e-04, 0.00000000e+00, 2.42302053e-01, ...,\n",
       "         1.00000000e+00, 2.04470199e-01, 4.18080621e-02],\n",
       "        [2.35697744e-04, 0.00000000e+00, 2.42302053e-01, ...,\n",
       "         9.79579831e-01, 6.28144504e-02, 4.02790570e-03],\n",
       "        ...,\n",
       "        [6.11892474e-04, 0.00000000e+00, 4.20454545e-01, ...,\n",
       "         1.00000000e+00, 1.07891832e-01, 1.16406475e-02],\n",
       "        [1.16072990e-03, 0.00000000e+00, 4.20454545e-01, ...,\n",
       "         9.82676920e-01, 1.29930407e-01, 1.71795127e-02],\n",
       "        [4.61841693e-04, 0.00000000e+00, 4.20454545e-01, ...,\n",
       "         1.00000000e+00, 1.69701987e-01, 2.87987643e-02]]),\n",
       " array([24. , 21.6, 34.7, 33.4, 36.2, 28.7, 22.9, 27.1, 16.5, 18.9, 15. ,\n",
       "        18.9, 21.7, 20.4, 18.2, 19.9, 23.1, 17.5, 20.2, 18.2, 13.6, 19.6,\n",
       "        15.2, 14.5, 15.6, 13.9, 16.6, 14.8, 18.4, 21. , 12.7, 14.5, 13.2,\n",
       "        13.1, 13.5, 18.9, 20. , 21. , 24.7, 30.8, 34.9, 26.6, 25.3, 24.7,\n",
       "        21.2, 19.3, 20. , 16.6, 14.4, 19.4, 19.7, 20.5, 25. , 23.4, 18.9,\n",
       "        35.4, 24.7, 31.6, 23.3, 19.6, 18.7, 16. , 22.2, 25. , 33. , 23.5,\n",
       "        19.4, 22. , 17.4, 20.9, 24.2, 21.7, 22.8, 23.4, 24.1, 21.4, 20. ,\n",
       "        20.8, 21.2, 20.3, 28. , 23.9, 24.8, 22.9, 23.9, 26.6, 22.5, 22.2,\n",
       "        23.6, 28.7, 22.6, 22. , 22.9, 25. , 20.6, 28.4, 21.4, 38.7, 43.8,\n",
       "        33.2, 27.5, 26.5, 18.6, 19.3, 20.1, 19.5, 19.5, 20.4, 19.8, 19.4,\n",
       "        21.7, 22.8, 18.8, 18.7, 18.5, 18.3, 21.2, 19.2, 20.4, 19.3, 22. ,\n",
       "        20.3, 20.5, 17.3, 18.8, 21.4, 15.7, 16.2, 18. , 14.3, 19.2, 19.6,\n",
       "        23. , 18.4, 15.6, 18.1, 17.4, 17.1, 13.3, 17.8, 14. , 14.4, 13.4,\n",
       "        15.6, 11.8, 13.8, 15.6, 14.6, 17.8, 15.4, 21.5, 19.6, 15.3, 19.4,\n",
       "        17. , 15.6, 13.1, 41.3, 24.3, 23.3, 27. , 50. , 50. , 50. , 22.7,\n",
       "        25. , 50. , 23.8, 23.8, 22.3, 17.4, 19.1, 23.1, 23.6, 22.6, 29.4,\n",
       "        23.2, 24.6, 29.9, 37.2, 39.8, 36.2, 37.9, 32.5, 26.4, 29.6, 50. ,\n",
       "        32. , 29.8, 34.9, 37. , 30.5, 36.4, 31.1, 29.1, 50. , 33.3, 30.3,\n",
       "        34.6, 34.9, 32.9, 24.1, 42.3, 48.5, 50. , 22.6, 24.4, 22.5, 24.4,\n",
       "        20. , 21.7, 19.3, 22.4, 28.1, 23.7, 25. , 23.3, 28.7, 21.5, 23. ,\n",
       "        26.7, 21.7, 27.5, 30.1, 44.8, 50. , 37.6, 31.6, 46.7, 31.5, 24.3,\n",
       "        31.7, 41.7, 48.3, 29. , 24. , 25.1, 31.5, 23.7, 23.3, 22. , 20.1,\n",
       "        22.2, 23.7, 17.6, 18.5, 24.3, 20.5, 24.5, 26.2, 24.4, 24.8, 29.6,\n",
       "        42.8, 21.9, 20.9, 44. , 50. , 36. , 30.1, 33.8, 43.1, 48.8, 31. ,\n",
       "        36.5, 22.8, 30.7, 50. , 43.5, 20.7, 21.1, 25.2, 24.4, 35.2, 32.4,\n",
       "        32. , 33.2, 33.1, 29.1, 35.1, 45.4, 35.4, 46. , 50. , 32.2, 22. ,\n",
       "        20.1, 23.2, 22.3, 24.8, 28.5, 37.3, 27.9, 23.9, 21.7, 28.6, 27.1,\n",
       "        20.3, 22.5, 29. , 24.8, 22. , 26.4, 33.1, 36.1, 28.4, 33.4, 28.2,\n",
       "        22.8, 20.3, 16.1, 22.1, 19.4, 21.6, 23.8, 16.2, 17.8, 19.8, 23.1,\n",
       "        21. , 23.8, 23.1, 20.4, 18.5, 25. , 24.6, 23. , 22.2, 19.3, 22.6,\n",
       "        19.8, 17.1, 19.4, 22.2, 20.7, 21.1, 19.5, 18.5, 20.6, 19. , 18.7,\n",
       "        32.7, 16.5, 23.9, 31.2, 17.5, 17.2, 23.1, 24.5, 26.6, 22.9, 24.1,\n",
       "        18.6, 30.1, 18.2, 20.6, 17.8, 21.7, 22.7, 22.6, 25. , 19.9, 20.8,\n",
       "        16.8, 21.9, 27.5, 21.9, 23.1, 50. , 50. , 50. , 50. , 50. , 13.8,\n",
       "        13.8, 15. , 13.9, 13.3, 13.1, 10.2, 10.4, 10.9, 11.3, 12.3,  8.8,\n",
       "         7.2, 10.5,  7.4, 10.2, 11.5, 15.1, 23.2,  9.7, 13.8, 12.7, 13.1,\n",
       "        12.5,  8.5,  5. ,  6.3,  5.6,  7.2, 12.1,  8.3,  8.5,  5. , 11.9,\n",
       "        27.9, 17.2, 27.5, 15. , 17.2, 17.9, 16.3,  7. ,  7.2,  7.5, 10.4,\n",
       "         8.8,  8.4, 16.7, 14.2, 20.8, 13.4, 11.7,  8.3, 10.2, 10.9, 11. ,\n",
       "         9.5, 14.5, 14.1, 16.1, 14.3, 11.7, 13.4,  9.6,  8.7,  8.4, 12.8,\n",
       "        10.5, 17.1, 18.4, 15.4, 10.8, 11.8, 14.9, 12.6, 14.1, 13. , 13.4,\n",
       "        15.2, 16.1, 17.8, 14.9, 14.1, 12.7, 13.5, 14.9, 20. , 16.4, 17.7,\n",
       "        19.5, 20.2, 21.4, 19.9, 19. , 19.1, 19.1, 20.1, 19.9, 19.6, 23.2,\n",
       "        29.8, 13.8, 13.3, 16.7, 12. , 14.6, 21.4, 23. , 23.7, 25. , 21.8,\n",
       "        20.6, 21.2, 19.1, 20.6, 15.2,  7. ,  8.1, 13.6, 20.1, 21.8, 24.5,\n",
       "        23.1, 19.7, 18.3, 21.2, 17.5, 16.8, 22.4, 20.6, 23.9, 22. , 11.9]))"
      ]
     },
     "execution_count": 9,
     "metadata": {},
     "output_type": "execute_result"
    }
   ],
   "source": [
    "# boston 데이터셋 로딩과 내용\n",
    "boston = mglearn.datasets.load_extended_boston()\n",
    "\n",
    "print(type(boston))\n",
    "print(len(boston))\n",
    "print()\n",
    "boston"
   ]
  },
  {
   "cell_type": "code",
   "execution_count": 10,
   "metadata": {},
   "outputs": [
    {
     "name": "stdout",
     "output_type": "stream",
     "text": [
      "<class 'numpy.ndarray'>\n",
      "(506, 104)\n",
      "\n",
      "[[0.00000000e+00 1.80000000e-01 6.78152493e-02 ... 1.00000000e+00\n",
      "  8.96799117e-02 8.04248656e-03]\n",
      " [2.35922539e-04 0.00000000e+00 2.42302053e-01 ... 1.00000000e+00\n",
      "  2.04470199e-01 4.18080621e-02]\n",
      " [2.35697744e-04 0.00000000e+00 2.42302053e-01 ... 9.79579831e-01\n",
      "  6.28144504e-02 4.02790570e-03]\n",
      " ...\n",
      " [6.11892474e-04 0.00000000e+00 4.20454545e-01 ... 1.00000000e+00\n",
      "  1.07891832e-01 1.16406475e-02]\n",
      " [1.16072990e-03 0.00000000e+00 4.20454545e-01 ... 9.82676920e-01\n",
      "  1.29930407e-01 1.71795127e-02]\n",
      " [4.61841693e-04 0.00000000e+00 4.20454545e-01 ... 1.00000000e+00\n",
      "  1.69701987e-01 2.87987643e-02]]\n"
     ]
    }
   ],
   "source": [
    "# 피처: 예측(독립)변수 파악 - 주택가격에 영향을 미치는 변수\n",
    "print(type(boston[0]))\n",
    "print(boston[0].shape)\n",
    "print()\n",
    "print(boston[0])"
   ]
  },
  {
   "cell_type": "code",
   "execution_count": 11,
   "metadata": {},
   "outputs": [
    {
     "name": "stdout",
     "output_type": "stream",
     "text": [
      "<class 'numpy.ndarray'>\n",
      "(506,)\n",
      "\n",
      "[24.  21.6 34.7 33.4 36.2 28.7 22.9 27.1 16.5 18.9 15.  18.9 21.7 20.4\n",
      " 18.2 19.9 23.1 17.5 20.2 18.2 13.6 19.6 15.2 14.5 15.6 13.9 16.6 14.8\n",
      " 18.4 21.  12.7 14.5 13.2 13.1 13.5 18.9 20.  21.  24.7 30.8 34.9 26.6\n",
      " 25.3 24.7 21.2 19.3 20.  16.6 14.4 19.4 19.7 20.5 25.  23.4 18.9 35.4\n",
      " 24.7 31.6 23.3 19.6 18.7 16.  22.2 25.  33.  23.5 19.4 22.  17.4 20.9\n",
      " 24.2 21.7 22.8 23.4 24.1 21.4 20.  20.8 21.2 20.3 28.  23.9 24.8 22.9\n",
      " 23.9 26.6 22.5 22.2 23.6 28.7 22.6 22.  22.9 25.  20.6 28.4 21.4 38.7\n",
      " 43.8 33.2 27.5 26.5 18.6 19.3 20.1 19.5 19.5 20.4 19.8 19.4 21.7 22.8\n",
      " 18.8 18.7 18.5 18.3 21.2 19.2 20.4 19.3 22.  20.3 20.5 17.3 18.8 21.4\n",
      " 15.7 16.2 18.  14.3 19.2 19.6 23.  18.4 15.6 18.1 17.4 17.1 13.3 17.8\n",
      " 14.  14.4 13.4 15.6 11.8 13.8 15.6 14.6 17.8 15.4 21.5 19.6 15.3 19.4\n",
      " 17.  15.6 13.1 41.3 24.3 23.3 27.  50.  50.  50.  22.7 25.  50.  23.8\n",
      " 23.8 22.3 17.4 19.1 23.1 23.6 22.6 29.4 23.2 24.6 29.9 37.2 39.8 36.2\n",
      " 37.9 32.5 26.4 29.6 50.  32.  29.8 34.9 37.  30.5 36.4 31.1 29.1 50.\n",
      " 33.3 30.3 34.6 34.9 32.9 24.1 42.3 48.5 50.  22.6 24.4 22.5 24.4 20.\n",
      " 21.7 19.3 22.4 28.1 23.7 25.  23.3 28.7 21.5 23.  26.7 21.7 27.5 30.1\n",
      " 44.8 50.  37.6 31.6 46.7 31.5 24.3 31.7 41.7 48.3 29.  24.  25.1 31.5\n",
      " 23.7 23.3 22.  20.1 22.2 23.7 17.6 18.5 24.3 20.5 24.5 26.2 24.4 24.8\n",
      " 29.6 42.8 21.9 20.9 44.  50.  36.  30.1 33.8 43.1 48.8 31.  36.5 22.8\n",
      " 30.7 50.  43.5 20.7 21.1 25.2 24.4 35.2 32.4 32.  33.2 33.1 29.1 35.1\n",
      " 45.4 35.4 46.  50.  32.2 22.  20.1 23.2 22.3 24.8 28.5 37.3 27.9 23.9\n",
      " 21.7 28.6 27.1 20.3 22.5 29.  24.8 22.  26.4 33.1 36.1 28.4 33.4 28.2\n",
      " 22.8 20.3 16.1 22.1 19.4 21.6 23.8 16.2 17.8 19.8 23.1 21.  23.8 23.1\n",
      " 20.4 18.5 25.  24.6 23.  22.2 19.3 22.6 19.8 17.1 19.4 22.2 20.7 21.1\n",
      " 19.5 18.5 20.6 19.  18.7 32.7 16.5 23.9 31.2 17.5 17.2 23.1 24.5 26.6\n",
      " 22.9 24.1 18.6 30.1 18.2 20.6 17.8 21.7 22.7 22.6 25.  19.9 20.8 16.8\n",
      " 21.9 27.5 21.9 23.1 50.  50.  50.  50.  50.  13.8 13.8 15.  13.9 13.3\n",
      " 13.1 10.2 10.4 10.9 11.3 12.3  8.8  7.2 10.5  7.4 10.2 11.5 15.1 23.2\n",
      "  9.7 13.8 12.7 13.1 12.5  8.5  5.   6.3  5.6  7.2 12.1  8.3  8.5  5.\n",
      " 11.9 27.9 17.2 27.5 15.  17.2 17.9 16.3  7.   7.2  7.5 10.4  8.8  8.4\n",
      " 16.7 14.2 20.8 13.4 11.7  8.3 10.2 10.9 11.   9.5 14.5 14.1 16.1 14.3\n",
      " 11.7 13.4  9.6  8.7  8.4 12.8 10.5 17.1 18.4 15.4 10.8 11.8 14.9 12.6\n",
      " 14.1 13.  13.4 15.2 16.1 17.8 14.9 14.1 12.7 13.5 14.9 20.  16.4 17.7\n",
      " 19.5 20.2 21.4 19.9 19.  19.1 19.1 20.1 19.9 19.6 23.2 29.8 13.8 13.3\n",
      " 16.7 12.  14.6 21.4 23.  23.7 25.  21.8 20.6 21.2 19.1 20.6 15.2  7.\n",
      "  8.1 13.6 20.1 21.8 24.5 23.1 19.7 18.3 21.2 17.5 16.8 22.4 20.6 23.9\n",
      " 22.  11.9]\n"
     ]
    }
   ],
   "source": [
    "# 타깃: 반응(종속)변수 파악 - 주택가격\n",
    "print(type(boston[1]))\n",
    "print(boston[1].shape)\n",
    "print()\n",
    "print(boston[1])"
   ]
  },
  {
   "cell_type": "code",
   "execution_count": 12,
   "metadata": {},
   "outputs": [],
   "source": [
    "# boston 데이터셋 로딩시 피처:예측(독립변수)셋과 타깃:반응(종속)변수셋을 분리해서 로딩\n",
    "X, y = mglearn.datasets.load_extended_boston()\n",
    "\n",
    "# 데이터 분할\n",
    "X_train, X_test, y_train, y_test = train_test_split(X, y, random_state=0)\n",
    "\n",
    "# 선현회귀모형에 피팅\n",
    "lr = LinearRegression().fit(X_train, y_train)"
   ]
  },
  {
   "cell_type": "code",
   "execution_count": 13,
   "metadata": {},
   "outputs": [
    {
     "name": "stdout",
     "output_type": "stream",
     "text": [
      "훈련 세트 점수: 0.95\n",
      "테스트 세트 점수: 0.61\n",
      "사용한 피처의 개수: 104\n"
     ]
    }
   ],
   "source": [
    "print(\"훈련 세트 점수: {:.2f}\".format(lr.score(X_train, y_train)))\n",
    "print(\"테스트 세트 점수: {:.2f}\".format(lr.score(X_test, y_test)))\n",
    "print(\"사용한 피처의 개수: {}\".format(np.sum(lr.coef_ != 0)))\n",
    "# - 훈련데이터의 설명력은 높으나 테스트세트에 대한 설명력은 현저하게 낮아짐\n",
    "# - 훈련데이터에 대해서만 예측력이 우수한 모델이며, 테스트데이터에는 불안전성을 보여 과대적합한 상태임"
   ]
  },
  {
   "cell_type": "code",
   "execution_count": 14,
   "metadata": {},
   "outputs": [
    {
     "data": {
      "text/plain": [
       "array([-4.12710947e+02, -5.22432068e+01, -1.31898815e+02, -1.20041365e+01,\n",
       "       -1.55107129e+01,  2.87163342e+01,  5.47040992e+01, -4.95346659e+01,\n",
       "        2.65823927e+01,  3.70620316e+01, -1.18281674e+01, -1.80581965e+01,\n",
       "       -1.95246830e+01,  1.22025403e+01,  2.98078144e+03,  1.50084257e+03,\n",
       "        1.14187325e+02, -1.69700520e+01,  4.09613691e+01, -2.42636646e+01,\n",
       "        5.76157466e+01,  1.27812142e+03, -2.23986944e+03,  2.22825472e+02,\n",
       "       -2.18201083e+00,  4.29960320e+01, -1.33981515e+01, -1.93893485e+01,\n",
       "       -2.57541277e+00, -8.10130128e+01,  9.66019367e+00,  4.91423718e+00,\n",
       "       -8.12114800e-01, -7.64694179e+00,  3.37837099e+01, -1.14464390e+01,\n",
       "        6.85083979e+01, -1.73753604e+01,  4.28128204e+01,  1.13988209e+00,\n",
       "       -7.72696840e-01,  5.68255921e+01,  1.42875996e+01,  5.39551110e+01,\n",
       "       -3.21709644e+01,  1.92709675e+01, -1.38852338e+01,  6.06343266e+01,\n",
       "       -1.23153942e+01, -1.20041365e+01, -1.77243899e+01, -3.39868183e+01,\n",
       "        7.08999816e+00, -9.22538241e+00,  1.71980268e+01, -1.27718431e+01,\n",
       "       -1.19727581e+01,  5.73871915e+01, -1.75331865e+01,  4.10103194e+00,\n",
       "        2.93666477e+01, -1.76611772e+01,  7.84049424e+01, -3.19098015e+01,\n",
       "        4.81752461e+01, -3.95344813e+01,  5.22959055e+00,  2.19982410e+01,\n",
       "        2.56483934e+01, -4.99982035e+01,  2.91457545e+01,  8.94267456e+00,\n",
       "       -7.16599297e+01, -2.28147862e+01,  8.40660981e+00, -5.37905422e+00,\n",
       "        1.20137322e+00, -5.20877186e+00,  4.11452351e+01, -3.78250760e+01,\n",
       "       -2.67163851e+00, -2.55217108e+01, -3.33982030e+01,  4.62272693e+01,\n",
       "       -2.41509169e+01, -1.77532970e+01, -1.39723701e+01, -2.35522208e+01,\n",
       "        3.68353800e+01, -9.46890859e+01,  1.44302810e+02, -1.51158659e+01,\n",
       "       -1.49513436e+01, -2.87729579e+01, -3.17673192e+01,  2.49551594e+01,\n",
       "       -1.84384534e+01,  3.65073948e+00,  1.73101122e+00,  3.53617137e+01,\n",
       "        1.19553429e+01,  6.77025947e-01,  2.73452009e+00,  3.03720012e+01])"
      ]
     },
     "execution_count": 14,
     "metadata": {},
     "output_type": "execute_result"
    }
   ],
   "source": [
    "# 사용힌 피처별 회귀계수값\n",
    "lr.coef_"
   ]
  },
  {
   "cell_type": "markdown",
   "metadata": {},
   "source": [
    "## Ridge regression: <font color = red>p.78 릿지회귀 (L2규제화)</font> \n",
    "* 기본 회귀계수의 과다추정을 방지하기 위해 각 피처의 회귀계수를 거의 0에 가깝게 만들어가지만 탈락시키지는 않음\n",
    "* 회귀계수오차항(평규제곱오차)에 회귀계수의 제곱의 합을 페널티로 추가계산해 더해줌\n",
    "* 피처를 예측모델에 모두 포함시켜 전체적인 예측모델의 작동메커니즘을 이해할 수 있도록 해줌"
   ]
  },
  {
   "cell_type": "code",
   "execution_count": 15,
   "metadata": {},
   "outputs": [
    {
     "name": "stdout",
     "output_type": "stream",
     "text": [
      "훈련 세트 점수: 0.89\n",
      "테스트 세트 점수: 0.75\n",
      "사용한 피처의 개수: 104\n"
     ]
    }
   ],
   "source": [
    "from sklearn.linear_model import Ridge\n",
    "\n",
    "# 알파 = 1 기본모델\n",
    "ridge = Ridge().fit(X_train, y_train)\n",
    "print(\"훈련 세트 점수: {:.2f}\".format(ridge.score(X_train, y_train)))\n",
    "print(\"테스트 세트 점수: {:.2f}\".format(ridge.score(X_test, y_test)))\n",
    "print(\"사용한 피처의 개수: {}\".format(np.sum(ridge.coef_ != 0)))"
   ]
  },
  {
   "cell_type": "code",
   "execution_count": 16,
   "metadata": {},
   "outputs": [
    {
     "data": {
      "text/plain": [
       "array([-1.41368408e+00, -1.55661895e+00, -1.46543409e+00, -1.26616071e-01,\n",
       "       -7.91193605e-02,  8.33161023e+00,  2.54975060e-01, -4.94145701e+00,\n",
       "        3.89862268e+00, -1.05866058e+00, -1.58433734e+00,  1.05103856e+00,\n",
       "       -4.01220799e+00,  3.33720475e-01,  3.64725471e-03, -8.49295793e-01,\n",
       "        7.44989267e-01, -1.43106836e+00, -1.62981017e+00, -1.40486294e+00,\n",
       "       -4.47314366e-02, -1.74619880e+00, -1.46715888e+00, -1.33237111e+00,\n",
       "       -1.69154625e+00, -5.06179637e-01,  2.62197591e+00, -2.09210002e+00,\n",
       "        1.95074661e-01, -2.75469422e-01,  5.11308202e+00, -1.67083739e+00,\n",
       "       -9.81863179e-02,  6.34477127e-01, -6.10008281e-01,  4.01805897e-02,\n",
       "       -1.27661999e+00, -2.91349679e+00,  3.39544035e+00,  7.91904036e-01,\n",
       "        1.35260232e+00, -4.03661265e+00,  2.32361734e+00, -3.36712926e+00,\n",
       "        1.81279204e+00,  3.01566897e+00, -1.89452070e+00, -2.50844073e-01,\n",
       "       -2.89543735e+00, -1.26616071e-01, -5.00217192e+00, -2.43951806e+00,\n",
       "        2.85071846e+00, -8.57081177e-01,  2.99141960e+00,  2.34589755e+00,\n",
       "        1.31207081e+00,  1.71845119e+00, -2.59766697e+00, -1.32370675e+00,\n",
       "       -2.81242223e+00, -2.09117058e+00, -1.08428335e+00, -2.73843625e+00,\n",
       "       -1.61989753e+00, -2.80493280e+00,  9.44641482e-01, -1.65363374e+00,\n",
       "        1.66553558e+01, -1.10980551e+00,  2.14188605e+00, -8.03855387e+00,\n",
       "       -8.59149928e+00, -7.54161099e+00,  1.02924022e+01, -7.96425897e+00,\n",
       "        7.68540742e-01, -1.85213002e+00,  2.51497387e+00, -3.42074257e-01,\n",
       "       -1.79604278e+00, -2.93048162e-01, -4.78242379e+00,  8.63283317e-01,\n",
       "        4.22361423e-01, -1.41656695e+00, -2.12023113e-01, -5.08121369e+00,\n",
       "       -5.47247509e-01,  1.53835390e+00,  1.81348033e+00,  1.97252021e+00,\n",
       "        1.81849652e+00, -7.14338697e+00,  1.10472533e+00,  1.42242216e+00,\n",
       "       -1.31494020e+00, -6.77170441e+00,  1.82204476e+00, -2.36112444e+00,\n",
       "        4.34670572e-02,  1.20886000e+00, -6.32599163e+00,  1.03600231e+01])"
      ]
     },
     "execution_count": 16,
     "metadata": {},
     "output_type": "execute_result"
    }
   ],
   "source": [
    "# 사용힌 피처별 회귀계수값\n",
    "ridge.coef_"
   ]
  },
  {
   "cell_type": "code",
   "execution_count": 17,
   "metadata": {},
   "outputs": [
    {
     "name": "stdout",
     "output_type": "stream",
     "text": [
      "훈련 세트 점수: 0.79\n",
      "테스트 세트 점수: 0.64\n",
      "사용한 피처의 개수: 104\n"
     ]
    }
   ],
   "source": [
    "# 알파 = 10 모델 \n",
    "# - 계수의 제약이 상대적으로 강함, 계수를 거의 0에 가깝게 만듦\n",
    "# - 모델의 복잡도가 낮아짐, 훈련셋의 성능이 낮지만 일반화에는 긍정적 \n",
    "\n",
    "ridge10 = Ridge(alpha=10).fit(X_train, y_train)\n",
    "print(\"훈련 세트 점수: {:.2f}\".format(ridge10.score(X_train, y_train)))\n",
    "print(\"테스트 세트 점수: {:.2f}\".format(ridge10.score(X_test, y_test)))\n",
    "print(\"사용한 피처의 개수: {}\".format(np.sum(ridge10.coef_ != 0)))"
   ]
  },
  {
   "cell_type": "code",
   "execution_count": 18,
   "metadata": {},
   "outputs": [
    {
     "data": {
      "text/plain": [
       "array([-8.11609631e-01,  6.47608896e-01, -8.09783229e-01,  3.11334709e-01,\n",
       "       -6.84623747e-01,  4.38797575e+00, -1.47554474e-01, -2.44214065e+00,\n",
       "        8.45915099e-01, -1.14727508e+00, -2.33162040e+00,  1.06787015e+00,\n",
       "       -3.98391025e+00, -5.98636976e-01,  2.93228193e-03, -5.21253823e-01,\n",
       "        1.40339673e-01, -6.45256057e-01, -7.61400539e-01, -7.47231171e-01,\n",
       "       -3.86298005e-02, -8.29808059e-01, -7.52859756e-01, -6.75605899e-01,\n",
       "       -8.72001488e-01, -3.23330640e-01,  1.27336327e+00, -3.37279550e-01,\n",
       "        6.30682038e-02,  2.37092897e-01,  2.09805607e+00,  1.00996768e-01,\n",
       "       -2.79529662e-01,  1.73222619e-01, -3.33557850e-01, -3.74226653e-01,\n",
       "        6.98414808e-01, -6.96284918e-01,  7.79521010e-01,  3.74843210e-01,\n",
       "       -6.24101244e-01, -7.63657605e-01,  4.35756439e-02, -1.04000852e+00,\n",
       "        4.24401576e-01,  4.78687021e-01, -3.84125445e-01, -9.93802653e-02,\n",
       "       -1.30226356e+00,  3.11334709e-01, -5.92097637e-01,  6.33816542e-01,\n",
       "        6.66792895e-01, -1.27959944e-01,  1.35346930e+00,  1.09839246e+00,\n",
       "        6.37100148e-01,  4.76402917e-01, -9.70121915e-01, -1.43819286e+00,\n",
       "       -6.91866218e-02, -9.29335512e-01, -4.55299563e-01, -6.56129378e-01,\n",
       "       -9.31180916e-01, -1.17260753e+00,  3.35509026e-01, -1.76546423e+00,\n",
       "        7.02804084e+00,  1.51765506e+00,  3.90833563e-01, -1.21723366e+00,\n",
       "       -1.86718575e+00, -1.36105591e+00,  5.46323332e+00, -2.89652146e+00,\n",
       "        1.26693013e-01, -1.48311656e+00,  5.35392087e-01, -4.89624715e-01,\n",
       "       -1.62979525e+00,  6.13665753e-01, -2.98786893e+00, -1.27807033e+00,\n",
       "       -2.83056586e-01, -1.03432949e+00, -1.69293338e+00, -2.26352788e+00,\n",
       "       -1.33076511e+00,  9.26721453e-01,  6.27047921e-01,  2.35007586e-01,\n",
       "        1.33438639e+00, -1.88410183e+00,  3.92630676e-01, -4.42694598e-01,\n",
       "       -4.54914088e-01, -2.05668359e+00, -1.49547766e+00, -1.76954962e+00,\n",
       "       -2.03637103e+00,  1.07984916e+00, -3.95264092e+00,  1.42448967e-01])"
      ]
     },
     "execution_count": 18,
     "metadata": {},
     "output_type": "execute_result"
    }
   ],
   "source": [
    "# 사용힌 피처별 회귀계수값\n",
    "ridge10.coef_"
   ]
  },
  {
   "cell_type": "code",
   "execution_count": 19,
   "metadata": {},
   "outputs": [
    {
     "name": "stdout",
     "output_type": "stream",
     "text": [
      "훈련 세트 점수: 0.93\n",
      "테스트 세트 점수: 0.77\n",
      "사용한 피처의 개수: 104\n"
     ]
    }
   ],
   "source": [
    "# 알파 = 0.1 모델\n",
    "# - 계수의 제약이 상대적으로 약함, 계수를 일반 선형회귀에 가깝게 만듦\n",
    "# - 모델의 복잡도가 올라감, 훈련셋의 성능은 과대적합 가능성 \n",
    "\n",
    "ridge01 = Ridge(alpha=0.1).fit(X_train, y_train)\n",
    "print(\"훈련 세트 점수: {:.2f}\".format(ridge01.score(X_train, y_train)))\n",
    "print(\"테스트 세트 점수: {:.2f}\".format(ridge01.score(X_test, y_test)))\n",
    "print(\"사용한 피처의 개수: {}\".format(np.sum(ridge01.coef_ != 0)))"
   ]
  },
  {
   "cell_type": "code",
   "execution_count": 20,
   "metadata": {
    "scrolled": true
   },
   "outputs": [
    {
     "data": {
      "text/plain": [
       "array([-2.33300720e+00, -5.44192850e+00, -6.12865463e+00, -7.78524693e-01,\n",
       "        1.29152995e+00,  1.90222839e+01,  4.35864731e+00, -1.11911067e+01,\n",
       "        9.55539672e+00, -7.48671406e-01, -5.33307088e-01,  6.23384946e+00,\n",
       "       -2.72886731e+00,  5.86117121e+00,  2.28233711e-02, -9.01608311e-01,\n",
       "        4.66756441e+00, -3.37983354e+00,  1.31611460e+00, -3.48895554e+00,\n",
       "        4.41536215e-01, -3.51941085e+00, -2.52222659e+00, -2.69562070e+00,\n",
       "        2.44649480e-01, -1.02306604e+00,  3.04223584e+00, -2.68804128e+00,\n",
       "        4.28396019e+00, -2.94109311e+00,  8.70934702e+00, -3.13683472e+00,\n",
       "       -2.91608183e-01,  2.17487375e+00,  3.62658111e+00,  2.30047840e+00,\n",
       "       -2.83789461e+00, -6.17207969e+00,  7.94858912e+00,  1.65631996e+00,\n",
       "        8.72779643e+00,  1.08042552e+00,  5.72208008e+00, -4.76401068e+00,\n",
       "        5.07461001e+00,  8.01603635e+00, -8.44254041e+00, -6.44526450e-01,\n",
       "       -1.42288399e+01, -7.78524693e-01, -1.38982595e+01, -1.59298479e+01,\n",
       "        6.42600904e+00, -1.85273659e+00,  6.37949850e+00,  4.03122648e+00,\n",
       "       -9.48053011e-01,  1.11134392e+01, -6.97597662e+00, -6.71608608e-01,\n",
       "       -2.57821560e+00, -6.75682968e+00, -6.64502320e-01, -6.51766291e+00,\n",
       "       -1.39428124e+00, -5.01222387e+00,  4.95142754e-01,  4.28518263e+00,\n",
       "        2.07929059e+01, -8.25633566e+00,  4.23355958e+00, -1.42148213e+01,\n",
       "       -1.50040331e+01, -1.81482746e+01,  1.29863847e+01, -7.81521793e+00,\n",
       "        4.17140075e-02,  2.98000026e+00,  1.11635112e+01, -3.15698906e+00,\n",
       "       -3.38217977e-02, -4.16581719e+00, -1.16026109e+01,  1.06340583e+01,\n",
       "        3.69989958e+00,  2.57472915e+00, -4.90940106e-01, -1.25359509e+01,\n",
       "        4.66411178e+00, -4.68023584e+00,  4.82063467e+00,  3.90895995e+00,\n",
       "       -2.35620652e+00, -1.28782370e+01, -7.79203331e-01,  8.56450892e+00,\n",
       "       -2.85003291e+00, -1.34581797e+01,  3.82432768e+00, -5.59661786e-01,\n",
       "        4.94747863e+00,  2.66776499e+00, -6.90762636e+00,  2.42585962e+01])"
      ]
     },
     "execution_count": 20,
     "metadata": {},
     "output_type": "execute_result"
    }
   ],
   "source": [
    "# 사용힌 피처별 회귀계수값\n",
    "ridge01.coef_"
   ]
  },
  {
   "cell_type": "code",
   "execution_count": 21,
   "metadata": {},
   "outputs": [
    {
     "data": {
      "text/plain": [
       "<matplotlib.legend.Legend at 0x15c13b667b8>"
      ]
     },
     "execution_count": 21,
     "metadata": {},
     "output_type": "execute_result"
    },
    {
     "data": {
      "image/png": "[encoded data removed]",
      "text/plain": [
       "<Figure size 432x288 with 1 Axes>"
      ]
     },
     "metadata": {
      "needs_background": "light"
     },
     "output_type": "display_data"
    }
   ],
   "source": [
    "# 릿지회귀의 L2규제강도 alpha값의 변화에 따른 종합비교\n",
    "plt.plot(ridge10.coef_, '^', label=\"Ridge alpha=10\")\n",
    "plt.plot(ridge.coef_, 's', label=\"Ridge alpha=1\")\n",
    "plt.plot(ridge01.coef_, 'v', label=\"Ridge alpha=0.1\")\n",
    "plt.plot(lr.coef_, 'o', label=\"LinearRegression\")\n",
    "\n",
    "plt.xlabel(\"계수 목록: Coefficient index\")\n",
    "plt.ylabel(\"계수 크기: Coefficient magnitude\")\n",
    "xlims = plt.xlim()\n",
    "plt.hlines(0, xlims[0], xlims[1])\n",
    "plt.xlim(xlims)\n",
    "plt.ylim(-25, 25)\n",
    "plt.legend()\n",
    "\n",
    "# - alpha = 10: 계수에 대한 제약이 강함, 대부분의 계수는 -3 ~ +3 사이에 위치\n",
    "# - alpha =  1: 계수에 대한 제약이 중간, 모델의 계수가 좀 더 넓은 구간에 있음\n",
    "# - alpha = 0.1: 계수에 대한 제약이 약함, 모델의 계수가 더 넓은 구간에 있음\n",
    "# - alpha =   0: 계수에 대한 제약이 없음, 모델의 계수가 매우 넓은 구간에 있음"
   ]
  },
  {
   "cell_type": "code",
   "execution_count": 22,
   "metadata": {},
   "outputs": [
    {
     "data": {
      "image/png": "[encoded data removed]",
      "text/plain": [
       "<Figure size 432x288 with 1 Axes>"
      ]
     },
     "metadata": {
      "needs_background": "light"
     },
     "output_type": "display_data"
    }
   ],
   "source": [
    "# 데이터셋의 크기에 따른 모델의 성능변화: 학습곡선\n",
    "mglearn.plots.plot_ridge_n_samples()\n",
    "\n",
    "# - 2개 모델 모두 훈련데이터(점선) 설명력이 테스트데이터(실선) 보다 높음\n",
    "# - 훈련데이터에서 릿지회귀(파란점선)는 규제가 적용되어 설명력이 선형회귀(빨간점선)보다 낮음\n",
    "# - 테스트데이터에서 릿지회귀(파란실선)의 점수가 선형회귀(빨간실선)보다 높음\n",
    "\n",
    "# - 데이터가 400미만인경우 선형회귀(빨간실선)의 테스트결과는 매우 나쁘며, \n",
    "#   그 이상 충분한 셋이 주어지면 릿지(파란실선) 테스트결과와 유사해짐\n",
    "# - 데이터가 많아질수록 선형회귀의 훈련데이터(빨간점선) 과대적합 가능성도 줄어들게 됨"
   ]
  },
  {
   "cell_type": "markdown",
   "metadata": {},
   "source": [
    "##### Lasso: <font color = red>p.82 라소회귀 (L1규제화)</font> \n",
    "* 기본 회귀계수의 과다추정을 방지하기 위해 일부 피처의 계수를 0으로 만들어 피처선택이 이루어짐\n",
    "* 회귀계수오차항(평규제곱오차)에 회귀계수의 절대값의 합을 페널티로 추가계산해 더해줌\n",
    "* 모델이 릿지에 비해 단순해지고, 이해하기 쉬워지며, 가장 중요한 피처이 무엇인지 파악가능함"
   ]
  },
  {
   "cell_type": "code",
   "execution_count": 23,
   "metadata": {},
   "outputs": [],
   "source": [
    "# 알파 = 10 모델 \n",
    "# - 계수의 제약이 상대적으로 강함, 계수를 거의 0에 가깝게 만듦\n",
    "# - 모델의 복잡도가 낮아짐, 훈련셋의 성능이 낮지만 일반화에는 긍정적 \n",
    "\n",
    "\n",
    "# 알파 = 0.1 모델\n",
    "# - 계수의 제약이 상대적으로 약함, 계수를 일반 선형회귀에 가깝게 만듦\n",
    "# - 모델의 복잡도가 올라감, 훈련셋의 성능은 과대적합 가능성 "
   ]
  },
  {
   "cell_type": "code",
   "execution_count": 24,
   "metadata": {},
   "outputs": [
    {
     "name": "stdout",
     "output_type": "stream",
     "text": [
      "훈련 세트 점수: 0.29\n",
      "테스트 세트 점수: 0.21\n",
      "사용한 피처의 개수: 4\n"
     ]
    }
   ],
   "source": [
    "from sklearn.linear_model import Lasso\n",
    "import numpy as np\n",
    "\n",
    "# alpha = 1 기본값 사용\n",
    "# - 훈련셋결과와 테스트셋결과가 모두 낮고, 피처도 4개만 사용된 모델이라 과소적합된 상황임 \n",
    "lasso = Lasso().fit(X_train, y_train)\n",
    "print(\"훈련 세트 점수: {:.2f}\".format(lasso.score(X_train, y_train)))\n",
    "print(\"테스트 세트 점수: {:.2f}\".format(lasso.score(X_test, y_test)))\n",
    "print(\"사용한 피처의 개수: {}\".format(np.sum(lasso.coef_ != 0)))"
   ]
  },
  {
   "cell_type": "code",
   "execution_count": 25,
   "metadata": {},
   "outputs": [
    {
     "data": {
      "text/plain": [
       "array([-0.        ,  0.        , -0.        ,  0.        , -0.        ,\n",
       "        0.        , -0.        ,  0.        , -0.        , -0.        ,\n",
       "       -0.        ,  0.        , -5.3529079 , -0.        ,  0.        ,\n",
       "       -0.        ,  0.        , -0.        , -0.        , -0.        ,\n",
       "       -0.        , -0.        , -0.        , -0.        , -0.        ,\n",
       "       -0.        ,  0.        ,  0.        ,  0.        ,  0.        ,\n",
       "        0.        ,  0.        ,  0.        ,  0.        ,  0.        ,\n",
       "        0.        ,  0.        ,  0.        , -0.        ,  0.        ,\n",
       "       -0.        , -0.        , -0.        , -0.        , -0.        ,\n",
       "       -0.        , -0.        , -0.        , -0.        ,  0.        ,\n",
       "        0.        ,  0.        ,  0.        ,  0.        ,  0.        ,\n",
       "        0.        ,  0.        ,  0.        , -0.        , -0.        ,\n",
       "       -0.        , -0.        , -0.        , -0.        , -0.        ,\n",
       "       -0.        , -0.        , -0.        ,  0.        ,  0.        ,\n",
       "        0.        , -0.        , -0.        , -0.        ,  0.        ,\n",
       "       -0.        , -0.        ,  0.        , -0.        , -1.05063037,\n",
       "       -3.3104274 , -0.        , -0.        ,  0.        , -0.        ,\n",
       "       -0.        , -0.        ,  0.        , -0.        , -0.41386744,\n",
       "       -0.        , -0.        , -0.        , -0.        , -0.        ,\n",
       "       -0.        , -0.        , -0.        , -0.        , -0.        ,\n",
       "       -0.        ,  0.        , -0.        , -0.        ])"
      ]
     },
     "execution_count": 25,
     "metadata": {},
     "output_type": "execute_result"
    }
   ],
   "source": [
    "# 사용힌 피처별 회귀계수값\n",
    "lasso.coef_"
   ]
  },
  {
   "cell_type": "code",
   "execution_count": 26,
   "metadata": {
    "scrolled": true
   },
   "outputs": [
    {
     "name": "stdout",
     "output_type": "stream",
     "text": [
      "훈련 세트 점수: 0.90\n",
      "테스트 세트 점수: 0.77\n",
      "사용한 피처의 개수: 33\n"
     ]
    }
   ],
   "source": [
    "# alpha = 0.1, max_iter = 100000\n",
    "# - 알파값이 낮아질수록 계수에 대한 규제강도가 낮아지게 됨\n",
    "# - 선택되는 피처가 늘어나면서 모델의 복잡도가 증가하며 성능도 개선되게 됨\n",
    "# - 피처도 적정 선택이 되어 모델패턴을 찾기가 쉬워짐\n",
    "\n",
    "lasso001 = Lasso(alpha=0.01, max_iter=100000).fit(X_train, y_train)\n",
    "print(\"훈련 세트 점수: {:.2f}\".format(lasso001.score(X_train, y_train)))\n",
    "print(\"테스트 세트 점수: {:.2f}\".format(lasso001.score(X_test, y_test)))\n",
    "print(\"사용한 피처의 개수: {}\".format(np.sum(lasso001.coef_ != 0)))"
   ]
  },
  {
   "cell_type": "code",
   "execution_count": 27,
   "metadata": {},
   "outputs": [
    {
     "data": {
      "text/plain": [
       "array([ -0.        ,  -0.        ,  -0.        ,   0.        ,\n",
       "        -0.        ,   0.        ,  -0.        ,  -1.43260465,\n",
       "        10.94771183,   0.        ,   0.        ,   0.        ,\n",
       "        -0.39260971,  -0.        ,  -0.        ,  -0.        ,\n",
       "         0.        ,  -0.        ,  -0.        ,  -0.        ,\n",
       "        -0.        ,  -8.75628457,  -0.        ,  -0.        ,\n",
       "        -0.        ,  -0.        ,   2.10027365,  -0.        ,\n",
       "         0.        ,  -0.        ,   0.        ,  -0.        ,\n",
       "         0.        ,   0.        ,  -0.        ,   0.        ,\n",
       "        -0.        ,  -0.        ,   0.        ,   0.        ,\n",
       "         0.        ,  -0.        ,   0.        ,  -3.96958293,\n",
       "         0.        ,   6.61845793,  -0.        ,  -0.        ,\n",
       "        -0.        ,   0.        ,  -4.42086828,  -2.10371434,\n",
       "         3.79607992,  -0.        ,   4.38591262,   0.        ,\n",
       "         0.        ,   0.1795777 ,  -0.        ,  -1.1614282 ,\n",
       "        -4.33485764,  -0.        ,  -0.        ,  -2.13549022,\n",
       "        -0.        ,  -1.85967636,  -0.        ,  -0.        ,\n",
       "        29.81957225,  -2.05624806,   0.        , -11.98034348,\n",
       "       -11.14870694, -11.67147204,  12.974385  , -10.93053676,\n",
       "        -0.        ,  -0.        ,   3.441574  ,   0.        ,\n",
       "        -0.        ,  -0.        ,  -8.56750394,   0.        ,\n",
       "         0.        ,  -0.        ,   0.        ,  -7.26115293,\n",
       "        -0.        ,   0.        ,   0.94254631,   0.        ,\n",
       "         0.        ,  -7.62603559,   1.65255854,   0.        ,\n",
       "         0.        , -17.39462971,   0.        ,   0.        ,\n",
       "        -0.        ,   0.34404124,  -8.24645566,  17.5606721 ])"
      ]
     },
     "execution_count": 27,
     "metadata": {},
     "output_type": "execute_result"
    }
   ],
   "source": [
    "# 사용힌 피처별 회귀계수값\n",
    "lasso001.coef_"
   ]
  },
  {
   "cell_type": "code",
   "execution_count": 28,
   "metadata": {},
   "outputs": [
    {
     "name": "stdout",
     "output_type": "stream",
     "text": [
      "훈련 세트 점수: 0.95\n",
      "테스트 세트 점수: 0.64\n",
      "사용한 피처의 개수: 96\n"
     ]
    }
   ],
   "source": [
    "# alpha = 0.0001 모델\n",
    "# - 알파값을 너무 낮추면 계수의 제약이 매우 약해 규제의 효과가 없어짐\n",
    "# - 탈락되는 피처가 거의 없어 모델의 복잡도가 올라감\n",
    "# - 일반 선형회귀와 같아지므로 훈련셋에 대한 과대적합 가능성이 있음\n",
    "\n",
    "lasso00001 = Lasso(alpha=0.0001, max_iter=100000).fit(X_train, y_train)\n",
    "print(\"훈련 세트 점수: {:.2f}\".format(lasso00001.score(X_train, y_train)))\n",
    "print(\"테스트 세트 점수: {:.2f}\".format(lasso00001.score(X_test, y_test)))\n",
    "print(\"사용한 피처의 개수: {}\".format(np.sum(lasso00001.coef_ != 0)))"
   ]
  },
  {
   "cell_type": "code",
   "execution_count": 29,
   "metadata": {},
   "outputs": [
    {
     "data": {
      "text/plain": [
       "array([-0.00000000e+00, -2.22112506e+01, -8.50460785e+01, -8.84911727e+00,\n",
       "       -3.29747331e+00,  3.80364498e+01,  4.79228263e+01, -3.79968178e+01,\n",
       "        2.78218641e+01,  0.00000000e+00, -7.57027820e-01,  2.59844375e+00,\n",
       "       -1.10854083e+01,  1.00632159e+01,  0.00000000e+00,  0.00000000e+00,\n",
       "        1.13251636e+02, -1.67111092e+01,  2.77529962e+01, -3.05160674e+01,\n",
       "        0.00000000e+00, -1.01269722e+01, -0.00000000e+00, -0.00000000e+00,\n",
       "       -3.97525034e-01,  3.03276326e+01, -8.17609874e+00, -1.41714196e+01,\n",
       "       -2.24575996e+00, -5.24158108e+01,  7.09612408e+00,  2.49508901e+00,\n",
       "       -7.19880905e+00, -2.94632210e+00,  2.58438205e+01, -5.14091096e+00,\n",
       "        3.32496024e+01, -1.26505982e+01,  3.03546677e+01, -1.08693198e+00,\n",
       "        1.82716499e+01,  4.76099968e+01,  1.24705759e+01,  4.17977677e+01,\n",
       "       -0.00000000e+00,  1.97409406e+01, -7.42612798e+00,  1.95633038e+01,\n",
       "       -1.29388874e+01, -1.53095081e+01, -1.65903957e+01, -3.12385990e+01,\n",
       "        8.10044556e+00, -3.21997233e+00,  9.12508109e+00, -3.81106728e+00,\n",
       "       -8.05567972e+00,  5.19015323e+01, -1.74746089e+01, -4.00360338e+00,\n",
       "        1.99823053e+01, -1.59014198e+01,  4.48066188e+01, -1.19864352e+01,\n",
       "        1.72833701e+01, -3.42773347e+01,  4.13634168e+00,  1.39712145e+01,\n",
       "        2.21942671e+01, -4.72036832e+01,  1.87068742e+01,  4.90085065e+00,\n",
       "       -5.97726771e+01, -2.61203328e+01,  8.60293743e+00, -4.90344941e+00,\n",
       "        4.89764245e-01, -1.70840098e+00,  3.83576326e+01, -3.08995235e+01,\n",
       "       -1.45308216e+00, -2.22228642e+01, -3.11538410e+01,  4.26845277e+01,\n",
       "       -6.32174522e+00, -7.97495946e+00, -1.37411177e+01, -2.19925401e+01,\n",
       "        2.34993155e+01, -8.90743688e+01,  1.11107064e+02, -8.98634672e+00,\n",
       "       -2.59235174e+01, -2.46011008e+01, -2.04378264e+01,  2.06728191e+01,\n",
       "        1.28603676e+01, -7.04591930e-01,  3.50893191e+00,  1.92930876e+01,\n",
       "        6.41971574e+00,  2.81834559e-02,  4.55627597e-01,  3.23359960e+01])"
      ]
     },
     "execution_count": 29,
     "metadata": {},
     "output_type": "execute_result"
    }
   ],
   "source": [
    "# 사용힌 피처별 회귀계수값\n",
    "lasso00001.coef_"
   ]
  },
  {
   "cell_type": "code",
   "execution_count": 30,
   "metadata": {},
   "outputs": [
    {
     "data": {
      "text/plain": [
       "Text(0, 0.5, '계수 크기: Coefficient magnitude')"
      ]
     },
     "execution_count": 30,
     "metadata": {},
     "output_type": "execute_result"
    },
    {
     "data": {
      "image/png": "[encoded data removed]",
      "text/plain": [
       "<Figure size 432x288 with 1 Axes>"
      ]
     },
     "metadata": {
      "needs_background": "light"
     },
     "output_type": "display_data"
    }
   ],
   "source": [
    "# 라소회귀의 L1규제강도 alpha값의 변화에 따른 종합비교\n",
    "plt.plot(lasso.coef_, 's', label=\"Lasso alpha=1\")\n",
    "plt.plot(lasso001.coef_, '^', label=\"Lasso alpha=0.01\")\n",
    "plt.plot(lasso00001.coef_, 'v', label=\"Lasso alpha=0.0001\")\n",
    "\n",
    "plt.plot(ridge01.coef_, 'o', label=\"Ridge alpha=0.1\")\n",
    "plt.legend(ncol=2, loc=(0, 1.05))\n",
    "plt.ylim(-25, 25)\n",
    "plt.xlabel(\"계수 목록: Coefficient index\")\n",
    "plt.ylabel(\"계수 크기: Coefficient magnitude\")\n",
    "\n",
    "# - 라쏘 alpha = 1: 계수에 대한 제약이 강함, 계수 대부분이 0임\n",
    "# - 라쏘 alpha = 0.01: 계수에 대한 제약이 중간, 모델의 계수가 좀 더 넓은 구간에 있음\n",
    "# - 라쏘 alpha = 0.0001: 계수에 대한 제약이 약함, 모델의 계수가 매우 넓은 구간에 있음\n",
    "\n",
    "# - 릿지 alpha = 0.1은 라쏘 alpha = 0.01과 비슷한 계수크기\n",
    "# - 같은 성능을 나타내는 상황에서 전체 피처피처을 예측모델에 유지하려면 릿지회귀를, \n",
    "#   피처선택을 통해 분석하기 쉬운모델을 만들려면 라쏘회귀를 선정"
   ]
  },
  {
   "cell_type": "markdown",
   "metadata": {},
   "source": [
    "## ElasticNet: <font color = red>p.85 엘라스틱넷 (L1규제화 + L2규제화)</font> \n",
    "* 릿지와 라쏘의 패널티를 결합한 방식 \n",
    "* 기본 회귀계수의 과다추정을 방지하기 위해 일부 피처의 계수를 0으로 만들어 피처선택이 이루어짐\n",
    "* 회귀계수오차항(평균제곱오차)에 회귀계수의 제곱의 합(릿지회귀 L2규제화)과 절대값의 합(라쏘회귀 L1규제화)을 페널티로 추가계산해 더해줌\n",
    "* alpha 파마미터를 통해 페널티의 강도를 조절\n",
    "* l1_ratio 파라미터를 통해 L1과 L2파라미터의 상대적 비율을 조정, 0.0 릿지 ~ 1.0 라쏘"
   ]
  },
  {
   "cell_type": "code",
   "execution_count": 31,
   "metadata": {},
   "outputs": [
    {
     "name": "stdout",
     "output_type": "stream",
     "text": [
      "훈련 세트 점수: 0.33\n",
      "테스트 세트 점수: 0.22\n",
      "사용한 피처의 개수: 38\n"
     ]
    }
   ],
   "source": [
    "from sklearn.linear_model import ElasticNet\n",
    "\n",
    "# 알파 = 1 기본모델, l1=ratio = 0.5 릿지와 라쏘의 중간모델 \n",
    "ela_a10_lr05 = ElasticNet(alpha = 1.0, l1_ratio = 0.5).fit(X_train, y_train)\n",
    "print(\"훈련 세트 점수: {:.2f}\".format(ela_a10_lr05.score(X_train, y_train)))\n",
    "print(\"테스트 세트 점수: {:.2f}\".format(ela_a10_lr05.score(X_test, y_test)))\n",
    "print(\"사용한 피처의 개수: {}\".format(np.sum(ela_a10_lr05.coef_ != 0)))"
   ]
  },
  {
   "cell_type": "code",
   "execution_count": 32,
   "metadata": {},
   "outputs": [
    {
     "data": {
      "text/plain": [
       "array([ -0.        ,  -0.        ,  -0.        ,   0.        ,\n",
       "        -0.        ,   0.        ,  -0.        ,  -1.43260465,\n",
       "        10.94771183,   0.        ,   0.        ,   0.        ,\n",
       "        -0.39260971,  -0.        ,  -0.        ,  -0.        ,\n",
       "         0.        ,  -0.        ,  -0.        ,  -0.        ,\n",
       "        -0.        ,  -8.75628457,  -0.        ,  -0.        ,\n",
       "        -0.        ,  -0.        ,   2.10027365,  -0.        ,\n",
       "         0.        ,  -0.        ,   0.        ,  -0.        ,\n",
       "         0.        ,   0.        ,  -0.        ,   0.        ,\n",
       "        -0.        ,  -0.        ,   0.        ,   0.        ,\n",
       "         0.        ,  -0.        ,   0.        ,  -3.96958293,\n",
       "         0.        ,   6.61845793,  -0.        ,  -0.        ,\n",
       "        -0.        ,   0.        ,  -4.42086828,  -2.10371434,\n",
       "         3.79607992,  -0.        ,   4.38591262,   0.        ,\n",
       "         0.        ,   0.1795777 ,  -0.        ,  -1.1614282 ,\n",
       "        -4.33485764,  -0.        ,  -0.        ,  -2.13549022,\n",
       "        -0.        ,  -1.85967636,  -0.        ,  -0.        ,\n",
       "        29.81957225,  -2.05624806,   0.        , -11.98034348,\n",
       "       -11.14870694, -11.67147204,  12.974385  , -10.93053676,\n",
       "        -0.        ,  -0.        ,   3.441574  ,   0.        ,\n",
       "        -0.        ,  -0.        ,  -8.56750394,   0.        ,\n",
       "         0.        ,  -0.        ,   0.        ,  -7.26115293,\n",
       "        -0.        ,   0.        ,   0.94254631,   0.        ,\n",
       "         0.        ,  -7.62603559,   1.65255854,   0.        ,\n",
       "         0.        , -17.39462971,   0.        ,   0.        ,\n",
       "        -0.        ,   0.34404124,  -8.24645566,  17.5606721 ])"
      ]
     },
     "execution_count": 32,
     "metadata": {},
     "output_type": "execute_result"
    }
   ],
   "source": [
    "# 사용힌 피처별 회귀계수값\n",
    "lasso001.coef_"
   ]
  },
  {
   "cell_type": "code",
   "execution_count": 33,
   "metadata": {},
   "outputs": [
    {
     "name": "stdout",
     "output_type": "stream",
     "text": [
      "훈련 세트 점수: 0.29\n",
      "테스트 세트 점수: 0.21\n",
      "사용한 피처의 개수: 4\n"
     ]
    }
   ],
   "source": [
    "# 알파 = 1 기본모델, l1=ratio = 1.0 라쏘 모델\n",
    "ela_a10_lr10 = ElasticNet(alpha = 1.0, l1_ratio = 1.0).fit(X_train, y_train)\n",
    "print(\"훈련 세트 점수: {:.2f}\".format(ela_a10_lr10.score(X_train, y_train)))\n",
    "print(\"테스트 세트 점수: {:.2f}\".format(ela_a10_lr10.score(X_test, y_test)))\n",
    "print(\"사용한 피처의 개수: {}\".format(np.sum(ela_a10_lr10.coef_ != 0)))"
   ]
  },
  {
   "cell_type": "code",
   "execution_count": 34,
   "metadata": {},
   "outputs": [
    {
     "data": {
      "text/plain": [
       "array([-0.        ,  0.        , -0.        ,  0.        , -0.        ,\n",
       "        0.        , -0.        ,  0.        , -0.        , -0.        ,\n",
       "       -0.        ,  0.        , -5.3529079 , -0.        ,  0.        ,\n",
       "       -0.        ,  0.        , -0.        , -0.        , -0.        ,\n",
       "       -0.        , -0.        , -0.        , -0.        , -0.        ,\n",
       "       -0.        ,  0.        ,  0.        ,  0.        ,  0.        ,\n",
       "        0.        ,  0.        ,  0.        ,  0.        ,  0.        ,\n",
       "        0.        ,  0.        ,  0.        , -0.        ,  0.        ,\n",
       "       -0.        , -0.        , -0.        , -0.        , -0.        ,\n",
       "       -0.        , -0.        , -0.        , -0.        ,  0.        ,\n",
       "        0.        ,  0.        ,  0.        ,  0.        ,  0.        ,\n",
       "        0.        ,  0.        ,  0.        , -0.        , -0.        ,\n",
       "       -0.        , -0.        , -0.        , -0.        , -0.        ,\n",
       "       -0.        , -0.        , -0.        ,  0.        ,  0.        ,\n",
       "        0.        , -0.        , -0.        , -0.        ,  0.        ,\n",
       "       -0.        , -0.        ,  0.        , -0.        , -1.05063037,\n",
       "       -3.3104274 , -0.        , -0.        ,  0.        , -0.        ,\n",
       "       -0.        , -0.        ,  0.        , -0.        , -0.41386744,\n",
       "       -0.        , -0.        , -0.        , -0.        , -0.        ,\n",
       "       -0.        , -0.        , -0.        , -0.        , -0.        ,\n",
       "       -0.        ,  0.        , -0.        , -0.        ])"
      ]
     },
     "execution_count": 34,
     "metadata": {},
     "output_type": "execute_result"
    }
   ],
   "source": [
    "# 사용힌 피처별 회귀계수값\n",
    "ela_a10_lr10.coef_"
   ]
  },
  {
   "cell_type": "code",
   "execution_count": 35,
   "metadata": {
    "scrolled": true
   },
   "outputs": [
    {
     "name": "stdout",
     "output_type": "stream",
     "text": [
      "훈련 세트 점수: 0.42\n",
      "테스트 세트 점수: 0.28\n",
      "사용한 피처의 개수: 104\n"
     ]
    },
    {
     "name": "stderr",
     "output_type": "stream",
     "text": [
      "C:\\Anaconda3\\lib\\site-packages\\sklearn\\linear_model\\coordinate_descent.py:491: ConvergenceWarning: Objective did not converge. You might want to increase the number of iterations. Fitting data with very small alpha may cause precision problems.\n",
      "  ConvergenceWarning)\n"
     ]
    }
   ],
   "source": [
    "# 알파 = 1 기본모델, l1=ratio = 0.0 릿지 모델\n",
    "ela_a10_lr00 = ElasticNet(alpha = 1.0, l1_ratio = 0.0).fit(X_train, y_train)\n",
    "print(\"훈련 세트 점수: {:.2f}\".format(ela_a10_lr00.score(X_train, y_train)))\n",
    "print(\"테스트 세트 점수: {:.2f}\".format(ela_a10_lr00.score(X_test, y_test)))\n",
    "print(\"사용한 피처의 개수: {}\".format(np.sum(ela_a10_lr00.coef_ != 0)))"
   ]
  },
  {
   "cell_type": "code",
   "execution_count": 36,
   "metadata": {},
   "outputs": [
    {
     "data": {
      "text/plain": [
       "array([-1.38430300e-01,  3.65454421e-01, -4.54405742e-01,  2.53485583e-01,\n",
       "       -2.95863143e-01,  6.07657363e-01, -3.35149396e-01,  7.14445723e-03,\n",
       "       -2.83530000e-01, -4.49332482e-01, -6.62973160e-01,  3.42609091e-01,\n",
       "       -7.90275631e-01, -6.20804000e-02,  5.28812113e-04, -8.98792974e-02,\n",
       "        1.11552753e-02, -9.11075886e-02, -5.91245267e-02, -1.31561785e-01,\n",
       "       -6.79831068e-03, -1.36562440e-01, -1.25781194e-01, -1.14204740e-01,\n",
       "       -8.86133484e-02, -9.73495681e-02,  2.65283714e-01,  2.50650374e-02,\n",
       "        2.74373109e-02,  5.70972496e-02,  3.22825246e-01,  1.33895474e-01,\n",
       "        1.04624955e-01,  4.65239300e-02,  4.47501849e-02,  6.41354026e-02,\n",
       "        3.63206795e-01,  3.68412688e-03, -3.20700080e-01,  1.26309185e-01,\n",
       "       -3.07526830e-01, -7.63662216e-02, -4.39410969e-01, -5.88203306e-02,\n",
       "       -2.47533481e-01, -3.29289062e-01, -4.45118002e-01, -2.33233238e-01,\n",
       "       -4.74965761e-01,  2.53485583e-01,  7.98085503e-02,  2.12344037e-01,\n",
       "        1.93461473e-01,  3.49626495e-02,  1.80130902e-01,  1.65015401e-01,\n",
       "        1.59048513e-01,  2.45549405e-01, -2.40278254e-02, -2.74459866e-01,\n",
       "        3.50849336e-02, -3.28512317e-01, -2.70748499e-02, -2.55487991e-01,\n",
       "       -3.21905835e-01, -3.88717963e-01, -7.21726746e-02, -4.21537791e-01,\n",
       "        7.52581350e-01,  2.22263206e-01,  1.44168797e-01, -3.47884479e-02,\n",
       "       -9.02212398e-02, -1.12565896e-01,  7.62879052e-01, -2.94248294e-01,\n",
       "       -4.39483055e-01, -6.61082387e-02, -3.21721987e-01, -4.59831367e-01,\n",
       "       -6.69617915e-01, -2.54284992e-02, -7.19000501e-01, -2.61561997e-02,\n",
       "       -1.61533852e-02, -4.73024423e-02, -1.39296983e-01,  4.13043241e-02,\n",
       "       -1.20086134e-01, -3.29781341e-01, -3.30781330e-01, -3.32875369e-01,\n",
       "        3.22317362e-03, -4.38414323e-01, -3.92535422e-01, -4.57473380e-01,\n",
       "       -1.66120485e-01, -5.09331941e-01, -6.79389054e-01, -3.88622164e-01,\n",
       "       -6.33027510e-01,  4.01799569e-01, -5.79279082e-01, -4.92632418e-01])"
      ]
     },
     "execution_count": 36,
     "metadata": {},
     "output_type": "execute_result"
    }
   ],
   "source": [
    "# 사용힌 피처별 회귀계수값\n",
    "ela_a10_lr00.coef_"
   ]
  },
  {
   "cell_type": "code",
   "execution_count": 37,
   "metadata": {},
   "outputs": [
    {
     "name": "stdout",
     "output_type": "stream",
     "text": [
      "훈련 세트 점수: 0.72\n",
      "테스트 세트 점수: 0.55\n",
      "사용한 피처의 개수: 58\n"
     ]
    }
   ],
   "source": [
    "# 알파 = 0.1 모델, l1=ratio = 0.5 릿지-라쏘 중간 모델\n",
    "ela_a01_lr05 = ElasticNet(alpha = 0.1, l1_ratio = 0.5).fit(X_train, y_train)\n",
    "print(\"훈련 세트 점수: {:.2f}\".format(ela_a01_lr05.score(X_train, y_train)))\n",
    "print(\"테스트 세트 점수: {:.2f}\".format(ela_a01_lr05.score(X_test, y_test)))\n",
    "print(\"사용한 피처의 개수: {}\".format(np.sum(ela_a01_lr05.coef_ != 0)))"
   ]
  },
  {
   "cell_type": "code",
   "execution_count": 38,
   "metadata": {},
   "outputs": [
    {
     "data": {
      "text/plain": [
       "array([-0.11668517,  0.45449994, -0.69302345,  0.4763029 , -0.15742755,\n",
       "        3.3411999 , -0.        , -1.10302997,  0.        , -0.76577739,\n",
       "       -2.44310046,  0.81593634, -3.68229623, -0.        ,  0.        ,\n",
       "       -0.        ,  0.        , -0.        , -0.        , -0.04392692,\n",
       "       -0.        , -0.10634509, -0.01630692, -0.        , -0.        ,\n",
       "       -0.        ,  0.50142111, -0.        ,  0.        ,  0.        ,\n",
       "        1.13562036,  0.        , -0.        ,  0.        , -0.        ,\n",
       "       -0.        ,  0.48554848, -0.        , -0.        ,  0.        ,\n",
       "       -0.34775794, -0.        , -0.14234577, -0.        , -0.        ,\n",
       "       -0.        , -0.31701609, -0.        , -1.19205178,  0.47633391,\n",
       "        0.        ,  0.37008422,  0.32658736,  0.        ,  0.61580677,\n",
       "        0.39282295,  0.19323358,  0.50531751, -0.        , -0.76139625,\n",
       "        0.        , -0.36275775, -0.        , -0.        , -0.34129909,\n",
       "       -0.62737161,  0.        , -1.36265017,  5.18790002,  0.98595118,\n",
       "        0.        , -0.        , -0.07349976, -0.07112614,  4.45852598,\n",
       "       -1.41867541, -0.        , -0.20644641, -0.        , -0.29114617,\n",
       "       -1.52639896,  0.07396454, -2.80936476, -0.47470243, -0.        ,\n",
       "       -0.        , -0.98870189, -0.85817723, -0.25002022,  0.        ,\n",
       "       -0.        , -0.        ,  0.45503911, -1.12861858, -0.        ,\n",
       "       -0.40494523, -0.        , -1.60078375, -2.04136492, -1.19320739,\n",
       "       -2.07522079,  1.05426491, -2.8780544 , -0.66396486])"
      ]
     },
     "execution_count": 38,
     "metadata": {},
     "output_type": "execute_result"
    }
   ],
   "source": [
    "# 사용힌 피처별 회귀계수값\n",
    "ela_a01_lr05.coef_"
   ]
  },
  {
   "cell_type": "code",
   "execution_count": 39,
   "metadata": {},
   "outputs": [
    {
     "name": "stdout",
     "output_type": "stream",
     "text": [
      "훈련 세트 점수: 0.86\n",
      "테스트 세트 점수: 0.72\n",
      "사용한 피처의 개수: 84\n"
     ]
    }
   ],
   "source": [
    "# 알파 = 0.01 모델, l1=ratio = 0.5 릿지-라쏘 중간 모델\n",
    "ela_a001_lr05 = ElasticNet(alpha = 0.01, l1_ratio = 0.5).fit(X_train, y_train)\n",
    "print(\"훈련 세트 점수: {:.2f}\".format(ela_a001_lr05.score(X_train, y_train)))\n",
    "print(\"테스트 세트 점수: {:.2f}\".format(ela_a001_lr05.score(X_test, y_test)))\n",
    "print(\"사용한 피처의 개수: {}\".format(np.sum(ela_a001_lr05.coef_ != 0)))"
   ]
  },
  {
   "cell_type": "code",
   "execution_count": 40,
   "metadata": {},
   "outputs": [
    {
     "data": {
      "text/plain": [
       "array([-1.26522576e+00, -2.32875808e-01, -5.36546782e-01,  0.00000000e+00,\n",
       "       -7.26038445e-02,  6.42753699e+00,  0.00000000e+00, -4.16892207e+00,\n",
       "        2.34861213e+00, -1.00789122e+00, -1.93161142e+00,  6.91379330e-01,\n",
       "       -4.60308665e+00, -3.06512555e-01,  0.00000000e+00, -4.33322350e-01,\n",
       "        0.00000000e+00, -8.97343466e-01, -1.23226124e+00, -1.13149479e+00,\n",
       "       -0.00000000e+00, -1.45498329e+00, -1.17609885e+00, -9.47269446e-01,\n",
       "       -1.52473049e+00, -0.00000000e+00,  1.48242089e+00, -7.77954912e-01,\n",
       "       -0.00000000e+00, -0.00000000e+00,  3.32843749e+00, -3.38347756e-01,\n",
       "       -0.00000000e+00,  0.00000000e+00, -1.84006945e-01, -1.02980208e-01,\n",
       "       -4.23564252e-02, -1.48607238e+00,  1.93289332e+00,  5.64885471e-02,\n",
       "       -0.00000000e+00, -2.91713264e+00,  5.55384245e-01, -1.99173013e+00,\n",
       "        8.21991165e-01,  1.46336823e+00, -1.98998284e-01, -0.00000000e+00,\n",
       "       -1.13035994e+00,  0.00000000e+00, -1.98977659e+00, -0.00000000e+00,\n",
       "        1.69681717e+00, -0.00000000e+00,  2.38499052e+00,  1.75072396e+00,\n",
       "        6.98661457e-01,  4.86862281e-01, -1.21018386e+00, -1.65016600e+00,\n",
       "       -1.51006422e+00, -1.18086913e+00, -9.47719496e-02, -1.37052696e+00,\n",
       "       -1.16659018e+00, -1.97825642e+00,  3.50909184e-02, -1.64880363e+00,\n",
       "        1.38139525e+01, -0.00000000e+00,  4.46824778e-01, -5.09849224e+00,\n",
       "       -6.55264999e+00, -4.96223992e+00,  8.98303791e+00, -6.57059176e+00,\n",
       "        4.65514726e-01, -1.76931719e+00,  1.20100289e+00, -0.00000000e+00,\n",
       "       -1.39155815e+00,  1.14768763e-01, -3.66317916e+00, -1.31753028e-02,\n",
       "       -0.00000000e+00, -1.25859305e+00, -8.07136189e-01, -4.00731539e+00,\n",
       "       -7.82728887e-01,  1.72302390e+00,  1.26147867e+00,  8.08373886e-01,\n",
       "        1.96407241e+00, -4.52706273e+00,  6.56849333e-01,  0.00000000e+00,\n",
       "       -3.56210282e-01, -4.37620952e+00, -0.00000000e+00, -1.79427142e+00,\n",
       "       -8.01686196e-01,  6.69819107e-01, -5.77339952e+00,  5.37101311e+00])"
      ]
     },
     "execution_count": 40,
     "metadata": {},
     "output_type": "execute_result"
    }
   ],
   "source": [
    "# 사용힌 피처별 회귀계수값\n",
    "ela_a001_lr05.coef_"
   ]
  },
  {
   "cell_type": "code",
   "execution_count": 41,
   "metadata": {},
   "outputs": [
    {
     "name": "stdout",
     "output_type": "stream",
     "text": [
      "훈련 세트 점수: 0.92\n",
      "테스트 세트 점수: 0.78\n",
      "사용한 피처의 개수: 95\n"
     ]
    },
    {
     "name": "stderr",
     "output_type": "stream",
     "text": [
      "C:\\Anaconda3\\lib\\site-packages\\sklearn\\linear_model\\coordinate_descent.py:491: ConvergenceWarning: Objective did not converge. You might want to increase the number of iterations. Fitting data with very small alpha may cause precision problems.\n",
      "  ConvergenceWarning)\n"
     ]
    }
   ],
   "source": [
    "# 알파 = 0.001 모델, l1=ratio = 0.5 릿지-라쏘 중간 모델\n",
    "ela_a0001_lr05 = ElasticNet(alpha = 0.001, l1_ratio = 0.5).fit(X_train, y_train)\n",
    "print(\"훈련 세트 점수: {:.2f}\".format(ela_a0001_lr05.score(X_train, y_train)))\n",
    "print(\"테스트 세트 점수: {:.2f}\".format(ela_a0001_lr05.score(X_test, y_test)))\n",
    "print(\"사용한 피처의 개수: {}\".format(np.sum(ela_a0001_lr05.coef_ != 0)))"
   ]
  },
  {
   "cell_type": "code",
   "execution_count": 42,
   "metadata": {},
   "outputs": [
    {
     "data": {
      "text/plain": [
       "array([-2.43630056e+00, -2.42335744e+00, -4.70562327e+00, -0.00000000e+00,\n",
       "        8.59976836e-01,  1.43278222e+01,  3.29085898e+00, -1.01288235e+01,\n",
       "        1.28770717e+01,  7.93432533e-01,  0.00000000e+00,  2.89619824e+00,\n",
       "       -1.09213889e+00,  2.51227018e+00,  0.00000000e+00, -5.97863783e-01,\n",
       "        2.00816848e+00, -2.17824124e+00, -0.00000000e+00, -2.19125048e+00,\n",
       "        0.00000000e+00, -2.80967677e+00, -2.05687814e+00, -1.95215687e+00,\n",
       "       -0.00000000e+00, -8.88822446e-01,  2.78486652e+00, -2.75015923e+00,\n",
       "        2.34968618e+00, -8.88170667e-01,  7.13679547e+00, -3.17759906e+00,\n",
       "        0.00000000e+00,  7.71628218e-02,  7.12979248e-01,  5.91696386e-01,\n",
       "       -2.93976948e+00, -5.20891473e+00,  6.05798920e+00,  1.43102625e+00,\n",
       "        6.31963348e+00, -1.20781067e+00,  6.01316988e+00, -4.76156702e+00,\n",
       "        7.82101774e+00,  5.75871535e+00, -6.15574382e+00, -8.88160976e-01,\n",
       "       -9.98336452e+00,  0.00000000e+00, -1.10087909e+01, -1.12324917e+01,\n",
       "        4.90969583e+00, -9.19597297e-01,  5.05759223e+00,  3.71792482e+00,\n",
       "        9.97981111e-02,  6.43461428e+00, -5.00898180e+00, -3.71597753e-01,\n",
       "       -3.49886923e+00, -4.65432374e+00, -1.49119110e-01, -3.79988047e+00,\n",
       "       -1.92389620e+00, -4.54534616e+00,  6.26592107e-03,  1.18294084e-01,\n",
       "        2.07902272e+01, -5.17385527e+00,  3.17065472e+00, -1.33145313e+01,\n",
       "       -1.38132312e+01, -1.44121498e+01,  1.35283805e+01, -8.71111049e+00,\n",
       "       -1.24179249e-01,  4.62247631e-01,  7.26930812e+00, -3.21376176e+00,\n",
       "       -7.41930146e-01, -2.75388545e+00, -1.00154751e+01,  6.56432466e+00,\n",
       "        9.06298077e-01,  0.00000000e+00,  3.09573039e-01, -7.40940276e+00,\n",
       "        2.09502437e+00, -3.56959802e+00,  1.72311566e-01,  1.04971809e+00,\n",
       "       -1.11987897e+00, -1.21709626e+01,  4.86840753e-01,  5.48888510e+00,\n",
       "       -1.52721231e+00, -1.18526883e+01,  3.71548737e+00, -1.72525030e+00,\n",
       "        2.62222210e+00,  2.96140922e+00, -6.61732004e+00,  2.08876186e+01])"
      ]
     },
     "execution_count": 42,
     "metadata": {},
     "output_type": "execute_result"
    }
   ],
   "source": [
    "# 사용힌 피처별 회귀계수값\n",
    "ela_a0001_lr05.coef_"
   ]
  },
  {
   "cell_type": "markdown",
   "metadata": {},
   "source": [
    "# End of Source"
   ]
  }
 ],
 "metadata": {
  "kernelspec": {
   "display_name": "Python 3",
   "language": "python",
   "name": "python3"
  },
  "language_info": {
   "codemirror_mode": {
    "name": "ipython",
    "version": 3
   },
   "file_extension": ".py",
   "mimetype": "text/x-python",
   "name": "python",
   "nbconvert_exporter": "python",
   "pygments_lexer": "ipython3",
   "version": "3.6.7"
  },
  "latex_metadata": {
   "author": "Andreas C. M\\\"ller",
   "title": "Machine Learning with Python"
  }
 },
 "nbformat": 4,
 "nbformat_minor": 1
}
