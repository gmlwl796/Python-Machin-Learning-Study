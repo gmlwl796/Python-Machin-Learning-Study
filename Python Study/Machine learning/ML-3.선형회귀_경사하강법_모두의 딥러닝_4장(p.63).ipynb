{
 "cells": [
  {
   "cell_type": "markdown",
   "metadata": {},
   "source": [
    "# <font color = blue>경사하강법(Gradient Descent)</font>"
   ]
  },
  {
   "cell_type": "markdown",
   "metadata": {},
   "source": [
    "### 경사하강법이란"
   ]
  },
  {
   "cell_type": "markdown",
   "metadata": {},
   "source": [
    "* <font color = 'blue'>개념</font>: 목표값을 만들어 내는(오류를 최소화하는) 최적의 파라미터를 설정해 나가는 방법\n",
    "* <font color = 'blue'>목표값</font>: 분류예측에서 0이나 1을 만들어 내거나, 수치예측에서 실제 y값을 만들어내기 위함\n",
    "* <font color = 'blue'>오류</font>: 분류예측에서 0이나 1이 될 확률이나 수치예측에서 실제 y값과의 예측y값과의 차이\n",
    "* <font color = 'blue'>파라미터</font>: 기울기(slope)와 절편(intercept) = 가중치(weight)와 편의(bias)\n",
    "* <font color = 'blue'>경사</font>: 가중치와 편의를 조율했을 때 실제 분류예측값이나 수치예측값과의 차이(오차)가 변하는 크기 \n",
    "* <font color = 'blue'>하강</font>: 가중치와 편의 값을 임의의 수치에서 출발해 조금씩 높이거나 낮게 조율해 가면서 \n",
    "<br>분류예측이나 수치예측의 오류값을 <font color = 'red'>조금씩 줄여나가(낮추어;하강시켜)</font> 최소가 되도록 함 "
   ]
  },
  {
   "cell_type": "markdown",
   "metadata": {},
   "source": [
    "<img src = './../../images/gradient_descent.png'>"
   ]
  },
  {
   "cell_type": "markdown",
   "metadata": {},
   "source": [
    "* 보통 예측분석에서 데이터에서의 순간기울기(Gradient, 미분값)와 오차정도를 알 수 있으므로 <br> 기울기 방향으로 조금씩 내려간다면(Descent) 기울기가 0인 지점에 도달할 수 있다는 논리임\n",
    "* 기울기가 0이라는 것은 기울기(slope)값의 순간 변화를 주었을 때, 오차(error)의 변화가 더이상 일어나지 않거나<br> 또는 오차가 0에 도달해서 미분한 결과 0이 나타나는 경우임\n",
    "* 즉, 피처(입력/예측/독립)변수를 투입했을 때 타깃(출력/반응/종속)변수의 결과값이 실제 y값과 일치해 <br>오차가 발생하는 않도록 손실함수(Loss Fuction)를 최소화하는 것임"
   ]
  },
  {
   "cell_type": "markdown",
   "metadata": {},
   "source": [
    "<img src = './../../images/learning_rate.png'>"
   ]
  },
  {
   "cell_type": "markdown",
   "metadata": {},
   "source": [
    "* 학습률(learning rate)는 한번 학습시 업데이트되는 가중치의 크기를 조정하는데 사용됨\n",
    "* 학습률이 크면 학습을 대충 듬성듬성 하여 극값(global minimum)을 지나칠 수 있음 -> 개별 레코드의 움직임을 미세하게 발견하지 못한다. 특히 w를 보면 안에 쏙 들어가있는 최적 지점을 못 찾을 수 있음\n",
    "\n",
    "* 학습률이 작으면 학습을 너무 촘촘히 하여 학습속도가 느려지고 지역값(local minimum)에 빠지는 문제가 발생함"
   ]
  },
  {
   "cell_type": "markdown",
   "metadata": {},
   "source": [
    "* 학습률이 어느정도의 간격을 두고 학습을 할 것인가.\n",
    "* 너무 많은 데이터를 주면 듬성듬성해서 미세한 움직임을 발견하지 못한다.\n",
    "\n",
    "\n",
    "\n",
    "* 너*무 조금 넣으면 개별 레코드의 하나하나에 민감하게 반응. 순간기울기이므로 w에 화살표모양에 빠질 수 있어., \n",
    "* 기울기를 조금 낮췄을때 감소하는것으로 학습하다가 다시 조금 올라가는 것을 보고 학습을 해 그 화살표가 있는 꼭지점 부분을 최종지점으로 판단할 수 있음.\n",
    "\n",
    "\n",
    "* 너무 촘촘하면 과적합화\n",
    "* 학습률 => 오차가 더이상 최소화 되지않는 지점에서 학습을 멈춤"
   ]
  },
  {
   "cell_type": "markdown",
   "metadata": {},
   "source": [
    "# <font color = blue>단순 회귀분석에 대한 경사하강법</font>"
   ]
  },
  {
   "cell_type": "markdown",
   "metadata": {},
   "source": [
    "### 데이터 준비: 피처 x변수와 타깃 y변수\n",
    "* 공부시간(x: 피처/입력/예측/독립변수)에 따른 시험성적(y: 타깃/출력/반응/종속변수)간 관계\n",
    "<img src = './../../images/linear_study_test.png' align = 'left'>"
   ]
  },
  {
   "cell_type": "code",
   "execution_count": 1,
   "metadata": {
    "scrolled": true
   },
   "outputs": [
    {
     "data": {
      "text/plain": [
       "[(2, 81), (4, 93), (6, 91), (8, 97)]"
      ]
     },
     "execution_count": 1,
     "metadata": {},
     "output_type": "execute_result"
    }
   ],
   "source": [
    "# 직접 피처(x)와 타깃(y) 변수값 할당하는 경우\n",
    "x = [2, 4, 6, 8] # 공부시간\n",
    "y = [81, 93, 91, 97] # 시험성적\n",
    "data = list(zip(x, y))\n",
    "data"
   ]
  },
  {
   "cell_type": "code",
   "execution_count": 2,
   "metadata": {},
   "outputs": [
    {
     "name": "stdout",
     "output_type": "stream",
     "text": [
      "공부시간(x): [2, 4, 6, 8]\n",
      "시험성적(y): [81, 93, 91, 97]\n"
     ]
    }
   ],
   "source": [
    "# data 객체에 들어 있던 (피처, 타깃) 데이터조합에서 피처와 타깃 데이터를 별도로 분리해 내는 경우\n",
    "x_data = [i[0] for i in data]\n",
    "print('공부시간(x):', x_data)\n",
    "\n",
    "y_data = [j[1] for j in data]\n",
    "print('시험성적(y):', y_data)"
   ]
  },
  {
   "cell_type": "markdown",
   "metadata": {},
   "source": [
    "### 회귀예측식 준비: 임의의 기울기 a와 절편 b값 설정"
   ]
  },
  {
   "cell_type": "code",
   "execution_count": null,
   "metadata": {},
   "outputs": [],
   "source": [
    "# 텐서플로 라이브러리 로딩\n",
    "import tensorflow as tf"
   ]
  },
  {
   "cell_type": "code",
   "execution_count": 4,
   "metadata": {},
   "outputs": [
    {
     "name": "stdout",
     "output_type": "stream",
     "text": [
      "<class 'tensorflow.python.ops.variables.RefVariable'>\n",
      "<tf.Variable 'Variable:0' shape=(1,) dtype=float64_ref>\n",
      "<class 'tensorflow.python.ops.variables.RefVariable'>\n",
      "<tf.Variable 'Variable_1:0' shape=(1,) dtype=float64_ref>\n"
     ]
    }
   ],
   "source": [
    "# 기울기 a: 0 ~ 10 사이에서 1개 값을 무작위 추출\n",
    "a = tf.Variable(tf.random_uniform([1], 0, 10, dtype = tf.float64, seed = 0))\n",
    "print(type(a))\n",
    "print(a)\n",
    "\n",
    "# 절편 b: 0 ~ 100 사이에서 1개 값을 무작위 추출\n",
    "b = tf.Variable(tf.random_uniform([1], 0, 100, dtype = tf.float64, seed = 0))\n",
    "print(type(b))\n",
    "print(b)"
   ]
  },
  {
   "cell_type": "markdown",
   "metadata": {},
   "source": [
    "### 회귀예측식 설정\n",
    "* (기본 &nbsp;&nbsp;&nbsp;&nbsp;선형회귀모델로 표현) y = ax + b ==> 기울기 a(slope), &nbsp;&nbsp;절편 b(intercept)\n",
    "* (신경망 퍼셉트론모델로 표현) y = wx + b ==> 가중치 w(weight), 편향 b(bias)"
   ]
  },
  {
   "cell_type": "code",
   "execution_count": 5,
   "metadata": {
    "collapsed": true
   },
   "outputs": [],
   "source": [
    "y_pred = (a * x_data) + b"
   ]
  },
  {
   "cell_type": "markdown",
   "metadata": {},
   "source": [
    "### 손실함수 설정"
   ]
  },
  {
   "cell_type": "code",
   "execution_count": 6,
   "metadata": {
    "collapsed": true
   },
   "outputs": [],
   "source": [
    "# 평균제곱근 오차로 설정\n",
    "rmse = tf.sqrt(tf.reduce_mean(tf.square(y_data - y_pred)))\n",
    "# - 실제 y값(y_data)와 예측 y값(y_pred)간 오차를 구하고 그 평균값을 loss에 저장함"
   ]
  },
  {
   "cell_type": "markdown",
   "metadata": {},
   "source": [
    "### 학습률과 최적함수 설정"
   ]
  },
  {
   "cell_type": "code",
   "execution_count": 7,
   "metadata": {
    "collapsed": true
   },
   "outputs": [],
   "source": [
    "learning_rate = 0.1\n",
    "gradient_descent = tf.train.GradientDescentOptimizer(learning_rate).minimize(rmse)"
   ]
  },
  {
   "cell_type": "markdown",
   "metadata": {},
   "source": [
    "### 텐서플로 라이브러리를 이용한 경사하강법 실시"
   ]
  },
  {
   "cell_type": "code",
   "execution_count": 8,
   "metadata": {
    "scrolled": true
   },
   "outputs": [
    {
     "name": "stdout",
     "output_type": "stream",
     "text": [
      "Epoch:    0 ==> 기울기 a = 7.5235, y절편 b = 80.5984 ==> RMSE = 30.2139\n",
      "Epoch:  100 ==> 기울기 a = 2.2299, y절편 b = 79.4181 ==> RMSE =  2.8860\n",
      "Epoch:  200 ==> 기울기 a = 2.2601, y절편 b = 79.2379 ==> RMSE =  2.8826\n",
      "Epoch:  300 ==> 기울기 a = 2.2773, y절편 b = 79.1353 ==> RMSE =  2.8815\n",
      "Epoch:  400 ==> 기울기 a = 2.2871, y절편 b = 79.0770 ==> RMSE =  2.8811\n",
      "Epoch:  500 ==> 기울기 a = 2.2927, y절편 b = 79.0438 ==> RMSE =  2.8810\n",
      "Epoch:  600 ==> 기울기 a = 2.2958, y절편 b = 79.0249 ==> RMSE =  2.8810\n",
      "Epoch:  700 ==> 기울기 a = 2.2976, y절편 b = 79.0142 ==> RMSE =  2.8810\n",
      "Epoch:  800 ==> 기울기 a = 2.2987, y절편 b = 79.0081 ==> RMSE =  2.8810\n",
      "Epoch:  900 ==> 기울기 a = 2.2992, y절편 b = 79.0046 ==> RMSE =  2.8810\n",
      "Epoch: 1000 ==> 기울기 a = 2.2996, y절편 b = 79.0026 ==> RMSE =  2.8810\n",
      "Epoch: 1100 ==> 기울기 a = 2.2998, y절편 b = 79.0015 ==> RMSE =  2.8810\n",
      "Epoch: 1200 ==> 기울기 a = 2.2999, y절편 b = 79.0008 ==> RMSE =  2.8810\n",
      "Epoch: 1300 ==> 기울기 a = 2.2999, y절편 b = 79.0005 ==> RMSE =  2.8810\n",
      "Epoch: 1400 ==> 기울기 a = 2.3000, y절편 b = 79.0003 ==> RMSE =  2.8810\n",
      "Epoch: 1500 ==> 기울기 a = 2.3000, y절편 b = 79.0002 ==> RMSE =  2.8810\n",
      "Epoch: 1600 ==> 기울기 a = 2.3000, y절편 b = 79.0001 ==> RMSE =  2.8810\n",
      "Epoch: 1700 ==> 기울기 a = 2.3000, y절편 b = 79.0001 ==> RMSE =  2.8810\n",
      "Epoch: 1800 ==> 기울기 a = 2.3000, y절편 b = 79.0000 ==> RMSE =  2.8810\n",
      "Epoch: 1900 ==> 기울기 a = 2.3000, y절편 b = 79.0000 ==> RMSE =  2.8810\n",
      "Epoch: 2000 ==> 기울기 a = 2.3000, y절편 b = 79.0000 ==> RMSE =  2.8810\n"
     ]
    }
   ],
   "source": [
    "# 텐서플로 세션객체를 sess라는 별칭으로 실행\n",
    "with tf.Session() as sess:\n",
    "    \n",
    "    # 텐서플로 세션객체를 초기화\n",
    "    sess.run(tf.global_variables_initializer())\n",
    "    \n",
    "    # 2000번의 경사하강법 실행반복\n",
    "    for i in range(2001):\n",
    "        \n",
    "        # rmse값이 촤소화되도록 경사하강법을 지속적으로 실시\n",
    "        sess.run(gradient_descent)\n",
    "\n",
    "        # 매 100번째 경사하강법 실행결과를 출력\n",
    "        if i % 100 == 0:\n",
    "            print(\"Epoch: %4.0f ==> 기울기 a = %0.4f, y절편 b = %0.4f ==> RMSE = %7.04f\" \n",
    "                  % (i, sess.run(a), sess.run(b), sess.run(rmse)))"
   ]
  },
  {
   "cell_type": "markdown",
   "metadata": {},
   "source": [
    "# <font color = blue>다중 회귀분석에 대한 경사하강법</font>"
   ]
  },
  {
   "cell_type": "markdown",
   "metadata": {},
   "source": [
    "### 데이터 준비: 피처 x변수셋과 타깃 y변수\n",
    "* 공부시간(x1)과 과외횟수(x2): 피처/입력/예측/독립변수)에 따른 시험성적(y: 타깃/출력/반응/종속변수)간 관계\n",
    "<img src = './../../images/linear_study_lesson_test.png' align = 'left'>"
   ]
  },
  {
   "cell_type": "code",
   "execution_count": 9,
   "metadata": {
    "scrolled": true
   },
   "outputs": [
    {
     "data": {
      "text/plain": [
       "[(2, 0, 81), (4, 4, 93), (6, 2, 91), (8, 3, 97)]"
      ]
     },
     "execution_count": 9,
     "metadata": {},
     "output_type": "execute_result"
    }
   ],
   "source": [
    "# 직접 피처(x)와 타깃(y) 변수값 할당하는 경우\n",
    "x1 = [2, 4, 6, 8] # 공부시간\n",
    "x2 = [0, 4, 2, 3] # 과외횟수\n",
    "y = [81, 93, 91, 97] # 시험성적\n",
    "\n",
    "data = list(zip(x1, x2, y))\n",
    "data"
   ]
  },
  {
   "cell_type": "code",
   "execution_count": 10,
   "metadata": {},
   "outputs": [
    {
     "name": "stdout",
     "output_type": "stream",
     "text": [
      "공부시간(x1): [2, 4, 6, 8]\n",
      "과외횟수(x2): [0, 4, 2, 3]\n",
      "시험성적(y): [81, 93, 91, 97]\n"
     ]
    }
   ],
   "source": [
    "# data 객체에 들어 있던 (피처1, 피처2, 타깃) 데이터조합에서 피처셋과 타깃 데이터를 별도로 분리해내는 경우\n",
    "x1_data = [i[0] for i in data]\n",
    "print('공부시간(x1):', x1_data)\n",
    "\n",
    "x2_data = [i[1] for i in data]\n",
    "print('과외횟수(x2):', x2_data)\n",
    "\n",
    "y_data = [j[2] for j in data]\n",
    "print('시험성적(y):', y_data)"
   ]
  },
  {
   "cell_type": "markdown",
   "metadata": {},
   "source": [
    "### 회귀예측식 준비: 임의의 기울기 a와 절편 b값 설정"
   ]
  },
  {
   "cell_type": "code",
   "execution_count": 11,
   "metadata": {
    "collapsed": true
   },
   "outputs": [],
   "source": [
    "# 텐서플로 라이브러리 로딩\n",
    "import tensorflow as tf"
   ]
  },
  {
   "cell_type": "code",
   "execution_count": 12,
   "metadata": {},
   "outputs": [
    {
     "name": "stdout",
     "output_type": "stream",
     "text": [
      "<class 'tensorflow.python.ops.variables.RefVariable'>\n",
      "<tf.Variable 'Variable_2:0' shape=(1,) dtype=float64_ref>\n",
      "<class 'tensorflow.python.ops.variables.RefVariable'>\n",
      "<tf.Variable 'Variable_3:0' shape=(1,) dtype=float64_ref>\n",
      "<class 'tensorflow.python.ops.variables.RefVariable'>\n",
      "<tf.Variable 'Variable_4:0' shape=(1,) dtype=float64_ref>\n"
     ]
    }
   ],
   "source": [
    "# 피처의 기울기 a: 0 ~ 10 사이에서 1개 값을 무작위 추출\n",
    "a1 = tf.Variable(tf.random_uniform([1], 0, 10, dtype = tf.float64, seed = 0))\n",
    "print(type(a1))\n",
    "print(a1)\n",
    "\n",
    "a2 = tf.Variable(tf.random_uniform([1], 0, 10, dtype = tf.float64, seed = 0))\n",
    "print(type(a2))\n",
    "print(a2)\n",
    "\n",
    "# 절편 b: 0 ~ 100 사이에서 1개 값을 무작위 추출\n",
    "b = tf.Variable(tf.random_uniform([1], dtype = tf.float64, seed = 0))\n",
    "# b = tf.Variable(tf.random_uniform([1], 0, 100, dtype = tf.float64, seed = 0))\n",
    "print(type(b))\n",
    "print(b)"
   ]
  },
  {
   "cell_type": "markdown",
   "metadata": {},
   "source": [
    "### 회귀예측식 설정\n",
    "* (기본   &nbsp;&nbsp;&nbsp;&nbsp;선형회귀모델로 표현) y = a1x1 + a2x2 + b ==> &nbsp;기울기 a(slope), &nbsp;&nbsp;절편 b(intercept)\n",
    "* (신경망 퍼셉트론모델로 표현) y = w1x1 + w2x2 + b ==> 가중치 w(weight), 편향 b(bias)"
   ]
  },
  {
   "cell_type": "code",
   "execution_count": 13,
   "metadata": {
    "collapsed": true
   },
   "outputs": [],
   "source": [
    "y_pred = (a1 * x1_data) + (a2 * x2_data) + b"
   ]
  },
  {
   "cell_type": "markdown",
   "metadata": {},
   "source": [
    "### 손실함수 설정"
   ]
  },
  {
   "cell_type": "code",
   "execution_count": 14,
   "metadata": {
    "collapsed": true
   },
   "outputs": [],
   "source": [
    "# 평균제곱근 오차로 설정\n",
    "rmse = tf.sqrt(tf.reduce_mean(tf.square(y_data - y_pred)))\n",
    "# - 실제 y값(y_data)와 예측 y값(y_pred)간 오차를 구하고 그 평균값을 loss에 저장함"
   ]
  },
  {
   "cell_type": "markdown",
   "metadata": {},
   "source": [
    "### 학습률과 최적함수 설정"
   ]
  },
  {
   "cell_type": "code",
   "execution_count": 15,
   "metadata": {
    "collapsed": true
   },
   "outputs": [],
   "source": [
    "# 전체 데이터셋 중에서 어느정도 비율로 부분샘플을 입력해 파라미터를 구할 것인지 설정\n",
    "learning_rate = 0.1\n",
    "\n",
    "# 파라미터(가중치와 편향)를 조율해 가면서 실제 y값과의 오차를 어떻게 줄여 나갈지 설정\n",
    "gradient_descent = tf.train.GradientDescentOptimizer(learning_rate).minimize(rmse)"
   ]
  },
  {
   "cell_type": "markdown",
   "metadata": {},
   "source": [
    "### 텐서플로 라이브러리를 이용한 경사하강법 실시"
   ]
  },
  {
   "cell_type": "code",
   "execution_count": 16,
   "metadata": {},
   "outputs": [
    {
     "name": "stdout",
     "output_type": "stream",
     "text": [
      "Epoch:    0 ==> 기울기 a1 =  8.3716, 기울기 a2 =  8.1923, y절편 b =  0.8904 ==> RMSE = 36.2512\n",
      "Epoch:  100 ==> 기울기 a1 = 11.1101, 기울기 a2 =  8.0616, y절편 b =  5.2553 ==> RMSE = 29.3705\n",
      "Epoch:  200 ==> 기울기 a1 = 10.9010, 기울기 a2 =  7.0607, y절편 b =  9.1923 ==> RMSE = 27.7149\n",
      "Epoch:  300 ==> 기울기 a1 = 10.5645, 기울기 a2 =  6.3396, y절편 b = 13.1316 ==> RMSE = 26.0993\n",
      "Epoch:  400 ==> 기울기 a1 = 10.1410, 기울기 a2 =  5.8102, y절편 b = 17.0709 ==> RMSE = 24.5014\n",
      "Epoch:  500 ==> 기울기 a1 =  9.6598, 기울기 a2 =  5.4085, y절편 b = 21.0094 ==> RMSE = 22.9108\n",
      "Epoch:  600 ==> 기울기 a1 =  9.1412, 기울기 a2 =  5.0895, y절편 b = 24.9470 ==> RMSE = 21.3232\n",
      "Epoch:  700 ==> 기울기 a1 =  8.5992, 기울기 a2 =  4.8224, y절편 b = 28.8840 ==> RMSE = 19.7367\n",
      "Epoch:  800 ==> 기울기 a1 =  8.0430, 기울기 a2 =  4.5866, y절편 b = 32.8205 ==> RMSE = 18.1506\n",
      "Epoch:  900 ==> 기울기 a1 =  7.4786, 기울기 a2 =  4.3691, y절편 b = 36.7566 ==> RMSE = 16.5647\n",
      "Epoch: 1000 ==> 기울기 a1 =  6.9097, 기울기 a2 =  4.1616, y절편 b = 40.6925 ==> RMSE = 14.9789\n",
      "Epoch: 1100 ==> 기울기 a1 =  6.3384, 기울기 a2 =  3.9594, y절편 b = 44.6282 ==> RMSE = 13.3932\n",
      "Epoch: 1200 ==> 기울기 a1 =  5.7660, 기울기 a2 =  3.7597, y절편 b = 48.5637 ==> RMSE = 11.8076\n",
      "Epoch: 1300 ==> 기울기 a1 =  5.1932, 기울기 a2 =  3.5612, y절편 b = 52.4989 ==> RMSE = 10.2223\n",
      "Epoch: 1400 ==> 기울기 a1 =  4.6202, 기울기 a2 =  3.3631, y절편 b = 56.4336 ==> RMSE =  8.6373\n",
      "Epoch: 1500 ==> 기울기 a1 =  4.0473, 기울기 a2 =  3.1652, y절편 b = 60.3677 ==> RMSE =  7.0530\n",
      "Epoch: 1600 ==> 기울기 a1 =  3.4745, 기울기 a2 =  2.9675, y절편 b = 64.3003 ==> RMSE =  5.4696\n",
      "Epoch: 1700 ==> 기울기 a1 =  2.9021, 기울기 a2 =  2.7698, y절편 b = 68.2301 ==> RMSE =  3.8887\n",
      "Epoch: 1800 ==> 기울기 a1 =  2.3311, 기울기 a2 =  2.5727, y절편 b = 72.1508 ==> RMSE =  2.3150\n",
      "Epoch: 1900 ==> 기울기 a1 =  2.0305, 기울기 a2 =  2.4952, y절편 b = 75.9199 ==> RMSE =  1.8363\n",
      "Epoch: 2000 ==> 기울기 a1 =  1.8862, 기울기 a2 =  2.4478, y절편 b = 77.0712 ==> RMSE =  1.8367\n"
     ]
    }
   ],
   "source": [
    "# 텐서플로 세션객체를 sess라는 별칭으로 실행\n",
    "with tf.Session() as sess:\n",
    "    \n",
    "    # 텐서플로 세션객체를 초기화\n",
    "    sess.run(tf.global_variables_initializer())\n",
    "    \n",
    "    # 2000번의 경사하강법 실행반복\n",
    "    for i in range(2001):\n",
    "        \n",
    "        # rmse값이 촤소화되도록 경사하강법을 지속적으로 실시\n",
    "        sess.run(gradient_descent)\n",
    "\n",
    "        # 매 100번째 경사하강법 실행결과를 출력\n",
    "        if i % 100 == 0:\n",
    "            print(\"Epoch: %4.0f ==> 기울기 a1 = %7.4f, 기울기 a2 = %7.4f, y절편 b = %7.4f ==> RMSE = %7.04f\" \n",
    "                  % (i, sess.run(a1), sess.run(a2), sess.run(b), sess.run(rmse)))"
   ]
  },
  {
   "cell_type": "markdown",
   "metadata": {},
   "source": [
    "### 학습률을 0.1보다 크게 또는 작게 설정해 보기\n",
    "* 텐서플로 라이브러리를 딥러닝 엔진으로 사용하는 케라스에서는 학습률을 자동으로 최적화 해줌\n",
    "* 학습률: 0.001 ==> RMSE =  1.9866\n",
    "* 학습률: 0.010 ==> RMSE =  0.2673\n",
    "* 학습률: 0.100 ==> RMSE =  1.8367\n",
    "* 학습률: 1.000 ==> RMSE = 17.8446\n",
    "* 학습률: 10.00 ==> RMSE = 309.1452"
   ]
  },
  {
   "cell_type": "markdown",
   "metadata": {},
   "source": [
    "# End of Source"
   ]
  }
 ],
 "metadata": {
  "kernelspec": {
   "display_name": "Python 3",
   "language": "python",
   "name": "python3"
  },
  "language_info": {
   "codemirror_mode": {
    "name": "ipython",
    "version": 3
   },
   "file_extension": ".py",
   "mimetype": "text/x-python",
   "name": "python",
   "nbconvert_exporter": "python",
   "pygments_lexer": "ipython3",
   "version": "3.7.7"
  }
 },
 "nbformat": 4,
 "nbformat_minor": 2
}
